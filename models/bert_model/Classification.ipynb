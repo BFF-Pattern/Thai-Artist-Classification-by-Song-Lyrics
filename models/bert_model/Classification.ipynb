{
 "cells": [
  {
   "cell_type": "code",
   "execution_count": null,
   "metadata": {},
   "outputs": [],
   "source": [
    "%%capture\n",
    "!git clone https://github.com/nakhunchumpolsathien/ThaiSum.git"
   ]
  },
  {
   "cell_type": "code",
   "execution_count": null,
   "metadata": {},
   "outputs": [],
   "source": [
    "%%capture \n",
    "!pip install torch==1.1.0 torchvision==0.3.0\n",
    "!pip install -q pyrouge\n",
    "!pip install -q pytorch_transformers\n",
    "!pip install -q tensorboardX\n",
    "!pip install -q pyrouge\n",
    "!pip install pytorch_pretrained_bert\n",
    "!pyrouge_set_rouge_path \"/content/ThaiSum/BertSum/ROUGE-1.5.5\"\n",
    "!apt update\n",
    "!apt install -q libxml-parser-perl\n",
    "%cd \"/content/ThaiSum/BertSum/ROUGE-1.5.5/data\"\n",
    "!perl WordNet-2.0-Exceptions/buildExeptionDB.pl ./WordNet-2.0-Exceptions ./smart_common_words.txt ./WordNet-2.0.exc.db"
   ]
  }
 ],
 "metadata": {
  "language_info": {
   "name": "python"
  },
  "orig_nbformat": 4
 },
 "nbformat": 4,
 "nbformat_minor": 2
}
