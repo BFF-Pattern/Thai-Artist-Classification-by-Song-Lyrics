{
 "cells": [
  {
   "cell_type": "code",
   "execution_count": 240,
   "metadata": {},
   "outputs": [],
   "source": [
    "# !pip install plotly\n",
    "# !pip install pythainlp\n",
    "# !pip install stop_words\n",
    "# !pip install nltk"
   ]
  },
  {
   "cell_type": "markdown",
   "metadata": {},
   "source": [
    "### Import Library"
   ]
  },
  {
   "cell_type": "code",
   "execution_count": 241,
   "metadata": {},
   "outputs": [
    {
     "name": "stderr",
     "output_type": "stream",
     "text": [
      "[nltk_data] Downloading package words to C:\\Users\\FACT-\n",
      "[nltk_data]     PC\\AppData\\Roaming\\nltk_data...\n",
      "[nltk_data]   Package words is already up-to-date!\n",
      "[nltk_data] Downloading package omw-1.4 to C:\\Users\\FACT-\n",
      "[nltk_data]     PC\\AppData\\Roaming\\nltk_data...\n",
      "[nltk_data]   Package omw-1.4 is already up-to-date!\n"
     ]
    },
    {
     "data": {
      "text/plain": [
       "True"
      ]
     },
     "execution_count": 241,
     "metadata": {},
     "output_type": "execute_result"
    }
   ],
   "source": [
    "# import libraries\n",
    "import pandas as pd\n",
    "import plotly.express as px\n",
    "import re\n",
    "import pickle\n",
    "import nltk\n",
    "nltk.download('words')\n",
    "nltk.download('omw-1.4')"
   ]
  },
  {
   "cell_type": "markdown",
   "metadata": {},
   "source": [
    "### Import CSV"
   ]
  },
  {
   "cell_type": "code",
   "execution_count": 242,
   "metadata": {},
   "outputs": [],
   "source": [
    "# import glob, os\n",
    "\n",
    "# all_files = glob.glob(\"../../data_lyrics/thaisongs/*.csv\")\n",
    "\n",
    "# li = []\n",
    "\n",
    "# for filename in all_files:\n",
    "#     song_df = pd.read_csv(filename, index_col=None, header=0)\n",
    "#     li.append(song_df)\n",
    "\n",
    "# song_df = pd.concat(li, axis=0, ignore_index=True)"
   ]
  },
  {
   "cell_type": "code",
   "execution_count": 243,
   "metadata": {},
   "outputs": [
    {
     "data": {
      "text/plain": [
       "artist       object\n",
       "song_name    object\n",
       "href         object\n",
       "lyric        object\n",
       "lines         int64\n",
       "dtype: object"
      ]
     },
     "execution_count": 243,
     "metadata": {},
     "output_type": "execute_result"
    }
   ],
   "source": [
    "song_df = pd.read_csv('../../data_lyrics/35_song_per_artist.csv')\n",
    "song_df.dtypes"
   ]
  },
  {
   "cell_type": "markdown",
   "metadata": {},
   "source": [
    "## Data Preparation"
   ]
  },
  {
   "cell_type": "markdown",
   "metadata": {},
   "source": [
    "### Clean Data"
   ]
  },
  {
   "cell_type": "code",
   "execution_count": 244,
   "metadata": {},
   "outputs": [
    {
     "name": "stdout",
     "output_type": "stream",
     "text": [
      "Number of round brackets: 0\n",
      "Number of square brackets: 0\n",
      "Number of curly brackets: 0\n",
      "Number of dot: 0\n",
      "Number of star: 0\n",
      "Number of semi colon: 0\n",
      "Number of colon: 0\n",
      "Number of exclamation mark: 0\n",
      "Number of slash: 0\n",
      "Number of backslash: 0\n",
      "Number of question mark: 0\n",
      "Number of hashtag: 0\n",
      "Number of percent: 0\n",
      "Number of plus: 0\n",
      "Number of minus: 0\n",
      "Number of comma: 0\n",
      "Number of single quote: 0\n",
      "Number of double quote: 0\n",
      "Number of dollar sign: 0\n",
      "Number of ampersand: 0\n",
      "Number of underscore: 0\n"
     ]
    }
   ],
   "source": [
    "# remove !@#$%^&*()_+\n",
    "lyric_in_round_brackets = sum(list(song_df['lyric'].map(lambda s: re.findall(r'\\((.*?)\\)',s))), [])\n",
    "lyric_in_square_brackets = sum(list(song_df['lyric'].map(lambda s: re.findall(r'\\[(.*?)\\]',s))), [])\n",
    "lyric_in_curly_brackets = sum(list(song_df['lyric'].map(lambda s: re.findall(r'\\{(.*?)\\}',s))), [])\n",
    "dot = sum(list(song_df['lyric'].map(lambda s: re.findall('\\.',s))), [])\n",
    "star = sum(list(song_df['lyric'].map(lambda s: re.findall('\\*',s))), [])\n",
    "semi_colon = sum(list(song_df['lyric'].map(lambda s: re.findall('\\;',s))), [])\n",
    "colon = sum(list(song_df['lyric'].map(lambda s: re.findall('\\:',s))), [])\n",
    "exclam_mark = sum(list(song_df['lyric'].map(lambda s: re.findall(r\"\\!\",s))), [])\n",
    "slash = sum(list(song_df['lyric'].map(lambda s: re.findall(r\"\\/\",s))), [])\n",
    "backslash = sum(list(song_df['lyric'].map(lambda s: re.findall(r\"\\\\\",s))), [])\n",
    "question_mark = sum(list(song_df['lyric'].map(lambda s: re.findall(r\"\\?\",s))), [])\n",
    "hashtag = sum(list(song_df['lyric'].map(lambda s: re.findall(r\"\\#\",s))), [])\n",
    "percent = sum(list(song_df['lyric'].map(lambda s: re.findall(r\"\\%\",s))), [])\n",
    "plus = sum(list(song_df['lyric'].map(lambda s: re.findall(r\"\\+\",s))), [])\n",
    "minus = sum(list(song_df['lyric'].map(lambda s: re.findall(r\"\\-\",s))), [])\n",
    "comma = sum(list(song_df['lyric'].map(lambda s: re.findall(r\"\\,\",s))), [])\n",
    "sg_quote = sum(list(song_df['lyric'].map(lambda s: re.findall(r\"\\'\",s))), [])\n",
    "db_quote = sum(list(song_df['lyric'].map(lambda s: re.findall(r\"\\\"\",s))), [])\n",
    "dollar_sign = sum(list(song_df['lyric'].map(lambda s: re.findall(r\"\\$\",s))), [])\n",
    "ampersand = sum(list(song_df['lyric'].map(lambda s: re.findall(r\"\\&\",s))), [])\n",
    "underscore = sum(list(song_df['lyric'].map(lambda s: re.findall(r\"\\_\",s))), [])\n",
    "\n",
    "\n",
    "song_df['lyric'] = song_df['lyric'].map(lambda s: re.sub(r'\\((.*?)\\)', '', s))\n",
    "song_df['lyric'] = song_df['lyric'].map(lambda s: re.sub(r'\\[(.*?)\\]', '', s))\n",
    "song_df['lyric'] = song_df['lyric'].map(lambda s: re.sub(r'\\{(.*?)\\}', '', s))\n",
    "song_df['lyric'] = song_df['lyric'].map(lambda s: re.sub(r'\\.', '', s))\n",
    "song_df['lyric'] = song_df['lyric'].map(lambda s: re.sub(r'\\*', '', s))\n",
    "song_df['lyric'] = song_df['lyric'].map(lambda s: re.sub(r'\\;', '', s))\n",
    "song_df['lyric'] = song_df['lyric'].map(lambda s: re.sub(r'\\:', '', s))\n",
    "song_df['lyric'] = song_df['lyric'].map(lambda s: re.sub(r\"\\!\", '', s))\n",
    "song_df['lyric'] = song_df['lyric'].map(lambda s: re.sub(r\"\\/\", '', s))\n",
    "song_df['lyric'] = song_df['lyric'].map(lambda s: re.sub(r'\\\\', '', s))\n",
    "song_df['lyric'] = song_df['lyric'].map(lambda s: re.sub(r\"\\?\", '', s))\n",
    "song_df['lyric'] = song_df['lyric'].map(lambda s: re.sub(r\"\\#\", '', s))\n",
    "song_df['lyric'] = song_df['lyric'].map(lambda s: re.sub(r\"\\%\", '', s))\n",
    "song_df['lyric'] = song_df['lyric'].map(lambda s: re.sub(r\"\\+\", '', s))\n",
    "song_df['lyric'] = song_df['lyric'].map(lambda s: re.sub(r\"\\-\", '', s))\n",
    "song_df['lyric'] = song_df['lyric'].map(lambda s: re.sub(r\"\\,\", '', s))\n",
    "song_df['lyric'] = song_df['lyric'].map(lambda s: re.sub(r\"\\'\", '', s))\n",
    "song_df['lyric'] = song_df['lyric'].map(lambda s: re.sub(r'\\\"', '', s))\n",
    "song_df['lyric'] = song_df['lyric'].map(lambda s: re.sub(r'\\$', '', s))\n",
    "song_df['lyric'] = song_df['lyric'].map(lambda s: re.sub(r'\\&', '', s))\n",
    "song_df['lyric'] = song_df['lyric'].map(lambda s: re.sub(r'\\(|\\)', '', s))\n",
    "song_df['lyric'] = song_df['lyric'].map(lambda s: re.sub(r'\\_', '', s))\n",
    "\n",
    "\n",
    "print('Number of round brackets: {}'.format(len(lyric_in_round_brackets)))\n",
    "print('Number of square brackets: {}'.format(len(lyric_in_square_brackets)))\n",
    "print('Number of curly brackets: {}'.format(len(lyric_in_curly_brackets)))\n",
    "print('Number of dot: {}'.format(len(dot)))\n",
    "print('Number of star: {}'.format(len(star)))\n",
    "print('Number of semi colon: {}'.format(len(semi_colon)))\n",
    "print('Number of colon: {}'.format(len(colon)))\n",
    "print('Number of exclamation mark: {}'.format(len(exclam_mark)))\n",
    "print('Number of slash: {}'.format(len(slash)))\n",
    "print('Number of backslash: {}'.format(len(slashR)))\n",
    "print('Number of question mark: {}'.format(len(question_mark)))\n",
    "print('Number of hashtag: {}'.format(len(hashtag)))\n",
    "print('Number of percent: {}'.format(len(percent)))\n",
    "print('Number of plus: {}'.format(len(plus)))\n",
    "print('Number of minus: {}'.format(len(minus)))\n",
    "print('Number of comma: {}'.format(len(comma)))\n",
    "print('Number of single quote: {}'.format(len(sg_quote)))\n",
    "print('Number of double quote: {}'.format(len(db_quote)))\n",
    "print('Number of dollar sign: {}'.format(len(dollar_sign)))\n",
    "print('Number of ampersand: {}'.format(len(ampersand)))\n",
    "print('Number of underscore: {}'.format(len(underscore)))"
   ]
  },
  {
   "cell_type": "code",
   "execution_count": 245,
   "metadata": {},
   "outputs": [
    {
     "data": {
      "text/html": [
       "<div>\n",
       "<style scoped>\n",
       "    .dataframe tbody tr th:only-of-type {\n",
       "        vertical-align: middle;\n",
       "    }\n",
       "\n",
       "    .dataframe tbody tr th {\n",
       "        vertical-align: top;\n",
       "    }\n",
       "\n",
       "    .dataframe thead th {\n",
       "        text-align: right;\n",
       "    }\n",
       "</style>\n",
       "<table border=\"1\" class=\"dataframe\">\n",
       "  <thead>\n",
       "    <tr style=\"text-align: right;\">\n",
       "      <th></th>\n",
       "      <th>artist</th>\n",
       "      <th>song_name</th>\n",
       "      <th>href</th>\n",
       "      <th>lyric</th>\n",
       "      <th>lines</th>\n",
       "    </tr>\n",
       "  </thead>\n",
       "  <tbody>\n",
       "    <tr>\n",
       "      <th>0</th>\n",
       "      <td>bird_thongchai</td>\n",
       "      <td>Okay</td>\n",
       "      <td>/music/thailyric/13588</td>\n",
       "      <td>ไม่ว่าจะเป็นยังไง Baby its Okay\\rไม่ว่าจะเกิดอ...</td>\n",
       "      <td>57</td>\n",
       "    </tr>\n",
       "    <tr>\n",
       "      <th>1</th>\n",
       "      <td>bird_thongchai</td>\n",
       "      <td>กว่าจักรวาล</td>\n",
       "      <td>/music/thailyric/13978</td>\n",
       "      <td>จะยอมนั่งจรวด ไปตรวจดาวอังคาร\\rหากว่าที่แห่งนั...</td>\n",
       "      <td>31</td>\n",
       "    </tr>\n",
       "    <tr>\n",
       "      <th>2</th>\n",
       "      <td>bird_thongchai</td>\n",
       "      <td>กำแพง</td>\n",
       "      <td>/music/thailyric/14111</td>\n",
       "      <td>ถ้าเคยพบเจอ กำแพงที่ดูทั้งใหญ่และสูงชัน\\rเธอรู...</td>\n",
       "      <td>39</td>\n",
       "    </tr>\n",
       "    <tr>\n",
       "      <th>3</th>\n",
       "      <td>bird_thongchai</td>\n",
       "      <td>ชีวิตเดี่ยว</td>\n",
       "      <td>/music/thailyric/13796</td>\n",
       "      <td>อยู่ตรงนี้แค่เพียงลำพัง\\rกับความเหงาที่เป็นดั่...</td>\n",
       "      <td>50</td>\n",
       "    </tr>\n",
       "    <tr>\n",
       "      <th>4</th>\n",
       "      <td>bird_thongchai</td>\n",
       "      <td>ผู้ต้องหา</td>\n",
       "      <td>/music/thailyric/13825</td>\n",
       "      <td>แค่ตัวคนเดียวไม่ตายล่ะมั้ง\\rถามใจกี่ครั้งก็ยัง...</td>\n",
       "      <td>65</td>\n",
       "    </tr>\n",
       "    <tr>\n",
       "      <th>...</th>\n",
       "      <td>...</td>\n",
       "      <td>...</td>\n",
       "      <td>...</td>\n",
       "      <td>...</td>\n",
       "      <td>...</td>\n",
       "    </tr>\n",
       "    <tr>\n",
       "      <th>2235</th>\n",
       "      <td>gavin_d</td>\n",
       "      <td>พ่อตาครับ</td>\n",
       "      <td>/music/thailyric/17862</td>\n",
       "      <td>พ่อตาผมโคตรโหด ผมไม่เคยเจอใครที่หนวดเยอะขนาดนี...</td>\n",
       "      <td>48</td>\n",
       "    </tr>\n",
       "    <tr>\n",
       "      <th>2236</th>\n",
       "      <td>gavin_d</td>\n",
       "      <td>ไม่หวังให้ตอบ (No Reply)</td>\n",
       "      <td>/music/thailyric/13101</td>\n",
       "      <td>ฉันไม่ได้ตั้งใจที่จะส่งไปหาเธอ\\rหน้าจอมันเบลอเ...</td>\n",
       "      <td>60</td>\n",
       "    </tr>\n",
       "    <tr>\n",
       "      <th>2237</th>\n",
       "      <td>gavin_d</td>\n",
       "      <td>ยิ่งลืมยิ่งคิดถึง</td>\n",
       "      <td>/music/thailyric/20476</td>\n",
       "      <td>ทุกครั้งที่ฉันนะคิดจะลืม\\rมันคือเวลาที่คิดถึงม...</td>\n",
       "      <td>58</td>\n",
       "    </tr>\n",
       "    <tr>\n",
       "      <th>2238</th>\n",
       "      <td>gavin_d</td>\n",
       "      <td>รัก?</td>\n",
       "      <td>/music/thailyric/14276</td>\n",
       "      <td>ไม่เป็นไรใช่ไหม\\rนี่คือคำถาม หรือความห่วงใย\\rถ...</td>\n",
       "      <td>98</td>\n",
       "    </tr>\n",
       "    <tr>\n",
       "      <th>2239</th>\n",
       "      <td>gavin_d</td>\n",
       "      <td>รักได้ป่าว</td>\n",
       "      <td>/music/thailyric/17338</td>\n",
       "      <td>ไม่เคยมีใครน่ารักเท่ากับเธอ\\rเจอกี่ครั้งก็ยังล...</td>\n",
       "      <td>76</td>\n",
       "    </tr>\n",
       "  </tbody>\n",
       "</table>\n",
       "<p>2240 rows × 5 columns</p>\n",
       "</div>"
      ],
      "text/plain": [
       "              artist                 song_name                    href  \\\n",
       "0     bird_thongchai                      Okay  /music/thailyric/13588   \n",
       "1     bird_thongchai               กว่าจักรวาล  /music/thailyric/13978   \n",
       "2     bird_thongchai                     กำแพง  /music/thailyric/14111   \n",
       "3     bird_thongchai               ชีวิตเดี่ยว  /music/thailyric/13796   \n",
       "4     bird_thongchai                 ผู้ต้องหา  /music/thailyric/13825   \n",
       "...              ...                       ...                     ...   \n",
       "2235         gavin_d                 พ่อตาครับ  /music/thailyric/17862   \n",
       "2236         gavin_d  ไม่หวังให้ตอบ (No Reply)  /music/thailyric/13101   \n",
       "2237         gavin_d         ยิ่งลืมยิ่งคิดถึง  /music/thailyric/20476   \n",
       "2238         gavin_d                      รัก?  /music/thailyric/14276   \n",
       "2239         gavin_d                รักได้ป่าว  /music/thailyric/17338   \n",
       "\n",
       "                                                  lyric  lines  \n",
       "0     ไม่ว่าจะเป็นยังไง Baby its Okay\\rไม่ว่าจะเกิดอ...     57  \n",
       "1     จะยอมนั่งจรวด ไปตรวจดาวอังคาร\\rหากว่าที่แห่งนั...     31  \n",
       "2     ถ้าเคยพบเจอ กำแพงที่ดูทั้งใหญ่และสูงชัน\\rเธอรู...     39  \n",
       "3     อยู่ตรงนี้แค่เพียงลำพัง\\rกับความเหงาที่เป็นดั่...     50  \n",
       "4     แค่ตัวคนเดียวไม่ตายล่ะมั้ง\\rถามใจกี่ครั้งก็ยัง...     65  \n",
       "...                                                 ...    ...  \n",
       "2235  พ่อตาผมโคตรโหด ผมไม่เคยเจอใครที่หนวดเยอะขนาดนี...     48  \n",
       "2236  ฉันไม่ได้ตั้งใจที่จะส่งไปหาเธอ\\rหน้าจอมันเบลอเ...     60  \n",
       "2237  ทุกครั้งที่ฉันนะคิดจะลืม\\rมันคือเวลาที่คิดถึงม...     58  \n",
       "2238  ไม่เป็นไรใช่ไหม\\rนี่คือคำถาม หรือความห่วงใย\\rถ...     98  \n",
       "2239  ไม่เคยมีใครน่ารักเท่ากับเธอ\\rเจอกี่ครั้งก็ยังล...     76  \n",
       "\n",
       "[2240 rows x 5 columns]"
      ]
     },
     "execution_count": 245,
     "metadata": {},
     "output_type": "execute_result"
    }
   ],
   "source": [
    "song_df"
   ]
  },
  {
   "cell_type": "code",
   "execution_count": 246,
   "metadata": {},
   "outputs": [],
   "source": [
    "# count number of lines\n",
    "song_df['lines'] = song_df['lyric'].map(lambda t: len(re.findall(r'\\r', t)))"
   ]
  },
  {
   "cell_type": "code",
   "execution_count": 247,
   "metadata": {},
   "outputs": [],
   "source": [
    "# # remove line breaks\n",
    "# song_df['lyric'] = song_df['lyric'].map(lambda s: re.sub(r' \\r|\\r', '', s))"
   ]
  },
  {
   "cell_type": "markdown",
   "metadata": {},
   "source": [
    "### Tokenise"
   ]
  },
  {
   "cell_type": "code",
   "execution_count": 248,
   "metadata": {},
   "outputs": [],
   "source": [
    "import pythainlp\n",
    "from pythainlp import word_tokenize\n",
    "from pythainlp.corpus.common import thai_stopwords\n",
    "from pythainlp.corpus import wordnet\n",
    "from nltk.stem.porter import PorterStemmer\n",
    "from nltk.corpus import words\n",
    "from stop_words import get_stop_words\n",
    "# from pythainlp.ulmfit import process_thai"
   ]
  },
  {
   "cell_type": "code",
   "execution_count": 249,
   "metadata": {},
   "outputs": [],
   "source": [
    "th_stop = tuple(thai_stopwords())\n",
    "en_stop = tuple(get_stop_words('en'))\n",
    "p_stemmer = PorterStemmer()"
   ]
  },
  {
   "cell_type": "code",
   "execution_count": 250,
   "metadata": {},
   "outputs": [],
   "source": [
    "def split_word(text):\n",
    "\n",
    "    tokens = word_tokenize(text,engine='newmm')\n",
    "    \n",
    "    # Remove stop words ภาษาไทย และภาษาอังกฤษ\n",
    "    #tokens = [i for i in tokens if not i in th_stop and not i in en_stop]\n",
    "    \n",
    "    # หารากศัพท์ภาษาไทย และภาษาอังกฤษ\n",
    "    # English\n",
    "    tokens = [p_stemmer.stem(i) for i in tokens]\n",
    "    \n",
    "    # Thai\n",
    "    # tokens_temp=[]\n",
    "    # for i in tokens:\n",
    "    #     w_syn = wordnet.synsets(i)\n",
    "    #     if (len(w_syn)>0) and (len(w_syn[0].lemma_names('tha'))>0):\n",
    "    #         tokens_temp.append(w_syn[0].lemma_names('tha')[0])\n",
    "    #     else:\n",
    "    #         tokens_temp.append(i)\n",
    "    \n",
    "    # tokens = tokens_temp\n",
    "    \n",
    "    # ลบตัวเลข\n",
    "    tokens = [i for i in tokens if not i.isnumeric()]\n",
    "    \n",
    "    # ลบช่องว่าง\n",
    "    tokens = [i for i in tokens if not ' ' in i]\n",
    "\n",
    "    return tokens"
   ]
  },
  {
   "cell_type": "code",
   "execution_count": 251,
   "metadata": {},
   "outputs": [],
   "source": [
    "song_df['words'] = song_df['lyric'].map(lambda s: re.sub(r' \\r|\\r', '', s)).map(lambda s: split_word(s))\n",
    "\n",
    "# This function may take longer than 2 minutes."
   ]
  },
  {
   "cell_type": "code",
   "execution_count": 252,
   "metadata": {},
   "outputs": [
    {
     "data": {
      "text/html": [
       "<div>\n",
       "<style scoped>\n",
       "    .dataframe tbody tr th:only-of-type {\n",
       "        vertical-align: middle;\n",
       "    }\n",
       "\n",
       "    .dataframe tbody tr th {\n",
       "        vertical-align: top;\n",
       "    }\n",
       "\n",
       "    .dataframe thead th {\n",
       "        text-align: right;\n",
       "    }\n",
       "</style>\n",
       "<table border=\"1\" class=\"dataframe\">\n",
       "  <thead>\n",
       "    <tr style=\"text-align: right;\">\n",
       "      <th></th>\n",
       "      <th>lyric</th>\n",
       "      <th>words</th>\n",
       "    </tr>\n",
       "  </thead>\n",
       "  <tbody>\n",
       "    <tr>\n",
       "      <th>2235</th>\n",
       "      <td>พ่อตาผมโคตรโหด ผมไม่เคยเจอใครที่หนวดเยอะขนาดนี...</td>\n",
       "      <td>[พ่อตา, ผม, โคตร, โหด, ผม, ไม่, เคย, เจอ, ใคร,...</td>\n",
       "    </tr>\n",
       "    <tr>\n",
       "      <th>2236</th>\n",
       "      <td>ฉันไม่ได้ตั้งใจที่จะส่งไปหาเธอ\\rหน้าจอมันเบลอเ...</td>\n",
       "      <td>[ฉัน, ไม่, ได้, ตั้งใจ, ที่จะ, ส่ง, ไปหา, เธอ,...</td>\n",
       "    </tr>\n",
       "    <tr>\n",
       "      <th>2237</th>\n",
       "      <td>ทุกครั้งที่ฉันนะคิดจะลืม\\rมันคือเวลาที่คิดถึงม...</td>\n",
       "      <td>[ทุกครั้งที่, ฉัน, นะ, คิด, จะ, ลืม, มัน, คือ,...</td>\n",
       "    </tr>\n",
       "    <tr>\n",
       "      <th>2238</th>\n",
       "      <td>ไม่เป็นไรใช่ไหม\\rนี่คือคำถาม หรือความห่วงใย\\rถ...</td>\n",
       "      <td>[ไม่เป็นไร, ใช่ไหม, นี่, คือ, คำถาม, หรือ, ควา...</td>\n",
       "    </tr>\n",
       "    <tr>\n",
       "      <th>2239</th>\n",
       "      <td>ไม่เคยมีใครน่ารักเท่ากับเธอ\\rเจอกี่ครั้งก็ยังล...</td>\n",
       "      <td>[ไม่, เคย, มี, ใคร, น่ารัก, เท่ากับ, เธอ, เจอ,...</td>\n",
       "    </tr>\n",
       "  </tbody>\n",
       "</table>\n",
       "</div>"
      ],
      "text/plain": [
       "                                                  lyric  \\\n",
       "2235  พ่อตาผมโคตรโหด ผมไม่เคยเจอใครที่หนวดเยอะขนาดนี...   \n",
       "2236  ฉันไม่ได้ตั้งใจที่จะส่งไปหาเธอ\\rหน้าจอมันเบลอเ...   \n",
       "2237  ทุกครั้งที่ฉันนะคิดจะลืม\\rมันคือเวลาที่คิดถึงม...   \n",
       "2238  ไม่เป็นไรใช่ไหม\\rนี่คือคำถาม หรือความห่วงใย\\rถ...   \n",
       "2239  ไม่เคยมีใครน่ารักเท่ากับเธอ\\rเจอกี่ครั้งก็ยังล...   \n",
       "\n",
       "                                                  words  \n",
       "2235  [พ่อตา, ผม, โคตร, โหด, ผม, ไม่, เคย, เจอ, ใคร,...  \n",
       "2236  [ฉัน, ไม่, ได้, ตั้งใจ, ที่จะ, ส่ง, ไปหา, เธอ,...  \n",
       "2237  [ทุกครั้งที่, ฉัน, นะ, คิด, จะ, ลืม, มัน, คือ,...  \n",
       "2238  [ไม่เป็นไร, ใช่ไหม, นี่, คือ, คำถาม, หรือ, ควา...  \n",
       "2239  [ไม่, เคย, มี, ใคร, น่ารัก, เท่ากับ, เธอ, เจอ,...  "
      ]
     },
     "execution_count": 252,
     "metadata": {},
     "output_type": "execute_result"
    }
   ],
   "source": [
    "song_df[['lyric','words']].tail()"
   ]
  },
  {
   "cell_type": "code",
   "execution_count": 253,
   "metadata": {},
   "outputs": [
    {
     "data": {
      "text/plain": [
       "0       [ไม่, ว่า, จะ, เป็น, ยังไง, babi, it, okay, ไม...\n",
       "1       [จะ, ยอม, นั่ง, จรวด, ไป, ตรวจ, ดาวอังคาร, หาก...\n",
       "2       [ถ้า, เคย, พบ, เจอ, กำแพง, ที่, ดู, ทั้ง, ใหญ่...\n",
       "3       [อยู่, ตรงนี้, แค่, เพียงลำพัง, กับ, ความเหงา,...\n",
       "4       [แค่, ตัว, คนเดียว, ไม่, ตาย, ล่ะ, มั้ง, ถาม, ...\n",
       "                              ...                        \n",
       "2235    [พ่อตา, ผม, โคตร, โหด, ผม, ไม่, เคย, เจอ, ใคร,...\n",
       "2236    [ฉัน, ไม่, ได้, ตั้งใจ, ที่จะ, ส่ง, ไปหา, เธอ,...\n",
       "2237    [ทุกครั้งที่, ฉัน, นะ, คิด, จะ, ลืม, มัน, คือ,...\n",
       "2238    [ไม่เป็นไร, ใช่ไหม, นี่, คือ, คำถาม, หรือ, ควา...\n",
       "2239    [ไม่, เคย, มี, ใคร, น่ารัก, เท่ากับ, เธอ, เจอ,...\n",
       "Name: words, Length: 2240, dtype: object"
      ]
     },
     "execution_count": 253,
     "metadata": {},
     "output_type": "execute_result"
    }
   ],
   "source": [
    "song_df['words']"
   ]
  },
  {
   "cell_type": "code",
   "execution_count": 254,
   "metadata": {},
   "outputs": [],
   "source": [
    "song_df['n_words'] = song_df['words'].map(len)"
   ]
  },
  {
   "cell_type": "markdown",
   "metadata": {},
   "source": [
    "### EDA"
   ]
  },
  {
   "cell_type": "code",
   "execution_count": 255,
   "metadata": {},
   "outputs": [
    {
     "name": "stdout",
     "output_type": "stream",
     "text": [
      "number of songs:  2240\n",
      "number of artists:  64\n"
     ]
    }
   ],
   "source": [
    "# number of songs\n",
    "print('number of songs: ', str(len(song_df)))\n",
    "\n",
    "# number of artists\n",
    "print('number of artists: ', str(len(song_df['artist'].unique())))"
   ]
  },
  {
   "cell_type": "code",
   "execution_count": 256,
   "metadata": {},
   "outputs": [
    {
     "name": "stdout",
     "output_type": "stream",
     "text": [
      "\n"
     ]
    },
    {
     "data": {
      "application/vnd.plotly.v1+json": {
       "config": {
        "plotlyServerURL": "https://plot.ly"
       },
       "data": [
        {
         "alignmentgroup": "True",
         "bingroup": "x",
         "hovertemplate": "Songs=%{x}<br>count=%{y}<extra></extra>",
         "legendgroup": "",
         "marker": {
          "color": "#636efa",
          "pattern": {
           "shape": ""
          }
         },
         "name": "",
         "offsetgroup": "",
         "orientation": "v",
         "showlegend": false,
         "type": "histogram",
         "x": [
          35,
          35,
          35,
          35,
          35,
          35,
          35,
          35,
          35,
          35,
          35,
          35,
          35,
          35,
          35,
          35,
          35,
          35,
          35,
          35,
          35,
          35,
          35,
          35,
          35,
          35,
          35,
          35,
          35,
          35,
          35,
          35,
          35,
          35,
          35,
          35,
          35,
          35,
          35,
          35,
          35,
          35,
          35,
          35,
          35,
          35,
          35,
          35,
          35,
          35,
          35,
          35,
          35,
          35,
          35,
          35,
          35,
          35,
          35,
          35,
          35,
          35,
          35,
          35
         ],
         "xaxis": "x",
         "yaxis": "y"
        }
       ],
       "layout": {
        "barmode": "relative",
        "legend": {
         "tracegroupgap": 0
        },
        "template": {
         "data": {
          "bar": [
           {
            "error_x": {
             "color": "#2a3f5f"
            },
            "error_y": {
             "color": "#2a3f5f"
            },
            "marker": {
             "line": {
              "color": "#E5ECF6",
              "width": 0.5
             },
             "pattern": {
              "fillmode": "overlay",
              "size": 10,
              "solidity": 0.2
             }
            },
            "type": "bar"
           }
          ],
          "barpolar": [
           {
            "marker": {
             "line": {
              "color": "#E5ECF6",
              "width": 0.5
             },
             "pattern": {
              "fillmode": "overlay",
              "size": 10,
              "solidity": 0.2
             }
            },
            "type": "barpolar"
           }
          ],
          "carpet": [
           {
            "aaxis": {
             "endlinecolor": "#2a3f5f",
             "gridcolor": "white",
             "linecolor": "white",
             "minorgridcolor": "white",
             "startlinecolor": "#2a3f5f"
            },
            "baxis": {
             "endlinecolor": "#2a3f5f",
             "gridcolor": "white",
             "linecolor": "white",
             "minorgridcolor": "white",
             "startlinecolor": "#2a3f5f"
            },
            "type": "carpet"
           }
          ],
          "choropleth": [
           {
            "colorbar": {
             "outlinewidth": 0,
             "ticks": ""
            },
            "type": "choropleth"
           }
          ],
          "contour": [
           {
            "colorbar": {
             "outlinewidth": 0,
             "ticks": ""
            },
            "colorscale": [
             [
              0,
              "#0d0887"
             ],
             [
              0.1111111111111111,
              "#46039f"
             ],
             [
              0.2222222222222222,
              "#7201a8"
             ],
             [
              0.3333333333333333,
              "#9c179e"
             ],
             [
              0.4444444444444444,
              "#bd3786"
             ],
             [
              0.5555555555555556,
              "#d8576b"
             ],
             [
              0.6666666666666666,
              "#ed7953"
             ],
             [
              0.7777777777777778,
              "#fb9f3a"
             ],
             [
              0.8888888888888888,
              "#fdca26"
             ],
             [
              1,
              "#f0f921"
             ]
            ],
            "type": "contour"
           }
          ],
          "contourcarpet": [
           {
            "colorbar": {
             "outlinewidth": 0,
             "ticks": ""
            },
            "type": "contourcarpet"
           }
          ],
          "heatmap": [
           {
            "colorbar": {
             "outlinewidth": 0,
             "ticks": ""
            },
            "colorscale": [
             [
              0,
              "#0d0887"
             ],
             [
              0.1111111111111111,
              "#46039f"
             ],
             [
              0.2222222222222222,
              "#7201a8"
             ],
             [
              0.3333333333333333,
              "#9c179e"
             ],
             [
              0.4444444444444444,
              "#bd3786"
             ],
             [
              0.5555555555555556,
              "#d8576b"
             ],
             [
              0.6666666666666666,
              "#ed7953"
             ],
             [
              0.7777777777777778,
              "#fb9f3a"
             ],
             [
              0.8888888888888888,
              "#fdca26"
             ],
             [
              1,
              "#f0f921"
             ]
            ],
            "type": "heatmap"
           }
          ],
          "heatmapgl": [
           {
            "colorbar": {
             "outlinewidth": 0,
             "ticks": ""
            },
            "colorscale": [
             [
              0,
              "#0d0887"
             ],
             [
              0.1111111111111111,
              "#46039f"
             ],
             [
              0.2222222222222222,
              "#7201a8"
             ],
             [
              0.3333333333333333,
              "#9c179e"
             ],
             [
              0.4444444444444444,
              "#bd3786"
             ],
             [
              0.5555555555555556,
              "#d8576b"
             ],
             [
              0.6666666666666666,
              "#ed7953"
             ],
             [
              0.7777777777777778,
              "#fb9f3a"
             ],
             [
              0.8888888888888888,
              "#fdca26"
             ],
             [
              1,
              "#f0f921"
             ]
            ],
            "type": "heatmapgl"
           }
          ],
          "histogram": [
           {
            "marker": {
             "pattern": {
              "fillmode": "overlay",
              "size": 10,
              "solidity": 0.2
             }
            },
            "type": "histogram"
           }
          ],
          "histogram2d": [
           {
            "colorbar": {
             "outlinewidth": 0,
             "ticks": ""
            },
            "colorscale": [
             [
              0,
              "#0d0887"
             ],
             [
              0.1111111111111111,
              "#46039f"
             ],
             [
              0.2222222222222222,
              "#7201a8"
             ],
             [
              0.3333333333333333,
              "#9c179e"
             ],
             [
              0.4444444444444444,
              "#bd3786"
             ],
             [
              0.5555555555555556,
              "#d8576b"
             ],
             [
              0.6666666666666666,
              "#ed7953"
             ],
             [
              0.7777777777777778,
              "#fb9f3a"
             ],
             [
              0.8888888888888888,
              "#fdca26"
             ],
             [
              1,
              "#f0f921"
             ]
            ],
            "type": "histogram2d"
           }
          ],
          "histogram2dcontour": [
           {
            "colorbar": {
             "outlinewidth": 0,
             "ticks": ""
            },
            "colorscale": [
             [
              0,
              "#0d0887"
             ],
             [
              0.1111111111111111,
              "#46039f"
             ],
             [
              0.2222222222222222,
              "#7201a8"
             ],
             [
              0.3333333333333333,
              "#9c179e"
             ],
             [
              0.4444444444444444,
              "#bd3786"
             ],
             [
              0.5555555555555556,
              "#d8576b"
             ],
             [
              0.6666666666666666,
              "#ed7953"
             ],
             [
              0.7777777777777778,
              "#fb9f3a"
             ],
             [
              0.8888888888888888,
              "#fdca26"
             ],
             [
              1,
              "#f0f921"
             ]
            ],
            "type": "histogram2dcontour"
           }
          ],
          "mesh3d": [
           {
            "colorbar": {
             "outlinewidth": 0,
             "ticks": ""
            },
            "type": "mesh3d"
           }
          ],
          "parcoords": [
           {
            "line": {
             "colorbar": {
              "outlinewidth": 0,
              "ticks": ""
             }
            },
            "type": "parcoords"
           }
          ],
          "pie": [
           {
            "automargin": true,
            "type": "pie"
           }
          ],
          "scatter": [
           {
            "fillpattern": {
             "fillmode": "overlay",
             "size": 10,
             "solidity": 0.2
            },
            "type": "scatter"
           }
          ],
          "scatter3d": [
           {
            "line": {
             "colorbar": {
              "outlinewidth": 0,
              "ticks": ""
             }
            },
            "marker": {
             "colorbar": {
              "outlinewidth": 0,
              "ticks": ""
             }
            },
            "type": "scatter3d"
           }
          ],
          "scattercarpet": [
           {
            "marker": {
             "colorbar": {
              "outlinewidth": 0,
              "ticks": ""
             }
            },
            "type": "scattercarpet"
           }
          ],
          "scattergeo": [
           {
            "marker": {
             "colorbar": {
              "outlinewidth": 0,
              "ticks": ""
             }
            },
            "type": "scattergeo"
           }
          ],
          "scattergl": [
           {
            "marker": {
             "colorbar": {
              "outlinewidth": 0,
              "ticks": ""
             }
            },
            "type": "scattergl"
           }
          ],
          "scattermapbox": [
           {
            "marker": {
             "colorbar": {
              "outlinewidth": 0,
              "ticks": ""
             }
            },
            "type": "scattermapbox"
           }
          ],
          "scatterpolar": [
           {
            "marker": {
             "colorbar": {
              "outlinewidth": 0,
              "ticks": ""
             }
            },
            "type": "scatterpolar"
           }
          ],
          "scatterpolargl": [
           {
            "marker": {
             "colorbar": {
              "outlinewidth": 0,
              "ticks": ""
             }
            },
            "type": "scatterpolargl"
           }
          ],
          "scatterternary": [
           {
            "marker": {
             "colorbar": {
              "outlinewidth": 0,
              "ticks": ""
             }
            },
            "type": "scatterternary"
           }
          ],
          "surface": [
           {
            "colorbar": {
             "outlinewidth": 0,
             "ticks": ""
            },
            "colorscale": [
             [
              0,
              "#0d0887"
             ],
             [
              0.1111111111111111,
              "#46039f"
             ],
             [
              0.2222222222222222,
              "#7201a8"
             ],
             [
              0.3333333333333333,
              "#9c179e"
             ],
             [
              0.4444444444444444,
              "#bd3786"
             ],
             [
              0.5555555555555556,
              "#d8576b"
             ],
             [
              0.6666666666666666,
              "#ed7953"
             ],
             [
              0.7777777777777778,
              "#fb9f3a"
             ],
             [
              0.8888888888888888,
              "#fdca26"
             ],
             [
              1,
              "#f0f921"
             ]
            ],
            "type": "surface"
           }
          ],
          "table": [
           {
            "cells": {
             "fill": {
              "color": "#EBF0F8"
             },
             "line": {
              "color": "white"
             }
            },
            "header": {
             "fill": {
              "color": "#C8D4E3"
             },
             "line": {
              "color": "white"
             }
            },
            "type": "table"
           }
          ]
         },
         "layout": {
          "annotationdefaults": {
           "arrowcolor": "#2a3f5f",
           "arrowhead": 0,
           "arrowwidth": 1
          },
          "autotypenumbers": "strict",
          "coloraxis": {
           "colorbar": {
            "outlinewidth": 0,
            "ticks": ""
           }
          },
          "colorscale": {
           "diverging": [
            [
             0,
             "#8e0152"
            ],
            [
             0.1,
             "#c51b7d"
            ],
            [
             0.2,
             "#de77ae"
            ],
            [
             0.3,
             "#f1b6da"
            ],
            [
             0.4,
             "#fde0ef"
            ],
            [
             0.5,
             "#f7f7f7"
            ],
            [
             0.6,
             "#e6f5d0"
            ],
            [
             0.7,
             "#b8e186"
            ],
            [
             0.8,
             "#7fbc41"
            ],
            [
             0.9,
             "#4d9221"
            ],
            [
             1,
             "#276419"
            ]
           ],
           "sequential": [
            [
             0,
             "#0d0887"
            ],
            [
             0.1111111111111111,
             "#46039f"
            ],
            [
             0.2222222222222222,
             "#7201a8"
            ],
            [
             0.3333333333333333,
             "#9c179e"
            ],
            [
             0.4444444444444444,
             "#bd3786"
            ],
            [
             0.5555555555555556,
             "#d8576b"
            ],
            [
             0.6666666666666666,
             "#ed7953"
            ],
            [
             0.7777777777777778,
             "#fb9f3a"
            ],
            [
             0.8888888888888888,
             "#fdca26"
            ],
            [
             1,
             "#f0f921"
            ]
           ],
           "sequentialminus": [
            [
             0,
             "#0d0887"
            ],
            [
             0.1111111111111111,
             "#46039f"
            ],
            [
             0.2222222222222222,
             "#7201a8"
            ],
            [
             0.3333333333333333,
             "#9c179e"
            ],
            [
             0.4444444444444444,
             "#bd3786"
            ],
            [
             0.5555555555555556,
             "#d8576b"
            ],
            [
             0.6666666666666666,
             "#ed7953"
            ],
            [
             0.7777777777777778,
             "#fb9f3a"
            ],
            [
             0.8888888888888888,
             "#fdca26"
            ],
            [
             1,
             "#f0f921"
            ]
           ]
          },
          "colorway": [
           "#636efa",
           "#EF553B",
           "#00cc96",
           "#ab63fa",
           "#FFA15A",
           "#19d3f3",
           "#FF6692",
           "#B6E880",
           "#FF97FF",
           "#FECB52"
          ],
          "font": {
           "color": "#2a3f5f"
          },
          "geo": {
           "bgcolor": "white",
           "lakecolor": "white",
           "landcolor": "#E5ECF6",
           "showlakes": true,
           "showland": true,
           "subunitcolor": "white"
          },
          "hoverlabel": {
           "align": "left"
          },
          "hovermode": "closest",
          "mapbox": {
           "style": "light"
          },
          "paper_bgcolor": "white",
          "plot_bgcolor": "#E5ECF6",
          "polar": {
           "angularaxis": {
            "gridcolor": "white",
            "linecolor": "white",
            "ticks": ""
           },
           "bgcolor": "#E5ECF6",
           "radialaxis": {
            "gridcolor": "white",
            "linecolor": "white",
            "ticks": ""
           }
          },
          "scene": {
           "xaxis": {
            "backgroundcolor": "#E5ECF6",
            "gridcolor": "white",
            "gridwidth": 2,
            "linecolor": "white",
            "showbackground": true,
            "ticks": "",
            "zerolinecolor": "white"
           },
           "yaxis": {
            "backgroundcolor": "#E5ECF6",
            "gridcolor": "white",
            "gridwidth": 2,
            "linecolor": "white",
            "showbackground": true,
            "ticks": "",
            "zerolinecolor": "white"
           },
           "zaxis": {
            "backgroundcolor": "#E5ECF6",
            "gridcolor": "white",
            "gridwidth": 2,
            "linecolor": "white",
            "showbackground": true,
            "ticks": "",
            "zerolinecolor": "white"
           }
          },
          "shapedefaults": {
           "line": {
            "color": "#2a3f5f"
           }
          },
          "ternary": {
           "aaxis": {
            "gridcolor": "white",
            "linecolor": "white",
            "ticks": ""
           },
           "baxis": {
            "gridcolor": "white",
            "linecolor": "white",
            "ticks": ""
           },
           "bgcolor": "#E5ECF6",
           "caxis": {
            "gridcolor": "white",
            "linecolor": "white",
            "ticks": ""
           }
          },
          "title": {
           "x": 0.05
          },
          "xaxis": {
           "automargin": true,
           "gridcolor": "white",
           "linecolor": "white",
           "ticks": "",
           "title": {
            "standoff": 15
           },
           "zerolinecolor": "white",
           "zerolinewidth": 2
          },
          "yaxis": {
           "automargin": true,
           "gridcolor": "white",
           "linecolor": "white",
           "ticks": "",
           "title": {
            "standoff": 15
           },
           "zerolinecolor": "white",
           "zerolinewidth": 2
          }
         }
        },
        "title": {
         "text": "Songs per artist"
        },
        "xaxis": {
         "anchor": "y",
         "domain": [
          0,
          1
         ],
         "title": {
          "text": "Songs"
         }
        },
        "yaxis": {
         "anchor": "x",
         "domain": [
          0,
          1
         ],
         "title": {
          "text": "count"
         }
        }
       }
      }
     },
     "metadata": {},
     "output_type": "display_data"
    }
   ],
   "source": [
    "# distribution songs per artist\n",
    "song_count_df = song_df.groupby('artist')[['song_name']].count()\n",
    "print()\n",
    "\n",
    "fig = px.histogram(song_count_df, x='song_name', title='Songs per artist', labels={'song_name': 'Songs'})\n",
    "fig.show()"
   ]
  },
  {
   "cell_type": "code",
   "execution_count": 257,
   "metadata": {},
   "outputs": [
    {
     "data": {
      "application/vnd.plotly.v1+json": {
       "config": {
        "plotlyServerURL": "https://plot.ly"
       },
       "data": [
        {
         "alignmentgroup": "True",
         "bingroup": "x",
         "hovertemplate": "n_words=%{x}<br>count=%{y}<extra></extra>",
         "legendgroup": "",
         "marker": {
          "color": "#636efa",
          "pattern": {
           "shape": ""
          }
         },
         "name": "",
         "offsetgroup": "",
         "orientation": "v",
         "showlegend": false,
         "type": "histogram",
         "x": [
          343,
          239,
          316,
          250,
          416,
          313,
          239,
          227,
          286,
          190,
          427,
          271,
          195,
          200,
          235,
          289,
          164,
          180,
          277,
          393,
          186,
          328,
          200,
          282,
          199,
          315,
          486,
          222,
          171,
          225,
          261,
          162,
          226,
          228,
          145,
          234,
          245,
          227,
          233,
          201,
          186,
          332,
          167,
          262,
          250,
          184,
          220,
          247,
          170,
          277,
          203,
          200,
          269,
          202,
          125,
          129,
          176,
          180,
          146,
          183,
          289,
          288,
          226,
          166,
          350,
          193,
          257,
          201,
          221,
          272,
          221,
          239,
          331,
          197,
          275,
          205,
          228,
          172,
          233,
          177,
          126,
          235,
          83,
          226,
          235,
          222,
          204,
          138,
          316,
          162,
          279,
          235,
          199,
          214,
          180,
          192,
          210,
          213,
          197,
          147,
          138,
          195,
          187,
          205,
          259,
          320,
          280,
          257,
          311,
          218,
          312,
          212,
          184,
          306,
          203,
          250,
          258,
          265,
          126,
          205,
          290,
          238,
          251,
          156,
          188,
          269,
          248,
          333,
          237,
          388,
          323,
          267,
          315,
          246,
          215,
          173,
          111,
          253,
          235,
          249,
          319,
          312,
          245,
          203,
          179,
          301,
          273,
          317,
          270,
          212,
          189,
          293,
          287,
          176,
          244,
          230,
          214,
          234,
          281,
          217,
          245,
          207,
          214,
          190,
          206,
          176,
          231,
          199,
          185,
          234,
          233,
          175,
          270,
          239,
          228,
          204,
          203,
          285,
          254,
          240,
          273,
          264,
          228,
          267,
          248,
          230,
          284,
          274,
          273,
          245,
          336,
          370,
          277,
          216,
          289,
          183,
          214,
          182,
          147,
          150,
          159,
          209,
          324,
          237,
          223,
          224,
          290,
          236,
          277,
          267,
          219,
          198,
          261,
          163,
          213,
          100,
          151,
          180,
          187,
          259,
          234,
          216,
          239,
          195,
          298,
          274,
          163,
          198,
          189,
          243,
          201,
          126,
          185,
          112,
          192,
          279,
          280,
          248,
          145,
          147,
          205,
          181,
          147,
          100,
          265,
          212,
          148,
          184,
          194,
          186,
          197,
          199,
          232,
          335,
          270,
          231,
          259,
          278,
          187,
          232,
          197,
          197,
          237,
          185,
          181,
          161,
          235,
          242,
          255,
          208,
          206,
          193,
          192,
          237,
          231,
          341,
          212,
          295,
          203,
          229,
          241,
          222,
          171,
          246,
          224,
          342,
          157,
          235,
          274,
          127,
          215,
          188,
          118,
          188,
          190,
          127,
          189,
          248,
          211,
          112,
          204,
          145,
          389,
          241,
          261,
          161,
          251,
          159,
          220,
          131,
          241,
          172,
          156,
          142,
          191,
          140,
          175,
          225,
          327,
          267,
          277,
          280,
          249,
          277,
          339,
          293,
          205,
          306,
          164,
          177,
          332,
          310,
          324,
          273,
          239,
          236,
          316,
          220,
          298,
          254,
          302,
          333,
          131,
          220,
          291,
          243,
          268,
          334,
          263,
          352,
          141,
          213,
          260,
          161,
          218,
          214,
          288,
          189,
          238,
          217,
          240,
          186,
          191,
          190,
          180,
          191,
          251,
          184,
          237,
          206,
          132,
          203,
          248,
          183,
          219,
          352,
          244,
          180,
          276,
          307,
          267,
          262,
          325,
          220,
          179,
          93,
          112,
          89,
          107,
          106,
          87,
          118,
          78,
          122,
          109,
          81,
          73,
          73,
          52,
          95,
          113,
          80,
          71,
          114,
          168,
          107,
          71,
          101,
          96,
          89,
          77,
          59,
          75,
          55,
          71,
          67,
          92,
          120,
          80,
          71,
          188,
          272,
          270,
          357,
          158,
          197,
          265,
          225,
          218,
          248,
          290,
          231,
          220,
          260,
          218,
          235,
          190,
          310,
          189,
          189,
          235,
          226,
          171,
          244,
          213,
          152,
          205,
          276,
          295,
          276,
          504,
          198,
          308,
          205,
          301,
          335,
          207,
          251,
          342,
          229,
          282,
          295,
          161,
          151,
          179,
          145,
          208,
          84,
          227,
          172,
          229,
          291,
          133,
          233,
          247,
          247,
          222,
          330,
          270,
          197,
          234,
          258,
          184,
          106,
          193,
          172,
          224,
          340,
          208,
          228,
          259,
          427,
          296,
          418,
          251,
          450,
          436,
          284,
          223,
          428,
          349,
          379,
          474,
          244,
          446,
          537,
          249,
          346,
          661,
          251,
          325,
          284,
          434,
          591,
          160,
          278,
          429,
          291,
          266,
          228,
          405,
          226,
          508,
          320,
          289,
          162,
          202,
          235,
          164,
          195,
          131,
          178,
          208,
          249,
          227,
          208,
          184,
          211,
          179,
          271,
          151,
          257,
          191,
          213,
          195,
          197,
          220,
          123,
          247,
          203,
          195,
          183,
          147,
          165,
          205,
          204,
          222,
          133,
          172,
          255,
          259,
          220,
          157,
          251,
          192,
          171,
          311,
          216,
          176,
          251,
          238,
          408,
          799,
          123,
          316,
          171,
          328,
          349,
          197,
          162,
          413,
          299,
          174,
          147,
          134,
          231,
          166,
          282,
          151,
          253,
          137,
          75,
          159,
          119,
          214,
          204,
          255,
          256,
          213,
          331,
          392,
          280,
          316,
          417,
          303,
          302,
          309,
          253,
          350,
          245,
          321,
          283,
          252,
          257,
          197,
          310,
          181,
          286,
          178,
          353,
          269,
          226,
          294,
          272,
          192,
          315,
          280,
          254,
          152,
          194,
          269,
          240,
          350,
          205,
          183,
          446,
          193,
          214,
          284,
          217,
          166,
          293,
          197,
          186,
          285,
          401,
          364,
          177,
          247,
          224,
          294,
          218,
          321,
          131,
          198,
          245,
          184,
          263,
          191,
          278,
          165,
          249,
          257,
          196,
          158,
          309,
          228,
          288,
          203,
          186,
          207,
          330,
          275,
          295,
          306,
          237,
          296,
          412,
          200,
          311,
          218,
          278,
          395,
          277,
          247,
          321,
          258,
          270,
          327,
          432,
          263,
          247,
          466,
          279,
          370,
          374,
          318,
          328,
          405,
          369,
          200,
          308,
          154,
          188,
          148,
          182,
          395,
          211,
          221,
          257,
          216,
          256,
          266,
          190,
          128,
          176,
          147,
          167,
          272,
          149,
          309,
          250,
          258,
          172,
          213,
          269,
          203,
          142,
          223,
          250,
          209,
          234,
          264,
          277,
          213,
          240,
          379,
          259,
          273,
          241,
          216,
          296,
          446,
          260,
          315,
          356,
          334,
          223,
          344,
          413,
          301,
          333,
          395,
          234,
          418,
          243,
          230,
          339,
          287,
          356,
          395,
          302,
          292,
          209,
          456,
          332,
          245,
          233,
          398,
          217,
          276,
          235,
          215,
          296,
          247,
          197,
          375,
          234,
          295,
          274,
          253,
          241,
          205,
          127,
          306,
          264,
          252,
          181,
          216,
          214,
          267,
          218,
          233,
          285,
          164,
          362,
          355,
          342,
          126,
          227,
          490,
          310,
          97,
          170,
          382,
          232,
          242,
          130,
          403,
          252,
          376,
          266,
          325,
          273,
          389,
          244,
          400,
          149,
          329,
          230,
          296,
          269,
          262,
          195,
          212,
          178,
          335,
          236,
          300,
          475,
          202,
          136,
          206,
          291,
          219,
          214,
          241,
          364,
          207,
          293,
          299,
          314,
          228,
          311,
          221,
          325,
          367,
          210,
          361,
          404,
          359,
          320,
          372,
          468,
          300,
          362,
          389,
          273,
          334,
          236,
          193,
          98,
          270,
          283,
          80,
          256,
          273,
          140,
          135,
          311,
          322,
          274,
          254,
          197,
          470,
          285,
          305,
          403,
          253,
          211,
          204,
          218,
          219,
          232,
          172,
          112,
          160,
          223,
          258,
          377,
          337,
          245,
          236,
          355,
          239,
          275,
          244,
          253,
          283,
          251,
          234,
          217,
          209,
          220,
          240,
          231,
          211,
          341,
          209,
          224,
          268,
          316,
          128,
          218,
          260,
          232,
          243,
          372,
          222,
          153,
          256,
          132,
          180,
          256,
          185,
          154,
          167,
          220,
          223,
          288,
          194,
          201,
          124,
          196,
          220,
          149,
          130,
          232,
          199,
          158,
          262,
          178,
          202,
          184,
          307,
          265,
          246,
          256,
          293,
          278,
          239,
          256,
          231,
          212,
          225,
          278,
          264,
          319,
          251,
          227,
          262,
          248,
          199,
          178,
          149,
          152,
          253,
          321,
          264,
          308,
          403,
          343,
          199,
          168,
          227,
          313,
          208,
          218,
          240,
          370,
          236,
          282,
          274,
          193,
          238,
          214,
          219,
          156,
          278,
          172,
          330,
          312,
          273,
          413,
          233,
          135,
          164,
          305,
          296,
          328,
          290,
          247,
          273,
          233,
          300,
          231,
          337,
          259,
          302,
          290,
          255,
          199,
          272,
          324,
          163,
          329,
          240,
          324,
          440,
          279,
          196,
          359,
          278,
          261,
          446,
          394,
          160,
          227,
          238,
          173,
          213,
          227,
          322,
          213,
          245,
          242,
          152,
          463,
          220,
          285,
          392,
          289,
          265,
          237,
          171,
          252,
          360,
          250,
          222,
          195,
          287,
          261,
          228,
          245,
          194,
          245,
          239,
          193,
          256,
          182,
          225,
          266,
          396,
          243,
          314,
          234,
          333,
          256,
          195,
          231,
          204,
          193,
          234,
          408,
          214,
          399,
          234,
          288,
          468,
          330,
          294,
          293,
          345,
          336,
          284,
          259,
          155,
          166,
          164,
          228,
          172,
          244,
          234,
          214,
          252,
          185,
          223,
          355,
          268,
          242,
          120,
          242,
          142,
          283,
          273,
          233,
          181,
          176,
          127,
          259,
          214,
          246,
          140,
          232,
          132,
          298,
          253,
          180,
          227,
          297,
          258,
          217,
          294,
          256,
          376,
          252,
          232,
          264,
          248,
          257,
          247,
          198,
          324,
          306,
          275,
          215,
          293,
          336,
          208,
          253,
          199,
          289,
          352,
          384,
          213,
          245,
          246,
          287,
          305,
          294,
          365,
          345,
          330,
          224,
          316,
          254,
          334,
          253,
          289,
          269,
          260,
          334,
          222,
          184,
          292,
          287,
          199,
          311,
          232,
          300,
          227,
          228,
          454,
          271,
          200,
          257,
          391,
          149,
          218,
          327,
          207,
          298,
          257,
          252,
          227,
          206,
          215,
          492,
          235,
          214,
          309,
          436,
          320,
          353,
          373,
          713,
          524,
          526,
          365,
          322,
          334,
          407,
          330,
          365,
          275,
          280,
          460,
          285,
          358,
          394,
          466,
          429,
          446,
          344,
          395,
          324,
          448,
          400,
          344,
          232,
          372,
          403,
          271,
          347,
          431,
          236,
          241,
          180,
          175,
          199,
          226,
          227,
          224,
          206,
          228,
          248,
          195,
          291,
          269,
          170,
          268,
          349,
          197,
          225,
          187,
          170,
          174,
          203,
          189,
          196,
          278,
          344,
          172,
          181,
          208,
          173,
          186,
          218,
          169,
          146,
          302,
          195,
          286,
          260,
          242,
          182,
          228,
          276,
          187,
          252,
          278,
          183,
          180,
          299,
          329,
          213,
          195,
          240,
          286,
          214,
          154,
          200,
          272,
          193,
          194,
          167,
          193,
          87,
          185,
          253,
          200,
          231,
          179,
          214,
          267,
          208,
          204,
          175,
          170,
          166,
          263,
          182,
          256,
          204,
          204,
          255,
          216,
          239,
          236,
          160,
          224,
          224,
          157,
          240,
          198,
          206,
          260,
          158,
          201,
          166,
          213,
          190,
          199,
          126,
          208,
          184,
          203,
          177,
          201,
          199,
          251,
          162,
          149,
          185,
          305,
          172,
          166,
          237,
          171,
          164,
          184,
          156,
          231,
          235,
          173,
          176,
          214,
          201,
          180,
          158,
          238,
          199,
          305,
          158,
          169,
          165,
          139,
          181,
          176,
          171,
          155,
          199,
          190,
          290,
          130,
          396,
          355,
          480,
          513,
          438,
          285,
          474,
          366,
          289,
          331,
          447,
          318,
          367,
          193,
          295,
          343,
          320,
          452,
          192,
          127,
          295,
          463,
          174,
          134,
          262,
          376,
          426,
          461,
          345,
          298,
          536,
          371,
          450,
          329,
          494,
          238,
          280,
          262,
          326,
          313,
          279,
          262,
          253,
          238,
          229,
          315,
          212,
          152,
          271,
          273,
          222,
          279,
          336,
          294,
          128,
          378,
          238,
          283,
          207,
          442,
          239,
          224,
          313,
          240,
          310,
          321,
          299,
          325,
          184,
          227,
          281,
          225,
          143,
          269,
          265,
          284,
          224,
          286,
          220,
          217,
          324,
          251,
          303,
          223,
          254,
          216,
          243,
          271,
          239,
          183,
          369,
          316,
          213,
          249,
          212,
          325,
          250,
          336,
          196,
          307,
          280,
          334,
          265,
          283,
          220,
          241,
          265,
          175,
          286,
          184,
          271,
          434,
          184,
          220,
          356,
          254,
          176,
          173,
          218,
          259,
          240,
          216,
          204,
          358,
          197,
          350,
          222,
          203,
          279,
          216,
          307,
          189,
          308,
          407,
          184,
          325,
          195,
          148,
          210,
          159,
          304,
          285,
          189,
          365,
          224,
          215,
          223,
          232,
          168,
          251,
          240,
          265,
          198,
          243,
          266,
          193,
          204,
          179,
          222,
          196,
          283,
          204,
          217,
          200,
          253,
          235,
          195,
          170,
          215,
          287,
          229,
          185,
          480,
          188,
          240,
          333,
          232,
          341,
          310,
          291,
          334,
          332,
          261,
          303,
          277,
          292,
          258,
          278,
          300,
          271,
          233,
          211,
          300,
          246,
          312,
          317,
          250,
          194,
          230,
          271,
          203,
          220,
          267,
          428,
          165,
          347,
          324,
          194,
          288,
          281,
          202,
          199,
          123,
          220,
          243,
          143,
          248,
          185,
          181,
          196,
          143,
          243,
          231,
          185,
          141,
          241,
          180,
          300,
          187,
          272,
          196,
          228,
          153,
          93,
          133,
          195,
          178,
          165,
          220,
          114,
          137,
          159,
          237,
          108,
          254,
          372,
          530,
          306,
          295,
          328,
          416,
          240,
          287,
          309,
          494,
          503,
          226,
          346,
          435,
          515,
          772,
          716,
          482,
          409,
          430,
          348,
          403,
          358,
          455,
          574,
          417,
          359,
          344,
          514,
          383,
          520,
          370,
          493,
          253,
          300,
          262,
          234,
          232,
          280,
          148,
          270,
          244,
          269,
          255,
          247,
          249,
          355,
          236,
          250,
          289,
          187,
          345,
          125,
          315,
          131,
          172,
          130,
          188,
          256,
          315,
          204,
          257,
          297,
          256,
          222,
          347,
          308,
          330,
          250,
          343,
          280,
          131,
          228,
          240,
          133,
          165,
          159,
          255,
          209,
          174,
          140,
          160,
          186,
          310,
          261,
          245,
          159,
          159,
          188,
          208,
          223,
          161,
          172,
          362,
          111,
          226,
          245,
          137,
          191,
          190,
          236,
          262,
          216,
          134,
          201,
          265,
          226,
          277,
          233,
          234,
          222,
          208,
          253,
          162,
          211,
          216,
          280,
          341,
          462,
          259,
          191,
          201,
          249,
          219,
          266,
          234,
          200,
          239,
          101,
          187,
          261,
          179,
          266,
          274,
          161,
          258,
          276,
          261,
          203,
          222,
          344,
          278,
          326,
          306,
          355,
          279,
          323,
          189,
          336,
          348,
          247,
          324,
          302,
          288,
          188,
          222,
          365,
          270,
          260,
          237,
          271,
          320,
          179,
          275,
          309,
          360,
          145,
          342,
          253,
          267,
          201,
          326,
          227,
          185,
          538,
          123,
          201,
          381,
          236,
          222,
          204,
          281,
          221,
          214,
          312,
          406,
          316,
          179,
          330,
          259,
          294,
          289,
          417,
          289,
          165,
          263,
          256,
          232,
          172,
          355,
          214,
          257,
          269,
          167,
          155,
          303,
          279,
          236,
          268,
          264,
          337,
          148,
          307,
          218,
          121,
          189,
          196,
          252,
          205,
          178,
          153,
          113,
          134,
          171,
          89,
          119,
          90,
          92,
          147,
          242,
          100,
          96,
          223,
          113,
          144,
          246,
          147,
          234,
          144,
          189,
          126,
          242,
          155,
          107,
          218,
          300,
          280,
          208,
          222,
          326,
          247,
          260,
          216,
          274,
          338,
          179,
          239,
          258,
          250,
          197,
          308,
          179,
          452,
          219,
          136,
          188,
          210,
          215,
          91,
          173,
          227,
          405,
          128,
          154,
          179,
          242,
          209,
          205,
          224,
          152,
          290,
          183,
          152,
          497,
          255,
          222,
          299,
          235,
          247,
          186,
          160,
          166,
          268,
          254,
          240,
          167,
          352,
          113,
          190,
          154,
          205,
          175,
          248,
          303,
          278,
          165,
          160,
          233,
          265,
          223,
          308,
          350,
          355,
          297,
          254,
          226,
          226,
          196,
          318,
          199,
          230,
          334,
          320,
          334,
          168,
          322,
          229,
          284,
          186,
          339,
          350,
          375,
          330,
          217,
          170,
          162,
          327,
          257,
          209,
          276,
          244,
          231,
          340,
          263,
          272,
          355,
          267,
          349,
          285,
          349,
          571,
          566,
          610,
          396,
          422,
          518,
          506,
          451,
          519,
          755,
          552,
          483,
          520,
          699,
          427,
          614,
          518,
          613,
          636,
          581,
          372,
          433,
          533,
          654,
          583,
          628,
          668,
          440,
          562,
          569,
          518,
          349,
          355,
          446,
          446,
          284,
          236,
          289,
          249,
          297,
          226,
          354,
          202,
          349,
          136,
          338,
          281,
          224,
          265,
          142,
          326,
          207,
          222,
          264,
          199,
          309,
          275,
          93,
          247,
          238,
          301,
          311,
          297,
          279,
          319,
          248,
          142,
          311,
          237,
          196,
          569,
          684,
          469,
          584,
          418,
          440,
          485,
          528,
          538,
          504,
          516,
          453,
          438,
          587,
          605,
          545,
          598,
          521,
          493,
          586,
          572,
          492,
          607,
          567,
          613,
          267,
          436,
          389,
          449,
          526,
          364,
          676,
          528,
          458,
          619,
          144,
          150,
          216,
          176,
          158,
          165,
          188,
          212,
          221,
          215,
          205,
          175,
          234,
          138,
          231,
          298,
          164,
          203,
          155,
          239,
          167,
          173,
          215,
          104,
          258,
          188,
          151,
          167,
          226,
          220,
          208,
          190,
          234,
          127,
          179,
          216,
          238,
          185,
          231,
          238,
          271,
          244,
          210,
          223,
          268,
          258,
          337,
          194,
          275,
          319,
          239,
          209,
          265,
          222,
          301,
          198,
          234,
          301,
          263,
          258,
          274,
          261,
          171,
          222,
          172,
          315,
          212,
          168,
          241,
          222,
          200,
          214,
          274,
          171,
          152,
          310,
          212,
          451,
          245,
          172,
          209,
          178,
          237,
          223,
          229,
          230,
          268,
          235,
          384,
          164,
          178,
          299,
          211,
          302,
          245,
          271,
          196,
          219,
          263,
          242,
          204,
          121,
          189,
          311,
          280,
          248,
          150,
          199,
          234,
          254,
          277,
          178,
          224,
          112,
          229,
          184,
          181,
          194,
          148,
          141,
          359,
          280,
          187,
          190,
          182,
          289,
          232,
          160,
          219,
          177,
          161,
          164,
          231,
          241,
          174,
          166,
          170,
          271,
          223,
          233,
          263,
          384,
          398,
          294,
          127,
          331,
          491,
          274,
          267,
          167,
          336,
          458,
          318,
          400,
          209,
          368,
          190,
          383,
          436,
          310,
          523,
          281,
          437,
          614,
          319,
          524,
          310,
          252,
          523,
          441,
          434,
          381,
          317,
          511,
          440
         ],
         "xaxis": "x",
         "yaxis": "y"
        }
       ],
       "layout": {
        "barmode": "relative",
        "legend": {
         "tracegroupgap": 0
        },
        "template": {
         "data": {
          "bar": [
           {
            "error_x": {
             "color": "#2a3f5f"
            },
            "error_y": {
             "color": "#2a3f5f"
            },
            "marker": {
             "line": {
              "color": "#E5ECF6",
              "width": 0.5
             },
             "pattern": {
              "fillmode": "overlay",
              "size": 10,
              "solidity": 0.2
             }
            },
            "type": "bar"
           }
          ],
          "barpolar": [
           {
            "marker": {
             "line": {
              "color": "#E5ECF6",
              "width": 0.5
             },
             "pattern": {
              "fillmode": "overlay",
              "size": 10,
              "solidity": 0.2
             }
            },
            "type": "barpolar"
           }
          ],
          "carpet": [
           {
            "aaxis": {
             "endlinecolor": "#2a3f5f",
             "gridcolor": "white",
             "linecolor": "white",
             "minorgridcolor": "white",
             "startlinecolor": "#2a3f5f"
            },
            "baxis": {
             "endlinecolor": "#2a3f5f",
             "gridcolor": "white",
             "linecolor": "white",
             "minorgridcolor": "white",
             "startlinecolor": "#2a3f5f"
            },
            "type": "carpet"
           }
          ],
          "choropleth": [
           {
            "colorbar": {
             "outlinewidth": 0,
             "ticks": ""
            },
            "type": "choropleth"
           }
          ],
          "contour": [
           {
            "colorbar": {
             "outlinewidth": 0,
             "ticks": ""
            },
            "colorscale": [
             [
              0,
              "#0d0887"
             ],
             [
              0.1111111111111111,
              "#46039f"
             ],
             [
              0.2222222222222222,
              "#7201a8"
             ],
             [
              0.3333333333333333,
              "#9c179e"
             ],
             [
              0.4444444444444444,
              "#bd3786"
             ],
             [
              0.5555555555555556,
              "#d8576b"
             ],
             [
              0.6666666666666666,
              "#ed7953"
             ],
             [
              0.7777777777777778,
              "#fb9f3a"
             ],
             [
              0.8888888888888888,
              "#fdca26"
             ],
             [
              1,
              "#f0f921"
             ]
            ],
            "type": "contour"
           }
          ],
          "contourcarpet": [
           {
            "colorbar": {
             "outlinewidth": 0,
             "ticks": ""
            },
            "type": "contourcarpet"
           }
          ],
          "heatmap": [
           {
            "colorbar": {
             "outlinewidth": 0,
             "ticks": ""
            },
            "colorscale": [
             [
              0,
              "#0d0887"
             ],
             [
              0.1111111111111111,
              "#46039f"
             ],
             [
              0.2222222222222222,
              "#7201a8"
             ],
             [
              0.3333333333333333,
              "#9c179e"
             ],
             [
              0.4444444444444444,
              "#bd3786"
             ],
             [
              0.5555555555555556,
              "#d8576b"
             ],
             [
              0.6666666666666666,
              "#ed7953"
             ],
             [
              0.7777777777777778,
              "#fb9f3a"
             ],
             [
              0.8888888888888888,
              "#fdca26"
             ],
             [
              1,
              "#f0f921"
             ]
            ],
            "type": "heatmap"
           }
          ],
          "heatmapgl": [
           {
            "colorbar": {
             "outlinewidth": 0,
             "ticks": ""
            },
            "colorscale": [
             [
              0,
              "#0d0887"
             ],
             [
              0.1111111111111111,
              "#46039f"
             ],
             [
              0.2222222222222222,
              "#7201a8"
             ],
             [
              0.3333333333333333,
              "#9c179e"
             ],
             [
              0.4444444444444444,
              "#bd3786"
             ],
             [
              0.5555555555555556,
              "#d8576b"
             ],
             [
              0.6666666666666666,
              "#ed7953"
             ],
             [
              0.7777777777777778,
              "#fb9f3a"
             ],
             [
              0.8888888888888888,
              "#fdca26"
             ],
             [
              1,
              "#f0f921"
             ]
            ],
            "type": "heatmapgl"
           }
          ],
          "histogram": [
           {
            "marker": {
             "pattern": {
              "fillmode": "overlay",
              "size": 10,
              "solidity": 0.2
             }
            },
            "type": "histogram"
           }
          ],
          "histogram2d": [
           {
            "colorbar": {
             "outlinewidth": 0,
             "ticks": ""
            },
            "colorscale": [
             [
              0,
              "#0d0887"
             ],
             [
              0.1111111111111111,
              "#46039f"
             ],
             [
              0.2222222222222222,
              "#7201a8"
             ],
             [
              0.3333333333333333,
              "#9c179e"
             ],
             [
              0.4444444444444444,
              "#bd3786"
             ],
             [
              0.5555555555555556,
              "#d8576b"
             ],
             [
              0.6666666666666666,
              "#ed7953"
             ],
             [
              0.7777777777777778,
              "#fb9f3a"
             ],
             [
              0.8888888888888888,
              "#fdca26"
             ],
             [
              1,
              "#f0f921"
             ]
            ],
            "type": "histogram2d"
           }
          ],
          "histogram2dcontour": [
           {
            "colorbar": {
             "outlinewidth": 0,
             "ticks": ""
            },
            "colorscale": [
             [
              0,
              "#0d0887"
             ],
             [
              0.1111111111111111,
              "#46039f"
             ],
             [
              0.2222222222222222,
              "#7201a8"
             ],
             [
              0.3333333333333333,
              "#9c179e"
             ],
             [
              0.4444444444444444,
              "#bd3786"
             ],
             [
              0.5555555555555556,
              "#d8576b"
             ],
             [
              0.6666666666666666,
              "#ed7953"
             ],
             [
              0.7777777777777778,
              "#fb9f3a"
             ],
             [
              0.8888888888888888,
              "#fdca26"
             ],
             [
              1,
              "#f0f921"
             ]
            ],
            "type": "histogram2dcontour"
           }
          ],
          "mesh3d": [
           {
            "colorbar": {
             "outlinewidth": 0,
             "ticks": ""
            },
            "type": "mesh3d"
           }
          ],
          "parcoords": [
           {
            "line": {
             "colorbar": {
              "outlinewidth": 0,
              "ticks": ""
             }
            },
            "type": "parcoords"
           }
          ],
          "pie": [
           {
            "automargin": true,
            "type": "pie"
           }
          ],
          "scatter": [
           {
            "fillpattern": {
             "fillmode": "overlay",
             "size": 10,
             "solidity": 0.2
            },
            "type": "scatter"
           }
          ],
          "scatter3d": [
           {
            "line": {
             "colorbar": {
              "outlinewidth": 0,
              "ticks": ""
             }
            },
            "marker": {
             "colorbar": {
              "outlinewidth": 0,
              "ticks": ""
             }
            },
            "type": "scatter3d"
           }
          ],
          "scattercarpet": [
           {
            "marker": {
             "colorbar": {
              "outlinewidth": 0,
              "ticks": ""
             }
            },
            "type": "scattercarpet"
           }
          ],
          "scattergeo": [
           {
            "marker": {
             "colorbar": {
              "outlinewidth": 0,
              "ticks": ""
             }
            },
            "type": "scattergeo"
           }
          ],
          "scattergl": [
           {
            "marker": {
             "colorbar": {
              "outlinewidth": 0,
              "ticks": ""
             }
            },
            "type": "scattergl"
           }
          ],
          "scattermapbox": [
           {
            "marker": {
             "colorbar": {
              "outlinewidth": 0,
              "ticks": ""
             }
            },
            "type": "scattermapbox"
           }
          ],
          "scatterpolar": [
           {
            "marker": {
             "colorbar": {
              "outlinewidth": 0,
              "ticks": ""
             }
            },
            "type": "scatterpolar"
           }
          ],
          "scatterpolargl": [
           {
            "marker": {
             "colorbar": {
              "outlinewidth": 0,
              "ticks": ""
             }
            },
            "type": "scatterpolargl"
           }
          ],
          "scatterternary": [
           {
            "marker": {
             "colorbar": {
              "outlinewidth": 0,
              "ticks": ""
             }
            },
            "type": "scatterternary"
           }
          ],
          "surface": [
           {
            "colorbar": {
             "outlinewidth": 0,
             "ticks": ""
            },
            "colorscale": [
             [
              0,
              "#0d0887"
             ],
             [
              0.1111111111111111,
              "#46039f"
             ],
             [
              0.2222222222222222,
              "#7201a8"
             ],
             [
              0.3333333333333333,
              "#9c179e"
             ],
             [
              0.4444444444444444,
              "#bd3786"
             ],
             [
              0.5555555555555556,
              "#d8576b"
             ],
             [
              0.6666666666666666,
              "#ed7953"
             ],
             [
              0.7777777777777778,
              "#fb9f3a"
             ],
             [
              0.8888888888888888,
              "#fdca26"
             ],
             [
              1,
              "#f0f921"
             ]
            ],
            "type": "surface"
           }
          ],
          "table": [
           {
            "cells": {
             "fill": {
              "color": "#EBF0F8"
             },
             "line": {
              "color": "white"
             }
            },
            "header": {
             "fill": {
              "color": "#C8D4E3"
             },
             "line": {
              "color": "white"
             }
            },
            "type": "table"
           }
          ]
         },
         "layout": {
          "annotationdefaults": {
           "arrowcolor": "#2a3f5f",
           "arrowhead": 0,
           "arrowwidth": 1
          },
          "autotypenumbers": "strict",
          "coloraxis": {
           "colorbar": {
            "outlinewidth": 0,
            "ticks": ""
           }
          },
          "colorscale": {
           "diverging": [
            [
             0,
             "#8e0152"
            ],
            [
             0.1,
             "#c51b7d"
            ],
            [
             0.2,
             "#de77ae"
            ],
            [
             0.3,
             "#f1b6da"
            ],
            [
             0.4,
             "#fde0ef"
            ],
            [
             0.5,
             "#f7f7f7"
            ],
            [
             0.6,
             "#e6f5d0"
            ],
            [
             0.7,
             "#b8e186"
            ],
            [
             0.8,
             "#7fbc41"
            ],
            [
             0.9,
             "#4d9221"
            ],
            [
             1,
             "#276419"
            ]
           ],
           "sequential": [
            [
             0,
             "#0d0887"
            ],
            [
             0.1111111111111111,
             "#46039f"
            ],
            [
             0.2222222222222222,
             "#7201a8"
            ],
            [
             0.3333333333333333,
             "#9c179e"
            ],
            [
             0.4444444444444444,
             "#bd3786"
            ],
            [
             0.5555555555555556,
             "#d8576b"
            ],
            [
             0.6666666666666666,
             "#ed7953"
            ],
            [
             0.7777777777777778,
             "#fb9f3a"
            ],
            [
             0.8888888888888888,
             "#fdca26"
            ],
            [
             1,
             "#f0f921"
            ]
           ],
           "sequentialminus": [
            [
             0,
             "#0d0887"
            ],
            [
             0.1111111111111111,
             "#46039f"
            ],
            [
             0.2222222222222222,
             "#7201a8"
            ],
            [
             0.3333333333333333,
             "#9c179e"
            ],
            [
             0.4444444444444444,
             "#bd3786"
            ],
            [
             0.5555555555555556,
             "#d8576b"
            ],
            [
             0.6666666666666666,
             "#ed7953"
            ],
            [
             0.7777777777777778,
             "#fb9f3a"
            ],
            [
             0.8888888888888888,
             "#fdca26"
            ],
            [
             1,
             "#f0f921"
            ]
           ]
          },
          "colorway": [
           "#636efa",
           "#EF553B",
           "#00cc96",
           "#ab63fa",
           "#FFA15A",
           "#19d3f3",
           "#FF6692",
           "#B6E880",
           "#FF97FF",
           "#FECB52"
          ],
          "font": {
           "color": "#2a3f5f"
          },
          "geo": {
           "bgcolor": "white",
           "lakecolor": "white",
           "landcolor": "#E5ECF6",
           "showlakes": true,
           "showland": true,
           "subunitcolor": "white"
          },
          "hoverlabel": {
           "align": "left"
          },
          "hovermode": "closest",
          "mapbox": {
           "style": "light"
          },
          "paper_bgcolor": "white",
          "plot_bgcolor": "#E5ECF6",
          "polar": {
           "angularaxis": {
            "gridcolor": "white",
            "linecolor": "white",
            "ticks": ""
           },
           "bgcolor": "#E5ECF6",
           "radialaxis": {
            "gridcolor": "white",
            "linecolor": "white",
            "ticks": ""
           }
          },
          "scene": {
           "xaxis": {
            "backgroundcolor": "#E5ECF6",
            "gridcolor": "white",
            "gridwidth": 2,
            "linecolor": "white",
            "showbackground": true,
            "ticks": "",
            "zerolinecolor": "white"
           },
           "yaxis": {
            "backgroundcolor": "#E5ECF6",
            "gridcolor": "white",
            "gridwidth": 2,
            "linecolor": "white",
            "showbackground": true,
            "ticks": "",
            "zerolinecolor": "white"
           },
           "zaxis": {
            "backgroundcolor": "#E5ECF6",
            "gridcolor": "white",
            "gridwidth": 2,
            "linecolor": "white",
            "showbackground": true,
            "ticks": "",
            "zerolinecolor": "white"
           }
          },
          "shapedefaults": {
           "line": {
            "color": "#2a3f5f"
           }
          },
          "ternary": {
           "aaxis": {
            "gridcolor": "white",
            "linecolor": "white",
            "ticks": ""
           },
           "baxis": {
            "gridcolor": "white",
            "linecolor": "white",
            "ticks": ""
           },
           "bgcolor": "#E5ECF6",
           "caxis": {
            "gridcolor": "white",
            "linecolor": "white",
            "ticks": ""
           }
          },
          "title": {
           "x": 0.05
          },
          "xaxis": {
           "automargin": true,
           "gridcolor": "white",
           "linecolor": "white",
           "ticks": "",
           "title": {
            "standoff": 15
           },
           "zerolinecolor": "white",
           "zerolinewidth": 2
          },
          "yaxis": {
           "automargin": true,
           "gridcolor": "white",
           "linecolor": "white",
           "ticks": "",
           "title": {
            "standoff": 15
           },
           "zerolinecolor": "white",
           "zerolinewidth": 2
          }
         }
        },
        "title": {
         "text": "Words per song"
        },
        "xaxis": {
         "anchor": "y",
         "domain": [
          0,
          1
         ],
         "title": {
          "text": "n_words"
         }
        },
        "yaxis": {
         "anchor": "x",
         "domain": [
          0,
          1
         ],
         "title": {
          "text": "count"
         }
        }
       }
      }
     },
     "metadata": {},
     "output_type": "display_data"
    }
   ],
   "source": [
    "# distribution words per song\n",
    "fig = px.histogram(song_df, x='n_words', title='Words per song')\n",
    "fig.show()"
   ]
  },
  {
   "cell_type": "markdown",
   "metadata": {},
   "source": [
    "Beware! This block can be run only once."
   ]
  },
  {
   "cell_type": "code",
   "execution_count": 258,
   "metadata": {},
   "outputs": [],
   "source": [
    "# # create dataframe with lists of artists\n",
    "song_df['words_str'] = song_df['words'].map(lambda lst: ' '.join(lst))\n",
    "\n",
    "# map text to artists\n",
    "words_to_artist = {}\n",
    "for tp in song_df[['artist', 'words_str']].itertuples(index=False):\n",
    "    artist = tp[0]\n",
    "    words = tp[1]\n",
    "    if words in words_to_artist:\n",
    "        words_to_artist[words].append(artist)\n",
    "    else:\n",
    "        words_to_artist[words] = [artist]\n",
    "\n",
    "# insert list of artists to dataframe\n",
    "song_df['artists'] = song_df['words_str'].map(words_to_artist)\n",
    "song_df['duplicates'] = song_df['artists'].map(len) - 1\n",
    "\n",
    "# convert list of artists to set of artists\n",
    "song_df['artists'] = song_df['artists'].map(set)\n",
    "song_df['n_artists'] = song_df['artists'].map(len)\n",
    "\n",
    "# remove duplicate songs\n",
    "artist_text_df = song_df.drop_duplicates('words_str')"
   ]
  },
  {
   "cell_type": "code",
   "execution_count": 259,
   "metadata": {},
   "outputs": [
    {
     "data": {
      "text/html": [
       "<div>\n",
       "<style scoped>\n",
       "    .dataframe tbody tr th:only-of-type {\n",
       "        vertical-align: middle;\n",
       "    }\n",
       "\n",
       "    .dataframe tbody tr th {\n",
       "        vertical-align: top;\n",
       "    }\n",
       "\n",
       "    .dataframe thead th {\n",
       "        text-align: right;\n",
       "    }\n",
       "</style>\n",
       "<table border=\"1\" class=\"dataframe\">\n",
       "  <thead>\n",
       "    <tr style=\"text-align: right;\">\n",
       "      <th></th>\n",
       "      <th>artist</th>\n",
       "      <th>song_name</th>\n",
       "      <th>href</th>\n",
       "      <th>lyric</th>\n",
       "      <th>lines</th>\n",
       "      <th>words</th>\n",
       "      <th>n_words</th>\n",
       "      <th>words_str</th>\n",
       "      <th>artists</th>\n",
       "      <th>duplicates</th>\n",
       "      <th>n_artists</th>\n",
       "    </tr>\n",
       "  </thead>\n",
       "  <tbody>\n",
       "    <tr>\n",
       "      <th>0</th>\n",
       "      <td>bird_thongchai</td>\n",
       "      <td>Okay</td>\n",
       "      <td>/music/thailyric/13588</td>\n",
       "      <td>ไม่ว่าจะเป็นยังไง Baby its Okay\\rไม่ว่าจะเกิดอ...</td>\n",
       "      <td>57</td>\n",
       "      <td>[ไม่, ว่า, จะ, เป็น, ยังไง, babi, it, okay, ไม...</td>\n",
       "      <td>343</td>\n",
       "      <td>ไม่ ว่า จะ เป็น ยังไง babi it okay ไม่ ว่า จะ ...</td>\n",
       "      <td>{bird_thongchai}</td>\n",
       "      <td>0</td>\n",
       "      <td>1</td>\n",
       "    </tr>\n",
       "    <tr>\n",
       "      <th>1</th>\n",
       "      <td>bird_thongchai</td>\n",
       "      <td>กว่าจักรวาล</td>\n",
       "      <td>/music/thailyric/13978</td>\n",
       "      <td>จะยอมนั่งจรวด ไปตรวจดาวอังคาร\\rหากว่าที่แห่งนั...</td>\n",
       "      <td>31</td>\n",
       "      <td>[จะ, ยอม, นั่ง, จรวด, ไป, ตรวจ, ดาวอังคาร, หาก...</td>\n",
       "      <td>239</td>\n",
       "      <td>จะ ยอม นั่ง จรวด ไป ตรวจ ดาวอังคาร หาก ว่าที่ ...</td>\n",
       "      <td>{bird_thongchai}</td>\n",
       "      <td>0</td>\n",
       "      <td>1</td>\n",
       "    </tr>\n",
       "    <tr>\n",
       "      <th>2</th>\n",
       "      <td>bird_thongchai</td>\n",
       "      <td>กำแพง</td>\n",
       "      <td>/music/thailyric/14111</td>\n",
       "      <td>ถ้าเคยพบเจอ กำแพงที่ดูทั้งใหญ่และสูงชัน\\rเธอรู...</td>\n",
       "      <td>39</td>\n",
       "      <td>[ถ้า, เคย, พบ, เจอ, กำแพง, ที่, ดู, ทั้ง, ใหญ่...</td>\n",
       "      <td>316</td>\n",
       "      <td>ถ้า เคย พบ เจอ กำแพง ที่ ดู ทั้ง ใหญ่ และ สูงช...</td>\n",
       "      <td>{bird_thongchai}</td>\n",
       "      <td>0</td>\n",
       "      <td>1</td>\n",
       "    </tr>\n",
       "    <tr>\n",
       "      <th>3</th>\n",
       "      <td>bird_thongchai</td>\n",
       "      <td>ชีวิตเดี่ยว</td>\n",
       "      <td>/music/thailyric/13796</td>\n",
       "      <td>อยู่ตรงนี้แค่เพียงลำพัง\\rกับความเหงาที่เป็นดั่...</td>\n",
       "      <td>50</td>\n",
       "      <td>[อยู่, ตรงนี้, แค่, เพียงลำพัง, กับ, ความเหงา,...</td>\n",
       "      <td>250</td>\n",
       "      <td>อยู่ ตรงนี้ แค่ เพียงลำพัง กับ ความเหงา ที่ เป...</td>\n",
       "      <td>{bird_thongchai}</td>\n",
       "      <td>0</td>\n",
       "      <td>1</td>\n",
       "    </tr>\n",
       "    <tr>\n",
       "      <th>4</th>\n",
       "      <td>bird_thongchai</td>\n",
       "      <td>ผู้ต้องหา</td>\n",
       "      <td>/music/thailyric/13825</td>\n",
       "      <td>แค่ตัวคนเดียวไม่ตายล่ะมั้ง\\rถามใจกี่ครั้งก็ยัง...</td>\n",
       "      <td>65</td>\n",
       "      <td>[แค่, ตัว, คนเดียว, ไม่, ตาย, ล่ะ, มั้ง, ถาม, ...</td>\n",
       "      <td>416</td>\n",
       "      <td>แค่ ตัว คนเดียว ไม่ ตาย ล่ะ มั้ง ถาม ใจ กี่ คร...</td>\n",
       "      <td>{bird_thongchai}</td>\n",
       "      <td>0</td>\n",
       "      <td>1</td>\n",
       "    </tr>\n",
       "    <tr>\n",
       "      <th>...</th>\n",
       "      <td>...</td>\n",
       "      <td>...</td>\n",
       "      <td>...</td>\n",
       "      <td>...</td>\n",
       "      <td>...</td>\n",
       "      <td>...</td>\n",
       "      <td>...</td>\n",
       "      <td>...</td>\n",
       "      <td>...</td>\n",
       "      <td>...</td>\n",
       "      <td>...</td>\n",
       "    </tr>\n",
       "    <tr>\n",
       "      <th>2235</th>\n",
       "      <td>gavin_d</td>\n",
       "      <td>พ่อตาครับ</td>\n",
       "      <td>/music/thailyric/17862</td>\n",
       "      <td>พ่อตาผมโคตรโหด ผมไม่เคยเจอใครที่หนวดเยอะขนาดนี...</td>\n",
       "      <td>48</td>\n",
       "      <td>[พ่อตา, ผม, โคตร, โหด, ผม, ไม่, เคย, เจอ, ใคร,...</td>\n",
       "      <td>434</td>\n",
       "      <td>พ่อตา ผม โคตร โหด ผม ไม่ เคย เจอ ใคร ที่ หนวด ...</td>\n",
       "      <td>{gavin_d}</td>\n",
       "      <td>0</td>\n",
       "      <td>1</td>\n",
       "    </tr>\n",
       "    <tr>\n",
       "      <th>2236</th>\n",
       "      <td>gavin_d</td>\n",
       "      <td>ไม่หวังให้ตอบ (No Reply)</td>\n",
       "      <td>/music/thailyric/13101</td>\n",
       "      <td>ฉันไม่ได้ตั้งใจที่จะส่งไปหาเธอ\\rหน้าจอมันเบลอเ...</td>\n",
       "      <td>60</td>\n",
       "      <td>[ฉัน, ไม่, ได้, ตั้งใจ, ที่จะ, ส่ง, ไปหา, เธอ,...</td>\n",
       "      <td>381</td>\n",
       "      <td>ฉัน ไม่ ได้ ตั้งใจ ที่จะ ส่ง ไปหา เธอ หน้าจอ ม...</td>\n",
       "      <td>{gavin_d}</td>\n",
       "      <td>0</td>\n",
       "      <td>1</td>\n",
       "    </tr>\n",
       "    <tr>\n",
       "      <th>2237</th>\n",
       "      <td>gavin_d</td>\n",
       "      <td>ยิ่งลืมยิ่งคิดถึง</td>\n",
       "      <td>/music/thailyric/20476</td>\n",
       "      <td>ทุกครั้งที่ฉันนะคิดจะลืม\\rมันคือเวลาที่คิดถึงม...</td>\n",
       "      <td>58</td>\n",
       "      <td>[ทุกครั้งที่, ฉัน, นะ, คิด, จะ, ลืม, มัน, คือ,...</td>\n",
       "      <td>317</td>\n",
       "      <td>ทุกครั้งที่ ฉัน นะ คิด จะ ลืม มัน คือ เวลา ที่...</td>\n",
       "      <td>{gavin_d}</td>\n",
       "      <td>0</td>\n",
       "      <td>1</td>\n",
       "    </tr>\n",
       "    <tr>\n",
       "      <th>2238</th>\n",
       "      <td>gavin_d</td>\n",
       "      <td>รัก?</td>\n",
       "      <td>/music/thailyric/14276</td>\n",
       "      <td>ไม่เป็นไรใช่ไหม\\rนี่คือคำถาม หรือความห่วงใย\\rถ...</td>\n",
       "      <td>98</td>\n",
       "      <td>[ไม่เป็นไร, ใช่ไหม, นี่, คือ, คำถาม, หรือ, ควา...</td>\n",
       "      <td>511</td>\n",
       "      <td>ไม่เป็นไร ใช่ไหม นี่ คือ คำถาม หรือ ความห่วงใย...</td>\n",
       "      <td>{gavin_d}</td>\n",
       "      <td>0</td>\n",
       "      <td>1</td>\n",
       "    </tr>\n",
       "    <tr>\n",
       "      <th>2239</th>\n",
       "      <td>gavin_d</td>\n",
       "      <td>รักได้ป่าว</td>\n",
       "      <td>/music/thailyric/17338</td>\n",
       "      <td>ไม่เคยมีใครน่ารักเท่ากับเธอ\\rเจอกี่ครั้งก็ยังล...</td>\n",
       "      <td>76</td>\n",
       "      <td>[ไม่, เคย, มี, ใคร, น่ารัก, เท่ากับ, เธอ, เจอ,...</td>\n",
       "      <td>440</td>\n",
       "      <td>ไม่ เคย มี ใคร น่ารัก เท่ากับ เธอ เจอ กี่ ครั้...</td>\n",
       "      <td>{gavin_d}</td>\n",
       "      <td>0</td>\n",
       "      <td>1</td>\n",
       "    </tr>\n",
       "  </tbody>\n",
       "</table>\n",
       "<p>2240 rows × 11 columns</p>\n",
       "</div>"
      ],
      "text/plain": [
       "              artist                 song_name                    href  \\\n",
       "0     bird_thongchai                      Okay  /music/thailyric/13588   \n",
       "1     bird_thongchai               กว่าจักรวาล  /music/thailyric/13978   \n",
       "2     bird_thongchai                     กำแพง  /music/thailyric/14111   \n",
       "3     bird_thongchai               ชีวิตเดี่ยว  /music/thailyric/13796   \n",
       "4     bird_thongchai                 ผู้ต้องหา  /music/thailyric/13825   \n",
       "...              ...                       ...                     ...   \n",
       "2235         gavin_d                 พ่อตาครับ  /music/thailyric/17862   \n",
       "2236         gavin_d  ไม่หวังให้ตอบ (No Reply)  /music/thailyric/13101   \n",
       "2237         gavin_d         ยิ่งลืมยิ่งคิดถึง  /music/thailyric/20476   \n",
       "2238         gavin_d                      รัก?  /music/thailyric/14276   \n",
       "2239         gavin_d                รักได้ป่าว  /music/thailyric/17338   \n",
       "\n",
       "                                                  lyric  lines  \\\n",
       "0     ไม่ว่าจะเป็นยังไง Baby its Okay\\rไม่ว่าจะเกิดอ...     57   \n",
       "1     จะยอมนั่งจรวด ไปตรวจดาวอังคาร\\rหากว่าที่แห่งนั...     31   \n",
       "2     ถ้าเคยพบเจอ กำแพงที่ดูทั้งใหญ่และสูงชัน\\rเธอรู...     39   \n",
       "3     อยู่ตรงนี้แค่เพียงลำพัง\\rกับความเหงาที่เป็นดั่...     50   \n",
       "4     แค่ตัวคนเดียวไม่ตายล่ะมั้ง\\rถามใจกี่ครั้งก็ยัง...     65   \n",
       "...                                                 ...    ...   \n",
       "2235  พ่อตาผมโคตรโหด ผมไม่เคยเจอใครที่หนวดเยอะขนาดนี...     48   \n",
       "2236  ฉันไม่ได้ตั้งใจที่จะส่งไปหาเธอ\\rหน้าจอมันเบลอเ...     60   \n",
       "2237  ทุกครั้งที่ฉันนะคิดจะลืม\\rมันคือเวลาที่คิดถึงม...     58   \n",
       "2238  ไม่เป็นไรใช่ไหม\\rนี่คือคำถาม หรือความห่วงใย\\rถ...     98   \n",
       "2239  ไม่เคยมีใครน่ารักเท่ากับเธอ\\rเจอกี่ครั้งก็ยังล...     76   \n",
       "\n",
       "                                                  words  n_words  \\\n",
       "0     [ไม่, ว่า, จะ, เป็น, ยังไง, babi, it, okay, ไม...      343   \n",
       "1     [จะ, ยอม, นั่ง, จรวด, ไป, ตรวจ, ดาวอังคาร, หาก...      239   \n",
       "2     [ถ้า, เคย, พบ, เจอ, กำแพง, ที่, ดู, ทั้ง, ใหญ่...      316   \n",
       "3     [อยู่, ตรงนี้, แค่, เพียงลำพัง, กับ, ความเหงา,...      250   \n",
       "4     [แค่, ตัว, คนเดียว, ไม่, ตาย, ล่ะ, มั้ง, ถาม, ...      416   \n",
       "...                                                 ...      ...   \n",
       "2235  [พ่อตา, ผม, โคตร, โหด, ผม, ไม่, เคย, เจอ, ใคร,...      434   \n",
       "2236  [ฉัน, ไม่, ได้, ตั้งใจ, ที่จะ, ส่ง, ไปหา, เธอ,...      381   \n",
       "2237  [ทุกครั้งที่, ฉัน, นะ, คิด, จะ, ลืม, มัน, คือ,...      317   \n",
       "2238  [ไม่เป็นไร, ใช่ไหม, นี่, คือ, คำถาม, หรือ, ควา...      511   \n",
       "2239  [ไม่, เคย, มี, ใคร, น่ารัก, เท่ากับ, เธอ, เจอ,...      440   \n",
       "\n",
       "                                              words_str           artists  \\\n",
       "0     ไม่ ว่า จะ เป็น ยังไง babi it okay ไม่ ว่า จะ ...  {bird_thongchai}   \n",
       "1     จะ ยอม นั่ง จรวด ไป ตรวจ ดาวอังคาร หาก ว่าที่ ...  {bird_thongchai}   \n",
       "2     ถ้า เคย พบ เจอ กำแพง ที่ ดู ทั้ง ใหญ่ และ สูงช...  {bird_thongchai}   \n",
       "3     อยู่ ตรงนี้ แค่ เพียงลำพัง กับ ความเหงา ที่ เป...  {bird_thongchai}   \n",
       "4     แค่ ตัว คนเดียว ไม่ ตาย ล่ะ มั้ง ถาม ใจ กี่ คร...  {bird_thongchai}   \n",
       "...                                                 ...               ...   \n",
       "2235  พ่อตา ผม โคตร โหด ผม ไม่ เคย เจอ ใคร ที่ หนวด ...         {gavin_d}   \n",
       "2236  ฉัน ไม่ ได้ ตั้งใจ ที่จะ ส่ง ไปหา เธอ หน้าจอ ม...         {gavin_d}   \n",
       "2237  ทุกครั้งที่ ฉัน นะ คิด จะ ลืม มัน คือ เวลา ที่...         {gavin_d}   \n",
       "2238  ไม่เป็นไร ใช่ไหม นี่ คือ คำถาม หรือ ความห่วงใย...         {gavin_d}   \n",
       "2239  ไม่ เคย มี ใคร น่ารัก เท่ากับ เธอ เจอ กี่ ครั้...         {gavin_d}   \n",
       "\n",
       "      duplicates  n_artists  \n",
       "0              0          1  \n",
       "1              0          1  \n",
       "2              0          1  \n",
       "3              0          1  \n",
       "4              0          1  \n",
       "...          ...        ...  \n",
       "2235           0          1  \n",
       "2236           0          1  \n",
       "2237           0          1  \n",
       "2238           0          1  \n",
       "2239           0          1  \n",
       "\n",
       "[2240 rows x 11 columns]"
      ]
     },
     "execution_count": 259,
     "metadata": {},
     "output_type": "execute_result"
    }
   ],
   "source": [
    "song_df"
   ]
  },
  {
   "cell_type": "markdown",
   "metadata": {},
   "source": [
    "## Export the clean data"
   ]
  },
  {
   "cell_type": "code",
   "execution_count": 260,
   "metadata": {},
   "outputs": [],
   "source": [
    "song_df.to_pickle('../../data_lyrics/pd/clean_th_songs_35.pkl')"
   ]
  }
 ],
 "metadata": {
  "interpreter": {
   "hash": "74b61129dc21a09fdc11cbb8ab8ed7bd59468d4ab432d84f730f945183c44b80"
  },
  "kernelspec": {
   "display_name": "Python 3.8.13 ('torch38')",
   "language": "python",
   "name": "python3"
  },
  "language_info": {
   "codemirror_mode": {
    "name": "ipython",
    "version": 3
   },
   "file_extension": ".py",
   "mimetype": "text/x-python",
   "name": "python",
   "nbconvert_exporter": "python",
   "pygments_lexer": "ipython3",
   "version": "3.8.13"
  }
 },
 "nbformat": 4,
 "nbformat_minor": 2
}
