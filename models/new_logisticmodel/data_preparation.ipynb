{
 "cells": [
  {
   "cell_type": "code",
   "execution_count": 21,
   "metadata": {},
   "outputs": [],
   "source": [
    "# !pip install plotly\n",
    "# !pip install pythainlp\n",
    "# !pip install stop_words\n",
    "# !pip install nltk"
   ]
  },
  {
   "cell_type": "markdown",
   "metadata": {},
   "source": [
    "### Import Library"
   ]
  },
  {
   "cell_type": "code",
   "execution_count": 22,
   "metadata": {},
   "outputs": [
    {
     "name": "stderr",
     "output_type": "stream",
     "text": [
      "[nltk_data] Downloading package words to C:\\Users\\FACT-\n",
      "[nltk_data]     PC\\AppData\\Roaming\\nltk_data...\n",
      "[nltk_data]   Package words is already up-to-date!\n",
      "[nltk_data] Downloading package omw-1.4 to C:\\Users\\FACT-\n",
      "[nltk_data]     PC\\AppData\\Roaming\\nltk_data...\n",
      "[nltk_data]   Package omw-1.4 is already up-to-date!\n"
     ]
    },
    {
     "data": {
      "text/plain": [
       "True"
      ]
     },
     "execution_count": 22,
     "metadata": {},
     "output_type": "execute_result"
    }
   ],
   "source": [
    "# import libraries\n",
    "import pandas as pd\n",
    "import plotly.express as px\n",
    "import re\n",
    "import pickle\n",
    "import nltk\n",
    "nltk.download('words')\n",
    "nltk.download('omw-1.4')"
   ]
  },
  {
   "cell_type": "markdown",
   "metadata": {},
   "source": [
    "### Import CSV"
   ]
  },
  {
   "cell_type": "code",
   "execution_count": 23,
   "metadata": {},
   "outputs": [],
   "source": [
    "import glob, os\n",
    "\n",
    "all_files = glob.glob(\"../../data_lyrics/thaisongs/*.csv\")\n",
    "\n",
    "li = []\n",
    "\n",
    "for filename in all_files:\n",
    "    song_df = pd.read_csv(filename, index_col=None, header=0)\n",
    "    li.append(song_df)\n",
    "\n",
    "song_df = pd.concat(li, axis=0, ignore_index=True)"
   ]
  },
  {
   "cell_type": "code",
   "execution_count": 24,
   "metadata": {},
   "outputs": [],
   "source": [
    "song_df = pd.read_csv('../../data_lyrics/35_song_per_artist.csv')"
   ]
  },
  {
   "cell_type": "markdown",
   "metadata": {},
   "source": [
    "## Data Preparation"
   ]
  },
  {
   "cell_type": "markdown",
   "metadata": {},
   "source": [
    "### Clean Data"
   ]
  },
  {
   "cell_type": "code",
   "execution_count": 25,
   "metadata": {},
   "outputs": [
    {
     "name": "stdout",
     "output_type": "stream",
     "text": [
      "Number of round brackets: 0\n",
      "Number of square brackets: 0\n",
      "Number of curly brackets: 0\n",
      "Number of dot: 0\n",
      "Number of star: 0\n",
      "Number of semi colon: 0\n",
      "Number of colon: 0\n",
      "Number of exclamation mark: 0\n",
      "Number of slash: 0\n",
      "Number of slashR: 0\n",
      "Number of question mark: 0\n",
      "Number of hashtag: 0\n",
      "Number of percent: 0\n",
      "Number of plus: 0\n",
      "Number of minus: 0\n",
      "Number of comma: 0\n",
      "Number of single quote: 0\n",
      "Number of double quote: 0\n",
      "Number of dollar sign: 0\n",
      "Number of ampersand: 0\n",
      "Number of underscore: 0\n"
     ]
    }
   ],
   "source": [
    "# remove !@#$%^&*()_+\n",
    "lyric_in_round_brackets = sum(list(song_df['lyric'].map(lambda s: re.findall(r'\\((.*?)\\)',s))), [])\n",
    "lyric_in_square_brackets = sum(list(song_df['lyric'].map(lambda s: re.findall(r'\\[(.*?)\\]',s))), [])\n",
    "lyric_in_curly_brackets = sum(list(song_df['lyric'].map(lambda s: re.findall(r'\\{(.*?)\\}',s))), [])\n",
    "dot = sum(list(song_df['lyric'].map(lambda s: re.findall('\\.',s))), [])\n",
    "star = sum(list(song_df['lyric'].map(lambda s: re.findall('\\*',s))), [])\n",
    "semi_colon = sum(list(song_df['lyric'].map(lambda s: re.findall('\\;',s))), [])\n",
    "colon = sum(list(song_df['lyric'].map(lambda s: re.findall('\\:',s))), [])\n",
    "exclam_mark = sum(list(song_df['lyric'].map(lambda s: re.findall(r\"\\!\",s))), [])\n",
    "slash = sum(list(song_df['lyric'].map(lambda s: re.findall(r\"\\/\",s))), [])\n",
    "slashR = sum(list(song_df['lyric'].map(lambda s: re.findall(r\"\\\\\",s))), [])\n",
    "question_mark = sum(list(song_df['lyric'].map(lambda s: re.findall(r\"\\?\",s))), [])\n",
    "hashtag = sum(list(song_df['lyric'].map(lambda s: re.findall(r\"\\#\",s))), [])\n",
    "percent = sum(list(song_df['lyric'].map(lambda s: re.findall(r\"\\%\",s))), [])\n",
    "plus = sum(list(song_df['lyric'].map(lambda s: re.findall(r\"\\+\",s))), [])\n",
    "minus = sum(list(song_df['lyric'].map(lambda s: re.findall(r\"\\-\",s))), [])\n",
    "comma = sum(list(song_df['lyric'].map(lambda s: re.findall(r\"\\,\",s))), [])\n",
    "sg_quote = sum(list(song_df['lyric'].map(lambda s: re.findall(r\"\\'\",s))), [])\n",
    "db_quote = sum(list(song_df['lyric'].map(lambda s: re.findall(r\"\\\"\",s))), [])\n",
    "dollar_sign = sum(list(song_df['lyric'].map(lambda s: re.findall(r\"\\$\",s))), [])\n",
    "ampersand = sum(list(song_df['lyric'].map(lambda s: re.findall(r\"\\&\",s))), [])\n",
    "underscore = sum(list(song_df['lyric'].map(lambda s: re.findall(r\"\\_\",s))), [])\n",
    "\n",
    "\n",
    "song_df['lyric'] = song_df['lyric'].map(lambda s: re.sub(r'\\((.*?)\\)', '', s))\n",
    "song_df['lyric'] = song_df['lyric'].map(lambda s: re.sub(r'\\[(.*?)\\]', '', s))\n",
    "song_df['lyric'] = song_df['lyric'].map(lambda s: re.sub(r'\\{(.*?)\\}', '', s))\n",
    "song_df['lyric'] = song_df['lyric'].map(lambda s: re.sub(r'\\.', '', s))\n",
    "song_df['lyric'] = song_df['lyric'].map(lambda s: re.sub(r'\\*', '', s))\n",
    "song_df['lyric'] = song_df['lyric'].map(lambda s: re.sub(r'\\;', '', s))\n",
    "song_df['lyric'] = song_df['lyric'].map(lambda s: re.sub(r'\\:', '', s))\n",
    "song_df['lyric'] = song_df['lyric'].map(lambda s: re.sub(r\"\\!\", '', s))\n",
    "song_df['lyric'] = song_df['lyric'].map(lambda s: re.sub(r\"\\/\", '', s))\n",
    "song_df['lyric'] = song_df['lyric'].map(lambda s: re.sub(r'\\\\', '', s))\n",
    "song_df['lyric'] = song_df['lyric'].map(lambda s: re.sub(r\"\\?\", '', s))\n",
    "song_df['lyric'] = song_df['lyric'].map(lambda s: re.sub(r\"\\#\", '', s))\n",
    "song_df['lyric'] = song_df['lyric'].map(lambda s: re.sub(r\"\\%\", '', s))\n",
    "song_df['lyric'] = song_df['lyric'].map(lambda s: re.sub(r\"\\+\", '', s))\n",
    "song_df['lyric'] = song_df['lyric'].map(lambda s: re.sub(r\"\\-\", '', s))\n",
    "song_df['lyric'] = song_df['lyric'].map(lambda s: re.sub(r\"\\,\", '', s))\n",
    "song_df['lyric'] = song_df['lyric'].map(lambda s: re.sub(r\"\\'\", '', s))\n",
    "song_df['lyric'] = song_df['lyric'].map(lambda s: re.sub(r'\\\"', '', s))\n",
    "song_df['lyric'] = song_df['lyric'].map(lambda s: re.sub(r'\\$', '', s))\n",
    "song_df['lyric'] = song_df['lyric'].map(lambda s: re.sub(r'\\&', '', s))\n",
    "song_df['lyric'] = song_df['lyric'].map(lambda s: re.sub(r'\\(|\\)', '', s))\n",
    "song_df['lyric'] = song_df['lyric'].map(lambda s: re.sub(r'\\_', '', s))\n",
    "\n",
    "\n",
    "print('Number of round brackets: {}'.format(len(lyric_in_round_brackets)))\n",
    "print('Number of square brackets: {}'.format(len(lyric_in_square_brackets)))\n",
    "print('Number of curly brackets: {}'.format(len(lyric_in_curly_brackets)))\n",
    "print('Number of dot: {}'.format(len(dot)))\n",
    "print('Number of star: {}'.format(len(star)))\n",
    "print('Number of semi colon: {}'.format(len(semi_colon)))\n",
    "print('Number of colon: {}'.format(len(colon)))\n",
    "print('Number of exclamation mark: {}'.format(len(exclam_mark)))\n",
    "print('Number of slash: {}'.format(len(slash)))\n",
    "print('Number of slashR: {}'.format(len(slashR)))\n",
    "print('Number of question mark: {}'.format(len(question_mark)))\n",
    "print('Number of hashtag: {}'.format(len(hashtag)))\n",
    "print('Number of percent: {}'.format(len(percent)))\n",
    "print('Number of plus: {}'.format(len(plus)))\n",
    "print('Number of minus: {}'.format(len(minus)))\n",
    "print('Number of comma: {}'.format(len(comma)))\n",
    "print('Number of single quote: {}'.format(len(sg_quote)))\n",
    "print('Number of double quote: {}'.format(len(db_quote)))\n",
    "print('Number of dollar sign: {}'.format(len(dollar_sign)))\n",
    "print('Number of ampersand: {}'.format(len(ampersand)))\n",
    "print('Number of underscore: {}'.format(len(underscore)))"
   ]
  },
  {
   "cell_type": "code",
   "execution_count": 26,
   "metadata": {},
   "outputs": [],
   "source": [
    "# count number of lines\n",
    "song_df['lines'] = song_df['lyric'].map(lambda t: len(re.findall(r'\\n', t)))"
   ]
  },
  {
   "cell_type": "code",
   "execution_count": 27,
   "metadata": {},
   "outputs": [],
   "source": [
    "# remove line breaks\n",
    "song_df['lyric'] = song_df['lyric'].map(lambda s: re.sub(r' \\n|\\n', '', s))"
   ]
  },
  {
   "cell_type": "markdown",
   "metadata": {},
   "source": [
    "### Tokenise"
   ]
  },
  {
   "cell_type": "code",
   "execution_count": 28,
   "metadata": {},
   "outputs": [],
   "source": [
    "import pythainlp\n",
    "from pythainlp import word_tokenize\n",
    "from pythainlp.corpus.common import thai_stopwords\n",
    "from pythainlp.corpus import wordnet\n",
    "from nltk.stem.porter import PorterStemmer\n",
    "from nltk.corpus import words\n",
    "from stop_words import get_stop_words\n",
    "# from pythainlp.ulmfit import process_thai"
   ]
  },
  {
   "cell_type": "code",
   "execution_count": 29,
   "metadata": {},
   "outputs": [],
   "source": [
    "th_stop = tuple(thai_stopwords())\n",
    "en_stop = tuple(get_stop_words('en'))\n",
    "p_stemmer = PorterStemmer()"
   ]
  },
  {
   "cell_type": "code",
   "execution_count": 30,
   "metadata": {},
   "outputs": [],
   "source": [
    "def split_word(text):\n",
    "\n",
    "    tokens = word_tokenize(text,engine='newmm')\n",
    "    \n",
    "    # Remove stop words ภาษาไทย และภาษาอังกฤษ\n",
    "    #tokens = [i for i in tokens if not i in th_stop and not i in en_stop]\n",
    "    \n",
    "    # หารากศัพท์ภาษาไทย และภาษาอังกฤษ\n",
    "    # English\n",
    "    tokens = [p_stemmer.stem(i) for i in tokens]\n",
    "    \n",
    "    # Thai\n",
    "    # tokens_temp=[]\n",
    "    # for i in tokens:\n",
    "    #     w_syn = wordnet.synsets(i)\n",
    "    #     if (len(w_syn)>0) and (len(w_syn[0].lemma_names('tha'))>0):\n",
    "    #         tokens_temp.append(w_syn[0].lemma_names('tha')[0])\n",
    "    #     else:\n",
    "    #         tokens_temp.append(i)\n",
    "    \n",
    "    # tokens = tokens_temp\n",
    "    \n",
    "    # ลบตัวเลข\n",
    "    tokens = [i for i in tokens if not i.isnumeric()]\n",
    "    \n",
    "    # ลบช่องว่าง\n",
    "    tokens = [i for i in tokens if not ' ' in i]\n",
    "\n",
    "    return tokens"
   ]
  },
  {
   "cell_type": "code",
   "execution_count": 31,
   "metadata": {},
   "outputs": [],
   "source": [
    "song_df['words'] = song_df['lyric'].map(lambda s: split_word(s))\n",
    "\n",
    "# This function may take longer than 2 minutes."
   ]
  },
  {
   "cell_type": "code",
   "execution_count": 32,
   "metadata": {},
   "outputs": [
    {
     "data": {
      "text/html": [
       "<div>\n",
       "<style scoped>\n",
       "    .dataframe tbody tr th:only-of-type {\n",
       "        vertical-align: middle;\n",
       "    }\n",
       "\n",
       "    .dataframe tbody tr th {\n",
       "        vertical-align: top;\n",
       "    }\n",
       "\n",
       "    .dataframe thead th {\n",
       "        text-align: right;\n",
       "    }\n",
       "</style>\n",
       "<table border=\"1\" class=\"dataframe\">\n",
       "  <thead>\n",
       "    <tr style=\"text-align: right;\">\n",
       "      <th></th>\n",
       "      <th>lyric</th>\n",
       "      <th>words</th>\n",
       "    </tr>\n",
       "  </thead>\n",
       "  <tbody>\n",
       "    <tr>\n",
       "      <th>2235</th>\n",
       "      <td>พ่อตาผมโคตรโหด ผมไม่เคยเจอใครที่หนวดเยอะขนาดนี...</td>\n",
       "      <td>[พ่อตา, ผม, โคตร, โหด, ผม, ไม่, เคย, เจอ, ใคร,...</td>\n",
       "    </tr>\n",
       "    <tr>\n",
       "      <th>2236</th>\n",
       "      <td>ฉันไม่ได้ตั้งใจที่จะส่งไปหาเธอ\\rหน้าจอมันเบลอเ...</td>\n",
       "      <td>[ฉัน, ไม่, ได้, ตั้งใจ, ที่จะ, ส่ง, ไปหา, เธอ,...</td>\n",
       "    </tr>\n",
       "    <tr>\n",
       "      <th>2237</th>\n",
       "      <td>ทุกครั้งที่ฉันนะคิดจะลืม\\rมันคือเวลาที่คิดถึงม...</td>\n",
       "      <td>[ทุกครั้งที่, ฉัน, นะ, คิด, จะ, ลืม, \\r, มัน, ...</td>\n",
       "    </tr>\n",
       "    <tr>\n",
       "      <th>2238</th>\n",
       "      <td>ไม่เป็นไรใช่ไหม\\rนี่คือคำถาม หรือความห่วงใย\\rถ...</td>\n",
       "      <td>[ไม่เป็นไร, ใช่ไหม, \\r, นี่, คือ, คำถาม, หรือ,...</td>\n",
       "    </tr>\n",
       "    <tr>\n",
       "      <th>2239</th>\n",
       "      <td>ไม่เคยมีใครน่ารักเท่ากับเธอ\\rเจอกี่ครั้งก็ยังล...</td>\n",
       "      <td>[ไม่, เคย, มี, ใคร, น่ารัก, เท่ากับ, เธอ, \\r, ...</td>\n",
       "    </tr>\n",
       "  </tbody>\n",
       "</table>\n",
       "</div>"
      ],
      "text/plain": [
       "                                                  lyric  \\\n",
       "2235  พ่อตาผมโคตรโหด ผมไม่เคยเจอใครที่หนวดเยอะขนาดนี...   \n",
       "2236  ฉันไม่ได้ตั้งใจที่จะส่งไปหาเธอ\\rหน้าจอมันเบลอเ...   \n",
       "2237  ทุกครั้งที่ฉันนะคิดจะลืม\\rมันคือเวลาที่คิดถึงม...   \n",
       "2238  ไม่เป็นไรใช่ไหม\\rนี่คือคำถาม หรือความห่วงใย\\rถ...   \n",
       "2239  ไม่เคยมีใครน่ารักเท่ากับเธอ\\rเจอกี่ครั้งก็ยังล...   \n",
       "\n",
       "                                                  words  \n",
       "2235  [พ่อตา, ผม, โคตร, โหด, ผม, ไม่, เคย, เจอ, ใคร,...  \n",
       "2236  [ฉัน, ไม่, ได้, ตั้งใจ, ที่จะ, ส่ง, ไปหา, เธอ,...  \n",
       "2237  [ทุกครั้งที่, ฉัน, นะ, คิด, จะ, ลืม, \\r, มัน, ...  \n",
       "2238  [ไม่เป็นไร, ใช่ไหม, \\r, นี่, คือ, คำถาม, หรือ,...  \n",
       "2239  [ไม่, เคย, มี, ใคร, น่ารัก, เท่ากับ, เธอ, \\r, ...  "
      ]
     },
     "execution_count": 32,
     "metadata": {},
     "output_type": "execute_result"
    }
   ],
   "source": [
    "song_df[['lyric','words']].tail()"
   ]
  },
  {
   "cell_type": "code",
   "execution_count": 33,
   "metadata": {},
   "outputs": [],
   "source": [
    "song_df['n_words'] = song_df['words'].map(len)"
   ]
  },
  {
   "cell_type": "markdown",
   "metadata": {},
   "source": [
    "### EDA"
   ]
  },
  {
   "cell_type": "code",
   "execution_count": 34,
   "metadata": {},
   "outputs": [
    {
     "name": "stdout",
     "output_type": "stream",
     "text": [
      "number of songs:  2240\n",
      "number of artists:  64\n"
     ]
    }
   ],
   "source": [
    "# number of songs\n",
    "print('number of songs: ', str(len(song_df)))\n",
    "\n",
    "# number of artists\n",
    "print('number of artists: ', str(len(song_df['artist'].unique())))"
   ]
  },
  {
   "cell_type": "code",
   "execution_count": 35,
   "metadata": {},
   "outputs": [
    {
     "name": "stdout",
     "output_type": "stream",
     "text": [
      "\n"
     ]
    },
    {
     "data": {
      "application/vnd.plotly.v1+json": {
       "config": {
        "plotlyServerURL": "https://plot.ly"
       },
       "data": [
        {
         "alignmentgroup": "True",
         "bingroup": "x",
         "hovertemplate": "Songs=%{x}<br>count=%{y}<extra></extra>",
         "legendgroup": "",
         "marker": {
          "color": "#636efa",
          "pattern": {
           "shape": ""
          }
         },
         "name": "",
         "offsetgroup": "",
         "orientation": "v",
         "showlegend": false,
         "type": "histogram",
         "x": [
          35,
          35,
          35,
          35,
          35,
          35,
          35,
          35,
          35,
          35,
          35,
          35,
          35,
          35,
          35,
          35,
          35,
          35,
          35,
          35,
          35,
          35,
          35,
          35,
          35,
          35,
          35,
          35,
          35,
          35,
          35,
          35,
          35,
          35,
          35,
          35,
          35,
          35,
          35,
          35,
          35,
          35,
          35,
          35,
          35,
          35,
          35,
          35,
          35,
          35,
          35,
          35,
          35,
          35,
          35,
          35,
          35,
          35,
          35,
          35,
          35,
          35,
          35,
          35
         ],
         "xaxis": "x",
         "yaxis": "y"
        }
       ],
       "layout": {
        "barmode": "relative",
        "legend": {
         "tracegroupgap": 0
        },
        "template": {
         "data": {
          "bar": [
           {
            "error_x": {
             "color": "#2a3f5f"
            },
            "error_y": {
             "color": "#2a3f5f"
            },
            "marker": {
             "line": {
              "color": "#E5ECF6",
              "width": 0.5
             },
             "pattern": {
              "fillmode": "overlay",
              "size": 10,
              "solidity": 0.2
             }
            },
            "type": "bar"
           }
          ],
          "barpolar": [
           {
            "marker": {
             "line": {
              "color": "#E5ECF6",
              "width": 0.5
             },
             "pattern": {
              "fillmode": "overlay",
              "size": 10,
              "solidity": 0.2
             }
            },
            "type": "barpolar"
           }
          ],
          "carpet": [
           {
            "aaxis": {
             "endlinecolor": "#2a3f5f",
             "gridcolor": "white",
             "linecolor": "white",
             "minorgridcolor": "white",
             "startlinecolor": "#2a3f5f"
            },
            "baxis": {
             "endlinecolor": "#2a3f5f",
             "gridcolor": "white",
             "linecolor": "white",
             "minorgridcolor": "white",
             "startlinecolor": "#2a3f5f"
            },
            "type": "carpet"
           }
          ],
          "choropleth": [
           {
            "colorbar": {
             "outlinewidth": 0,
             "ticks": ""
            },
            "type": "choropleth"
           }
          ],
          "contour": [
           {
            "colorbar": {
             "outlinewidth": 0,
             "ticks": ""
            },
            "colorscale": [
             [
              0,
              "#0d0887"
             ],
             [
              0.1111111111111111,
              "#46039f"
             ],
             [
              0.2222222222222222,
              "#7201a8"
             ],
             [
              0.3333333333333333,
              "#9c179e"
             ],
             [
              0.4444444444444444,
              "#bd3786"
             ],
             [
              0.5555555555555556,
              "#d8576b"
             ],
             [
              0.6666666666666666,
              "#ed7953"
             ],
             [
              0.7777777777777778,
              "#fb9f3a"
             ],
             [
              0.8888888888888888,
              "#fdca26"
             ],
             [
              1,
              "#f0f921"
             ]
            ],
            "type": "contour"
           }
          ],
          "contourcarpet": [
           {
            "colorbar": {
             "outlinewidth": 0,
             "ticks": ""
            },
            "type": "contourcarpet"
           }
          ],
          "heatmap": [
           {
            "colorbar": {
             "outlinewidth": 0,
             "ticks": ""
            },
            "colorscale": [
             [
              0,
              "#0d0887"
             ],
             [
              0.1111111111111111,
              "#46039f"
             ],
             [
              0.2222222222222222,
              "#7201a8"
             ],
             [
              0.3333333333333333,
              "#9c179e"
             ],
             [
              0.4444444444444444,
              "#bd3786"
             ],
             [
              0.5555555555555556,
              "#d8576b"
             ],
             [
              0.6666666666666666,
              "#ed7953"
             ],
             [
              0.7777777777777778,
              "#fb9f3a"
             ],
             [
              0.8888888888888888,
              "#fdca26"
             ],
             [
              1,
              "#f0f921"
             ]
            ],
            "type": "heatmap"
           }
          ],
          "heatmapgl": [
           {
            "colorbar": {
             "outlinewidth": 0,
             "ticks": ""
            },
            "colorscale": [
             [
              0,
              "#0d0887"
             ],
             [
              0.1111111111111111,
              "#46039f"
             ],
             [
              0.2222222222222222,
              "#7201a8"
             ],
             [
              0.3333333333333333,
              "#9c179e"
             ],
             [
              0.4444444444444444,
              "#bd3786"
             ],
             [
              0.5555555555555556,
              "#d8576b"
             ],
             [
              0.6666666666666666,
              "#ed7953"
             ],
             [
              0.7777777777777778,
              "#fb9f3a"
             ],
             [
              0.8888888888888888,
              "#fdca26"
             ],
             [
              1,
              "#f0f921"
             ]
            ],
            "type": "heatmapgl"
           }
          ],
          "histogram": [
           {
            "marker": {
             "pattern": {
              "fillmode": "overlay",
              "size": 10,
              "solidity": 0.2
             }
            },
            "type": "histogram"
           }
          ],
          "histogram2d": [
           {
            "colorbar": {
             "outlinewidth": 0,
             "ticks": ""
            },
            "colorscale": [
             [
              0,
              "#0d0887"
             ],
             [
              0.1111111111111111,
              "#46039f"
             ],
             [
              0.2222222222222222,
              "#7201a8"
             ],
             [
              0.3333333333333333,
              "#9c179e"
             ],
             [
              0.4444444444444444,
              "#bd3786"
             ],
             [
              0.5555555555555556,
              "#d8576b"
             ],
             [
              0.6666666666666666,
              "#ed7953"
             ],
             [
              0.7777777777777778,
              "#fb9f3a"
             ],
             [
              0.8888888888888888,
              "#fdca26"
             ],
             [
              1,
              "#f0f921"
             ]
            ],
            "type": "histogram2d"
           }
          ],
          "histogram2dcontour": [
           {
            "colorbar": {
             "outlinewidth": 0,
             "ticks": ""
            },
            "colorscale": [
             [
              0,
              "#0d0887"
             ],
             [
              0.1111111111111111,
              "#46039f"
             ],
             [
              0.2222222222222222,
              "#7201a8"
             ],
             [
              0.3333333333333333,
              "#9c179e"
             ],
             [
              0.4444444444444444,
              "#bd3786"
             ],
             [
              0.5555555555555556,
              "#d8576b"
             ],
             [
              0.6666666666666666,
              "#ed7953"
             ],
             [
              0.7777777777777778,
              "#fb9f3a"
             ],
             [
              0.8888888888888888,
              "#fdca26"
             ],
             [
              1,
              "#f0f921"
             ]
            ],
            "type": "histogram2dcontour"
           }
          ],
          "mesh3d": [
           {
            "colorbar": {
             "outlinewidth": 0,
             "ticks": ""
            },
            "type": "mesh3d"
           }
          ],
          "parcoords": [
           {
            "line": {
             "colorbar": {
              "outlinewidth": 0,
              "ticks": ""
             }
            },
            "type": "parcoords"
           }
          ],
          "pie": [
           {
            "automargin": true,
            "type": "pie"
           }
          ],
          "scatter": [
           {
            "fillpattern": {
             "fillmode": "overlay",
             "size": 10,
             "solidity": 0.2
            },
            "type": "scatter"
           }
          ],
          "scatter3d": [
           {
            "line": {
             "colorbar": {
              "outlinewidth": 0,
              "ticks": ""
             }
            },
            "marker": {
             "colorbar": {
              "outlinewidth": 0,
              "ticks": ""
             }
            },
            "type": "scatter3d"
           }
          ],
          "scattercarpet": [
           {
            "marker": {
             "colorbar": {
              "outlinewidth": 0,
              "ticks": ""
             }
            },
            "type": "scattercarpet"
           }
          ],
          "scattergeo": [
           {
            "marker": {
             "colorbar": {
              "outlinewidth": 0,
              "ticks": ""
             }
            },
            "type": "scattergeo"
           }
          ],
          "scattergl": [
           {
            "marker": {
             "colorbar": {
              "outlinewidth": 0,
              "ticks": ""
             }
            },
            "type": "scattergl"
           }
          ],
          "scattermapbox": [
           {
            "marker": {
             "colorbar": {
              "outlinewidth": 0,
              "ticks": ""
             }
            },
            "type": "scattermapbox"
           }
          ],
          "scatterpolar": [
           {
            "marker": {
             "colorbar": {
              "outlinewidth": 0,
              "ticks": ""
             }
            },
            "type": "scatterpolar"
           }
          ],
          "scatterpolargl": [
           {
            "marker": {
             "colorbar": {
              "outlinewidth": 0,
              "ticks": ""
             }
            },
            "type": "scatterpolargl"
           }
          ],
          "scatterternary": [
           {
            "marker": {
             "colorbar": {
              "outlinewidth": 0,
              "ticks": ""
             }
            },
            "type": "scatterternary"
           }
          ],
          "surface": [
           {
            "colorbar": {
             "outlinewidth": 0,
             "ticks": ""
            },
            "colorscale": [
             [
              0,
              "#0d0887"
             ],
             [
              0.1111111111111111,
              "#46039f"
             ],
             [
              0.2222222222222222,
              "#7201a8"
             ],
             [
              0.3333333333333333,
              "#9c179e"
             ],
             [
              0.4444444444444444,
              "#bd3786"
             ],
             [
              0.5555555555555556,
              "#d8576b"
             ],
             [
              0.6666666666666666,
              "#ed7953"
             ],
             [
              0.7777777777777778,
              "#fb9f3a"
             ],
             [
              0.8888888888888888,
              "#fdca26"
             ],
             [
              1,
              "#f0f921"
             ]
            ],
            "type": "surface"
           }
          ],
          "table": [
           {
            "cells": {
             "fill": {
              "color": "#EBF0F8"
             },
             "line": {
              "color": "white"
             }
            },
            "header": {
             "fill": {
              "color": "#C8D4E3"
             },
             "line": {
              "color": "white"
             }
            },
            "type": "table"
           }
          ]
         },
         "layout": {
          "annotationdefaults": {
           "arrowcolor": "#2a3f5f",
           "arrowhead": 0,
           "arrowwidth": 1
          },
          "autotypenumbers": "strict",
          "coloraxis": {
           "colorbar": {
            "outlinewidth": 0,
            "ticks": ""
           }
          },
          "colorscale": {
           "diverging": [
            [
             0,
             "#8e0152"
            ],
            [
             0.1,
             "#c51b7d"
            ],
            [
             0.2,
             "#de77ae"
            ],
            [
             0.3,
             "#f1b6da"
            ],
            [
             0.4,
             "#fde0ef"
            ],
            [
             0.5,
             "#f7f7f7"
            ],
            [
             0.6,
             "#e6f5d0"
            ],
            [
             0.7,
             "#b8e186"
            ],
            [
             0.8,
             "#7fbc41"
            ],
            [
             0.9,
             "#4d9221"
            ],
            [
             1,
             "#276419"
            ]
           ],
           "sequential": [
            [
             0,
             "#0d0887"
            ],
            [
             0.1111111111111111,
             "#46039f"
            ],
            [
             0.2222222222222222,
             "#7201a8"
            ],
            [
             0.3333333333333333,
             "#9c179e"
            ],
            [
             0.4444444444444444,
             "#bd3786"
            ],
            [
             0.5555555555555556,
             "#d8576b"
            ],
            [
             0.6666666666666666,
             "#ed7953"
            ],
            [
             0.7777777777777778,
             "#fb9f3a"
            ],
            [
             0.8888888888888888,
             "#fdca26"
            ],
            [
             1,
             "#f0f921"
            ]
           ],
           "sequentialminus": [
            [
             0,
             "#0d0887"
            ],
            [
             0.1111111111111111,
             "#46039f"
            ],
            [
             0.2222222222222222,
             "#7201a8"
            ],
            [
             0.3333333333333333,
             "#9c179e"
            ],
            [
             0.4444444444444444,
             "#bd3786"
            ],
            [
             0.5555555555555556,
             "#d8576b"
            ],
            [
             0.6666666666666666,
             "#ed7953"
            ],
            [
             0.7777777777777778,
             "#fb9f3a"
            ],
            [
             0.8888888888888888,
             "#fdca26"
            ],
            [
             1,
             "#f0f921"
            ]
           ]
          },
          "colorway": [
           "#636efa",
           "#EF553B",
           "#00cc96",
           "#ab63fa",
           "#FFA15A",
           "#19d3f3",
           "#FF6692",
           "#B6E880",
           "#FF97FF",
           "#FECB52"
          ],
          "font": {
           "color": "#2a3f5f"
          },
          "geo": {
           "bgcolor": "white",
           "lakecolor": "white",
           "landcolor": "#E5ECF6",
           "showlakes": true,
           "showland": true,
           "subunitcolor": "white"
          },
          "hoverlabel": {
           "align": "left"
          },
          "hovermode": "closest",
          "mapbox": {
           "style": "light"
          },
          "paper_bgcolor": "white",
          "plot_bgcolor": "#E5ECF6",
          "polar": {
           "angularaxis": {
            "gridcolor": "white",
            "linecolor": "white",
            "ticks": ""
           },
           "bgcolor": "#E5ECF6",
           "radialaxis": {
            "gridcolor": "white",
            "linecolor": "white",
            "ticks": ""
           }
          },
          "scene": {
           "xaxis": {
            "backgroundcolor": "#E5ECF6",
            "gridcolor": "white",
            "gridwidth": 2,
            "linecolor": "white",
            "showbackground": true,
            "ticks": "",
            "zerolinecolor": "white"
           },
           "yaxis": {
            "backgroundcolor": "#E5ECF6",
            "gridcolor": "white",
            "gridwidth": 2,
            "linecolor": "white",
            "showbackground": true,
            "ticks": "",
            "zerolinecolor": "white"
           },
           "zaxis": {
            "backgroundcolor": "#E5ECF6",
            "gridcolor": "white",
            "gridwidth": 2,
            "linecolor": "white",
            "showbackground": true,
            "ticks": "",
            "zerolinecolor": "white"
           }
          },
          "shapedefaults": {
           "line": {
            "color": "#2a3f5f"
           }
          },
          "ternary": {
           "aaxis": {
            "gridcolor": "white",
            "linecolor": "white",
            "ticks": ""
           },
           "baxis": {
            "gridcolor": "white",
            "linecolor": "white",
            "ticks": ""
           },
           "bgcolor": "#E5ECF6",
           "caxis": {
            "gridcolor": "white",
            "linecolor": "white",
            "ticks": ""
           }
          },
          "title": {
           "x": 0.05
          },
          "xaxis": {
           "automargin": true,
           "gridcolor": "white",
           "linecolor": "white",
           "ticks": "",
           "title": {
            "standoff": 15
           },
           "zerolinecolor": "white",
           "zerolinewidth": 2
          },
          "yaxis": {
           "automargin": true,
           "gridcolor": "white",
           "linecolor": "white",
           "ticks": "",
           "title": {
            "standoff": 15
           },
           "zerolinecolor": "white",
           "zerolinewidth": 2
          }
         }
        },
        "title": {
         "text": "Songs per artist"
        },
        "xaxis": {
         "anchor": "y",
         "domain": [
          0,
          1
         ],
         "title": {
          "text": "Songs"
         }
        },
        "yaxis": {
         "anchor": "x",
         "domain": [
          0,
          1
         ],
         "title": {
          "text": "count"
         }
        }
       }
      }
     },
     "metadata": {},
     "output_type": "display_data"
    }
   ],
   "source": [
    "# distribution songs per artist\n",
    "song_count_df = song_df.groupby('artist')[['song_name']].count()\n",
    "print()\n",
    "\n",
    "fig = px.histogram(song_count_df, x='song_name', title='Songs per artist', labels={'song_name': 'Songs'})\n",
    "fig.show()"
   ]
  },
  {
   "cell_type": "code",
   "execution_count": 36,
   "metadata": {},
   "outputs": [
    {
     "data": {
      "application/vnd.plotly.v1+json": {
       "config": {
        "plotlyServerURL": "https://plot.ly"
       },
       "data": [
        {
         "alignmentgroup": "True",
         "bingroup": "x",
         "hovertemplate": "n_words=%{x}<br>count=%{y}<extra></extra>",
         "legendgroup": "",
         "marker": {
          "color": "#636efa",
          "pattern": {
           "shape": ""
          }
         },
         "name": "",
         "offsetgroup": "",
         "orientation": "v",
         "showlegend": false,
         "type": "histogram",
         "x": [
          408,
          264,
          346,
          287,
          446,
          359,
          263,
          255,
          321,
          225,
          460,
          283,
          208,
          212,
          248,
          308,
          193,
          203,
          299,
          433,
          211,
          375,
          224,
          297,
          210,
          334,
          524,
          240,
          198,
          243,
          281,
          172,
          238,
          251,
          158,
          255,
          286,
          327,
          278,
          249,
          209,
          398,
          183,
          296,
          273,
          243,
          257,
          269,
          236,
          355,
          270,
          245,
          349,
          269,
          175,
          191,
          270,
          248,
          203,
          230,
          323,
          327,
          251,
          254,
          466,
          282,
          361,
          297,
          278,
          362,
          253,
          277,
          356,
          226,
          314,
          239,
          263,
          198,
          257,
          198,
          142,
          249,
          95,
          253,
          267,
          249,
          224,
          152,
          359,
          193,
          308,
          264,
          226,
          246,
          192,
          209,
          224,
          226,
          216,
          172,
          153,
          223,
          218,
          224,
          286,
          372,
          312,
          277,
          366,
          257,
          370,
          241,
          215,
          337,
          230,
          279,
          298,
          310,
          141,
          229,
          328,
          268,
          277,
          171,
          211,
          319,
          280,
          392,
          265,
          444,
          369,
          302,
          353,
          265,
          233,
          188,
          122,
          283,
          254,
          279,
          364,
          355,
          276,
          232,
          216,
          350,
          318,
          351,
          302,
          248,
          211,
          327,
          316,
          195,
          276,
          250,
          241,
          261,
          313,
          239,
          272,
          237,
          244,
          211,
          234,
          195,
          261,
          222,
          204,
          264,
          268,
          196,
          305,
          264,
          255,
          231,
          233,
          315,
          282,
          264,
          304,
          293,
          258,
          297,
          271,
          261,
          319,
          294,
          298,
          270,
          364,
          407,
          315,
          244,
          324,
          191,
          245,
          205,
          175,
          174,
          174,
          225,
          348,
          263,
          236,
          245,
          308,
          250,
          295,
          288,
          249,
          222,
          296,
          206,
          247,
          127,
          168,
          218,
          212,
          297,
          263,
          247,
          267,
          218,
          334,
          308,
          176,
          212,
          216,
          281,
          228,
          140,
          220,
          128,
          226,
          331,
          317,
          268,
          176,
          169,
          234,
          203,
          167,
          120,
          311,
          236,
          168,
          218,
          216,
          207,
          215,
          226,
          258,
          377,
          296,
          266,
          301,
          321,
          208,
          262,
          222,
          221,
          266,
          205,
          207,
          180,
          268,
          263,
          285,
          233,
          231,
          219,
          217,
          269,
          263,
          380,
          242,
          328,
          232,
          253,
          260,
          237,
          191,
          267,
          237,
          370,
          168,
          256,
          294,
          138,
          234,
          200,
          121,
          190,
          193,
          130,
          196,
          252,
          231,
          114,
          206,
          148,
          416,
          245,
          274,
          178,
          276,
          162,
          232,
          133,
          255,
          174,
          168,
          144,
          194,
          157,
          227,
          254,
          364,
          294,
          312,
          309,
          278,
          304,
          379,
          324,
          227,
          340,
          188,
          200,
          360,
          335,
          372,
          308,
          272,
          266,
          342,
          247,
          342,
          282,
          331,
          358,
          151,
          247,
          327,
          273,
          304,
          374,
          286,
          397,
          154,
          247,
          294,
          184,
          250,
          243,
          328,
          211,
          263,
          241,
          269,
          209,
          225,
          209,
          200,
          208,
          285,
          207,
          261,
          226,
          149,
          233,
          275,
          205,
          247,
          386,
          268,
          200,
          300,
          343,
          294,
          286,
          381,
          259,
          202,
          99,
          122,
          97,
          117,
          112,
          96,
          130,
          85,
          128,
          118,
          87,
          79,
          81,
          56,
          100,
          122,
          87,
          76,
          123,
          180,
          114,
          76,
          108,
          104,
          94,
          83,
          64,
          81,
          62,
          76,
          73,
          103,
          130,
          87,
          78,
          199,
          290,
          288,
          394,
          170,
          215,
          293,
          246,
          242,
          274,
          309,
          280,
          251,
          295,
          247,
          260,
          213,
          341,
          201,
          201,
          268,
          252,
          186,
          270,
          239,
          172,
          230,
          308,
          328,
          311,
          557,
          229,
          334,
          238,
          349,
          388,
          230,
          273,
          391,
          248,
          296,
          311,
          180,
          175,
          195,
          165,
          221,
          93,
          264,
          192,
          259,
          328,
          156,
          261,
          286,
          281,
          257,
          372,
          300,
          225,
          286,
          311,
          217,
          129,
          225,
          209,
          262,
          391,
          246,
          272,
          295,
          470,
          330,
          466,
          277,
          504,
          482,
          313,
          248,
          484,
          397,
          426,
          525,
          283,
          497,
          595,
          276,
          387,
          726,
          280,
          356,
          315,
          488,
          657,
          178,
          313,
          487,
          328,
          293,
          261,
          450,
          249,
          558,
          366,
          325,
          170,
          227,
          262,
          184,
          219,
          147,
          197,
          236,
          274,
          263,
          235,
          207,
          238,
          204,
          307,
          171,
          289,
          222,
          237,
          226,
          222,
          246,
          143,
          278,
          222,
          215,
          217,
          170,
          195,
          233,
          233,
          258,
          153,
          186,
          285,
          286,
          258,
          179,
          299,
          229,
          193,
          355,
          240,
          196,
          283,
          259,
          464,
          903,
          143,
          365,
          203,
          360,
          402,
          224,
          188,
          467,
          340,
          193,
          170,
          161,
          256,
          191,
          303,
          170,
          284,
          156,
          87,
          177,
          133,
          245,
          224,
          278,
          293,
          243,
          360,
          444,
          313,
          350,
          475,
          324,
          343,
          343,
          285,
          406,
          281,
          364,
          321,
          280,
          292,
          211,
          350,
          208,
          320,
          196,
          391,
          305,
          251,
          325,
          305,
          216,
          346,
          313,
          288,
          177,
          220,
          316,
          263,
          375,
          237,
          207,
          495,
          217,
          241,
          305,
          247,
          187,
          323,
          225,
          209,
          319,
          445,
          416,
          205,
          272,
          253,
          336,
          248,
          359,
          143,
          225,
          274,
          211,
          296,
          210,
          316,
          184,
          272,
          290,
          218,
          176,
          344,
          253,
          318,
          227,
          210,
          235,
          378,
          309,
          342,
          358,
          274,
          332,
          460,
          229,
          355,
          251,
          306,
          423,
          321,
          275,
          353,
          279,
          301,
          362,
          479,
          289,
          277,
          513,
          313,
          415,
          401,
          349,
          371,
          451,
          414,
          224,
          328,
          166,
          207,
          173,
          204,
          446,
          237,
          252,
          300,
          248,
          300,
          290,
          204,
          140,
          200,
          162,
          188,
          290,
          164,
          336,
          285,
          285,
          196,
          241,
          316,
          233,
          155,
          244,
          281,
          234,
          251,
          287,
          310,
          237,
          260,
          426,
          284,
          298,
          262,
          257,
          323,
          494,
          290,
          351,
          392,
          352,
          246,
          382,
          472,
          330,
          361,
          432,
          257,
          462,
          274,
          248,
          368,
          325,
          393,
          439,
          331,
          320,
          231,
          495,
          375,
          273,
          248,
          419,
          249,
          325,
          263,
          240,
          340,
          285,
          220,
          419,
          265,
          334,
          303,
          278,
          276,
          227,
          150,
          335,
          296,
          284,
          210,
          242,
          239,
          302,
          241,
          265,
          313,
          180,
          404,
          401,
          380,
          152,
          333,
          531,
          320,
          122,
          191,
          415,
          260,
          266,
          143,
          441,
          281,
          411,
          292,
          353,
          306,
          428,
          277,
          442,
          165,
          364,
          249,
          329,
          296,
          293,
          228,
          240,
          201,
          379,
          261,
          336,
          527,
          228,
          152,
          229,
          333,
          247,
          239,
          274,
          409,
          233,
          327,
          336,
          353,
          252,
          340,
          246,
          361,
          404,
          237,
          400,
          456,
          393,
          355,
          416,
          523,
          319,
          405,
          440,
          301,
          378,
          259,
          217,
          107,
          299,
          306,
          89,
          285,
          315,
          160,
          154,
          353,
          363,
          321,
          338,
          230,
          530,
          317,
          329,
          452,
          265,
          227,
          221,
          235,
          244,
          264,
          190,
          130,
          179,
          248,
          302,
          427,
          372,
          260,
          259,
          397,
          261,
          310,
          287,
          285,
          311,
          294,
          258,
          247,
          232,
          254,
          264,
          261,
          238,
          384,
          231,
          239,
          300,
          358,
          157,
          239,
          305,
          255,
          277,
          415,
          246,
          178,
          291,
          151,
          209,
          297,
          199,
          167,
          183,
          242,
          244,
          321,
          213,
          216,
          148,
          218,
          233,
          160,
          143,
          255,
          225,
          175,
          318,
          204,
          243,
          195,
          348,
          291,
          268,
          283,
          328,
          324,
          264,
          300,
          248,
          237,
          248,
          301,
          294,
          345,
          269,
          272,
          298,
          287,
          231,
          199,
          172,
          177,
          275,
          356,
          293,
          345,
          451,
          368,
          216,
          183,
          251,
          348,
          230,
          249,
          260,
          414,
          246,
          303,
          295,
          209,
          255,
          243,
          250,
          172,
          325,
          193,
          350,
          338,
          287,
          446,
          265,
          155,
          186,
          330,
          328,
          379,
          325,
          276,
          310,
          262,
          337,
          262,
          374,
          293,
          334,
          329,
          283,
          230,
          298,
          364,
          183,
          367,
          260,
          353,
          500,
          304,
          220,
          403,
          305,
          289,
          492,
          431,
          182,
          254,
          266,
          197,
          236,
          250,
          352,
          242,
          287,
          263,
          165,
          520,
          247,
          312,
          450,
          321,
          304,
          252,
          207,
          284,
          402,
          278,
          250,
          223,
          318,
          280,
          255,
          278,
          208,
          271,
          267,
          223,
          283,
          213,
          253,
          296,
          461,
          304,
          357,
          263,
          375,
          284,
          221,
          246,
          238,
          224,
          263,
          435,
          238,
          448,
          254,
          327,
          541,
          365,
          332,
          328,
          370,
          382,
          314,
          285,
          173,
          189,
          185,
          256,
          195,
          267,
          258,
          236,
          284,
          209,
          254,
          393,
          301,
          276,
          136,
          256,
          158,
          304,
          291,
          254,
          194,
          189,
          145,
          284,
          235,
          280,
          156,
          277,
          151,
          331,
          293,
          197,
          251,
          334,
          281,
          234,
          327,
          291,
          400,
          269,
          271,
          293,
          275,
          288,
          271,
          215,
          361,
          343,
          299,
          244,
          324,
          355,
          240,
          282,
          215,
          313,
          394,
          419,
          249,
          276,
          273,
          316,
          340,
          340,
          397,
          377,
          354,
          246,
          350,
          294,
          374,
          280,
          332,
          303,
          289,
          372,
          254,
          200,
          328,
          320,
          224,
          341,
          264,
          342,
          253,
          253,
          517,
          304,
          231,
          307,
          448,
          174,
          242,
          353,
          232,
          324,
          283,
          275,
          249,
          250,
          247,
          552,
          268,
          246,
          417,
          520,
          376,
          401,
          421,
          773,
          576,
          578,
          414,
          373,
          373,
          448,
          374,
          411,
          304,
          331,
          553,
          320,
          400,
          449,
          513,
          511,
          514,
          394,
          468,
          370,
          518,
          525,
          388,
          287,
          412,
          442,
          313,
          392,
          479,
          270,
          257,
          207,
          185,
          224,
          250,
          253,
          249,
          221,
          234,
          261,
          207,
          312,
          295,
          184,
          294,
          382,
          217,
          250,
          216,
          186,
          190,
          224,
          200,
          221,
          265,
          330,
          185,
          192,
          219,
          184,
          200,
          230,
          196,
          159,
          319,
          205,
          310,
          282,
          257,
          199,
          242,
          293,
          211,
          286,
          310,
          207,
          213,
          356,
          363,
          242,
          215,
          264,
          319,
          237,
          172,
          223,
          298,
          211,
          216,
          185,
          203,
          94,
          207,
          292,
          229,
          261,
          207,
          242,
          303,
          232,
          229,
          196,
          187,
          186,
          293,
          205,
          283,
          225,
          224,
          294,
          241,
          262,
          256,
          172,
          243,
          241,
          170,
          251,
          210,
          221,
          277,
          171,
          218,
          176,
          226,
          203,
          216,
          138,
          224,
          202,
          211,
          191,
          214,
          212,
          282,
          188,
          172,
          207,
          337,
          192,
          184,
          269,
          190,
          183,
          201,
          179,
          261,
          273,
          223,
          254,
          290,
          265,
          250,
          204,
          267,
          222,
          339,
          182,
          204,
          189,
          156,
          208,
          198,
          201,
          180,
          227,
          215,
          321,
          150,
          463,
          407,
          583,
          578,
          525,
          316,
          533,
          413,
          358,
          399,
          518,
          367,
          431,
          215,
          346,
          375,
          398,
          507,
          302,
          159,
          351,
          540,
          214,
          153,
          317,
          420,
          495,
          527,
          393,
          335,
          641,
          425,
          509,
          371,
          577,
          263,
          311,
          298,
          362,
          342,
          298,
          294,
          289,
          268,
          268,
          342,
          227,
          176,
          306,
          311,
          246,
          313,
          377,
          329,
          158,
          413,
          263,
          310,
          244,
          504,
          271,
          252,
          361,
          320,
          358,
          367,
          374,
          377,
          220,
          325,
          316,
          250,
          165,
          296,
          313,
          308,
          259,
          335,
          256,
          242,
          385,
          279,
          328,
          242,
          280,
          235,
          268,
          298,
          259,
          201,
          410,
          358,
          235,
          269,
          239,
          368,
          276,
          379,
          221,
          343,
          310,
          373,
          305,
          323,
          250,
          303,
          345,
          247,
          359,
          208,
          293,
          461,
          204,
          234,
          386,
          277,
          193,
          193,
          245,
          280,
          261,
          235,
          214,
          383,
          208,
          393,
          237,
          216,
          293,
          238,
          335,
          214,
          338,
          433,
          206,
          342,
          217,
          167,
          233,
          176,
          333,
          327,
          213,
          408,
          254,
          236,
          249,
          255,
          189,
          280,
          265,
          300,
          226,
          271,
          302,
          224,
          222,
          197,
          244,
          225,
          305,
          228,
          247,
          214,
          282,
          261,
          216,
          192,
          237,
          316,
          255,
          215,
          562,
          217,
          274,
          366,
          260,
          385,
          345,
          325,
          364,
          370,
          291,
          338,
          307,
          334,
          292,
          308,
          333,
          302,
          265,
          234,
          343,
          281,
          350,
          338,
          285,
          224,
          252,
          302,
          224,
          242,
          293,
          465,
          178,
          391,
          363,
          213,
          313,
          308,
          238,
          232,
          148,
          264,
          284,
          159,
          289,
          215,
          203,
          211,
          199,
          269,
          261,
          214,
          169,
          278,
          202,
          333,
          204,
          317,
          221,
          304,
          263,
          151,
          209,
          273,
          192,
          190,
          252,
          136,
          233,
          186,
          278,
          139,
          286,
          443,
          620,
          377,
          338,
          397,
          466,
          336,
          369,
          431,
          556,
          593,
          259,
          422,
          497,
          609,
          863,
          815,
          529,
          461,
          492,
          404,
          491,
          376,
          500,
          627,
          471,
          421,
          395,
          586,
          435,
          612,
          414,
          585,
          284,
          341,
          291,
          264,
          264,
          326,
          163,
          306,
          272,
          305,
          289,
          273,
          272,
          397,
          256,
          285,
          326,
          220,
          396,
          150,
          354,
          154,
          190,
          155,
          218,
          291,
          347,
          230,
          291,
          329,
          291,
          242,
          391,
          357,
          371,
          276,
          385,
          306,
          158,
          257,
          272,
          152,
          192,
          182,
          279,
          230,
          198,
          168,
          183,
          205,
          353,
          288,
          268,
          178,
          189,
          221,
          235,
          259,
          188,
          197,
          394,
          125,
          256,
          278,
          154,
          223,
          214,
          264,
          286,
          236,
          159,
          229,
          296,
          252,
          311,
          258,
          267,
          247,
          237,
          285,
          187,
          236,
          243,
          310,
          382,
          503,
          284,
          218,
          226,
          270,
          259,
          316,
          266,
          228,
          270,
          111,
          213,
          288,
          196,
          304,
          302,
          176,
          290,
          313,
          289,
          245,
          264,
          387,
          299,
          371,
          339,
          406,
          320,
          379,
          214,
          381,
          384,
          268,
          371,
          336,
          327,
          209,
          253,
          406,
          314,
          290,
          267,
          300,
          361,
          196,
          307,
          344,
          409,
          164,
          384,
          301,
          315,
          224,
          354,
          250,
          201,
          617,
          144,
          214,
          422,
          263,
          248,
          224,
          308,
          246,
          234,
          350,
          484,
          357,
          199,
          361,
          286,
          326,
          326,
          467,
          319,
          182,
          288,
          285,
          255,
          189,
          390,
          244,
          281,
          296,
          186,
          167,
          333,
          307,
          268,
          297,
          294,
          385,
          166,
          352,
          244,
          136,
          219,
          213,
          273,
          222,
          198,
          169,
          127,
          151,
          192,
          109,
          139,
          109,
          105,
          172,
          265,
          123,
          112,
          240,
          131,
          153,
          263,
          160,
          261,
          159,
          201,
          143,
          257,
          168,
          119,
          241,
          336,
          311,
          230,
          251,
          371,
          286,
          296,
          241,
          304,
          382,
          208,
          274,
          297,
          278,
          219,
          334,
          205,
          495,
          250,
          150,
          222,
          234,
          239,
          112,
          190,
          251,
          455,
          143,
          187,
          199,
          272,
          230,
          228,
          255,
          173,
          329,
          215,
          164,
          555,
          292,
          246,
          327,
          280,
          275,
          205,
          185,
          183,
          310,
          266,
          292,
          194,
          377,
          131,
          222,
          168,
          220,
          188,
          268,
          324,
          303,
          239,
          220,
          345,
          381,
          248,
          347,
          399,
          406,
          340,
          292,
          249,
          258,
          221,
          355,
          218,
          253,
          377,
          368,
          359,
          191,
          363,
          249,
          310,
          207,
          369,
          375,
          409,
          364,
          236,
          189,
          185,
          354,
          278,
          230,
          306,
          267,
          257,
          365,
          291,
          303,
          375,
          287,
          375,
          308,
          380,
          634,
          738,
          674,
          457,
          472,
          610,
          574,
          535,
          621,
          834,
          632,
          547,
          664,
          793,
          475,
          698,
          588,
          684,
          749,
          637,
          395,
          519,
          591,
          725,
          651,
          718,
          757,
          488,
          632,
          645,
          602,
          403,
          393,
          495,
          520,
          321,
          264,
          319,
          274,
          341,
          253,
          406,
          225,
          386,
          153,
          385,
          312,
          252,
          297,
          156,
          359,
          236,
          262,
          302,
          227,
          349,
          320,
          102,
          280,
          269,
          339,
          350,
          330,
          318,
          360,
          292,
          163,
          343,
          267,
          219,
          637,
          769,
          545,
          667,
          469,
          474,
          526,
          623,
          591,
          549,
          565,
          490,
          481,
          670,
          652,
          610,
          658,
          580,
          548,
          638,
          623,
          537,
          696,
          622,
          674,
          308,
          482,
          435,
          498,
          588,
          392,
          741,
          584,
          510,
          673,
          161,
          176,
          245,
          198,
          174,
          188,
          217,
          235,
          243,
          254,
          232,
          203,
          259,
          156,
          268,
          354,
          185,
          232,
          181,
          261,
          188,
          193,
          253,
          126,
          292,
          205,
          170,
          188,
          254,
          251,
          243,
          222,
          262,
          144,
          213,
          254,
          257,
          201,
          260,
          260,
          294,
          276,
          229,
          244,
          296,
          290,
          376,
          209,
          296,
          353,
          261,
          238,
          288,
          248,
          336,
          223,
          262,
          346,
          296,
          290,
          302,
          299,
          194,
          245,
          191,
          327,
          228,
          189,
          262,
          259,
          210,
          226,
          304,
          190,
          161,
          329,
          229,
          466,
          281,
          185,
          221,
          202,
          263,
          255,
          255,
          266,
          307,
          268,
          445,
          193,
          204,
          337,
          233,
          338,
          278,
          301,
          222,
          240,
          297,
          276,
          216,
          135,
          206,
          342,
          305,
          296,
          171,
          222,
          258,
          277,
          309,
          201,
          252,
          126,
          260,
          208,
          215,
          220,
          171,
          152,
          396,
          309,
          209,
          212,
          220,
          316,
          249,
          179,
          240,
          204,
          187,
          190,
          250,
          268,
          203,
          192,
          193,
          304,
          252,
          272,
          313,
          444,
          448,
          345,
          146,
          382,
          563,
          308,
          309,
          257,
          402,
          535,
          377,
          444,
          277,
          458,
          217,
          456,
          497,
          355,
          586,
          327,
          505,
          712,
          369,
          567,
          336,
          286,
          590,
          525,
          469,
          434,
          363,
          596,
          501
         ],
         "xaxis": "x",
         "yaxis": "y"
        }
       ],
       "layout": {
        "barmode": "relative",
        "legend": {
         "tracegroupgap": 0
        },
        "template": {
         "data": {
          "bar": [
           {
            "error_x": {
             "color": "#2a3f5f"
            },
            "error_y": {
             "color": "#2a3f5f"
            },
            "marker": {
             "line": {
              "color": "#E5ECF6",
              "width": 0.5
             },
             "pattern": {
              "fillmode": "overlay",
              "size": 10,
              "solidity": 0.2
             }
            },
            "type": "bar"
           }
          ],
          "barpolar": [
           {
            "marker": {
             "line": {
              "color": "#E5ECF6",
              "width": 0.5
             },
             "pattern": {
              "fillmode": "overlay",
              "size": 10,
              "solidity": 0.2
             }
            },
            "type": "barpolar"
           }
          ],
          "carpet": [
           {
            "aaxis": {
             "endlinecolor": "#2a3f5f",
             "gridcolor": "white",
             "linecolor": "white",
             "minorgridcolor": "white",
             "startlinecolor": "#2a3f5f"
            },
            "baxis": {
             "endlinecolor": "#2a3f5f",
             "gridcolor": "white",
             "linecolor": "white",
             "minorgridcolor": "white",
             "startlinecolor": "#2a3f5f"
            },
            "type": "carpet"
           }
          ],
          "choropleth": [
           {
            "colorbar": {
             "outlinewidth": 0,
             "ticks": ""
            },
            "type": "choropleth"
           }
          ],
          "contour": [
           {
            "colorbar": {
             "outlinewidth": 0,
             "ticks": ""
            },
            "colorscale": [
             [
              0,
              "#0d0887"
             ],
             [
              0.1111111111111111,
              "#46039f"
             ],
             [
              0.2222222222222222,
              "#7201a8"
             ],
             [
              0.3333333333333333,
              "#9c179e"
             ],
             [
              0.4444444444444444,
              "#bd3786"
             ],
             [
              0.5555555555555556,
              "#d8576b"
             ],
             [
              0.6666666666666666,
              "#ed7953"
             ],
             [
              0.7777777777777778,
              "#fb9f3a"
             ],
             [
              0.8888888888888888,
              "#fdca26"
             ],
             [
              1,
              "#f0f921"
             ]
            ],
            "type": "contour"
           }
          ],
          "contourcarpet": [
           {
            "colorbar": {
             "outlinewidth": 0,
             "ticks": ""
            },
            "type": "contourcarpet"
           }
          ],
          "heatmap": [
           {
            "colorbar": {
             "outlinewidth": 0,
             "ticks": ""
            },
            "colorscale": [
             [
              0,
              "#0d0887"
             ],
             [
              0.1111111111111111,
              "#46039f"
             ],
             [
              0.2222222222222222,
              "#7201a8"
             ],
             [
              0.3333333333333333,
              "#9c179e"
             ],
             [
              0.4444444444444444,
              "#bd3786"
             ],
             [
              0.5555555555555556,
              "#d8576b"
             ],
             [
              0.6666666666666666,
              "#ed7953"
             ],
             [
              0.7777777777777778,
              "#fb9f3a"
             ],
             [
              0.8888888888888888,
              "#fdca26"
             ],
             [
              1,
              "#f0f921"
             ]
            ],
            "type": "heatmap"
           }
          ],
          "heatmapgl": [
           {
            "colorbar": {
             "outlinewidth": 0,
             "ticks": ""
            },
            "colorscale": [
             [
              0,
              "#0d0887"
             ],
             [
              0.1111111111111111,
              "#46039f"
             ],
             [
              0.2222222222222222,
              "#7201a8"
             ],
             [
              0.3333333333333333,
              "#9c179e"
             ],
             [
              0.4444444444444444,
              "#bd3786"
             ],
             [
              0.5555555555555556,
              "#d8576b"
             ],
             [
              0.6666666666666666,
              "#ed7953"
             ],
             [
              0.7777777777777778,
              "#fb9f3a"
             ],
             [
              0.8888888888888888,
              "#fdca26"
             ],
             [
              1,
              "#f0f921"
             ]
            ],
            "type": "heatmapgl"
           }
          ],
          "histogram": [
           {
            "marker": {
             "pattern": {
              "fillmode": "overlay",
              "size": 10,
              "solidity": 0.2
             }
            },
            "type": "histogram"
           }
          ],
          "histogram2d": [
           {
            "colorbar": {
             "outlinewidth": 0,
             "ticks": ""
            },
            "colorscale": [
             [
              0,
              "#0d0887"
             ],
             [
              0.1111111111111111,
              "#46039f"
             ],
             [
              0.2222222222222222,
              "#7201a8"
             ],
             [
              0.3333333333333333,
              "#9c179e"
             ],
             [
              0.4444444444444444,
              "#bd3786"
             ],
             [
              0.5555555555555556,
              "#d8576b"
             ],
             [
              0.6666666666666666,
              "#ed7953"
             ],
             [
              0.7777777777777778,
              "#fb9f3a"
             ],
             [
              0.8888888888888888,
              "#fdca26"
             ],
             [
              1,
              "#f0f921"
             ]
            ],
            "type": "histogram2d"
           }
          ],
          "histogram2dcontour": [
           {
            "colorbar": {
             "outlinewidth": 0,
             "ticks": ""
            },
            "colorscale": [
             [
              0,
              "#0d0887"
             ],
             [
              0.1111111111111111,
              "#46039f"
             ],
             [
              0.2222222222222222,
              "#7201a8"
             ],
             [
              0.3333333333333333,
              "#9c179e"
             ],
             [
              0.4444444444444444,
              "#bd3786"
             ],
             [
              0.5555555555555556,
              "#d8576b"
             ],
             [
              0.6666666666666666,
              "#ed7953"
             ],
             [
              0.7777777777777778,
              "#fb9f3a"
             ],
             [
              0.8888888888888888,
              "#fdca26"
             ],
             [
              1,
              "#f0f921"
             ]
            ],
            "type": "histogram2dcontour"
           }
          ],
          "mesh3d": [
           {
            "colorbar": {
             "outlinewidth": 0,
             "ticks": ""
            },
            "type": "mesh3d"
           }
          ],
          "parcoords": [
           {
            "line": {
             "colorbar": {
              "outlinewidth": 0,
              "ticks": ""
             }
            },
            "type": "parcoords"
           }
          ],
          "pie": [
           {
            "automargin": true,
            "type": "pie"
           }
          ],
          "scatter": [
           {
            "fillpattern": {
             "fillmode": "overlay",
             "size": 10,
             "solidity": 0.2
            },
            "type": "scatter"
           }
          ],
          "scatter3d": [
           {
            "line": {
             "colorbar": {
              "outlinewidth": 0,
              "ticks": ""
             }
            },
            "marker": {
             "colorbar": {
              "outlinewidth": 0,
              "ticks": ""
             }
            },
            "type": "scatter3d"
           }
          ],
          "scattercarpet": [
           {
            "marker": {
             "colorbar": {
              "outlinewidth": 0,
              "ticks": ""
             }
            },
            "type": "scattercarpet"
           }
          ],
          "scattergeo": [
           {
            "marker": {
             "colorbar": {
              "outlinewidth": 0,
              "ticks": ""
             }
            },
            "type": "scattergeo"
           }
          ],
          "scattergl": [
           {
            "marker": {
             "colorbar": {
              "outlinewidth": 0,
              "ticks": ""
             }
            },
            "type": "scattergl"
           }
          ],
          "scattermapbox": [
           {
            "marker": {
             "colorbar": {
              "outlinewidth": 0,
              "ticks": ""
             }
            },
            "type": "scattermapbox"
           }
          ],
          "scatterpolar": [
           {
            "marker": {
             "colorbar": {
              "outlinewidth": 0,
              "ticks": ""
             }
            },
            "type": "scatterpolar"
           }
          ],
          "scatterpolargl": [
           {
            "marker": {
             "colorbar": {
              "outlinewidth": 0,
              "ticks": ""
             }
            },
            "type": "scatterpolargl"
           }
          ],
          "scatterternary": [
           {
            "marker": {
             "colorbar": {
              "outlinewidth": 0,
              "ticks": ""
             }
            },
            "type": "scatterternary"
           }
          ],
          "surface": [
           {
            "colorbar": {
             "outlinewidth": 0,
             "ticks": ""
            },
            "colorscale": [
             [
              0,
              "#0d0887"
             ],
             [
              0.1111111111111111,
              "#46039f"
             ],
             [
              0.2222222222222222,
              "#7201a8"
             ],
             [
              0.3333333333333333,
              "#9c179e"
             ],
             [
              0.4444444444444444,
              "#bd3786"
             ],
             [
              0.5555555555555556,
              "#d8576b"
             ],
             [
              0.6666666666666666,
              "#ed7953"
             ],
             [
              0.7777777777777778,
              "#fb9f3a"
             ],
             [
              0.8888888888888888,
              "#fdca26"
             ],
             [
              1,
              "#f0f921"
             ]
            ],
            "type": "surface"
           }
          ],
          "table": [
           {
            "cells": {
             "fill": {
              "color": "#EBF0F8"
             },
             "line": {
              "color": "white"
             }
            },
            "header": {
             "fill": {
              "color": "#C8D4E3"
             },
             "line": {
              "color": "white"
             }
            },
            "type": "table"
           }
          ]
         },
         "layout": {
          "annotationdefaults": {
           "arrowcolor": "#2a3f5f",
           "arrowhead": 0,
           "arrowwidth": 1
          },
          "autotypenumbers": "strict",
          "coloraxis": {
           "colorbar": {
            "outlinewidth": 0,
            "ticks": ""
           }
          },
          "colorscale": {
           "diverging": [
            [
             0,
             "#8e0152"
            ],
            [
             0.1,
             "#c51b7d"
            ],
            [
             0.2,
             "#de77ae"
            ],
            [
             0.3,
             "#f1b6da"
            ],
            [
             0.4,
             "#fde0ef"
            ],
            [
             0.5,
             "#f7f7f7"
            ],
            [
             0.6,
             "#e6f5d0"
            ],
            [
             0.7,
             "#b8e186"
            ],
            [
             0.8,
             "#7fbc41"
            ],
            [
             0.9,
             "#4d9221"
            ],
            [
             1,
             "#276419"
            ]
           ],
           "sequential": [
            [
             0,
             "#0d0887"
            ],
            [
             0.1111111111111111,
             "#46039f"
            ],
            [
             0.2222222222222222,
             "#7201a8"
            ],
            [
             0.3333333333333333,
             "#9c179e"
            ],
            [
             0.4444444444444444,
             "#bd3786"
            ],
            [
             0.5555555555555556,
             "#d8576b"
            ],
            [
             0.6666666666666666,
             "#ed7953"
            ],
            [
             0.7777777777777778,
             "#fb9f3a"
            ],
            [
             0.8888888888888888,
             "#fdca26"
            ],
            [
             1,
             "#f0f921"
            ]
           ],
           "sequentialminus": [
            [
             0,
             "#0d0887"
            ],
            [
             0.1111111111111111,
             "#46039f"
            ],
            [
             0.2222222222222222,
             "#7201a8"
            ],
            [
             0.3333333333333333,
             "#9c179e"
            ],
            [
             0.4444444444444444,
             "#bd3786"
            ],
            [
             0.5555555555555556,
             "#d8576b"
            ],
            [
             0.6666666666666666,
             "#ed7953"
            ],
            [
             0.7777777777777778,
             "#fb9f3a"
            ],
            [
             0.8888888888888888,
             "#fdca26"
            ],
            [
             1,
             "#f0f921"
            ]
           ]
          },
          "colorway": [
           "#636efa",
           "#EF553B",
           "#00cc96",
           "#ab63fa",
           "#FFA15A",
           "#19d3f3",
           "#FF6692",
           "#B6E880",
           "#FF97FF",
           "#FECB52"
          ],
          "font": {
           "color": "#2a3f5f"
          },
          "geo": {
           "bgcolor": "white",
           "lakecolor": "white",
           "landcolor": "#E5ECF6",
           "showlakes": true,
           "showland": true,
           "subunitcolor": "white"
          },
          "hoverlabel": {
           "align": "left"
          },
          "hovermode": "closest",
          "mapbox": {
           "style": "light"
          },
          "paper_bgcolor": "white",
          "plot_bgcolor": "#E5ECF6",
          "polar": {
           "angularaxis": {
            "gridcolor": "white",
            "linecolor": "white",
            "ticks": ""
           },
           "bgcolor": "#E5ECF6",
           "radialaxis": {
            "gridcolor": "white",
            "linecolor": "white",
            "ticks": ""
           }
          },
          "scene": {
           "xaxis": {
            "backgroundcolor": "#E5ECF6",
            "gridcolor": "white",
            "gridwidth": 2,
            "linecolor": "white",
            "showbackground": true,
            "ticks": "",
            "zerolinecolor": "white"
           },
           "yaxis": {
            "backgroundcolor": "#E5ECF6",
            "gridcolor": "white",
            "gridwidth": 2,
            "linecolor": "white",
            "showbackground": true,
            "ticks": "",
            "zerolinecolor": "white"
           },
           "zaxis": {
            "backgroundcolor": "#E5ECF6",
            "gridcolor": "white",
            "gridwidth": 2,
            "linecolor": "white",
            "showbackground": true,
            "ticks": "",
            "zerolinecolor": "white"
           }
          },
          "shapedefaults": {
           "line": {
            "color": "#2a3f5f"
           }
          },
          "ternary": {
           "aaxis": {
            "gridcolor": "white",
            "linecolor": "white",
            "ticks": ""
           },
           "baxis": {
            "gridcolor": "white",
            "linecolor": "white",
            "ticks": ""
           },
           "bgcolor": "#E5ECF6",
           "caxis": {
            "gridcolor": "white",
            "linecolor": "white",
            "ticks": ""
           }
          },
          "title": {
           "x": 0.05
          },
          "xaxis": {
           "automargin": true,
           "gridcolor": "white",
           "linecolor": "white",
           "ticks": "",
           "title": {
            "standoff": 15
           },
           "zerolinecolor": "white",
           "zerolinewidth": 2
          },
          "yaxis": {
           "automargin": true,
           "gridcolor": "white",
           "linecolor": "white",
           "ticks": "",
           "title": {
            "standoff": 15
           },
           "zerolinecolor": "white",
           "zerolinewidth": 2
          }
         }
        },
        "title": {
         "text": "Words per song"
        },
        "xaxis": {
         "anchor": "y",
         "domain": [
          0,
          1
         ],
         "title": {
          "text": "n_words"
         }
        },
        "yaxis": {
         "anchor": "x",
         "domain": [
          0,
          1
         ],
         "title": {
          "text": "count"
         }
        }
       }
      }
     },
     "metadata": {},
     "output_type": "display_data"
    }
   ],
   "source": [
    "# distribution words per song\n",
    "fig = px.histogram(song_df, x='n_words', title='Words per song')\n",
    "fig.show()"
   ]
  },
  {
   "cell_type": "markdown",
   "metadata": {},
   "source": [
    "Beware! This block can be run only once."
   ]
  },
  {
   "cell_type": "code",
   "execution_count": 37,
   "metadata": {},
   "outputs": [],
   "source": [
    "# # create dataframe with lists of artists\n",
    "song_df['words_str'] = song_df['words'].map(lambda lst: ' '.join(lst))\n",
    "\n",
    "# map text to artists\n",
    "words_to_artist = {}\n",
    "for tp in song_df[['artist', 'words_str']].itertuples(index=False):\n",
    "    artist = tp[0]\n",
    "    words = tp[1]\n",
    "    if words in words_to_artist:\n",
    "        words_to_artist[words].append(artist)\n",
    "    else:\n",
    "        words_to_artist[words] = [artist]\n",
    "\n",
    "# insert list of artists to dataframe\n",
    "song_df['artists'] = song_df['words_str'].map(words_to_artist)\n",
    "song_df['duplicates'] = song_df['artists'].map(len) - 1\n",
    "\n",
    "# convert list of artists to set of artists\n",
    "song_df['artists'] = song_df['artists'].map(set)\n",
    "song_df['n_artists'] = song_df['artists'].map(len)\n",
    "\n",
    "# remove duplicate songs\n",
    "artist_text_df = song_df.drop_duplicates('words_str')"
   ]
  },
  {
   "cell_type": "code",
   "execution_count": 38,
   "metadata": {},
   "outputs": [
    {
     "data": {
      "text/html": [
       "<div>\n",
       "<style scoped>\n",
       "    .dataframe tbody tr th:only-of-type {\n",
       "        vertical-align: middle;\n",
       "    }\n",
       "\n",
       "    .dataframe tbody tr th {\n",
       "        vertical-align: top;\n",
       "    }\n",
       "\n",
       "    .dataframe thead th {\n",
       "        text-align: right;\n",
       "    }\n",
       "</style>\n",
       "<table border=\"1\" class=\"dataframe\">\n",
       "  <thead>\n",
       "    <tr style=\"text-align: right;\">\n",
       "      <th></th>\n",
       "      <th>artist</th>\n",
       "      <th>song_name</th>\n",
       "      <th>href</th>\n",
       "      <th>lyric</th>\n",
       "      <th>lines</th>\n",
       "      <th>words</th>\n",
       "      <th>n_words</th>\n",
       "      <th>words_str</th>\n",
       "      <th>artists</th>\n",
       "      <th>duplicates</th>\n",
       "      <th>n_artists</th>\n",
       "    </tr>\n",
       "  </thead>\n",
       "  <tbody>\n",
       "    <tr>\n",
       "      <th>0</th>\n",
       "      <td>bird_thongchai</td>\n",
       "      <td>Okay</td>\n",
       "      <td>/music/thailyric/13588</td>\n",
       "      <td>ไม่ว่าจะเป็นยังไง Baby its Okay\\rไม่ว่าจะเกิดอ...</td>\n",
       "      <td>0</td>\n",
       "      <td>[ไม่, ว่า, จะ, เป็น, ยังไง, babi, it, okay, \\r...</td>\n",
       "      <td>408</td>\n",
       "      <td>ไม่ ว่า จะ เป็น ยังไง babi it okay \\r ไม่ ว่า ...</td>\n",
       "      <td>{bird_thongchai}</td>\n",
       "      <td>0</td>\n",
       "      <td>1</td>\n",
       "    </tr>\n",
       "    <tr>\n",
       "      <th>1</th>\n",
       "      <td>bird_thongchai</td>\n",
       "      <td>กว่าจักรวาล</td>\n",
       "      <td>/music/thailyric/13978</td>\n",
       "      <td>จะยอมนั่งจรวด ไปตรวจดาวอังคาร\\rหากว่าที่แห่งนั...</td>\n",
       "      <td>0</td>\n",
       "      <td>[จะ, ยอม, นั่ง, จรวด, ไป, ตรวจ, ดาวอังคาร, \\r,...</td>\n",
       "      <td>264</td>\n",
       "      <td>จะ ยอม นั่ง จรวด ไป ตรวจ ดาวอังคาร \\r หาก ว่าท...</td>\n",
       "      <td>{bird_thongchai}</td>\n",
       "      <td>0</td>\n",
       "      <td>1</td>\n",
       "    </tr>\n",
       "    <tr>\n",
       "      <th>2</th>\n",
       "      <td>bird_thongchai</td>\n",
       "      <td>กำแพง</td>\n",
       "      <td>/music/thailyric/14111</td>\n",
       "      <td>ถ้าเคยพบเจอ กำแพงที่ดูทั้งใหญ่และสูงชัน\\rเธอรู...</td>\n",
       "      <td>0</td>\n",
       "      <td>[ถ้า, เคย, พบ, เจอ, กำแพง, ที่, ดู, ทั้ง, ใหญ่...</td>\n",
       "      <td>346</td>\n",
       "      <td>ถ้า เคย พบ เจอ กำแพง ที่ ดู ทั้ง ใหญ่ และ สูงช...</td>\n",
       "      <td>{bird_thongchai}</td>\n",
       "      <td>0</td>\n",
       "      <td>1</td>\n",
       "    </tr>\n",
       "    <tr>\n",
       "      <th>3</th>\n",
       "      <td>bird_thongchai</td>\n",
       "      <td>ชีวิตเดี่ยว</td>\n",
       "      <td>/music/thailyric/13796</td>\n",
       "      <td>อยู่ตรงนี้แค่เพียงลำพัง\\rกับความเหงาที่เป็นดั่...</td>\n",
       "      <td>0</td>\n",
       "      <td>[อยู่, ตรงนี้, แค่, เพียงลำพัง, \\r, กับ, ความเ...</td>\n",
       "      <td>287</td>\n",
       "      <td>อยู่ ตรงนี้ แค่ เพียงลำพัง \\r กับ ความเหงา ที่...</td>\n",
       "      <td>{bird_thongchai}</td>\n",
       "      <td>0</td>\n",
       "      <td>1</td>\n",
       "    </tr>\n",
       "    <tr>\n",
       "      <th>4</th>\n",
       "      <td>bird_thongchai</td>\n",
       "      <td>ผู้ต้องหา</td>\n",
       "      <td>/music/thailyric/13825</td>\n",
       "      <td>แค่ตัวคนเดียวไม่ตายล่ะมั้ง\\rถามใจกี่ครั้งก็ยัง...</td>\n",
       "      <td>0</td>\n",
       "      <td>[แค่, ตัว, คนเดียว, ไม่, ตาย, ล่ะ, มั้ง, \\r, ถ...</td>\n",
       "      <td>446</td>\n",
       "      <td>แค่ ตัว คนเดียว ไม่ ตาย ล่ะ มั้ง \\r ถาม ใจ กี่...</td>\n",
       "      <td>{bird_thongchai}</td>\n",
       "      <td>0</td>\n",
       "      <td>1</td>\n",
       "    </tr>\n",
       "    <tr>\n",
       "      <th>...</th>\n",
       "      <td>...</td>\n",
       "      <td>...</td>\n",
       "      <td>...</td>\n",
       "      <td>...</td>\n",
       "      <td>...</td>\n",
       "      <td>...</td>\n",
       "      <td>...</td>\n",
       "      <td>...</td>\n",
       "      <td>...</td>\n",
       "      <td>...</td>\n",
       "      <td>...</td>\n",
       "    </tr>\n",
       "    <tr>\n",
       "      <th>2235</th>\n",
       "      <td>gavin_d</td>\n",
       "      <td>พ่อตาครับ</td>\n",
       "      <td>/music/thailyric/17862</td>\n",
       "      <td>พ่อตาผมโคตรโหด ผมไม่เคยเจอใครที่หนวดเยอะขนาดนี...</td>\n",
       "      <td>0</td>\n",
       "      <td>[พ่อตา, ผม, โคตร, โหด, ผม, ไม่, เคย, เจอ, ใคร,...</td>\n",
       "      <td>469</td>\n",
       "      <td>พ่อตา ผม โคตร โหด ผม ไม่ เคย เจอ ใคร ที่ หนวด ...</td>\n",
       "      <td>{gavin_d}</td>\n",
       "      <td>0</td>\n",
       "      <td>1</td>\n",
       "    </tr>\n",
       "    <tr>\n",
       "      <th>2236</th>\n",
       "      <td>gavin_d</td>\n",
       "      <td>ไม่หวังให้ตอบ (No Reply)</td>\n",
       "      <td>/music/thailyric/13101</td>\n",
       "      <td>ฉันไม่ได้ตั้งใจที่จะส่งไปหาเธอ\\rหน้าจอมันเบลอเ...</td>\n",
       "      <td>0</td>\n",
       "      <td>[ฉัน, ไม่, ได้, ตั้งใจ, ที่จะ, ส่ง, ไปหา, เธอ,...</td>\n",
       "      <td>434</td>\n",
       "      <td>ฉัน ไม่ ได้ ตั้งใจ ที่จะ ส่ง ไปหา เธอ \\r หน้าจ...</td>\n",
       "      <td>{gavin_d}</td>\n",
       "      <td>0</td>\n",
       "      <td>1</td>\n",
       "    </tr>\n",
       "    <tr>\n",
       "      <th>2237</th>\n",
       "      <td>gavin_d</td>\n",
       "      <td>ยิ่งลืมยิ่งคิดถึง</td>\n",
       "      <td>/music/thailyric/20476</td>\n",
       "      <td>ทุกครั้งที่ฉันนะคิดจะลืม\\rมันคือเวลาที่คิดถึงม...</td>\n",
       "      <td>0</td>\n",
       "      <td>[ทุกครั้งที่, ฉัน, นะ, คิด, จะ, ลืม, \\r, มัน, ...</td>\n",
       "      <td>363</td>\n",
       "      <td>ทุกครั้งที่ ฉัน นะ คิด จะ ลืม \\r มัน คือ เวลา ...</td>\n",
       "      <td>{gavin_d}</td>\n",
       "      <td>0</td>\n",
       "      <td>1</td>\n",
       "    </tr>\n",
       "    <tr>\n",
       "      <th>2238</th>\n",
       "      <td>gavin_d</td>\n",
       "      <td>รัก?</td>\n",
       "      <td>/music/thailyric/14276</td>\n",
       "      <td>ไม่เป็นไรใช่ไหม\\rนี่คือคำถาม หรือความห่วงใย\\rถ...</td>\n",
       "      <td>0</td>\n",
       "      <td>[ไม่เป็นไร, ใช่ไหม, \\r, นี่, คือ, คำถาม, หรือ,...</td>\n",
       "      <td>596</td>\n",
       "      <td>ไม่เป็นไร ใช่ไหม \\r นี่ คือ คำถาม หรือ ความห่ว...</td>\n",
       "      <td>{gavin_d}</td>\n",
       "      <td>0</td>\n",
       "      <td>1</td>\n",
       "    </tr>\n",
       "    <tr>\n",
       "      <th>2239</th>\n",
       "      <td>gavin_d</td>\n",
       "      <td>รักได้ป่าว</td>\n",
       "      <td>/music/thailyric/17338</td>\n",
       "      <td>ไม่เคยมีใครน่ารักเท่ากับเธอ\\rเจอกี่ครั้งก็ยังล...</td>\n",
       "      <td>0</td>\n",
       "      <td>[ไม่, เคย, มี, ใคร, น่ารัก, เท่ากับ, เธอ, \\r, ...</td>\n",
       "      <td>501</td>\n",
       "      <td>ไม่ เคย มี ใคร น่ารัก เท่ากับ เธอ \\r เจอ กี่ ค...</td>\n",
       "      <td>{gavin_d}</td>\n",
       "      <td>0</td>\n",
       "      <td>1</td>\n",
       "    </tr>\n",
       "  </tbody>\n",
       "</table>\n",
       "<p>2240 rows × 11 columns</p>\n",
       "</div>"
      ],
      "text/plain": [
       "              artist                 song_name                    href  \\\n",
       "0     bird_thongchai                      Okay  /music/thailyric/13588   \n",
       "1     bird_thongchai               กว่าจักรวาล  /music/thailyric/13978   \n",
       "2     bird_thongchai                     กำแพง  /music/thailyric/14111   \n",
       "3     bird_thongchai               ชีวิตเดี่ยว  /music/thailyric/13796   \n",
       "4     bird_thongchai                 ผู้ต้องหา  /music/thailyric/13825   \n",
       "...              ...                       ...                     ...   \n",
       "2235         gavin_d                 พ่อตาครับ  /music/thailyric/17862   \n",
       "2236         gavin_d  ไม่หวังให้ตอบ (No Reply)  /music/thailyric/13101   \n",
       "2237         gavin_d         ยิ่งลืมยิ่งคิดถึง  /music/thailyric/20476   \n",
       "2238         gavin_d                      รัก?  /music/thailyric/14276   \n",
       "2239         gavin_d                รักได้ป่าว  /music/thailyric/17338   \n",
       "\n",
       "                                                  lyric  lines  \\\n",
       "0     ไม่ว่าจะเป็นยังไง Baby its Okay\\rไม่ว่าจะเกิดอ...      0   \n",
       "1     จะยอมนั่งจรวด ไปตรวจดาวอังคาร\\rหากว่าที่แห่งนั...      0   \n",
       "2     ถ้าเคยพบเจอ กำแพงที่ดูทั้งใหญ่และสูงชัน\\rเธอรู...      0   \n",
       "3     อยู่ตรงนี้แค่เพียงลำพัง\\rกับความเหงาที่เป็นดั่...      0   \n",
       "4     แค่ตัวคนเดียวไม่ตายล่ะมั้ง\\rถามใจกี่ครั้งก็ยัง...      0   \n",
       "...                                                 ...    ...   \n",
       "2235  พ่อตาผมโคตรโหด ผมไม่เคยเจอใครที่หนวดเยอะขนาดนี...      0   \n",
       "2236  ฉันไม่ได้ตั้งใจที่จะส่งไปหาเธอ\\rหน้าจอมันเบลอเ...      0   \n",
       "2237  ทุกครั้งที่ฉันนะคิดจะลืม\\rมันคือเวลาที่คิดถึงม...      0   \n",
       "2238  ไม่เป็นไรใช่ไหม\\rนี่คือคำถาม หรือความห่วงใย\\rถ...      0   \n",
       "2239  ไม่เคยมีใครน่ารักเท่ากับเธอ\\rเจอกี่ครั้งก็ยังล...      0   \n",
       "\n",
       "                                                  words  n_words  \\\n",
       "0     [ไม่, ว่า, จะ, เป็น, ยังไง, babi, it, okay, \\r...      408   \n",
       "1     [จะ, ยอม, นั่ง, จรวด, ไป, ตรวจ, ดาวอังคาร, \\r,...      264   \n",
       "2     [ถ้า, เคย, พบ, เจอ, กำแพง, ที่, ดู, ทั้ง, ใหญ่...      346   \n",
       "3     [อยู่, ตรงนี้, แค่, เพียงลำพัง, \\r, กับ, ความเ...      287   \n",
       "4     [แค่, ตัว, คนเดียว, ไม่, ตาย, ล่ะ, มั้ง, \\r, ถ...      446   \n",
       "...                                                 ...      ...   \n",
       "2235  [พ่อตา, ผม, โคตร, โหด, ผม, ไม่, เคย, เจอ, ใคร,...      469   \n",
       "2236  [ฉัน, ไม่, ได้, ตั้งใจ, ที่จะ, ส่ง, ไปหา, เธอ,...      434   \n",
       "2237  [ทุกครั้งที่, ฉัน, นะ, คิด, จะ, ลืม, \\r, มัน, ...      363   \n",
       "2238  [ไม่เป็นไร, ใช่ไหม, \\r, นี่, คือ, คำถาม, หรือ,...      596   \n",
       "2239  [ไม่, เคย, มี, ใคร, น่ารัก, เท่ากับ, เธอ, \\r, ...      501   \n",
       "\n",
       "                                              words_str           artists  \\\n",
       "0     ไม่ ว่า จะ เป็น ยังไง babi it okay \\r ไม่ ว่า ...  {bird_thongchai}   \n",
       "1     จะ ยอม นั่ง จรวด ไป ตรวจ ดาวอังคาร \\r หาก ว่าท...  {bird_thongchai}   \n",
       "2     ถ้า เคย พบ เจอ กำแพง ที่ ดู ทั้ง ใหญ่ และ สูงช...  {bird_thongchai}   \n",
       "3     อยู่ ตรงนี้ แค่ เพียงลำพัง \\r กับ ความเหงา ที่...  {bird_thongchai}   \n",
       "4     แค่ ตัว คนเดียว ไม่ ตาย ล่ะ มั้ง \\r ถาม ใจ กี่...  {bird_thongchai}   \n",
       "...                                                 ...               ...   \n",
       "2235  พ่อตา ผม โคตร โหด ผม ไม่ เคย เจอ ใคร ที่ หนวด ...         {gavin_d}   \n",
       "2236  ฉัน ไม่ ได้ ตั้งใจ ที่จะ ส่ง ไปหา เธอ \\r หน้าจ...         {gavin_d}   \n",
       "2237  ทุกครั้งที่ ฉัน นะ คิด จะ ลืม \\r มัน คือ เวลา ...         {gavin_d}   \n",
       "2238  ไม่เป็นไร ใช่ไหม \\r นี่ คือ คำถาม หรือ ความห่ว...         {gavin_d}   \n",
       "2239  ไม่ เคย มี ใคร น่ารัก เท่ากับ เธอ \\r เจอ กี่ ค...         {gavin_d}   \n",
       "\n",
       "      duplicates  n_artists  \n",
       "0              0          1  \n",
       "1              0          1  \n",
       "2              0          1  \n",
       "3              0          1  \n",
       "4              0          1  \n",
       "...          ...        ...  \n",
       "2235           0          1  \n",
       "2236           0          1  \n",
       "2237           0          1  \n",
       "2238           0          1  \n",
       "2239           0          1  \n",
       "\n",
       "[2240 rows x 11 columns]"
      ]
     },
     "execution_count": 38,
     "metadata": {},
     "output_type": "execute_result"
    }
   ],
   "source": [
    "song_df"
   ]
  },
  {
   "cell_type": "code",
   "execution_count": 39,
   "metadata": {},
   "outputs": [
    {
     "data": {
      "text/plain": [
       "artist        object\n",
       "song_name     object\n",
       "href          object\n",
       "lyric         object\n",
       "lines          int64\n",
       "words         object\n",
       "n_words        int64\n",
       "words_str     object\n",
       "artists       object\n",
       "duplicates     int64\n",
       "n_artists      int64\n",
       "dtype: object"
      ]
     },
     "execution_count": 39,
     "metadata": {},
     "output_type": "execute_result"
    }
   ],
   "source": [
    "song_df.dtypes"
   ]
  },
  {
   "cell_type": "markdown",
   "metadata": {},
   "source": [
    "## Export the clean data"
   ]
  },
  {
   "cell_type": "code",
   "execution_count": 40,
   "metadata": {},
   "outputs": [],
   "source": [
    "song_df.to_pickle('../../data_lyrics/pd/clean_th_songs.pkl')"
   ]
  },
  {
   "cell_type": "code",
   "execution_count": null,
   "metadata": {},
   "outputs": [],
   "source": []
  }
 ],
 "metadata": {
  "interpreter": {
   "hash": "74b61129dc21a09fdc11cbb8ab8ed7bd59468d4ab432d84f730f945183c44b80"
  },
  "kernelspec": {
   "display_name": "Python 3.8.13 ('torch38')",
   "language": "python",
   "name": "python3"
  },
  "language_info": {
   "codemirror_mode": {
    "name": "ipython",
    "version": 3
   },
   "file_extension": ".py",
   "mimetype": "text/x-python",
   "name": "python",
   "nbconvert_exporter": "python",
   "pygments_lexer": "ipython3",
   "version": "3.8.13"
  }
 },
 "nbformat": 4,
 "nbformat_minor": 2
}
