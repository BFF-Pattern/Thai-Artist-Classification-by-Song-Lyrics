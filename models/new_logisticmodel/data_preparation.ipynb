{
  "cells": [
    {
      "cell_type": "code",
      "execution_count": 1,
      "metadata": {},
      "outputs": [],
      "source": [
        "# !pip install plotly\n",
        "# !pip install pythainlp\n",
        "# !pip install stop_words\n",
        "# !pip install nltk"
      ]
    },
    {
      "cell_type": "markdown",
      "metadata": {},
      "source": [
        "### Import Library"
      ]
    },
    {
      "cell_type": "code",
      "execution_count": 2,
      "metadata": {},
      "outputs": [
        {
          "name": "stderr",
          "output_type": "stream",
          "text": [
            "[nltk_data] Downloading package words to C:\\Users\\FACT-\n",
            "[nltk_data]     PC\\AppData\\Roaming\\nltk_data...\n",
            "[nltk_data]   Package words is already up-to-date!\n",
            "[nltk_data] Downloading package omw-1.4 to C:\\Users\\FACT-\n",
            "[nltk_data]     PC\\AppData\\Roaming\\nltk_data...\n",
            "[nltk_data]   Package omw-1.4 is already up-to-date!\n"
          ]
        },
        {
          "data": {
            "text/plain": [
              "True"
            ]
          },
          "execution_count": 2,
          "metadata": {},
          "output_type": "execute_result"
        }
      ],
      "source": [
        "# import libraries\n",
        "import pandas as pd\n",
        "import plotly.express as px\n",
        "import re\n",
        "import nltk\n",
        "nltk.download('words')\n",
        "nltk.download('omw-1.4')"
      ]
    },
    {
      "cell_type": "code",
      "execution_count": 3,
      "metadata": {},
      "outputs": [
        {
          "name": "stderr",
          "output_type": "stream",
          "text": [
            "[nltk_data] Downloading package words to C:\\Users\\FACT-\n",
            "[nltk_data]     PC\\AppData\\Roaming\\nltk_data...\n",
            "[nltk_data]   Package words is already up-to-date!\n"
          ]
        }
      ],
      "source": [
        "import os, sys\n",
        "\n",
        "sys.path.insert(0,os.path.realpath(os.path.join(os.path.pardir, '..')))\n",
        "\n",
        "from config import cfg\n",
        "from utils.utils import *"
      ]
    },
    {
      "cell_type": "markdown",
      "metadata": {},
      "source": [
        "### Import CSV"
      ]
    },
    {
      "cell_type": "code",
      "execution_count": 4,
      "metadata": {},
      "outputs": [
        {
          "data": {
            "text/plain": [
              "artist       object\n",
              "song_name    object\n",
              "href         object\n",
              "lyrics       object\n",
              "lines         int64\n",
              "dtype: object"
            ]
          },
          "execution_count": 4,
          "metadata": {},
          "output_type": "execute_result"
        }
      ],
      "source": [
        "song_df = pd.read_csv(os.path.join(cfg.DATA.BASE_PATH, \"35_song_per_artist.csv\"))\n",
        "song_df.dtypes"
      ]
    },
    {
      "cell_type": "markdown",
      "metadata": {},
      "source": [
        "## Data Preparation"
      ]
    },
    {
      "cell_type": "markdown",
      "metadata": {},
      "source": [
        "### Clean Data"
      ]
    },
    {
      "cell_type": "code",
      "execution_count": 5,
      "metadata": {},
      "outputs": [
        {
          "name": "stderr",
          "output_type": "stream",
          "text": [
            "100%|██████████| 24/24 [00:00<00:00, 132.21it/s]\n"
          ]
        }
      ],
      "source": [
        "# remove !@#$%^&*()_+\n",
        "\n",
        "song_df['lyrics'] = clean(song_df['lyrics'], special_marks=cfg.SPECIAL_MARK, verbose=0)\n",
        "\n",
        "# Remove '\\n'\n",
        "song_df['lyrics'] = song_df['lyrics'].map(lambda s: re.sub('\\n', '', s))"
      ]
    },
    {
      "cell_type": "code",
      "execution_count": 6,
      "metadata": {},
      "outputs": [],
      "source": [
        "# count number of lines\n",
        "song_df['lines'] = song_df['lyrics'].map(lambda t: len(re.findall(r'\\r\\n', t)))"
      ]
    },
    {
      "cell_type": "markdown",
      "metadata": {},
      "source": [
        "### Tokenise"
      ]
    },
    {
      "cell_type": "code",
      "execution_count": 7,
      "metadata": {},
      "outputs": [],
      "source": [
        "import pythainlp\n",
        "from pythainlp import word_tokenize\n",
        "from pythainlp.corpus.common import thai_stopwords\n",
        "from pythainlp.corpus import wordnet\n",
        "from nltk.stem.porter import PorterStemmer\n",
        "from nltk.corpus import words\n",
        "from stop_words import get_stop_words\n",
        "# from pythainlp.ulmfit import process_thai"
      ]
    },
    {
      "cell_type": "code",
      "execution_count": 8,
      "metadata": {},
      "outputs": [],
      "source": [
        "th_stop = tuple(thai_stopwords())\n",
        "en_stop = tuple(get_stop_words('en'))\n",
        "p_stemmer = PorterStemmer()"
      ]
    },
    {
      "cell_type": "code",
      "execution_count": 9,
      "metadata": {},
      "outputs": [
        {
          "data": {
            "text/plain": [
              "0       ไม่ว่าจะเป็นยังไง Baby its Okay\\rไม่ว่าจะเกิดอ...\n",
              "1       จะยอมนั่งจรวด ไปตรวจดาวอังคาร\\rหากว่าที่แห่งนั...\n",
              "2       ถ้าเคยพบเจอ กำแพงที่ดูทั้งใหญ่และสูงชัน\\rเธอรู...\n",
              "3       อยู่ตรงนี้แค่เพียงลำพัง\\rกับความเหงาที่เป็นดั่...\n",
              "4       แค่ตัวคนเดียวไม่ตายล่ะมั้ง\\rถามใจกี่ครั้งก็ยัง...\n",
              "                              ...                        \n",
              "2235    พ่อตาผมโคตรโหด ผมไม่เคยเจอใครที่หนวดเยอะขนาดนี...\n",
              "2236    ฉันไม่ได้ตั้งใจที่จะส่งไปหาเธอ\\rหน้าจอมันเบลอเ...\n",
              "2237    ทุกครั้งที่ฉันนะคิดจะลืม\\rมันคือเวลาที่คิดถึงม...\n",
              "2238    ไม่เป็นไรใช่ไหม\\rนี่คือคำถาม หรือความห่วงใย\\rถ...\n",
              "2239    ไม่เคยมีใครน่ารักเท่ากับเธอ\\rเจอกี่ครั้งก็ยังล...\n",
              "Name: lyrics, Length: 2240, dtype: object"
            ]
          },
          "execution_count": 9,
          "metadata": {},
          "output_type": "execute_result"
        }
      ],
      "source": [
        "song_df['lyrics']"
      ]
    },
    {
      "cell_type": "code",
      "execution_count": 10,
      "metadata": {},
      "outputs": [],
      "source": [
        "# split words from each line\n",
        "\n",
        "song_df['words'] = song_df['lyrics'].map(lambda s: re.sub(r'\\r', '', s)).map(lambda text: split_word(text))\n",
        "\n",
        "# This function may take longer than 2 minutes."
      ]
    },
    {
      "cell_type": "code",
      "execution_count": 11,
      "metadata": {},
      "outputs": [
        {
          "data": {
            "text/html": [
              "<div>\n",
              "<style scoped>\n",
              "    .dataframe tbody tr th:only-of-type {\n",
              "        vertical-align: middle;\n",
              "    }\n",
              "\n",
              "    .dataframe tbody tr th {\n",
              "        vertical-align: top;\n",
              "    }\n",
              "\n",
              "    .dataframe thead th {\n",
              "        text-align: right;\n",
              "    }\n",
              "</style>\n",
              "<table border=\"1\" class=\"dataframe\">\n",
              "  <thead>\n",
              "    <tr style=\"text-align: right;\">\n",
              "      <th></th>\n",
              "      <th>lyrics</th>\n",
              "      <th>words</th>\n",
              "    </tr>\n",
              "  </thead>\n",
              "  <tbody>\n",
              "    <tr>\n",
              "      <th>2235</th>\n",
              "      <td>พ่อตาผมโคตรโหด ผมไม่เคยเจอใครที่หนวดเยอะขนาดนี...</td>\n",
              "      <td>[พ่อตา, ผม, โคตร, โหด, ผม, เจอ, หนวด, ขนาด, พ่...</td>\n",
              "    </tr>\n",
              "    <tr>\n",
              "      <th>2236</th>\n",
              "      <td>ฉันไม่ได้ตั้งใจที่จะส่งไปหาเธอ\\rหน้าจอมันเบลอเ...</td>\n",
              "      <td>[ตั้งใจ, ที่จะ, ไปหา, หน้าจอ, เบลอ, พิมพ์, พลา...</td>\n",
              "    </tr>\n",
              "    <tr>\n",
              "      <th>2237</th>\n",
              "      <td>ทุกครั้งที่ฉันนะคิดจะลืม\\rมันคือเวลาที่คิดถึงม...</td>\n",
              "      <td>[ทุกครั้งที่, ลืม, เวลา, คิดถึง, ฝัน, แบบนี้, ...</td>\n",
              "    </tr>\n",
              "    <tr>\n",
              "      <th>2238</th>\n",
              "      <td>ไม่เป็นไรใช่ไหม\\rนี่คือคำถาม หรือความห่วงใย\\rถ...</td>\n",
              "      <td>[คำถาม, ความห่วงใย, แคร์, im, sorri, เลิก, สัก...</td>\n",
              "    </tr>\n",
              "    <tr>\n",
              "      <th>2239</th>\n",
              "      <td>ไม่เคยมีใครน่ารักเท่ากับเธอ\\rเจอกี่ครั้งก็ยังล...</td>\n",
              "      <td>[น่ารัก, เจอ, กี่, ละเมอ, ยอมให้, รัก, เปล่า, ...</td>\n",
              "    </tr>\n",
              "  </tbody>\n",
              "</table>\n",
              "</div>"
            ],
            "text/plain": [
              "                                                 lyrics  \\\n",
              "2235  พ่อตาผมโคตรโหด ผมไม่เคยเจอใครที่หนวดเยอะขนาดนี...   \n",
              "2236  ฉันไม่ได้ตั้งใจที่จะส่งไปหาเธอ\\rหน้าจอมันเบลอเ...   \n",
              "2237  ทุกครั้งที่ฉันนะคิดจะลืม\\rมันคือเวลาที่คิดถึงม...   \n",
              "2238  ไม่เป็นไรใช่ไหม\\rนี่คือคำถาม หรือความห่วงใย\\rถ...   \n",
              "2239  ไม่เคยมีใครน่ารักเท่ากับเธอ\\rเจอกี่ครั้งก็ยังล...   \n",
              "\n",
              "                                                  words  \n",
              "2235  [พ่อตา, ผม, โคตร, โหด, ผม, เจอ, หนวด, ขนาด, พ่...  \n",
              "2236  [ตั้งใจ, ที่จะ, ไปหา, หน้าจอ, เบลอ, พิมพ์, พลา...  \n",
              "2237  [ทุกครั้งที่, ลืม, เวลา, คิดถึง, ฝัน, แบบนี้, ...  \n",
              "2238  [คำถาม, ความห่วงใย, แคร์, im, sorri, เลิก, สัก...  \n",
              "2239  [น่ารัก, เจอ, กี่, ละเมอ, ยอมให้, รัก, เปล่า, ...  "
            ]
          },
          "execution_count": 11,
          "metadata": {},
          "output_type": "execute_result"
        }
      ],
      "source": [
        "song_df[['lyrics','words']].tail()"
      ]
    },
    {
      "cell_type": "code",
      "execution_count": 12,
      "metadata": {},
      "outputs": [],
      "source": [
        "# word count\n",
        "\n",
        "song_df['n_words'] = song_df['words'].map(len)"
      ]
    },
    {
      "cell_type": "code",
      "execution_count": 13,
      "metadata": {},
      "outputs": [
        {
          "data": {
            "text/html": [
              "<div>\n",
              "<style scoped>\n",
              "    .dataframe tbody tr th:only-of-type {\n",
              "        vertical-align: middle;\n",
              "    }\n",
              "\n",
              "    .dataframe tbody tr th {\n",
              "        vertical-align: top;\n",
              "    }\n",
              "\n",
              "    .dataframe thead th {\n",
              "        text-align: right;\n",
              "    }\n",
              "</style>\n",
              "<table border=\"1\" class=\"dataframe\">\n",
              "  <thead>\n",
              "    <tr style=\"text-align: right;\">\n",
              "      <th></th>\n",
              "      <th>n_words</th>\n",
              "      <th>words</th>\n",
              "    </tr>\n",
              "  </thead>\n",
              "  <tbody>\n",
              "    <tr>\n",
              "      <th>0</th>\n",
              "      <td>174</td>\n",
              "      <td>[babi, okay, ill, miss, day, กลับมา, come, bac...</td>\n",
              "    </tr>\n",
              "    <tr>\n",
              "      <th>1</th>\n",
              "      <td>56</td>\n",
              "      <td>[นั่ง, จรวด, ตรวจ, ดาวอังคาร, ว่าที่, ทิ้ง, ดา...</td>\n",
              "    </tr>\n",
              "    <tr>\n",
              "      <th>2</th>\n",
              "      <td>117</td>\n",
              "      <td>[เจอ, กำแพง, ดู, สูงชัน, รู้, คน, สร้าง, หลบ, ...</td>\n",
              "    </tr>\n",
              "    <tr>\n",
              "      <th>3</th>\n",
              "      <td>115</td>\n",
              "      <td>[ตรงนี้, เพียงลำพัง, ความเหงา, เงา, แต่ยังไง, ...</td>\n",
              "    </tr>\n",
              "    <tr>\n",
              "      <th>4</th>\n",
              "      <td>153</td>\n",
              "      <td>[ตัว, คนเดียว, ตาย, ล่ะ, มั้ง, ถาม, ใจ, กี่, ร...</td>\n",
              "    </tr>\n",
              "  </tbody>\n",
              "</table>\n",
              "</div>"
            ],
            "text/plain": [
              "   n_words                                              words\n",
              "0      174  [babi, okay, ill, miss, day, กลับมา, come, bac...\n",
              "1       56  [นั่ง, จรวด, ตรวจ, ดาวอังคาร, ว่าที่, ทิ้ง, ดา...\n",
              "2      117  [เจอ, กำแพง, ดู, สูงชัน, รู้, คน, สร้าง, หลบ, ...\n",
              "3      115  [ตรงนี้, เพียงลำพัง, ความเหงา, เงา, แต่ยังไง, ...\n",
              "4      153  [ตัว, คนเดียว, ตาย, ล่ะ, มั้ง, ถาม, ใจ, กี่, ร..."
            ]
          },
          "execution_count": 13,
          "metadata": {},
          "output_type": "execute_result"
        }
      ],
      "source": [
        "song_df[['n_words','words']].head()"
      ]
    },
    {
      "cell_type": "markdown",
      "metadata": {},
      "source": [
        "### EDA"
      ]
    },
    {
      "cell_type": "code",
      "execution_count": 14,
      "metadata": {},
      "outputs": [
        {
          "name": "stdout",
          "output_type": "stream",
          "text": [
            "number of songs:  2240\n",
            "number of artists:  64\n"
          ]
        }
      ],
      "source": [
        "# number of songs\n",
        "print('number of songs: ', str(len(song_df)))\n",
        "\n",
        "# number of artists\n",
        "print('number of artists: ', str(len(song_df['artist'].unique())))"
      ]
    },
    {
      "cell_type": "code",
      "execution_count": 15,
      "metadata": {},
      "outputs": [
        {
          "data": {
            "application/vnd.plotly.v1+json": {
              "config": {
                "plotlyServerURL": "https://plot.ly"
              },
              "data": [
                {
                  "alignmentgroup": "True",
                  "bingroup": "x",
                  "hovertemplate": "Songs=%{x}<br>count=%{y}<extra></extra>",
                  "legendgroup": "",
                  "marker": {
                    "color": "#636efa",
                    "pattern": {
                      "shape": ""
                    }
                  },
                  "name": "",
                  "offsetgroup": "",
                  "orientation": "v",
                  "showlegend": false,
                  "type": "histogram",
                  "x": [
                    35,
                    35,
                    35,
                    35,
                    35,
                    35,
                    35,
                    35,
                    35,
                    35,
                    35,
                    35,
                    35,
                    35,
                    35,
                    35,
                    35,
                    35,
                    35,
                    35,
                    35,
                    35,
                    35,
                    35,
                    35,
                    35,
                    35,
                    35,
                    35,
                    35,
                    35,
                    35,
                    35,
                    35,
                    35,
                    35,
                    35,
                    35,
                    35,
                    35,
                    35,
                    35,
                    35,
                    35,
                    35,
                    35,
                    35,
                    35,
                    35,
                    35,
                    35,
                    35,
                    35,
                    35,
                    35,
                    35,
                    35,
                    35,
                    35,
                    35,
                    35,
                    35,
                    35,
                    35
                  ],
                  "xaxis": "x",
                  "yaxis": "y"
                }
              ],
              "layout": {
                "barmode": "relative",
                "legend": {
                  "tracegroupgap": 0
                },
                "template": {
                  "data": {
                    "bar": [
                      {
                        "error_x": {
                          "color": "#2a3f5f"
                        },
                        "error_y": {
                          "color": "#2a3f5f"
                        },
                        "marker": {
                          "line": {
                            "color": "#E5ECF6",
                            "width": 0.5
                          },
                          "pattern": {
                            "fillmode": "overlay",
                            "size": 10,
                            "solidity": 0.2
                          }
                        },
                        "type": "bar"
                      }
                    ],
                    "barpolar": [
                      {
                        "marker": {
                          "line": {
                            "color": "#E5ECF6",
                            "width": 0.5
                          },
                          "pattern": {
                            "fillmode": "overlay",
                            "size": 10,
                            "solidity": 0.2
                          }
                        },
                        "type": "barpolar"
                      }
                    ],
                    "carpet": [
                      {
                        "aaxis": {
                          "endlinecolor": "#2a3f5f",
                          "gridcolor": "white",
                          "linecolor": "white",
                          "minorgridcolor": "white",
                          "startlinecolor": "#2a3f5f"
                        },
                        "baxis": {
                          "endlinecolor": "#2a3f5f",
                          "gridcolor": "white",
                          "linecolor": "white",
                          "minorgridcolor": "white",
                          "startlinecolor": "#2a3f5f"
                        },
                        "type": "carpet"
                      }
                    ],
                    "choropleth": [
                      {
                        "colorbar": {
                          "outlinewidth": 0,
                          "ticks": ""
                        },
                        "type": "choropleth"
                      }
                    ],
                    "contour": [
                      {
                        "colorbar": {
                          "outlinewidth": 0,
                          "ticks": ""
                        },
                        "colorscale": [
                          [
                            0,
                            "#0d0887"
                          ],
                          [
                            0.1111111111111111,
                            "#46039f"
                          ],
                          [
                            0.2222222222222222,
                            "#7201a8"
                          ],
                          [
                            0.3333333333333333,
                            "#9c179e"
                          ],
                          [
                            0.4444444444444444,
                            "#bd3786"
                          ],
                          [
                            0.5555555555555556,
                            "#d8576b"
                          ],
                          [
                            0.6666666666666666,
                            "#ed7953"
                          ],
                          [
                            0.7777777777777778,
                            "#fb9f3a"
                          ],
                          [
                            0.8888888888888888,
                            "#fdca26"
                          ],
                          [
                            1,
                            "#f0f921"
                          ]
                        ],
                        "type": "contour"
                      }
                    ],
                    "contourcarpet": [
                      {
                        "colorbar": {
                          "outlinewidth": 0,
                          "ticks": ""
                        },
                        "type": "contourcarpet"
                      }
                    ],
                    "heatmap": [
                      {
                        "colorbar": {
                          "outlinewidth": 0,
                          "ticks": ""
                        },
                        "colorscale": [
                          [
                            0,
                            "#0d0887"
                          ],
                          [
                            0.1111111111111111,
                            "#46039f"
                          ],
                          [
                            0.2222222222222222,
                            "#7201a8"
                          ],
                          [
                            0.3333333333333333,
                            "#9c179e"
                          ],
                          [
                            0.4444444444444444,
                            "#bd3786"
                          ],
                          [
                            0.5555555555555556,
                            "#d8576b"
                          ],
                          [
                            0.6666666666666666,
                            "#ed7953"
                          ],
                          [
                            0.7777777777777778,
                            "#fb9f3a"
                          ],
                          [
                            0.8888888888888888,
                            "#fdca26"
                          ],
                          [
                            1,
                            "#f0f921"
                          ]
                        ],
                        "type": "heatmap"
                      }
                    ],
                    "heatmapgl": [
                      {
                        "colorbar": {
                          "outlinewidth": 0,
                          "ticks": ""
                        },
                        "colorscale": [
                          [
                            0,
                            "#0d0887"
                          ],
                          [
                            0.1111111111111111,
                            "#46039f"
                          ],
                          [
                            0.2222222222222222,
                            "#7201a8"
                          ],
                          [
                            0.3333333333333333,
                            "#9c179e"
                          ],
                          [
                            0.4444444444444444,
                            "#bd3786"
                          ],
                          [
                            0.5555555555555556,
                            "#d8576b"
                          ],
                          [
                            0.6666666666666666,
                            "#ed7953"
                          ],
                          [
                            0.7777777777777778,
                            "#fb9f3a"
                          ],
                          [
                            0.8888888888888888,
                            "#fdca26"
                          ],
                          [
                            1,
                            "#f0f921"
                          ]
                        ],
                        "type": "heatmapgl"
                      }
                    ],
                    "histogram": [
                      {
                        "marker": {
                          "pattern": {
                            "fillmode": "overlay",
                            "size": 10,
                            "solidity": 0.2
                          }
                        },
                        "type": "histogram"
                      }
                    ],
                    "histogram2d": [
                      {
                        "colorbar": {
                          "outlinewidth": 0,
                          "ticks": ""
                        },
                        "colorscale": [
                          [
                            0,
                            "#0d0887"
                          ],
                          [
                            0.1111111111111111,
                            "#46039f"
                          ],
                          [
                            0.2222222222222222,
                            "#7201a8"
                          ],
                          [
                            0.3333333333333333,
                            "#9c179e"
                          ],
                          [
                            0.4444444444444444,
                            "#bd3786"
                          ],
                          [
                            0.5555555555555556,
                            "#d8576b"
                          ],
                          [
                            0.6666666666666666,
                            "#ed7953"
                          ],
                          [
                            0.7777777777777778,
                            "#fb9f3a"
                          ],
                          [
                            0.8888888888888888,
                            "#fdca26"
                          ],
                          [
                            1,
                            "#f0f921"
                          ]
                        ],
                        "type": "histogram2d"
                      }
                    ],
                    "histogram2dcontour": [
                      {
                        "colorbar": {
                          "outlinewidth": 0,
                          "ticks": ""
                        },
                        "colorscale": [
                          [
                            0,
                            "#0d0887"
                          ],
                          [
                            0.1111111111111111,
                            "#46039f"
                          ],
                          [
                            0.2222222222222222,
                            "#7201a8"
                          ],
                          [
                            0.3333333333333333,
                            "#9c179e"
                          ],
                          [
                            0.4444444444444444,
                            "#bd3786"
                          ],
                          [
                            0.5555555555555556,
                            "#d8576b"
                          ],
                          [
                            0.6666666666666666,
                            "#ed7953"
                          ],
                          [
                            0.7777777777777778,
                            "#fb9f3a"
                          ],
                          [
                            0.8888888888888888,
                            "#fdca26"
                          ],
                          [
                            1,
                            "#f0f921"
                          ]
                        ],
                        "type": "histogram2dcontour"
                      }
                    ],
                    "mesh3d": [
                      {
                        "colorbar": {
                          "outlinewidth": 0,
                          "ticks": ""
                        },
                        "type": "mesh3d"
                      }
                    ],
                    "parcoords": [
                      {
                        "line": {
                          "colorbar": {
                            "outlinewidth": 0,
                            "ticks": ""
                          }
                        },
                        "type": "parcoords"
                      }
                    ],
                    "pie": [
                      {
                        "automargin": true,
                        "type": "pie"
                      }
                    ],
                    "scatter": [
                      {
                        "fillpattern": {
                          "fillmode": "overlay",
                          "size": 10,
                          "solidity": 0.2
                        },
                        "type": "scatter"
                      }
                    ],
                    "scatter3d": [
                      {
                        "line": {
                          "colorbar": {
                            "outlinewidth": 0,
                            "ticks": ""
                          }
                        },
                        "marker": {
                          "colorbar": {
                            "outlinewidth": 0,
                            "ticks": ""
                          }
                        },
                        "type": "scatter3d"
                      }
                    ],
                    "scattercarpet": [
                      {
                        "marker": {
                          "colorbar": {
                            "outlinewidth": 0,
                            "ticks": ""
                          }
                        },
                        "type": "scattercarpet"
                      }
                    ],
                    "scattergeo": [
                      {
                        "marker": {
                          "colorbar": {
                            "outlinewidth": 0,
                            "ticks": ""
                          }
                        },
                        "type": "scattergeo"
                      }
                    ],
                    "scattergl": [
                      {
                        "marker": {
                          "colorbar": {
                            "outlinewidth": 0,
                            "ticks": ""
                          }
                        },
                        "type": "scattergl"
                      }
                    ],
                    "scattermapbox": [
                      {
                        "marker": {
                          "colorbar": {
                            "outlinewidth": 0,
                            "ticks": ""
                          }
                        },
                        "type": "scattermapbox"
                      }
                    ],
                    "scatterpolar": [
                      {
                        "marker": {
                          "colorbar": {
                            "outlinewidth": 0,
                            "ticks": ""
                          }
                        },
                        "type": "scatterpolar"
                      }
                    ],
                    "scatterpolargl": [
                      {
                        "marker": {
                          "colorbar": {
                            "outlinewidth": 0,
                            "ticks": ""
                          }
                        },
                        "type": "scatterpolargl"
                      }
                    ],
                    "scatterternary": [
                      {
                        "marker": {
                          "colorbar": {
                            "outlinewidth": 0,
                            "ticks": ""
                          }
                        },
                        "type": "scatterternary"
                      }
                    ],
                    "surface": [
                      {
                        "colorbar": {
                          "outlinewidth": 0,
                          "ticks": ""
                        },
                        "colorscale": [
                          [
                            0,
                            "#0d0887"
                          ],
                          [
                            0.1111111111111111,
                            "#46039f"
                          ],
                          [
                            0.2222222222222222,
                            "#7201a8"
                          ],
                          [
                            0.3333333333333333,
                            "#9c179e"
                          ],
                          [
                            0.4444444444444444,
                            "#bd3786"
                          ],
                          [
                            0.5555555555555556,
                            "#d8576b"
                          ],
                          [
                            0.6666666666666666,
                            "#ed7953"
                          ],
                          [
                            0.7777777777777778,
                            "#fb9f3a"
                          ],
                          [
                            0.8888888888888888,
                            "#fdca26"
                          ],
                          [
                            1,
                            "#f0f921"
                          ]
                        ],
                        "type": "surface"
                      }
                    ],
                    "table": [
                      {
                        "cells": {
                          "fill": {
                            "color": "#EBF0F8"
                          },
                          "line": {
                            "color": "white"
                          }
                        },
                        "header": {
                          "fill": {
                            "color": "#C8D4E3"
                          },
                          "line": {
                            "color": "white"
                          }
                        },
                        "type": "table"
                      }
                    ]
                  },
                  "layout": {
                    "annotationdefaults": {
                      "arrowcolor": "#2a3f5f",
                      "arrowhead": 0,
                      "arrowwidth": 1
                    },
                    "autotypenumbers": "strict",
                    "coloraxis": {
                      "colorbar": {
                        "outlinewidth": 0,
                        "ticks": ""
                      }
                    },
                    "colorscale": {
                      "diverging": [
                        [
                          0,
                          "#8e0152"
                        ],
                        [
                          0.1,
                          "#c51b7d"
                        ],
                        [
                          0.2,
                          "#de77ae"
                        ],
                        [
                          0.3,
                          "#f1b6da"
                        ],
                        [
                          0.4,
                          "#fde0ef"
                        ],
                        [
                          0.5,
                          "#f7f7f7"
                        ],
                        [
                          0.6,
                          "#e6f5d0"
                        ],
                        [
                          0.7,
                          "#b8e186"
                        ],
                        [
                          0.8,
                          "#7fbc41"
                        ],
                        [
                          0.9,
                          "#4d9221"
                        ],
                        [
                          1,
                          "#276419"
                        ]
                      ],
                      "sequential": [
                        [
                          0,
                          "#0d0887"
                        ],
                        [
                          0.1111111111111111,
                          "#46039f"
                        ],
                        [
                          0.2222222222222222,
                          "#7201a8"
                        ],
                        [
                          0.3333333333333333,
                          "#9c179e"
                        ],
                        [
                          0.4444444444444444,
                          "#bd3786"
                        ],
                        [
                          0.5555555555555556,
                          "#d8576b"
                        ],
                        [
                          0.6666666666666666,
                          "#ed7953"
                        ],
                        [
                          0.7777777777777778,
                          "#fb9f3a"
                        ],
                        [
                          0.8888888888888888,
                          "#fdca26"
                        ],
                        [
                          1,
                          "#f0f921"
                        ]
                      ],
                      "sequentialminus": [
                        [
                          0,
                          "#0d0887"
                        ],
                        [
                          0.1111111111111111,
                          "#46039f"
                        ],
                        [
                          0.2222222222222222,
                          "#7201a8"
                        ],
                        [
                          0.3333333333333333,
                          "#9c179e"
                        ],
                        [
                          0.4444444444444444,
                          "#bd3786"
                        ],
                        [
                          0.5555555555555556,
                          "#d8576b"
                        ],
                        [
                          0.6666666666666666,
                          "#ed7953"
                        ],
                        [
                          0.7777777777777778,
                          "#fb9f3a"
                        ],
                        [
                          0.8888888888888888,
                          "#fdca26"
                        ],
                        [
                          1,
                          "#f0f921"
                        ]
                      ]
                    },
                    "colorway": [
                      "#636efa",
                      "#EF553B",
                      "#00cc96",
                      "#ab63fa",
                      "#FFA15A",
                      "#19d3f3",
                      "#FF6692",
                      "#B6E880",
                      "#FF97FF",
                      "#FECB52"
                    ],
                    "font": {
                      "color": "#2a3f5f"
                    },
                    "geo": {
                      "bgcolor": "white",
                      "lakecolor": "white",
                      "landcolor": "#E5ECF6",
                      "showlakes": true,
                      "showland": true,
                      "subunitcolor": "white"
                    },
                    "hoverlabel": {
                      "align": "left"
                    },
                    "hovermode": "closest",
                    "mapbox": {
                      "style": "light"
                    },
                    "paper_bgcolor": "white",
                    "plot_bgcolor": "#E5ECF6",
                    "polar": {
                      "angularaxis": {
                        "gridcolor": "white",
                        "linecolor": "white",
                        "ticks": ""
                      },
                      "bgcolor": "#E5ECF6",
                      "radialaxis": {
                        "gridcolor": "white",
                        "linecolor": "white",
                        "ticks": ""
                      }
                    },
                    "scene": {
                      "xaxis": {
                        "backgroundcolor": "#E5ECF6",
                        "gridcolor": "white",
                        "gridwidth": 2,
                        "linecolor": "white",
                        "showbackground": true,
                        "ticks": "",
                        "zerolinecolor": "white"
                      },
                      "yaxis": {
                        "backgroundcolor": "#E5ECF6",
                        "gridcolor": "white",
                        "gridwidth": 2,
                        "linecolor": "white",
                        "showbackground": true,
                        "ticks": "",
                        "zerolinecolor": "white"
                      },
                      "zaxis": {
                        "backgroundcolor": "#E5ECF6",
                        "gridcolor": "white",
                        "gridwidth": 2,
                        "linecolor": "white",
                        "showbackground": true,
                        "ticks": "",
                        "zerolinecolor": "white"
                      }
                    },
                    "shapedefaults": {
                      "line": {
                        "color": "#2a3f5f"
                      }
                    },
                    "ternary": {
                      "aaxis": {
                        "gridcolor": "white",
                        "linecolor": "white",
                        "ticks": ""
                      },
                      "baxis": {
                        "gridcolor": "white",
                        "linecolor": "white",
                        "ticks": ""
                      },
                      "bgcolor": "#E5ECF6",
                      "caxis": {
                        "gridcolor": "white",
                        "linecolor": "white",
                        "ticks": ""
                      }
                    },
                    "title": {
                      "x": 0.05
                    },
                    "xaxis": {
                      "automargin": true,
                      "gridcolor": "white",
                      "linecolor": "white",
                      "ticks": "",
                      "title": {
                        "standoff": 15
                      },
                      "zerolinecolor": "white",
                      "zerolinewidth": 2
                    },
                    "yaxis": {
                      "automargin": true,
                      "gridcolor": "white",
                      "linecolor": "white",
                      "ticks": "",
                      "title": {
                        "standoff": 15
                      },
                      "zerolinecolor": "white",
                      "zerolinewidth": 2
                    }
                  }
                },
                "title": {
                  "text": "Songs per artist"
                },
                "xaxis": {
                  "anchor": "y",
                  "domain": [
                    0,
                    1
                  ],
                  "title": {
                    "text": "Songs"
                  }
                },
                "yaxis": {
                  "anchor": "x",
                  "domain": [
                    0,
                    1
                  ],
                  "title": {
                    "text": "count"
                  }
                }
              }
            }
          },
          "metadata": {},
          "output_type": "display_data"
        }
      ],
      "source": [
        "# distribution songs per artist\n",
        "song_count_df = song_df.groupby('artist')[['song_name']].count()\n",
        "\n",
        "fig = px.histogram(song_count_df, x='song_name', title='Songs per artist', labels={'song_name': 'Songs'})\n",
        "fig.show()"
      ]
    },
    {
      "cell_type": "code",
      "execution_count": 16,
      "metadata": {},
      "outputs": [
        {
          "data": {
            "application/vnd.plotly.v1+json": {
              "config": {
                "plotlyServerURL": "https://plot.ly"
              },
              "data": [
                {
                  "alignmentgroup": "True",
                  "bingroup": "x",
                  "hovertemplate": "n_words=%{x}<br>count=%{y}<extra></extra>",
                  "legendgroup": "",
                  "marker": {
                    "color": "#636efa",
                    "pattern": {
                      "shape": ""
                    }
                  },
                  "name": "",
                  "offsetgroup": "",
                  "orientation": "v",
                  "showlegend": false,
                  "type": "histogram",
                  "x": [
                    174,
                    56,
                    117,
                    115,
                    153,
                    143,
                    99,
                    68,
                    136,
                    72,
                    153,
                    109,
                    54,
                    47,
                    111,
                    108,
                    59,
                    66,
                    90,
                    186,
                    46,
                    106,
                    104,
                    154,
                    70,
                    113,
                    211,
                    89,
                    84,
                    112,
                    101,
                    64,
                    72,
                    105,
                    44,
                    66,
                    75,
                    115,
                    86,
                    90,
                    72,
                    129,
                    50,
                    92,
                    64,
                    94,
                    116,
                    94,
                    103,
                    176,
                    126,
                    119,
                    156,
                    131,
                    85,
                    84,
                    111,
                    114,
                    90,
                    107,
                    102,
                    103,
                    82,
                    80,
                    241,
                    118,
                    170,
                    119,
                    140,
                    183,
                    70,
                    97,
                    92,
                    53,
                    70,
                    113,
                    83,
                    68,
                    89,
                    43,
                    39,
                    85,
                    39,
                    60,
                    82,
                    64,
                    79,
                    66,
                    156,
                    50,
                    87,
                    73,
                    60,
                    69,
                    55,
                    109,
                    69,
                    94,
                    49,
                    47,
                    49,
                    80,
                    85,
                    59,
                    85,
                    123,
                    102,
                    71,
                    91,
                    73,
                    104,
                    72,
                    65,
                    103,
                    102,
                    99,
                    86,
                    132,
                    41,
                    68,
                    111,
                    81,
                    106,
                    48,
                    75,
                    103,
                    93,
                    139,
                    63,
                    122,
                    124,
                    94,
                    83,
                    91,
                    46,
                    64,
                    51,
                    65,
                    90,
                    65,
                    174,
                    94,
                    71,
                    76,
                    74,
                    97,
                    85,
                    140,
                    85,
                    79,
                    58,
                    99,
                    103,
                    50,
                    79,
                    81,
                    82,
                    75,
                    106,
                    69,
                    77,
                    63,
                    79,
                    49,
                    72,
                    57,
                    67,
                    65,
                    54,
                    65,
                    82,
                    55,
                    84,
                    73,
                    102,
                    77,
                    77,
                    102,
                    99,
                    96,
                    103,
                    92,
                    107,
                    114,
                    120,
                    90,
                    90,
                    92,
                    70,
                    54,
                    129,
                    103,
                    89,
                    82,
                    116,
                    68,
                    90,
                    48,
                    60,
                    43,
                    54,
                    100,
                    136,
                    96,
                    58,
                    65,
                    116,
                    79,
                    103,
                    85,
                    134,
                    109,
                    168,
                    55,
                    117,
                    52,
                    80,
                    105,
                    121,
                    157,
                    155,
                    104,
                    181,
                    92,
                    175,
                    122,
                    63,
                    133,
                    122,
                    140,
                    77,
                    61,
                    116,
                    88,
                    97,
                    163,
                    157,
                    135,
                    82,
                    100,
                    122,
                    80,
                    75,
                    45,
                    184,
                    84,
                    39,
                    75,
                    90,
                    68,
                    90,
                    79,
                    109,
                    131,
                    103,
                    65,
                    102,
                    103,
                    67,
                    110,
                    72,
                    70,
                    88,
                    74,
                    80,
                    59,
                    87,
                    69,
                    97,
                    52,
                    70,
                    64,
                    40,
                    88,
                    93,
                    149,
                    89,
                    101,
                    68,
                    89,
                    83,
                    79,
                    57,
                    81,
                    62,
                    115,
                    63,
                    117,
                    97,
                    62,
                    101,
                    57,
                    52,
                    74,
                    82,
                    42,
                    98,
                    101,
                    66,
                    34,
                    65,
                    64,
                    155,
                    97,
                    52,
                    52,
                    96,
                    40,
                    63,
                    53,
                    72,
                    65,
                    46,
                    27,
                    76,
                    46,
                    110,
                    82,
                    120,
                    120,
                    89,
                    90,
                    78,
                    106,
                    166,
                    79,
                    88,
                    117,
                    58,
                    72,
                    171,
                    140,
                    111,
                    119,
                    87,
                    80,
                    139,
                    74,
                    92,
                    105,
                    125,
                    183,
                    37,
                    62,
                    81,
                    81,
                    57,
                    147,
                    98,
                    101,
                    62,
                    88,
                    62,
                    52,
                    75,
                    100,
                    101,
                    91,
                    92,
                    81,
                    73,
                    83,
                    68,
                    49,
                    78,
                    49,
                    81,
                    90,
                    89,
                    80,
                    54,
                    59,
                    69,
                    76,
                    74,
                    139,
                    92,
                    66,
                    140,
                    120,
                    108,
                    61,
                    111,
                    62,
                    74,
                    36,
                    49,
                    26,
                    36,
                    38,
                    29,
                    43,
                    35,
                    33,
                    40,
                    33,
                    33,
                    37,
                    23,
                    38,
                    39,
                    45,
                    47,
                    42,
                    63,
                    39,
                    31,
                    29,
                    28,
                    26,
                    27,
                    19,
                    26,
                    29,
                    24,
                    36,
                    35,
                    54,
                    30,
                    31,
                    75,
                    75,
                    87,
                    130,
                    51,
                    51,
                    75,
                    68,
                    89,
                    81,
                    83,
                    130,
                    81,
                    104,
                    121,
                    80,
                    91,
                    100,
                    74,
                    50,
                    89,
                    68,
                    58,
                    38,
                    88,
                    50,
                    69,
                    123,
                    95,
                    119,
                    205,
                    59,
                    113,
                    51,
                    97,
                    105,
                    77,
                    68,
                    126,
                    60,
                    90,
                    96,
                    85,
                    43,
                    56,
                    63,
                    69,
                    37,
                    117,
                    45,
                    83,
                    104,
                    52,
                    80,
                    117,
                    111,
                    70,
                    175,
                    144,
                    66,
                    102,
                    89,
                    65,
                    38,
                    55,
                    48,
                    85,
                    124,
                    64,
                    83,
                    97,
                    177,
                    134,
                    174,
                    100,
                    254,
                    167,
                    103,
                    82,
                    176,
                    114,
                    163,
                    138,
                    98,
                    234,
                    190,
                    75,
                    143,
                    272,
                    73,
                    102,
                    89,
                    203,
                    298,
                    56,
                    83,
                    190,
                    125,
                    105,
                    73,
                    155,
                    80,
                    210,
                    119,
                    103,
                    36,
                    70,
                    84,
                    55,
                    70,
                    58,
                    59,
                    65,
                    92,
                    84,
                    70,
                    63,
                    87,
                    67,
                    116,
                    51,
                    105,
                    76,
                    55,
                    60,
                    71,
                    64,
                    58,
                    87,
                    79,
                    55,
                    62,
                    56,
                    48,
                    97,
                    75,
                    95,
                    57,
                    50,
                    106,
                    185,
                    148,
                    88,
                    152,
                    136,
                    109,
                    184,
                    123,
                    113,
                    195,
                    124,
                    264,
                    380,
                    84,
                    176,
                    88,
                    163,
                    239,
                    131,
                    106,
                    312,
                    148,
                    94,
                    89,
                    94,
                    149,
                    120,
                    152,
                    112,
                    174,
                    92,
                    61,
                    89,
                    57,
                    132,
                    73,
                    112,
                    115,
                    73,
                    149,
                    150,
                    119,
                    111,
                    186,
                    151,
                    150,
                    132,
                    110,
                    139,
                    84,
                    126,
                    100,
                    101,
                    95,
                    80,
                    141,
                    56,
                    79,
                    59,
                    162,
                    87,
                    76,
                    98,
                    77,
                    86,
                    166,
                    102,
                    92,
                    46,
                    96,
                    95,
                    97,
                    108,
                    65,
                    50,
                    209,
                    47,
                    98,
                    111,
                    80,
                    50,
                    119,
                    71,
                    64,
                    146,
                    170,
                    133,
                    84,
                    111,
                    97,
                    83,
                    102,
                    113,
                    28,
                    64,
                    77,
                    58,
                    86,
                    103,
                    84,
                    63,
                    92,
                    132,
                    54,
                    56,
                    162,
                    83,
                    155,
                    57,
                    90,
                    111,
                    166,
                    117,
                    102,
                    117,
                    108,
                    130,
                    169,
                    85,
                    203,
                    113,
                    157,
                    216,
                    185,
                    136,
                    140,
                    109,
                    90,
                    113,
                    147,
                    174,
                    122,
                    183,
                    132,
                    151,
                    123,
                    199,
                    189,
                    175,
                    242,
                    107,
                    199,
                    46,
                    45,
                    60,
                    60,
                    180,
                    81,
                    64,
                    55,
                    69,
                    77,
                    98,
                    69,
                    50,
                    96,
                    46,
                    60,
                    94,
                    83,
                    111,
                    90,
                    79,
                    50,
                    77,
                    82,
                    68,
                    61,
                    78,
                    66,
                    81,
                    70,
                    105,
                    106,
                    96,
                    152,
                    318,
                    173,
                    183,
                    146,
                    129,
                    163,
                    320,
                    176,
                    195,
                    211,
                    243,
                    137,
                    242,
                    348,
                    226,
                    227,
                    301,
                    134,
                    302,
                    179,
                    130,
                    254,
                    180,
                    254,
                    284,
                    221,
                    212,
                    152,
                    321,
                    246,
                    145,
                    155,
                    313,
                    118,
                    75,
                    102,
                    63,
                    121,
                    78,
                    88,
                    220,
                    113,
                    111,
                    82,
                    74,
                    114,
                    52,
                    55,
                    128,
                    86,
                    97,
                    56,
                    128,
                    76,
                    59,
                    75,
                    110,
                    177,
                    84,
                    203,
                    114,
                    135,
                    51,
                    167,
                    360,
                    172,
                    74,
                    67,
                    226,
                    86,
                    106,
                    40,
                    115,
                    83,
                    97,
                    68,
                    123,
                    94,
                    138,
                    96,
                    162,
                    71,
                    119,
                    83,
                    74,
                    102,
                    85,
                    76,
                    103,
                    66,
                    146,
                    66,
                    103,
                    287,
                    79,
                    57,
                    104,
                    119,
                    78,
                    112,
                    92,
                    118,
                    82,
                    129,
                    97,
                    67,
                    83,
                    83,
                    48,
                    95,
                    131,
                    60,
                    94,
                    115,
                    118,
                    77,
                    128,
                    124,
                    116,
                    144,
                    139,
                    69,
                    143,
                    113,
                    57,
                    34,
                    107,
                    84,
                    43,
                    103,
                    92,
                    51,
                    49,
                    95,
                    130,
                    88,
                    156,
                    73,
                    192,
                    116,
                    118,
                    99,
                    79,
                    37,
                    85,
                    85,
                    79,
                    105,
                    59,
                    65,
                    55,
                    169,
                    105,
                    125,
                    96,
                    107,
                    91,
                    114,
                    84,
                    131,
                    77,
                    95,
                    120,
                    78,
                    124,
                    92,
                    99,
                    75,
                    80,
                    71,
                    95,
                    151,
                    80,
                    101,
                    75,
                    153,
                    73,
                    137,
                    112,
                    113,
                    115,
                    159,
                    117,
                    74,
                    211,
                    62,
                    97,
                    113,
                    87,
                    88,
                    86,
                    125,
                    141,
                    161,
                    76,
                    89,
                    51,
                    101,
                    75,
                    96,
                    56,
                    108,
                    97,
                    74,
                    114,
                    64,
                    140,
                    64,
                    217,
                    90,
                    115,
                    74,
                    103,
                    135,
                    116,
                    161,
                    182,
                    143,
                    146,
                    168,
                    186,
                    194,
                    173,
                    79,
                    100,
                    80,
                    146,
                    73,
                    89,
                    105,
                    147,
                    85,
                    179,
                    124,
                    181,
                    113,
                    124,
                    55,
                    98,
                    180,
                    140,
                    150,
                    162,
                    237,
                    115,
                    117,
                    113,
                    84,
                    75,
                    77,
                    72,
                    52,
                    117,
                    56,
                    120,
                    115,
                    85,
                    147,
                    74,
                    31,
                    53,
                    95,
                    151,
                    94,
                    140,
                    110,
                    128,
                    80,
                    123,
                    88,
                    163,
                    101,
                    107,
                    131,
                    123,
                    92,
                    125,
                    110,
                    64,
                    114,
                    105,
                    116,
                    288,
                    74,
                    81,
                    109,
                    104,
                    88,
                    242,
                    249,
                    57,
                    95,
                    110,
                    70,
                    63,
                    75,
                    94,
                    86,
                    174,
                    90,
                    50,
                    299,
                    87,
                    119,
                    226,
                    117,
                    101,
                    80,
                    70,
                    106,
                    218,
                    83,
                    75,
                    72,
                    91,
                    90,
                    65,
                    67,
                    74,
                    83,
                    74,
                    70,
                    74,
                    52,
                    72,
                    71,
                    167,
                    130,
                    95,
                    99,
                    125,
                    106,
                    88,
                    59,
                    92,
                    83,
                    101,
                    256,
                    81,
                    238,
                    65,
                    113,
                    239,
                    110,
                    64,
                    99,
                    133,
                    79,
                    96,
                    87,
                    61,
                    69,
                    73,
                    80,
                    72,
                    86,
                    77,
                    75,
                    102,
                    69,
                    75,
                    129,
                    89,
                    62,
                    50,
                    87,
                    41,
                    71,
                    64,
                    65,
                    51,
                    55,
                    44,
                    63,
                    62,
                    86,
                    53,
                    103,
                    47,
                    93,
                    111,
                    81,
                    71,
                    104,
                    173,
                    88,
                    215,
                    98,
                    235,
                    133,
                    142,
                    186,
                    174,
                    152,
                    155,
                    137,
                    128,
                    139,
                    188,
                    146,
                    193,
                    243,
                    130,
                    128,
                    137,
                    215,
                    148,
                    238,
                    132,
                    144,
                    159,
                    142,
                    187,
                    197,
                    219,
                    235,
                    212,
                    155,
                    132,
                    114,
                    118,
                    82,
                    131,
                    86,
                    79,
                    95,
                    78,
                    52,
                    88,
                    90,
                    62,
                    97,
                    81,
                    101,
                    89,
                    69,
                    150,
                    107,
                    63,
                    82,
                    164,
                    75,
                    69,
                    99,
                    91,
                    111,
                    98,
                    77,
                    57,
                    71,
                    91,
                    291,
                    65,
                    68,
                    234,
                    201,
                    106,
                    135,
                    196,
                    402,
                    123,
                    126,
                    114,
                    111,
                    144,
                    155,
                    132,
                    105,
                    136,
                    134,
                    194,
                    93,
                    134,
                    205,
                    146,
                    268,
                    226,
                    104,
                    277,
                    145,
                    206,
                    212,
                    133,
                    120,
                    136,
                    126,
                    108,
                    157,
                    181,
                    101,
                    99,
                    69,
                    41,
                    63,
                    84,
                    59,
                    79,
                    73,
                    61,
                    84,
                    50,
                    126,
                    112,
                    64,
                    108,
                    129,
                    62,
                    95,
                    92,
                    86,
                    68,
                    61,
                    95,
                    64,
                    165,
                    203,
                    97,
                    62,
                    105,
                    55,
                    65,
                    90,
                    75,
                    44,
                    72,
                    55,
                    87,
                    107,
                    69,
                    71,
                    102,
                    102,
                    77,
                    136,
                    134,
                    59,
                    61,
                    174,
                    155,
                    79,
                    65,
                    65,
                    125,
                    61,
                    55,
                    72,
                    91,
                    65,
                    60,
                    49,
                    58,
                    32,
                    55,
                    103,
                    106,
                    71,
                    54,
                    104,
                    130,
                    83,
                    65,
                    76,
                    54,
                    69,
                    94,
                    58,
                    64,
                    53,
                    83,
                    80,
                    82,
                    84,
                    84,
                    50,
                    54,
                    73,
                    60,
                    83,
                    58,
                    40,
                    113,
                    63,
                    73,
                    69,
                    80,
                    73,
                    62,
                    62,
                    71,
                    60,
                    84,
                    71,
                    83,
                    68,
                    115,
                    116,
                    91,
                    150,
                    196,
                    108,
                    78,
                    185,
                    104,
                    113,
                    114,
                    126,
                    148,
                    110,
                    91,
                    103,
                    134,
                    120,
                    106,
                    97,
                    154,
                    121,
                    201,
                    95,
                    116,
                    115,
                    77,
                    94,
                    108,
                    88,
                    115,
                    141,
                    121,
                    137,
                    67,
                    172,
                    181,
                    228,
                    225,
                    203,
                    130,
                    245,
                    158,
                    97,
                    182,
                    197,
                    147,
                    202,
                    98,
                    147,
                    126,
                    185,
                    267,
                    120,
                    54,
                    157,
                    186,
                    90,
                    87,
                    204,
                    167,
                    171,
                    211,
                    144,
                    127,
                    299,
                    138,
                    214,
                    127,
                    222,
                    70,
                    112,
                    78,
                    99,
                    88,
                    115,
                    92,
                    69,
                    80,
                    86,
                    110,
                    72,
                    55,
                    104,
                    134,
                    82,
                    90,
                    163,
                    163,
                    52,
                    122,
                    88,
                    76,
                    77,
                    178,
                    110,
                    63,
                    126,
                    133,
                    134,
                    132,
                    147,
                    156,
                    62,
                    133,
                    76,
                    66,
                    54,
                    92,
                    91,
                    62,
                    80,
                    103,
                    60,
                    86,
                    97,
                    87,
                    96,
                    73,
                    85,
                    56,
                    63,
                    65,
                    50,
                    74,
                    125,
                    108,
                    65,
                    74,
                    62,
                    140,
                    81,
                    124,
                    73,
                    107,
                    61,
                    168,
                    86,
                    101,
                    76,
                    141,
                    176,
                    103,
                    168,
                    70,
                    103,
                    244,
                    52,
                    69,
                    95,
                    109,
                    59,
                    48,
                    85,
                    107,
                    98,
                    67,
                    60,
                    136,
                    78,
                    126,
                    81,
                    67,
                    99,
                    101,
                    88,
                    85,
                    128,
                    241,
                    63,
                    64,
                    63,
                    39,
                    93,
                    35,
                    116,
                    90,
                    68,
                    87,
                    73,
                    84,
                    74,
                    91,
                    61,
                    106,
                    105,
                    73,
                    103,
                    89,
                    80,
                    65,
                    71,
                    89,
                    69,
                    63,
                    96,
                    89,
                    88,
                    69,
                    101,
                    48,
                    83,
                    103,
                    103,
                    98,
                    64,
                    68,
                    234,
                    93,
                    67,
                    108,
                    111,
                    116,
                    124,
                    93,
                    117,
                    96,
                    91,
                    140,
                    111,
                    107,
                    116,
                    133,
                    129,
                    79,
                    98,
                    79,
                    91,
                    81,
                    169,
                    84,
                    82,
                    89,
                    77,
                    72,
                    46,
                    108,
                    84,
                    208,
                    62,
                    182,
                    165,
                    79,
                    119,
                    109,
                    119,
                    91,
                    54,
                    119,
                    119,
                    42,
                    101,
                    43,
                    77,
                    76,
                    82,
                    160,
                    108,
                    77,
                    65,
                    81,
                    48,
                    68,
                    56,
                    104,
                    63,
                    132,
                    101,
                    53,
                    89,
                    82,
                    75,
                    68,
                    98,
                    76,
                    100,
                    93,
                    72,
                    43,
                    95,
                    232,
                    418,
                    239,
                    152,
                    179,
                    247,
                    181,
                    208,
                    235,
                    310,
                    314,
                    100,
                    169,
                    253,
                    327,
                    452,
                    429,
                    268,
                    285,
                    277,
                    212,
                    231,
                    282,
                    242,
                    476,
                    210,
                    284,
                    223,
                    339,
                    250,
                    348,
                    221,
                    255,
                    100,
                    158,
                    91,
                    117,
                    107,
                    118,
                    66,
                    80,
                    76,
                    67,
                    106,
                    69,
                    79,
                    165,
                    89,
                    83,
                    98,
                    55,
                    86,
                    52,
                    104,
                    60,
                    56,
                    50,
                    100,
                    78,
                    159,
                    31,
                    105,
                    130,
                    96,
                    137,
                    94,
                    113,
                    119,
                    82,
                    105,
                    89,
                    39,
                    101,
                    65,
                    59,
                    61,
                    69,
                    92,
                    47,
                    79,
                    53,
                    48,
                    54,
                    183,
                    100,
                    135,
                    49,
                    67,
                    75,
                    76,
                    63,
                    58,
                    59,
                    155,
                    40,
                    79,
                    71,
                    47,
                    57,
                    51,
                    57,
                    76,
                    61,
                    63,
                    86,
                    92,
                    68,
                    96,
                    80,
                    88,
                    101,
                    73,
                    55,
                    73,
                    85,
                    88,
                    96,
                    142,
                    250,
                    97,
                    66,
                    67,
                    76,
                    96,
                    107,
                    91,
                    72,
                    90,
                    60,
                    73,
                    81,
                    74,
                    118,
                    81,
                    60,
                    89,
                    125,
                    96,
                    110,
                    76,
                    128,
                    103,
                    145,
                    84,
                    101,
                    147,
                    162,
                    77,
                    134,
                    102,
                    93,
                    165,
                    71,
                    167,
                    82,
                    77,
                    121,
                    112,
                    112,
                    69,
                    91,
                    105,
                    77,
                    99,
                    90,
                    138,
                    70,
                    165,
                    73,
                    132,
                    95,
                    105,
                    65,
                    77,
                    276,
                    47,
                    57,
                    178,
                    54,
                    105,
                    61,
                    76,
                    102,
                    82,
                    151,
                    235,
                    112,
                    64,
                    118,
                    72,
                    93,
                    105,
                    148,
                    127,
                    47,
                    98,
                    135,
                    73,
                    46,
                    143,
                    81,
                    138,
                    88,
                    55,
                    39,
                    97,
                    101,
                    110,
                    125,
                    87,
                    250,
                    92,
                    82,
                    92,
                    50,
                    61,
                    74,
                    71,
                    103,
                    73,
                    58,
                    47,
                    50,
                    71,
                    41,
                    38,
                    28,
                    26,
                    45,
                    124,
                    48,
                    23,
                    82,
                    42,
                    53,
                    79,
                    46,
                    96,
                    45,
                    53,
                    43,
                    75,
                    42,
                    46,
                    110,
                    93,
                    86,
                    71,
                    66,
                    109,
                    88,
                    118,
                    62,
                    91,
                    87,
                    62,
                    86,
                    73,
                    73,
                    48,
                    115,
                    70,
                    200,
                    58,
                    75,
                    110,
                    64,
                    76,
                    74,
                    54,
                    79,
                    141,
                    65,
                    92,
                    83,
                    69,
                    57,
                    117,
                    59,
                    55,
                    87,
                    76,
                    67,
                    161,
                    90,
                    72,
                    129,
                    93,
                    95,
                    84,
                    51,
                    66,
                    100,
                    136,
                    92,
                    47,
                    102,
                    39,
                    87,
                    63,
                    98,
                    61,
                    78,
                    97,
                    117,
                    107,
                    109,
                    157,
                    175,
                    102,
                    118,
                    139,
                    179,
                    199,
                    107,
                    71,
                    134,
                    81,
                    159,
                    150,
                    150,
                    217,
                    188,
                    184,
                    115,
                    173,
                    149,
                    114,
                    87,
                    219,
                    270,
                    274,
                    213,
                    168,
                    88,
                    118,
                    206,
                    122,
                    110,
                    195,
                    129,
                    144,
                    211,
                    172,
                    175,
                    199,
                    166,
                    255,
                    177,
                    246,
                    286,
                    366,
                    294,
                    208,
                    216,
                    287,
                    272,
                    247,
                    331,
                    337,
                    233,
                    253,
                    367,
                    392,
                    206,
                    320,
                    217,
                    270,
                    287,
                    282,
                    201,
                    279,
                    361,
                    284,
                    295,
                    271,
                    277,
                    236,
                    330,
                    311,
                    256,
                    138,
                    191,
                    264,
                    226,
                    119,
                    64,
                    90,
                    97,
                    141,
                    98,
                    152,
                    77,
                    121,
                    62,
                    112,
                    101,
                    73,
                    93,
                    51,
                    123,
                    70,
                    77,
                    87,
                    89,
                    114,
                    92,
                    28,
                    93,
                    94,
                    122,
                    110,
                    116,
                    97,
                    115,
                    74,
                    44,
                    138,
                    79,
                    68,
                    308,
                    318,
                    196,
                    205,
                    146,
                    171,
                    192,
                    172,
                    275,
                    201,
                    241,
                    181,
                    154,
                    275,
                    225,
                    273,
                    240,
                    205,
                    161,
                    467,
                    202,
                    194,
                    196,
                    215,
                    205,
                    122,
                    187,
                    154,
                    138,
                    182,
                    103,
                    235,
                    255,
                    222,
                    313,
                    47,
                    55,
                    84,
                    52,
                    60,
                    66,
                    79,
                    69,
                    60,
                    78,
                    82,
                    79,
                    115,
                    48,
                    56,
                    135,
                    43,
                    96,
                    66,
                    104,
                    60,
                    55,
                    90,
                    49,
                    90,
                    59,
                    52,
                    46,
                    72,
                    100,
                    79,
                    66,
                    115,
                    56,
                    59,
                    86,
                    99,
                    85,
                    97,
                    69,
                    94,
                    100,
                    79,
                    69,
                    90,
                    77,
                    174,
                    74,
                    65,
                    110,
                    58,
                    73,
                    90,
                    75,
                    114,
                    69,
                    67,
                    89,
                    109,
                    97,
                    93,
                    91,
                    60,
                    80,
                    59,
                    77,
                    79,
                    51,
                    85,
                    52,
                    76,
                    83,
                    140,
                    52,
                    51,
                    102,
                    68,
                    141,
                    106,
                    71,
                    64,
                    58,
                    56,
                    65,
                    98,
                    94,
                    91,
                    95,
                    149,
                    57,
                    58,
                    144,
                    61,
                    104,
                    74,
                    144,
                    52,
                    102,
                    67,
                    97,
                    73,
                    40,
                    74,
                    111,
                    69,
                    81,
                    46,
                    55,
                    83,
                    84,
                    135,
                    91,
                    68,
                    49,
                    86,
                    64,
                    101,
                    80,
                    44,
                    54,
                    103,
                    108,
                    57,
                    69,
                    77,
                    85,
                    82,
                    69,
                    76,
                    90,
                    34,
                    57,
                    82,
                    84,
                    64,
                    82,
                    61,
                    141,
                    82,
                    127,
                    119,
                    146,
                    114,
                    111,
                    40,
                    145,
                    166,
                    101,
                    86,
                    91,
                    118,
                    200,
                    163,
                    168,
                    131,
                    191,
                    108,
                    169,
                    234,
                    111,
                    319,
                    91,
                    174,
                    209,
                    91,
                    356,
                    152,
                    136,
                    187,
                    244,
                    250,
                    159,
                    128,
                    186,
                    173
                  ],
                  "xaxis": "x",
                  "yaxis": "y"
                }
              ],
              "layout": {
                "barmode": "relative",
                "legend": {
                  "tracegroupgap": 0
                },
                "template": {
                  "data": {
                    "bar": [
                      {
                        "error_x": {
                          "color": "#2a3f5f"
                        },
                        "error_y": {
                          "color": "#2a3f5f"
                        },
                        "marker": {
                          "line": {
                            "color": "#E5ECF6",
                            "width": 0.5
                          },
                          "pattern": {
                            "fillmode": "overlay",
                            "size": 10,
                            "solidity": 0.2
                          }
                        },
                        "type": "bar"
                      }
                    ],
                    "barpolar": [
                      {
                        "marker": {
                          "line": {
                            "color": "#E5ECF6",
                            "width": 0.5
                          },
                          "pattern": {
                            "fillmode": "overlay",
                            "size": 10,
                            "solidity": 0.2
                          }
                        },
                        "type": "barpolar"
                      }
                    ],
                    "carpet": [
                      {
                        "aaxis": {
                          "endlinecolor": "#2a3f5f",
                          "gridcolor": "white",
                          "linecolor": "white",
                          "minorgridcolor": "white",
                          "startlinecolor": "#2a3f5f"
                        },
                        "baxis": {
                          "endlinecolor": "#2a3f5f",
                          "gridcolor": "white",
                          "linecolor": "white",
                          "minorgridcolor": "white",
                          "startlinecolor": "#2a3f5f"
                        },
                        "type": "carpet"
                      }
                    ],
                    "choropleth": [
                      {
                        "colorbar": {
                          "outlinewidth": 0,
                          "ticks": ""
                        },
                        "type": "choropleth"
                      }
                    ],
                    "contour": [
                      {
                        "colorbar": {
                          "outlinewidth": 0,
                          "ticks": ""
                        },
                        "colorscale": [
                          [
                            0,
                            "#0d0887"
                          ],
                          [
                            0.1111111111111111,
                            "#46039f"
                          ],
                          [
                            0.2222222222222222,
                            "#7201a8"
                          ],
                          [
                            0.3333333333333333,
                            "#9c179e"
                          ],
                          [
                            0.4444444444444444,
                            "#bd3786"
                          ],
                          [
                            0.5555555555555556,
                            "#d8576b"
                          ],
                          [
                            0.6666666666666666,
                            "#ed7953"
                          ],
                          [
                            0.7777777777777778,
                            "#fb9f3a"
                          ],
                          [
                            0.8888888888888888,
                            "#fdca26"
                          ],
                          [
                            1,
                            "#f0f921"
                          ]
                        ],
                        "type": "contour"
                      }
                    ],
                    "contourcarpet": [
                      {
                        "colorbar": {
                          "outlinewidth": 0,
                          "ticks": ""
                        },
                        "type": "contourcarpet"
                      }
                    ],
                    "heatmap": [
                      {
                        "colorbar": {
                          "outlinewidth": 0,
                          "ticks": ""
                        },
                        "colorscale": [
                          [
                            0,
                            "#0d0887"
                          ],
                          [
                            0.1111111111111111,
                            "#46039f"
                          ],
                          [
                            0.2222222222222222,
                            "#7201a8"
                          ],
                          [
                            0.3333333333333333,
                            "#9c179e"
                          ],
                          [
                            0.4444444444444444,
                            "#bd3786"
                          ],
                          [
                            0.5555555555555556,
                            "#d8576b"
                          ],
                          [
                            0.6666666666666666,
                            "#ed7953"
                          ],
                          [
                            0.7777777777777778,
                            "#fb9f3a"
                          ],
                          [
                            0.8888888888888888,
                            "#fdca26"
                          ],
                          [
                            1,
                            "#f0f921"
                          ]
                        ],
                        "type": "heatmap"
                      }
                    ],
                    "heatmapgl": [
                      {
                        "colorbar": {
                          "outlinewidth": 0,
                          "ticks": ""
                        },
                        "colorscale": [
                          [
                            0,
                            "#0d0887"
                          ],
                          [
                            0.1111111111111111,
                            "#46039f"
                          ],
                          [
                            0.2222222222222222,
                            "#7201a8"
                          ],
                          [
                            0.3333333333333333,
                            "#9c179e"
                          ],
                          [
                            0.4444444444444444,
                            "#bd3786"
                          ],
                          [
                            0.5555555555555556,
                            "#d8576b"
                          ],
                          [
                            0.6666666666666666,
                            "#ed7953"
                          ],
                          [
                            0.7777777777777778,
                            "#fb9f3a"
                          ],
                          [
                            0.8888888888888888,
                            "#fdca26"
                          ],
                          [
                            1,
                            "#f0f921"
                          ]
                        ],
                        "type": "heatmapgl"
                      }
                    ],
                    "histogram": [
                      {
                        "marker": {
                          "pattern": {
                            "fillmode": "overlay",
                            "size": 10,
                            "solidity": 0.2
                          }
                        },
                        "type": "histogram"
                      }
                    ],
                    "histogram2d": [
                      {
                        "colorbar": {
                          "outlinewidth": 0,
                          "ticks": ""
                        },
                        "colorscale": [
                          [
                            0,
                            "#0d0887"
                          ],
                          [
                            0.1111111111111111,
                            "#46039f"
                          ],
                          [
                            0.2222222222222222,
                            "#7201a8"
                          ],
                          [
                            0.3333333333333333,
                            "#9c179e"
                          ],
                          [
                            0.4444444444444444,
                            "#bd3786"
                          ],
                          [
                            0.5555555555555556,
                            "#d8576b"
                          ],
                          [
                            0.6666666666666666,
                            "#ed7953"
                          ],
                          [
                            0.7777777777777778,
                            "#fb9f3a"
                          ],
                          [
                            0.8888888888888888,
                            "#fdca26"
                          ],
                          [
                            1,
                            "#f0f921"
                          ]
                        ],
                        "type": "histogram2d"
                      }
                    ],
                    "histogram2dcontour": [
                      {
                        "colorbar": {
                          "outlinewidth": 0,
                          "ticks": ""
                        },
                        "colorscale": [
                          [
                            0,
                            "#0d0887"
                          ],
                          [
                            0.1111111111111111,
                            "#46039f"
                          ],
                          [
                            0.2222222222222222,
                            "#7201a8"
                          ],
                          [
                            0.3333333333333333,
                            "#9c179e"
                          ],
                          [
                            0.4444444444444444,
                            "#bd3786"
                          ],
                          [
                            0.5555555555555556,
                            "#d8576b"
                          ],
                          [
                            0.6666666666666666,
                            "#ed7953"
                          ],
                          [
                            0.7777777777777778,
                            "#fb9f3a"
                          ],
                          [
                            0.8888888888888888,
                            "#fdca26"
                          ],
                          [
                            1,
                            "#f0f921"
                          ]
                        ],
                        "type": "histogram2dcontour"
                      }
                    ],
                    "mesh3d": [
                      {
                        "colorbar": {
                          "outlinewidth": 0,
                          "ticks": ""
                        },
                        "type": "mesh3d"
                      }
                    ],
                    "parcoords": [
                      {
                        "line": {
                          "colorbar": {
                            "outlinewidth": 0,
                            "ticks": ""
                          }
                        },
                        "type": "parcoords"
                      }
                    ],
                    "pie": [
                      {
                        "automargin": true,
                        "type": "pie"
                      }
                    ],
                    "scatter": [
                      {
                        "fillpattern": {
                          "fillmode": "overlay",
                          "size": 10,
                          "solidity": 0.2
                        },
                        "type": "scatter"
                      }
                    ],
                    "scatter3d": [
                      {
                        "line": {
                          "colorbar": {
                            "outlinewidth": 0,
                            "ticks": ""
                          }
                        },
                        "marker": {
                          "colorbar": {
                            "outlinewidth": 0,
                            "ticks": ""
                          }
                        },
                        "type": "scatter3d"
                      }
                    ],
                    "scattercarpet": [
                      {
                        "marker": {
                          "colorbar": {
                            "outlinewidth": 0,
                            "ticks": ""
                          }
                        },
                        "type": "scattercarpet"
                      }
                    ],
                    "scattergeo": [
                      {
                        "marker": {
                          "colorbar": {
                            "outlinewidth": 0,
                            "ticks": ""
                          }
                        },
                        "type": "scattergeo"
                      }
                    ],
                    "scattergl": [
                      {
                        "marker": {
                          "colorbar": {
                            "outlinewidth": 0,
                            "ticks": ""
                          }
                        },
                        "type": "scattergl"
                      }
                    ],
                    "scattermapbox": [
                      {
                        "marker": {
                          "colorbar": {
                            "outlinewidth": 0,
                            "ticks": ""
                          }
                        },
                        "type": "scattermapbox"
                      }
                    ],
                    "scatterpolar": [
                      {
                        "marker": {
                          "colorbar": {
                            "outlinewidth": 0,
                            "ticks": ""
                          }
                        },
                        "type": "scatterpolar"
                      }
                    ],
                    "scatterpolargl": [
                      {
                        "marker": {
                          "colorbar": {
                            "outlinewidth": 0,
                            "ticks": ""
                          }
                        },
                        "type": "scatterpolargl"
                      }
                    ],
                    "scatterternary": [
                      {
                        "marker": {
                          "colorbar": {
                            "outlinewidth": 0,
                            "ticks": ""
                          }
                        },
                        "type": "scatterternary"
                      }
                    ],
                    "surface": [
                      {
                        "colorbar": {
                          "outlinewidth": 0,
                          "ticks": ""
                        },
                        "colorscale": [
                          [
                            0,
                            "#0d0887"
                          ],
                          [
                            0.1111111111111111,
                            "#46039f"
                          ],
                          [
                            0.2222222222222222,
                            "#7201a8"
                          ],
                          [
                            0.3333333333333333,
                            "#9c179e"
                          ],
                          [
                            0.4444444444444444,
                            "#bd3786"
                          ],
                          [
                            0.5555555555555556,
                            "#d8576b"
                          ],
                          [
                            0.6666666666666666,
                            "#ed7953"
                          ],
                          [
                            0.7777777777777778,
                            "#fb9f3a"
                          ],
                          [
                            0.8888888888888888,
                            "#fdca26"
                          ],
                          [
                            1,
                            "#f0f921"
                          ]
                        ],
                        "type": "surface"
                      }
                    ],
                    "table": [
                      {
                        "cells": {
                          "fill": {
                            "color": "#EBF0F8"
                          },
                          "line": {
                            "color": "white"
                          }
                        },
                        "header": {
                          "fill": {
                            "color": "#C8D4E3"
                          },
                          "line": {
                            "color": "white"
                          }
                        },
                        "type": "table"
                      }
                    ]
                  },
                  "layout": {
                    "annotationdefaults": {
                      "arrowcolor": "#2a3f5f",
                      "arrowhead": 0,
                      "arrowwidth": 1
                    },
                    "autotypenumbers": "strict",
                    "coloraxis": {
                      "colorbar": {
                        "outlinewidth": 0,
                        "ticks": ""
                      }
                    },
                    "colorscale": {
                      "diverging": [
                        [
                          0,
                          "#8e0152"
                        ],
                        [
                          0.1,
                          "#c51b7d"
                        ],
                        [
                          0.2,
                          "#de77ae"
                        ],
                        [
                          0.3,
                          "#f1b6da"
                        ],
                        [
                          0.4,
                          "#fde0ef"
                        ],
                        [
                          0.5,
                          "#f7f7f7"
                        ],
                        [
                          0.6,
                          "#e6f5d0"
                        ],
                        [
                          0.7,
                          "#b8e186"
                        ],
                        [
                          0.8,
                          "#7fbc41"
                        ],
                        [
                          0.9,
                          "#4d9221"
                        ],
                        [
                          1,
                          "#276419"
                        ]
                      ],
                      "sequential": [
                        [
                          0,
                          "#0d0887"
                        ],
                        [
                          0.1111111111111111,
                          "#46039f"
                        ],
                        [
                          0.2222222222222222,
                          "#7201a8"
                        ],
                        [
                          0.3333333333333333,
                          "#9c179e"
                        ],
                        [
                          0.4444444444444444,
                          "#bd3786"
                        ],
                        [
                          0.5555555555555556,
                          "#d8576b"
                        ],
                        [
                          0.6666666666666666,
                          "#ed7953"
                        ],
                        [
                          0.7777777777777778,
                          "#fb9f3a"
                        ],
                        [
                          0.8888888888888888,
                          "#fdca26"
                        ],
                        [
                          1,
                          "#f0f921"
                        ]
                      ],
                      "sequentialminus": [
                        [
                          0,
                          "#0d0887"
                        ],
                        [
                          0.1111111111111111,
                          "#46039f"
                        ],
                        [
                          0.2222222222222222,
                          "#7201a8"
                        ],
                        [
                          0.3333333333333333,
                          "#9c179e"
                        ],
                        [
                          0.4444444444444444,
                          "#bd3786"
                        ],
                        [
                          0.5555555555555556,
                          "#d8576b"
                        ],
                        [
                          0.6666666666666666,
                          "#ed7953"
                        ],
                        [
                          0.7777777777777778,
                          "#fb9f3a"
                        ],
                        [
                          0.8888888888888888,
                          "#fdca26"
                        ],
                        [
                          1,
                          "#f0f921"
                        ]
                      ]
                    },
                    "colorway": [
                      "#636efa",
                      "#EF553B",
                      "#00cc96",
                      "#ab63fa",
                      "#FFA15A",
                      "#19d3f3",
                      "#FF6692",
                      "#B6E880",
                      "#FF97FF",
                      "#FECB52"
                    ],
                    "font": {
                      "color": "#2a3f5f"
                    },
                    "geo": {
                      "bgcolor": "white",
                      "lakecolor": "white",
                      "landcolor": "#E5ECF6",
                      "showlakes": true,
                      "showland": true,
                      "subunitcolor": "white"
                    },
                    "hoverlabel": {
                      "align": "left"
                    },
                    "hovermode": "closest",
                    "mapbox": {
                      "style": "light"
                    },
                    "paper_bgcolor": "white",
                    "plot_bgcolor": "#E5ECF6",
                    "polar": {
                      "angularaxis": {
                        "gridcolor": "white",
                        "linecolor": "white",
                        "ticks": ""
                      },
                      "bgcolor": "#E5ECF6",
                      "radialaxis": {
                        "gridcolor": "white",
                        "linecolor": "white",
                        "ticks": ""
                      }
                    },
                    "scene": {
                      "xaxis": {
                        "backgroundcolor": "#E5ECF6",
                        "gridcolor": "white",
                        "gridwidth": 2,
                        "linecolor": "white",
                        "showbackground": true,
                        "ticks": "",
                        "zerolinecolor": "white"
                      },
                      "yaxis": {
                        "backgroundcolor": "#E5ECF6",
                        "gridcolor": "white",
                        "gridwidth": 2,
                        "linecolor": "white",
                        "showbackground": true,
                        "ticks": "",
                        "zerolinecolor": "white"
                      },
                      "zaxis": {
                        "backgroundcolor": "#E5ECF6",
                        "gridcolor": "white",
                        "gridwidth": 2,
                        "linecolor": "white",
                        "showbackground": true,
                        "ticks": "",
                        "zerolinecolor": "white"
                      }
                    },
                    "shapedefaults": {
                      "line": {
                        "color": "#2a3f5f"
                      }
                    },
                    "ternary": {
                      "aaxis": {
                        "gridcolor": "white",
                        "linecolor": "white",
                        "ticks": ""
                      },
                      "baxis": {
                        "gridcolor": "white",
                        "linecolor": "white",
                        "ticks": ""
                      },
                      "bgcolor": "#E5ECF6",
                      "caxis": {
                        "gridcolor": "white",
                        "linecolor": "white",
                        "ticks": ""
                      }
                    },
                    "title": {
                      "x": 0.05
                    },
                    "xaxis": {
                      "automargin": true,
                      "gridcolor": "white",
                      "linecolor": "white",
                      "ticks": "",
                      "title": {
                        "standoff": 15
                      },
                      "zerolinecolor": "white",
                      "zerolinewidth": 2
                    },
                    "yaxis": {
                      "automargin": true,
                      "gridcolor": "white",
                      "linecolor": "white",
                      "ticks": "",
                      "title": {
                        "standoff": 15
                      },
                      "zerolinecolor": "white",
                      "zerolinewidth": 2
                    }
                  }
                },
                "title": {
                  "text": "Words per song"
                },
                "xaxis": {
                  "anchor": "y",
                  "domain": [
                    0,
                    1
                  ],
                  "title": {
                    "text": "n_words"
                  }
                },
                "yaxis": {
                  "anchor": "x",
                  "domain": [
                    0,
                    1
                  ],
                  "title": {
                    "text": "count"
                  }
                }
              }
            }
          },
          "metadata": {},
          "output_type": "display_data"
        }
      ],
      "source": [
        "# distribution words per song\n",
        "fig = px.histogram(song_df, x='n_words', title='Words per song')\n",
        "fig.show()"
      ]
    },
    {
      "cell_type": "markdown",
      "metadata": {},
      "source": [
        "Beware! This block can be run only once."
      ]
    },
    {
      "cell_type": "code",
      "execution_count": 17,
      "metadata": {},
      "outputs": [],
      "source": [
        "# add a column of 'words_str'\n",
        "song_df['words_str'] = song_df['words'].map(lambda lst: ' '.join(lst))"
      ]
    },
    {
      "cell_type": "code",
      "execution_count": 18,
      "metadata": {},
      "outputs": [
        {
          "data": {
            "text/html": [
              "<div>\n",
              "<style scoped>\n",
              "    .dataframe tbody tr th:only-of-type {\n",
              "        vertical-align: middle;\n",
              "    }\n",
              "\n",
              "    .dataframe tbody tr th {\n",
              "        vertical-align: top;\n",
              "    }\n",
              "\n",
              "    .dataframe thead th {\n",
              "        text-align: right;\n",
              "    }\n",
              "</style>\n",
              "<table border=\"1\" class=\"dataframe\">\n",
              "  <thead>\n",
              "    <tr style=\"text-align: right;\">\n",
              "      <th></th>\n",
              "      <th>artist</th>\n",
              "      <th>song_name</th>\n",
              "      <th>href</th>\n",
              "      <th>lyrics</th>\n",
              "      <th>lines</th>\n",
              "      <th>words</th>\n",
              "      <th>n_words</th>\n",
              "      <th>words_str</th>\n",
              "    </tr>\n",
              "  </thead>\n",
              "  <tbody>\n",
              "    <tr>\n",
              "      <th>0</th>\n",
              "      <td>bird_thongchai</td>\n",
              "      <td>Okay</td>\n",
              "      <td>/music/thailyric/13588</td>\n",
              "      <td>ไม่ว่าจะเป็นยังไง Baby its Okay\\rไม่ว่าจะเกิดอ...</td>\n",
              "      <td>0</td>\n",
              "      <td>[babi, okay, ill, miss, day, กลับมา, come, bac...</td>\n",
              "      <td>174</td>\n",
              "      <td>babi okay ill miss day กลับมา come back babyil...</td>\n",
              "    </tr>\n",
              "    <tr>\n",
              "      <th>1</th>\n",
              "      <td>bird_thongchai</td>\n",
              "      <td>กว่าจักรวาล</td>\n",
              "      <td>/music/thailyric/13978</td>\n",
              "      <td>จะยอมนั่งจรวด ไปตรวจดาวอังคาร\\rหากว่าที่แห่งนั...</td>\n",
              "      <td>0</td>\n",
              "      <td>[นั่ง, จรวด, ตรวจ, ดาวอังคาร, ว่าที่, ทิ้ง, ดา...</td>\n",
              "      <td>56</td>\n",
              "      <td>นั่ง จรวด ตรวจ ดาวอังคาร ว่าที่ ทิ้ง ดาว ขอบ จ...</td>\n",
              "    </tr>\n",
              "    <tr>\n",
              "      <th>2</th>\n",
              "      <td>bird_thongchai</td>\n",
              "      <td>กำแพง</td>\n",
              "      <td>/music/thailyric/14111</td>\n",
              "      <td>ถ้าเคยพบเจอ กำแพงที่ดูทั้งใหญ่และสูงชัน\\rเธอรู...</td>\n",
              "      <td>0</td>\n",
              "      <td>[เจอ, กำแพง, ดู, สูงชัน, รู้, คน, สร้าง, หลบ, ...</td>\n",
              "      <td>117</td>\n",
              "      <td>เจอ กำแพง ดู สูงชัน รู้ คน สร้าง หลบ ใจ พัก ท้...</td>\n",
              "    </tr>\n",
              "    <tr>\n",
              "      <th>3</th>\n",
              "      <td>bird_thongchai</td>\n",
              "      <td>ชีวิตเดี่ยว</td>\n",
              "      <td>/music/thailyric/13796</td>\n",
              "      <td>อยู่ตรงนี้แค่เพียงลำพัง\\rกับความเหงาที่เป็นดั่...</td>\n",
              "      <td>0</td>\n",
              "      <td>[ตรงนี้, เพียงลำพัง, ความเหงา, เงา, แต่ยังไง, ...</td>\n",
              "      <td>115</td>\n",
              "      <td>ตรงนี้ เพียงลำพัง ความเหงา เงา แต่ยังไง ชิน สั...</td>\n",
              "    </tr>\n",
              "    <tr>\n",
              "      <th>4</th>\n",
              "      <td>bird_thongchai</td>\n",
              "      <td>ผู้ต้องหา</td>\n",
              "      <td>/music/thailyric/13825</td>\n",
              "      <td>แค่ตัวคนเดียวไม่ตายล่ะมั้ง\\rถามใจกี่ครั้งก็ยัง...</td>\n",
              "      <td>0</td>\n",
              "      <td>[ตัว, คนเดียว, ตาย, ล่ะ, มั้ง, ถาม, ใจ, กี่, ร...</td>\n",
              "      <td>153</td>\n",
              "      <td>ตัว คนเดียว ตาย ล่ะ มั้ง ถาม ใจ กี่ รีบ คน รู้...</td>\n",
              "    </tr>\n",
              "  </tbody>\n",
              "</table>\n",
              "</div>"
            ],
            "text/plain": [
              "           artist    song_name                    href  \\\n",
              "0  bird_thongchai         Okay  /music/thailyric/13588   \n",
              "1  bird_thongchai  กว่าจักรวาล  /music/thailyric/13978   \n",
              "2  bird_thongchai        กำแพง  /music/thailyric/14111   \n",
              "3  bird_thongchai  ชีวิตเดี่ยว  /music/thailyric/13796   \n",
              "4  bird_thongchai    ผู้ต้องหา  /music/thailyric/13825   \n",
              "\n",
              "                                              lyrics  lines  \\\n",
              "0  ไม่ว่าจะเป็นยังไง Baby its Okay\\rไม่ว่าจะเกิดอ...      0   \n",
              "1  จะยอมนั่งจรวด ไปตรวจดาวอังคาร\\rหากว่าที่แห่งนั...      0   \n",
              "2  ถ้าเคยพบเจอ กำแพงที่ดูทั้งใหญ่และสูงชัน\\rเธอรู...      0   \n",
              "3  อยู่ตรงนี้แค่เพียงลำพัง\\rกับความเหงาที่เป็นดั่...      0   \n",
              "4  แค่ตัวคนเดียวไม่ตายล่ะมั้ง\\rถามใจกี่ครั้งก็ยัง...      0   \n",
              "\n",
              "                                               words  n_words  \\\n",
              "0  [babi, okay, ill, miss, day, กลับมา, come, bac...      174   \n",
              "1  [นั่ง, จรวด, ตรวจ, ดาวอังคาร, ว่าที่, ทิ้ง, ดา...       56   \n",
              "2  [เจอ, กำแพง, ดู, สูงชัน, รู้, คน, สร้าง, หลบ, ...      117   \n",
              "3  [ตรงนี้, เพียงลำพัง, ความเหงา, เงา, แต่ยังไง, ...      115   \n",
              "4  [ตัว, คนเดียว, ตาย, ล่ะ, มั้ง, ถาม, ใจ, กี่, ร...      153   \n",
              "\n",
              "                                           words_str  \n",
              "0  babi okay ill miss day กลับมา come back babyil...  \n",
              "1  นั่ง จรวด ตรวจ ดาวอังคาร ว่าที่ ทิ้ง ดาว ขอบ จ...  \n",
              "2  เจอ กำแพง ดู สูงชัน รู้ คน สร้าง หลบ ใจ พัก ท้...  \n",
              "3  ตรงนี้ เพียงลำพัง ความเหงา เงา แต่ยังไง ชิน สั...  \n",
              "4  ตัว คนเดียว ตาย ล่ะ มั้ง ถาม ใจ กี่ รีบ คน รู้...  "
            ]
          },
          "execution_count": 18,
          "metadata": {},
          "output_type": "execute_result"
        }
      ],
      "source": [
        "song_df.head()"
      ]
    },
    {
      "cell_type": "markdown",
      "metadata": {},
      "source": [
        "## Export the clean data"
      ]
    },
    {
      "cell_type": "code",
      "execution_count": 19,
      "metadata": {},
      "outputs": [],
      "source": [
        "song_df.to_pickle(os.path.join(cfg.DATA.BASE_PATH, \"clean_th_songs_newlog.pkl\"))"
      ]
    }
  ],
  "metadata": {
    "interpreter": {
      "hash": "74b61129dc21a09fdc11cbb8ab8ed7bd59468d4ab432d84f730f945183c44b80"
    },
    "kernelspec": {
      "display_name": "Python 3.8.13 ('torch38')",
      "language": "python",
      "name": "python3"
    },
    "language_info": {
      "codemirror_mode": {
        "name": "ipython",
        "version": 3
      },
      "file_extension": ".py",
      "mimetype": "text/x-python",
      "name": "python",
      "nbconvert_exporter": "python",
      "pygments_lexer": "ipython3",
      "version": "3.8.13"
    }
  },
  "nbformat": 4,
  "nbformat_minor": 2
}
