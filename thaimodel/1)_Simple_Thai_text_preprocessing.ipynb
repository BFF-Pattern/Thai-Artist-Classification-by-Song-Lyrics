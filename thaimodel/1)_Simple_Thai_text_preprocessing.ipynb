{
 "cells": [
  {
   "cell_type": "markdown",
   "metadata": {
    "id": "mIWbiNOsy4cj"
   },
   "source": [
    "# ข้อมูลตัวอย่าง"
   ]
  },
  {
   "cell_type": "code",
   "execution_count": 13,
   "metadata": {
    "id": "HiHhGmN_yw-E"
   },
   "outputs": [],
   "source": [
    "text_list = ['''เฟ็ดเฟ่อย่างกับเดอะค็อป 999 (คลิป) <br> #ข่าวสด #เด่นออนไลน์ <br>รีบดูก่อนโดนลบ! เฟ็ดเฟ่สร้างความฮึกเฮิม นั่งหลังคารถชูถ้วยจุดพลุ มั่นใจมาแน่นอน \n",
    "            <br>บิวด์กันเข้าไป ก่อนเกมการแข่งขัน ยูฟ่าแชมเปียนส์ลีก รอบ … <br><img src='https://xxx'>''',\n",
    "             \n",
    "            '''แอดขอให้คุณผู้อ่านใช้วิจารณญาณและดุลยพินิจในการอ่าน คำพูดที่สอบถามคุณยายเป็นเพียงความข้างเดียวที่ออกมาจากใจและปากของคุณยาย ยังไม่มีโอกาสไปสอบถามความ\n",
    "            อีกมุมจากตัวลูกชายคนเล็ก #แม่เฒ่าถูกไล่ #แม่เฒ่าขาพิการ #พาหลานชายพิการนอนข้างทาง <br>'อย่าว่าเขาๆคงมีเหตุผล' 'ยาย'ถูก'ลูก'ไล่-ขอร้องแม้ปวดใจ <br>\n",
    "            ประชาชนที่รู้ข่าวต่างนำอาหารกับน้ำดื่ม ไปให้ 2 ยายหลานผู้พิการได้ดื่มกิน หลังถูกลูกชายไล่จนต้องนอนศาลาร.... <br><img src='https://xxx'>''']"
   ]
  },
  {
   "cell_type": "markdown",
   "metadata": {
    "id": "uNJnNAUE9UOe"
   },
   "source": [
    "**Step 1: Text cleaning**"
   ]
  },
  {
   "cell_type": "code",
   "execution_count": 14,
   "metadata": {
    "id": "7DLBXasQ2KW7"
   },
   "outputs": [],
   "source": [
    "import re\n",
    "import string\n",
    "\n",
    "def clean_msg(msg):\n",
    "    \n",
    "    \n",
    "    # ลบ text ที่อยู่ในวงเล็บ <> ทั้งหมด\n",
    "    msg = re.sub(r'<.*?>','', msg)\n",
    "    \n",
    "    # ลบ hashtag\n",
    "    msg = re.sub(r'#','',msg)\n",
    "    \n",
    "    # ลบ เครื่องหมายคำพูด (punctuation)\n",
    "    for c in string.punctuation:\n",
    "        msg = re.sub(r'\\{}'.format(c),'',msg)\n",
    "    \n",
    "    # ลบ separator เช่น \\n \\t\n",
    "    msg = ' '.join(msg.split())\n",
    "    \n",
    "    return msg"
   ]
  },
  {
   "cell_type": "code",
   "execution_count": 15,
   "metadata": {
    "colab": {
     "base_uri": "https://localhost:8080/",
     "height": 122
    },
    "id": "cAqZE1H92fLY",
    "outputId": "6c722dc3-48c1-4993-e18d-d7291469071e"
   },
   "outputs": [
    {
     "name": "stdout",
     "output_type": "stream",
     "text": [
      "original text:\n",
      " เฟ็ดเฟ่อย่างกับเดอะค็อป 999 (คลิป) <br> #ข่าวสด #เด่นออนไลน์ <br>รีบดูก่อนโดนลบ! เฟ็ดเฟ่สร้างความฮึกเฮิม นั่งหลังคารถชูถ้วยจุดพลุ มั่นใจมาแน่นอน \n",
      "            <br>บิวด์กันเข้าไป ก่อนเกมการแข่งขัน ยูฟ่าแชมเปียนส์ลีก รอบ … <br><img src='https://xxx'>\n",
      "clean text:\n",
      " เฟ็ดเฟ่อย่างกับเดอะค็อป 999 คลิป ข่าวสด เด่นออนไลน์ รีบดูก่อนโดนลบ เฟ็ดเฟ่สร้างความฮึกเฮิม นั่งหลังคารถชูถ้วยจุดพลุ มั่นใจมาแน่นอน บิวด์กันเข้าไป ก่อนเกมการแข่งขัน ยูฟ่าแชมเปียนส์ลีก รอบ …\n"
     ]
    }
   ],
   "source": [
    "print('original text:\\n',text_list[0])\n",
    "print('clean text:\\n',clean_msg(text_list[0]))"
   ]
  },
  {
   "cell_type": "code",
   "execution_count": 16,
   "metadata": {
    "colab": {
     "base_uri": "https://localhost:8080/",
     "height": 139
    },
    "id": "TXzjQ3fj2iWY",
    "outputId": "a5dd32e1-1089-4d42-83ef-45c28a060e82"
   },
   "outputs": [
    {
     "name": "stdout",
     "output_type": "stream",
     "text": [
      "original text:\n",
      " แอดขอให้คุณผู้อ่านใช้วิจารณญาณและดุลยพินิจในการอ่าน คำพูดที่สอบถามคุณยายเป็นเพียงความข้างเดียวที่ออกมาจากใจและปากของคุณยาย ยังไม่มีโอกาสไปสอบถามความ\n",
      "            อีกมุมจากตัวลูกชายคนเล็ก #แม่เฒ่าถูกไล่ #แม่เฒ่าขาพิการ #พาหลานชายพิการนอนข้างทาง <br>'อย่าว่าเขาๆคงมีเหตุผล' 'ยาย'ถูก'ลูก'ไล่-ขอร้องแม้ปวดใจ <br>\n",
      "            ประชาชนที่รู้ข่าวต่างนำอาหารกับน้ำดื่ม ไปให้ 2 ยายหลานผู้พิการได้ดื่มกิน หลังถูกลูกชายไล่จนต้องนอนศาลาร.... <br><img src='https://xxx'>\n",
      "clean text:\n",
      " แอดขอให้คุณผู้อ่านใช้วิจารณญาณและดุลยพินิจในการอ่าน คำพูดที่สอบถามคุณยายเป็นเพียงความข้างเดียวที่ออกมาจากใจและปากของคุณยาย ยังไม่มีโอกาสไปสอบถามความ อีกมุมจากตัวลูกชายคนเล็ก แม่เฒ่าถูกไล่ แม่เฒ่าขาพิการ พาหลานชายพิการนอนข้างทาง อย่าว่าเขาๆคงมีเหตุผล ยายถูกลูกไล่ขอร้องแม้ปวดใจ ประชาชนที่รู้ข่าวต่างนำอาหารกับน้ำดื่ม ไปให้ 2 ยายหลานผู้พิการได้ดื่มกิน หลังถูกลูกชายไล่จนต้องนอนศาลาร\n"
     ]
    }
   ],
   "source": [
    "print('original text:\\n',text_list[1])\n",
    "print('clean text:\\n',clean_msg(text_list[1]))"
   ]
  },
  {
   "cell_type": "code",
   "execution_count": 17,
   "metadata": {
    "id": "XM4tAaU2Gxf-"
   },
   "outputs": [],
   "source": [
    "clean_text = [clean_msg(txt) for txt in text_list]"
   ]
  },
  {
   "cell_type": "markdown",
   "metadata": {
    "id": "HMsJiL3-_4p5"
   },
   "source": [
    "**Step 2: Tokenize**"
   ]
  },
  {
   "cell_type": "code",
   "execution_count": 8,
   "metadata": {
    "colab": {
     "base_uri": "https://localhost:8080/",
     "height": 700
    },
    "id": "nd_Ssn4S_cLf",
    "outputId": "a5fa2bd8-49cd-4c28-8f9f-03a37b528ebf"
   },
   "outputs": [],
   "source": [
    "import pythainlp\n",
    "from pythainlp import word_tokenize\n",
    "from pythainlp.corpus.common import thai_stopwords as stopwords\n",
    "from pythainlp.corpus import wordnet\n",
    "from nltk.stem.porter import PorterStemmer\n",
    "from nltk.corpus import words\n",
    "from stop_words import get_stop_words"
   ]
  },
  {
   "cell_type": "code",
   "execution_count": 9,
   "metadata": {
    "colab": {
     "base_uri": "https://localhost:8080/",
     "height": 51
    },
    "id": "8t8BnELxAiAo",
    "outputId": "bafb6d37-b6d0-41c2-a9c1-6aa625cb0712"
   },
   "outputs": [
    {
     "name": "stderr",
     "output_type": "stream",
     "text": [
      "[nltk_data] Downloading package words to\n",
      "[nltk_data]     C:\\Users\\pemza\\AppData\\Roaming\\nltk_data...\n",
      "[nltk_data]   Package words is already up-to-date!\n"
     ]
    }
   ],
   "source": [
    "import nltk\n",
    "nltk.download('words')\n",
    "th_stop = tuple(stopwords())\n",
    "en_stop = tuple(get_stop_words('en'))\n",
    "p_stemmer = PorterStemmer()"
   ]
  },
  {
   "cell_type": "code",
   "execution_count": 10,
   "metadata": {
    "id": "L0PE6j5gAk2O"
   },
   "outputs": [],
   "source": [
    "def split_word(text):\n",
    "            \n",
    "    \n",
    "    tokens = word_tokenize(text,engine='newmm')\n",
    "    \n",
    "    # Remove stop words ภาษาไทย และภาษาอังกฤษ\n",
    "    tokens = [i for i in tokens if not i in th_stop and not i in en_stop]\n",
    "    \n",
    "    # หารากศัพท์ภาษาไทย และภาษาอังกฤษ\n",
    "    # English\n",
    "    tokens = [p_stemmer.stem(i) for i in tokens]\n",
    "    \n",
    "    # Thai\n",
    "    tokens_temp=[]\n",
    "    for i in tokens:\n",
    "        w_syn = wordnet.synsets(i)\n",
    "        if (len(w_syn)>0) and (len(w_syn[0].lemma_names('tha'))>0):\n",
    "            tokens_temp.append(w_syn[0].lemma_names('tha')[0])\n",
    "        else:\n",
    "            tokens_temp.append(i)\n",
    "    \n",
    "    tokens = tokens_temp\n",
    "    \n",
    "    # ลบตัวเลข\n",
    "    tokens = [i for i in tokens if not i.isnumeric()]\n",
    "    \n",
    "    # ลบช่องว่าง\n",
    "    tokens = [i for i in tokens if not ' ' in i]\n",
    "\n",
    "    return tokens"
   ]
  },
  {
   "cell_type": "code",
   "execution_count": 11,
   "metadata": {
    "colab": {
     "base_uri": "https://localhost:8080/",
     "height": 105
    },
    "id": "Ncd6qBzeCtDD",
    "outputId": "fe6ec4cc-9ccd-4196-fcff-d2ac7891d326"
   },
   "outputs": [
    {
     "name": "stdout",
     "output_type": "stream",
     "text": [
      "tokenized text:\n",
      " ['เฟ็ด', 'เฟ่', 'เดอะ', 'ค็อป', 'คลิป', 'ข่าวสด', 'เด่น', 'ออนไลน์', 'รีบ', 'ดูก่อน', 'โดน', 'ลบ', 'เฟ็ด', 'เฟ่', 'สร้าง', 'ฮึก', 'เฮิม', 'นั่ง', 'หลังคา', 'รถ', 'ชู', 'ถ้วย', 'จุด', 'พลุ', 'มั่น', 'ใจมา', 'แน่นอน', 'บิ', 'วด์', 'เข้าไป', 'เกม', 'การแข่งขัน', 'ยูฟ่า', 'แชมเปียนส์', 'ลีก', 'รอบ', '…']\n",
      "tokenized text:\n",
      " ['แอด', 'ขอให้', 'คนอ่าน', 'วิจารณญาณ', 'ดุลยพินิจ', 'อ่าน', 'คำพูด', 'สอบถาม', 'ยาย', 'ข้างเดียว', 'มาจาก', 'ใจ', 'ปาก', 'ยาย', 'มีโอกาส', 'สอบถาม', 'มุม', 'ตัว', 'โอรส', 'คน', 'ยาย', 'ไล่', 'ยาย', 'ขา', 'พิการ', 'หลานชาย', 'พิการ', 'นอน', 'ข้างทาง', 'อย่า', 'ๆคง', 'มีเหตุผล', 'ยาย', 'ลูกไล่', 'ขอร้อง', 'ปวดใจ', 'ปชช.', 'รู้', 'ข่าว', 'อาหาร', 'น้ำ', 'ยาย', 'หลาน', 'พิการ', 'กิน', 'กิน', 'โอรส', 'ไล่', 'นอน', 'ศาลา', 'ร']\n"
     ]
    }
   ],
   "source": [
    "print('tokenized text:\\n',split_word(clean_msg(text_list[0])))\n",
    "print('tokenized text:\\n',split_word(clean_msg(text_list[1])))"
   ]
  },
  {
   "cell_type": "code",
   "execution_count": 31,
   "metadata": {
    "id": "_E6wussDHCkm"
   },
   "outputs": [],
   "source": [
    "tokens_list = [split_word(txt) for txt in clean_text]"
   ]
  },
  {
   "cell_type": "code",
   "execution_count": 32,
   "metadata": {
    "colab": {
     "base_uri": "https://localhost:8080/",
     "height": 1513
    },
    "id": "0FXgJH4JHPYg",
    "outputId": "d0a593a8-5dd0-4513-a9f2-e6c037bd204b"
   },
   "outputs": [
    {
     "data": {
      "text/plain": [
       "[['เฟ็ด',\n",
       "  'เฟ่',\n",
       "  'เดอะ',\n",
       "  'ค็อป',\n",
       "  'คลิป',\n",
       "  'ข่าวสด',\n",
       "  'เด่น',\n",
       "  'ออนไลน์',\n",
       "  'รีบ',\n",
       "  'ดูก่อน',\n",
       "  'โดน',\n",
       "  'ลบ',\n",
       "  'เฟ็ด',\n",
       "  'เฟ่',\n",
       "  'สร้าง',\n",
       "  'ฮึก',\n",
       "  'เฮิม',\n",
       "  'นั่ง',\n",
       "  'หลังคา',\n",
       "  'รถ',\n",
       "  'ชู',\n",
       "  'ถ้วย',\n",
       "  'จุด',\n",
       "  'พลุ',\n",
       "  'มั่น',\n",
       "  'ใจมา',\n",
       "  'แน่นอน',\n",
       "  'บิ',\n",
       "  'วด์',\n",
       "  'เข้าไป',\n",
       "  'เกม',\n",
       "  'การแข่งขัน',\n",
       "  'ยูฟ่า',\n",
       "  'แชมเปียนส์',\n",
       "  'ลีก',\n",
       "  'รอบ',\n",
       "  '…'],\n",
       " ['แอด',\n",
       "  'ขอให้',\n",
       "  'คนอ่าน',\n",
       "  'วิจารณญาณ',\n",
       "  'ดุลยพินิจ',\n",
       "  'อ่าน',\n",
       "  'คำพูด',\n",
       "  'สอบถาม',\n",
       "  'ยาย',\n",
       "  'ข้างเดียว',\n",
       "  'มาจาก',\n",
       "  'ใจ',\n",
       "  'ปาก',\n",
       "  'ยาย',\n",
       "  'มีโอกาส',\n",
       "  'สอบถาม',\n",
       "  'มุม',\n",
       "  'ตัว',\n",
       "  'โอรส',\n",
       "  'คน',\n",
       "  'ยาย',\n",
       "  'ไล่',\n",
       "  'ยาย',\n",
       "  'ขา',\n",
       "  'พิการ',\n",
       "  'หลานชาย',\n",
       "  'พิการ',\n",
       "  'นอน',\n",
       "  'ข้างทาง',\n",
       "  'อย่า',\n",
       "  'ๆคง',\n",
       "  'มีเหตุผล',\n",
       "  'ยาย',\n",
       "  'ลูกไล่',\n",
       "  'ขอร้อง',\n",
       "  'ปวดใจ',\n",
       "  'ปชช.',\n",
       "  'รู้',\n",
       "  'ข่าว',\n",
       "  'อาหาร',\n",
       "  'น้ำ',\n",
       "  'ยาย',\n",
       "  'หลาน',\n",
       "  'พิการ',\n",
       "  'กิน',\n",
       "  'กิน',\n",
       "  'โอรส',\n",
       "  'ไล่',\n",
       "  'นอน',\n",
       "  'ศาลา',\n",
       "  'ร']]"
      ]
     },
     "execution_count": 32,
     "metadata": {},
     "output_type": "execute_result"
    }
   ],
   "source": [
    "tokens_list"
   ]
  },
  {
   "cell_type": "markdown",
   "metadata": {
    "id": "5xyaFdoLF-bm"
   },
   "source": [
    "**Step 3 + 4a: Bag of words + count word**"
   ]
  },
  {
   "cell_type": "code",
   "execution_count": 33,
   "metadata": {
    "id": "KacGNWcMjzrn"
   },
   "outputs": [],
   "source": [
    "from sklearn.feature_extraction.text import CountVectorizer\n",
    "tokens_list_j = [','.join(tkn) for tkn in tokens_list]\n",
    "cvec = CountVectorizer(analyzer=lambda x:x.split(','))\n",
    "c_feat = cvec.fit_transform(tokens_list_j)"
   ]
  },
  {
   "cell_type": "code",
   "execution_count": 34,
   "metadata": {
    "colab": {
     "base_uri": "https://localhost:8080/",
     "height": 1275
    },
    "id": "LOcncIVCkvw6",
    "outputId": "dd34f2d2-e0ab-4038-d2f0-a6a7f62f58ec"
   },
   "outputs": [
    {
     "data": {
      "text/plain": [
       "{'เฟ็ด': 61,\n",
       " 'เฟ่': 62,\n",
       " 'เดอะ': 59,\n",
       " 'ค็อป': 13,\n",
       " 'คลิป': 11,\n",
       " 'ข่าวสด': 6,\n",
       " 'เด่น': 60,\n",
       " 'ออนไลน์': 53,\n",
       " 'รีบ': 39,\n",
       " 'ดูก่อน': 17,\n",
       " 'โดน': 67,\n",
       " 'ลบ': 41,\n",
       " 'สร้าง': 47,\n",
       " 'ฮึก': 56,\n",
       " 'เฮิม': 63,\n",
       " 'นั่ง': 21,\n",
       " 'หลังคา': 49,\n",
       " 'รถ': 37,\n",
       " 'ชู': 15,\n",
       " 'ถ้วย': 19,\n",
       " 'จุด': 14,\n",
       " 'พลุ': 27,\n",
       " 'มั่น': 29,\n",
       " 'ใจมา': 70,\n",
       " 'แน่นอน': 65,\n",
       " 'บิ': 23,\n",
       " 'วด์': 44,\n",
       " 'เข้าไป': 58,\n",
       " 'เกม': 57,\n",
       " 'การแข่งขัน': 0,\n",
       " 'ยูฟ่า': 35,\n",
       " 'แชมเปียนส์': 64,\n",
       " 'ลีก': 42,\n",
       " 'รอบ': 38,\n",
       " '…': 73,\n",
       " 'แอด': 66,\n",
       " 'ขอให้': 3,\n",
       " 'คนอ่าน': 10,\n",
       " 'วิจารณญาณ': 45,\n",
       " 'ดุลยพินิจ': 16,\n",
       " 'อ่าน': 55,\n",
       " 'คำพูด': 12,\n",
       " 'สอบถาม': 48,\n",
       " 'ยาย': 34,\n",
       " 'ข้างเดียว': 8,\n",
       " 'มาจาก': 30,\n",
       " 'ใจ': 69,\n",
       " 'ปาก': 26,\n",
       " 'มีโอกาส': 32,\n",
       " 'มุม': 33,\n",
       " 'ตัว': 18,\n",
       " 'โอรส': 68,\n",
       " 'คน': 9,\n",
       " 'ไล่': 71,\n",
       " 'ขา': 4,\n",
       " 'พิการ': 28,\n",
       " 'หลานชาย': 51,\n",
       " 'นอน': 20,\n",
       " 'ข้างทาง': 7,\n",
       " 'อย่า': 52,\n",
       " 'ๆคง': 72,\n",
       " 'มีเหตุผล': 31,\n",
       " 'ลูกไล่': 43,\n",
       " 'ขอร้อง': 2,\n",
       " 'ปวดใจ': 25,\n",
       " 'ปชช.': 24,\n",
       " 'รู้': 40,\n",
       " 'ข่าว': 5,\n",
       " 'อาหาร': 54,\n",
       " 'น้ำ': 22,\n",
       " 'หลาน': 50,\n",
       " 'กิน': 1,\n",
       " 'ศาลา': 46,\n",
       " 'ร': 36}"
      ]
     },
     "execution_count": 34,
     "metadata": {},
     "output_type": "execute_result"
    }
   ],
   "source": [
    "cvec.vocabulary_"
   ]
  },
  {
   "cell_type": "code",
   "execution_count": 35,
   "metadata": {
    "colab": {
     "base_uri": "https://localhost:8080/",
     "height": 51
    },
    "id": "MCfZP-NMb0lM",
    "outputId": "88efc12b-2d21-4c8d-bec4-16da347ee730"
   },
   "outputs": [
    {
     "data": {
      "text/plain": [
       "matrix([[1, 0, 0, 0, 0, 0, 1, 0, 0, 0, 0, 1, 0, 1, 1, 1, 0, 1, 0, 1],\n",
       "        [0, 2, 1, 1, 1, 1, 0, 1, 1, 1, 1, 0, 1, 0, 0, 0, 1, 0, 1, 0]],\n",
       "       dtype=int64)"
      ]
     },
     "execution_count": 35,
     "metadata": {},
     "output_type": "execute_result"
    }
   ],
   "source": [
    "c_feat[:,:20].todense()"
   ]
  },
  {
   "cell_type": "markdown",
   "metadata": {
    "id": "nmOB-4XYp5FM"
   },
   "source": [
    "**Step 3 + 4b: Bag of words + tf-idf**"
   ]
  },
  {
   "cell_type": "code",
   "execution_count": 36,
   "metadata": {
    "id": "3BGXh4AIiVIg"
   },
   "outputs": [],
   "source": [
    "from sklearn.feature_extraction.text import TfidfVectorizer\n",
    "tvec = TfidfVectorizer(analyzer=lambda x:x.split(','),)\n",
    "t_feat = tvec.fit_transform(tokens_list_j)"
   ]
  },
  {
   "cell_type": "code",
   "execution_count": 37,
   "metadata": {
    "colab": {
     "base_uri": "https://localhost:8080/",
     "height": 51
    },
    "id": "FXpAGrHaqLAg",
    "outputId": "fb8f31f5-ce95-4eea-dfe7-77727395d327"
   },
   "outputs": [
    {
     "data": {
      "text/plain": [
       "matrix([[0.15617376, 0.        , 0.        , 0.        , 0.        ],\n",
       "        [0.        , 0.20306923, 0.10153462, 0.10153462, 0.10153462]])"
      ]
     },
     "execution_count": 37,
     "metadata": {},
     "output_type": "execute_result"
    }
   ],
   "source": [
    "t_feat[:,:5].todense()"
   ]
  },
  {
   "cell_type": "code",
   "execution_count": 38,
   "metadata": {
    "colab": {
     "base_uri": "https://localhost:8080/",
     "height": 34
    },
    "id": "94JnkQ1CqMnO",
    "outputId": "14393151-f48c-4150-e898-426559d99497"
   },
   "outputs": [
    {
     "name": "stdout",
     "output_type": "stream",
     "text": [
      "74 74\n"
     ]
    }
   ],
   "source": [
    "print(len(tvec.idf_),len(tvec.vocabulary_))"
   ]
  },
  {
   "cell_type": "code",
   "execution_count": 39,
   "metadata": {
    "colab": {
     "base_uri": "https://localhost:8080/",
     "height": 51
    },
    "id": "xNr2NEFwpZ6r",
    "outputId": "489efce1-2e26-462d-90a7-06e7d0ead8e7"
   },
   "outputs": [
    {
     "data": {
      "text/plain": [
       "matrix([[1, 0, 0, 0, 0],\n",
       "        [0, 2, 1, 1, 1]], dtype=int64)"
      ]
     },
     "execution_count": 39,
     "metadata": {},
     "output_type": "execute_result"
    }
   ],
   "source": [
    "c_feat[:,:5].todense()"
   ]
  },
  {
   "cell_type": "code",
   "execution_count": null,
   "metadata": {
    "id": "nkMP7HMKtMM6"
   },
   "outputs": [],
   "source": []
  }
 ],
 "metadata": {
  "colab": {
   "collapsed_sections": [],
   "name": "1) Simple Thai text preprocessing.ipynb",
   "provenance": []
  },
  "kernelspec": {
   "display_name": "Python 3 (ipykernel)",
   "language": "python",
   "name": "python3"
  },
  "language_info": {
   "codemirror_mode": {
    "name": "ipython",
    "version": 3
   },
   "file_extension": ".py",
   "mimetype": "text/x-python",
   "name": "python",
   "nbconvert_exporter": "python",
   "pygments_lexer": "ipython3",
   "version": "3.9.7"
  }
 },
 "nbformat": 4,
 "nbformat_minor": 1
}
