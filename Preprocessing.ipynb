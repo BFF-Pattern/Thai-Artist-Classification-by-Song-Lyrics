{
 "cells": [
  {
   "cell_type": "code",
   "execution_count": 10,
   "metadata": {},
   "outputs": [],
   "source": [
    "# import libraries\n",
    "import pandas as pd\n",
    "import plotly.express as px\n",
    "import plotly.graph_objects as go\n",
    "import numpy as np\n",
    "import re\n",
    "import random\n",
    "import nltk\n",
    "from scipy import sparse\n",
    "from scipy.sparse import csr_matrix, vstack\n",
    "from textblob import TextBlob\n",
    "from langdetect import detect_langs\n",
    "import pickle\n",
    "from datetime import datetime\n",
    "import string\n",
    "\n",
    "from sklearn.feature_extraction.text import TfidfTransformer, CountVectorizer\n",
    "from sklearn.metrics.pairwise import cosine_similarity\n",
    "from sklearn.linear_model import LogisticRegression\n",
    "from sklearn.metrics import accuracy_score, confusion_matrix\n",
    "from sklearn.pipeline import Pipeline\n",
    "from sklearn.preprocessing import StandardScaler"
   ]
  },
  {
   "cell_type": "code",
   "execution_count": 11,
   "metadata": {},
   "outputs": [],
   "source": [
    "# import data\n",
    "\n",
    "# import glob\n",
    "# import os\n",
    "\n",
    "# path = r'/thaisongs' # use your path\n",
    "# all_files = glob.glob(os.path.join(path , \"/*.csv\"))\n",
    "\n",
    "all_files = ['./thaisongs/bodyslam.csv', './thaisongs/nont_tanont.csv', './thaisongs/tilly_birds.csv']\n",
    "\n",
    "li = []\n",
    "\n",
    "for filename in all_files:\n",
    "    df = pd.read_csv(filename, index_col=None, header=0)\n",
    "    li.append(df)\n",
    "\n",
    "song_df = pd.concat(li, axis=0, ignore_index=True)"
   ]
  },
  {
   "cell_type": "code",
   "execution_count": 12,
   "metadata": {},
   "outputs": [
    {
     "name": "stdout",
     "output_type": "stream",
     "text": [
      "Number of round brackets: 180\n",
      "Number of square brackets: 0\n",
      "Number of curly brackets: 0\n"
     ]
    }
   ],
   "source": [
    "lyric_in_round_brackets = sum(list(song_df['lyric'].map(lambda s: re.findall(r'\\((.*?)\\)',s))), [])\n",
    "print('Number of round brackets: {}'.format(len(lyric_in_round_brackets)))\n",
    "\n",
    "lyric_in_square_brackets = sum(list(song_df['lyric'].map(lambda s: re.findall(r'\\[(.*?)\\]',s))), [])\n",
    "print('Number of square brackets: {}'.format(len(lyric_in_square_brackets)))\n",
    "\n",
    "lyric_in_curly_brackets = sum(list(song_df['lyric'].map(lambda s: re.findall(r'\\{(.*?)\\}',s))), [])\n",
    "print('Number of curly brackets: {}'.format(len(lyric_in_curly_brackets)))"
   ]
  },
  {
   "cell_type": "code",
   "execution_count": 13,
   "metadata": {},
   "outputs": [
    {
     "name": "stdout",
     "output_type": "stream",
     "text": [
      "Number of round brackets: 0\n"
     ]
    }
   ],
   "source": [
    "# remove round brackets but not text within\n",
    "song_df['lyric'] = song_df['lyric'].map(lambda s: re.sub(r'\\(|\\)', '', s))\n",
    "\n",
    "lyric_in_round_brackets = sum(list(song_df['lyric'].map(lambda s: re.findall(r'\\((.*?)\\)',s))), [])\n",
    "print('Number of round brackets: {}'.format(len(lyric_in_round_brackets)))"
   ]
  },
  {
   "cell_type": "code",
   "execution_count": 14,
   "metadata": {},
   "outputs": [
    {
     "name": "stdout",
     "output_type": "stream",
     "text": [
      "Number of dot: 82\n"
     ]
    }
   ],
   "source": [
    "dot = sum(list(song_df['lyric'].map(lambda s: re.findall('\\.',s))), [])\n",
    "print('Number of dot: {}'.format(len(dot)))"
   ]
  },
  {
   "cell_type": "code",
   "execution_count": 15,
   "metadata": {},
   "outputs": [
    {
     "name": "stdout",
     "output_type": "stream",
     "text": [
      "Number of dot: 0\n"
     ]
    }
   ],
   "source": [
    "# remove dot \n",
    "song_df['lyric'] = song_df['lyric'].map(lambda s: re.sub(r'\\.', '', s))\n",
    "\n",
    "dot = sum(list(song_df['lyric'].map(lambda s: re.findall('\\.',s))), [])\n",
    "print('Number of dot: {}'.format(len(dot)))"
   ]
  },
  {
   "cell_type": "code",
   "execution_count": 16,
   "metadata": {},
   "outputs": [],
   "source": [
    "# count number of lines\n",
    "song_df['lines'] = song_df['lyric'].map(lambda t: len(re.findall(r'\\n', t)))"
   ]
  },
  {
   "cell_type": "code",
   "execution_count": 17,
   "metadata": {},
   "outputs": [],
   "source": [
    "# remove line breaks\n",
    "song_df['lyric'] = song_df['lyric'].map(lambda s: re.sub(r' \\n|\\n', '', s))"
   ]
  },
  {
   "cell_type": "code",
   "execution_count": 18,
   "metadata": {},
   "outputs": [
    {
     "name": "stdout",
     "output_type": "stream",
     "text": [
      "Number of round brackets: 0\n"
     ]
    },
    {
     "data": {
      "text/html": [
       "<div>\n",
       "<style scoped>\n",
       "    .dataframe tbody tr th:only-of-type {\n",
       "        vertical-align: middle;\n",
       "    }\n",
       "\n",
       "    .dataframe tbody tr th {\n",
       "        vertical-align: top;\n",
       "    }\n",
       "\n",
       "    .dataframe thead th {\n",
       "        text-align: right;\n",
       "    }\n",
       "</style>\n",
       "<table border=\"1\" class=\"dataframe\">\n",
       "  <thead>\n",
       "    <tr style=\"text-align: right;\">\n",
       "      <th></th>\n",
       "      <th>song_name</th>\n",
       "      <th>href</th>\n",
       "      <th>lyric</th>\n",
       "      <th>artist</th>\n",
       "      <th>lines</th>\n",
       "    </tr>\n",
       "  </thead>\n",
       "  <tbody>\n",
       "    <tr>\n",
       "      <th>0</th>\n",
       "      <td>อะ ไนท์ (A Night)</td>\n",
       "      <td>/music/thailyric/2681</td>\n",
       "      <td>ดึกดื่นคืนใด มองฟ้าไม่เห็นจันทร์ ไม่เจอะเจอกัน...</td>\n",
       "      <td>bodyslam</td>\n",
       "      <td>15</td>\n",
       "    </tr>\n",
       "    <tr>\n",
       "      <th>1</th>\n",
       "      <td>ขอบฟ้า</td>\n",
       "      <td>/music/thailyric/2640</td>\n",
       "      <td>ได้แต่เหลียวมองไปสุดฟ้าไกล\\rมันช่างน่าเสียดายท...</td>\n",
       "      <td>bodyslam</td>\n",
       "      <td>29</td>\n",
       "    </tr>\n",
       "    <tr>\n",
       "      <th>2</th>\n",
       "      <td>คนที่ถูกรัก</td>\n",
       "      <td>/music/thailyric/2641</td>\n",
       "      <td>ใจ ฉันเคยถูกทิ้งเพียงลำพัง รักใครมาแล้วตั้งกี่...</td>\n",
       "      <td>bodyslam</td>\n",
       "      <td>25</td>\n",
       "    </tr>\n",
       "    <tr>\n",
       "      <th>3</th>\n",
       "      <td>ความเชื่อ</td>\n",
       "      <td>/music/thailyric/2644</td>\n",
       "      <td>มันเกือบจะล้มมันเหนื่อยมันล้าเหมือนแทบขาดใจ\\rเ...</td>\n",
       "      <td>bodyslam</td>\n",
       "      <td>45</td>\n",
       "    </tr>\n",
       "    <tr>\n",
       "      <th>4</th>\n",
       "      <td>ความรักทำให้คนตาบอด</td>\n",
       "      <td>/music/thailyric/2647</td>\n",
       "      <td>รู้ว่ามันไม่สมควร ที่ยังกวนใจเธอ ฉันขอโทษที\\rร...</td>\n",
       "      <td>bodyslam</td>\n",
       "      <td>21</td>\n",
       "    </tr>\n",
       "  </tbody>\n",
       "</table>\n",
       "</div>"
      ],
      "text/plain": [
       "             song_name                   href  \\\n",
       "0    อะ ไนท์ (A Night)  /music/thailyric/2681   \n",
       "1               ขอบฟ้า  /music/thailyric/2640   \n",
       "2          คนที่ถูกรัก  /music/thailyric/2641   \n",
       "3            ความเชื่อ  /music/thailyric/2644   \n",
       "4  ความรักทำให้คนตาบอด  /music/thailyric/2647   \n",
       "\n",
       "                                               lyric    artist  lines  \n",
       "0  ดึกดื่นคืนใด มองฟ้าไม่เห็นจันทร์ ไม่เจอะเจอกัน...  bodyslam     15  \n",
       "1  ได้แต่เหลียวมองไปสุดฟ้าไกล\\rมันช่างน่าเสียดายท...  bodyslam     29  \n",
       "2  ใจ ฉันเคยถูกทิ้งเพียงลำพัง รักใครมาแล้วตั้งกี่...  bodyslam     25  \n",
       "3  มันเกือบจะล้มมันเหนื่อยมันล้าเหมือนแทบขาดใจ\\rเ...  bodyslam     45  \n",
       "4  รู้ว่ามันไม่สมควร ที่ยังกวนใจเธอ ฉันขอโทษที\\rร...  bodyslam     21  "
      ]
     },
     "execution_count": 18,
     "metadata": {},
     "output_type": "execute_result"
    }
   ],
   "source": [
    "lyric_in_round_brackets = sum(list(song_df['lyric'].map(lambda s: re.findall(r'\\((.*?)\\)',s))), [])\n",
    "print('Number of round brackets: {}'.format(len(lyric_in_round_brackets)))\n",
    "song_df.head()"
   ]
  },
  {
   "cell_type": "markdown",
   "metadata": {},
   "source": [
    "Tokenise"
   ]
  },
  {
   "cell_type": "code",
   "execution_count": 23,
   "metadata": {},
   "outputs": [],
   "source": [
    "import pythainlp\n",
    "from pythainlp import word_tokenize\n",
    "from pythainlp.corpus.common import thai_stopwords\n",
    "from pythainlp.corpus import wordnet\n",
    "from nltk.stem.porter import PorterStemmer\n",
    "from nltk.corpus import words\n",
    "from stop_words import get_stop_words"
   ]
  },
  {
   "cell_type": "code",
   "execution_count": 65,
   "metadata": {},
   "outputs": [],
   "source": [
    "# from thainlplib import ThaiWordSegmentLabeller"
   ]
  },
  {
   "cell_type": "code",
   "execution_count": 24,
   "metadata": {},
   "outputs": [
    {
     "name": "stderr",
     "output_type": "stream",
     "text": [
      "[nltk_data] Downloading package words to\n",
      "[nltk_data]     C:\\Users\\jinnie\\AppData\\Roaming\\nltk_data...\n",
      "[nltk_data]   Unzipping corpora\\words.zip.\n"
     ]
    }
   ],
   "source": [
    "import nltk\n",
    "nltk.download('words')\n",
    "th_stop = tuple(thai_stopwords())\n",
    "en_stop = tuple(get_stop_words('en'))\n",
    "p_stemmer = PorterStemmer()"
   ]
  },
  {
   "cell_type": "code",
   "execution_count": 25,
   "metadata": {},
   "outputs": [],
   "source": [
    "def split_word(text):\n",
    "            \n",
    "    \n",
    "    tokens = word_tokenize(text,engine='newmm')\n",
    "    \n",
    "    # Remove stop words ภาษาไทย และภาษาอังกฤษ\n",
    "    tokens = [i for i in tokens if not i in th_stop and not i in en_stop]\n",
    "    \n",
    "    # หารากศัพท์ภาษาไทย และภาษาอังกฤษ\n",
    "    # English\n",
    "    tokens = [p_stemmer.stem(i) for i in tokens]\n",
    "    \n",
    "    # Thai\n",
    "    tokens_temp=[]\n",
    "    for i in tokens:\n",
    "        w_syn = wordnet.synsets(i)\n",
    "        if (len(w_syn)>0) and (len(w_syn[0].lemma_names('tha'))>0):\n",
    "            tokens_temp.append(w_syn[0].lemma_names('tha')[0])\n",
    "        else:\n",
    "            tokens_temp.append(i)\n",
    "    \n",
    "    tokens = tokens_temp\n",
    "    \n",
    "    # ลบตัวเลข\n",
    "    tokens = [i for i in tokens if not i.isnumeric()]\n",
    "    \n",
    "    # ลบช่องว่าง\n",
    "    tokens = [i for i in tokens if not ' ' in i]\n",
    "\n",
    "    return tokens"
   ]
  },
  {
   "cell_type": "code",
   "execution_count": 26,
   "metadata": {},
   "outputs": [],
   "source": [
    "song_df['words'] = song_df['lyric'].map(lambda s: split_word(s))"
   ]
  },
  {
   "cell_type": "code",
   "execution_count": 27,
   "metadata": {},
   "outputs": [
    {
     "data": {
      "text/html": [
       "<div>\n",
       "<style scoped>\n",
       "    .dataframe tbody tr th:only-of-type {\n",
       "        vertical-align: middle;\n",
       "    }\n",
       "\n",
       "    .dataframe tbody tr th {\n",
       "        vertical-align: top;\n",
       "    }\n",
       "\n",
       "    .dataframe thead th {\n",
       "        text-align: right;\n",
       "    }\n",
       "</style>\n",
       "<table border=\"1\" class=\"dataframe\">\n",
       "  <thead>\n",
       "    <tr style=\"text-align: right;\">\n",
       "      <th></th>\n",
       "      <th>lyric</th>\n",
       "      <th>words</th>\n",
       "    </tr>\n",
       "  </thead>\n",
       "  <tbody>\n",
       "    <tr>\n",
       "      <th>125</th>\n",
       "      <td>เจ็บที่ตรงไหน\\rบอกฉันได้ไหม\\rให้ฉันช่วยดู\\r\\rแ...</td>\n",
       "      <td>[ปวด, ตรงไหน, \\r, ไหม, \\r, ดู, \\r\\r, รู้, \\r, ...</td>\n",
       "    </tr>\n",
       "    <tr>\n",
       "      <th>126</th>\n",
       "      <td>ฟ้า และท้องทะเลกับลมนั้นมีอยู่\\rแต่ใครจะรู้ จะ...</td>\n",
       "      <td>[ฟ้า, ท้องทะเล, ลม, \\r, รู้, รู้, ใจ, \\r, ไว, ...</td>\n",
       "    </tr>\n",
       "    <tr>\n",
       "      <th>127</th>\n",
       "      <td>ทะเลาะเสียงดัง ข้าวของก็พัง อย่างนี้ประจำ\\rบาง...</td>\n",
       "      <td>[ทะเลาะ, ความดัง, สินค้า, พัง, ประจำ, \\r, ช่วง...</td>\n",
       "    </tr>\n",
       "    <tr>\n",
       "      <th>128</th>\n",
       "      <td>เธอทนอยู่กับเขามานาน อยู่กับเขามานาน\\rฉันทนดูเ...</td>\n",
       "      <td>[ทน, \\r, ทน, ดู, ทรมาน, ไหว, \\r, ยอมให้, เตือน...</td>\n",
       "    </tr>\n",
       "    <tr>\n",
       "      <th>129</th>\n",
       "      <td>เจอมากี่ครั้งเรื่องรักๆ เดี๋ยวจะเล่าให้ฟัง\\rชอ...</td>\n",
       "      <td>[เจอ, กี่, เรื่อง, รัก, เดี๋ยว, เล่า, ฟัง, \\r,...</td>\n",
       "    </tr>\n",
       "  </tbody>\n",
       "</table>\n",
       "</div>"
      ],
      "text/plain": [
       "                                                 lyric  \\\n",
       "125  เจ็บที่ตรงไหน\\rบอกฉันได้ไหม\\rให้ฉันช่วยดู\\r\\rแ...   \n",
       "126  ฟ้า และท้องทะเลกับลมนั้นมีอยู่\\rแต่ใครจะรู้ จะ...   \n",
       "127  ทะเลาะเสียงดัง ข้าวของก็พัง อย่างนี้ประจำ\\rบาง...   \n",
       "128  เธอทนอยู่กับเขามานาน อยู่กับเขามานาน\\rฉันทนดูเ...   \n",
       "129  เจอมากี่ครั้งเรื่องรักๆ เดี๋ยวจะเล่าให้ฟัง\\rชอ...   \n",
       "\n",
       "                                                 words  \n",
       "125  [ปวด, ตรงไหน, \\r, ไหม, \\r, ดู, \\r\\r, รู้, \\r, ...  \n",
       "126  [ฟ้า, ท้องทะเล, ลม, \\r, รู้, รู้, ใจ, \\r, ไว, ...  \n",
       "127  [ทะเลาะ, ความดัง, สินค้า, พัง, ประจำ, \\r, ช่วง...  \n",
       "128  [ทน, \\r, ทน, ดู, ทรมาน, ไหว, \\r, ยอมให้, เตือน...  \n",
       "129  [เจอ, กี่, เรื่อง, รัก, เดี๋ยว, เล่า, ฟัง, \\r,...  "
      ]
     },
     "execution_count": 27,
     "metadata": {},
     "output_type": "execute_result"
    }
   ],
   "source": [
    "song_df[['lyric','words']].tail()"
   ]
  },
  {
   "cell_type": "code",
   "execution_count": 28,
   "metadata": {},
   "outputs": [],
   "source": [
    "song_df['n_words'] = song_df['words'].map(len)"
   ]
  },
  {
   "cell_type": "markdown",
   "metadata": {},
   "source": [
    "EDA"
   ]
  },
  {
   "cell_type": "code",
   "execution_count": 29,
   "metadata": {},
   "outputs": [
    {
     "name": "stdout",
     "output_type": "stream",
     "text": [
      "number of songs:  130\n",
      "number of artists:  3\n"
     ]
    }
   ],
   "source": [
    "# number of songs\n",
    "print('number of songs: ', str(len(song_df)))\n",
    "\n",
    "# number of artists\n",
    "print('number of artists: ', str(len(song_df['artist'].unique())))"
   ]
  },
  {
   "cell_type": "code",
   "execution_count": 30,
   "metadata": {},
   "outputs": [
    {
     "data": {
      "application/vnd.plotly.v1+json": {
       "config": {
        "plotlyServerURL": "https://plot.ly"
       },
       "data": [
        {
         "alignmentgroup": "True",
         "bingroup": "x",
         "hovertemplate": "Songs=%{x}<br>count=%{y}<extra></extra>",
         "legendgroup": "",
         "marker": {
          "color": "#636efa",
          "pattern": {
           "shape": ""
          }
         },
         "name": "",
         "offsetgroup": "",
         "orientation": "v",
         "showlegend": false,
         "type": "histogram",
         "x": [
          66,
          36,
          28
         ],
         "xaxis": "x",
         "yaxis": "y"
        }
       ],
       "layout": {
        "barmode": "relative",
        "legend": {
         "tracegroupgap": 0
        },
        "template": {
         "data": {
          "bar": [
           {
            "error_x": {
             "color": "#2a3f5f"
            },
            "error_y": {
             "color": "#2a3f5f"
            },
            "marker": {
             "line": {
              "color": "#E5ECF6",
              "width": 0.5
             },
             "pattern": {
              "fillmode": "overlay",
              "size": 10,
              "solidity": 0.2
             }
            },
            "type": "bar"
           }
          ],
          "barpolar": [
           {
            "marker": {
             "line": {
              "color": "#E5ECF6",
              "width": 0.5
             },
             "pattern": {
              "fillmode": "overlay",
              "size": 10,
              "solidity": 0.2
             }
            },
            "type": "barpolar"
           }
          ],
          "carpet": [
           {
            "aaxis": {
             "endlinecolor": "#2a3f5f",
             "gridcolor": "white",
             "linecolor": "white",
             "minorgridcolor": "white",
             "startlinecolor": "#2a3f5f"
            },
            "baxis": {
             "endlinecolor": "#2a3f5f",
             "gridcolor": "white",
             "linecolor": "white",
             "minorgridcolor": "white",
             "startlinecolor": "#2a3f5f"
            },
            "type": "carpet"
           }
          ],
          "choropleth": [
           {
            "colorbar": {
             "outlinewidth": 0,
             "ticks": ""
            },
            "type": "choropleth"
           }
          ],
          "contour": [
           {
            "colorbar": {
             "outlinewidth": 0,
             "ticks": ""
            },
            "colorscale": [
             [
              0,
              "#0d0887"
             ],
             [
              0.1111111111111111,
              "#46039f"
             ],
             [
              0.2222222222222222,
              "#7201a8"
             ],
             [
              0.3333333333333333,
              "#9c179e"
             ],
             [
              0.4444444444444444,
              "#bd3786"
             ],
             [
              0.5555555555555556,
              "#d8576b"
             ],
             [
              0.6666666666666666,
              "#ed7953"
             ],
             [
              0.7777777777777778,
              "#fb9f3a"
             ],
             [
              0.8888888888888888,
              "#fdca26"
             ],
             [
              1,
              "#f0f921"
             ]
            ],
            "type": "contour"
           }
          ],
          "contourcarpet": [
           {
            "colorbar": {
             "outlinewidth": 0,
             "ticks": ""
            },
            "type": "contourcarpet"
           }
          ],
          "heatmap": [
           {
            "colorbar": {
             "outlinewidth": 0,
             "ticks": ""
            },
            "colorscale": [
             [
              0,
              "#0d0887"
             ],
             [
              0.1111111111111111,
              "#46039f"
             ],
             [
              0.2222222222222222,
              "#7201a8"
             ],
             [
              0.3333333333333333,
              "#9c179e"
             ],
             [
              0.4444444444444444,
              "#bd3786"
             ],
             [
              0.5555555555555556,
              "#d8576b"
             ],
             [
              0.6666666666666666,
              "#ed7953"
             ],
             [
              0.7777777777777778,
              "#fb9f3a"
             ],
             [
              0.8888888888888888,
              "#fdca26"
             ],
             [
              1,
              "#f0f921"
             ]
            ],
            "type": "heatmap"
           }
          ],
          "heatmapgl": [
           {
            "colorbar": {
             "outlinewidth": 0,
             "ticks": ""
            },
            "colorscale": [
             [
              0,
              "#0d0887"
             ],
             [
              0.1111111111111111,
              "#46039f"
             ],
             [
              0.2222222222222222,
              "#7201a8"
             ],
             [
              0.3333333333333333,
              "#9c179e"
             ],
             [
              0.4444444444444444,
              "#bd3786"
             ],
             [
              0.5555555555555556,
              "#d8576b"
             ],
             [
              0.6666666666666666,
              "#ed7953"
             ],
             [
              0.7777777777777778,
              "#fb9f3a"
             ],
             [
              0.8888888888888888,
              "#fdca26"
             ],
             [
              1,
              "#f0f921"
             ]
            ],
            "type": "heatmapgl"
           }
          ],
          "histogram": [
           {
            "marker": {
             "pattern": {
              "fillmode": "overlay",
              "size": 10,
              "solidity": 0.2
             }
            },
            "type": "histogram"
           }
          ],
          "histogram2d": [
           {
            "colorbar": {
             "outlinewidth": 0,
             "ticks": ""
            },
            "colorscale": [
             [
              0,
              "#0d0887"
             ],
             [
              0.1111111111111111,
              "#46039f"
             ],
             [
              0.2222222222222222,
              "#7201a8"
             ],
             [
              0.3333333333333333,
              "#9c179e"
             ],
             [
              0.4444444444444444,
              "#bd3786"
             ],
             [
              0.5555555555555556,
              "#d8576b"
             ],
             [
              0.6666666666666666,
              "#ed7953"
             ],
             [
              0.7777777777777778,
              "#fb9f3a"
             ],
             [
              0.8888888888888888,
              "#fdca26"
             ],
             [
              1,
              "#f0f921"
             ]
            ],
            "type": "histogram2d"
           }
          ],
          "histogram2dcontour": [
           {
            "colorbar": {
             "outlinewidth": 0,
             "ticks": ""
            },
            "colorscale": [
             [
              0,
              "#0d0887"
             ],
             [
              0.1111111111111111,
              "#46039f"
             ],
             [
              0.2222222222222222,
              "#7201a8"
             ],
             [
              0.3333333333333333,
              "#9c179e"
             ],
             [
              0.4444444444444444,
              "#bd3786"
             ],
             [
              0.5555555555555556,
              "#d8576b"
             ],
             [
              0.6666666666666666,
              "#ed7953"
             ],
             [
              0.7777777777777778,
              "#fb9f3a"
             ],
             [
              0.8888888888888888,
              "#fdca26"
             ],
             [
              1,
              "#f0f921"
             ]
            ],
            "type": "histogram2dcontour"
           }
          ],
          "mesh3d": [
           {
            "colorbar": {
             "outlinewidth": 0,
             "ticks": ""
            },
            "type": "mesh3d"
           }
          ],
          "parcoords": [
           {
            "line": {
             "colorbar": {
              "outlinewidth": 0,
              "ticks": ""
             }
            },
            "type": "parcoords"
           }
          ],
          "pie": [
           {
            "automargin": true,
            "type": "pie"
           }
          ],
          "scatter": [
           {
            "fillpattern": {
             "fillmode": "overlay",
             "size": 10,
             "solidity": 0.2
            },
            "type": "scatter"
           }
          ],
          "scatter3d": [
           {
            "line": {
             "colorbar": {
              "outlinewidth": 0,
              "ticks": ""
             }
            },
            "marker": {
             "colorbar": {
              "outlinewidth": 0,
              "ticks": ""
             }
            },
            "type": "scatter3d"
           }
          ],
          "scattercarpet": [
           {
            "marker": {
             "colorbar": {
              "outlinewidth": 0,
              "ticks": ""
             }
            },
            "type": "scattercarpet"
           }
          ],
          "scattergeo": [
           {
            "marker": {
             "colorbar": {
              "outlinewidth": 0,
              "ticks": ""
             }
            },
            "type": "scattergeo"
           }
          ],
          "scattergl": [
           {
            "marker": {
             "colorbar": {
              "outlinewidth": 0,
              "ticks": ""
             }
            },
            "type": "scattergl"
           }
          ],
          "scattermapbox": [
           {
            "marker": {
             "colorbar": {
              "outlinewidth": 0,
              "ticks": ""
             }
            },
            "type": "scattermapbox"
           }
          ],
          "scatterpolar": [
           {
            "marker": {
             "colorbar": {
              "outlinewidth": 0,
              "ticks": ""
             }
            },
            "type": "scatterpolar"
           }
          ],
          "scatterpolargl": [
           {
            "marker": {
             "colorbar": {
              "outlinewidth": 0,
              "ticks": ""
             }
            },
            "type": "scatterpolargl"
           }
          ],
          "scatterternary": [
           {
            "marker": {
             "colorbar": {
              "outlinewidth": 0,
              "ticks": ""
             }
            },
            "type": "scatterternary"
           }
          ],
          "surface": [
           {
            "colorbar": {
             "outlinewidth": 0,
             "ticks": ""
            },
            "colorscale": [
             [
              0,
              "#0d0887"
             ],
             [
              0.1111111111111111,
              "#46039f"
             ],
             [
              0.2222222222222222,
              "#7201a8"
             ],
             [
              0.3333333333333333,
              "#9c179e"
             ],
             [
              0.4444444444444444,
              "#bd3786"
             ],
             [
              0.5555555555555556,
              "#d8576b"
             ],
             [
              0.6666666666666666,
              "#ed7953"
             ],
             [
              0.7777777777777778,
              "#fb9f3a"
             ],
             [
              0.8888888888888888,
              "#fdca26"
             ],
             [
              1,
              "#f0f921"
             ]
            ],
            "type": "surface"
           }
          ],
          "table": [
           {
            "cells": {
             "fill": {
              "color": "#EBF0F8"
             },
             "line": {
              "color": "white"
             }
            },
            "header": {
             "fill": {
              "color": "#C8D4E3"
             },
             "line": {
              "color": "white"
             }
            },
            "type": "table"
           }
          ]
         },
         "layout": {
          "annotationdefaults": {
           "arrowcolor": "#2a3f5f",
           "arrowhead": 0,
           "arrowwidth": 1
          },
          "autotypenumbers": "strict",
          "coloraxis": {
           "colorbar": {
            "outlinewidth": 0,
            "ticks": ""
           }
          },
          "colorscale": {
           "diverging": [
            [
             0,
             "#8e0152"
            ],
            [
             0.1,
             "#c51b7d"
            ],
            [
             0.2,
             "#de77ae"
            ],
            [
             0.3,
             "#f1b6da"
            ],
            [
             0.4,
             "#fde0ef"
            ],
            [
             0.5,
             "#f7f7f7"
            ],
            [
             0.6,
             "#e6f5d0"
            ],
            [
             0.7,
             "#b8e186"
            ],
            [
             0.8,
             "#7fbc41"
            ],
            [
             0.9,
             "#4d9221"
            ],
            [
             1,
             "#276419"
            ]
           ],
           "sequential": [
            [
             0,
             "#0d0887"
            ],
            [
             0.1111111111111111,
             "#46039f"
            ],
            [
             0.2222222222222222,
             "#7201a8"
            ],
            [
             0.3333333333333333,
             "#9c179e"
            ],
            [
             0.4444444444444444,
             "#bd3786"
            ],
            [
             0.5555555555555556,
             "#d8576b"
            ],
            [
             0.6666666666666666,
             "#ed7953"
            ],
            [
             0.7777777777777778,
             "#fb9f3a"
            ],
            [
             0.8888888888888888,
             "#fdca26"
            ],
            [
             1,
             "#f0f921"
            ]
           ],
           "sequentialminus": [
            [
             0,
             "#0d0887"
            ],
            [
             0.1111111111111111,
             "#46039f"
            ],
            [
             0.2222222222222222,
             "#7201a8"
            ],
            [
             0.3333333333333333,
             "#9c179e"
            ],
            [
             0.4444444444444444,
             "#bd3786"
            ],
            [
             0.5555555555555556,
             "#d8576b"
            ],
            [
             0.6666666666666666,
             "#ed7953"
            ],
            [
             0.7777777777777778,
             "#fb9f3a"
            ],
            [
             0.8888888888888888,
             "#fdca26"
            ],
            [
             1,
             "#f0f921"
            ]
           ]
          },
          "colorway": [
           "#636efa",
           "#EF553B",
           "#00cc96",
           "#ab63fa",
           "#FFA15A",
           "#19d3f3",
           "#FF6692",
           "#B6E880",
           "#FF97FF",
           "#FECB52"
          ],
          "font": {
           "color": "#2a3f5f"
          },
          "geo": {
           "bgcolor": "white",
           "lakecolor": "white",
           "landcolor": "#E5ECF6",
           "showlakes": true,
           "showland": true,
           "subunitcolor": "white"
          },
          "hoverlabel": {
           "align": "left"
          },
          "hovermode": "closest",
          "mapbox": {
           "style": "light"
          },
          "paper_bgcolor": "white",
          "plot_bgcolor": "#E5ECF6",
          "polar": {
           "angularaxis": {
            "gridcolor": "white",
            "linecolor": "white",
            "ticks": ""
           },
           "bgcolor": "#E5ECF6",
           "radialaxis": {
            "gridcolor": "white",
            "linecolor": "white",
            "ticks": ""
           }
          },
          "scene": {
           "xaxis": {
            "backgroundcolor": "#E5ECF6",
            "gridcolor": "white",
            "gridwidth": 2,
            "linecolor": "white",
            "showbackground": true,
            "ticks": "",
            "zerolinecolor": "white"
           },
           "yaxis": {
            "backgroundcolor": "#E5ECF6",
            "gridcolor": "white",
            "gridwidth": 2,
            "linecolor": "white",
            "showbackground": true,
            "ticks": "",
            "zerolinecolor": "white"
           },
           "zaxis": {
            "backgroundcolor": "#E5ECF6",
            "gridcolor": "white",
            "gridwidth": 2,
            "linecolor": "white",
            "showbackground": true,
            "ticks": "",
            "zerolinecolor": "white"
           }
          },
          "shapedefaults": {
           "line": {
            "color": "#2a3f5f"
           }
          },
          "ternary": {
           "aaxis": {
            "gridcolor": "white",
            "linecolor": "white",
            "ticks": ""
           },
           "baxis": {
            "gridcolor": "white",
            "linecolor": "white",
            "ticks": ""
           },
           "bgcolor": "#E5ECF6",
           "caxis": {
            "gridcolor": "white",
            "linecolor": "white",
            "ticks": ""
           }
          },
          "title": {
           "x": 0.05
          },
          "xaxis": {
           "automargin": true,
           "gridcolor": "white",
           "linecolor": "white",
           "ticks": "",
           "title": {
            "standoff": 15
           },
           "zerolinecolor": "white",
           "zerolinewidth": 2
          },
          "yaxis": {
           "automargin": true,
           "gridcolor": "white",
           "linecolor": "white",
           "ticks": "",
           "title": {
            "standoff": 15
           },
           "zerolinecolor": "white",
           "zerolinewidth": 2
          }
         }
        },
        "title": {
         "text": "Songs per artist"
        },
        "xaxis": {
         "anchor": "y",
         "domain": [
          0,
          1
         ],
         "title": {
          "text": "Songs"
         }
        },
        "yaxis": {
         "anchor": "x",
         "domain": [
          0,
          1
         ],
         "title": {
          "text": "count"
         }
        }
       }
      }
     },
     "metadata": {},
     "output_type": "display_data"
    }
   ],
   "source": [
    "# distribution songs per artist\n",
    "song_count_df = song_df.groupby('artist')[['song_name']].count()\n",
    "fig = px.histogram(song_count_df, x='song_name', title='Songs per artist', labels={'song_name': 'Songs'})\n",
    "fig.show()"
   ]
  },
  {
   "cell_type": "code",
   "execution_count": 31,
   "metadata": {},
   "outputs": [
    {
     "data": {
      "application/vnd.plotly.v1+json": {
       "config": {
        "plotlyServerURL": "https://plot.ly"
       },
       "data": [
        {
         "alignmentgroup": "True",
         "bingroup": "x",
         "hovertemplate": "n_words=%{x}<br>count=%{y}<extra></extra>",
         "legendgroup": "",
         "marker": {
          "color": "#636efa",
          "pattern": {
           "shape": ""
          }
         },
         "name": "",
         "offsetgroup": "",
         "orientation": "v",
         "showlegend": false,
         "type": "histogram",
         "x": [
          86,
          92,
          105,
          163,
          65,
          69,
          103,
          89,
          113,
          109,
          102,
          179,
          112,
          140,
          150,
          105,
          126,
          135,
          86,
          62,
          122,
          94,
          72,
          64,
          114,
          75,
          92,
          157,
          144,
          175,
          258,
          90,
          145,
          84,
          145,
          163,
          146,
          199,
          137,
          224,
          175,
          120,
          165,
          158,
          73,
          77,
          68,
          111,
          67,
          131,
          103,
          144,
          92,
          182,
          153,
          129,
          205,
          215,
          115,
          188,
          119,
          140,
          137,
          118,
          152,
          80,
          122,
          139,
          215,
          239,
          232,
          107,
          126,
          87,
          141,
          171,
          108,
          132,
          121,
          118,
          134,
          124,
          115,
          158,
          86,
          96,
          101,
          103,
          154,
          212,
          119,
          179,
          150,
          189,
          90,
          128,
          109,
          86,
          186,
          219,
          146,
          92,
          109,
          102,
          113,
          84,
          127,
          101,
          198,
          131,
          123,
          257,
          119,
          79,
          200,
          152,
          166,
          115,
          234,
          153,
          207,
          133,
          132,
          188,
          189,
          91,
          122,
          99,
          170,
          149
         ],
         "xaxis": "x",
         "yaxis": "y"
        }
       ],
       "layout": {
        "barmode": "relative",
        "legend": {
         "tracegroupgap": 0
        },
        "template": {
         "data": {
          "bar": [
           {
            "error_x": {
             "color": "#2a3f5f"
            },
            "error_y": {
             "color": "#2a3f5f"
            },
            "marker": {
             "line": {
              "color": "#E5ECF6",
              "width": 0.5
             },
             "pattern": {
              "fillmode": "overlay",
              "size": 10,
              "solidity": 0.2
             }
            },
            "type": "bar"
           }
          ],
          "barpolar": [
           {
            "marker": {
             "line": {
              "color": "#E5ECF6",
              "width": 0.5
             },
             "pattern": {
              "fillmode": "overlay",
              "size": 10,
              "solidity": 0.2
             }
            },
            "type": "barpolar"
           }
          ],
          "carpet": [
           {
            "aaxis": {
             "endlinecolor": "#2a3f5f",
             "gridcolor": "white",
             "linecolor": "white",
             "minorgridcolor": "white",
             "startlinecolor": "#2a3f5f"
            },
            "baxis": {
             "endlinecolor": "#2a3f5f",
             "gridcolor": "white",
             "linecolor": "white",
             "minorgridcolor": "white",
             "startlinecolor": "#2a3f5f"
            },
            "type": "carpet"
           }
          ],
          "choropleth": [
           {
            "colorbar": {
             "outlinewidth": 0,
             "ticks": ""
            },
            "type": "choropleth"
           }
          ],
          "contour": [
           {
            "colorbar": {
             "outlinewidth": 0,
             "ticks": ""
            },
            "colorscale": [
             [
              0,
              "#0d0887"
             ],
             [
              0.1111111111111111,
              "#46039f"
             ],
             [
              0.2222222222222222,
              "#7201a8"
             ],
             [
              0.3333333333333333,
              "#9c179e"
             ],
             [
              0.4444444444444444,
              "#bd3786"
             ],
             [
              0.5555555555555556,
              "#d8576b"
             ],
             [
              0.6666666666666666,
              "#ed7953"
             ],
             [
              0.7777777777777778,
              "#fb9f3a"
             ],
             [
              0.8888888888888888,
              "#fdca26"
             ],
             [
              1,
              "#f0f921"
             ]
            ],
            "type": "contour"
           }
          ],
          "contourcarpet": [
           {
            "colorbar": {
             "outlinewidth": 0,
             "ticks": ""
            },
            "type": "contourcarpet"
           }
          ],
          "heatmap": [
           {
            "colorbar": {
             "outlinewidth": 0,
             "ticks": ""
            },
            "colorscale": [
             [
              0,
              "#0d0887"
             ],
             [
              0.1111111111111111,
              "#46039f"
             ],
             [
              0.2222222222222222,
              "#7201a8"
             ],
             [
              0.3333333333333333,
              "#9c179e"
             ],
             [
              0.4444444444444444,
              "#bd3786"
             ],
             [
              0.5555555555555556,
              "#d8576b"
             ],
             [
              0.6666666666666666,
              "#ed7953"
             ],
             [
              0.7777777777777778,
              "#fb9f3a"
             ],
             [
              0.8888888888888888,
              "#fdca26"
             ],
             [
              1,
              "#f0f921"
             ]
            ],
            "type": "heatmap"
           }
          ],
          "heatmapgl": [
           {
            "colorbar": {
             "outlinewidth": 0,
             "ticks": ""
            },
            "colorscale": [
             [
              0,
              "#0d0887"
             ],
             [
              0.1111111111111111,
              "#46039f"
             ],
             [
              0.2222222222222222,
              "#7201a8"
             ],
             [
              0.3333333333333333,
              "#9c179e"
             ],
             [
              0.4444444444444444,
              "#bd3786"
             ],
             [
              0.5555555555555556,
              "#d8576b"
             ],
             [
              0.6666666666666666,
              "#ed7953"
             ],
             [
              0.7777777777777778,
              "#fb9f3a"
             ],
             [
              0.8888888888888888,
              "#fdca26"
             ],
             [
              1,
              "#f0f921"
             ]
            ],
            "type": "heatmapgl"
           }
          ],
          "histogram": [
           {
            "marker": {
             "pattern": {
              "fillmode": "overlay",
              "size": 10,
              "solidity": 0.2
             }
            },
            "type": "histogram"
           }
          ],
          "histogram2d": [
           {
            "colorbar": {
             "outlinewidth": 0,
             "ticks": ""
            },
            "colorscale": [
             [
              0,
              "#0d0887"
             ],
             [
              0.1111111111111111,
              "#46039f"
             ],
             [
              0.2222222222222222,
              "#7201a8"
             ],
             [
              0.3333333333333333,
              "#9c179e"
             ],
             [
              0.4444444444444444,
              "#bd3786"
             ],
             [
              0.5555555555555556,
              "#d8576b"
             ],
             [
              0.6666666666666666,
              "#ed7953"
             ],
             [
              0.7777777777777778,
              "#fb9f3a"
             ],
             [
              0.8888888888888888,
              "#fdca26"
             ],
             [
              1,
              "#f0f921"
             ]
            ],
            "type": "histogram2d"
           }
          ],
          "histogram2dcontour": [
           {
            "colorbar": {
             "outlinewidth": 0,
             "ticks": ""
            },
            "colorscale": [
             [
              0,
              "#0d0887"
             ],
             [
              0.1111111111111111,
              "#46039f"
             ],
             [
              0.2222222222222222,
              "#7201a8"
             ],
             [
              0.3333333333333333,
              "#9c179e"
             ],
             [
              0.4444444444444444,
              "#bd3786"
             ],
             [
              0.5555555555555556,
              "#d8576b"
             ],
             [
              0.6666666666666666,
              "#ed7953"
             ],
             [
              0.7777777777777778,
              "#fb9f3a"
             ],
             [
              0.8888888888888888,
              "#fdca26"
             ],
             [
              1,
              "#f0f921"
             ]
            ],
            "type": "histogram2dcontour"
           }
          ],
          "mesh3d": [
           {
            "colorbar": {
             "outlinewidth": 0,
             "ticks": ""
            },
            "type": "mesh3d"
           }
          ],
          "parcoords": [
           {
            "line": {
             "colorbar": {
              "outlinewidth": 0,
              "ticks": ""
             }
            },
            "type": "parcoords"
           }
          ],
          "pie": [
           {
            "automargin": true,
            "type": "pie"
           }
          ],
          "scatter": [
           {
            "fillpattern": {
             "fillmode": "overlay",
             "size": 10,
             "solidity": 0.2
            },
            "type": "scatter"
           }
          ],
          "scatter3d": [
           {
            "line": {
             "colorbar": {
              "outlinewidth": 0,
              "ticks": ""
             }
            },
            "marker": {
             "colorbar": {
              "outlinewidth": 0,
              "ticks": ""
             }
            },
            "type": "scatter3d"
           }
          ],
          "scattercarpet": [
           {
            "marker": {
             "colorbar": {
              "outlinewidth": 0,
              "ticks": ""
             }
            },
            "type": "scattercarpet"
           }
          ],
          "scattergeo": [
           {
            "marker": {
             "colorbar": {
              "outlinewidth": 0,
              "ticks": ""
             }
            },
            "type": "scattergeo"
           }
          ],
          "scattergl": [
           {
            "marker": {
             "colorbar": {
              "outlinewidth": 0,
              "ticks": ""
             }
            },
            "type": "scattergl"
           }
          ],
          "scattermapbox": [
           {
            "marker": {
             "colorbar": {
              "outlinewidth": 0,
              "ticks": ""
             }
            },
            "type": "scattermapbox"
           }
          ],
          "scatterpolar": [
           {
            "marker": {
             "colorbar": {
              "outlinewidth": 0,
              "ticks": ""
             }
            },
            "type": "scatterpolar"
           }
          ],
          "scatterpolargl": [
           {
            "marker": {
             "colorbar": {
              "outlinewidth": 0,
              "ticks": ""
             }
            },
            "type": "scatterpolargl"
           }
          ],
          "scatterternary": [
           {
            "marker": {
             "colorbar": {
              "outlinewidth": 0,
              "ticks": ""
             }
            },
            "type": "scatterternary"
           }
          ],
          "surface": [
           {
            "colorbar": {
             "outlinewidth": 0,
             "ticks": ""
            },
            "colorscale": [
             [
              0,
              "#0d0887"
             ],
             [
              0.1111111111111111,
              "#46039f"
             ],
             [
              0.2222222222222222,
              "#7201a8"
             ],
             [
              0.3333333333333333,
              "#9c179e"
             ],
             [
              0.4444444444444444,
              "#bd3786"
             ],
             [
              0.5555555555555556,
              "#d8576b"
             ],
             [
              0.6666666666666666,
              "#ed7953"
             ],
             [
              0.7777777777777778,
              "#fb9f3a"
             ],
             [
              0.8888888888888888,
              "#fdca26"
             ],
             [
              1,
              "#f0f921"
             ]
            ],
            "type": "surface"
           }
          ],
          "table": [
           {
            "cells": {
             "fill": {
              "color": "#EBF0F8"
             },
             "line": {
              "color": "white"
             }
            },
            "header": {
             "fill": {
              "color": "#C8D4E3"
             },
             "line": {
              "color": "white"
             }
            },
            "type": "table"
           }
          ]
         },
         "layout": {
          "annotationdefaults": {
           "arrowcolor": "#2a3f5f",
           "arrowhead": 0,
           "arrowwidth": 1
          },
          "autotypenumbers": "strict",
          "coloraxis": {
           "colorbar": {
            "outlinewidth": 0,
            "ticks": ""
           }
          },
          "colorscale": {
           "diverging": [
            [
             0,
             "#8e0152"
            ],
            [
             0.1,
             "#c51b7d"
            ],
            [
             0.2,
             "#de77ae"
            ],
            [
             0.3,
             "#f1b6da"
            ],
            [
             0.4,
             "#fde0ef"
            ],
            [
             0.5,
             "#f7f7f7"
            ],
            [
             0.6,
             "#e6f5d0"
            ],
            [
             0.7,
             "#b8e186"
            ],
            [
             0.8,
             "#7fbc41"
            ],
            [
             0.9,
             "#4d9221"
            ],
            [
             1,
             "#276419"
            ]
           ],
           "sequential": [
            [
             0,
             "#0d0887"
            ],
            [
             0.1111111111111111,
             "#46039f"
            ],
            [
             0.2222222222222222,
             "#7201a8"
            ],
            [
             0.3333333333333333,
             "#9c179e"
            ],
            [
             0.4444444444444444,
             "#bd3786"
            ],
            [
             0.5555555555555556,
             "#d8576b"
            ],
            [
             0.6666666666666666,
             "#ed7953"
            ],
            [
             0.7777777777777778,
             "#fb9f3a"
            ],
            [
             0.8888888888888888,
             "#fdca26"
            ],
            [
             1,
             "#f0f921"
            ]
           ],
           "sequentialminus": [
            [
             0,
             "#0d0887"
            ],
            [
             0.1111111111111111,
             "#46039f"
            ],
            [
             0.2222222222222222,
             "#7201a8"
            ],
            [
             0.3333333333333333,
             "#9c179e"
            ],
            [
             0.4444444444444444,
             "#bd3786"
            ],
            [
             0.5555555555555556,
             "#d8576b"
            ],
            [
             0.6666666666666666,
             "#ed7953"
            ],
            [
             0.7777777777777778,
             "#fb9f3a"
            ],
            [
             0.8888888888888888,
             "#fdca26"
            ],
            [
             1,
             "#f0f921"
            ]
           ]
          },
          "colorway": [
           "#636efa",
           "#EF553B",
           "#00cc96",
           "#ab63fa",
           "#FFA15A",
           "#19d3f3",
           "#FF6692",
           "#B6E880",
           "#FF97FF",
           "#FECB52"
          ],
          "font": {
           "color": "#2a3f5f"
          },
          "geo": {
           "bgcolor": "white",
           "lakecolor": "white",
           "landcolor": "#E5ECF6",
           "showlakes": true,
           "showland": true,
           "subunitcolor": "white"
          },
          "hoverlabel": {
           "align": "left"
          },
          "hovermode": "closest",
          "mapbox": {
           "style": "light"
          },
          "paper_bgcolor": "white",
          "plot_bgcolor": "#E5ECF6",
          "polar": {
           "angularaxis": {
            "gridcolor": "white",
            "linecolor": "white",
            "ticks": ""
           },
           "bgcolor": "#E5ECF6",
           "radialaxis": {
            "gridcolor": "white",
            "linecolor": "white",
            "ticks": ""
           }
          },
          "scene": {
           "xaxis": {
            "backgroundcolor": "#E5ECF6",
            "gridcolor": "white",
            "gridwidth": 2,
            "linecolor": "white",
            "showbackground": true,
            "ticks": "",
            "zerolinecolor": "white"
           },
           "yaxis": {
            "backgroundcolor": "#E5ECF6",
            "gridcolor": "white",
            "gridwidth": 2,
            "linecolor": "white",
            "showbackground": true,
            "ticks": "",
            "zerolinecolor": "white"
           },
           "zaxis": {
            "backgroundcolor": "#E5ECF6",
            "gridcolor": "white",
            "gridwidth": 2,
            "linecolor": "white",
            "showbackground": true,
            "ticks": "",
            "zerolinecolor": "white"
           }
          },
          "shapedefaults": {
           "line": {
            "color": "#2a3f5f"
           }
          },
          "ternary": {
           "aaxis": {
            "gridcolor": "white",
            "linecolor": "white",
            "ticks": ""
           },
           "baxis": {
            "gridcolor": "white",
            "linecolor": "white",
            "ticks": ""
           },
           "bgcolor": "#E5ECF6",
           "caxis": {
            "gridcolor": "white",
            "linecolor": "white",
            "ticks": ""
           }
          },
          "title": {
           "x": 0.05
          },
          "xaxis": {
           "automargin": true,
           "gridcolor": "white",
           "linecolor": "white",
           "ticks": "",
           "title": {
            "standoff": 15
           },
           "zerolinecolor": "white",
           "zerolinewidth": 2
          },
          "yaxis": {
           "automargin": true,
           "gridcolor": "white",
           "linecolor": "white",
           "ticks": "",
           "title": {
            "standoff": 15
           },
           "zerolinecolor": "white",
           "zerolinewidth": 2
          }
         }
        },
        "title": {
         "text": "Words per song"
        },
        "xaxis": {
         "anchor": "y",
         "domain": [
          0,
          1
         ],
         "title": {
          "text": "n_words"
         }
        },
        "yaxis": {
         "anchor": "x",
         "domain": [
          0,
          1
         ],
         "title": {
          "text": "count"
         }
        }
       }
      }
     },
     "metadata": {},
     "output_type": "display_data"
    }
   ],
   "source": [
    "# distribution words per song\n",
    "fig = px.histogram(song_df, x='n_words', title='Words per song')\n",
    "fig.show()"
   ]
  },
  {
   "cell_type": "code",
   "execution_count": 32,
   "metadata": {},
   "outputs": [],
   "source": [
    "# # create dataframe with lists of artists\n",
    "song_df['words_str'] = song_df['words'].map(lambda lst: ' '.join(lst))\n",
    "\n",
    "# # map text to artists\n",
    "# words_to_artist = {}\n",
    "# for tp in song_df[['artist', 'words_str']].itertuples(index=False):\n",
    "#     artist = tp[0]\n",
    "#     words = tp[1]\n",
    "#     if words in words_to_artist:\n",
    "#         words_to_artist[words].append(artist)\n",
    "#     else:\n",
    "#         words_to_artist[words] = [artist]\n",
    "\n",
    "# # insert list of artists to dataframe\n",
    "# song_df['artists'] = song_df['words_str'].map(words_to_artist)\n",
    "# song_df['duplicates'] = song_df['artists'].map(len) - 1\n",
    "\n",
    "# # convert list of artists to set of artists\n",
    "# song_df['artists'] = song_df['artists'].map(set)\n",
    "# song_df['n_artists'] = song_df['artists'].map(len)\n",
    "\n",
    "# # remove duplicate songs\n",
    "# artist_text_df = song_df.drop_duplicates('words_str')"
   ]
  },
  {
   "cell_type": "markdown",
   "metadata": {},
   "source": [
    "Feature['artist'].value_counts() engineering"
   ]
  },
  {
   "cell_type": "code",
   "execution_count": 33,
   "metadata": {},
   "outputs": [
    {
     "data": {
      "text/html": [
       "<div>\n",
       "<style scoped>\n",
       "    .dataframe tbody tr th:only-of-type {\n",
       "        vertical-align: middle;\n",
       "    }\n",
       "\n",
       "    .dataframe tbody tr th {\n",
       "        vertical-align: top;\n",
       "    }\n",
       "\n",
       "    .dataframe thead th {\n",
       "        text-align: right;\n",
       "    }\n",
       "</style>\n",
       "<table border=\"1\" class=\"dataframe\">\n",
       "  <thead>\n",
       "    <tr style=\"text-align: right;\">\n",
       "      <th></th>\n",
       "      <th>song_name</th>\n",
       "      <th>href</th>\n",
       "      <th>lyric</th>\n",
       "      <th>artist</th>\n",
       "      <th>lines</th>\n",
       "      <th>words</th>\n",
       "      <th>n_words</th>\n",
       "      <th>words_str</th>\n",
       "    </tr>\n",
       "  </thead>\n",
       "  <tbody>\n",
       "    <tr>\n",
       "      <th>0</th>\n",
       "      <td>อะ ไนท์ (A Night)</td>\n",
       "      <td>/music/thailyric/2681</td>\n",
       "      <td>ดึกดื่นคืนใด มองฟ้าไม่เห็นจันทร์ ไม่เจอะเจอกัน...</td>\n",
       "      <td>bodyslam</td>\n",
       "      <td>15</td>\n",
       "      <td>[ดึกดื่น, คืน, ใด, ฟ้า, เดือน, เจอะ, เจอกัน, ร...</td>\n",
       "      <td>86</td>\n",
       "      <td>ดึกดื่น คืน ใด ฟ้า เดือน เจอะ เจอกัน รู้ หาย \\...</td>\n",
       "    </tr>\n",
       "    <tr>\n",
       "      <th>1</th>\n",
       "      <td>ขอบฟ้า</td>\n",
       "      <td>/music/thailyric/2640</td>\n",
       "      <td>ได้แต่เหลียวมองไปสุดฟ้าไกล\\rมันช่างน่าเสียดายท...</td>\n",
       "      <td>bodyslam</td>\n",
       "      <td>29</td>\n",
       "      <td>[เหลียว, ฟ้า, \\r, ช่าง, น่าเสียดาย, ขอบฟ้า, \\r...</td>\n",
       "      <td>92</td>\n",
       "      <td>เหลียว ฟ้า \\r ช่าง น่าเสียดาย ขอบฟ้า \\r\\rจบ เส...</td>\n",
       "    </tr>\n",
       "    <tr>\n",
       "      <th>2</th>\n",
       "      <td>คนที่ถูกรัก</td>\n",
       "      <td>/music/thailyric/2641</td>\n",
       "      <td>ใจ ฉันเคยถูกทิ้งเพียงลำพัง รักใครมาแล้วตั้งกี่...</td>\n",
       "      <td>bodyslam</td>\n",
       "      <td>25</td>\n",
       "      <td>[ใจ, ทิ้ง, เพียงลำพัง, รัก, กี่, \\r, ผิดหวัง, ...</td>\n",
       "      <td>105</td>\n",
       "      <td>ใจ ทิ้ง เพียงลำพัง รัก กี่ \\r ผิดหวัง กี่ รัก ...</td>\n",
       "    </tr>\n",
       "    <tr>\n",
       "      <th>3</th>\n",
       "      <td>ความเชื่อ</td>\n",
       "      <td>/music/thailyric/2644</td>\n",
       "      <td>มันเกือบจะล้มมันเหนื่อยมันล้าเหมือนแทบขาดใจ\\rเ...</td>\n",
       "      <td>bodyslam</td>\n",
       "      <td>45</td>\n",
       "      <td>[ล้ม, เหนื่อย, ล้า, เหมือน, แทบ, ขาดใจ, \\r, เด...</td>\n",
       "      <td>163</td>\n",
       "      <td>ล้ม เหนื่อย ล้า เหมือน แทบ ขาดใจ \\r เดิน ท้อ เ...</td>\n",
       "    </tr>\n",
       "    <tr>\n",
       "      <th>4</th>\n",
       "      <td>ความรักทำให้คนตาบอด</td>\n",
       "      <td>/music/thailyric/2647</td>\n",
       "      <td>รู้ว่ามันไม่สมควร ที่ยังกวนใจเธอ ฉันขอโทษที\\rร...</td>\n",
       "      <td>bodyslam</td>\n",
       "      <td>21</td>\n",
       "      <td>[รู้, สมควร, ยั่ว, ขอโทษ, \\r, รัก, คอย, หวังดี...</td>\n",
       "      <td>65</td>\n",
       "      <td>รู้ สมควร ยั่ว ขอโทษ \\r รัก คอย หวังดี มีสิทธิ...</td>\n",
       "    </tr>\n",
       "    <tr>\n",
       "      <th>...</th>\n",
       "      <td>...</td>\n",
       "      <td>...</td>\n",
       "      <td>...</td>\n",
       "      <td>...</td>\n",
       "      <td>...</td>\n",
       "      <td>...</td>\n",
       "      <td>...</td>\n",
       "      <td>...</td>\n",
       "    </tr>\n",
       "    <tr>\n",
       "      <th>125</th>\n",
       "      <td>ให้เธอหายดี (SuperMom)</td>\n",
       "      <td>/music/thailyric/18442</td>\n",
       "      <td>เจ็บที่ตรงไหน\\rบอกฉันได้ไหม\\rให้ฉันช่วยดู\\r\\rแ...</td>\n",
       "      <td>tilly_birds</td>\n",
       "      <td>50</td>\n",
       "      <td>[ปวด, ตรงไหน, \\r, ไหม, \\r, ดู, \\r\\r, รู้, \\r, ...</td>\n",
       "      <td>91</td>\n",
       "      <td>ปวด ตรงไหน \\r ไหม \\r ดู \\r\\r รู้ \\r \\r \\r\\r ปว...</td>\n",
       "    </tr>\n",
       "    <tr>\n",
       "      <th>126</th>\n",
       "      <td>ให้เธอ</td>\n",
       "      <td>/music/thailyric/19409</td>\n",
       "      <td>ฟ้า และท้องทะเลกับลมนั้นมีอยู่\\rแต่ใครจะรู้ จะ...</td>\n",
       "      <td>tilly_birds</td>\n",
       "      <td>51</td>\n",
       "      <td>[ฟ้า, ท้องทะเล, ลม, \\r, รู้, รู้, ใจ, \\r, ไว, ...</td>\n",
       "      <td>122</td>\n",
       "      <td>ฟ้า ท้องทะเล ลม \\r รู้ รู้ ใจ \\r ไว ั \\r ตะวัน...</td>\n",
       "    </tr>\n",
       "    <tr>\n",
       "      <th>127</th>\n",
       "      <td>อภัย (Broken)</td>\n",
       "      <td>/music/thailyric/15735</td>\n",
       "      <td>ทะเลาะเสียงดัง ข้าวของก็พัง อย่างนี้ประจำ\\rบาง...</td>\n",
       "      <td>tilly_birds</td>\n",
       "      <td>31</td>\n",
       "      <td>[ทะเลาะ, ความดัง, สินค้า, พัง, ประจำ, \\r, ช่วง...</td>\n",
       "      <td>99</td>\n",
       "      <td>ทะเลาะ ความดัง สินค้า พัง ประจำ \\r ช่วงเวลา เส...</td>\n",
       "    </tr>\n",
       "    <tr>\n",
       "      <th>128</th>\n",
       "      <td>อย่าอยู่เลย</td>\n",
       "      <td>/music/thailyric/19971</td>\n",
       "      <td>เธอทนอยู่กับเขามานาน อยู่กับเขามานาน\\rฉันทนดูเ...</td>\n",
       "      <td>tilly_birds</td>\n",
       "      <td>46</td>\n",
       "      <td>[ทน, \\r, ทน, ดู, ทรมาน, ไหว, \\r, ยอมให้, เตือน...</td>\n",
       "      <td>170</td>\n",
       "      <td>ทน \\r ทน ดู ทรมาน ไหว \\r ยอมให้ เตือน กี่ ฟัง ...</td>\n",
       "    </tr>\n",
       "    <tr>\n",
       "      <th>129</th>\n",
       "      <td>อยู่ได้ ได้อยู่ (ineednoone)</td>\n",
       "      <td>/music/thailyric/17190</td>\n",
       "      <td>เจอมากี่ครั้งเรื่องรักๆ เดี๋ยวจะเล่าให้ฟัง\\rชอ...</td>\n",
       "      <td>tilly_birds</td>\n",
       "      <td>57</td>\n",
       "      <td>[เจอ, กี่, เรื่อง, รัก, เดี๋ยว, เล่า, ฟัง, \\r,...</td>\n",
       "      <td>149</td>\n",
       "      <td>เจอ กี่ เรื่อง รัก เดี๋ยว เล่า ฟัง \\r ชอบ คน ช...</td>\n",
       "    </tr>\n",
       "  </tbody>\n",
       "</table>\n",
       "<p>130 rows × 8 columns</p>\n",
       "</div>"
      ],
      "text/plain": [
       "                        song_name                    href  \\\n",
       "0               อะ ไนท์ (A Night)   /music/thailyric/2681   \n",
       "1                          ขอบฟ้า   /music/thailyric/2640   \n",
       "2                     คนที่ถูกรัก   /music/thailyric/2641   \n",
       "3                       ความเชื่อ   /music/thailyric/2644   \n",
       "4             ความรักทำให้คนตาบอด   /music/thailyric/2647   \n",
       "..                            ...                     ...   \n",
       "125        ให้เธอหายดี (SuperMom)  /music/thailyric/18442   \n",
       "126                        ให้เธอ  /music/thailyric/19409   \n",
       "127                 อภัย (Broken)  /music/thailyric/15735   \n",
       "128                   อย่าอยู่เลย  /music/thailyric/19971   \n",
       "129  อยู่ได้ ได้อยู่ (ineednoone)  /music/thailyric/17190   \n",
       "\n",
       "                                                 lyric       artist  lines  \\\n",
       "0    ดึกดื่นคืนใด มองฟ้าไม่เห็นจันทร์ ไม่เจอะเจอกัน...     bodyslam     15   \n",
       "1    ได้แต่เหลียวมองไปสุดฟ้าไกล\\rมันช่างน่าเสียดายท...     bodyslam     29   \n",
       "2    ใจ ฉันเคยถูกทิ้งเพียงลำพัง รักใครมาแล้วตั้งกี่...     bodyslam     25   \n",
       "3    มันเกือบจะล้มมันเหนื่อยมันล้าเหมือนแทบขาดใจ\\rเ...     bodyslam     45   \n",
       "4    รู้ว่ามันไม่สมควร ที่ยังกวนใจเธอ ฉันขอโทษที\\rร...     bodyslam     21   \n",
       "..                                                 ...          ...    ...   \n",
       "125  เจ็บที่ตรงไหน\\rบอกฉันได้ไหม\\rให้ฉันช่วยดู\\r\\rแ...  tilly_birds     50   \n",
       "126  ฟ้า และท้องทะเลกับลมนั้นมีอยู่\\rแต่ใครจะรู้ จะ...  tilly_birds     51   \n",
       "127  ทะเลาะเสียงดัง ข้าวของก็พัง อย่างนี้ประจำ\\rบาง...  tilly_birds     31   \n",
       "128  เธอทนอยู่กับเขามานาน อยู่กับเขามานาน\\rฉันทนดูเ...  tilly_birds     46   \n",
       "129  เจอมากี่ครั้งเรื่องรักๆ เดี๋ยวจะเล่าให้ฟัง\\rชอ...  tilly_birds     57   \n",
       "\n",
       "                                                 words  n_words  \\\n",
       "0    [ดึกดื่น, คืน, ใด, ฟ้า, เดือน, เจอะ, เจอกัน, ร...       86   \n",
       "1    [เหลียว, ฟ้า, \\r, ช่าง, น่าเสียดาย, ขอบฟ้า, \\r...       92   \n",
       "2    [ใจ, ทิ้ง, เพียงลำพัง, รัก, กี่, \\r, ผิดหวัง, ...      105   \n",
       "3    [ล้ม, เหนื่อย, ล้า, เหมือน, แทบ, ขาดใจ, \\r, เด...      163   \n",
       "4    [รู้, สมควร, ยั่ว, ขอโทษ, \\r, รัก, คอย, หวังดี...       65   \n",
       "..                                                 ...      ...   \n",
       "125  [ปวด, ตรงไหน, \\r, ไหม, \\r, ดู, \\r\\r, รู้, \\r, ...       91   \n",
       "126  [ฟ้า, ท้องทะเล, ลม, \\r, รู้, รู้, ใจ, \\r, ไว, ...      122   \n",
       "127  [ทะเลาะ, ความดัง, สินค้า, พัง, ประจำ, \\r, ช่วง...       99   \n",
       "128  [ทน, \\r, ทน, ดู, ทรมาน, ไหว, \\r, ยอมให้, เตือน...      170   \n",
       "129  [เจอ, กี่, เรื่อง, รัก, เดี๋ยว, เล่า, ฟัง, \\r,...      149   \n",
       "\n",
       "                                             words_str  \n",
       "0    ดึกดื่น คืน ใด ฟ้า เดือน เจอะ เจอกัน รู้ หาย \\...  \n",
       "1    เหลียว ฟ้า \\r ช่าง น่าเสียดาย ขอบฟ้า \\r\\rจบ เส...  \n",
       "2    ใจ ทิ้ง เพียงลำพัง รัก กี่ \\r ผิดหวัง กี่ รัก ...  \n",
       "3    ล้ม เหนื่อย ล้า เหมือน แทบ ขาดใจ \\r เดิน ท้อ เ...  \n",
       "4    รู้ สมควร ยั่ว ขอโทษ \\r รัก คอย หวังดี มีสิทธิ...  \n",
       "..                                                 ...  \n",
       "125  ปวด ตรงไหน \\r ไหม \\r ดู \\r\\r รู้ \\r \\r \\r\\r ปว...  \n",
       "126  ฟ้า ท้องทะเล ลม \\r รู้ รู้ ใจ \\r ไว ั \\r ตะวัน...  \n",
       "127  ทะเลาะ ความดัง สินค้า พัง ประจำ \\r ช่วงเวลา เส...  \n",
       "128  ทน \\r ทน ดู ทรมาน ไหว \\r ยอมให้ เตือน กี่ ฟัง ...  \n",
       "129  เจอ กี่ เรื่อง รัก เดี๋ยว เล่า ฟัง \\r ชอบ คน ช...  \n",
       "\n",
       "[130 rows x 8 columns]"
      ]
     },
     "execution_count": 33,
     "metadata": {},
     "output_type": "execute_result"
    }
   ],
   "source": [
    "song_df"
   ]
  },
  {
   "cell_type": "markdown",
   "metadata": {},
   "source": [
    "## Feature engineering"
   ]
  },
  {
   "cell_type": "markdown",
   "metadata": {},
   "source": [
    "### Number of words"
   ]
  },
  {
   "cell_type": "code",
   "execution_count": 34,
   "metadata": {},
   "outputs": [
    {
     "name": "stdout",
     "output_type": "stream",
     "text": [
      "Total number of songs: 130\n"
     ]
    },
    {
     "data": {
      "text/html": [
       "<div>\n",
       "<style scoped>\n",
       "    .dataframe tbody tr th:only-of-type {\n",
       "        vertical-align: middle;\n",
       "    }\n",
       "\n",
       "    .dataframe tbody tr th {\n",
       "        vertical-align: top;\n",
       "    }\n",
       "\n",
       "    .dataframe thead th {\n",
       "        text-align: right;\n",
       "    }\n",
       "</style>\n",
       "<table border=\"1\" class=\"dataframe\">\n",
       "  <thead>\n",
       "    <tr style=\"text-align: right;\">\n",
       "      <th></th>\n",
       "      <th>artist</th>\n",
       "      <th>song_name</th>\n",
       "    </tr>\n",
       "  </thead>\n",
       "  <tbody>\n",
       "    <tr>\n",
       "      <th>0</th>\n",
       "      <td>bodyslam</td>\n",
       "      <td>66</td>\n",
       "    </tr>\n",
       "    <tr>\n",
       "      <th>1</th>\n",
       "      <td>nont_tanont</td>\n",
       "      <td>36</td>\n",
       "    </tr>\n",
       "    <tr>\n",
       "      <th>2</th>\n",
       "      <td>tilly_birds</td>\n",
       "      <td>28</td>\n",
       "    </tr>\n",
       "  </tbody>\n",
       "</table>\n",
       "</div>"
      ],
      "text/plain": [
       "        artist  song_name\n",
       "0     bodyslam         66\n",
       "1  nont_tanont         36\n",
       "2  tilly_birds         28"
      ]
     },
     "execution_count": 34,
     "metadata": {},
     "output_type": "execute_result"
    }
   ],
   "source": [
    "n_artist = 4\n",
    "random.seed(0)\n",
    "\n",
    "artist_select = random.choices(song_df['artist'].unique(), k=n_artist)\n",
    "\n",
    "song_filter_df = song_df.loc[song_df['artist'].isin(artist_select)]\n",
    "print('Total number of songs: {}'.format(len(song_filter_df)))\n",
    "song_filter_df.groupby('artist')[['song_name']].count().reset_index().rename(columns={'song':'songs'})"
   ]
  },
  {
   "cell_type": "code",
   "execution_count": 35,
   "metadata": {},
   "outputs": [
    {
     "data": {
      "application/vnd.plotly.v1+json": {
       "config": {
        "plotlyServerURL": "https://plot.ly"
       },
       "data": [
        {
         "alignmentgroup": "True",
         "hovertemplate": "artist=%{x}<br>n_words=%{y}<extra></extra>",
         "legendgroup": "",
         "marker": {
          "color": "#636efa"
         },
         "name": "",
         "notched": false,
         "offsetgroup": "",
         "orientation": "v",
         "showlegend": false,
         "type": "box",
         "x": [
          "bodyslam",
          "bodyslam",
          "bodyslam",
          "bodyslam",
          "bodyslam",
          "bodyslam",
          "bodyslam",
          "bodyslam",
          "bodyslam",
          "bodyslam",
          "bodyslam",
          "bodyslam",
          "bodyslam",
          "bodyslam",
          "bodyslam",
          "bodyslam",
          "bodyslam",
          "bodyslam",
          "bodyslam",
          "bodyslam",
          "bodyslam",
          "bodyslam",
          "bodyslam",
          "bodyslam",
          "bodyslam",
          "bodyslam",
          "bodyslam",
          "bodyslam",
          "bodyslam",
          "bodyslam",
          "bodyslam",
          "bodyslam",
          "bodyslam",
          "bodyslam",
          "bodyslam",
          "bodyslam",
          "bodyslam",
          "bodyslam",
          "bodyslam",
          "bodyslam",
          "bodyslam",
          "bodyslam",
          "bodyslam",
          "bodyslam",
          "bodyslam",
          "bodyslam",
          "bodyslam",
          "bodyslam",
          "bodyslam",
          "bodyslam",
          "bodyslam",
          "bodyslam",
          "bodyslam",
          "bodyslam",
          "bodyslam",
          "bodyslam",
          "bodyslam",
          "bodyslam",
          "bodyslam",
          "bodyslam",
          "bodyslam",
          "bodyslam",
          "bodyslam",
          "bodyslam",
          "bodyslam",
          "bodyslam",
          "nont_tanont",
          "nont_tanont",
          "nont_tanont",
          "nont_tanont",
          "nont_tanont",
          "nont_tanont",
          "nont_tanont",
          "nont_tanont",
          "nont_tanont",
          "nont_tanont",
          "nont_tanont",
          "nont_tanont",
          "nont_tanont",
          "nont_tanont",
          "nont_tanont",
          "nont_tanont",
          "nont_tanont",
          "nont_tanont",
          "nont_tanont",
          "nont_tanont",
          "nont_tanont",
          "nont_tanont",
          "nont_tanont",
          "nont_tanont",
          "nont_tanont",
          "nont_tanont",
          "nont_tanont",
          "nont_tanont",
          "nont_tanont",
          "nont_tanont",
          "nont_tanont",
          "nont_tanont",
          "nont_tanont",
          "nont_tanont",
          "nont_tanont",
          "nont_tanont",
          "tilly_birds",
          "tilly_birds",
          "tilly_birds",
          "tilly_birds",
          "tilly_birds",
          "tilly_birds",
          "tilly_birds",
          "tilly_birds",
          "tilly_birds",
          "tilly_birds",
          "tilly_birds",
          "tilly_birds",
          "tilly_birds",
          "tilly_birds",
          "tilly_birds",
          "tilly_birds",
          "tilly_birds",
          "tilly_birds",
          "tilly_birds",
          "tilly_birds",
          "tilly_birds",
          "tilly_birds",
          "tilly_birds",
          "tilly_birds",
          "tilly_birds",
          "tilly_birds",
          "tilly_birds",
          "tilly_birds"
         ],
         "x0": " ",
         "xaxis": "x",
         "y": [
          86,
          92,
          105,
          163,
          65,
          69,
          103,
          89,
          113,
          109,
          102,
          179,
          112,
          140,
          150,
          105,
          126,
          135,
          86,
          62,
          122,
          94,
          72,
          64,
          114,
          75,
          92,
          157,
          144,
          175,
          258,
          90,
          145,
          84,
          145,
          163,
          146,
          199,
          137,
          224,
          175,
          120,
          165,
          158,
          73,
          77,
          68,
          111,
          67,
          131,
          103,
          144,
          92,
          182,
          153,
          129,
          205,
          215,
          115,
          188,
          119,
          140,
          137,
          118,
          152,
          80,
          122,
          139,
          215,
          239,
          232,
          107,
          126,
          87,
          141,
          171,
          108,
          132,
          121,
          118,
          134,
          124,
          115,
          158,
          86,
          96,
          101,
          103,
          154,
          212,
          119,
          179,
          150,
          189,
          90,
          128,
          109,
          86,
          186,
          219,
          146,
          92,
          109,
          102,
          113,
          84,
          127,
          101,
          198,
          131,
          123,
          257,
          119,
          79,
          200,
          152,
          166,
          115,
          234,
          153,
          207,
          133,
          132,
          188,
          189,
          91,
          122,
          99,
          170,
          149
         ],
         "y0": " ",
         "yaxis": "y"
        }
       ],
       "layout": {
        "boxmode": "group",
        "legend": {
         "tracegroupgap": 0
        },
        "template": {
         "data": {
          "bar": [
           {
            "error_x": {
             "color": "#2a3f5f"
            },
            "error_y": {
             "color": "#2a3f5f"
            },
            "marker": {
             "line": {
              "color": "#E5ECF6",
              "width": 0.5
             },
             "pattern": {
              "fillmode": "overlay",
              "size": 10,
              "solidity": 0.2
             }
            },
            "type": "bar"
           }
          ],
          "barpolar": [
           {
            "marker": {
             "line": {
              "color": "#E5ECF6",
              "width": 0.5
             },
             "pattern": {
              "fillmode": "overlay",
              "size": 10,
              "solidity": 0.2
             }
            },
            "type": "barpolar"
           }
          ],
          "carpet": [
           {
            "aaxis": {
             "endlinecolor": "#2a3f5f",
             "gridcolor": "white",
             "linecolor": "white",
             "minorgridcolor": "white",
             "startlinecolor": "#2a3f5f"
            },
            "baxis": {
             "endlinecolor": "#2a3f5f",
             "gridcolor": "white",
             "linecolor": "white",
             "minorgridcolor": "white",
             "startlinecolor": "#2a3f5f"
            },
            "type": "carpet"
           }
          ],
          "choropleth": [
           {
            "colorbar": {
             "outlinewidth": 0,
             "ticks": ""
            },
            "type": "choropleth"
           }
          ],
          "contour": [
           {
            "colorbar": {
             "outlinewidth": 0,
             "ticks": ""
            },
            "colorscale": [
             [
              0,
              "#0d0887"
             ],
             [
              0.1111111111111111,
              "#46039f"
             ],
             [
              0.2222222222222222,
              "#7201a8"
             ],
             [
              0.3333333333333333,
              "#9c179e"
             ],
             [
              0.4444444444444444,
              "#bd3786"
             ],
             [
              0.5555555555555556,
              "#d8576b"
             ],
             [
              0.6666666666666666,
              "#ed7953"
             ],
             [
              0.7777777777777778,
              "#fb9f3a"
             ],
             [
              0.8888888888888888,
              "#fdca26"
             ],
             [
              1,
              "#f0f921"
             ]
            ],
            "type": "contour"
           }
          ],
          "contourcarpet": [
           {
            "colorbar": {
             "outlinewidth": 0,
             "ticks": ""
            },
            "type": "contourcarpet"
           }
          ],
          "heatmap": [
           {
            "colorbar": {
             "outlinewidth": 0,
             "ticks": ""
            },
            "colorscale": [
             [
              0,
              "#0d0887"
             ],
             [
              0.1111111111111111,
              "#46039f"
             ],
             [
              0.2222222222222222,
              "#7201a8"
             ],
             [
              0.3333333333333333,
              "#9c179e"
             ],
             [
              0.4444444444444444,
              "#bd3786"
             ],
             [
              0.5555555555555556,
              "#d8576b"
             ],
             [
              0.6666666666666666,
              "#ed7953"
             ],
             [
              0.7777777777777778,
              "#fb9f3a"
             ],
             [
              0.8888888888888888,
              "#fdca26"
             ],
             [
              1,
              "#f0f921"
             ]
            ],
            "type": "heatmap"
           }
          ],
          "heatmapgl": [
           {
            "colorbar": {
             "outlinewidth": 0,
             "ticks": ""
            },
            "colorscale": [
             [
              0,
              "#0d0887"
             ],
             [
              0.1111111111111111,
              "#46039f"
             ],
             [
              0.2222222222222222,
              "#7201a8"
             ],
             [
              0.3333333333333333,
              "#9c179e"
             ],
             [
              0.4444444444444444,
              "#bd3786"
             ],
             [
              0.5555555555555556,
              "#d8576b"
             ],
             [
              0.6666666666666666,
              "#ed7953"
             ],
             [
              0.7777777777777778,
              "#fb9f3a"
             ],
             [
              0.8888888888888888,
              "#fdca26"
             ],
             [
              1,
              "#f0f921"
             ]
            ],
            "type": "heatmapgl"
           }
          ],
          "histogram": [
           {
            "marker": {
             "pattern": {
              "fillmode": "overlay",
              "size": 10,
              "solidity": 0.2
             }
            },
            "type": "histogram"
           }
          ],
          "histogram2d": [
           {
            "colorbar": {
             "outlinewidth": 0,
             "ticks": ""
            },
            "colorscale": [
             [
              0,
              "#0d0887"
             ],
             [
              0.1111111111111111,
              "#46039f"
             ],
             [
              0.2222222222222222,
              "#7201a8"
             ],
             [
              0.3333333333333333,
              "#9c179e"
             ],
             [
              0.4444444444444444,
              "#bd3786"
             ],
             [
              0.5555555555555556,
              "#d8576b"
             ],
             [
              0.6666666666666666,
              "#ed7953"
             ],
             [
              0.7777777777777778,
              "#fb9f3a"
             ],
             [
              0.8888888888888888,
              "#fdca26"
             ],
             [
              1,
              "#f0f921"
             ]
            ],
            "type": "histogram2d"
           }
          ],
          "histogram2dcontour": [
           {
            "colorbar": {
             "outlinewidth": 0,
             "ticks": ""
            },
            "colorscale": [
             [
              0,
              "#0d0887"
             ],
             [
              0.1111111111111111,
              "#46039f"
             ],
             [
              0.2222222222222222,
              "#7201a8"
             ],
             [
              0.3333333333333333,
              "#9c179e"
             ],
             [
              0.4444444444444444,
              "#bd3786"
             ],
             [
              0.5555555555555556,
              "#d8576b"
             ],
             [
              0.6666666666666666,
              "#ed7953"
             ],
             [
              0.7777777777777778,
              "#fb9f3a"
             ],
             [
              0.8888888888888888,
              "#fdca26"
             ],
             [
              1,
              "#f0f921"
             ]
            ],
            "type": "histogram2dcontour"
           }
          ],
          "mesh3d": [
           {
            "colorbar": {
             "outlinewidth": 0,
             "ticks": ""
            },
            "type": "mesh3d"
           }
          ],
          "parcoords": [
           {
            "line": {
             "colorbar": {
              "outlinewidth": 0,
              "ticks": ""
             }
            },
            "type": "parcoords"
           }
          ],
          "pie": [
           {
            "automargin": true,
            "type": "pie"
           }
          ],
          "scatter": [
           {
            "fillpattern": {
             "fillmode": "overlay",
             "size": 10,
             "solidity": 0.2
            },
            "type": "scatter"
           }
          ],
          "scatter3d": [
           {
            "line": {
             "colorbar": {
              "outlinewidth": 0,
              "ticks": ""
             }
            },
            "marker": {
             "colorbar": {
              "outlinewidth": 0,
              "ticks": ""
             }
            },
            "type": "scatter3d"
           }
          ],
          "scattercarpet": [
           {
            "marker": {
             "colorbar": {
              "outlinewidth": 0,
              "ticks": ""
             }
            },
            "type": "scattercarpet"
           }
          ],
          "scattergeo": [
           {
            "marker": {
             "colorbar": {
              "outlinewidth": 0,
              "ticks": ""
             }
            },
            "type": "scattergeo"
           }
          ],
          "scattergl": [
           {
            "marker": {
             "colorbar": {
              "outlinewidth": 0,
              "ticks": ""
             }
            },
            "type": "scattergl"
           }
          ],
          "scattermapbox": [
           {
            "marker": {
             "colorbar": {
              "outlinewidth": 0,
              "ticks": ""
             }
            },
            "type": "scattermapbox"
           }
          ],
          "scatterpolar": [
           {
            "marker": {
             "colorbar": {
              "outlinewidth": 0,
              "ticks": ""
             }
            },
            "type": "scatterpolar"
           }
          ],
          "scatterpolargl": [
           {
            "marker": {
             "colorbar": {
              "outlinewidth": 0,
              "ticks": ""
             }
            },
            "type": "scatterpolargl"
           }
          ],
          "scatterternary": [
           {
            "marker": {
             "colorbar": {
              "outlinewidth": 0,
              "ticks": ""
             }
            },
            "type": "scatterternary"
           }
          ],
          "surface": [
           {
            "colorbar": {
             "outlinewidth": 0,
             "ticks": ""
            },
            "colorscale": [
             [
              0,
              "#0d0887"
             ],
             [
              0.1111111111111111,
              "#46039f"
             ],
             [
              0.2222222222222222,
              "#7201a8"
             ],
             [
              0.3333333333333333,
              "#9c179e"
             ],
             [
              0.4444444444444444,
              "#bd3786"
             ],
             [
              0.5555555555555556,
              "#d8576b"
             ],
             [
              0.6666666666666666,
              "#ed7953"
             ],
             [
              0.7777777777777778,
              "#fb9f3a"
             ],
             [
              0.8888888888888888,
              "#fdca26"
             ],
             [
              1,
              "#f0f921"
             ]
            ],
            "type": "surface"
           }
          ],
          "table": [
           {
            "cells": {
             "fill": {
              "color": "#EBF0F8"
             },
             "line": {
              "color": "white"
             }
            },
            "header": {
             "fill": {
              "color": "#C8D4E3"
             },
             "line": {
              "color": "white"
             }
            },
            "type": "table"
           }
          ]
         },
         "layout": {
          "annotationdefaults": {
           "arrowcolor": "#2a3f5f",
           "arrowhead": 0,
           "arrowwidth": 1
          },
          "autotypenumbers": "strict",
          "coloraxis": {
           "colorbar": {
            "outlinewidth": 0,
            "ticks": ""
           }
          },
          "colorscale": {
           "diverging": [
            [
             0,
             "#8e0152"
            ],
            [
             0.1,
             "#c51b7d"
            ],
            [
             0.2,
             "#de77ae"
            ],
            [
             0.3,
             "#f1b6da"
            ],
            [
             0.4,
             "#fde0ef"
            ],
            [
             0.5,
             "#f7f7f7"
            ],
            [
             0.6,
             "#e6f5d0"
            ],
            [
             0.7,
             "#b8e186"
            ],
            [
             0.8,
             "#7fbc41"
            ],
            [
             0.9,
             "#4d9221"
            ],
            [
             1,
             "#276419"
            ]
           ],
           "sequential": [
            [
             0,
             "#0d0887"
            ],
            [
             0.1111111111111111,
             "#46039f"
            ],
            [
             0.2222222222222222,
             "#7201a8"
            ],
            [
             0.3333333333333333,
             "#9c179e"
            ],
            [
             0.4444444444444444,
             "#bd3786"
            ],
            [
             0.5555555555555556,
             "#d8576b"
            ],
            [
             0.6666666666666666,
             "#ed7953"
            ],
            [
             0.7777777777777778,
             "#fb9f3a"
            ],
            [
             0.8888888888888888,
             "#fdca26"
            ],
            [
             1,
             "#f0f921"
            ]
           ],
           "sequentialminus": [
            [
             0,
             "#0d0887"
            ],
            [
             0.1111111111111111,
             "#46039f"
            ],
            [
             0.2222222222222222,
             "#7201a8"
            ],
            [
             0.3333333333333333,
             "#9c179e"
            ],
            [
             0.4444444444444444,
             "#bd3786"
            ],
            [
             0.5555555555555556,
             "#d8576b"
            ],
            [
             0.6666666666666666,
             "#ed7953"
            ],
            [
             0.7777777777777778,
             "#fb9f3a"
            ],
            [
             0.8888888888888888,
             "#fdca26"
            ],
            [
             1,
             "#f0f921"
            ]
           ]
          },
          "colorway": [
           "#636efa",
           "#EF553B",
           "#00cc96",
           "#ab63fa",
           "#FFA15A",
           "#19d3f3",
           "#FF6692",
           "#B6E880",
           "#FF97FF",
           "#FECB52"
          ],
          "font": {
           "color": "#2a3f5f"
          },
          "geo": {
           "bgcolor": "white",
           "lakecolor": "white",
           "landcolor": "#E5ECF6",
           "showlakes": true,
           "showland": true,
           "subunitcolor": "white"
          },
          "hoverlabel": {
           "align": "left"
          },
          "hovermode": "closest",
          "mapbox": {
           "style": "light"
          },
          "paper_bgcolor": "white",
          "plot_bgcolor": "#E5ECF6",
          "polar": {
           "angularaxis": {
            "gridcolor": "white",
            "linecolor": "white",
            "ticks": ""
           },
           "bgcolor": "#E5ECF6",
           "radialaxis": {
            "gridcolor": "white",
            "linecolor": "white",
            "ticks": ""
           }
          },
          "scene": {
           "xaxis": {
            "backgroundcolor": "#E5ECF6",
            "gridcolor": "white",
            "gridwidth": 2,
            "linecolor": "white",
            "showbackground": true,
            "ticks": "",
            "zerolinecolor": "white"
           },
           "yaxis": {
            "backgroundcolor": "#E5ECF6",
            "gridcolor": "white",
            "gridwidth": 2,
            "linecolor": "white",
            "showbackground": true,
            "ticks": "",
            "zerolinecolor": "white"
           },
           "zaxis": {
            "backgroundcolor": "#E5ECF6",
            "gridcolor": "white",
            "gridwidth": 2,
            "linecolor": "white",
            "showbackground": true,
            "ticks": "",
            "zerolinecolor": "white"
           }
          },
          "shapedefaults": {
           "line": {
            "color": "#2a3f5f"
           }
          },
          "ternary": {
           "aaxis": {
            "gridcolor": "white",
            "linecolor": "white",
            "ticks": ""
           },
           "baxis": {
            "gridcolor": "white",
            "linecolor": "white",
            "ticks": ""
           },
           "bgcolor": "#E5ECF6",
           "caxis": {
            "gridcolor": "white",
            "linecolor": "white",
            "ticks": ""
           }
          },
          "title": {
           "x": 0.05
          },
          "xaxis": {
           "automargin": true,
           "gridcolor": "white",
           "linecolor": "white",
           "ticks": "",
           "title": {
            "standoff": 15
           },
           "zerolinecolor": "white",
           "zerolinewidth": 2
          },
          "yaxis": {
           "automargin": true,
           "gridcolor": "white",
           "linecolor": "white",
           "ticks": "",
           "title": {
            "standoff": 15
           },
           "zerolinecolor": "white",
           "zerolinewidth": 2
          }
         }
        },
        "title": {
         "text": "Word count per song by artist"
        },
        "xaxis": {
         "anchor": "y",
         "domain": [
          0,
          1
         ],
         "title": {
          "text": "artist"
         }
        },
        "yaxis": {
         "anchor": "x",
         "domain": [
          0,
          1
         ],
         "title": {
          "text": "n_words"
         }
        }
       }
      }
     },
     "metadata": {},
     "output_type": "display_data"
    }
   ],
   "source": [
    "fig = px.box(song_filter_df, x='artist', y='n_words', title='Word count per song by artist')\n",
    "fig.show()"
   ]
  },
  {
   "cell_type": "markdown",
   "metadata": {},
   "source": [
    "### Repeated words['unique_words_ratio'])song_filter_df.join("
   ]
  },
  {
   "cell_type": "code",
   "execution_count": 36,
   "metadata": {},
   "outputs": [],
   "source": [
    "# number of unique stems\n",
    "song_df['n_unique_words'] = song_df['words'].map(lambda lst: len(set(lst)))\n",
    "\n",
    "# ratio of unique stems\n",
    "song_df['unique_words_ratio'] = song_df['n_unique_words'] / song_df['n_words']\n",
    "\n",
    "# attach column to selected artists\n",
    "song_filter_df = song_filter_df.join(song_df['unique_words_ratio'])"
   ]
  },
  {
   "cell_type": "code",
   "execution_count": 37,
   "metadata": {},
   "outputs": [
    {
     "data": {
      "application/vnd.plotly.v1+json": {
       "config": {
        "plotlyServerURL": "https://plot.ly"
       },
       "data": [
        {
         "alignmentgroup": "True",
         "hovertemplate": "artist=%{x}<br>unique_words_ratio=%{y}<extra></extra>",
         "legendgroup": "",
         "marker": {
          "color": "#636efa"
         },
         "name": "",
         "notched": false,
         "offsetgroup": "",
         "orientation": "v",
         "showlegend": false,
         "type": "box",
         "x": [
          "bodyslam",
          "bodyslam",
          "bodyslam",
          "bodyslam",
          "bodyslam",
          "bodyslam",
          "bodyslam",
          "bodyslam",
          "bodyslam",
          "bodyslam",
          "bodyslam",
          "bodyslam",
          "bodyslam",
          "bodyslam",
          "bodyslam",
          "bodyslam",
          "bodyslam",
          "bodyslam",
          "bodyslam",
          "bodyslam",
          "bodyslam",
          "bodyslam",
          "bodyslam",
          "bodyslam",
          "bodyslam",
          "bodyslam",
          "bodyslam",
          "bodyslam",
          "bodyslam",
          "bodyslam",
          "bodyslam",
          "bodyslam",
          "bodyslam",
          "bodyslam",
          "bodyslam",
          "bodyslam",
          "bodyslam",
          "bodyslam",
          "bodyslam",
          "bodyslam",
          "bodyslam",
          "bodyslam",
          "bodyslam",
          "bodyslam",
          "bodyslam",
          "bodyslam",
          "bodyslam",
          "bodyslam",
          "bodyslam",
          "bodyslam",
          "bodyslam",
          "bodyslam",
          "bodyslam",
          "bodyslam",
          "bodyslam",
          "bodyslam",
          "bodyslam",
          "bodyslam",
          "bodyslam",
          "bodyslam",
          "bodyslam",
          "bodyslam",
          "bodyslam",
          "bodyslam",
          "bodyslam",
          "bodyslam",
          "nont_tanont",
          "nont_tanont",
          "nont_tanont",
          "nont_tanont",
          "nont_tanont",
          "nont_tanont",
          "nont_tanont",
          "nont_tanont",
          "nont_tanont",
          "nont_tanont",
          "nont_tanont",
          "nont_tanont",
          "nont_tanont",
          "nont_tanont",
          "nont_tanont",
          "nont_tanont",
          "nont_tanont",
          "nont_tanont",
          "nont_tanont",
          "nont_tanont",
          "nont_tanont",
          "nont_tanont",
          "nont_tanont",
          "nont_tanont",
          "nont_tanont",
          "nont_tanont",
          "nont_tanont",
          "nont_tanont",
          "nont_tanont",
          "nont_tanont",
          "nont_tanont",
          "nont_tanont",
          "nont_tanont",
          "nont_tanont",
          "nont_tanont",
          "nont_tanont",
          "tilly_birds",
          "tilly_birds",
          "tilly_birds",
          "tilly_birds",
          "tilly_birds",
          "tilly_birds",
          "tilly_birds",
          "tilly_birds",
          "tilly_birds",
          "tilly_birds",
          "tilly_birds",
          "tilly_birds",
          "tilly_birds",
          "tilly_birds",
          "tilly_birds",
          "tilly_birds",
          "tilly_birds",
          "tilly_birds",
          "tilly_birds",
          "tilly_birds",
          "tilly_birds",
          "tilly_birds",
          "tilly_birds",
          "tilly_birds",
          "tilly_birds",
          "tilly_birds",
          "tilly_birds",
          "tilly_birds"
         ],
         "x0": " ",
         "xaxis": "x",
         "y": [
          0.5232558139534884,
          0.43478260869565216,
          0.34285714285714286,
          0.3067484662576687,
          0.47692307692307695,
          0.5507246376811594,
          0.32038834951456313,
          0.4157303370786517,
          0.2831858407079646,
          0.3944954128440367,
          0.3333333333333333,
          0.5083798882681564,
          0.45535714285714285,
          0.40714285714285714,
          0.54,
          0.41904761904761906,
          0.42063492063492064,
          0.26666666666666666,
          0.5232558139534884,
          0.3387096774193548,
          0.36885245901639346,
          0.40425531914893614,
          0.4166666666666667,
          0.421875,
          0.4473684210526316,
          0.56,
          0.4891304347826087,
          0.40764331210191085,
          0.3402777777777778,
          0.30857142857142855,
          0.29069767441860467,
          0.32222222222222224,
          0.4068965517241379,
          0.35714285714285715,
          0.3310344827586207,
          0.39263803680981596,
          0.3767123287671233,
          0.32160804020100503,
          0.35766423357664234,
          0.5044642857142857,
          0.3485714285714286,
          0.4083333333333333,
          0.42424242424242425,
          0.4810126582278481,
          0.4794520547945205,
          0.36363636363636365,
          0.45588235294117646,
          0.35135135135135137,
          0.5223880597014925,
          0.25190839694656486,
          0.42718446601941745,
          0.2916666666666667,
          0.5652173913043478,
          0.33516483516483514,
          0.37254901960784315,
          0.46511627906976744,
          0.5219512195121951,
          0.37209302325581395,
          0.4,
          0.3829787234042553,
          0.4369747899159664,
          0.4642857142857143,
          0.4233576642335766,
          0.4322033898305085,
          0.375,
          0.3375,
          0.45081967213114754,
          0.302158273381295,
          0.44651162790697674,
          0.26778242677824265,
          0.27586206896551724,
          0.40186915887850466,
          0.3412698412698413,
          0.47126436781609193,
          0.3120567375886525,
          0.34502923976608185,
          0.5925925925925926,
          0.32575757575757575,
          0.35537190082644626,
          0.2796610169491525,
          0.27611940298507465,
          0.2661290322580645,
          0.2782608695652174,
          0.25949367088607594,
          0.4069767441860465,
          0.3333333333333333,
          0.38613861386138615,
          0.34951456310679613,
          0.487012987012987,
          0.20754716981132076,
          0.3445378151260504,
          0.24581005586592178,
          0.26666666666666666,
          0.291005291005291,
          0.28888888888888886,
          0.2734375,
          0.30275229357798167,
          0.5232558139534884,
          0.3172043010752688,
          0.2146118721461187,
          0.4863013698630137,
          0.3695652173913043,
          0.3394495412844037,
          0.4117647058823529,
          0.40707964601769914,
          0.2976190476190476,
          0.3464566929133858,
          0.36633663366336633,
          0.3282828282828283,
          0.26717557251908397,
          0.2764227642276423,
          0.3151750972762646,
          0.2857142857142857,
          0.3670886075949367,
          0.23,
          0.3881578947368421,
          0.28313253012048195,
          0.40869565217391307,
          0.2222222222222222,
          0.27450980392156865,
          0.3140096618357488,
          0.39849624060150374,
          0.23484848484848486,
          0.44148936170212766,
          0.21693121693121692,
          0.31868131868131866,
          0.2540983606557377,
          0.3838383838383838,
          0.36470588235294116,
          0.3087248322147651
         ],
         "y0": " ",
         "yaxis": "y"
        }
       ],
       "layout": {
        "boxmode": "group",
        "legend": {
         "tracegroupgap": 0
        },
        "template": {
         "data": {
          "bar": [
           {
            "error_x": {
             "color": "#2a3f5f"
            },
            "error_y": {
             "color": "#2a3f5f"
            },
            "marker": {
             "line": {
              "color": "#E5ECF6",
              "width": 0.5
             },
             "pattern": {
              "fillmode": "overlay",
              "size": 10,
              "solidity": 0.2
             }
            },
            "type": "bar"
           }
          ],
          "barpolar": [
           {
            "marker": {
             "line": {
              "color": "#E5ECF6",
              "width": 0.5
             },
             "pattern": {
              "fillmode": "overlay",
              "size": 10,
              "solidity": 0.2
             }
            },
            "type": "barpolar"
           }
          ],
          "carpet": [
           {
            "aaxis": {
             "endlinecolor": "#2a3f5f",
             "gridcolor": "white",
             "linecolor": "white",
             "minorgridcolor": "white",
             "startlinecolor": "#2a3f5f"
            },
            "baxis": {
             "endlinecolor": "#2a3f5f",
             "gridcolor": "white",
             "linecolor": "white",
             "minorgridcolor": "white",
             "startlinecolor": "#2a3f5f"
            },
            "type": "carpet"
           }
          ],
          "choropleth": [
           {
            "colorbar": {
             "outlinewidth": 0,
             "ticks": ""
            },
            "type": "choropleth"
           }
          ],
          "contour": [
           {
            "colorbar": {
             "outlinewidth": 0,
             "ticks": ""
            },
            "colorscale": [
             [
              0,
              "#0d0887"
             ],
             [
              0.1111111111111111,
              "#46039f"
             ],
             [
              0.2222222222222222,
              "#7201a8"
             ],
             [
              0.3333333333333333,
              "#9c179e"
             ],
             [
              0.4444444444444444,
              "#bd3786"
             ],
             [
              0.5555555555555556,
              "#d8576b"
             ],
             [
              0.6666666666666666,
              "#ed7953"
             ],
             [
              0.7777777777777778,
              "#fb9f3a"
             ],
             [
              0.8888888888888888,
              "#fdca26"
             ],
             [
              1,
              "#f0f921"
             ]
            ],
            "type": "contour"
           }
          ],
          "contourcarpet": [
           {
            "colorbar": {
             "outlinewidth": 0,
             "ticks": ""
            },
            "type": "contourcarpet"
           }
          ],
          "heatmap": [
           {
            "colorbar": {
             "outlinewidth": 0,
             "ticks": ""
            },
            "colorscale": [
             [
              0,
              "#0d0887"
             ],
             [
              0.1111111111111111,
              "#46039f"
             ],
             [
              0.2222222222222222,
              "#7201a8"
             ],
             [
              0.3333333333333333,
              "#9c179e"
             ],
             [
              0.4444444444444444,
              "#bd3786"
             ],
             [
              0.5555555555555556,
              "#d8576b"
             ],
             [
              0.6666666666666666,
              "#ed7953"
             ],
             [
              0.7777777777777778,
              "#fb9f3a"
             ],
             [
              0.8888888888888888,
              "#fdca26"
             ],
             [
              1,
              "#f0f921"
             ]
            ],
            "type": "heatmap"
           }
          ],
          "heatmapgl": [
           {
            "colorbar": {
             "outlinewidth": 0,
             "ticks": ""
            },
            "colorscale": [
             [
              0,
              "#0d0887"
             ],
             [
              0.1111111111111111,
              "#46039f"
             ],
             [
              0.2222222222222222,
              "#7201a8"
             ],
             [
              0.3333333333333333,
              "#9c179e"
             ],
             [
              0.4444444444444444,
              "#bd3786"
             ],
             [
              0.5555555555555556,
              "#d8576b"
             ],
             [
              0.6666666666666666,
              "#ed7953"
             ],
             [
              0.7777777777777778,
              "#fb9f3a"
             ],
             [
              0.8888888888888888,
              "#fdca26"
             ],
             [
              1,
              "#f0f921"
             ]
            ],
            "type": "heatmapgl"
           }
          ],
          "histogram": [
           {
            "marker": {
             "pattern": {
              "fillmode": "overlay",
              "size": 10,
              "solidity": 0.2
             }
            },
            "type": "histogram"
           }
          ],
          "histogram2d": [
           {
            "colorbar": {
             "outlinewidth": 0,
             "ticks": ""
            },
            "colorscale": [
             [
              0,
              "#0d0887"
             ],
             [
              0.1111111111111111,
              "#46039f"
             ],
             [
              0.2222222222222222,
              "#7201a8"
             ],
             [
              0.3333333333333333,
              "#9c179e"
             ],
             [
              0.4444444444444444,
              "#bd3786"
             ],
             [
              0.5555555555555556,
              "#d8576b"
             ],
             [
              0.6666666666666666,
              "#ed7953"
             ],
             [
              0.7777777777777778,
              "#fb9f3a"
             ],
             [
              0.8888888888888888,
              "#fdca26"
             ],
             [
              1,
              "#f0f921"
             ]
            ],
            "type": "histogram2d"
           }
          ],
          "histogram2dcontour": [
           {
            "colorbar": {
             "outlinewidth": 0,
             "ticks": ""
            },
            "colorscale": [
             [
              0,
              "#0d0887"
             ],
             [
              0.1111111111111111,
              "#46039f"
             ],
             [
              0.2222222222222222,
              "#7201a8"
             ],
             [
              0.3333333333333333,
              "#9c179e"
             ],
             [
              0.4444444444444444,
              "#bd3786"
             ],
             [
              0.5555555555555556,
              "#d8576b"
             ],
             [
              0.6666666666666666,
              "#ed7953"
             ],
             [
              0.7777777777777778,
              "#fb9f3a"
             ],
             [
              0.8888888888888888,
              "#fdca26"
             ],
             [
              1,
              "#f0f921"
             ]
            ],
            "type": "histogram2dcontour"
           }
          ],
          "mesh3d": [
           {
            "colorbar": {
             "outlinewidth": 0,
             "ticks": ""
            },
            "type": "mesh3d"
           }
          ],
          "parcoords": [
           {
            "line": {
             "colorbar": {
              "outlinewidth": 0,
              "ticks": ""
             }
            },
            "type": "parcoords"
           }
          ],
          "pie": [
           {
            "automargin": true,
            "type": "pie"
           }
          ],
          "scatter": [
           {
            "fillpattern": {
             "fillmode": "overlay",
             "size": 10,
             "solidity": 0.2
            },
            "type": "scatter"
           }
          ],
          "scatter3d": [
           {
            "line": {
             "colorbar": {
              "outlinewidth": 0,
              "ticks": ""
             }
            },
            "marker": {
             "colorbar": {
              "outlinewidth": 0,
              "ticks": ""
             }
            },
            "type": "scatter3d"
           }
          ],
          "scattercarpet": [
           {
            "marker": {
             "colorbar": {
              "outlinewidth": 0,
              "ticks": ""
             }
            },
            "type": "scattercarpet"
           }
          ],
          "scattergeo": [
           {
            "marker": {
             "colorbar": {
              "outlinewidth": 0,
              "ticks": ""
             }
            },
            "type": "scattergeo"
           }
          ],
          "scattergl": [
           {
            "marker": {
             "colorbar": {
              "outlinewidth": 0,
              "ticks": ""
             }
            },
            "type": "scattergl"
           }
          ],
          "scattermapbox": [
           {
            "marker": {
             "colorbar": {
              "outlinewidth": 0,
              "ticks": ""
             }
            },
            "type": "scattermapbox"
           }
          ],
          "scatterpolar": [
           {
            "marker": {
             "colorbar": {
              "outlinewidth": 0,
              "ticks": ""
             }
            },
            "type": "scatterpolar"
           }
          ],
          "scatterpolargl": [
           {
            "marker": {
             "colorbar": {
              "outlinewidth": 0,
              "ticks": ""
             }
            },
            "type": "scatterpolargl"
           }
          ],
          "scatterternary": [
           {
            "marker": {
             "colorbar": {
              "outlinewidth": 0,
              "ticks": ""
             }
            },
            "type": "scatterternary"
           }
          ],
          "surface": [
           {
            "colorbar": {
             "outlinewidth": 0,
             "ticks": ""
            },
            "colorscale": [
             [
              0,
              "#0d0887"
             ],
             [
              0.1111111111111111,
              "#46039f"
             ],
             [
              0.2222222222222222,
              "#7201a8"
             ],
             [
              0.3333333333333333,
              "#9c179e"
             ],
             [
              0.4444444444444444,
              "#bd3786"
             ],
             [
              0.5555555555555556,
              "#d8576b"
             ],
             [
              0.6666666666666666,
              "#ed7953"
             ],
             [
              0.7777777777777778,
              "#fb9f3a"
             ],
             [
              0.8888888888888888,
              "#fdca26"
             ],
             [
              1,
              "#f0f921"
             ]
            ],
            "type": "surface"
           }
          ],
          "table": [
           {
            "cells": {
             "fill": {
              "color": "#EBF0F8"
             },
             "line": {
              "color": "white"
             }
            },
            "header": {
             "fill": {
              "color": "#C8D4E3"
             },
             "line": {
              "color": "white"
             }
            },
            "type": "table"
           }
          ]
         },
         "layout": {
          "annotationdefaults": {
           "arrowcolor": "#2a3f5f",
           "arrowhead": 0,
           "arrowwidth": 1
          },
          "autotypenumbers": "strict",
          "coloraxis": {
           "colorbar": {
            "outlinewidth": 0,
            "ticks": ""
           }
          },
          "colorscale": {
           "diverging": [
            [
             0,
             "#8e0152"
            ],
            [
             0.1,
             "#c51b7d"
            ],
            [
             0.2,
             "#de77ae"
            ],
            [
             0.3,
             "#f1b6da"
            ],
            [
             0.4,
             "#fde0ef"
            ],
            [
             0.5,
             "#f7f7f7"
            ],
            [
             0.6,
             "#e6f5d0"
            ],
            [
             0.7,
             "#b8e186"
            ],
            [
             0.8,
             "#7fbc41"
            ],
            [
             0.9,
             "#4d9221"
            ],
            [
             1,
             "#276419"
            ]
           ],
           "sequential": [
            [
             0,
             "#0d0887"
            ],
            [
             0.1111111111111111,
             "#46039f"
            ],
            [
             0.2222222222222222,
             "#7201a8"
            ],
            [
             0.3333333333333333,
             "#9c179e"
            ],
            [
             0.4444444444444444,
             "#bd3786"
            ],
            [
             0.5555555555555556,
             "#d8576b"
            ],
            [
             0.6666666666666666,
             "#ed7953"
            ],
            [
             0.7777777777777778,
             "#fb9f3a"
            ],
            [
             0.8888888888888888,
             "#fdca26"
            ],
            [
             1,
             "#f0f921"
            ]
           ],
           "sequentialminus": [
            [
             0,
             "#0d0887"
            ],
            [
             0.1111111111111111,
             "#46039f"
            ],
            [
             0.2222222222222222,
             "#7201a8"
            ],
            [
             0.3333333333333333,
             "#9c179e"
            ],
            [
             0.4444444444444444,
             "#bd3786"
            ],
            [
             0.5555555555555556,
             "#d8576b"
            ],
            [
             0.6666666666666666,
             "#ed7953"
            ],
            [
             0.7777777777777778,
             "#fb9f3a"
            ],
            [
             0.8888888888888888,
             "#fdca26"
            ],
            [
             1,
             "#f0f921"
            ]
           ]
          },
          "colorway": [
           "#636efa",
           "#EF553B",
           "#00cc96",
           "#ab63fa",
           "#FFA15A",
           "#19d3f3",
           "#FF6692",
           "#B6E880",
           "#FF97FF",
           "#FECB52"
          ],
          "font": {
           "color": "#2a3f5f"
          },
          "geo": {
           "bgcolor": "white",
           "lakecolor": "white",
           "landcolor": "#E5ECF6",
           "showlakes": true,
           "showland": true,
           "subunitcolor": "white"
          },
          "hoverlabel": {
           "align": "left"
          },
          "hovermode": "closest",
          "mapbox": {
           "style": "light"
          },
          "paper_bgcolor": "white",
          "plot_bgcolor": "#E5ECF6",
          "polar": {
           "angularaxis": {
            "gridcolor": "white",
            "linecolor": "white",
            "ticks": ""
           },
           "bgcolor": "#E5ECF6",
           "radialaxis": {
            "gridcolor": "white",
            "linecolor": "white",
            "ticks": ""
           }
          },
          "scene": {
           "xaxis": {
            "backgroundcolor": "#E5ECF6",
            "gridcolor": "white",
            "gridwidth": 2,
            "linecolor": "white",
            "showbackground": true,
            "ticks": "",
            "zerolinecolor": "white"
           },
           "yaxis": {
            "backgroundcolor": "#E5ECF6",
            "gridcolor": "white",
            "gridwidth": 2,
            "linecolor": "white",
            "showbackground": true,
            "ticks": "",
            "zerolinecolor": "white"
           },
           "zaxis": {
            "backgroundcolor": "#E5ECF6",
            "gridcolor": "white",
            "gridwidth": 2,
            "linecolor": "white",
            "showbackground": true,
            "ticks": "",
            "zerolinecolor": "white"
           }
          },
          "shapedefaults": {
           "line": {
            "color": "#2a3f5f"
           }
          },
          "ternary": {
           "aaxis": {
            "gridcolor": "white",
            "linecolor": "white",
            "ticks": ""
           },
           "baxis": {
            "gridcolor": "white",
            "linecolor": "white",
            "ticks": ""
           },
           "bgcolor": "#E5ECF6",
           "caxis": {
            "gridcolor": "white",
            "linecolor": "white",
            "ticks": ""
           }
          },
          "title": {
           "x": 0.05
          },
          "xaxis": {
           "automargin": true,
           "gridcolor": "white",
           "linecolor": "white",
           "ticks": "",
           "title": {
            "standoff": 15
           },
           "zerolinecolor": "white",
           "zerolinewidth": 2
          },
          "yaxis": {
           "automargin": true,
           "gridcolor": "white",
           "linecolor": "white",
           "ticks": "",
           "title": {
            "standoff": 15
           },
           "zerolinecolor": "white",
           "zerolinewidth": 2
          }
         }
        },
        "title": {
         "text": "Ratio of unique words to all words"
        },
        "xaxis": {
         "anchor": "y",
         "domain": [
          0,
          1
         ],
         "title": {
          "text": "artist"
         }
        },
        "yaxis": {
         "anchor": "x",
         "domain": [
          0,
          1
         ],
         "title": {
          "text": "unique_words_ratio"
         }
        }
       }
      }
     },
     "metadata": {},
     "output_type": "display_data"
    }
   ],
   "source": [
    "fig = px.box(song_filter_df, x='artist', y='unique_words_ratio', title='Ratio of unique words to all words')\n",
    "fig.show()"
   ]
  },
  {
   "cell_type": "markdown",
   "metadata": {},
   "source": [
    "### Words per line"
   ]
  },
  {
   "cell_type": "code",
   "execution_count": 38,
   "metadata": {},
   "outputs": [],
   "source": [
    "# calculate number of words per line\n",
    "song_df['words_per_line'] = song_df['n_words'] / song_df['lines'].astype(float)\n",
    "\n",
    "song_filter_df = song_filter_df.join(song_df['words_per_line'])"
   ]
  },
  {
   "cell_type": "code",
   "execution_count": 39,
   "metadata": {},
   "outputs": [
    {
     "data": {
      "application/vnd.plotly.v1+json": {
       "config": {
        "plotlyServerURL": "https://plot.ly"
       },
       "data": [
        {
         "alignmentgroup": "True",
         "hovertemplate": "artist=%{x}<br>words_per_line=%{y}<extra></extra>",
         "legendgroup": "",
         "marker": {
          "color": "#636efa"
         },
         "name": "",
         "notched": false,
         "offsetgroup": "",
         "orientation": "v",
         "showlegend": false,
         "type": "box",
         "x": [
          "bodyslam",
          "bodyslam",
          "bodyslam",
          "bodyslam",
          "bodyslam",
          "bodyslam",
          "bodyslam",
          "bodyslam",
          "bodyslam",
          "bodyslam",
          "bodyslam",
          "bodyslam",
          "bodyslam",
          "bodyslam",
          "bodyslam",
          "bodyslam",
          "bodyslam",
          "bodyslam",
          "bodyslam",
          "bodyslam",
          "bodyslam",
          "bodyslam",
          "bodyslam",
          "bodyslam",
          "bodyslam",
          "bodyslam",
          "bodyslam",
          "bodyslam",
          "bodyslam",
          "bodyslam",
          "bodyslam",
          "bodyslam",
          "bodyslam",
          "bodyslam",
          "bodyslam",
          "bodyslam",
          "bodyslam",
          "bodyslam",
          "bodyslam",
          "bodyslam",
          "bodyslam",
          "bodyslam",
          "bodyslam",
          "bodyslam",
          "bodyslam",
          "bodyslam",
          "bodyslam",
          "bodyslam",
          "bodyslam",
          "bodyslam",
          "bodyslam",
          "bodyslam",
          "bodyslam",
          "bodyslam",
          "bodyslam",
          "bodyslam",
          "bodyslam",
          "bodyslam",
          "bodyslam",
          "bodyslam",
          "bodyslam",
          "bodyslam",
          "bodyslam",
          "bodyslam",
          "bodyslam",
          "bodyslam",
          "nont_tanont",
          "nont_tanont",
          "nont_tanont",
          "nont_tanont",
          "nont_tanont",
          "nont_tanont",
          "nont_tanont",
          "nont_tanont",
          "nont_tanont",
          "nont_tanont",
          "nont_tanont",
          "nont_tanont",
          "nont_tanont",
          "nont_tanont",
          "nont_tanont",
          "nont_tanont",
          "nont_tanont",
          "nont_tanont",
          "nont_tanont",
          "nont_tanont",
          "nont_tanont",
          "nont_tanont",
          "nont_tanont",
          "nont_tanont",
          "nont_tanont",
          "nont_tanont",
          "nont_tanont",
          "nont_tanont",
          "nont_tanont",
          "nont_tanont",
          "nont_tanont",
          "nont_tanont",
          "nont_tanont",
          "nont_tanont",
          "nont_tanont",
          "nont_tanont",
          "tilly_birds",
          "tilly_birds",
          "tilly_birds",
          "tilly_birds",
          "tilly_birds",
          "tilly_birds",
          "tilly_birds",
          "tilly_birds",
          "tilly_birds",
          "tilly_birds",
          "tilly_birds",
          "tilly_birds",
          "tilly_birds",
          "tilly_birds",
          "tilly_birds",
          "tilly_birds",
          "tilly_birds",
          "tilly_birds",
          "tilly_birds",
          "tilly_birds",
          "tilly_birds",
          "tilly_birds",
          "tilly_birds",
          "tilly_birds",
          "tilly_birds",
          "tilly_birds",
          "tilly_birds",
          "tilly_birds"
         ],
         "x0": " ",
         "xaxis": "x",
         "y": [
          5.733333333333333,
          3.1724137931034484,
          4.2,
          3.6222222222222222,
          3.0952380952380953,
          3.1363636363636362,
          3.0294117647058822,
          3.2962962962962963,
          3.7666666666666666,
          3.2058823529411766,
          3.642857142857143,
          3.1403508771929824,
          2.871794871794872,
          3.4146341463414633,
          3.9473684210526314,
          3.28125,
          3.8181818181818183,
          3.5526315789473686,
          5.375,
          3.263157894736842,
          2.652173913043478,
          2.9375,
          3.789473684210526,
          1.8285714285714285,
          3.5625,
          2.7777777777777777,
          3.1724137931034484,
          3.738095238095238,
          3.3488372093023258,
          3.5714285714285716,
          4.03125,
          2.3076923076923075,
          4.027777777777778,
          2.048780487804878,
          2.6363636363636362,
          3.7045454545454546,
          3.2444444444444445,
          2.926470588235294,
          3.1136363636363638,
          4.072727272727272,
          4.069767441860465,
          3.4285714285714284,
          3.5869565217391304,
          3.4347826086956523,
          3.0416666666666665,
          2.4838709677419355,
          4,
          3.8275862068965516,
          2.576923076923077,
          3.5405405405405403,
          2.710526315789474,
          3.0638297872340425,
          2.967741935483871,
          3.4339622641509435,
          3,
          3.3947368421052633,
          4.019607843137255,
          4.574468085106383,
          2.4468085106382977,
          4.086956521739131,
          3.3055555555555554,
          3.58974358974359,
          3.7027027027027026,
          4.538461538461538,
          4.108108108108108,
          2.5,
          2.8372093023255816,
          3.159090909090909,
          5.8108108108108105,
          3.103896103896104,
          3.5692307692307694,
          3.1470588235294117,
          4.344827586206897,
          3.107142857142857,
          3,
          2.85,
          5.4,
          3.5675675675675675,
          3.1842105263157894,
          3.0256410256410255,
          2.851063829787234,
          3.1,
          3.1944444444444446,
          2.7241379310344827,
          3.185185185185185,
          2.742857142857143,
          2.72972972972973,
          2.710526315789474,
          4.666666666666667,
          2.4651162790697674,
          3.4,
          2.3552631578947367,
          3,
          2.953125,
          2.5714285714285716,
          2.9767441860465116,
          3.6333333333333333,
          3.909090909090909,
          2.6956521739130435,
          3.084507042253521,
          4.709677419354839,
          2.7058823529411766,
          2.477272727272727,
          2.8333333333333335,
          2.8974358974358974,
          2.8,
          2.702127659574468,
          2.148936170212766,
          2.712328767123288,
          1.7012987012987013,
          2.3653846153846154,
          3.619718309859155,
          2.4791666666666665,
          1.9268292682926829,
          2.9411764705882355,
          2.980392156862745,
          2.3714285714285714,
          2.6744186046511627,
          2.463157894736842,
          3.122448979591837,
          2.76,
          2.7142857142857144,
          2.357142857142857,
          2.647887323943662,
          2.7794117647058822,
          1.82,
          2.392156862745098,
          3.193548387096774,
          3.6956521739130435,
          2.6140350877192984
         ],
         "y0": " ",
         "yaxis": "y"
        }
       ],
       "layout": {
        "boxmode": "group",
        "legend": {
         "tracegroupgap": 0
        },
        "template": {
         "data": {
          "bar": [
           {
            "error_x": {
             "color": "#2a3f5f"
            },
            "error_y": {
             "color": "#2a3f5f"
            },
            "marker": {
             "line": {
              "color": "#E5ECF6",
              "width": 0.5
             },
             "pattern": {
              "fillmode": "overlay",
              "size": 10,
              "solidity": 0.2
             }
            },
            "type": "bar"
           }
          ],
          "barpolar": [
           {
            "marker": {
             "line": {
              "color": "#E5ECF6",
              "width": 0.5
             },
             "pattern": {
              "fillmode": "overlay",
              "size": 10,
              "solidity": 0.2
             }
            },
            "type": "barpolar"
           }
          ],
          "carpet": [
           {
            "aaxis": {
             "endlinecolor": "#2a3f5f",
             "gridcolor": "white",
             "linecolor": "white",
             "minorgridcolor": "white",
             "startlinecolor": "#2a3f5f"
            },
            "baxis": {
             "endlinecolor": "#2a3f5f",
             "gridcolor": "white",
             "linecolor": "white",
             "minorgridcolor": "white",
             "startlinecolor": "#2a3f5f"
            },
            "type": "carpet"
           }
          ],
          "choropleth": [
           {
            "colorbar": {
             "outlinewidth": 0,
             "ticks": ""
            },
            "type": "choropleth"
           }
          ],
          "contour": [
           {
            "colorbar": {
             "outlinewidth": 0,
             "ticks": ""
            },
            "colorscale": [
             [
              0,
              "#0d0887"
             ],
             [
              0.1111111111111111,
              "#46039f"
             ],
             [
              0.2222222222222222,
              "#7201a8"
             ],
             [
              0.3333333333333333,
              "#9c179e"
             ],
             [
              0.4444444444444444,
              "#bd3786"
             ],
             [
              0.5555555555555556,
              "#d8576b"
             ],
             [
              0.6666666666666666,
              "#ed7953"
             ],
             [
              0.7777777777777778,
              "#fb9f3a"
             ],
             [
              0.8888888888888888,
              "#fdca26"
             ],
             [
              1,
              "#f0f921"
             ]
            ],
            "type": "contour"
           }
          ],
          "contourcarpet": [
           {
            "colorbar": {
             "outlinewidth": 0,
             "ticks": ""
            },
            "type": "contourcarpet"
           }
          ],
          "heatmap": [
           {
            "colorbar": {
             "outlinewidth": 0,
             "ticks": ""
            },
            "colorscale": [
             [
              0,
              "#0d0887"
             ],
             [
              0.1111111111111111,
              "#46039f"
             ],
             [
              0.2222222222222222,
              "#7201a8"
             ],
             [
              0.3333333333333333,
              "#9c179e"
             ],
             [
              0.4444444444444444,
              "#bd3786"
             ],
             [
              0.5555555555555556,
              "#d8576b"
             ],
             [
              0.6666666666666666,
              "#ed7953"
             ],
             [
              0.7777777777777778,
              "#fb9f3a"
             ],
             [
              0.8888888888888888,
              "#fdca26"
             ],
             [
              1,
              "#f0f921"
             ]
            ],
            "type": "heatmap"
           }
          ],
          "heatmapgl": [
           {
            "colorbar": {
             "outlinewidth": 0,
             "ticks": ""
            },
            "colorscale": [
             [
              0,
              "#0d0887"
             ],
             [
              0.1111111111111111,
              "#46039f"
             ],
             [
              0.2222222222222222,
              "#7201a8"
             ],
             [
              0.3333333333333333,
              "#9c179e"
             ],
             [
              0.4444444444444444,
              "#bd3786"
             ],
             [
              0.5555555555555556,
              "#d8576b"
             ],
             [
              0.6666666666666666,
              "#ed7953"
             ],
             [
              0.7777777777777778,
              "#fb9f3a"
             ],
             [
              0.8888888888888888,
              "#fdca26"
             ],
             [
              1,
              "#f0f921"
             ]
            ],
            "type": "heatmapgl"
           }
          ],
          "histogram": [
           {
            "marker": {
             "pattern": {
              "fillmode": "overlay",
              "size": 10,
              "solidity": 0.2
             }
            },
            "type": "histogram"
           }
          ],
          "histogram2d": [
           {
            "colorbar": {
             "outlinewidth": 0,
             "ticks": ""
            },
            "colorscale": [
             [
              0,
              "#0d0887"
             ],
             [
              0.1111111111111111,
              "#46039f"
             ],
             [
              0.2222222222222222,
              "#7201a8"
             ],
             [
              0.3333333333333333,
              "#9c179e"
             ],
             [
              0.4444444444444444,
              "#bd3786"
             ],
             [
              0.5555555555555556,
              "#d8576b"
             ],
             [
              0.6666666666666666,
              "#ed7953"
             ],
             [
              0.7777777777777778,
              "#fb9f3a"
             ],
             [
              0.8888888888888888,
              "#fdca26"
             ],
             [
              1,
              "#f0f921"
             ]
            ],
            "type": "histogram2d"
           }
          ],
          "histogram2dcontour": [
           {
            "colorbar": {
             "outlinewidth": 0,
             "ticks": ""
            },
            "colorscale": [
             [
              0,
              "#0d0887"
             ],
             [
              0.1111111111111111,
              "#46039f"
             ],
             [
              0.2222222222222222,
              "#7201a8"
             ],
             [
              0.3333333333333333,
              "#9c179e"
             ],
             [
              0.4444444444444444,
              "#bd3786"
             ],
             [
              0.5555555555555556,
              "#d8576b"
             ],
             [
              0.6666666666666666,
              "#ed7953"
             ],
             [
              0.7777777777777778,
              "#fb9f3a"
             ],
             [
              0.8888888888888888,
              "#fdca26"
             ],
             [
              1,
              "#f0f921"
             ]
            ],
            "type": "histogram2dcontour"
           }
          ],
          "mesh3d": [
           {
            "colorbar": {
             "outlinewidth": 0,
             "ticks": ""
            },
            "type": "mesh3d"
           }
          ],
          "parcoords": [
           {
            "line": {
             "colorbar": {
              "outlinewidth": 0,
              "ticks": ""
             }
            },
            "type": "parcoords"
           }
          ],
          "pie": [
           {
            "automargin": true,
            "type": "pie"
           }
          ],
          "scatter": [
           {
            "fillpattern": {
             "fillmode": "overlay",
             "size": 10,
             "solidity": 0.2
            },
            "type": "scatter"
           }
          ],
          "scatter3d": [
           {
            "line": {
             "colorbar": {
              "outlinewidth": 0,
              "ticks": ""
             }
            },
            "marker": {
             "colorbar": {
              "outlinewidth": 0,
              "ticks": ""
             }
            },
            "type": "scatter3d"
           }
          ],
          "scattercarpet": [
           {
            "marker": {
             "colorbar": {
              "outlinewidth": 0,
              "ticks": ""
             }
            },
            "type": "scattercarpet"
           }
          ],
          "scattergeo": [
           {
            "marker": {
             "colorbar": {
              "outlinewidth": 0,
              "ticks": ""
             }
            },
            "type": "scattergeo"
           }
          ],
          "scattergl": [
           {
            "marker": {
             "colorbar": {
              "outlinewidth": 0,
              "ticks": ""
             }
            },
            "type": "scattergl"
           }
          ],
          "scattermapbox": [
           {
            "marker": {
             "colorbar": {
              "outlinewidth": 0,
              "ticks": ""
             }
            },
            "type": "scattermapbox"
           }
          ],
          "scatterpolar": [
           {
            "marker": {
             "colorbar": {
              "outlinewidth": 0,
              "ticks": ""
             }
            },
            "type": "scatterpolar"
           }
          ],
          "scatterpolargl": [
           {
            "marker": {
             "colorbar": {
              "outlinewidth": 0,
              "ticks": ""
             }
            },
            "type": "scatterpolargl"
           }
          ],
          "scatterternary": [
           {
            "marker": {
             "colorbar": {
              "outlinewidth": 0,
              "ticks": ""
             }
            },
            "type": "scatterternary"
           }
          ],
          "surface": [
           {
            "colorbar": {
             "outlinewidth": 0,
             "ticks": ""
            },
            "colorscale": [
             [
              0,
              "#0d0887"
             ],
             [
              0.1111111111111111,
              "#46039f"
             ],
             [
              0.2222222222222222,
              "#7201a8"
             ],
             [
              0.3333333333333333,
              "#9c179e"
             ],
             [
              0.4444444444444444,
              "#bd3786"
             ],
             [
              0.5555555555555556,
              "#d8576b"
             ],
             [
              0.6666666666666666,
              "#ed7953"
             ],
             [
              0.7777777777777778,
              "#fb9f3a"
             ],
             [
              0.8888888888888888,
              "#fdca26"
             ],
             [
              1,
              "#f0f921"
             ]
            ],
            "type": "surface"
           }
          ],
          "table": [
           {
            "cells": {
             "fill": {
              "color": "#EBF0F8"
             },
             "line": {
              "color": "white"
             }
            },
            "header": {
             "fill": {
              "color": "#C8D4E3"
             },
             "line": {
              "color": "white"
             }
            },
            "type": "table"
           }
          ]
         },
         "layout": {
          "annotationdefaults": {
           "arrowcolor": "#2a3f5f",
           "arrowhead": 0,
           "arrowwidth": 1
          },
          "autotypenumbers": "strict",
          "coloraxis": {
           "colorbar": {
            "outlinewidth": 0,
            "ticks": ""
           }
          },
          "colorscale": {
           "diverging": [
            [
             0,
             "#8e0152"
            ],
            [
             0.1,
             "#c51b7d"
            ],
            [
             0.2,
             "#de77ae"
            ],
            [
             0.3,
             "#f1b6da"
            ],
            [
             0.4,
             "#fde0ef"
            ],
            [
             0.5,
             "#f7f7f7"
            ],
            [
             0.6,
             "#e6f5d0"
            ],
            [
             0.7,
             "#b8e186"
            ],
            [
             0.8,
             "#7fbc41"
            ],
            [
             0.9,
             "#4d9221"
            ],
            [
             1,
             "#276419"
            ]
           ],
           "sequential": [
            [
             0,
             "#0d0887"
            ],
            [
             0.1111111111111111,
             "#46039f"
            ],
            [
             0.2222222222222222,
             "#7201a8"
            ],
            [
             0.3333333333333333,
             "#9c179e"
            ],
            [
             0.4444444444444444,
             "#bd3786"
            ],
            [
             0.5555555555555556,
             "#d8576b"
            ],
            [
             0.6666666666666666,
             "#ed7953"
            ],
            [
             0.7777777777777778,
             "#fb9f3a"
            ],
            [
             0.8888888888888888,
             "#fdca26"
            ],
            [
             1,
             "#f0f921"
            ]
           ],
           "sequentialminus": [
            [
             0,
             "#0d0887"
            ],
            [
             0.1111111111111111,
             "#46039f"
            ],
            [
             0.2222222222222222,
             "#7201a8"
            ],
            [
             0.3333333333333333,
             "#9c179e"
            ],
            [
             0.4444444444444444,
             "#bd3786"
            ],
            [
             0.5555555555555556,
             "#d8576b"
            ],
            [
             0.6666666666666666,
             "#ed7953"
            ],
            [
             0.7777777777777778,
             "#fb9f3a"
            ],
            [
             0.8888888888888888,
             "#fdca26"
            ],
            [
             1,
             "#f0f921"
            ]
           ]
          },
          "colorway": [
           "#636efa",
           "#EF553B",
           "#00cc96",
           "#ab63fa",
           "#FFA15A",
           "#19d3f3",
           "#FF6692",
           "#B6E880",
           "#FF97FF",
           "#FECB52"
          ],
          "font": {
           "color": "#2a3f5f"
          },
          "geo": {
           "bgcolor": "white",
           "lakecolor": "white",
           "landcolor": "#E5ECF6",
           "showlakes": true,
           "showland": true,
           "subunitcolor": "white"
          },
          "hoverlabel": {
           "align": "left"
          },
          "hovermode": "closest",
          "mapbox": {
           "style": "light"
          },
          "paper_bgcolor": "white",
          "plot_bgcolor": "#E5ECF6",
          "polar": {
           "angularaxis": {
            "gridcolor": "white",
            "linecolor": "white",
            "ticks": ""
           },
           "bgcolor": "#E5ECF6",
           "radialaxis": {
            "gridcolor": "white",
            "linecolor": "white",
            "ticks": ""
           }
          },
          "scene": {
           "xaxis": {
            "backgroundcolor": "#E5ECF6",
            "gridcolor": "white",
            "gridwidth": 2,
            "linecolor": "white",
            "showbackground": true,
            "ticks": "",
            "zerolinecolor": "white"
           },
           "yaxis": {
            "backgroundcolor": "#E5ECF6",
            "gridcolor": "white",
            "gridwidth": 2,
            "linecolor": "white",
            "showbackground": true,
            "ticks": "",
            "zerolinecolor": "white"
           },
           "zaxis": {
            "backgroundcolor": "#E5ECF6",
            "gridcolor": "white",
            "gridwidth": 2,
            "linecolor": "white",
            "showbackground": true,
            "ticks": "",
            "zerolinecolor": "white"
           }
          },
          "shapedefaults": {
           "line": {
            "color": "#2a3f5f"
           }
          },
          "ternary": {
           "aaxis": {
            "gridcolor": "white",
            "linecolor": "white",
            "ticks": ""
           },
           "baxis": {
            "gridcolor": "white",
            "linecolor": "white",
            "ticks": ""
           },
           "bgcolor": "#E5ECF6",
           "caxis": {
            "gridcolor": "white",
            "linecolor": "white",
            "ticks": ""
           }
          },
          "title": {
           "x": 0.05
          },
          "xaxis": {
           "automargin": true,
           "gridcolor": "white",
           "linecolor": "white",
           "ticks": "",
           "title": {
            "standoff": 15
           },
           "zerolinecolor": "white",
           "zerolinewidth": 2
          },
          "yaxis": {
           "automargin": true,
           "gridcolor": "white",
           "linecolor": "white",
           "ticks": "",
           "title": {
            "standoff": 15
           },
           "zerolinecolor": "white",
           "zerolinewidth": 2
          }
         }
        },
        "title": {
         "text": "Words per line"
        },
        "xaxis": {
         "anchor": "y",
         "domain": [
          0,
          1
         ],
         "title": {
          "text": "artist"
         }
        },
        "yaxis": {
         "anchor": "x",
         "domain": [
          0,
          1
         ],
         "title": {
          "text": "words_per_line"
         }
        }
       }
      }
     },
     "metadata": {},
     "output_type": "display_data"
    }
   ],
   "source": [
    "fig = px.box(song_filter_df, x='artist', y='words_per_line', title='Words per line')\n",
    "fig.show()"
   ]
  },
  {
   "cell_type": "markdown",
   "metadata": {},
   "source": [
    "## TFIDF"
   ]
  },
  {
   "cell_type": "code",
   "execution_count": 40,
   "metadata": {},
   "outputs": [],
   "source": [
    "from sklearn.feature_extraction.text import CountVectorizer\n",
    "from sklearn.feature_extraction.text import TfidfTransformer"
   ]
  },
  {
   "cell_type": "code",
   "execution_count": 55,
   "metadata": {},
   "outputs": [
    {
     "data": {
      "text/plain": [
       "TfidfTransformer()"
      ]
     },
     "execution_count": 55,
     "metadata": {},
     "output_type": "execute_result"
    }
   ],
   "source": [
    "# initialise count vectorizer\n",
    "cv = CountVectorizer(analyzer=lambda x:x.split())\n",
    "\n",
    "word_count_vector = cv.fit_transform(song_df['words_str'])\n",
    "\n",
    "# compute idf\n",
    "tfidf_transformer=TfidfTransformer(smooth_idf=True,use_idf=True)\n",
    "tfidf_transformer.fit(word_count_vector)"
   ]
  },
  {
   "cell_type": "code",
   "execution_count": 56,
   "metadata": {},
   "outputs": [
    {
     "data": {
      "text/html": [
       "<div>\n",
       "<style scoped>\n",
       "    .dataframe tbody tr th:only-of-type {\n",
       "        vertical-align: middle;\n",
       "    }\n",
       "\n",
       "    .dataframe tbody tr th {\n",
       "        vertical-align: top;\n",
       "    }\n",
       "\n",
       "    .dataframe thead th {\n",
       "        text-align: right;\n",
       "    }\n",
       "</style>\n",
       "<table border=\"1\" class=\"dataframe\">\n",
       "  <thead>\n",
       "    <tr style=\"text-align: right;\">\n",
       "      <th></th>\n",
       "      <th>word</th>\n",
       "      <th>weight</th>\n",
       "    </tr>\n",
       "  </thead>\n",
       "  <tbody>\n",
       "    <tr>\n",
       "      <th>1729</th>\n",
       "      <td>ใจ</td>\n",
       "      <td>1.364338</td>\n",
       "    </tr>\n",
       "    <tr>\n",
       "      <th>968</th>\n",
       "      <td>รู้</td>\n",
       "      <td>1.444381</td>\n",
       "    </tr>\n",
       "    <tr>\n",
       "      <th>179</th>\n",
       "      <td>คน</td>\n",
       "      <td>1.493171</td>\n",
       "    </tr>\n",
       "    <tr>\n",
       "      <th>943</th>\n",
       "      <td>รัก</td>\n",
       "      <td>1.505749</td>\n",
       "    </tr>\n",
       "    <tr>\n",
       "      <th>1262</th>\n",
       "      <td>หัวใจ</td>\n",
       "      <td>1.531392</td>\n",
       "    </tr>\n",
       "  </tbody>\n",
       "</table>\n",
       "</div>"
      ],
      "text/plain": [
       "       word    weight\n",
       "1729     ใจ  1.364338\n",
       "968     รู้  1.444381\n",
       "179      คน  1.493171\n",
       "943     รัก  1.505749\n",
       "1262  หัวใจ  1.531392"
      ]
     },
     "execution_count": 56,
     "metadata": {},
     "output_type": "execute_result"
    }
   ],
   "source": [
    "# print idf values\n",
    "tfidf_df = pd.DataFrame({'word': cv.get_feature_names(), 'weight': tfidf_transformer.idf_})\n",
    " \n",
    "# get lowest weights\n",
    "tfidf_df.sort_values('weight').head()"
   ]
  },
  {
   "cell_type": "code",
   "execution_count": 57,
   "metadata": {},
   "outputs": [
    {
     "data": {
      "text/plain": [
       "[\"'\",\n",
       " ',',\n",
       " '/',\n",
       " ':',\n",
       " 'Ah',\n",
       " 'I',\n",
       " 'It',\n",
       " 'No',\n",
       " 'Oh',\n",
       " '\\\\',\n",
       " 'ah',\n",
       " 'all',\n",
       " 'alon',\n",
       " 'app',\n",
       " 'arin',\n",
       " 'ask',\n",
       " 'audit',\n",
       " 'babepoom',\n",
       " 'babi',\n",
       " 'brand',\n",
       " 'call',\n",
       " 'can',\n",
       " 'chamil',\n",
       " 'come',\n",
       " 'comment',\n",
       " 'complet',\n",
       " 'continu',\n",
       " 'crazi',\n",
       " 'day',\n",
       " 'die',\n",
       " 'everi',\n",
       " 'everytim',\n",
       " 'fall',\n",
       " 'feel',\n",
       " 'friend',\n",
       " 'gene',\n",
       " 'get',\n",
       " 'girl',\n",
       " 'goin',\n",
       " 'good',\n",
       " 'goodby',\n",
       " 'goodnight',\n",
       " 'heart',\n",
       " 'hmmm',\n",
       " 'huh',\n",
       " 'just',\n",
       " 'know',\n",
       " 'lab',\n",
       " 'like',\n",
       " 'listen',\n",
       " 'll',\n",
       " 'love',\n",
       " 'ma',\n",
       " 'make',\n",
       " 'miss',\n",
       " 'need',\n",
       " 'never',\n",
       " 'new',\n",
       " 'night',\n",
       " 'oh',\n",
       " 'ohh',\n",
       " 'ooh',\n",
       " 'play',\n",
       " 'real',\n",
       " 'rock',\n",
       " 'say',\n",
       " 'sequel',\n",
       " 'sister',\n",
       " 'soon',\n",
       " 'star',\n",
       " 'start',\n",
       " 'thousand',\n",
       " 'time',\n",
       " 'vers',\n",
       " 'who',\n",
       " 'whole',\n",
       " 'will',\n",
       " 'wo',\n",
       " 'woo',\n",
       " 'wooo',\n",
       " 'word',\n",
       " 'world',\n",
       " 'yeah',\n",
       " 'you',\n",
       " 'ก',\n",
       " 'กฎ',\n",
       " 'กฎแห่งกรรม',\n",
       " 'กด',\n",
       " 'กรอบรูป',\n",
       " 'กระจก',\n",
       " 'กระต่าย',\n",
       " 'กระทะ',\n",
       " 'กรัก',\n",
       " 'กราว',\n",
       " 'กรีด',\n",
       " 'กร่อน',\n",
       " 'กร้าน',\n",
       " 'กลม',\n",
       " 'กลมกล่อม',\n",
       " 'กลับคืน',\n",
       " 'กลับมา',\n",
       " 'กลัว',\n",
       " 'กลาง',\n",
       " 'กลาย',\n",
       " 'กลิ้ง',\n",
       " 'กลืน',\n",
       " 'กวน',\n",
       " 'กว่าเพื่อน',\n",
       " 'กว้างใหญ่',\n",
       " 'กว้างไกล',\n",
       " 'กอก',\n",
       " 'กองไฟ',\n",
       " 'กอด',\n",
       " 'กะ',\n",
       " 'กักขัง',\n",
       " 'กังวล',\n",
       " 'กันต์',\n",
       " 'กันที่',\n",
       " 'กางกั้น',\n",
       " 'กางเกง',\n",
       " 'กาย',\n",
       " 'การกัน',\n",
       " 'การพิสูจน์',\n",
       " 'การรอคอย',\n",
       " 'การอำลา',\n",
       " 'การเปลี่ยนแปลง',\n",
       " 'กาล',\n",
       " 'กำจัด',\n",
       " 'กำลังวังชา',\n",
       " 'กำลังใจ',\n",
       " 'กำแพง',\n",
       " 'กำไร',\n",
       " 'กิน',\n",
       " 'กินข้าว',\n",
       " 'กีดขวาง',\n",
       " 'กี่',\n",
       " 'กึ่ง',\n",
       " 'กุล',\n",
       " 'กุ้ม',\n",
       " 'ก็ช่าง',\n",
       " 'ก่อตัว',\n",
       " 'ก่อนที่',\n",
       " 'ก้าว',\n",
       " 'ก้าวเดิน',\n",
       " 'ข',\n",
       " 'ขนาด',\n",
       " 'ขวากหนาม',\n",
       " 'ขวางทาง',\n",
       " 'ขวามือ',\n",
       " 'ขอ',\n",
       " 'ขอบ',\n",
       " 'ขอบฟ้า',\n",
       " 'ขอบใจ',\n",
       " 'ขอร้อง',\n",
       " 'ขออภัย',\n",
       " 'ขอเวลา',\n",
       " 'ขอโทษ',\n",
       " 'ขอให้',\n",
       " 'ขัง',\n",
       " 'ขัด',\n",
       " 'ขับ',\n",
       " 'ขับรถ',\n",
       " 'ขาดตอน',\n",
       " 'ขาดใจ',\n",
       " 'ขำ',\n",
       " 'ขีด',\n",
       " 'ขี่',\n",
       " 'ขึ้นใจ',\n",
       " 'ขึ้นไป',\n",
       " 'ข่ม',\n",
       " 'ข่มตา',\n",
       " 'ข่มใจ',\n",
       " 'ข้างใน',\n",
       " 'ข้าม',\n",
       " 'ข้ามคืน',\n",
       " 'ค',\n",
       " 'คง',\n",
       " 'คงเดิม',\n",
       " 'คงเหลือ',\n",
       " 'คน',\n",
       " 'คนคน',\n",
       " 'คนดี',\n",
       " 'คนดู',\n",
       " 'คนธรรมดา',\n",
       " 'คนพูด',\n",
       " 'คนรัก',\n",
       " 'คนละ',\n",
       " 'คนละไม้คนละมือ',\n",
       " 'คนสวย',\n",
       " 'คนสำคัญ',\n",
       " 'คนอ่อนแอ',\n",
       " 'คนเดียว',\n",
       " 'คนเรา',\n",
       " 'คนใน',\n",
       " 'คบ',\n",
       " 'คม',\n",
       " 'คย',\n",
       " 'ครวญถึง',\n",
       " 'ครอบครอง',\n",
       " 'ครอบครัว',\n",
       " 'ครั้งสุดท้าย',\n",
       " 'ครั้งแรก',\n",
       " 'คราบ',\n",
       " 'คราม',\n",
       " 'ครึ่งทาง',\n",
       " 'ครึ่งหนึ่ง',\n",
       " 'คร่ำ',\n",
       " 'คลำ',\n",
       " 'คลื่น',\n",
       " 'คลุกคลาน',\n",
       " 'ควรจะ',\n",
       " 'ควรจะเป็น',\n",
       " 'ควรระวัง',\n",
       " 'ความกลัว',\n",
       " 'ความคิดถึง',\n",
       " 'ความงาม',\n",
       " 'ความจริง',\n",
       " 'ความจำ',\n",
       " 'ความชอบ',\n",
       " 'ความดัง',\n",
       " 'ความดี',\n",
       " 'ความบังเอิญ',\n",
       " 'ความปวดร้าว',\n",
       " 'ความผันแปร',\n",
       " 'ความผิด',\n",
       " 'ความผิดหวัง',\n",
       " 'ความฝัน',\n",
       " 'ความพอดี',\n",
       " 'ความรัก',\n",
       " 'ความลับ',\n",
       " 'ความสวย',\n",
       " 'ความสุข',\n",
       " 'ความหมาย',\n",
       " 'ความหลัง',\n",
       " 'ความหวัง',\n",
       " 'ความหวังดี',\n",
       " 'ความหวั่นไหว',\n",
       " 'ความหวาน',\n",
       " 'ความห่วงใย',\n",
       " 'ความห่างไกล',\n",
       " 'ความอ้างว้าง',\n",
       " 'ความเจ็บ',\n",
       " 'ความเจ็บช้ำ',\n",
       " 'ความเชื่อ',\n",
       " 'ความเป็นจริง',\n",
       " 'ความเป็นไป',\n",
       " 'ความเสียใจ',\n",
       " 'ความเหงา',\n",
       " 'ความเหมือน',\n",
       " 'ความโหดร้าย',\n",
       " 'คว้า',\n",
       " 'คอย',\n",
       " 'คอลลาเจน',\n",
       " 'คัน',\n",
       " 'คาง',\n",
       " 'คาว',\n",
       " 'คำขู่',\n",
       " 'คำถาม',\n",
       " 'คำพูด',\n",
       " 'คำภาวนา',\n",
       " 'คำราม',\n",
       " 'คำร้อง',\n",
       " 'คำสัญญา',\n",
       " 'คำอธิบาย',\n",
       " 'คำเตือน',\n",
       " 'คำๆ',\n",
       " 'คิดดู',\n",
       " 'คิดถึง',\n",
       " 'คิดผิด',\n",
       " 'คิดมาก',\n",
       " 'คิดได้',\n",
       " 'คิ้ว',\n",
       " 'คืน',\n",
       " 'คืนนี้',\n",
       " 'คุก',\n",
       " 'คุย',\n",
       " 'คุ้น',\n",
       " 'คุ้นเคย',\n",
       " 'คุ้ม',\n",
       " 'คุ้มครอง',\n",
       " 'คู่',\n",
       " 'คู่ใจ',\n",
       " 'ค่อยเป็นค่อยไป',\n",
       " 'ค่า',\n",
       " 'ค่ำ',\n",
       " 'ค่ำคืน',\n",
       " 'ค้น',\n",
       " 'ค้นหา',\n",
       " 'ค้าง',\n",
       " 'ค้างคา',\n",
       " 'ค้าน',\n",
       " 'งก',\n",
       " 'งดงาม',\n",
       " 'งมงาย',\n",
       " 'งอก',\n",
       " 'งั้น',\n",
       " 'งาม',\n",
       " 'ง่าย',\n",
       " 'จง',\n",
       " 'จงรัก',\n",
       " 'จงใจ',\n",
       " 'จดบันทึก',\n",
       " 'จน',\n",
       " 'จนใจ',\n",
       " 'จนได้',\n",
       " 'จบ',\n",
       " 'จม',\n",
       " 'จริงอยู่',\n",
       " 'จัก',\n",
       " 'จักรวาล',\n",
       " 'จัด',\n",
       " 'จันทรา',\n",
       " 'จับ',\n",
       " 'จับมือ',\n",
       " 'จั๋ง',\n",
       " 'จา',\n",
       " 'จากกัน',\n",
       " 'จากไป',\n",
       " 'จางหาย',\n",
       " 'จาน',\n",
       " 'จารุ',\n",
       " 'จำ',\n",
       " 'จำขึ้นใจ',\n",
       " 'จำจาก',\n",
       " 'จำเจ',\n",
       " 'จำเป็นต้อง',\n",
       " 'จำเริญ',\n",
       " 'จำได้',\n",
       " 'จำไว้',\n",
       " 'จินตนาการ',\n",
       " 'จี',\n",
       " 'จี๊ด',\n",
       " 'จืด',\n",
       " 'จืดจาง',\n",
       " 'จุ',\n",
       " 'จุดหมาย',\n",
       " 'จูงมือ',\n",
       " 'จูบ',\n",
       " 'จ้อง',\n",
       " 'ฉันนั้น',\n",
       " 'ฉาก',\n",
       " 'ฉาบ',\n",
       " 'ฉาย',\n",
       " 'ฉุด',\n",
       " 'ฉํน',\n",
       " 'ชน',\n",
       " 'ชนะ',\n",
       " 'ชมพู',\n",
       " 'ชวน',\n",
       " 'ชอบ',\n",
       " 'ชอบกล',\n",
       " 'ชะ',\n",
       " 'ชะตา',\n",
       " 'ชัด',\n",
       " 'ชัยชนะ',\n",
       " 'ชั่ว',\n",
       " 'ชั่วคราว',\n",
       " 'ชั่วโมง',\n",
       " 'ชา',\n",
       " 'ชาย',\n",
       " 'ชิ',\n",
       " 'ชิน',\n",
       " 'ชินชา',\n",
       " 'ชิม',\n",
       " 'ชิ้น',\n",
       " 'ชีพ',\n",
       " 'ชีวิต',\n",
       " 'ชี้',\n",
       " 'ชืด',\n",
       " 'ชื่นชม',\n",
       " 'ชื่นใจ',\n",
       " 'ชูรส',\n",
       " 'ช่วงเวลา',\n",
       " 'ช่วยกัน',\n",
       " 'ช่าง',\n",
       " 'ช่างมัน',\n",
       " 'ช่างมันเถอะ',\n",
       " 'ช้ำ',\n",
       " 'ช้ำใจ',\n",
       " 'ซะงั้น',\n",
       " 'ซัก',\n",
       " 'ซับซ้อน',\n",
       " 'ซา',\n",
       " 'ซีน',\n",
       " 'ซึ้ง',\n",
       " 'ซึ้งใจ',\n",
       " 'ซื่อสัตย์',\n",
       " 'ซ่อน',\n",
       " 'ซ้อน',\n",
       " 'ซ้ายมือ',\n",
       " 'ซ้ำ',\n",
       " 'ซ้ำไปซ้ำมา',\n",
       " 'ซ้ำๆ',\n",
       " 'ฐานะ',\n",
       " 'ดนตรี',\n",
       " 'ดม',\n",
       " 'ดวง',\n",
       " 'ดวงชะตา',\n",
       " 'ดวงอาทิตย์',\n",
       " 'ดวงใจ',\n",
       " 'ดวงไฟ',\n",
       " 'ดอก',\n",
       " 'ดังเช่น',\n",
       " 'ดังเดิม',\n",
       " 'ดังใจ',\n",
       " 'ดับ',\n",
       " 'ดารา',\n",
       " 'ดาว',\n",
       " 'ดาวอังคาร',\n",
       " 'ดำ',\n",
       " 'ดิ',\n",
       " 'ดิน',\n",
       " 'ดิ่ง',\n",
       " 'ดิ้น',\n",
       " 'ดิ้นรน',\n",
       " 'ดี',\n",
       " 'ดีกว่า',\n",
       " 'ดีกัน',\n",
       " 'ดีขึ้น',\n",
       " 'ดีมาก',\n",
       " 'ดีร้าย',\n",
       " 'ดีแล้ว',\n",
       " 'ดีใจ',\n",
       " 'ดึกดื่น',\n",
       " 'ดึงดัน',\n",
       " 'ดื้อ',\n",
       " 'ดุ',\n",
       " 'ดุจ',\n",
       " 'ดู',\n",
       " 'ดูก่อน',\n",
       " 'ดูจะ',\n",
       " 'ดูเหมือน',\n",
       " 'ดูแล',\n",
       " 'ด้วยดี',\n",
       " 'ด้วยตัวเอง',\n",
       " 'ด้วยมือ',\n",
       " 'ด้วยใจ',\n",
       " 'ด้านชา',\n",
       " 'ด์',\n",
       " 'ต',\n",
       " 'ตก',\n",
       " 'ตกตะลึง',\n",
       " 'ตกลง',\n",
       " 'ตนเอง',\n",
       " 'ตบมือ',\n",
       " 'ตรงกัน',\n",
       " 'ตรงนั้น',\n",
       " 'ตรงนี้',\n",
       " 'ตรงไป',\n",
       " 'ตรงไหน',\n",
       " 'ตรม',\n",
       " 'ตรอง',\n",
       " 'ตระหง่าน',\n",
       " 'ตราตรึง',\n",
       " 'ตราบ',\n",
       " 'ตราบใด',\n",
       " 'ตราบใดที่',\n",
       " 'ตลอดชีวิต',\n",
       " 'ตอก',\n",
       " 'ตอกย้ำ',\n",
       " 'ตอน',\n",
       " 'ตอนจบ',\n",
       " 'ตอนที่',\n",
       " 'ตอนท้าย',\n",
       " 'ตอนนั้น',\n",
       " 'ตอนนี้',\n",
       " 'ตอบ',\n",
       " 'ตอบคำถาม',\n",
       " 'ตะ',\n",
       " 'ตะวัน',\n",
       " 'ตักเตือน',\n",
       " 'ตัด',\n",
       " 'ตัดสิน',\n",
       " 'ตัดสินใจ',\n",
       " 'ตัดใจ',\n",
       " 'ตันติ',\n",
       " 'ตับ',\n",
       " 'ตัว',\n",
       " 'ตัวจริง',\n",
       " 'ตัวตน',\n",
       " 'ตัวเรา',\n",
       " 'ตัวเอก',\n",
       " 'ตั้งใจ',\n",
       " 'ตา',\n",
       " 'ตาค้าง',\n",
       " 'ตาบอด',\n",
       " 'ตาม',\n",
       " 'ตามนั้น',\n",
       " 'ตามฤดูกาล',\n",
       " 'ตามหา',\n",
       " 'ตาย',\n",
       " 'ตำ',\n",
       " 'ตำนาน',\n",
       " 'ติด',\n",
       " 'ติดใจ',\n",
       " 'ตี',\n",
       " 'ตึก',\n",
       " 'ตื่น',\n",
       " 'ตูน',\n",
       " 'ต่อ',\n",
       " 'ต่อจากนี้',\n",
       " 'ต่อหัว',\n",
       " 'ต่อให้',\n",
       " 'ต่อไป',\n",
       " 'ต่างกัน',\n",
       " 'ต้น',\n",
       " 'ต้อ',\n",
       " 'ต้องหา',\n",
       " 'ต์',\n",
       " 'ถดถอย',\n",
       " 'ถล่ม',\n",
       " 'ถอดใจ',\n",
       " 'ถอนตัว',\n",
       " 'ถอย',\n",
       " 'ถั่งโถม',\n",
       " 'ถา',\n",
       " 'ถาม',\n",
       " 'ถามถึง',\n",
       " 'ถามไถ่',\n",
       " 'ถึงกัน',\n",
       " 'ถึงตาย',\n",
       " 'ถึงที่',\n",
       " 'ถึงที่สุด',\n",
       " 'ถึงใจ',\n",
       " 'ถือเป็น',\n",
       " 'ถู',\n",
       " 'ถูกชะตา',\n",
       " 'ถูกที่',\n",
       " 'ถูกใจ',\n",
       " 'ถ่า',\n",
       " 'ถ่าคน',\n",
       " 'ถ้อยคำ',\n",
       " 'ถ้าอย่างนั้น',\n",
       " 'ทชี',\n",
       " 'ทน',\n",
       " 'ทนทุกข์ทรมาน',\n",
       " 'ทนไม่ไหว',\n",
       " 'ทบ',\n",
       " 'ทบทวน',\n",
       " 'ทรมาน',\n",
       " 'ทรวง',\n",
       " 'ทรามวัย',\n",
       " 'ทลาย',\n",
       " 'ทวน',\n",
       " 'ทอง',\n",
       " 'ทะยาน',\n",
       " 'ทะเล',\n",
       " 'ทะเลาะ',\n",
       " 'ทัก',\n",
       " 'ทักทาย',\n",
       " 'ทัต',\n",
       " 'ทันเวลา',\n",
       " 'ทันใจ',\n",
       " 'ทันใด',\n",
       " 'ทัวร์',\n",
       " 'ทั้งวัน',\n",
       " 'ทั้งสอง',\n",
       " 'ทั้งโลก',\n",
       " 'ทาง',\n",
       " 'ทางตัน',\n",
       " 'ทางเดิน',\n",
       " 'ทางเดียว',\n",
       " 'ทายใจ',\n",
       " 'ทารุณ',\n",
       " 'ทำ',\n",
       " 'ทำดี',\n",
       " 'ทำตัว',\n",
       " 'ทำตาม',\n",
       " 'ทำนอง',\n",
       " 'ทำนองเพลง',\n",
       " 'ทำร้าย',\n",
       " 'ทำลาย',\n",
       " 'ทำเป็น',\n",
       " 'ทำใจ',\n",
       " 'ทำได้',\n",
       " 'ทิศ',\n",
       " 'ทิ่มแทง',\n",
       " 'ทิ้ง',\n",
       " 'ทีนี้',\n",
       " 'ทีละเล็กละน้อย',\n",
       " 'ที่จะ',\n",
       " 'ที่ซ่อน',\n",
       " 'ที่ทาง',\n",
       " 'ที่ผ่านมา',\n",
       " 'ที่พัก',\n",
       " 'ที่มา',\n",
       " 'ที่รัก',\n",
       " 'ที่ว่างเปล่า',\n",
       " 'ที่สอง',\n",
       " 'ที่หวัง',\n",
       " 'ที่อยู่',\n",
       " 'ที่เก็บ',\n",
       " 'ทึ้ง',\n",
       " 'ทุกข์',\n",
       " 'ทุกข์ทรมาน',\n",
       " 'ทุกข์ระทม',\n",
       " 'ทุกข์ใจ',\n",
       " 'ทุกครั้งที่',\n",
       " 'ทุกคืน',\n",
       " 'ทุกราย',\n",
       " 'ทุกสิ่งทุกอย่าง',\n",
       " 'ทุกเวลา',\n",
       " 'ทุรนทุราย',\n",
       " 'ทุ่ม',\n",
       " 'ทุ่มเท',\n",
       " 'ท่าที',\n",
       " 'ท่ามกลาง',\n",
       " 'ท้อ',\n",
       " 'ท้อง',\n",
       " 'ท้องทะเล',\n",
       " 'ท้อแท้',\n",
       " 'ท้อใจ',\n",
       " 'ท้า',\n",
       " 'ท้าย',\n",
       " 'ธน',\n",
       " 'ธรรมดา',\n",
       " 'ธารา',\n",
       " 'ธุ',\n",
       " 'น.',\n",
       " 'นก',\n",
       " 'นท',\n",
       " 'นนท์',\n",
       " 'นภา',\n",
       " 'นภากาศ',\n",
       " 'นรก',\n",
       " 'นอกใจ',\n",
       " 'นอง',\n",
       " 'นอน',\n",
       " 'นักร้อง',\n",
       " 'นัน',\n",
       " 'นับวัน',\n",
       " 'นั่ง',\n",
       " 'นา',\n",
       " 'นาง',\n",
       " 'นาที',\n",
       " 'นาทีทอง',\n",
       " 'นานา',\n",
       " 'นานแสนนาน',\n",
       " 'นาม',\n",
       " 'นำทาง',\n",
       " 'นิดนึง',\n",
       " 'นิทรา',\n",
       " 'นิรันดร์',\n",
       " 'นิ่งเฉย',\n",
       " 'นิ้วมือ',\n",
       " 'นึก',\n",
       " 'นึกถึง',\n",
       " 'นึง',\n",
       " 'นุ',\n",
       " 'น่าดู',\n",
       " 'น่ารัก',\n",
       " 'น่าสนใจ',\n",
       " 'น่าอยู่',\n",
       " 'น่าเสียดาย',\n",
       " 'น่าเห็นใจ',\n",
       " 'น้อ',\n",
       " 'น้อง',\n",
       " 'น้อยลง',\n",
       " 'น้อยใจ',\n",
       " 'น้า',\n",
       " 'น้ำ',\n",
       " 'น้ำตา',\n",
       " 'น้ำทะเล',\n",
       " 'น้ำมัน',\n",
       " 'น้ำใจ',\n",
       " 'บ',\n",
       " 'บด',\n",
       " 'บท',\n",
       " 'บทเรียน',\n",
       " 'บน',\n",
       " 'บวก',\n",
       " 'บอ',\n",
       " 'บอกลา',\n",
       " 'บอบช้ำ',\n",
       " 'บัง',\n",
       " 'บังคับ',\n",
       " 'บังเอิญ',\n",
       " 'บัญชี',\n",
       " 'บางคน',\n",
       " 'บางสิ่ง',\n",
       " 'บางอย่าง',\n",
       " 'บาด',\n",
       " 'บาดาล',\n",
       " 'บาดเจ็บ',\n",
       " 'บาดแผล',\n",
       " 'บาน',\n",
       " 'บิน',\n",
       " 'บิ๊ก',\n",
       " 'บุก',\n",
       " 'บ่',\n",
       " 'บ่น',\n",
       " 'บ้า',\n",
       " 'บ้าน',\n",
       " 'ปกคลุม',\n",
       " 'ปน',\n",
       " 'ประกาย',\n",
       " 'ประคอง',\n",
       " 'ประคับประคอง',\n",
       " 'ประจำ',\n",
       " 'ประทับใจ',\n",
       " 'ประสา',\n",
       " 'ปรับตัว',\n",
       " 'ปราณี',\n",
       " 'ปริ่ม',\n",
       " 'ปรุง',\n",
       " 'ปรุงแต่ง',\n",
       " 'ปลอบใจ',\n",
       " 'ปลาย',\n",
       " 'ปลายทาง',\n",
       " 'ปลายนิ้ว',\n",
       " 'ปลิด',\n",
       " 'ปลิว',\n",
       " 'ปลิ้น',\n",
       " 'ปลื้ม',\n",
       " 'ปลุก',\n",
       " 'ปล่อย',\n",
       " 'ปล่อยทิ้ง',\n",
       " 'ปล่อยมือ',\n",
       " 'ปวด',\n",
       " 'ปวดร้าว',\n",
       " 'ปวดใจ',\n",
       " 'ปะปน',\n",
       " 'ปัญญา',\n",
       " 'ปัญหา',\n",
       " 'ปากคอ',\n",
       " 'ปางตาย',\n",
       " 'ปาด',\n",
       " 'ปิดฉาก',\n",
       " 'ปี',\n",
       " 'ปีก',\n",
       " 'ปีน',\n",
       " 'ปีนป่าย',\n",
       " 'ป่วนปั่น',\n",
       " 'ป่ะ',\n",
       " 'ป่านนี้',\n",
       " 'ป่าว',\n",
       " 'ป้องกัน',\n",
       " 'ป้า',\n",
       " 'ผก',\n",
       " 'ผม',\n",
       " 'ผลัก',\n",
       " 'ผลัดใบ',\n",
       " 'ผักบุ้ง',\n",
       " 'ผัด',\n",
       " 'ผัน',\n",
       " 'ผา',\n",
       " 'ผิดที่',\n",
       " 'ผิดหวัง',\n",
       " 'ผิน',\n",
       " 'ผูกพัน',\n",
       " 'ผู้คน',\n",
       " 'ผู้เดียว',\n",
       " 'ผ่านพบ',\n",
       " 'ผ่านพ้น',\n",
       " 'ฝน',\n",
       " 'ฝนซา',\n",
       " 'ฝนฟ้า',\n",
       " 'ฝัง',\n",
       " 'ฝังใจ',\n",
       " 'ฝังใน',\n",
       " 'ฝัน',\n",
       " 'ฝันดี',\n",
       " 'ฝันร้าย',\n",
       " 'ฝันใฝ่',\n",
       " 'ฝั่ง',\n",
       " 'ฝา',\n",
       " 'ฝาก',\n",
       " 'ฝืน',\n",
       " 'ฝืนทน',\n",
       " 'ฝืนใจ',\n",
       " 'ฝ่า',\n",
       " 'ฝ่าฟัน',\n",
       " 'พบกัน',\n",
       " 'พบคน',\n",
       " 'พบพาน',\n",
       " 'พระจันทร์',\n",
       " 'พรั่ง',\n",
       " 'พราก',\n",
       " 'พรากจากกัน',\n",
       " 'พราย',\n",
       " 'พราว',\n",
       " 'พรำ',\n",
       " 'พริบตาเดียว',\n",
       " 'พรุ่งนี้',\n",
       " 'พร่างพราย',\n",
       " 'พร่ำ',\n",
       " 'พร่ำเพ้อ',\n",
       " 'พลัง',\n",
       " 'พลัดพราก',\n",
       " 'พลัน',\n",
       " 'พลั้ง',\n",
       " 'พลั้งพลาด',\n",
       " 'พลาง',\n",
       " 'พลาด',\n",
       " 'พลาดพลั้ง',\n",
       " 'พลุ่งพล่าน',\n",
       " 'พวก',\n",
       " 'พอ',\n",
       " 'พอใจ',\n",
       " 'พอให้',\n",
       " 'พอได้',\n",
       " 'พอๆกับ',\n",
       " 'พัก',\n",
       " 'พัง',\n",
       " 'พัดผ่าน',\n",
       " 'พัดพา',\n",
       " 'พัตร',\n",
       " 'พัน',\n",
       " 'พันธะ',\n",
       " 'พายุ',\n",
       " 'พายุฝน',\n",
       " 'พิง',\n",
       " 'พิษ',\n",
       " 'พิสูจน์',\n",
       " 'พิเศษ',\n",
       " 'พี่',\n",
       " 'พี่น้อง',\n",
       " 'พื้น',\n",
       " 'พุ่มพวง',\n",
       " 'พูด',\n",
       " 'พูดค่อย',\n",
       " 'พูดจา',\n",
       " 'พูดว่า',\n",
       " 'พู่กัน',\n",
       " 'พ่อ',\n",
       " 'พ้น',\n",
       " 'พ้นไป',\n",
       " 'ฟัง',\n",
       " 'ฟาก',\n",
       " 'ฟิลลิ่ง',\n",
       " 'ฟื้น',\n",
       " 'ฟ้อง',\n",
       " 'ฟ้า',\n",
       " 'ภา',\n",
       " 'ภาพ',\n",
       " 'ภาพลวงตา',\n",
       " 'ภายในใจ',\n",
       " 'ภาระ',\n",
       " 'ภาวนา',\n",
       " 'ภูผา',\n",
       " 'มน',\n",
       " 'มนต์',\n",
       " 'มนุษย์',\n",
       " 'มองดู',\n",
       " 'มองผ่าน',\n",
       " 'มองหน้า',\n",
       " 'มองเห็น',\n",
       " 'มองไม่เห็น',\n",
       " 'มอด',\n",
       " 'มอบ',\n",
       " 'มัด',\n",
       " 'มันดี',\n",
       " 'มัว',\n",
       " 'มัวหมอง',\n",
       " 'มั่น',\n",
       " 'มั่นคง',\n",
       " 'มั่นใจ',\n",
       " 'มั้ง',\n",
       " 'มากเกินไป',\n",
       " 'มาจาก',\n",
       " 'มาตรฐาน',\n",
       " 'มาย',\n",
       " 'มายัง',\n",
       " 'มาร',\n",
       " 'มาสู่',\n",
       " 'มาหา',\n",
       " 'มาแรง',\n",
       " 'มี',\n",
       " 'มีข้อแม้',\n",
       " 'มีความสุข',\n",
       " 'มีความหมาย',\n",
       " 'มีคุณค่า',\n",
       " 'มีค่า',\n",
       " 'มีชีวิต',\n",
       " 'มีด',\n",
       " 'มีทาง',\n",
       " 'มีน้ำใจ',\n",
       " 'มีประโยชน์',\n",
       " 'มีปัญหา',\n",
       " 'มีผล',\n",
       " 'มีผลต่อ',\n",
       " 'มีสตางค์',\n",
       " 'มีสิทธิ์',\n",
       " 'มีหวัง',\n",
       " 'มีอำนาจ',\n",
       " 'มีเรื่อง',\n",
       " 'มีเสียง',\n",
       " 'มีโอกาส',\n",
       " 'มีใจ',\n",
       " 'มึด',\n",
       " 'มืด',\n",
       " 'มืดมน',\n",
       " 'มืดมัว',\n",
       " 'มืดมิด',\n",
       " 'มือ',\n",
       " 'มุม',\n",
       " 'ยอมจำนน',\n",
       " 'ยอมรับ',\n",
       " 'ยอมแพ้',\n",
       " 'ยอมให้',\n",
       " 'ยังมี',\n",
       " 'ยังอยู่',\n",
       " 'ยังเป็นอยู่',\n",
       " 'ยังไหว',\n",
       " 'ยับเยิน',\n",
       " 'ยั่งยืน',\n",
       " 'ยั่ว',\n",
       " 'ยั้ง',\n",
       " 'ยากเย็น',\n",
       " 'ยาพิษ',\n",
       " 'ยาม',\n",
       " 'ยามค่ำคืน',\n",
       " 'ยินดี',\n",
       " 'ยิ้ม',\n",
       " 'ยิ้มสู้',\n",
       " 'ยืดเวลา',\n",
       " 'ยืน',\n",
       " 'ยู',\n",
       " 'ย่อย',\n",
       " 'ย้อน',\n",
       " 'ย้ำ',\n",
       " 'ย้ำคำ',\n",
       " 'รถ',\n",
       " 'รถไฟ',\n",
       " 'รน',\n",
       " 'รบกวน',\n",
       " 'รวน',\n",
       " 'รวย',\n",
       " 'รส',\n",
       " 'รสจัด',\n",
       " 'รอ',\n",
       " 'รอนแรม',\n",
       " 'รอบ',\n",
       " 'รอบกาย',\n",
       " 'รอบตัว',\n",
       " 'รอย',\n",
       " 'รอยแตก',\n",
       " 'รอยแผล',\n",
       " 'ระทม',\n",
       " 'ระบบ',\n",
       " 'ระบาย',\n",
       " 'ระยะทาง',\n",
       " 'ระวัง',\n",
       " 'รัก',\n",
       " 'รักลวง',\n",
       " 'รักษา',\n",
       " 'รักเดียว',\n",
       " 'รักแท้',\n",
       " 'รักแรก',\n",
       " 'รัตน์',\n",
       " 'รับฟัง',\n",
       " 'รับฟังได้',\n",
       " 'รับใช้',\n",
       " 'รับได้',\n",
       " 'รั้ง',\n",
       " 'รั้งรอ',\n",
       " 'รา',\n",
       " 'รางวัล',\n",
       " 'รำ',\n",
       " 'รำพัน',\n",
       " 'รำไร',\n",
       " 'รี',\n",
       " 'รีบ',\n",
       " 'รีบร้อน',\n",
       " 'รีเลชัน',\n",
       " 'รึเปล่า',\n",
       " 'รูป',\n",
       " 'รูปภาพ',\n",
       " 'รู้',\n",
       " 'รู้กัน',\n",
       " 'รู้ความ',\n",
       " 'รู้คุณ',\n",
       " 'รู้คุณค่า',\n",
       " 'รู้จัก',\n",
       " 'รู้ซึ้ง',\n",
       " 'รู้ดี',\n",
       " 'รู้ตัว',\n",
       " 'รู้สึก',\n",
       " 'รู้อยู่',\n",
       " 'รู้เรื่องราว',\n",
       " 'รู้แก่ใจ',\n",
       " 'รู้ใจ',\n",
       " 'ร่',\n",
       " 'ร่วง',\n",
       " 'ร่วงโรย',\n",
       " 'ร่วมทาง',\n",
       " 'ร่วมแรง',\n",
       " 'ร่องรอย',\n",
       " 'ร่ำร้อง',\n",
       " 'ร่ำลา',\n",
       " 'ร่ำไป',\n",
       " 'ร้อง',\n",
       " 'ร้องเพลง',\n",
       " 'ร้องไห้',\n",
       " 'ร้อน',\n",
       " 'ร้อนตัว',\n",
       " 'ร้อนแรง',\n",
       " 'ร้อนใจ',\n",
       " 'ร้อย',\n",
       " 'ร้าย',\n",
       " ...]"
      ]
     },
     "execution_count": 57,
     "metadata": {},
     "output_type": "execute_result"
    }
   ],
   "source": [
    "cv.get_feature_names()"
   ]
  },
  {
   "cell_type": "code",
   "execution_count": 58,
   "metadata": {},
   "outputs": [
    {
     "data": {
      "text/html": [
       "<div>\n",
       "<style scoped>\n",
       "    .dataframe tbody tr th:only-of-type {\n",
       "        vertical-align: middle;\n",
       "    }\n",
       "\n",
       "    .dataframe tbody tr th {\n",
       "        vertical-align: top;\n",
       "    }\n",
       "\n",
       "    .dataframe thead th {\n",
       "        text-align: right;\n",
       "    }\n",
       "</style>\n",
       "<table border=\"1\" class=\"dataframe\">\n",
       "  <thead>\n",
       "    <tr style=\"text-align: right;\">\n",
       "      <th></th>\n",
       "      <th>word</th>\n",
       "      <th>weight</th>\n",
       "    </tr>\n",
       "  </thead>\n",
       "  <tbody>\n",
       "    <tr>\n",
       "      <th>1801</th>\n",
       "      <td>﻿</td>\n",
       "      <td>5.18205</td>\n",
       "    </tr>\n",
       "    <tr>\n",
       "      <th>853</th>\n",
       "      <td>มัวหมอง</td>\n",
       "      <td>5.18205</td>\n",
       "    </tr>\n",
       "    <tr>\n",
       "      <th>874</th>\n",
       "      <td>มีด</td>\n",
       "      <td>5.18205</td>\n",
       "    </tr>\n",
       "    <tr>\n",
       "      <th>1594</th>\n",
       "      <td>เเนบ</td>\n",
       "      <td>5.18205</td>\n",
       "    </tr>\n",
       "    <tr>\n",
       "      <th>871</th>\n",
       "      <td>มีคุณค่า</td>\n",
       "      <td>5.18205</td>\n",
       "    </tr>\n",
       "  </tbody>\n",
       "</table>\n",
       "</div>"
      ],
      "text/plain": [
       "          word   weight\n",
       "1801         ﻿  5.18205\n",
       "853    มัวหมอง  5.18205\n",
       "874        มีด  5.18205\n",
       "1594      เเนบ  5.18205\n",
       "871   มีคุณค่า  5.18205"
      ]
     },
     "execution_count": 58,
     "metadata": {},
     "output_type": "execute_result"
    }
   ],
   "source": [
    "# get highest weights\n",
    "tfidf_df.sort_values('weight', ascending=False).head()"
   ]
  },
  {
   "cell_type": "code",
   "execution_count": 60,
   "metadata": {},
   "outputs": [
    {
     "ename": "ValueError",
     "evalue": "columns overlap but no suffix specified: Index(['tf_idf_vector', 'tf_idf_score'], dtype='object')",
     "output_type": "error",
     "traceback": [
      "\u001b[1;31m---------------------------------------------------------------------------\u001b[0m",
      "\u001b[1;31mValueError\u001b[0m                                Traceback (most recent call last)",
      "\u001b[1;32m<ipython-input-60-9783e2406f6a>\u001b[0m in \u001b[0;36m<module>\u001b[1;34m\u001b[0m\n\u001b[0;32m     11\u001b[0m \u001b[1;33m\u001b[0m\u001b[0m\n\u001b[0;32m     12\u001b[0m \u001b[1;31m# join valus to selected artists\u001b[0m\u001b[1;33m\u001b[0m\u001b[1;33m\u001b[0m\u001b[1;33m\u001b[0m\u001b[0m\n\u001b[1;32m---> 13\u001b[1;33m \u001b[0msong_filter_df\u001b[0m \u001b[1;33m=\u001b[0m \u001b[0msong_filter_df\u001b[0m\u001b[1;33m.\u001b[0m\u001b[0mjoin\u001b[0m\u001b[1;33m(\u001b[0m\u001b[0msong_df\u001b[0m\u001b[1;33m[\u001b[0m\u001b[1;33m[\u001b[0m\u001b[1;34m'tf_idf_vector'\u001b[0m\u001b[1;33m,\u001b[0m \u001b[1;34m'tf_idf_score'\u001b[0m\u001b[1;33m]\u001b[0m\u001b[1;33m]\u001b[0m\u001b[1;33m)\u001b[0m\u001b[1;33m\u001b[0m\u001b[1;33m\u001b[0m\u001b[0m\n\u001b[0m",
      "\u001b[1;32m~\\anaconda3\\lib\\site-packages\\pandas\\core\\frame.py\u001b[0m in \u001b[0;36mjoin\u001b[1;34m(self, other, on, how, lsuffix, rsuffix, sort)\u001b[0m\n\u001b[0;32m   7868\u001b[0m         \u001b[1;36m5\u001b[0m  \u001b[0mK5\u001b[0m  \u001b[0mA5\u001b[0m  \u001b[0mNaN\u001b[0m\u001b[1;33m\u001b[0m\u001b[1;33m\u001b[0m\u001b[0m\n\u001b[0;32m   7869\u001b[0m         \"\"\"\n\u001b[1;32m-> 7870\u001b[1;33m         return self._join_compat(\n\u001b[0m\u001b[0;32m   7871\u001b[0m             \u001b[0mother\u001b[0m\u001b[1;33m,\u001b[0m \u001b[0mon\u001b[0m\u001b[1;33m=\u001b[0m\u001b[0mon\u001b[0m\u001b[1;33m,\u001b[0m \u001b[0mhow\u001b[0m\u001b[1;33m=\u001b[0m\u001b[0mhow\u001b[0m\u001b[1;33m,\u001b[0m \u001b[0mlsuffix\u001b[0m\u001b[1;33m=\u001b[0m\u001b[0mlsuffix\u001b[0m\u001b[1;33m,\u001b[0m \u001b[0mrsuffix\u001b[0m\u001b[1;33m=\u001b[0m\u001b[0mrsuffix\u001b[0m\u001b[1;33m,\u001b[0m \u001b[0msort\u001b[0m\u001b[1;33m=\u001b[0m\u001b[0msort\u001b[0m\u001b[1;33m\u001b[0m\u001b[1;33m\u001b[0m\u001b[0m\n\u001b[0;32m   7872\u001b[0m         )\n",
      "\u001b[1;32m~\\anaconda3\\lib\\site-packages\\pandas\\core\\frame.py\u001b[0m in \u001b[0;36m_join_compat\u001b[1;34m(self, other, on, how, lsuffix, rsuffix, sort)\u001b[0m\n\u001b[0;32m   7884\u001b[0m \u001b[1;33m\u001b[0m\u001b[0m\n\u001b[0;32m   7885\u001b[0m         \u001b[1;32mif\u001b[0m \u001b[0misinstance\u001b[0m\u001b[1;33m(\u001b[0m\u001b[0mother\u001b[0m\u001b[1;33m,\u001b[0m \u001b[0mDataFrame\u001b[0m\u001b[1;33m)\u001b[0m\u001b[1;33m:\u001b[0m\u001b[1;33m\u001b[0m\u001b[1;33m\u001b[0m\u001b[0m\n\u001b[1;32m-> 7886\u001b[1;33m             return merge(\n\u001b[0m\u001b[0;32m   7887\u001b[0m                 \u001b[0mself\u001b[0m\u001b[1;33m,\u001b[0m\u001b[1;33m\u001b[0m\u001b[1;33m\u001b[0m\u001b[0m\n\u001b[0;32m   7888\u001b[0m                 \u001b[0mother\u001b[0m\u001b[1;33m,\u001b[0m\u001b[1;33m\u001b[0m\u001b[1;33m\u001b[0m\u001b[0m\n",
      "\u001b[1;32m~\\anaconda3\\lib\\site-packages\\pandas\\core\\reshape\\merge.py\u001b[0m in \u001b[0;36mmerge\u001b[1;34m(left, right, how, on, left_on, right_on, left_index, right_index, sort, suffixes, copy, indicator, validate)\u001b[0m\n\u001b[0;32m     87\u001b[0m         \u001b[0mvalidate\u001b[0m\u001b[1;33m=\u001b[0m\u001b[0mvalidate\u001b[0m\u001b[1;33m,\u001b[0m\u001b[1;33m\u001b[0m\u001b[1;33m\u001b[0m\u001b[0m\n\u001b[0;32m     88\u001b[0m     )\n\u001b[1;32m---> 89\u001b[1;33m     \u001b[1;32mreturn\u001b[0m \u001b[0mop\u001b[0m\u001b[1;33m.\u001b[0m\u001b[0mget_result\u001b[0m\u001b[1;33m(\u001b[0m\u001b[1;33m)\u001b[0m\u001b[1;33m\u001b[0m\u001b[1;33m\u001b[0m\u001b[0m\n\u001b[0m\u001b[0;32m     90\u001b[0m \u001b[1;33m\u001b[0m\u001b[0m\n\u001b[0;32m     91\u001b[0m \u001b[1;33m\u001b[0m\u001b[0m\n",
      "\u001b[1;32m~\\anaconda3\\lib\\site-packages\\pandas\\core\\reshape\\merge.py\u001b[0m in \u001b[0;36mget_result\u001b[1;34m(self)\u001b[0m\n\u001b[0;32m    668\u001b[0m         \u001b[0mjoin_index\u001b[0m\u001b[1;33m,\u001b[0m \u001b[0mleft_indexer\u001b[0m\u001b[1;33m,\u001b[0m \u001b[0mright_indexer\u001b[0m \u001b[1;33m=\u001b[0m \u001b[0mself\u001b[0m\u001b[1;33m.\u001b[0m\u001b[0m_get_join_info\u001b[0m\u001b[1;33m(\u001b[0m\u001b[1;33m)\u001b[0m\u001b[1;33m\u001b[0m\u001b[1;33m\u001b[0m\u001b[0m\n\u001b[0;32m    669\u001b[0m \u001b[1;33m\u001b[0m\u001b[0m\n\u001b[1;32m--> 670\u001b[1;33m         llabels, rlabels = _items_overlap_with_suffix(\n\u001b[0m\u001b[0;32m    671\u001b[0m             \u001b[0mself\u001b[0m\u001b[1;33m.\u001b[0m\u001b[0mleft\u001b[0m\u001b[1;33m.\u001b[0m\u001b[0m_info_axis\u001b[0m\u001b[1;33m,\u001b[0m \u001b[0mself\u001b[0m\u001b[1;33m.\u001b[0m\u001b[0mright\u001b[0m\u001b[1;33m.\u001b[0m\u001b[0m_info_axis\u001b[0m\u001b[1;33m,\u001b[0m \u001b[0mself\u001b[0m\u001b[1;33m.\u001b[0m\u001b[0msuffixes\u001b[0m\u001b[1;33m\u001b[0m\u001b[1;33m\u001b[0m\u001b[0m\n\u001b[0;32m    672\u001b[0m         )\n",
      "\u001b[1;32m~\\anaconda3\\lib\\site-packages\\pandas\\core\\reshape\\merge.py\u001b[0m in \u001b[0;36m_items_overlap_with_suffix\u001b[1;34m(left, right, suffixes)\u001b[0m\n\u001b[0;32m   2089\u001b[0m \u001b[1;33m\u001b[0m\u001b[0m\n\u001b[0;32m   2090\u001b[0m     \u001b[1;32mif\u001b[0m \u001b[1;32mnot\u001b[0m \u001b[0mlsuffix\u001b[0m \u001b[1;32mand\u001b[0m \u001b[1;32mnot\u001b[0m \u001b[0mrsuffix\u001b[0m\u001b[1;33m:\u001b[0m\u001b[1;33m\u001b[0m\u001b[1;33m\u001b[0m\u001b[0m\n\u001b[1;32m-> 2091\u001b[1;33m         \u001b[1;32mraise\u001b[0m \u001b[0mValueError\u001b[0m\u001b[1;33m(\u001b[0m\u001b[1;34mf\"columns overlap but no suffix specified: {to_rename}\"\u001b[0m\u001b[1;33m)\u001b[0m\u001b[1;33m\u001b[0m\u001b[1;33m\u001b[0m\u001b[0m\n\u001b[0m\u001b[0;32m   2092\u001b[0m \u001b[1;33m\u001b[0m\u001b[0m\n\u001b[0;32m   2093\u001b[0m     \u001b[1;32mdef\u001b[0m \u001b[0mrenamer\u001b[0m\u001b[1;33m(\u001b[0m\u001b[0mx\u001b[0m\u001b[1;33m,\u001b[0m \u001b[0msuffix\u001b[0m\u001b[1;33m)\u001b[0m\u001b[1;33m:\u001b[0m\u001b[1;33m\u001b[0m\u001b[1;33m\u001b[0m\u001b[0m\n",
      "\u001b[1;31mValueError\u001b[0m: columns overlap but no suffix specified: Index(['tf_idf_vector', 'tf_idf_score'], dtype='object')"
     ]
    }
   ],
   "source": [
    "# assign tf idf scores to each song\n",
    "tf_idf_vector = tfidf_transformer.transform(word_count_vector)\n",
    "\n",
    "# attach count vectors to dataframe\n",
    "tf_idf_vector_lst = [-1] * len(song_df)\n",
    "for i in range(len(song_df)):\n",
    "    tf_idf_vector_lst[i] = tf_idf_vector[i]\n",
    "song_df['tf_idf_vector'] = tf_idf_vector_lst    \n",
    "\n",
    "song_df['tf_idf_score'] = song_df['tf_idf_vector'].map(lambda vec: np.sum(vec.todense()))\n",
    "\n",
    "# join valus to selected artists\n",
    "song_filter_df = song_filter_df.join(song_df[['tf_idf_vector', 'tf_idf_score']])"
   ]
  },
  {
   "cell_type": "code",
   "execution_count": 91,
   "metadata": {},
   "outputs": [
    {
     "data": {
      "text/plain": [
       "array([[0., 0., 0., ..., 0., 0., 0.],\n",
       "       [0., 0., 0., ..., 0., 0., 0.],\n",
       "       [0., 0., 0., ..., 1., 0., 0.],\n",
       "       ...,\n",
       "       [0., 0., 0., ..., 0., 0., 0.],\n",
       "       [0., 0., 0., ..., 0., 0., 0.],\n",
       "       [0., 0., 0., ..., 0., 0., 0.]])"
      ]
     },
     "execution_count": 91,
     "metadata": {},
     "output_type": "execute_result"
    }
   ],
   "source": [
    "t_feat2.toarray()"
   ]
  },
  {
   "cell_type": "code",
   "execution_count": 61,
   "metadata": {},
   "outputs": [
    {
     "data": {
      "application/vnd.plotly.v1+json": {
       "config": {
        "plotlyServerURL": "https://plot.ly"
       },
       "data": [
        {
         "alignmentgroup": "True",
         "hovertemplate": "artist=%{x}<br>tf_idf_score=%{y}<extra></extra>",
         "legendgroup": "",
         "marker": {
          "color": "#636efa"
         },
         "name": "",
         "notched": false,
         "offsetgroup": "",
         "orientation": "v",
         "showlegend": false,
         "type": "box",
         "x": [
          "bodyslam",
          "bodyslam",
          "bodyslam",
          "bodyslam",
          "bodyslam",
          "bodyslam",
          "bodyslam",
          "bodyslam",
          "bodyslam",
          "bodyslam",
          "bodyslam",
          "bodyslam",
          "bodyslam",
          "bodyslam",
          "bodyslam",
          "bodyslam",
          "bodyslam",
          "bodyslam",
          "bodyslam",
          "bodyslam",
          "bodyslam",
          "bodyslam",
          "bodyslam",
          "bodyslam",
          "bodyslam",
          "bodyslam",
          "bodyslam",
          "bodyslam",
          "bodyslam",
          "bodyslam",
          "bodyslam",
          "bodyslam",
          "bodyslam",
          "bodyslam",
          "bodyslam",
          "bodyslam",
          "bodyslam",
          "bodyslam",
          "bodyslam",
          "bodyslam",
          "bodyslam",
          "bodyslam",
          "bodyslam",
          "bodyslam",
          "bodyslam",
          "bodyslam",
          "bodyslam",
          "bodyslam",
          "bodyslam",
          "bodyslam",
          "bodyslam",
          "bodyslam",
          "bodyslam",
          "bodyslam",
          "bodyslam",
          "bodyslam",
          "bodyslam",
          "bodyslam",
          "bodyslam",
          "bodyslam",
          "bodyslam",
          "bodyslam",
          "bodyslam",
          "bodyslam",
          "bodyslam",
          "bodyslam",
          "nont_tanont",
          "nont_tanont",
          "nont_tanont",
          "nont_tanont",
          "nont_tanont",
          "nont_tanont",
          "nont_tanont",
          "nont_tanont",
          "nont_tanont",
          "nont_tanont",
          "nont_tanont",
          "nont_tanont",
          "nont_tanont",
          "nont_tanont",
          "nont_tanont",
          "nont_tanont",
          "nont_tanont",
          "nont_tanont",
          "nont_tanont",
          "nont_tanont",
          "nont_tanont",
          "nont_tanont",
          "nont_tanont",
          "nont_tanont",
          "nont_tanont",
          "nont_tanont",
          "nont_tanont",
          "nont_tanont",
          "nont_tanont",
          "nont_tanont",
          "nont_tanont",
          "nont_tanont",
          "nont_tanont",
          "nont_tanont",
          "nont_tanont",
          "nont_tanont",
          "tilly_birds",
          "tilly_birds",
          "tilly_birds",
          "tilly_birds",
          "tilly_birds",
          "tilly_birds",
          "tilly_birds",
          "tilly_birds",
          "tilly_birds",
          "tilly_birds",
          "tilly_birds",
          "tilly_birds",
          "tilly_birds",
          "tilly_birds",
          "tilly_birds",
          "tilly_birds",
          "tilly_birds",
          "tilly_birds",
          "tilly_birds",
          "tilly_birds",
          "tilly_birds",
          "tilly_birds",
          "tilly_birds",
          "tilly_birds",
          "tilly_birds",
          "tilly_birds",
          "tilly_birds",
          "tilly_birds"
         ],
         "x0": " ",
         "xaxis": "x",
         "y": [
          5.727448130458776,
          5.200108521858464,
          4.785254440858855,
          5.609033522201413,
          4.969568180703898,
          5.133384291577929,
          4.389336719885655,
          4.732108343551643,
          4.634114018815847,
          5.0535471717766764,
          4.741588694548617,
          8.432134314593643,
          5.631008290118023,
          6.2357744355374685,
          7.723528335419191,
          5.677628971480557,
          6.2618788714617075,
          4.452181953149422,
          5.699053342496365,
          3.571839881485591,
          5.302480810282776,
          4.861292173346436,
          4.2089880669118696,
          4.2621292302744855,
          5.71980237187265,
          5.74384635999351,
          5.736216174206149,
          6.526155684387247,
          5.750131735093226,
          6.35300564319685,
          6.720954113143287,
          4.395553977418729,
          6.29751625262555,
          4.5397335844842175,
          5.321887465116934,
          6.8850429182418775,
          6.232179852430397,
          7.006105734874665,
          4.86046005030884,
          7.740672693490334,
          4.166128332775163,
          5.33333047000891,
          6.114573575004348,
          7.033685888716999,
          4.7511416777065865,
          4.266316989239691,
          4.252867989029357,
          4.094858161761236,
          5.042380615575389,
          4.510363002103438,
          5.503635597773488,
          5.394846074378942,
          6.4860897925933685,
          4.811518235691406,
          6.18972480267877,
          6.299850988888929,
          8.179337432591481,
          7.2688652367235616,
          5.417589449972433,
          6.968670268205137,
          6.176881905401192,
          6.65457636360834,
          6.556188216351836,
          6.060340819122164,
          5.310322074258029,
          3.9478790264451504,
          6.179464901964409,
          5.350731087755854,
          7.025533164490096,
          3.0531235005835904,
          4.343887295178936,
          5.021955743641136,
          5.065083976968673,
          5.567950278040236,
          3.9642534032260954,
          5.635254838438753,
          5.975274458805764,
          5.299837596968171,
          5.325839716822859,
          4.793050259578061,
          4.3544309916916175,
          4.9561930564958665,
          4.345509235703455,
          4.872807778702063,
          4.873235023221543,
          4.388826483855994,
          5.083259097932578,
          4.459534032525864,
          7.373094131619521,
          3.4775921515546235,
          4.984396544596455,
          5.006786756479931,
          5.2108622499624095,
          6.285782859844003,
          4.16400870904741,
          4.65305478232336,
          4.6234747550759305,
          5.275936179966313,
          5.963892097406706,
          5.365718980198334,
          7.53955688968078,
          5.199528494314466,
          4.966000709496136,
          5.283009285589904,
          5.222466545441194,
          3.428313835613526,
          4.709147545764377,
          5.420606611544557,
          6.3087184006794175,
          4.6898618063154895,
          3.5190030657556948,
          5.625433182352884,
          4.608799809392034,
          4.607560569450769,
          3.990655121626161,
          6.356171779714998,
          5.396980490259221,
          6.061988379452904,
          3.1244937927313785,
          4.0976546522564865,
          5.232950223615816,
          5.544476779195729,
          2.688186706496876,
          7.3633953223759665,
          2.4135093437242294,
          4.448674862146213,
          4.865304295117574,
          5.151720006873822,
          6.171343308478168,
          5.506780371580694
         ],
         "y0": " ",
         "yaxis": "y"
        }
       ],
       "layout": {
        "boxmode": "group",
        "legend": {
         "tracegroupgap": 0
        },
        "template": {
         "data": {
          "bar": [
           {
            "error_x": {
             "color": "#2a3f5f"
            },
            "error_y": {
             "color": "#2a3f5f"
            },
            "marker": {
             "line": {
              "color": "#E5ECF6",
              "width": 0.5
             },
             "pattern": {
              "fillmode": "overlay",
              "size": 10,
              "solidity": 0.2
             }
            },
            "type": "bar"
           }
          ],
          "barpolar": [
           {
            "marker": {
             "line": {
              "color": "#E5ECF6",
              "width": 0.5
             },
             "pattern": {
              "fillmode": "overlay",
              "size": 10,
              "solidity": 0.2
             }
            },
            "type": "barpolar"
           }
          ],
          "carpet": [
           {
            "aaxis": {
             "endlinecolor": "#2a3f5f",
             "gridcolor": "white",
             "linecolor": "white",
             "minorgridcolor": "white",
             "startlinecolor": "#2a3f5f"
            },
            "baxis": {
             "endlinecolor": "#2a3f5f",
             "gridcolor": "white",
             "linecolor": "white",
             "minorgridcolor": "white",
             "startlinecolor": "#2a3f5f"
            },
            "type": "carpet"
           }
          ],
          "choropleth": [
           {
            "colorbar": {
             "outlinewidth": 0,
             "ticks": ""
            },
            "type": "choropleth"
           }
          ],
          "contour": [
           {
            "colorbar": {
             "outlinewidth": 0,
             "ticks": ""
            },
            "colorscale": [
             [
              0,
              "#0d0887"
             ],
             [
              0.1111111111111111,
              "#46039f"
             ],
             [
              0.2222222222222222,
              "#7201a8"
             ],
             [
              0.3333333333333333,
              "#9c179e"
             ],
             [
              0.4444444444444444,
              "#bd3786"
             ],
             [
              0.5555555555555556,
              "#d8576b"
             ],
             [
              0.6666666666666666,
              "#ed7953"
             ],
             [
              0.7777777777777778,
              "#fb9f3a"
             ],
             [
              0.8888888888888888,
              "#fdca26"
             ],
             [
              1,
              "#f0f921"
             ]
            ],
            "type": "contour"
           }
          ],
          "contourcarpet": [
           {
            "colorbar": {
             "outlinewidth": 0,
             "ticks": ""
            },
            "type": "contourcarpet"
           }
          ],
          "heatmap": [
           {
            "colorbar": {
             "outlinewidth": 0,
             "ticks": ""
            },
            "colorscale": [
             [
              0,
              "#0d0887"
             ],
             [
              0.1111111111111111,
              "#46039f"
             ],
             [
              0.2222222222222222,
              "#7201a8"
             ],
             [
              0.3333333333333333,
              "#9c179e"
             ],
             [
              0.4444444444444444,
              "#bd3786"
             ],
             [
              0.5555555555555556,
              "#d8576b"
             ],
             [
              0.6666666666666666,
              "#ed7953"
             ],
             [
              0.7777777777777778,
              "#fb9f3a"
             ],
             [
              0.8888888888888888,
              "#fdca26"
             ],
             [
              1,
              "#f0f921"
             ]
            ],
            "type": "heatmap"
           }
          ],
          "heatmapgl": [
           {
            "colorbar": {
             "outlinewidth": 0,
             "ticks": ""
            },
            "colorscale": [
             [
              0,
              "#0d0887"
             ],
             [
              0.1111111111111111,
              "#46039f"
             ],
             [
              0.2222222222222222,
              "#7201a8"
             ],
             [
              0.3333333333333333,
              "#9c179e"
             ],
             [
              0.4444444444444444,
              "#bd3786"
             ],
             [
              0.5555555555555556,
              "#d8576b"
             ],
             [
              0.6666666666666666,
              "#ed7953"
             ],
             [
              0.7777777777777778,
              "#fb9f3a"
             ],
             [
              0.8888888888888888,
              "#fdca26"
             ],
             [
              1,
              "#f0f921"
             ]
            ],
            "type": "heatmapgl"
           }
          ],
          "histogram": [
           {
            "marker": {
             "pattern": {
              "fillmode": "overlay",
              "size": 10,
              "solidity": 0.2
             }
            },
            "type": "histogram"
           }
          ],
          "histogram2d": [
           {
            "colorbar": {
             "outlinewidth": 0,
             "ticks": ""
            },
            "colorscale": [
             [
              0,
              "#0d0887"
             ],
             [
              0.1111111111111111,
              "#46039f"
             ],
             [
              0.2222222222222222,
              "#7201a8"
             ],
             [
              0.3333333333333333,
              "#9c179e"
             ],
             [
              0.4444444444444444,
              "#bd3786"
             ],
             [
              0.5555555555555556,
              "#d8576b"
             ],
             [
              0.6666666666666666,
              "#ed7953"
             ],
             [
              0.7777777777777778,
              "#fb9f3a"
             ],
             [
              0.8888888888888888,
              "#fdca26"
             ],
             [
              1,
              "#f0f921"
             ]
            ],
            "type": "histogram2d"
           }
          ],
          "histogram2dcontour": [
           {
            "colorbar": {
             "outlinewidth": 0,
             "ticks": ""
            },
            "colorscale": [
             [
              0,
              "#0d0887"
             ],
             [
              0.1111111111111111,
              "#46039f"
             ],
             [
              0.2222222222222222,
              "#7201a8"
             ],
             [
              0.3333333333333333,
              "#9c179e"
             ],
             [
              0.4444444444444444,
              "#bd3786"
             ],
             [
              0.5555555555555556,
              "#d8576b"
             ],
             [
              0.6666666666666666,
              "#ed7953"
             ],
             [
              0.7777777777777778,
              "#fb9f3a"
             ],
             [
              0.8888888888888888,
              "#fdca26"
             ],
             [
              1,
              "#f0f921"
             ]
            ],
            "type": "histogram2dcontour"
           }
          ],
          "mesh3d": [
           {
            "colorbar": {
             "outlinewidth": 0,
             "ticks": ""
            },
            "type": "mesh3d"
           }
          ],
          "parcoords": [
           {
            "line": {
             "colorbar": {
              "outlinewidth": 0,
              "ticks": ""
             }
            },
            "type": "parcoords"
           }
          ],
          "pie": [
           {
            "automargin": true,
            "type": "pie"
           }
          ],
          "scatter": [
           {
            "fillpattern": {
             "fillmode": "overlay",
             "size": 10,
             "solidity": 0.2
            },
            "type": "scatter"
           }
          ],
          "scatter3d": [
           {
            "line": {
             "colorbar": {
              "outlinewidth": 0,
              "ticks": ""
             }
            },
            "marker": {
             "colorbar": {
              "outlinewidth": 0,
              "ticks": ""
             }
            },
            "type": "scatter3d"
           }
          ],
          "scattercarpet": [
           {
            "marker": {
             "colorbar": {
              "outlinewidth": 0,
              "ticks": ""
             }
            },
            "type": "scattercarpet"
           }
          ],
          "scattergeo": [
           {
            "marker": {
             "colorbar": {
              "outlinewidth": 0,
              "ticks": ""
             }
            },
            "type": "scattergeo"
           }
          ],
          "scattergl": [
           {
            "marker": {
             "colorbar": {
              "outlinewidth": 0,
              "ticks": ""
             }
            },
            "type": "scattergl"
           }
          ],
          "scattermapbox": [
           {
            "marker": {
             "colorbar": {
              "outlinewidth": 0,
              "ticks": ""
             }
            },
            "type": "scattermapbox"
           }
          ],
          "scatterpolar": [
           {
            "marker": {
             "colorbar": {
              "outlinewidth": 0,
              "ticks": ""
             }
            },
            "type": "scatterpolar"
           }
          ],
          "scatterpolargl": [
           {
            "marker": {
             "colorbar": {
              "outlinewidth": 0,
              "ticks": ""
             }
            },
            "type": "scatterpolargl"
           }
          ],
          "scatterternary": [
           {
            "marker": {
             "colorbar": {
              "outlinewidth": 0,
              "ticks": ""
             }
            },
            "type": "scatterternary"
           }
          ],
          "surface": [
           {
            "colorbar": {
             "outlinewidth": 0,
             "ticks": ""
            },
            "colorscale": [
             [
              0,
              "#0d0887"
             ],
             [
              0.1111111111111111,
              "#46039f"
             ],
             [
              0.2222222222222222,
              "#7201a8"
             ],
             [
              0.3333333333333333,
              "#9c179e"
             ],
             [
              0.4444444444444444,
              "#bd3786"
             ],
             [
              0.5555555555555556,
              "#d8576b"
             ],
             [
              0.6666666666666666,
              "#ed7953"
             ],
             [
              0.7777777777777778,
              "#fb9f3a"
             ],
             [
              0.8888888888888888,
              "#fdca26"
             ],
             [
              1,
              "#f0f921"
             ]
            ],
            "type": "surface"
           }
          ],
          "table": [
           {
            "cells": {
             "fill": {
              "color": "#EBF0F8"
             },
             "line": {
              "color": "white"
             }
            },
            "header": {
             "fill": {
              "color": "#C8D4E3"
             },
             "line": {
              "color": "white"
             }
            },
            "type": "table"
           }
          ]
         },
         "layout": {
          "annotationdefaults": {
           "arrowcolor": "#2a3f5f",
           "arrowhead": 0,
           "arrowwidth": 1
          },
          "autotypenumbers": "strict",
          "coloraxis": {
           "colorbar": {
            "outlinewidth": 0,
            "ticks": ""
           }
          },
          "colorscale": {
           "diverging": [
            [
             0,
             "#8e0152"
            ],
            [
             0.1,
             "#c51b7d"
            ],
            [
             0.2,
             "#de77ae"
            ],
            [
             0.3,
             "#f1b6da"
            ],
            [
             0.4,
             "#fde0ef"
            ],
            [
             0.5,
             "#f7f7f7"
            ],
            [
             0.6,
             "#e6f5d0"
            ],
            [
             0.7,
             "#b8e186"
            ],
            [
             0.8,
             "#7fbc41"
            ],
            [
             0.9,
             "#4d9221"
            ],
            [
             1,
             "#276419"
            ]
           ],
           "sequential": [
            [
             0,
             "#0d0887"
            ],
            [
             0.1111111111111111,
             "#46039f"
            ],
            [
             0.2222222222222222,
             "#7201a8"
            ],
            [
             0.3333333333333333,
             "#9c179e"
            ],
            [
             0.4444444444444444,
             "#bd3786"
            ],
            [
             0.5555555555555556,
             "#d8576b"
            ],
            [
             0.6666666666666666,
             "#ed7953"
            ],
            [
             0.7777777777777778,
             "#fb9f3a"
            ],
            [
             0.8888888888888888,
             "#fdca26"
            ],
            [
             1,
             "#f0f921"
            ]
           ],
           "sequentialminus": [
            [
             0,
             "#0d0887"
            ],
            [
             0.1111111111111111,
             "#46039f"
            ],
            [
             0.2222222222222222,
             "#7201a8"
            ],
            [
             0.3333333333333333,
             "#9c179e"
            ],
            [
             0.4444444444444444,
             "#bd3786"
            ],
            [
             0.5555555555555556,
             "#d8576b"
            ],
            [
             0.6666666666666666,
             "#ed7953"
            ],
            [
             0.7777777777777778,
             "#fb9f3a"
            ],
            [
             0.8888888888888888,
             "#fdca26"
            ],
            [
             1,
             "#f0f921"
            ]
           ]
          },
          "colorway": [
           "#636efa",
           "#EF553B",
           "#00cc96",
           "#ab63fa",
           "#FFA15A",
           "#19d3f3",
           "#FF6692",
           "#B6E880",
           "#FF97FF",
           "#FECB52"
          ],
          "font": {
           "color": "#2a3f5f"
          },
          "geo": {
           "bgcolor": "white",
           "lakecolor": "white",
           "landcolor": "#E5ECF6",
           "showlakes": true,
           "showland": true,
           "subunitcolor": "white"
          },
          "hoverlabel": {
           "align": "left"
          },
          "hovermode": "closest",
          "mapbox": {
           "style": "light"
          },
          "paper_bgcolor": "white",
          "plot_bgcolor": "#E5ECF6",
          "polar": {
           "angularaxis": {
            "gridcolor": "white",
            "linecolor": "white",
            "ticks": ""
           },
           "bgcolor": "#E5ECF6",
           "radialaxis": {
            "gridcolor": "white",
            "linecolor": "white",
            "ticks": ""
           }
          },
          "scene": {
           "xaxis": {
            "backgroundcolor": "#E5ECF6",
            "gridcolor": "white",
            "gridwidth": 2,
            "linecolor": "white",
            "showbackground": true,
            "ticks": "",
            "zerolinecolor": "white"
           },
           "yaxis": {
            "backgroundcolor": "#E5ECF6",
            "gridcolor": "white",
            "gridwidth": 2,
            "linecolor": "white",
            "showbackground": true,
            "ticks": "",
            "zerolinecolor": "white"
           },
           "zaxis": {
            "backgroundcolor": "#E5ECF6",
            "gridcolor": "white",
            "gridwidth": 2,
            "linecolor": "white",
            "showbackground": true,
            "ticks": "",
            "zerolinecolor": "white"
           }
          },
          "shapedefaults": {
           "line": {
            "color": "#2a3f5f"
           }
          },
          "ternary": {
           "aaxis": {
            "gridcolor": "white",
            "linecolor": "white",
            "ticks": ""
           },
           "baxis": {
            "gridcolor": "white",
            "linecolor": "white",
            "ticks": ""
           },
           "bgcolor": "#E5ECF6",
           "caxis": {
            "gridcolor": "white",
            "linecolor": "white",
            "ticks": ""
           }
          },
          "title": {
           "x": 0.05
          },
          "xaxis": {
           "automargin": true,
           "gridcolor": "white",
           "linecolor": "white",
           "ticks": "",
           "title": {
            "standoff": 15
           },
           "zerolinecolor": "white",
           "zerolinewidth": 2
          },
          "yaxis": {
           "automargin": true,
           "gridcolor": "white",
           "linecolor": "white",
           "ticks": "",
           "title": {
            "standoff": 15
           },
           "zerolinecolor": "white",
           "zerolinewidth": 2
          }
         }
        },
        "title": {
         "text": "TFIDF scores of songs per artist"
        },
        "xaxis": {
         "anchor": "y",
         "domain": [
          0,
          1
         ],
         "title": {
          "text": "artist"
         }
        },
        "yaxis": {
         "anchor": "x",
         "domain": [
          0,
          1
         ],
         "title": {
          "text": "tf_idf_score"
         }
        }
       }
      }
     },
     "metadata": {},
     "output_type": "display_data"
    }
   ],
   "source": [
    "fig = px.box(song_filter_df, x='artist', y='tf_idf_score', title='TFIDF scores of songs per artist')\n",
    "fig.show()"
   ]
  },
  {
   "cell_type": "code",
   "execution_count": 62,
   "metadata": {},
   "outputs": [],
   "source": [
    "# calculate mean vector\n",
    "def get_mean_vector(vec_lst):\n",
    "    return csr_matrix(vstack(vec_lst).mean(axis=0))"
   ]
  },
  {
   "cell_type": "code",
   "execution_count": 63,
   "metadata": {},
   "outputs": [],
   "source": [
    "# calculate mean vector over all songs of same artist\n",
    "artist_df = song_df.groupby('artist').agg({'tf_idf_vector': get_mean_vector, 'song_name': len}).reset_index()\\\n",
    "                   .rename(columns={'song_name': 'songs'})\n",
    "\n",
    "# get selected artists\n",
    "artist_filter_df = artist_df.loc[artist_df['artist'].isin(song_filter_df['artist'])]"
   ]
  },
  {
   "cell_type": "code",
   "execution_count": 65,
   "metadata": {},
   "outputs": [
    {
     "data": {
      "application/vnd.plotly.v1+json": {
       "config": {
        "plotlyServerURL": "https://plot.ly"
       },
       "data": [
        {
         "colorscale": [
          [
           0,
           "rgb(23, 28, 66)"
          ],
          [
           0.09090909090909091,
           "rgb(41, 58, 143)"
          ],
          [
           0.18181818181818182,
           "rgb(11, 102, 189)"
          ],
          [
           0.2727272727272727,
           "rgb(69, 144, 185)"
          ],
          [
           0.36363636363636365,
           "rgb(142, 181, 194)"
          ],
          [
           0.45454545454545453,
           "rgb(210, 216, 219)"
          ],
          [
           0.5454545454545454,
           "rgb(230, 210, 204)"
          ],
          [
           0.6363636363636364,
           "rgb(213, 157, 137)"
          ],
          [
           0.7272727272727273,
           "rgb(196, 101, 72)"
          ],
          [
           0.8181818181818182,
           "rgb(172, 43, 36)"
          ],
          [
           0.9090909090909091,
           "rgb(120, 14, 40)"
          ],
          [
           1,
           "rgb(60, 9, 17)"
          ]
         ],
         "type": "heatmap",
         "x": [
          "bodyslam",
          "nont_tanont",
          "tilly_birds"
         ],
         "y": [
          "tilly_birds",
          "nont_tanont",
          "bodyslam"
         ],
         "z": [
          [
           0.5345220843942821,
           0.5536542998788723,
           1.0000000000000009
          ],
          [
           0.6543186272494734,
           1.000000000000001,
           0.5536542998788723
          ],
          [
           0.9999999999999997,
           0.6543186272494734,
           0.5345220843942821
          ]
         ],
         "zmax": 1.1,
         "zmin": 0.5
        }
       ],
       "layout": {
        "template": {
         "data": {
          "bar": [
           {
            "error_x": {
             "color": "#2a3f5f"
            },
            "error_y": {
             "color": "#2a3f5f"
            },
            "marker": {
             "line": {
              "color": "#E5ECF6",
              "width": 0.5
             },
             "pattern": {
              "fillmode": "overlay",
              "size": 10,
              "solidity": 0.2
             }
            },
            "type": "bar"
           }
          ],
          "barpolar": [
           {
            "marker": {
             "line": {
              "color": "#E5ECF6",
              "width": 0.5
             },
             "pattern": {
              "fillmode": "overlay",
              "size": 10,
              "solidity": 0.2
             }
            },
            "type": "barpolar"
           }
          ],
          "carpet": [
           {
            "aaxis": {
             "endlinecolor": "#2a3f5f",
             "gridcolor": "white",
             "linecolor": "white",
             "minorgridcolor": "white",
             "startlinecolor": "#2a3f5f"
            },
            "baxis": {
             "endlinecolor": "#2a3f5f",
             "gridcolor": "white",
             "linecolor": "white",
             "minorgridcolor": "white",
             "startlinecolor": "#2a3f5f"
            },
            "type": "carpet"
           }
          ],
          "choropleth": [
           {
            "colorbar": {
             "outlinewidth": 0,
             "ticks": ""
            },
            "type": "choropleth"
           }
          ],
          "contour": [
           {
            "colorbar": {
             "outlinewidth": 0,
             "ticks": ""
            },
            "colorscale": [
             [
              0,
              "#0d0887"
             ],
             [
              0.1111111111111111,
              "#46039f"
             ],
             [
              0.2222222222222222,
              "#7201a8"
             ],
             [
              0.3333333333333333,
              "#9c179e"
             ],
             [
              0.4444444444444444,
              "#bd3786"
             ],
             [
              0.5555555555555556,
              "#d8576b"
             ],
             [
              0.6666666666666666,
              "#ed7953"
             ],
             [
              0.7777777777777778,
              "#fb9f3a"
             ],
             [
              0.8888888888888888,
              "#fdca26"
             ],
             [
              1,
              "#f0f921"
             ]
            ],
            "type": "contour"
           }
          ],
          "contourcarpet": [
           {
            "colorbar": {
             "outlinewidth": 0,
             "ticks": ""
            },
            "type": "contourcarpet"
           }
          ],
          "heatmap": [
           {
            "colorbar": {
             "outlinewidth": 0,
             "ticks": ""
            },
            "colorscale": [
             [
              0,
              "#0d0887"
             ],
             [
              0.1111111111111111,
              "#46039f"
             ],
             [
              0.2222222222222222,
              "#7201a8"
             ],
             [
              0.3333333333333333,
              "#9c179e"
             ],
             [
              0.4444444444444444,
              "#bd3786"
             ],
             [
              0.5555555555555556,
              "#d8576b"
             ],
             [
              0.6666666666666666,
              "#ed7953"
             ],
             [
              0.7777777777777778,
              "#fb9f3a"
             ],
             [
              0.8888888888888888,
              "#fdca26"
             ],
             [
              1,
              "#f0f921"
             ]
            ],
            "type": "heatmap"
           }
          ],
          "heatmapgl": [
           {
            "colorbar": {
             "outlinewidth": 0,
             "ticks": ""
            },
            "colorscale": [
             [
              0,
              "#0d0887"
             ],
             [
              0.1111111111111111,
              "#46039f"
             ],
             [
              0.2222222222222222,
              "#7201a8"
             ],
             [
              0.3333333333333333,
              "#9c179e"
             ],
             [
              0.4444444444444444,
              "#bd3786"
             ],
             [
              0.5555555555555556,
              "#d8576b"
             ],
             [
              0.6666666666666666,
              "#ed7953"
             ],
             [
              0.7777777777777778,
              "#fb9f3a"
             ],
             [
              0.8888888888888888,
              "#fdca26"
             ],
             [
              1,
              "#f0f921"
             ]
            ],
            "type": "heatmapgl"
           }
          ],
          "histogram": [
           {
            "marker": {
             "pattern": {
              "fillmode": "overlay",
              "size": 10,
              "solidity": 0.2
             }
            },
            "type": "histogram"
           }
          ],
          "histogram2d": [
           {
            "colorbar": {
             "outlinewidth": 0,
             "ticks": ""
            },
            "colorscale": [
             [
              0,
              "#0d0887"
             ],
             [
              0.1111111111111111,
              "#46039f"
             ],
             [
              0.2222222222222222,
              "#7201a8"
             ],
             [
              0.3333333333333333,
              "#9c179e"
             ],
             [
              0.4444444444444444,
              "#bd3786"
             ],
             [
              0.5555555555555556,
              "#d8576b"
             ],
             [
              0.6666666666666666,
              "#ed7953"
             ],
             [
              0.7777777777777778,
              "#fb9f3a"
             ],
             [
              0.8888888888888888,
              "#fdca26"
             ],
             [
              1,
              "#f0f921"
             ]
            ],
            "type": "histogram2d"
           }
          ],
          "histogram2dcontour": [
           {
            "colorbar": {
             "outlinewidth": 0,
             "ticks": ""
            },
            "colorscale": [
             [
              0,
              "#0d0887"
             ],
             [
              0.1111111111111111,
              "#46039f"
             ],
             [
              0.2222222222222222,
              "#7201a8"
             ],
             [
              0.3333333333333333,
              "#9c179e"
             ],
             [
              0.4444444444444444,
              "#bd3786"
             ],
             [
              0.5555555555555556,
              "#d8576b"
             ],
             [
              0.6666666666666666,
              "#ed7953"
             ],
             [
              0.7777777777777778,
              "#fb9f3a"
             ],
             [
              0.8888888888888888,
              "#fdca26"
             ],
             [
              1,
              "#f0f921"
             ]
            ],
            "type": "histogram2dcontour"
           }
          ],
          "mesh3d": [
           {
            "colorbar": {
             "outlinewidth": 0,
             "ticks": ""
            },
            "type": "mesh3d"
           }
          ],
          "parcoords": [
           {
            "line": {
             "colorbar": {
              "outlinewidth": 0,
              "ticks": ""
             }
            },
            "type": "parcoords"
           }
          ],
          "pie": [
           {
            "automargin": true,
            "type": "pie"
           }
          ],
          "scatter": [
           {
            "fillpattern": {
             "fillmode": "overlay",
             "size": 10,
             "solidity": 0.2
            },
            "type": "scatter"
           }
          ],
          "scatter3d": [
           {
            "line": {
             "colorbar": {
              "outlinewidth": 0,
              "ticks": ""
             }
            },
            "marker": {
             "colorbar": {
              "outlinewidth": 0,
              "ticks": ""
             }
            },
            "type": "scatter3d"
           }
          ],
          "scattercarpet": [
           {
            "marker": {
             "colorbar": {
              "outlinewidth": 0,
              "ticks": ""
             }
            },
            "type": "scattercarpet"
           }
          ],
          "scattergeo": [
           {
            "marker": {
             "colorbar": {
              "outlinewidth": 0,
              "ticks": ""
             }
            },
            "type": "scattergeo"
           }
          ],
          "scattergl": [
           {
            "marker": {
             "colorbar": {
              "outlinewidth": 0,
              "ticks": ""
             }
            },
            "type": "scattergl"
           }
          ],
          "scattermapbox": [
           {
            "marker": {
             "colorbar": {
              "outlinewidth": 0,
              "ticks": ""
             }
            },
            "type": "scattermapbox"
           }
          ],
          "scatterpolar": [
           {
            "marker": {
             "colorbar": {
              "outlinewidth": 0,
              "ticks": ""
             }
            },
            "type": "scatterpolar"
           }
          ],
          "scatterpolargl": [
           {
            "marker": {
             "colorbar": {
              "outlinewidth": 0,
              "ticks": ""
             }
            },
            "type": "scatterpolargl"
           }
          ],
          "scatterternary": [
           {
            "marker": {
             "colorbar": {
              "outlinewidth": 0,
              "ticks": ""
             }
            },
            "type": "scatterternary"
           }
          ],
          "surface": [
           {
            "colorbar": {
             "outlinewidth": 0,
             "ticks": ""
            },
            "colorscale": [
             [
              0,
              "#0d0887"
             ],
             [
              0.1111111111111111,
              "#46039f"
             ],
             [
              0.2222222222222222,
              "#7201a8"
             ],
             [
              0.3333333333333333,
              "#9c179e"
             ],
             [
              0.4444444444444444,
              "#bd3786"
             ],
             [
              0.5555555555555556,
              "#d8576b"
             ],
             [
              0.6666666666666666,
              "#ed7953"
             ],
             [
              0.7777777777777778,
              "#fb9f3a"
             ],
             [
              0.8888888888888888,
              "#fdca26"
             ],
             [
              1,
              "#f0f921"
             ]
            ],
            "type": "surface"
           }
          ],
          "table": [
           {
            "cells": {
             "fill": {
              "color": "#EBF0F8"
             },
             "line": {
              "color": "white"
             }
            },
            "header": {
             "fill": {
              "color": "#C8D4E3"
             },
             "line": {
              "color": "white"
             }
            },
            "type": "table"
           }
          ]
         },
         "layout": {
          "annotationdefaults": {
           "arrowcolor": "#2a3f5f",
           "arrowhead": 0,
           "arrowwidth": 1
          },
          "autotypenumbers": "strict",
          "coloraxis": {
           "colorbar": {
            "outlinewidth": 0,
            "ticks": ""
           }
          },
          "colorscale": {
           "diverging": [
            [
             0,
             "#8e0152"
            ],
            [
             0.1,
             "#c51b7d"
            ],
            [
             0.2,
             "#de77ae"
            ],
            [
             0.3,
             "#f1b6da"
            ],
            [
             0.4,
             "#fde0ef"
            ],
            [
             0.5,
             "#f7f7f7"
            ],
            [
             0.6,
             "#e6f5d0"
            ],
            [
             0.7,
             "#b8e186"
            ],
            [
             0.8,
             "#7fbc41"
            ],
            [
             0.9,
             "#4d9221"
            ],
            [
             1,
             "#276419"
            ]
           ],
           "sequential": [
            [
             0,
             "#0d0887"
            ],
            [
             0.1111111111111111,
             "#46039f"
            ],
            [
             0.2222222222222222,
             "#7201a8"
            ],
            [
             0.3333333333333333,
             "#9c179e"
            ],
            [
             0.4444444444444444,
             "#bd3786"
            ],
            [
             0.5555555555555556,
             "#d8576b"
            ],
            [
             0.6666666666666666,
             "#ed7953"
            ],
            [
             0.7777777777777778,
             "#fb9f3a"
            ],
            [
             0.8888888888888888,
             "#fdca26"
            ],
            [
             1,
             "#f0f921"
            ]
           ],
           "sequentialminus": [
            [
             0,
             "#0d0887"
            ],
            [
             0.1111111111111111,
             "#46039f"
            ],
            [
             0.2222222222222222,
             "#7201a8"
            ],
            [
             0.3333333333333333,
             "#9c179e"
            ],
            [
             0.4444444444444444,
             "#bd3786"
            ],
            [
             0.5555555555555556,
             "#d8576b"
            ],
            [
             0.6666666666666666,
             "#ed7953"
            ],
            [
             0.7777777777777778,
             "#fb9f3a"
            ],
            [
             0.8888888888888888,
             "#fdca26"
            ],
            [
             1,
             "#f0f921"
            ]
           ]
          },
          "colorway": [
           "#636efa",
           "#EF553B",
           "#00cc96",
           "#ab63fa",
           "#FFA15A",
           "#19d3f3",
           "#FF6692",
           "#B6E880",
           "#FF97FF",
           "#FECB52"
          ],
          "font": {
           "color": "#2a3f5f"
          },
          "geo": {
           "bgcolor": "white",
           "lakecolor": "white",
           "landcolor": "#E5ECF6",
           "showlakes": true,
           "showland": true,
           "subunitcolor": "white"
          },
          "hoverlabel": {
           "align": "left"
          },
          "hovermode": "closest",
          "mapbox": {
           "style": "light"
          },
          "paper_bgcolor": "white",
          "plot_bgcolor": "#E5ECF6",
          "polar": {
           "angularaxis": {
            "gridcolor": "white",
            "linecolor": "white",
            "ticks": ""
           },
           "bgcolor": "#E5ECF6",
           "radialaxis": {
            "gridcolor": "white",
            "linecolor": "white",
            "ticks": ""
           }
          },
          "scene": {
           "xaxis": {
            "backgroundcolor": "#E5ECF6",
            "gridcolor": "white",
            "gridwidth": 2,
            "linecolor": "white",
            "showbackground": true,
            "ticks": "",
            "zerolinecolor": "white"
           },
           "yaxis": {
            "backgroundcolor": "#E5ECF6",
            "gridcolor": "white",
            "gridwidth": 2,
            "linecolor": "white",
            "showbackground": true,
            "ticks": "",
            "zerolinecolor": "white"
           },
           "zaxis": {
            "backgroundcolor": "#E5ECF6",
            "gridcolor": "white",
            "gridwidth": 2,
            "linecolor": "white",
            "showbackground": true,
            "ticks": "",
            "zerolinecolor": "white"
           }
          },
          "shapedefaults": {
           "line": {
            "color": "#2a3f5f"
           }
          },
          "ternary": {
           "aaxis": {
            "gridcolor": "white",
            "linecolor": "white",
            "ticks": ""
           },
           "baxis": {
            "gridcolor": "white",
            "linecolor": "white",
            "ticks": ""
           },
           "bgcolor": "#E5ECF6",
           "caxis": {
            "gridcolor": "white",
            "linecolor": "white",
            "ticks": ""
           }
          },
          "title": {
           "x": 0.05
          },
          "xaxis": {
           "automargin": true,
           "gridcolor": "white",
           "linecolor": "white",
           "ticks": "",
           "title": {
            "standoff": 15
           },
           "zerolinecolor": "white",
           "zerolinewidth": 2
          },
          "yaxis": {
           "automargin": true,
           "gridcolor": "white",
           "linecolor": "white",
           "ticks": "",
           "title": {
            "standoff": 15
           },
           "zerolinecolor": "white",
           "zerolinewidth": 2
          }
         }
        }
       }
      }
     },
     "metadata": {},
     "output_type": "display_data"
    }
   ],
   "source": [
    "similarity_matrix = cosine_similarity(vstack(artist_filter_df['tf_idf_vector']), \n",
    "                                      vstack(artist_filter_df['tf_idf_vector']))\n",
    "artist_names = artist_filter_df['artist'].tolist()\n",
    "fig = go.Figure(data=go.Heatmap(z=np.flipud(similarity_matrix), x=artist_names, y=list(reversed(artist_names)), \n",
    "                                colorscale='balance', zmin=0.5, zmax=1.1))\n",
    "fig.show()"
   ]
  }
 ],
 "metadata": {
  "interpreter": {
   "hash": "f6dbfcbd98b0ac394f24d96bedfb0bb0156c4fd54eb61167ff2e8fedb4cd16de"
  },
  "kernelspec": {
   "display_name": "Python 3.9.7 ('base')",
   "language": "python",
   "name": "python3"
  },
  "language_info": {
   "codemirror_mode": {
    "name": "ipython",
    "version": 3
   },
   "file_extension": ".py",
   "mimetype": "text/x-python",
   "name": "python",
   "nbconvert_exporter": "python",
   "pygments_lexer": "ipython3",
   "version": "3.8.5"
  },
  "orig_nbformat": 4
 },
 "nbformat": 4,
 "nbformat_minor": 2
}
