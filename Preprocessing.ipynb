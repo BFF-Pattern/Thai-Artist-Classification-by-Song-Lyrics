{
 "cells": [
  {
   "cell_type": "code",
   "execution_count": 55,
   "metadata": {},
   "outputs": [],
   "source": [
    "# import libraries\n",
    "import pandas as pd\n",
    "import plotly.express as px\n",
    "import plotly.graph_objects as go\n",
    "import numpy as np\n",
    "import re\n",
    "import random\n",
    "import nltk\n",
    "from scipy import sparse\n",
    "from scipy.sparse import csr_matrix, vstack\n",
    "from textblob import TextBlob\n",
    "from langdetect import detect_langs\n",
    "import pickle\n",
    "from datetime import datetime\n",
    "import string\n",
    "\n",
    "from sklearn.feature_extraction.text import TfidfTransformer, CountVectorizer\n",
    "from sklearn.metrics.pairwise import cosine_similarity\n",
    "from sklearn.linear_model import LogisticRegression\n",
    "from sklearn.metrics import accuracy_score, confusion_matrix\n",
    "from sklearn.pipeline import Pipeline\n",
    "from sklearn.preprocessing import StandardScaler"
   ]
  },
  {
   "cell_type": "code",
   "execution_count": 56,
   "metadata": {},
   "outputs": [],
   "source": [
    "# import data\n",
    "\n",
    "# import glob\n",
    "# import os\n",
    "\n",
    "# path = r'/thaisongs' # use your path\n",
    "# all_files = glob.glob(os.path.join(path , \"/*.csv\"))\n",
    "\n",
    "all_files = ['./thaisongs/bodyslam.csv', './thaisongs/nont_tanont.csv', './thaisongs/tilly_birds.csv']\n",
    "\n",
    "li = []\n",
    "\n",
    "for filename in all_files:\n",
    "    df = pd.read_csv(filename, index_col=None, header=0)\n",
    "    li.append(df)\n",
    "\n",
    "song_df = pd.concat(li, axis=0, ignore_index=True)"
   ]
  },
  {
   "cell_type": "code",
   "execution_count": 57,
   "metadata": {},
   "outputs": [
    {
     "name": "stdout",
     "output_type": "stream",
     "text": [
      "Number of round brackets: 180\n",
      "Number of square brackets: 0\n",
      "Number of curly brackets: 0\n"
     ]
    }
   ],
   "source": [
    "lyric_in_round_brackets = sum(list(song_df['lyric'].map(lambda s: re.findall(r'\\((.*?)\\)',s))), [])\n",
    "print('Number of round brackets: {}'.format(len(lyric_in_round_brackets)))\n",
    "\n",
    "lyric_in_square_brackets = sum(list(song_df['lyric'].map(lambda s: re.findall(r'\\[(.*?)\\]',s))), [])\n",
    "print('Number of square brackets: {}'.format(len(lyric_in_square_brackets)))\n",
    "\n",
    "lyric_in_curly_brackets = sum(list(song_df['lyric'].map(lambda s: re.findall(r'\\{(.*?)\\}',s))), [])\n",
    "print('Number of curly brackets: {}'.format(len(lyric_in_curly_brackets)))"
   ]
  },
  {
   "cell_type": "code",
   "execution_count": 58,
   "metadata": {},
   "outputs": [
    {
     "name": "stdout",
     "output_type": "stream",
     "text": [
      "Number of round brackets: 0\n"
     ]
    }
   ],
   "source": [
    "# remove round brackets but not text within\n",
    "song_df['lyric'] = song_df['lyric'].map(lambda s: re.sub(r'\\(|\\)', '', s))\n",
    "\n",
    "lyric_in_round_brackets = sum(list(song_df['lyric'].map(lambda s: re.findall(r'\\((.*?)\\)',s))), [])\n",
    "print('Number of round brackets: {}'.format(len(lyric_in_round_brackets)))"
   ]
  },
  {
   "cell_type": "code",
   "execution_count": 59,
   "metadata": {},
   "outputs": [
    {
     "name": "stdout",
     "output_type": "stream",
     "text": [
      "Number of dot: 82\n"
     ]
    }
   ],
   "source": [
    "dot = sum(list(song_df['lyric'].map(lambda s: re.findall('\\.',s))), [])\n",
    "print('Number of dot: {}'.format(len(dot)))"
   ]
  },
  {
   "cell_type": "code",
   "execution_count": 60,
   "metadata": {},
   "outputs": [
    {
     "name": "stdout",
     "output_type": "stream",
     "text": [
      "Number of dot: 0\n"
     ]
    }
   ],
   "source": [
    "# remove dot \n",
    "song_df['lyric'] = song_df['lyric'].map(lambda s: re.sub(r'\\.', '', s))\n",
    "\n",
    "dot = sum(list(song_df['lyric'].map(lambda s: re.findall('\\.',s))), [])\n",
    "print('Number of dot: {}'.format(len(dot)))"
   ]
  },
  {
   "cell_type": "code",
   "execution_count": 61,
   "metadata": {},
   "outputs": [],
   "source": [
    "# count number of lines\n",
    "song_df['lines'] = song_df['lyric'].map(lambda t: len(re.findall(r'\\n', t)))"
   ]
  },
  {
   "cell_type": "code",
   "execution_count": 62,
   "metadata": {},
   "outputs": [],
   "source": [
    "# remove line breaks\n",
    "song_df['lyric'] = song_df['lyric'].map(lambda s: re.sub(r' \\n|\\n', '', s))"
   ]
  },
  {
   "cell_type": "code",
   "execution_count": 63,
   "metadata": {},
   "outputs": [
    {
     "name": "stdout",
     "output_type": "stream",
     "text": [
      "Number of round brackets: 0\n"
     ]
    },
    {
     "data": {
      "text/html": [
       "<div>\n",
       "<style scoped>\n",
       "    .dataframe tbody tr th:only-of-type {\n",
       "        vertical-align: middle;\n",
       "    }\n",
       "\n",
       "    .dataframe tbody tr th {\n",
       "        vertical-align: top;\n",
       "    }\n",
       "\n",
       "    .dataframe thead th {\n",
       "        text-align: right;\n",
       "    }\n",
       "</style>\n",
       "<table border=\"1\" class=\"dataframe\">\n",
       "  <thead>\n",
       "    <tr style=\"text-align: right;\">\n",
       "      <th></th>\n",
       "      <th>song_name</th>\n",
       "      <th>href</th>\n",
       "      <th>lyric</th>\n",
       "      <th>artist</th>\n",
       "      <th>lines</th>\n",
       "    </tr>\n",
       "  </thead>\n",
       "  <tbody>\n",
       "    <tr>\n",
       "      <th>0</th>\n",
       "      <td>อะ ไนท์ (A Night)</td>\n",
       "      <td>/music/thailyric/2681</td>\n",
       "      <td>ดึกดื่นคืนใด มองฟ้าไม่เห็นจันทร์ ไม่เจอะเจอกัน...</td>\n",
       "      <td>bodyslam</td>\n",
       "      <td>15</td>\n",
       "    </tr>\n",
       "    <tr>\n",
       "      <th>1</th>\n",
       "      <td>ขอบฟ้า</td>\n",
       "      <td>/music/thailyric/2640</td>\n",
       "      <td>ได้แต่เหลียวมองไปสุดฟ้าไกลมันช่างน่าเสียดายที่...</td>\n",
       "      <td>bodyslam</td>\n",
       "      <td>29</td>\n",
       "    </tr>\n",
       "    <tr>\n",
       "      <th>2</th>\n",
       "      <td>คนที่ถูกรัก</td>\n",
       "      <td>/music/thailyric/2641</td>\n",
       "      <td>ใจ ฉันเคยถูกทิ้งเพียงลำพัง รักใครมาแล้วตั้งกี่...</td>\n",
       "      <td>bodyslam</td>\n",
       "      <td>25</td>\n",
       "    </tr>\n",
       "    <tr>\n",
       "      <th>3</th>\n",
       "      <td>ความเชื่อ</td>\n",
       "      <td>/music/thailyric/2644</td>\n",
       "      <td>มันเกือบจะล้มมันเหนื่อยมันล้าเหมือนแทบขาดใจเดิ...</td>\n",
       "      <td>bodyslam</td>\n",
       "      <td>45</td>\n",
       "    </tr>\n",
       "    <tr>\n",
       "      <th>4</th>\n",
       "      <td>ความรักทำให้คนตาบอด</td>\n",
       "      <td>/music/thailyric/2647</td>\n",
       "      <td>รู้ว่ามันไม่สมควร ที่ยังกวนใจเธอ ฉันขอโทษทีรัก...</td>\n",
       "      <td>bodyslam</td>\n",
       "      <td>21</td>\n",
       "    </tr>\n",
       "  </tbody>\n",
       "</table>\n",
       "</div>"
      ],
      "text/plain": [
       "             song_name                   href  \\\n",
       "0    อะ ไนท์ (A Night)  /music/thailyric/2681   \n",
       "1               ขอบฟ้า  /music/thailyric/2640   \n",
       "2          คนที่ถูกรัก  /music/thailyric/2641   \n",
       "3            ความเชื่อ  /music/thailyric/2644   \n",
       "4  ความรักทำให้คนตาบอด  /music/thailyric/2647   \n",
       "\n",
       "                                               lyric    artist  lines  \n",
       "0  ดึกดื่นคืนใด มองฟ้าไม่เห็นจันทร์ ไม่เจอะเจอกัน...  bodyslam     15  \n",
       "1  ได้แต่เหลียวมองไปสุดฟ้าไกลมันช่างน่าเสียดายที่...  bodyslam     29  \n",
       "2  ใจ ฉันเคยถูกทิ้งเพียงลำพัง รักใครมาแล้วตั้งกี่...  bodyslam     25  \n",
       "3  มันเกือบจะล้มมันเหนื่อยมันล้าเหมือนแทบขาดใจเดิ...  bodyslam     45  \n",
       "4  รู้ว่ามันไม่สมควร ที่ยังกวนใจเธอ ฉันขอโทษทีรัก...  bodyslam     21  "
      ]
     },
     "execution_count": 63,
     "metadata": {},
     "output_type": "execute_result"
    }
   ],
   "source": [
    "lyric_in_round_brackets = sum(list(song_df['lyric'].map(lambda s: re.findall(r'\\((.*?)\\)',s))), [])\n",
    "print('Number of round brackets: {}'.format(len(lyric_in_round_brackets)))\n",
    "song_df.head()"
   ]
  },
  {
   "cell_type": "markdown",
   "metadata": {},
   "source": [
    "Tokenise"
   ]
  },
  {
   "cell_type": "code",
   "execution_count": 64,
   "metadata": {},
   "outputs": [],
   "source": [
    "import pythainlp\n",
    "from pythainlp import word_tokenize\n",
    "from pythainlp.corpus.common import thai_stopwords\n",
    "from pythainlp.corpus import wordnet\n",
    "from nltk.stem.porter import PorterStemmer\n",
    "from nltk.corpus import words\n",
    "from stop_words import get_stop_words"
   ]
  },
  {
   "cell_type": "code",
   "execution_count": 65,
   "metadata": {},
   "outputs": [],
   "source": [
    "# from thainlplib import ThaiWordSegmentLabeller"
   ]
  },
  {
   "cell_type": "code",
   "execution_count": 66,
   "metadata": {},
   "outputs": [
    {
     "name": "stderr",
     "output_type": "stream",
     "text": [
      "[nltk_data] Downloading package words to C:\\Users\\FACT-\n",
      "[nltk_data]     PC\\AppData\\Roaming\\nltk_data...\n",
      "[nltk_data]   Package words is already up-to-date!\n"
     ]
    }
   ],
   "source": [
    "import nltk\n",
    "nltk.download('words')\n",
    "th_stop = tuple(thai_stopwords())\n",
    "en_stop = tuple(get_stop_words('en'))\n",
    "p_stemmer = PorterStemmer()"
   ]
  },
  {
   "cell_type": "code",
   "execution_count": 67,
   "metadata": {},
   "outputs": [],
   "source": [
    "def split_word(text):\n",
    "            \n",
    "    \n",
    "    tokens = word_tokenize(text,engine='newmm')\n",
    "    \n",
    "    # Remove stop words ภาษาไทย และภาษาอังกฤษ\n",
    "    tokens = [i for i in tokens if not i in th_stop and not i in en_stop]\n",
    "    \n",
    "    # หารากศัพท์ภาษาไทย และภาษาอังกฤษ\n",
    "    # English\n",
    "    tokens = [p_stemmer.stem(i) for i in tokens]\n",
    "    \n",
    "    # Thai\n",
    "    tokens_temp=[]\n",
    "    for i in tokens:\n",
    "        w_syn = wordnet.synsets(i)\n",
    "        if (len(w_syn)>0) and (len(w_syn[0].lemma_names('tha'))>0):\n",
    "            tokens_temp.append(w_syn[0].lemma_names('tha')[0])\n",
    "        else:\n",
    "            tokens_temp.append(i)\n",
    "    \n",
    "    tokens = tokens_temp\n",
    "    \n",
    "    # ลบตัวเลข\n",
    "    tokens = [i for i in tokens if not i.isnumeric()]\n",
    "    \n",
    "    # ลบช่องว่าง\n",
    "    tokens = [i for i in tokens if not ' ' in i]\n",
    "\n",
    "    return tokens"
   ]
  },
  {
   "cell_type": "code",
   "execution_count": 68,
   "metadata": {},
   "outputs": [],
   "source": [
    "song_df['words'] = song_df['lyric'].map(lambda s: split_word(s))"
   ]
  },
  {
   "cell_type": "code",
   "execution_count": 69,
   "metadata": {},
   "outputs": [
    {
     "data": {
      "text/html": [
       "<div>\n",
       "<style scoped>\n",
       "    .dataframe tbody tr th:only-of-type {\n",
       "        vertical-align: middle;\n",
       "    }\n",
       "\n",
       "    .dataframe tbody tr th {\n",
       "        vertical-align: top;\n",
       "    }\n",
       "\n",
       "    .dataframe thead th {\n",
       "        text-align: right;\n",
       "    }\n",
       "</style>\n",
       "<table border=\"1\" class=\"dataframe\">\n",
       "  <thead>\n",
       "    <tr style=\"text-align: right;\">\n",
       "      <th></th>\n",
       "      <th>lyric</th>\n",
       "      <th>words</th>\n",
       "    </tr>\n",
       "  </thead>\n",
       "  <tbody>\n",
       "    <tr>\n",
       "      <th>125</th>\n",
       "      <td>เจ็บที่ตรงไหนบอกฉันได้ไหมให้ฉันช่วยดูแม้ไม่อาจ...</td>\n",
       "      <td>[ปวด, ตรงไหน, ไหม, ดู, รู้, แก้, ไขมัน, ปวด, ข...</td>\n",
       "    </tr>\n",
       "    <tr>\n",
       "      <th>126</th>\n",
       "      <td>ฟ้า และท้องทะเลกับลมนั้นมีอยู่แต่ใครจะรู้ จะรู...</td>\n",
       "      <td>[ฟ้า, ท้องทะเล, ลม, รู้, รู้, ใจ, ไว, ั, ตะวัน...</td>\n",
       "    </tr>\n",
       "    <tr>\n",
       "      <th>127</th>\n",
       "      <td>ทะเลาะเสียงดัง ข้าวของก็พัง อย่างนี้ประจำบางคร...</td>\n",
       "      <td>[ทะเลาะ, ความดัง, สินค้า, พัง, ประจำ, ช่วงเวลา...</td>\n",
       "    </tr>\n",
       "    <tr>\n",
       "      <th>128</th>\n",
       "      <td>เธอทนอยู่กับเขามานาน อยู่กับเขามานานฉันทนดูเธอ...</td>\n",
       "      <td>[ทน, ทน, ดู, ทรมาน, ไหว, ยอมให้, เตือน, กี่, ฟ...</td>\n",
       "    </tr>\n",
       "    <tr>\n",
       "      <th>129</th>\n",
       "      <td>เจอมากี่ครั้งเรื่องรักๆ เดี๋ยวจะเล่าให้ฟังชอบค...</td>\n",
       "      <td>[เจอ, กี่, เรื่อง, รัก, เดี๋ยว, เล่า, ฟัง, ชอบ...</td>\n",
       "    </tr>\n",
       "  </tbody>\n",
       "</table>\n",
       "</div>"
      ],
      "text/plain": [
       "                                                 lyric  \\\n",
       "125  เจ็บที่ตรงไหนบอกฉันได้ไหมให้ฉันช่วยดูแม้ไม่อาจ...   \n",
       "126  ฟ้า และท้องทะเลกับลมนั้นมีอยู่แต่ใครจะรู้ จะรู...   \n",
       "127  ทะเลาะเสียงดัง ข้าวของก็พัง อย่างนี้ประจำบางคร...   \n",
       "128  เธอทนอยู่กับเขามานาน อยู่กับเขามานานฉันทนดูเธอ...   \n",
       "129  เจอมากี่ครั้งเรื่องรักๆ เดี๋ยวจะเล่าให้ฟังชอบค...   \n",
       "\n",
       "                                                 words  \n",
       "125  [ปวด, ตรงไหน, ไหม, ดู, รู้, แก้, ไขมัน, ปวด, ข...  \n",
       "126  [ฟ้า, ท้องทะเล, ลม, รู้, รู้, ใจ, ไว, ั, ตะวัน...  \n",
       "127  [ทะเลาะ, ความดัง, สินค้า, พัง, ประจำ, ช่วงเวลา...  \n",
       "128  [ทน, ทน, ดู, ทรมาน, ไหว, ยอมให้, เตือน, กี่, ฟ...  \n",
       "129  [เจอ, กี่, เรื่อง, รัก, เดี๋ยว, เล่า, ฟัง, ชอบ...  "
      ]
     },
     "execution_count": 69,
     "metadata": {},
     "output_type": "execute_result"
    }
   ],
   "source": [
    "song_df[['lyric','words']].tail()"
   ]
  },
  {
   "cell_type": "code",
   "execution_count": 70,
   "metadata": {},
   "outputs": [],
   "source": [
    "song_df['n_words'] = song_df['words'].map(len)"
   ]
  },
  {
   "cell_type": "markdown",
   "metadata": {},
   "source": [
    "EDA"
   ]
  },
  {
   "cell_type": "code",
   "execution_count": 71,
   "metadata": {},
   "outputs": [
    {
     "name": "stdout",
     "output_type": "stream",
     "text": [
      "number of songs:  130\n",
      "number of artists:  3\n"
     ]
    }
   ],
   "source": [
    "# number of songs\n",
    "print('number of songs: ', str(len(song_df)))\n",
    "\n",
    "# number of artists\n",
    "print('number of artists: ', str(len(song_df['artist'].unique())))"
   ]
  },
  {
   "cell_type": "code",
   "execution_count": 72,
   "metadata": {},
   "outputs": [
    {
     "data": {
      "application/vnd.plotly.v1+json": {
       "config": {
        "plotlyServerURL": "https://plot.ly"
       },
       "data": [
        {
         "alignmentgroup": "True",
         "bingroup": "x",
         "hoverlabel": {
          "namelength": 0
         },
         "hovertemplate": "Songs=%{x}<br>count=%{y}",
         "legendgroup": "",
         "marker": {
          "color": "#636efa"
         },
         "name": "",
         "offsetgroup": "",
         "orientation": "v",
         "showlegend": false,
         "type": "histogram",
         "x": [
          66,
          36,
          28
         ],
         "xaxis": "x",
         "yaxis": "y"
        }
       ],
       "layout": {
        "barmode": "relative",
        "height": 600,
        "legend": {
         "tracegroupgap": 0
        },
        "template": {
         "data": {
          "bar": [
           {
            "error_x": {
             "color": "#2a3f5f"
            },
            "error_y": {
             "color": "#2a3f5f"
            },
            "marker": {
             "line": {
              "color": "#E5ECF6",
              "width": 0.5
             }
            },
            "type": "bar"
           }
          ],
          "barpolar": [
           {
            "marker": {
             "line": {
              "color": "#E5ECF6",
              "width": 0.5
             }
            },
            "type": "barpolar"
           }
          ],
          "carpet": [
           {
            "aaxis": {
             "endlinecolor": "#2a3f5f",
             "gridcolor": "white",
             "linecolor": "white",
             "minorgridcolor": "white",
             "startlinecolor": "#2a3f5f"
            },
            "baxis": {
             "endlinecolor": "#2a3f5f",
             "gridcolor": "white",
             "linecolor": "white",
             "minorgridcolor": "white",
             "startlinecolor": "#2a3f5f"
            },
            "type": "carpet"
           }
          ],
          "choropleth": [
           {
            "colorbar": {
             "outlinewidth": 0,
             "ticks": ""
            },
            "type": "choropleth"
           }
          ],
          "contour": [
           {
            "colorbar": {
             "outlinewidth": 0,
             "ticks": ""
            },
            "colorscale": [
             [
              0,
              "#0d0887"
             ],
             [
              0.1111111111111111,
              "#46039f"
             ],
             [
              0.2222222222222222,
              "#7201a8"
             ],
             [
              0.3333333333333333,
              "#9c179e"
             ],
             [
              0.4444444444444444,
              "#bd3786"
             ],
             [
              0.5555555555555556,
              "#d8576b"
             ],
             [
              0.6666666666666666,
              "#ed7953"
             ],
             [
              0.7777777777777778,
              "#fb9f3a"
             ],
             [
              0.8888888888888888,
              "#fdca26"
             ],
             [
              1,
              "#f0f921"
             ]
            ],
            "type": "contour"
           }
          ],
          "contourcarpet": [
           {
            "colorbar": {
             "outlinewidth": 0,
             "ticks": ""
            },
            "type": "contourcarpet"
           }
          ],
          "heatmap": [
           {
            "colorbar": {
             "outlinewidth": 0,
             "ticks": ""
            },
            "colorscale": [
             [
              0,
              "#0d0887"
             ],
             [
              0.1111111111111111,
              "#46039f"
             ],
             [
              0.2222222222222222,
              "#7201a8"
             ],
             [
              0.3333333333333333,
              "#9c179e"
             ],
             [
              0.4444444444444444,
              "#bd3786"
             ],
             [
              0.5555555555555556,
              "#d8576b"
             ],
             [
              0.6666666666666666,
              "#ed7953"
             ],
             [
              0.7777777777777778,
              "#fb9f3a"
             ],
             [
              0.8888888888888888,
              "#fdca26"
             ],
             [
              1,
              "#f0f921"
             ]
            ],
            "type": "heatmap"
           }
          ],
          "heatmapgl": [
           {
            "colorbar": {
             "outlinewidth": 0,
             "ticks": ""
            },
            "colorscale": [
             [
              0,
              "#0d0887"
             ],
             [
              0.1111111111111111,
              "#46039f"
             ],
             [
              0.2222222222222222,
              "#7201a8"
             ],
             [
              0.3333333333333333,
              "#9c179e"
             ],
             [
              0.4444444444444444,
              "#bd3786"
             ],
             [
              0.5555555555555556,
              "#d8576b"
             ],
             [
              0.6666666666666666,
              "#ed7953"
             ],
             [
              0.7777777777777778,
              "#fb9f3a"
             ],
             [
              0.8888888888888888,
              "#fdca26"
             ],
             [
              1,
              "#f0f921"
             ]
            ],
            "type": "heatmapgl"
           }
          ],
          "histogram": [
           {
            "marker": {
             "colorbar": {
              "outlinewidth": 0,
              "ticks": ""
             }
            },
            "type": "histogram"
           }
          ],
          "histogram2d": [
           {
            "colorbar": {
             "outlinewidth": 0,
             "ticks": ""
            },
            "colorscale": [
             [
              0,
              "#0d0887"
             ],
             [
              0.1111111111111111,
              "#46039f"
             ],
             [
              0.2222222222222222,
              "#7201a8"
             ],
             [
              0.3333333333333333,
              "#9c179e"
             ],
             [
              0.4444444444444444,
              "#bd3786"
             ],
             [
              0.5555555555555556,
              "#d8576b"
             ],
             [
              0.6666666666666666,
              "#ed7953"
             ],
             [
              0.7777777777777778,
              "#fb9f3a"
             ],
             [
              0.8888888888888888,
              "#fdca26"
             ],
             [
              1,
              "#f0f921"
             ]
            ],
            "type": "histogram2d"
           }
          ],
          "histogram2dcontour": [
           {
            "colorbar": {
             "outlinewidth": 0,
             "ticks": ""
            },
            "colorscale": [
             [
              0,
              "#0d0887"
             ],
             [
              0.1111111111111111,
              "#46039f"
             ],
             [
              0.2222222222222222,
              "#7201a8"
             ],
             [
              0.3333333333333333,
              "#9c179e"
             ],
             [
              0.4444444444444444,
              "#bd3786"
             ],
             [
              0.5555555555555556,
              "#d8576b"
             ],
             [
              0.6666666666666666,
              "#ed7953"
             ],
             [
              0.7777777777777778,
              "#fb9f3a"
             ],
             [
              0.8888888888888888,
              "#fdca26"
             ],
             [
              1,
              "#f0f921"
             ]
            ],
            "type": "histogram2dcontour"
           }
          ],
          "mesh3d": [
           {
            "colorbar": {
             "outlinewidth": 0,
             "ticks": ""
            },
            "type": "mesh3d"
           }
          ],
          "parcoords": [
           {
            "line": {
             "colorbar": {
              "outlinewidth": 0,
              "ticks": ""
             }
            },
            "type": "parcoords"
           }
          ],
          "scatter": [
           {
            "marker": {
             "colorbar": {
              "outlinewidth": 0,
              "ticks": ""
             }
            },
            "type": "scatter"
           }
          ],
          "scatter3d": [
           {
            "line": {
             "colorbar": {
              "outlinewidth": 0,
              "ticks": ""
             }
            },
            "marker": {
             "colorbar": {
              "outlinewidth": 0,
              "ticks": ""
             }
            },
            "type": "scatter3d"
           }
          ],
          "scattercarpet": [
           {
            "marker": {
             "colorbar": {
              "outlinewidth": 0,
              "ticks": ""
             }
            },
            "type": "scattercarpet"
           }
          ],
          "scattergeo": [
           {
            "marker": {
             "colorbar": {
              "outlinewidth": 0,
              "ticks": ""
             }
            },
            "type": "scattergeo"
           }
          ],
          "scattergl": [
           {
            "marker": {
             "colorbar": {
              "outlinewidth": 0,
              "ticks": ""
             }
            },
            "type": "scattergl"
           }
          ],
          "scattermapbox": [
           {
            "marker": {
             "colorbar": {
              "outlinewidth": 0,
              "ticks": ""
             }
            },
            "type": "scattermapbox"
           }
          ],
          "scatterpolar": [
           {
            "marker": {
             "colorbar": {
              "outlinewidth": 0,
              "ticks": ""
             }
            },
            "type": "scatterpolar"
           }
          ],
          "scatterpolargl": [
           {
            "marker": {
             "colorbar": {
              "outlinewidth": 0,
              "ticks": ""
             }
            },
            "type": "scatterpolargl"
           }
          ],
          "scatterternary": [
           {
            "marker": {
             "colorbar": {
              "outlinewidth": 0,
              "ticks": ""
             }
            },
            "type": "scatterternary"
           }
          ],
          "surface": [
           {
            "colorbar": {
             "outlinewidth": 0,
             "ticks": ""
            },
            "colorscale": [
             [
              0,
              "#0d0887"
             ],
             [
              0.1111111111111111,
              "#46039f"
             ],
             [
              0.2222222222222222,
              "#7201a8"
             ],
             [
              0.3333333333333333,
              "#9c179e"
             ],
             [
              0.4444444444444444,
              "#bd3786"
             ],
             [
              0.5555555555555556,
              "#d8576b"
             ],
             [
              0.6666666666666666,
              "#ed7953"
             ],
             [
              0.7777777777777778,
              "#fb9f3a"
             ],
             [
              0.8888888888888888,
              "#fdca26"
             ],
             [
              1,
              "#f0f921"
             ]
            ],
            "type": "surface"
           }
          ],
          "table": [
           {
            "cells": {
             "fill": {
              "color": "#EBF0F8"
             },
             "line": {
              "color": "white"
             }
            },
            "header": {
             "fill": {
              "color": "#C8D4E3"
             },
             "line": {
              "color": "white"
             }
            },
            "type": "table"
           }
          ]
         },
         "layout": {
          "annotationdefaults": {
           "arrowcolor": "#2a3f5f",
           "arrowhead": 0,
           "arrowwidth": 1
          },
          "colorscale": {
           "diverging": [
            [
             0,
             "#8e0152"
            ],
            [
             0.1,
             "#c51b7d"
            ],
            [
             0.2,
             "#de77ae"
            ],
            [
             0.3,
             "#f1b6da"
            ],
            [
             0.4,
             "#fde0ef"
            ],
            [
             0.5,
             "#f7f7f7"
            ],
            [
             0.6,
             "#e6f5d0"
            ],
            [
             0.7,
             "#b8e186"
            ],
            [
             0.8,
             "#7fbc41"
            ],
            [
             0.9,
             "#4d9221"
            ],
            [
             1,
             "#276419"
            ]
           ],
           "sequential": [
            [
             0,
             "#0d0887"
            ],
            [
             0.1111111111111111,
             "#46039f"
            ],
            [
             0.2222222222222222,
             "#7201a8"
            ],
            [
             0.3333333333333333,
             "#9c179e"
            ],
            [
             0.4444444444444444,
             "#bd3786"
            ],
            [
             0.5555555555555556,
             "#d8576b"
            ],
            [
             0.6666666666666666,
             "#ed7953"
            ],
            [
             0.7777777777777778,
             "#fb9f3a"
            ],
            [
             0.8888888888888888,
             "#fdca26"
            ],
            [
             1,
             "#f0f921"
            ]
           ],
           "sequentialminus": [
            [
             0,
             "#0d0887"
            ],
            [
             0.1111111111111111,
             "#46039f"
            ],
            [
             0.2222222222222222,
             "#7201a8"
            ],
            [
             0.3333333333333333,
             "#9c179e"
            ],
            [
             0.4444444444444444,
             "#bd3786"
            ],
            [
             0.5555555555555556,
             "#d8576b"
            ],
            [
             0.6666666666666666,
             "#ed7953"
            ],
            [
             0.7777777777777778,
             "#fb9f3a"
            ],
            [
             0.8888888888888888,
             "#fdca26"
            ],
            [
             1,
             "#f0f921"
            ]
           ]
          },
          "colorway": [
           "#636efa",
           "#EF553B",
           "#00cc96",
           "#ab63fa",
           "#FFA15A",
           "#19d3f3",
           "#FF6692",
           "#B6E880",
           "#FF97FF",
           "#FECB52"
          ],
          "font": {
           "color": "#2a3f5f"
          },
          "geo": {
           "bgcolor": "white",
           "lakecolor": "white",
           "landcolor": "#E5ECF6",
           "showlakes": true,
           "showland": true,
           "subunitcolor": "white"
          },
          "hoverlabel": {
           "align": "left"
          },
          "hovermode": "closest",
          "mapbox": {
           "style": "light"
          },
          "paper_bgcolor": "white",
          "plot_bgcolor": "#E5ECF6",
          "polar": {
           "angularaxis": {
            "gridcolor": "white",
            "linecolor": "white",
            "ticks": ""
           },
           "bgcolor": "#E5ECF6",
           "radialaxis": {
            "gridcolor": "white",
            "linecolor": "white",
            "ticks": ""
           }
          },
          "scene": {
           "xaxis": {
            "backgroundcolor": "#E5ECF6",
            "gridcolor": "white",
            "gridwidth": 2,
            "linecolor": "white",
            "showbackground": true,
            "ticks": "",
            "zerolinecolor": "white"
           },
           "yaxis": {
            "backgroundcolor": "#E5ECF6",
            "gridcolor": "white",
            "gridwidth": 2,
            "linecolor": "white",
            "showbackground": true,
            "ticks": "",
            "zerolinecolor": "white"
           },
           "zaxis": {
            "backgroundcolor": "#E5ECF6",
            "gridcolor": "white",
            "gridwidth": 2,
            "linecolor": "white",
            "showbackground": true,
            "ticks": "",
            "zerolinecolor": "white"
           }
          },
          "shapedefaults": {
           "line": {
            "color": "#2a3f5f"
           }
          },
          "ternary": {
           "aaxis": {
            "gridcolor": "white",
            "linecolor": "white",
            "ticks": ""
           },
           "baxis": {
            "gridcolor": "white",
            "linecolor": "white",
            "ticks": ""
           },
           "bgcolor": "#E5ECF6",
           "caxis": {
            "gridcolor": "white",
            "linecolor": "white",
            "ticks": ""
           }
          },
          "title": {
           "x": 0.05
          },
          "xaxis": {
           "automargin": true,
           "gridcolor": "white",
           "linecolor": "white",
           "ticks": "",
           "zerolinecolor": "white",
           "zerolinewidth": 2
          },
          "yaxis": {
           "automargin": true,
           "gridcolor": "white",
           "linecolor": "white",
           "ticks": "",
           "zerolinecolor": "white",
           "zerolinewidth": 2
          }
         }
        },
        "title": {
         "text": "Songs per artist"
        },
        "xaxis": {
         "anchor": "y",
         "domain": [
          0,
          0.98
         ],
         "title": {
          "text": "Songs"
         }
        },
        "yaxis": {
         "anchor": "x",
         "domain": [
          0,
          1
         ],
         "title": {
          "text": "count"
         }
        }
       }
      }
     },
     "metadata": {},
     "output_type": "display_data"
    }
   ],
   "source": [
    "# distribution songs per artist\n",
    "song_count_df = song_df.groupby('artist')[['song_name']].count()\n",
    "fig = px.histogram(song_count_df, x='song_name', title='Songs per artist', labels={'song_name': 'Songs'})\n",
    "fig.show()"
   ]
  },
  {
   "cell_type": "code",
   "execution_count": 73,
   "metadata": {},
   "outputs": [
    {
     "data": {
      "application/vnd.plotly.v1+json": {
       "config": {
        "plotlyServerURL": "https://plot.ly"
       },
       "data": [
        {
         "alignmentgroup": "True",
         "bingroup": "x",
         "hoverlabel": {
          "namelength": 0
         },
         "hovertemplate": "n_words=%{x}<br>count=%{y}",
         "legendgroup": "",
         "marker": {
          "color": "#636efa"
         },
         "name": "",
         "offsetgroup": "",
         "orientation": "v",
         "showlegend": false,
         "type": "histogram",
         "x": [
          75,
          74,
          87,
          130,
          51,
          51,
          75,
          68,
          89,
          81,
          83,
          130,
          81,
          104,
          121,
          80,
          101,
          102,
          74,
          50,
          89,
          68,
          57,
          37,
          88,
          52,
          68,
          123,
          109,
          137,
          205,
          59,
          117,
          51,
          97,
          130,
          112,
          145,
          102,
          183,
          141,
          92,
          128,
          118,
          56,
          55,
          56,
          90,
          48,
          106,
          75,
          108,
          66,
          139,
          110,
          99,
          163,
          179,
          78,
          150,
          89,
          108,
          108,
          96,
          124,
          58,
          90,
          103,
          187,
          167,
          180,
          84,
          103,
          64,
          108,
          122,
          93,
          102,
          90,
          87,
          94,
          90,
          87,
          112,
          66,
          68,
          70,
          72,
          128,
          145,
          92,
          118,
          110,
          134,
          61,
          94,
          91,
          73,
          129,
          160,
          121,
          63,
          74,
          73,
          83,
          59,
          88,
          62,
          139,
          69,
          90,
          194,
          85,
          45,
          146,
          113,
          109,
          81,
          158,
          116,
          146,
          95,
          88,
          137,
          132,
          54,
          80,
          75,
          133,
          103
         ],
         "xaxis": "x",
         "yaxis": "y"
        }
       ],
       "layout": {
        "barmode": "relative",
        "height": 600,
        "legend": {
         "tracegroupgap": 0
        },
        "template": {
         "data": {
          "bar": [
           {
            "error_x": {
             "color": "#2a3f5f"
            },
            "error_y": {
             "color": "#2a3f5f"
            },
            "marker": {
             "line": {
              "color": "#E5ECF6",
              "width": 0.5
             }
            },
            "type": "bar"
           }
          ],
          "barpolar": [
           {
            "marker": {
             "line": {
              "color": "#E5ECF6",
              "width": 0.5
             }
            },
            "type": "barpolar"
           }
          ],
          "carpet": [
           {
            "aaxis": {
             "endlinecolor": "#2a3f5f",
             "gridcolor": "white",
             "linecolor": "white",
             "minorgridcolor": "white",
             "startlinecolor": "#2a3f5f"
            },
            "baxis": {
             "endlinecolor": "#2a3f5f",
             "gridcolor": "white",
             "linecolor": "white",
             "minorgridcolor": "white",
             "startlinecolor": "#2a3f5f"
            },
            "type": "carpet"
           }
          ],
          "choropleth": [
           {
            "colorbar": {
             "outlinewidth": 0,
             "ticks": ""
            },
            "type": "choropleth"
           }
          ],
          "contour": [
           {
            "colorbar": {
             "outlinewidth": 0,
             "ticks": ""
            },
            "colorscale": [
             [
              0,
              "#0d0887"
             ],
             [
              0.1111111111111111,
              "#46039f"
             ],
             [
              0.2222222222222222,
              "#7201a8"
             ],
             [
              0.3333333333333333,
              "#9c179e"
             ],
             [
              0.4444444444444444,
              "#bd3786"
             ],
             [
              0.5555555555555556,
              "#d8576b"
             ],
             [
              0.6666666666666666,
              "#ed7953"
             ],
             [
              0.7777777777777778,
              "#fb9f3a"
             ],
             [
              0.8888888888888888,
              "#fdca26"
             ],
             [
              1,
              "#f0f921"
             ]
            ],
            "type": "contour"
           }
          ],
          "contourcarpet": [
           {
            "colorbar": {
             "outlinewidth": 0,
             "ticks": ""
            },
            "type": "contourcarpet"
           }
          ],
          "heatmap": [
           {
            "colorbar": {
             "outlinewidth": 0,
             "ticks": ""
            },
            "colorscale": [
             [
              0,
              "#0d0887"
             ],
             [
              0.1111111111111111,
              "#46039f"
             ],
             [
              0.2222222222222222,
              "#7201a8"
             ],
             [
              0.3333333333333333,
              "#9c179e"
             ],
             [
              0.4444444444444444,
              "#bd3786"
             ],
             [
              0.5555555555555556,
              "#d8576b"
             ],
             [
              0.6666666666666666,
              "#ed7953"
             ],
             [
              0.7777777777777778,
              "#fb9f3a"
             ],
             [
              0.8888888888888888,
              "#fdca26"
             ],
             [
              1,
              "#f0f921"
             ]
            ],
            "type": "heatmap"
           }
          ],
          "heatmapgl": [
           {
            "colorbar": {
             "outlinewidth": 0,
             "ticks": ""
            },
            "colorscale": [
             [
              0,
              "#0d0887"
             ],
             [
              0.1111111111111111,
              "#46039f"
             ],
             [
              0.2222222222222222,
              "#7201a8"
             ],
             [
              0.3333333333333333,
              "#9c179e"
             ],
             [
              0.4444444444444444,
              "#bd3786"
             ],
             [
              0.5555555555555556,
              "#d8576b"
             ],
             [
              0.6666666666666666,
              "#ed7953"
             ],
             [
              0.7777777777777778,
              "#fb9f3a"
             ],
             [
              0.8888888888888888,
              "#fdca26"
             ],
             [
              1,
              "#f0f921"
             ]
            ],
            "type": "heatmapgl"
           }
          ],
          "histogram": [
           {
            "marker": {
             "colorbar": {
              "outlinewidth": 0,
              "ticks": ""
             }
            },
            "type": "histogram"
           }
          ],
          "histogram2d": [
           {
            "colorbar": {
             "outlinewidth": 0,
             "ticks": ""
            },
            "colorscale": [
             [
              0,
              "#0d0887"
             ],
             [
              0.1111111111111111,
              "#46039f"
             ],
             [
              0.2222222222222222,
              "#7201a8"
             ],
             [
              0.3333333333333333,
              "#9c179e"
             ],
             [
              0.4444444444444444,
              "#bd3786"
             ],
             [
              0.5555555555555556,
              "#d8576b"
             ],
             [
              0.6666666666666666,
              "#ed7953"
             ],
             [
              0.7777777777777778,
              "#fb9f3a"
             ],
             [
              0.8888888888888888,
              "#fdca26"
             ],
             [
              1,
              "#f0f921"
             ]
            ],
            "type": "histogram2d"
           }
          ],
          "histogram2dcontour": [
           {
            "colorbar": {
             "outlinewidth": 0,
             "ticks": ""
            },
            "colorscale": [
             [
              0,
              "#0d0887"
             ],
             [
              0.1111111111111111,
              "#46039f"
             ],
             [
              0.2222222222222222,
              "#7201a8"
             ],
             [
              0.3333333333333333,
              "#9c179e"
             ],
             [
              0.4444444444444444,
              "#bd3786"
             ],
             [
              0.5555555555555556,
              "#d8576b"
             ],
             [
              0.6666666666666666,
              "#ed7953"
             ],
             [
              0.7777777777777778,
              "#fb9f3a"
             ],
             [
              0.8888888888888888,
              "#fdca26"
             ],
             [
              1,
              "#f0f921"
             ]
            ],
            "type": "histogram2dcontour"
           }
          ],
          "mesh3d": [
           {
            "colorbar": {
             "outlinewidth": 0,
             "ticks": ""
            },
            "type": "mesh3d"
           }
          ],
          "parcoords": [
           {
            "line": {
             "colorbar": {
              "outlinewidth": 0,
              "ticks": ""
             }
            },
            "type": "parcoords"
           }
          ],
          "scatter": [
           {
            "marker": {
             "colorbar": {
              "outlinewidth": 0,
              "ticks": ""
             }
            },
            "type": "scatter"
           }
          ],
          "scatter3d": [
           {
            "line": {
             "colorbar": {
              "outlinewidth": 0,
              "ticks": ""
             }
            },
            "marker": {
             "colorbar": {
              "outlinewidth": 0,
              "ticks": ""
             }
            },
            "type": "scatter3d"
           }
          ],
          "scattercarpet": [
           {
            "marker": {
             "colorbar": {
              "outlinewidth": 0,
              "ticks": ""
             }
            },
            "type": "scattercarpet"
           }
          ],
          "scattergeo": [
           {
            "marker": {
             "colorbar": {
              "outlinewidth": 0,
              "ticks": ""
             }
            },
            "type": "scattergeo"
           }
          ],
          "scattergl": [
           {
            "marker": {
             "colorbar": {
              "outlinewidth": 0,
              "ticks": ""
             }
            },
            "type": "scattergl"
           }
          ],
          "scattermapbox": [
           {
            "marker": {
             "colorbar": {
              "outlinewidth": 0,
              "ticks": ""
             }
            },
            "type": "scattermapbox"
           }
          ],
          "scatterpolar": [
           {
            "marker": {
             "colorbar": {
              "outlinewidth": 0,
              "ticks": ""
             }
            },
            "type": "scatterpolar"
           }
          ],
          "scatterpolargl": [
           {
            "marker": {
             "colorbar": {
              "outlinewidth": 0,
              "ticks": ""
             }
            },
            "type": "scatterpolargl"
           }
          ],
          "scatterternary": [
           {
            "marker": {
             "colorbar": {
              "outlinewidth": 0,
              "ticks": ""
             }
            },
            "type": "scatterternary"
           }
          ],
          "surface": [
           {
            "colorbar": {
             "outlinewidth": 0,
             "ticks": ""
            },
            "colorscale": [
             [
              0,
              "#0d0887"
             ],
             [
              0.1111111111111111,
              "#46039f"
             ],
             [
              0.2222222222222222,
              "#7201a8"
             ],
             [
              0.3333333333333333,
              "#9c179e"
             ],
             [
              0.4444444444444444,
              "#bd3786"
             ],
             [
              0.5555555555555556,
              "#d8576b"
             ],
             [
              0.6666666666666666,
              "#ed7953"
             ],
             [
              0.7777777777777778,
              "#fb9f3a"
             ],
             [
              0.8888888888888888,
              "#fdca26"
             ],
             [
              1,
              "#f0f921"
             ]
            ],
            "type": "surface"
           }
          ],
          "table": [
           {
            "cells": {
             "fill": {
              "color": "#EBF0F8"
             },
             "line": {
              "color": "white"
             }
            },
            "header": {
             "fill": {
              "color": "#C8D4E3"
             },
             "line": {
              "color": "white"
             }
            },
            "type": "table"
           }
          ]
         },
         "layout": {
          "annotationdefaults": {
           "arrowcolor": "#2a3f5f",
           "arrowhead": 0,
           "arrowwidth": 1
          },
          "colorscale": {
           "diverging": [
            [
             0,
             "#8e0152"
            ],
            [
             0.1,
             "#c51b7d"
            ],
            [
             0.2,
             "#de77ae"
            ],
            [
             0.3,
             "#f1b6da"
            ],
            [
             0.4,
             "#fde0ef"
            ],
            [
             0.5,
             "#f7f7f7"
            ],
            [
             0.6,
             "#e6f5d0"
            ],
            [
             0.7,
             "#b8e186"
            ],
            [
             0.8,
             "#7fbc41"
            ],
            [
             0.9,
             "#4d9221"
            ],
            [
             1,
             "#276419"
            ]
           ],
           "sequential": [
            [
             0,
             "#0d0887"
            ],
            [
             0.1111111111111111,
             "#46039f"
            ],
            [
             0.2222222222222222,
             "#7201a8"
            ],
            [
             0.3333333333333333,
             "#9c179e"
            ],
            [
             0.4444444444444444,
             "#bd3786"
            ],
            [
             0.5555555555555556,
             "#d8576b"
            ],
            [
             0.6666666666666666,
             "#ed7953"
            ],
            [
             0.7777777777777778,
             "#fb9f3a"
            ],
            [
             0.8888888888888888,
             "#fdca26"
            ],
            [
             1,
             "#f0f921"
            ]
           ],
           "sequentialminus": [
            [
             0,
             "#0d0887"
            ],
            [
             0.1111111111111111,
             "#46039f"
            ],
            [
             0.2222222222222222,
             "#7201a8"
            ],
            [
             0.3333333333333333,
             "#9c179e"
            ],
            [
             0.4444444444444444,
             "#bd3786"
            ],
            [
             0.5555555555555556,
             "#d8576b"
            ],
            [
             0.6666666666666666,
             "#ed7953"
            ],
            [
             0.7777777777777778,
             "#fb9f3a"
            ],
            [
             0.8888888888888888,
             "#fdca26"
            ],
            [
             1,
             "#f0f921"
            ]
           ]
          },
          "colorway": [
           "#636efa",
           "#EF553B",
           "#00cc96",
           "#ab63fa",
           "#FFA15A",
           "#19d3f3",
           "#FF6692",
           "#B6E880",
           "#FF97FF",
           "#FECB52"
          ],
          "font": {
           "color": "#2a3f5f"
          },
          "geo": {
           "bgcolor": "white",
           "lakecolor": "white",
           "landcolor": "#E5ECF6",
           "showlakes": true,
           "showland": true,
           "subunitcolor": "white"
          },
          "hoverlabel": {
           "align": "left"
          },
          "hovermode": "closest",
          "mapbox": {
           "style": "light"
          },
          "paper_bgcolor": "white",
          "plot_bgcolor": "#E5ECF6",
          "polar": {
           "angularaxis": {
            "gridcolor": "white",
            "linecolor": "white",
            "ticks": ""
           },
           "bgcolor": "#E5ECF6",
           "radialaxis": {
            "gridcolor": "white",
            "linecolor": "white",
            "ticks": ""
           }
          },
          "scene": {
           "xaxis": {
            "backgroundcolor": "#E5ECF6",
            "gridcolor": "white",
            "gridwidth": 2,
            "linecolor": "white",
            "showbackground": true,
            "ticks": "",
            "zerolinecolor": "white"
           },
           "yaxis": {
            "backgroundcolor": "#E5ECF6",
            "gridcolor": "white",
            "gridwidth": 2,
            "linecolor": "white",
            "showbackground": true,
            "ticks": "",
            "zerolinecolor": "white"
           },
           "zaxis": {
            "backgroundcolor": "#E5ECF6",
            "gridcolor": "white",
            "gridwidth": 2,
            "linecolor": "white",
            "showbackground": true,
            "ticks": "",
            "zerolinecolor": "white"
           }
          },
          "shapedefaults": {
           "line": {
            "color": "#2a3f5f"
           }
          },
          "ternary": {
           "aaxis": {
            "gridcolor": "white",
            "linecolor": "white",
            "ticks": ""
           },
           "baxis": {
            "gridcolor": "white",
            "linecolor": "white",
            "ticks": ""
           },
           "bgcolor": "#E5ECF6",
           "caxis": {
            "gridcolor": "white",
            "linecolor": "white",
            "ticks": ""
           }
          },
          "title": {
           "x": 0.05
          },
          "xaxis": {
           "automargin": true,
           "gridcolor": "white",
           "linecolor": "white",
           "ticks": "",
           "zerolinecolor": "white",
           "zerolinewidth": 2
          },
          "yaxis": {
           "automargin": true,
           "gridcolor": "white",
           "linecolor": "white",
           "ticks": "",
           "zerolinecolor": "white",
           "zerolinewidth": 2
          }
         }
        },
        "title": {
         "text": "Words per song"
        },
        "xaxis": {
         "anchor": "y",
         "domain": [
          0,
          0.98
         ],
         "title": {
          "text": "n_words"
         }
        },
        "yaxis": {
         "anchor": "x",
         "domain": [
          0,
          1
         ],
         "title": {
          "text": "count"
         }
        }
       }
      }
     },
     "metadata": {},
     "output_type": "display_data"
    }
   ],
   "source": [
    "# distribution words per song\n",
    "fig = px.histogram(song_df, x='n_words', title='Words per song')\n",
    "fig.show()"
   ]
  },
  {
   "cell_type": "code",
   "execution_count": 74,
   "metadata": {},
   "outputs": [],
   "source": [
    "# # create dataframe with lists of artists\n",
    "# song_df['words_str'] = song_df['words'].map(lambda lst: ' '.join(lst))\n",
    "\n",
    "# # map text to artists\n",
    "# words_to_artist = {}\n",
    "# for tp in song_df[['artist', 'words_str']].itertuples(index=False):\n",
    "#     artist = tp[0]\n",
    "#     words = tp[1]\n",
    "#     if words in words_to_artist:\n",
    "#         words_to_artist[words].append(artist)\n",
    "#     else:\n",
    "#         words_to_artist[words] = [artist]\n",
    "\n",
    "# # insert list of artists to dataframe\n",
    "# song_df['artists'] = song_df['words_str'].map(words_to_artist)\n",
    "# song_df['duplicates'] = song_df['artists'].map(len) - 1\n",
    "\n",
    "# # convert list of artists to set of artists\n",
    "# song_df['artists'] = song_df['artists'].map(set)\n",
    "# song_df['n_artists'] = song_df['artists'].map(len)\n",
    "\n",
    "# # remove duplicate songs\n",
    "# artist_text_df = song_df.drop_duplicates('words_str')"
   ]
  },
  {
   "cell_type": "markdown",
   "metadata": {},
   "source": [
    "Feature['artist'].value_counts() engineering"
   ]
  },
  {
   "cell_type": "code",
   "execution_count": 75,
   "metadata": {},
   "outputs": [
    {
     "data": {
      "text/html": [
       "<div>\n",
       "<style scoped>\n",
       "    .dataframe tbody tr th:only-of-type {\n",
       "        vertical-align: middle;\n",
       "    }\n",
       "\n",
       "    .dataframe tbody tr th {\n",
       "        vertical-align: top;\n",
       "    }\n",
       "\n",
       "    .dataframe thead th {\n",
       "        text-align: right;\n",
       "    }\n",
       "</style>\n",
       "<table border=\"1\" class=\"dataframe\">\n",
       "  <thead>\n",
       "    <tr style=\"text-align: right;\">\n",
       "      <th></th>\n",
       "      <th>song_name</th>\n",
       "      <th>href</th>\n",
       "      <th>lyric</th>\n",
       "      <th>artist</th>\n",
       "      <th>lines</th>\n",
       "      <th>words</th>\n",
       "      <th>n_words</th>\n",
       "    </tr>\n",
       "  </thead>\n",
       "  <tbody>\n",
       "    <tr>\n",
       "      <th>0</th>\n",
       "      <td>อะ ไนท์ (A Night)</td>\n",
       "      <td>/music/thailyric/2681</td>\n",
       "      <td>ดึกดื่นคืนใด มองฟ้าไม่เห็นจันทร์ ไม่เจอะเจอกัน...</td>\n",
       "      <td>bodyslam</td>\n",
       "      <td>15</td>\n",
       "      <td>[ดึกดื่น, คืน, ใด, ฟ้า, เดือน, เจอะ, เจอกัน, ร...</td>\n",
       "      <td>75</td>\n",
       "    </tr>\n",
       "    <tr>\n",
       "      <th>1</th>\n",
       "      <td>ขอบฟ้า</td>\n",
       "      <td>/music/thailyric/2640</td>\n",
       "      <td>ได้แต่เหลียวมองไปสุดฟ้าไกลมันช่างน่าเสียดายที่...</td>\n",
       "      <td>bodyslam</td>\n",
       "      <td>29</td>\n",
       "      <td>[เหลียว, ฟ้า, ช่าง, น่าเสียดาย, ขอบฟ้า, จบ, เส...</td>\n",
       "      <td>74</td>\n",
       "    </tr>\n",
       "    <tr>\n",
       "      <th>2</th>\n",
       "      <td>คนที่ถูกรัก</td>\n",
       "      <td>/music/thailyric/2641</td>\n",
       "      <td>ใจ ฉันเคยถูกทิ้งเพียงลำพัง รักใครมาแล้วตั้งกี่...</td>\n",
       "      <td>bodyslam</td>\n",
       "      <td>25</td>\n",
       "      <td>[ใจ, ทิ้ง, เพียงลำพัง, รัก, กี่, ผิดหวัง, กี่,...</td>\n",
       "      <td>87</td>\n",
       "    </tr>\n",
       "    <tr>\n",
       "      <th>3</th>\n",
       "      <td>ความเชื่อ</td>\n",
       "      <td>/music/thailyric/2644</td>\n",
       "      <td>มันเกือบจะล้มมันเหนื่อยมันล้าเหมือนแทบขาดใจเดิ...</td>\n",
       "      <td>bodyslam</td>\n",
       "      <td>45</td>\n",
       "      <td>[ล้ม, เหนื่อย, ล้า, เหมือน, แทบ, ขาดใจ, เดิน, ...</td>\n",
       "      <td>130</td>\n",
       "    </tr>\n",
       "    <tr>\n",
       "      <th>4</th>\n",
       "      <td>ความรักทำให้คนตาบอด</td>\n",
       "      <td>/music/thailyric/2647</td>\n",
       "      <td>รู้ว่ามันไม่สมควร ที่ยังกวนใจเธอ ฉันขอโทษทีรัก...</td>\n",
       "      <td>bodyslam</td>\n",
       "      <td>21</td>\n",
       "      <td>[รู้, สมควร, ยั่ว, ขอโทษ, รัก, คอย, หวังดี, มี...</td>\n",
       "      <td>51</td>\n",
       "    </tr>\n",
       "    <tr>\n",
       "      <th>...</th>\n",
       "      <td>...</td>\n",
       "      <td>...</td>\n",
       "      <td>...</td>\n",
       "      <td>...</td>\n",
       "      <td>...</td>\n",
       "      <td>...</td>\n",
       "      <td>...</td>\n",
       "    </tr>\n",
       "    <tr>\n",
       "      <th>125</th>\n",
       "      <td>ให้เธอหายดี (SuperMom)</td>\n",
       "      <td>/music/thailyric/18442</td>\n",
       "      <td>เจ็บที่ตรงไหนบอกฉันได้ไหมให้ฉันช่วยดูแม้ไม่อาจ...</td>\n",
       "      <td>tilly_birds</td>\n",
       "      <td>50</td>\n",
       "      <td>[ปวด, ตรงไหน, ไหม, ดู, รู้, แก้, ไขมัน, ปวด, ข...</td>\n",
       "      <td>54</td>\n",
       "    </tr>\n",
       "    <tr>\n",
       "      <th>126</th>\n",
       "      <td>ให้เธอ</td>\n",
       "      <td>/music/thailyric/19409</td>\n",
       "      <td>ฟ้า และท้องทะเลกับลมนั้นมีอยู่แต่ใครจะรู้ จะรู...</td>\n",
       "      <td>tilly_birds</td>\n",
       "      <td>51</td>\n",
       "      <td>[ฟ้า, ท้องทะเล, ลม, รู้, รู้, ใจ, ไว, ั, ตะวัน...</td>\n",
       "      <td>80</td>\n",
       "    </tr>\n",
       "    <tr>\n",
       "      <th>127</th>\n",
       "      <td>อภัย (Broken)</td>\n",
       "      <td>/music/thailyric/15735</td>\n",
       "      <td>ทะเลาะเสียงดัง ข้าวของก็พัง อย่างนี้ประจำบางคร...</td>\n",
       "      <td>tilly_birds</td>\n",
       "      <td>31</td>\n",
       "      <td>[ทะเลาะ, ความดัง, สินค้า, พัง, ประจำ, ช่วงเวลา...</td>\n",
       "      <td>75</td>\n",
       "    </tr>\n",
       "    <tr>\n",
       "      <th>128</th>\n",
       "      <td>อย่าอยู่เลย</td>\n",
       "      <td>/music/thailyric/19971</td>\n",
       "      <td>เธอทนอยู่กับเขามานาน อยู่กับเขามานานฉันทนดูเธอ...</td>\n",
       "      <td>tilly_birds</td>\n",
       "      <td>46</td>\n",
       "      <td>[ทน, ทน, ดู, ทรมาน, ไหว, ยอมให้, เตือน, กี่, ฟ...</td>\n",
       "      <td>133</td>\n",
       "    </tr>\n",
       "    <tr>\n",
       "      <th>129</th>\n",
       "      <td>อยู่ได้ ได้อยู่ (ineednoone)</td>\n",
       "      <td>/music/thailyric/17190</td>\n",
       "      <td>เจอมากี่ครั้งเรื่องรักๆ เดี๋ยวจะเล่าให้ฟังชอบค...</td>\n",
       "      <td>tilly_birds</td>\n",
       "      <td>57</td>\n",
       "      <td>[เจอ, กี่, เรื่อง, รัก, เดี๋ยว, เล่า, ฟัง, ชอบ...</td>\n",
       "      <td>103</td>\n",
       "    </tr>\n",
       "  </tbody>\n",
       "</table>\n",
       "<p>130 rows × 7 columns</p>\n",
       "</div>"
      ],
      "text/plain": [
       "                        song_name                    href  \\\n",
       "0               อะ ไนท์ (A Night)   /music/thailyric/2681   \n",
       "1                          ขอบฟ้า   /music/thailyric/2640   \n",
       "2                     คนที่ถูกรัก   /music/thailyric/2641   \n",
       "3                       ความเชื่อ   /music/thailyric/2644   \n",
       "4             ความรักทำให้คนตาบอด   /music/thailyric/2647   \n",
       "..                            ...                     ...   \n",
       "125        ให้เธอหายดี (SuperMom)  /music/thailyric/18442   \n",
       "126                        ให้เธอ  /music/thailyric/19409   \n",
       "127                 อภัย (Broken)  /music/thailyric/15735   \n",
       "128                   อย่าอยู่เลย  /music/thailyric/19971   \n",
       "129  อยู่ได้ ได้อยู่ (ineednoone)  /music/thailyric/17190   \n",
       "\n",
       "                                                 lyric       artist  lines  \\\n",
       "0    ดึกดื่นคืนใด มองฟ้าไม่เห็นจันทร์ ไม่เจอะเจอกัน...     bodyslam     15   \n",
       "1    ได้แต่เหลียวมองไปสุดฟ้าไกลมันช่างน่าเสียดายที่...     bodyslam     29   \n",
       "2    ใจ ฉันเคยถูกทิ้งเพียงลำพัง รักใครมาแล้วตั้งกี่...     bodyslam     25   \n",
       "3    มันเกือบจะล้มมันเหนื่อยมันล้าเหมือนแทบขาดใจเดิ...     bodyslam     45   \n",
       "4    รู้ว่ามันไม่สมควร ที่ยังกวนใจเธอ ฉันขอโทษทีรัก...     bodyslam     21   \n",
       "..                                                 ...          ...    ...   \n",
       "125  เจ็บที่ตรงไหนบอกฉันได้ไหมให้ฉันช่วยดูแม้ไม่อาจ...  tilly_birds     50   \n",
       "126  ฟ้า และท้องทะเลกับลมนั้นมีอยู่แต่ใครจะรู้ จะรู...  tilly_birds     51   \n",
       "127  ทะเลาะเสียงดัง ข้าวของก็พัง อย่างนี้ประจำบางคร...  tilly_birds     31   \n",
       "128  เธอทนอยู่กับเขามานาน อยู่กับเขามานานฉันทนดูเธอ...  tilly_birds     46   \n",
       "129  เจอมากี่ครั้งเรื่องรักๆ เดี๋ยวจะเล่าให้ฟังชอบค...  tilly_birds     57   \n",
       "\n",
       "                                                 words  n_words  \n",
       "0    [ดึกดื่น, คืน, ใด, ฟ้า, เดือน, เจอะ, เจอกัน, ร...       75  \n",
       "1    [เหลียว, ฟ้า, ช่าง, น่าเสียดาย, ขอบฟ้า, จบ, เส...       74  \n",
       "2    [ใจ, ทิ้ง, เพียงลำพัง, รัก, กี่, ผิดหวัง, กี่,...       87  \n",
       "3    [ล้ม, เหนื่อย, ล้า, เหมือน, แทบ, ขาดใจ, เดิน, ...      130  \n",
       "4    [รู้, สมควร, ยั่ว, ขอโทษ, รัก, คอย, หวังดี, มี...       51  \n",
       "..                                                 ...      ...  \n",
       "125  [ปวด, ตรงไหน, ไหม, ดู, รู้, แก้, ไขมัน, ปวด, ข...       54  \n",
       "126  [ฟ้า, ท้องทะเล, ลม, รู้, รู้, ใจ, ไว, ั, ตะวัน...       80  \n",
       "127  [ทะเลาะ, ความดัง, สินค้า, พัง, ประจำ, ช่วงเวลา...       75  \n",
       "128  [ทน, ทน, ดู, ทรมาน, ไหว, ยอมให้, เตือน, กี่, ฟ...      133  \n",
       "129  [เจอ, กี่, เรื่อง, รัก, เดี๋ยว, เล่า, ฟัง, ชอบ...      103  \n",
       "\n",
       "[130 rows x 7 columns]"
      ]
     },
     "execution_count": 75,
     "metadata": {},
     "output_type": "execute_result"
    }
   ],
   "source": [
    "song_df"
   ]
  },
  {
   "cell_type": "markdown",
   "metadata": {},
   "source": [
    "## Feature engineering"
   ]
  },
  {
   "cell_type": "markdown",
   "metadata": {},
   "source": [
    "### Number of words"
   ]
  },
  {
   "cell_type": "code",
   "execution_count": 76,
   "metadata": {},
   "outputs": [
    {
     "name": "stdout",
     "output_type": "stream",
     "text": [
      "Total number of songs: 130\n"
     ]
    },
    {
     "data": {
      "text/html": [
       "<div>\n",
       "<style scoped>\n",
       "    .dataframe tbody tr th:only-of-type {\n",
       "        vertical-align: middle;\n",
       "    }\n",
       "\n",
       "    .dataframe tbody tr th {\n",
       "        vertical-align: top;\n",
       "    }\n",
       "\n",
       "    .dataframe thead th {\n",
       "        text-align: right;\n",
       "    }\n",
       "</style>\n",
       "<table border=\"1\" class=\"dataframe\">\n",
       "  <thead>\n",
       "    <tr style=\"text-align: right;\">\n",
       "      <th></th>\n",
       "      <th>artist</th>\n",
       "      <th>song_name</th>\n",
       "    </tr>\n",
       "  </thead>\n",
       "  <tbody>\n",
       "    <tr>\n",
       "      <th>0</th>\n",
       "      <td>bodyslam</td>\n",
       "      <td>66</td>\n",
       "    </tr>\n",
       "    <tr>\n",
       "      <th>1</th>\n",
       "      <td>nont_tanont</td>\n",
       "      <td>36</td>\n",
       "    </tr>\n",
       "    <tr>\n",
       "      <th>2</th>\n",
       "      <td>tilly_birds</td>\n",
       "      <td>28</td>\n",
       "    </tr>\n",
       "  </tbody>\n",
       "</table>\n",
       "</div>"
      ],
      "text/plain": [
       "        artist  song_name\n",
       "0     bodyslam         66\n",
       "1  nont_tanont         36\n",
       "2  tilly_birds         28"
      ]
     },
     "execution_count": 76,
     "metadata": {},
     "output_type": "execute_result"
    }
   ],
   "source": [
    "n_artist = 4\n",
    "random.seed(0)\n",
    "\n",
    "artist_select = random.choices(song_df['artist'].unique(), k=n_artist)\n",
    "\n",
    "song_filter_df = song_df.loc[song_df['artist'].isin(artist_select)]\n",
    "print('Total number of songs: {}'.format(len(song_filter_df)))\n",
    "song_filter_df.groupby('artist')[['song_name']].count().reset_index().rename(columns={'song':'songs'})"
   ]
  },
  {
   "cell_type": "code",
   "execution_count": 77,
   "metadata": {},
   "outputs": [
    {
     "data": {
      "application/vnd.plotly.v1+json": {
       "config": {
        "plotlyServerURL": "https://plot.ly"
       },
       "data": [
        {
         "alignmentgroup": "True",
         "hoverlabel": {
          "namelength": 0
         },
         "hovertemplate": "artist=%{x}<br>n_words=%{y}",
         "legendgroup": "",
         "marker": {
          "color": "#636efa"
         },
         "name": "",
         "notched": false,
         "offsetgroup": "",
         "orientation": "v",
         "showlegend": false,
         "type": "box",
         "x": [
          "bodyslam",
          "bodyslam",
          "bodyslam",
          "bodyslam",
          "bodyslam",
          "bodyslam",
          "bodyslam",
          "bodyslam",
          "bodyslam",
          "bodyslam",
          "bodyslam",
          "bodyslam",
          "bodyslam",
          "bodyslam",
          "bodyslam",
          "bodyslam",
          "bodyslam",
          "bodyslam",
          "bodyslam",
          "bodyslam",
          "bodyslam",
          "bodyslam",
          "bodyslam",
          "bodyslam",
          "bodyslam",
          "bodyslam",
          "bodyslam",
          "bodyslam",
          "bodyslam",
          "bodyslam",
          "bodyslam",
          "bodyslam",
          "bodyslam",
          "bodyslam",
          "bodyslam",
          "bodyslam",
          "bodyslam",
          "bodyslam",
          "bodyslam",
          "bodyslam",
          "bodyslam",
          "bodyslam",
          "bodyslam",
          "bodyslam",
          "bodyslam",
          "bodyslam",
          "bodyslam",
          "bodyslam",
          "bodyslam",
          "bodyslam",
          "bodyslam",
          "bodyslam",
          "bodyslam",
          "bodyslam",
          "bodyslam",
          "bodyslam",
          "bodyslam",
          "bodyslam",
          "bodyslam",
          "bodyslam",
          "bodyslam",
          "bodyslam",
          "bodyslam",
          "bodyslam",
          "bodyslam",
          "bodyslam",
          "nont_tanont",
          "nont_tanont",
          "nont_tanont",
          "nont_tanont",
          "nont_tanont",
          "nont_tanont",
          "nont_tanont",
          "nont_tanont",
          "nont_tanont",
          "nont_tanont",
          "nont_tanont",
          "nont_tanont",
          "nont_tanont",
          "nont_tanont",
          "nont_tanont",
          "nont_tanont",
          "nont_tanont",
          "nont_tanont",
          "nont_tanont",
          "nont_tanont",
          "nont_tanont",
          "nont_tanont",
          "nont_tanont",
          "nont_tanont",
          "nont_tanont",
          "nont_tanont",
          "nont_tanont",
          "nont_tanont",
          "nont_tanont",
          "nont_tanont",
          "nont_tanont",
          "nont_tanont",
          "nont_tanont",
          "nont_tanont",
          "nont_tanont",
          "nont_tanont",
          "tilly_birds",
          "tilly_birds",
          "tilly_birds",
          "tilly_birds",
          "tilly_birds",
          "tilly_birds",
          "tilly_birds",
          "tilly_birds",
          "tilly_birds",
          "tilly_birds",
          "tilly_birds",
          "tilly_birds",
          "tilly_birds",
          "tilly_birds",
          "tilly_birds",
          "tilly_birds",
          "tilly_birds",
          "tilly_birds",
          "tilly_birds",
          "tilly_birds",
          "tilly_birds",
          "tilly_birds",
          "tilly_birds",
          "tilly_birds",
          "tilly_birds",
          "tilly_birds",
          "tilly_birds",
          "tilly_birds"
         ],
         "x0": " ",
         "xaxis": "x",
         "y": [
          75,
          74,
          87,
          130,
          51,
          51,
          75,
          68,
          89,
          81,
          83,
          130,
          81,
          104,
          121,
          80,
          101,
          102,
          74,
          50,
          89,
          68,
          57,
          37,
          88,
          52,
          68,
          123,
          109,
          137,
          205,
          59,
          117,
          51,
          97,
          130,
          112,
          145,
          102,
          183,
          141,
          92,
          128,
          118,
          56,
          55,
          56,
          90,
          48,
          106,
          75,
          108,
          66,
          139,
          110,
          99,
          163,
          179,
          78,
          150,
          89,
          108,
          108,
          96,
          124,
          58,
          90,
          103,
          187,
          167,
          180,
          84,
          103,
          64,
          108,
          122,
          93,
          102,
          90,
          87,
          94,
          90,
          87,
          112,
          66,
          68,
          70,
          72,
          128,
          145,
          92,
          118,
          110,
          134,
          61,
          94,
          91,
          73,
          129,
          160,
          121,
          63,
          74,
          73,
          83,
          59,
          88,
          62,
          139,
          69,
          90,
          194,
          85,
          45,
          146,
          113,
          109,
          81,
          158,
          116,
          146,
          95,
          88,
          137,
          132,
          54,
          80,
          75,
          133,
          103
         ],
         "y0": " ",
         "yaxis": "y"
        }
       ],
       "layout": {
        "boxmode": "group",
        "height": 600,
        "legend": {
         "tracegroupgap": 0
        },
        "template": {
         "data": {
          "bar": [
           {
            "error_x": {
             "color": "#2a3f5f"
            },
            "error_y": {
             "color": "#2a3f5f"
            },
            "marker": {
             "line": {
              "color": "#E5ECF6",
              "width": 0.5
             }
            },
            "type": "bar"
           }
          ],
          "barpolar": [
           {
            "marker": {
             "line": {
              "color": "#E5ECF6",
              "width": 0.5
             }
            },
            "type": "barpolar"
           }
          ],
          "carpet": [
           {
            "aaxis": {
             "endlinecolor": "#2a3f5f",
             "gridcolor": "white",
             "linecolor": "white",
             "minorgridcolor": "white",
             "startlinecolor": "#2a3f5f"
            },
            "baxis": {
             "endlinecolor": "#2a3f5f",
             "gridcolor": "white",
             "linecolor": "white",
             "minorgridcolor": "white",
             "startlinecolor": "#2a3f5f"
            },
            "type": "carpet"
           }
          ],
          "choropleth": [
           {
            "colorbar": {
             "outlinewidth": 0,
             "ticks": ""
            },
            "type": "choropleth"
           }
          ],
          "contour": [
           {
            "colorbar": {
             "outlinewidth": 0,
             "ticks": ""
            },
            "colorscale": [
             [
              0,
              "#0d0887"
             ],
             [
              0.1111111111111111,
              "#46039f"
             ],
             [
              0.2222222222222222,
              "#7201a8"
             ],
             [
              0.3333333333333333,
              "#9c179e"
             ],
             [
              0.4444444444444444,
              "#bd3786"
             ],
             [
              0.5555555555555556,
              "#d8576b"
             ],
             [
              0.6666666666666666,
              "#ed7953"
             ],
             [
              0.7777777777777778,
              "#fb9f3a"
             ],
             [
              0.8888888888888888,
              "#fdca26"
             ],
             [
              1,
              "#f0f921"
             ]
            ],
            "type": "contour"
           }
          ],
          "contourcarpet": [
           {
            "colorbar": {
             "outlinewidth": 0,
             "ticks": ""
            },
            "type": "contourcarpet"
           }
          ],
          "heatmap": [
           {
            "colorbar": {
             "outlinewidth": 0,
             "ticks": ""
            },
            "colorscale": [
             [
              0,
              "#0d0887"
             ],
             [
              0.1111111111111111,
              "#46039f"
             ],
             [
              0.2222222222222222,
              "#7201a8"
             ],
             [
              0.3333333333333333,
              "#9c179e"
             ],
             [
              0.4444444444444444,
              "#bd3786"
             ],
             [
              0.5555555555555556,
              "#d8576b"
             ],
             [
              0.6666666666666666,
              "#ed7953"
             ],
             [
              0.7777777777777778,
              "#fb9f3a"
             ],
             [
              0.8888888888888888,
              "#fdca26"
             ],
             [
              1,
              "#f0f921"
             ]
            ],
            "type": "heatmap"
           }
          ],
          "heatmapgl": [
           {
            "colorbar": {
             "outlinewidth": 0,
             "ticks": ""
            },
            "colorscale": [
             [
              0,
              "#0d0887"
             ],
             [
              0.1111111111111111,
              "#46039f"
             ],
             [
              0.2222222222222222,
              "#7201a8"
             ],
             [
              0.3333333333333333,
              "#9c179e"
             ],
             [
              0.4444444444444444,
              "#bd3786"
             ],
             [
              0.5555555555555556,
              "#d8576b"
             ],
             [
              0.6666666666666666,
              "#ed7953"
             ],
             [
              0.7777777777777778,
              "#fb9f3a"
             ],
             [
              0.8888888888888888,
              "#fdca26"
             ],
             [
              1,
              "#f0f921"
             ]
            ],
            "type": "heatmapgl"
           }
          ],
          "histogram": [
           {
            "marker": {
             "colorbar": {
              "outlinewidth": 0,
              "ticks": ""
             }
            },
            "type": "histogram"
           }
          ],
          "histogram2d": [
           {
            "colorbar": {
             "outlinewidth": 0,
             "ticks": ""
            },
            "colorscale": [
             [
              0,
              "#0d0887"
             ],
             [
              0.1111111111111111,
              "#46039f"
             ],
             [
              0.2222222222222222,
              "#7201a8"
             ],
             [
              0.3333333333333333,
              "#9c179e"
             ],
             [
              0.4444444444444444,
              "#bd3786"
             ],
             [
              0.5555555555555556,
              "#d8576b"
             ],
             [
              0.6666666666666666,
              "#ed7953"
             ],
             [
              0.7777777777777778,
              "#fb9f3a"
             ],
             [
              0.8888888888888888,
              "#fdca26"
             ],
             [
              1,
              "#f0f921"
             ]
            ],
            "type": "histogram2d"
           }
          ],
          "histogram2dcontour": [
           {
            "colorbar": {
             "outlinewidth": 0,
             "ticks": ""
            },
            "colorscale": [
             [
              0,
              "#0d0887"
             ],
             [
              0.1111111111111111,
              "#46039f"
             ],
             [
              0.2222222222222222,
              "#7201a8"
             ],
             [
              0.3333333333333333,
              "#9c179e"
             ],
             [
              0.4444444444444444,
              "#bd3786"
             ],
             [
              0.5555555555555556,
              "#d8576b"
             ],
             [
              0.6666666666666666,
              "#ed7953"
             ],
             [
              0.7777777777777778,
              "#fb9f3a"
             ],
             [
              0.8888888888888888,
              "#fdca26"
             ],
             [
              1,
              "#f0f921"
             ]
            ],
            "type": "histogram2dcontour"
           }
          ],
          "mesh3d": [
           {
            "colorbar": {
             "outlinewidth": 0,
             "ticks": ""
            },
            "type": "mesh3d"
           }
          ],
          "parcoords": [
           {
            "line": {
             "colorbar": {
              "outlinewidth": 0,
              "ticks": ""
             }
            },
            "type": "parcoords"
           }
          ],
          "scatter": [
           {
            "marker": {
             "colorbar": {
              "outlinewidth": 0,
              "ticks": ""
             }
            },
            "type": "scatter"
           }
          ],
          "scatter3d": [
           {
            "line": {
             "colorbar": {
              "outlinewidth": 0,
              "ticks": ""
             }
            },
            "marker": {
             "colorbar": {
              "outlinewidth": 0,
              "ticks": ""
             }
            },
            "type": "scatter3d"
           }
          ],
          "scattercarpet": [
           {
            "marker": {
             "colorbar": {
              "outlinewidth": 0,
              "ticks": ""
             }
            },
            "type": "scattercarpet"
           }
          ],
          "scattergeo": [
           {
            "marker": {
             "colorbar": {
              "outlinewidth": 0,
              "ticks": ""
             }
            },
            "type": "scattergeo"
           }
          ],
          "scattergl": [
           {
            "marker": {
             "colorbar": {
              "outlinewidth": 0,
              "ticks": ""
             }
            },
            "type": "scattergl"
           }
          ],
          "scattermapbox": [
           {
            "marker": {
             "colorbar": {
              "outlinewidth": 0,
              "ticks": ""
             }
            },
            "type": "scattermapbox"
           }
          ],
          "scatterpolar": [
           {
            "marker": {
             "colorbar": {
              "outlinewidth": 0,
              "ticks": ""
             }
            },
            "type": "scatterpolar"
           }
          ],
          "scatterpolargl": [
           {
            "marker": {
             "colorbar": {
              "outlinewidth": 0,
              "ticks": ""
             }
            },
            "type": "scatterpolargl"
           }
          ],
          "scatterternary": [
           {
            "marker": {
             "colorbar": {
              "outlinewidth": 0,
              "ticks": ""
             }
            },
            "type": "scatterternary"
           }
          ],
          "surface": [
           {
            "colorbar": {
             "outlinewidth": 0,
             "ticks": ""
            },
            "colorscale": [
             [
              0,
              "#0d0887"
             ],
             [
              0.1111111111111111,
              "#46039f"
             ],
             [
              0.2222222222222222,
              "#7201a8"
             ],
             [
              0.3333333333333333,
              "#9c179e"
             ],
             [
              0.4444444444444444,
              "#bd3786"
             ],
             [
              0.5555555555555556,
              "#d8576b"
             ],
             [
              0.6666666666666666,
              "#ed7953"
             ],
             [
              0.7777777777777778,
              "#fb9f3a"
             ],
             [
              0.8888888888888888,
              "#fdca26"
             ],
             [
              1,
              "#f0f921"
             ]
            ],
            "type": "surface"
           }
          ],
          "table": [
           {
            "cells": {
             "fill": {
              "color": "#EBF0F8"
             },
             "line": {
              "color": "white"
             }
            },
            "header": {
             "fill": {
              "color": "#C8D4E3"
             },
             "line": {
              "color": "white"
             }
            },
            "type": "table"
           }
          ]
         },
         "layout": {
          "annotationdefaults": {
           "arrowcolor": "#2a3f5f",
           "arrowhead": 0,
           "arrowwidth": 1
          },
          "colorscale": {
           "diverging": [
            [
             0,
             "#8e0152"
            ],
            [
             0.1,
             "#c51b7d"
            ],
            [
             0.2,
             "#de77ae"
            ],
            [
             0.3,
             "#f1b6da"
            ],
            [
             0.4,
             "#fde0ef"
            ],
            [
             0.5,
             "#f7f7f7"
            ],
            [
             0.6,
             "#e6f5d0"
            ],
            [
             0.7,
             "#b8e186"
            ],
            [
             0.8,
             "#7fbc41"
            ],
            [
             0.9,
             "#4d9221"
            ],
            [
             1,
             "#276419"
            ]
           ],
           "sequential": [
            [
             0,
             "#0d0887"
            ],
            [
             0.1111111111111111,
             "#46039f"
            ],
            [
             0.2222222222222222,
             "#7201a8"
            ],
            [
             0.3333333333333333,
             "#9c179e"
            ],
            [
             0.4444444444444444,
             "#bd3786"
            ],
            [
             0.5555555555555556,
             "#d8576b"
            ],
            [
             0.6666666666666666,
             "#ed7953"
            ],
            [
             0.7777777777777778,
             "#fb9f3a"
            ],
            [
             0.8888888888888888,
             "#fdca26"
            ],
            [
             1,
             "#f0f921"
            ]
           ],
           "sequentialminus": [
            [
             0,
             "#0d0887"
            ],
            [
             0.1111111111111111,
             "#46039f"
            ],
            [
             0.2222222222222222,
             "#7201a8"
            ],
            [
             0.3333333333333333,
             "#9c179e"
            ],
            [
             0.4444444444444444,
             "#bd3786"
            ],
            [
             0.5555555555555556,
             "#d8576b"
            ],
            [
             0.6666666666666666,
             "#ed7953"
            ],
            [
             0.7777777777777778,
             "#fb9f3a"
            ],
            [
             0.8888888888888888,
             "#fdca26"
            ],
            [
             1,
             "#f0f921"
            ]
           ]
          },
          "colorway": [
           "#636efa",
           "#EF553B",
           "#00cc96",
           "#ab63fa",
           "#FFA15A",
           "#19d3f3",
           "#FF6692",
           "#B6E880",
           "#FF97FF",
           "#FECB52"
          ],
          "font": {
           "color": "#2a3f5f"
          },
          "geo": {
           "bgcolor": "white",
           "lakecolor": "white",
           "landcolor": "#E5ECF6",
           "showlakes": true,
           "showland": true,
           "subunitcolor": "white"
          },
          "hoverlabel": {
           "align": "left"
          },
          "hovermode": "closest",
          "mapbox": {
           "style": "light"
          },
          "paper_bgcolor": "white",
          "plot_bgcolor": "#E5ECF6",
          "polar": {
           "angularaxis": {
            "gridcolor": "white",
            "linecolor": "white",
            "ticks": ""
           },
           "bgcolor": "#E5ECF6",
           "radialaxis": {
            "gridcolor": "white",
            "linecolor": "white",
            "ticks": ""
           }
          },
          "scene": {
           "xaxis": {
            "backgroundcolor": "#E5ECF6",
            "gridcolor": "white",
            "gridwidth": 2,
            "linecolor": "white",
            "showbackground": true,
            "ticks": "",
            "zerolinecolor": "white"
           },
           "yaxis": {
            "backgroundcolor": "#E5ECF6",
            "gridcolor": "white",
            "gridwidth": 2,
            "linecolor": "white",
            "showbackground": true,
            "ticks": "",
            "zerolinecolor": "white"
           },
           "zaxis": {
            "backgroundcolor": "#E5ECF6",
            "gridcolor": "white",
            "gridwidth": 2,
            "linecolor": "white",
            "showbackground": true,
            "ticks": "",
            "zerolinecolor": "white"
           }
          },
          "shapedefaults": {
           "line": {
            "color": "#2a3f5f"
           }
          },
          "ternary": {
           "aaxis": {
            "gridcolor": "white",
            "linecolor": "white",
            "ticks": ""
           },
           "baxis": {
            "gridcolor": "white",
            "linecolor": "white",
            "ticks": ""
           },
           "bgcolor": "#E5ECF6",
           "caxis": {
            "gridcolor": "white",
            "linecolor": "white",
            "ticks": ""
           }
          },
          "title": {
           "x": 0.05
          },
          "xaxis": {
           "automargin": true,
           "gridcolor": "white",
           "linecolor": "white",
           "ticks": "",
           "zerolinecolor": "white",
           "zerolinewidth": 2
          },
          "yaxis": {
           "automargin": true,
           "gridcolor": "white",
           "linecolor": "white",
           "ticks": "",
           "zerolinecolor": "white",
           "zerolinewidth": 2
          }
         }
        },
        "title": {
         "text": "Word count per song by artist"
        },
        "xaxis": {
         "anchor": "y",
         "domain": [
          0,
          0.98
         ],
         "title": {
          "text": "artist"
         }
        },
        "yaxis": {
         "anchor": "x",
         "domain": [
          0,
          1
         ],
         "title": {
          "text": "n_words"
         }
        }
       }
      }
     },
     "metadata": {},
     "output_type": "display_data"
    }
   ],
   "source": [
    "fig = px.box(song_filter_df, x='artist', y='n_words', title='Word count per song by artist')\n",
    "fig.show()"
   ]
  },
  {
   "cell_type": "markdown",
   "metadata": {},
   "source": [
    "### Repeated words['unique_words_ratio'])song_filter_df.join("
   ]
  },
  {
   "cell_type": "code",
   "execution_count": 78,
   "metadata": {},
   "outputs": [],
   "source": [
    "# number of unique stems\n",
    "song_df['n_unique_words'] = song_df['words'].map(lambda lst: len(set(lst)))\n",
    "\n",
    "# ratio of unique stems\n",
    "song_df['unique_words_ratio'] = song_df['n_unique_words'] / song_df['n_words']\n",
    "\n",
    "# attach column to selected artists\n",
    "song_filter_df = song_filter_df.join(song_df['unique_words_ratio'])"
   ]
  },
  {
   "cell_type": "code",
   "execution_count": 79,
   "metadata": {},
   "outputs": [
    {
     "data": {
      "application/vnd.plotly.v1+json": {
       "config": {
        "plotlyServerURL": "https://plot.ly"
       },
       "data": [
        {
         "alignmentgroup": "True",
         "hoverlabel": {
          "namelength": 0
         },
         "hovertemplate": "artist=%{x}<br>unique_words_ratio=%{y}",
         "legendgroup": "",
         "marker": {
          "color": "#636efa"
         },
         "name": "",
         "notched": false,
         "offsetgroup": "",
         "orientation": "v",
         "showlegend": false,
         "type": "box",
         "x": [
          "bodyslam",
          "bodyslam",
          "bodyslam",
          "bodyslam",
          "bodyslam",
          "bodyslam",
          "bodyslam",
          "bodyslam",
          "bodyslam",
          "bodyslam",
          "bodyslam",
          "bodyslam",
          "bodyslam",
          "bodyslam",
          "bodyslam",
          "bodyslam",
          "bodyslam",
          "bodyslam",
          "bodyslam",
          "bodyslam",
          "bodyslam",
          "bodyslam",
          "bodyslam",
          "bodyslam",
          "bodyslam",
          "bodyslam",
          "bodyslam",
          "bodyslam",
          "bodyslam",
          "bodyslam",
          "bodyslam",
          "bodyslam",
          "bodyslam",
          "bodyslam",
          "bodyslam",
          "bodyslam",
          "bodyslam",
          "bodyslam",
          "bodyslam",
          "bodyslam",
          "bodyslam",
          "bodyslam",
          "bodyslam",
          "bodyslam",
          "bodyslam",
          "bodyslam",
          "bodyslam",
          "bodyslam",
          "bodyslam",
          "bodyslam",
          "bodyslam",
          "bodyslam",
          "bodyslam",
          "bodyslam",
          "bodyslam",
          "bodyslam",
          "bodyslam",
          "bodyslam",
          "bodyslam",
          "bodyslam",
          "bodyslam",
          "bodyslam",
          "bodyslam",
          "bodyslam",
          "bodyslam",
          "bodyslam",
          "nont_tanont",
          "nont_tanont",
          "nont_tanont",
          "nont_tanont",
          "nont_tanont",
          "nont_tanont",
          "nont_tanont",
          "nont_tanont",
          "nont_tanont",
          "nont_tanont",
          "nont_tanont",
          "nont_tanont",
          "nont_tanont",
          "nont_tanont",
          "nont_tanont",
          "nont_tanont",
          "nont_tanont",
          "nont_tanont",
          "nont_tanont",
          "nont_tanont",
          "nont_tanont",
          "nont_tanont",
          "nont_tanont",
          "nont_tanont",
          "nont_tanont",
          "nont_tanont",
          "nont_tanont",
          "nont_tanont",
          "nont_tanont",
          "nont_tanont",
          "nont_tanont",
          "nont_tanont",
          "nont_tanont",
          "nont_tanont",
          "nont_tanont",
          "nont_tanont",
          "tilly_birds",
          "tilly_birds",
          "tilly_birds",
          "tilly_birds",
          "tilly_birds",
          "tilly_birds",
          "tilly_birds",
          "tilly_birds",
          "tilly_birds",
          "tilly_birds",
          "tilly_birds",
          "tilly_birds",
          "tilly_birds",
          "tilly_birds",
          "tilly_birds",
          "tilly_birds",
          "tilly_birds",
          "tilly_birds",
          "tilly_birds",
          "tilly_birds",
          "tilly_birds",
          "tilly_birds",
          "tilly_birds",
          "tilly_birds",
          "tilly_birds",
          "tilly_birds",
          "tilly_birds",
          "tilly_birds"
         ],
         "x0": " ",
         "xaxis": "x",
         "y": [
          0.5733333333333334,
          0.5,
          0.39080459770114945,
          0.3769230769230769,
          0.5490196078431373,
          0.7058823529411765,
          0.41333333333333333,
          0.5147058823529411,
          0.3258426966292135,
          0.5061728395061729,
          0.3855421686746988,
          0.6846153846153846,
          0.6049382716049383,
          0.5192307692307693,
          0.6528925619834711,
          0.525,
          0.5148514851485149,
          0.3333333333333333,
          0.581081081081081,
          0.38,
          0.48314606741573035,
          0.5294117647058824,
          0.47368421052631576,
          0.6486486486486487,
          0.5681818181818182,
          0.75,
          0.6323529411764706,
          0.4878048780487805,
          0.43119266055045874,
          0.3722627737226277,
          0.35609756097560974,
          0.4576271186440678,
          0.47863247863247865,
          0.5490196078431373,
          0.4742268041237113,
          0.49230769230769234,
          0.4732142857142857,
          0.41379310344827586,
          0.46078431372549017,
          0.5901639344262295,
          0.41134751773049644,
          0.5108695652173914,
          0.5234375,
          0.5847457627118644,
          0.6071428571428571,
          0.4727272727272727,
          0.5,
          0.4222222222222222,
          0.6666666666666666,
          0.29245283018867924,
          0.56,
          0.37037037037037035,
          0.7424242424242424,
          0.4316546762589928,
          0.5181818181818182,
          0.5858585858585859,
          0.6441717791411042,
          0.43575418994413406,
          0.5769230769230769,
          0.4666666666666667,
          0.550561797752809,
          0.5740740740740741,
          0.5092592592592593,
          0.5104166666666666,
          0.45161290322580644,
          0.43103448275862066,
          0.5888888888888889,
          0.3786407766990291,
          0.49732620320855614,
          0.3772455089820359,
          0.3277777777777778,
          0.47619047619047616,
          0.3883495145631068,
          0.59375,
          0.37962962962962965,
          0.45901639344262296,
          0.6451612903225806,
          0.4019607843137255,
          0.4444444444444444,
          0.367816091954023,
          0.3723404255319149,
          0.34444444444444444,
          0.3448275862068966,
          0.3482142857142857,
          0.5303030303030303,
          0.4411764705882353,
          0.5285714285714286,
          0.4444444444444444,
          0.5546875,
          0.2827586206896552,
          0.41304347826086957,
          0.3559322033898305,
          0.34545454545454546,
          0.39552238805970147,
          0.3770491803278688,
          0.35106382978723405,
          0.34065934065934067,
          0.5753424657534246,
          0.4418604651162791,
          0.275,
          0.5619834710743802,
          0.5079365079365079,
          0.43243243243243246,
          0.5342465753424658,
          0.5301204819277109,
          0.4067796610169492,
          0.48863636363636365,
          0.5645161290322581,
          0.43884892086330934,
          0.4782608695652174,
          0.32222222222222224,
          0.4072164948453608,
          0.35294117647058826,
          0.6,
          0.3013698630136986,
          0.49557522123893805,
          0.4036697247706422,
          0.5432098765432098,
          0.310126582278481,
          0.3275862068965517,
          0.4520547945205479,
          0.5368421052631579,
          0.32954545454545453,
          0.583941605839416,
          0.2878787878787879,
          0.5555555555555556,
          0.3625,
          0.48,
          0.44360902255639095,
          0.39805825242718446
         ],
         "y0": " ",
         "yaxis": "y"
        }
       ],
       "layout": {
        "boxmode": "group",
        "height": 600,
        "legend": {
         "tracegroupgap": 0
        },
        "template": {
         "data": {
          "bar": [
           {
            "error_x": {
             "color": "#2a3f5f"
            },
            "error_y": {
             "color": "#2a3f5f"
            },
            "marker": {
             "line": {
              "color": "#E5ECF6",
              "width": 0.5
             }
            },
            "type": "bar"
           }
          ],
          "barpolar": [
           {
            "marker": {
             "line": {
              "color": "#E5ECF6",
              "width": 0.5
             }
            },
            "type": "barpolar"
           }
          ],
          "carpet": [
           {
            "aaxis": {
             "endlinecolor": "#2a3f5f",
             "gridcolor": "white",
             "linecolor": "white",
             "minorgridcolor": "white",
             "startlinecolor": "#2a3f5f"
            },
            "baxis": {
             "endlinecolor": "#2a3f5f",
             "gridcolor": "white",
             "linecolor": "white",
             "minorgridcolor": "white",
             "startlinecolor": "#2a3f5f"
            },
            "type": "carpet"
           }
          ],
          "choropleth": [
           {
            "colorbar": {
             "outlinewidth": 0,
             "ticks": ""
            },
            "type": "choropleth"
           }
          ],
          "contour": [
           {
            "colorbar": {
             "outlinewidth": 0,
             "ticks": ""
            },
            "colorscale": [
             [
              0,
              "#0d0887"
             ],
             [
              0.1111111111111111,
              "#46039f"
             ],
             [
              0.2222222222222222,
              "#7201a8"
             ],
             [
              0.3333333333333333,
              "#9c179e"
             ],
             [
              0.4444444444444444,
              "#bd3786"
             ],
             [
              0.5555555555555556,
              "#d8576b"
             ],
             [
              0.6666666666666666,
              "#ed7953"
             ],
             [
              0.7777777777777778,
              "#fb9f3a"
             ],
             [
              0.8888888888888888,
              "#fdca26"
             ],
             [
              1,
              "#f0f921"
             ]
            ],
            "type": "contour"
           }
          ],
          "contourcarpet": [
           {
            "colorbar": {
             "outlinewidth": 0,
             "ticks": ""
            },
            "type": "contourcarpet"
           }
          ],
          "heatmap": [
           {
            "colorbar": {
             "outlinewidth": 0,
             "ticks": ""
            },
            "colorscale": [
             [
              0,
              "#0d0887"
             ],
             [
              0.1111111111111111,
              "#46039f"
             ],
             [
              0.2222222222222222,
              "#7201a8"
             ],
             [
              0.3333333333333333,
              "#9c179e"
             ],
             [
              0.4444444444444444,
              "#bd3786"
             ],
             [
              0.5555555555555556,
              "#d8576b"
             ],
             [
              0.6666666666666666,
              "#ed7953"
             ],
             [
              0.7777777777777778,
              "#fb9f3a"
             ],
             [
              0.8888888888888888,
              "#fdca26"
             ],
             [
              1,
              "#f0f921"
             ]
            ],
            "type": "heatmap"
           }
          ],
          "heatmapgl": [
           {
            "colorbar": {
             "outlinewidth": 0,
             "ticks": ""
            },
            "colorscale": [
             [
              0,
              "#0d0887"
             ],
             [
              0.1111111111111111,
              "#46039f"
             ],
             [
              0.2222222222222222,
              "#7201a8"
             ],
             [
              0.3333333333333333,
              "#9c179e"
             ],
             [
              0.4444444444444444,
              "#bd3786"
             ],
             [
              0.5555555555555556,
              "#d8576b"
             ],
             [
              0.6666666666666666,
              "#ed7953"
             ],
             [
              0.7777777777777778,
              "#fb9f3a"
             ],
             [
              0.8888888888888888,
              "#fdca26"
             ],
             [
              1,
              "#f0f921"
             ]
            ],
            "type": "heatmapgl"
           }
          ],
          "histogram": [
           {
            "marker": {
             "colorbar": {
              "outlinewidth": 0,
              "ticks": ""
             }
            },
            "type": "histogram"
           }
          ],
          "histogram2d": [
           {
            "colorbar": {
             "outlinewidth": 0,
             "ticks": ""
            },
            "colorscale": [
             [
              0,
              "#0d0887"
             ],
             [
              0.1111111111111111,
              "#46039f"
             ],
             [
              0.2222222222222222,
              "#7201a8"
             ],
             [
              0.3333333333333333,
              "#9c179e"
             ],
             [
              0.4444444444444444,
              "#bd3786"
             ],
             [
              0.5555555555555556,
              "#d8576b"
             ],
             [
              0.6666666666666666,
              "#ed7953"
             ],
             [
              0.7777777777777778,
              "#fb9f3a"
             ],
             [
              0.8888888888888888,
              "#fdca26"
             ],
             [
              1,
              "#f0f921"
             ]
            ],
            "type": "histogram2d"
           }
          ],
          "histogram2dcontour": [
           {
            "colorbar": {
             "outlinewidth": 0,
             "ticks": ""
            },
            "colorscale": [
             [
              0,
              "#0d0887"
             ],
             [
              0.1111111111111111,
              "#46039f"
             ],
             [
              0.2222222222222222,
              "#7201a8"
             ],
             [
              0.3333333333333333,
              "#9c179e"
             ],
             [
              0.4444444444444444,
              "#bd3786"
             ],
             [
              0.5555555555555556,
              "#d8576b"
             ],
             [
              0.6666666666666666,
              "#ed7953"
             ],
             [
              0.7777777777777778,
              "#fb9f3a"
             ],
             [
              0.8888888888888888,
              "#fdca26"
             ],
             [
              1,
              "#f0f921"
             ]
            ],
            "type": "histogram2dcontour"
           }
          ],
          "mesh3d": [
           {
            "colorbar": {
             "outlinewidth": 0,
             "ticks": ""
            },
            "type": "mesh3d"
           }
          ],
          "parcoords": [
           {
            "line": {
             "colorbar": {
              "outlinewidth": 0,
              "ticks": ""
             }
            },
            "type": "parcoords"
           }
          ],
          "scatter": [
           {
            "marker": {
             "colorbar": {
              "outlinewidth": 0,
              "ticks": ""
             }
            },
            "type": "scatter"
           }
          ],
          "scatter3d": [
           {
            "line": {
             "colorbar": {
              "outlinewidth": 0,
              "ticks": ""
             }
            },
            "marker": {
             "colorbar": {
              "outlinewidth": 0,
              "ticks": ""
             }
            },
            "type": "scatter3d"
           }
          ],
          "scattercarpet": [
           {
            "marker": {
             "colorbar": {
              "outlinewidth": 0,
              "ticks": ""
             }
            },
            "type": "scattercarpet"
           }
          ],
          "scattergeo": [
           {
            "marker": {
             "colorbar": {
              "outlinewidth": 0,
              "ticks": ""
             }
            },
            "type": "scattergeo"
           }
          ],
          "scattergl": [
           {
            "marker": {
             "colorbar": {
              "outlinewidth": 0,
              "ticks": ""
             }
            },
            "type": "scattergl"
           }
          ],
          "scattermapbox": [
           {
            "marker": {
             "colorbar": {
              "outlinewidth": 0,
              "ticks": ""
             }
            },
            "type": "scattermapbox"
           }
          ],
          "scatterpolar": [
           {
            "marker": {
             "colorbar": {
              "outlinewidth": 0,
              "ticks": ""
             }
            },
            "type": "scatterpolar"
           }
          ],
          "scatterpolargl": [
           {
            "marker": {
             "colorbar": {
              "outlinewidth": 0,
              "ticks": ""
             }
            },
            "type": "scatterpolargl"
           }
          ],
          "scatterternary": [
           {
            "marker": {
             "colorbar": {
              "outlinewidth": 0,
              "ticks": ""
             }
            },
            "type": "scatterternary"
           }
          ],
          "surface": [
           {
            "colorbar": {
             "outlinewidth": 0,
             "ticks": ""
            },
            "colorscale": [
             [
              0,
              "#0d0887"
             ],
             [
              0.1111111111111111,
              "#46039f"
             ],
             [
              0.2222222222222222,
              "#7201a8"
             ],
             [
              0.3333333333333333,
              "#9c179e"
             ],
             [
              0.4444444444444444,
              "#bd3786"
             ],
             [
              0.5555555555555556,
              "#d8576b"
             ],
             [
              0.6666666666666666,
              "#ed7953"
             ],
             [
              0.7777777777777778,
              "#fb9f3a"
             ],
             [
              0.8888888888888888,
              "#fdca26"
             ],
             [
              1,
              "#f0f921"
             ]
            ],
            "type": "surface"
           }
          ],
          "table": [
           {
            "cells": {
             "fill": {
              "color": "#EBF0F8"
             },
             "line": {
              "color": "white"
             }
            },
            "header": {
             "fill": {
              "color": "#C8D4E3"
             },
             "line": {
              "color": "white"
             }
            },
            "type": "table"
           }
          ]
         },
         "layout": {
          "annotationdefaults": {
           "arrowcolor": "#2a3f5f",
           "arrowhead": 0,
           "arrowwidth": 1
          },
          "colorscale": {
           "diverging": [
            [
             0,
             "#8e0152"
            ],
            [
             0.1,
             "#c51b7d"
            ],
            [
             0.2,
             "#de77ae"
            ],
            [
             0.3,
             "#f1b6da"
            ],
            [
             0.4,
             "#fde0ef"
            ],
            [
             0.5,
             "#f7f7f7"
            ],
            [
             0.6,
             "#e6f5d0"
            ],
            [
             0.7,
             "#b8e186"
            ],
            [
             0.8,
             "#7fbc41"
            ],
            [
             0.9,
             "#4d9221"
            ],
            [
             1,
             "#276419"
            ]
           ],
           "sequential": [
            [
             0,
             "#0d0887"
            ],
            [
             0.1111111111111111,
             "#46039f"
            ],
            [
             0.2222222222222222,
             "#7201a8"
            ],
            [
             0.3333333333333333,
             "#9c179e"
            ],
            [
             0.4444444444444444,
             "#bd3786"
            ],
            [
             0.5555555555555556,
             "#d8576b"
            ],
            [
             0.6666666666666666,
             "#ed7953"
            ],
            [
             0.7777777777777778,
             "#fb9f3a"
            ],
            [
             0.8888888888888888,
             "#fdca26"
            ],
            [
             1,
             "#f0f921"
            ]
           ],
           "sequentialminus": [
            [
             0,
             "#0d0887"
            ],
            [
             0.1111111111111111,
             "#46039f"
            ],
            [
             0.2222222222222222,
             "#7201a8"
            ],
            [
             0.3333333333333333,
             "#9c179e"
            ],
            [
             0.4444444444444444,
             "#bd3786"
            ],
            [
             0.5555555555555556,
             "#d8576b"
            ],
            [
             0.6666666666666666,
             "#ed7953"
            ],
            [
             0.7777777777777778,
             "#fb9f3a"
            ],
            [
             0.8888888888888888,
             "#fdca26"
            ],
            [
             1,
             "#f0f921"
            ]
           ]
          },
          "colorway": [
           "#636efa",
           "#EF553B",
           "#00cc96",
           "#ab63fa",
           "#FFA15A",
           "#19d3f3",
           "#FF6692",
           "#B6E880",
           "#FF97FF",
           "#FECB52"
          ],
          "font": {
           "color": "#2a3f5f"
          },
          "geo": {
           "bgcolor": "white",
           "lakecolor": "white",
           "landcolor": "#E5ECF6",
           "showlakes": true,
           "showland": true,
           "subunitcolor": "white"
          },
          "hoverlabel": {
           "align": "left"
          },
          "hovermode": "closest",
          "mapbox": {
           "style": "light"
          },
          "paper_bgcolor": "white",
          "plot_bgcolor": "#E5ECF6",
          "polar": {
           "angularaxis": {
            "gridcolor": "white",
            "linecolor": "white",
            "ticks": ""
           },
           "bgcolor": "#E5ECF6",
           "radialaxis": {
            "gridcolor": "white",
            "linecolor": "white",
            "ticks": ""
           }
          },
          "scene": {
           "xaxis": {
            "backgroundcolor": "#E5ECF6",
            "gridcolor": "white",
            "gridwidth": 2,
            "linecolor": "white",
            "showbackground": true,
            "ticks": "",
            "zerolinecolor": "white"
           },
           "yaxis": {
            "backgroundcolor": "#E5ECF6",
            "gridcolor": "white",
            "gridwidth": 2,
            "linecolor": "white",
            "showbackground": true,
            "ticks": "",
            "zerolinecolor": "white"
           },
           "zaxis": {
            "backgroundcolor": "#E5ECF6",
            "gridcolor": "white",
            "gridwidth": 2,
            "linecolor": "white",
            "showbackground": true,
            "ticks": "",
            "zerolinecolor": "white"
           }
          },
          "shapedefaults": {
           "line": {
            "color": "#2a3f5f"
           }
          },
          "ternary": {
           "aaxis": {
            "gridcolor": "white",
            "linecolor": "white",
            "ticks": ""
           },
           "baxis": {
            "gridcolor": "white",
            "linecolor": "white",
            "ticks": ""
           },
           "bgcolor": "#E5ECF6",
           "caxis": {
            "gridcolor": "white",
            "linecolor": "white",
            "ticks": ""
           }
          },
          "title": {
           "x": 0.05
          },
          "xaxis": {
           "automargin": true,
           "gridcolor": "white",
           "linecolor": "white",
           "ticks": "",
           "zerolinecolor": "white",
           "zerolinewidth": 2
          },
          "yaxis": {
           "automargin": true,
           "gridcolor": "white",
           "linecolor": "white",
           "ticks": "",
           "zerolinecolor": "white",
           "zerolinewidth": 2
          }
         }
        },
        "title": {
         "text": "Ratio of unique words to all words"
        },
        "xaxis": {
         "anchor": "y",
         "domain": [
          0,
          0.98
         ],
         "title": {
          "text": "artist"
         }
        },
        "yaxis": {
         "anchor": "x",
         "domain": [
          0,
          1
         ],
         "title": {
          "text": "unique_words_ratio"
         }
        }
       }
      }
     },
     "metadata": {},
     "output_type": "display_data"
    }
   ],
   "source": [
    "fig = px.box(song_filter_df, x='artist', y='unique_words_ratio', title='Ratio of unique words to all words')\n",
    "fig.show()"
   ]
  },
  {
   "cell_type": "markdown",
   "metadata": {},
   "source": [
    "### Words per line"
   ]
  },
  {
   "cell_type": "code",
   "execution_count": 80,
   "metadata": {},
   "outputs": [],
   "source": [
    "# calculate number of words per line\n",
    "song_df['words_per_line'] = song_df['n_words'] / song_df['lines'].astype(float)\n",
    "\n",
    "song_filter_df = song_filter_df.join(song_df['words_per_line'])"
   ]
  },
  {
   "cell_type": "code",
   "execution_count": 81,
   "metadata": {},
   "outputs": [
    {
     "data": {
      "application/vnd.plotly.v1+json": {
       "config": {
        "plotlyServerURL": "https://plot.ly"
       },
       "data": [
        {
         "alignmentgroup": "True",
         "hoverlabel": {
          "namelength": 0
         },
         "hovertemplate": "artist=%{x}<br>words_per_line=%{y}",
         "legendgroup": "",
         "marker": {
          "color": "#636efa"
         },
         "name": "",
         "notched": false,
         "offsetgroup": "",
         "orientation": "v",
         "showlegend": false,
         "type": "box",
         "x": [
          "bodyslam",
          "bodyslam",
          "bodyslam",
          "bodyslam",
          "bodyslam",
          "bodyslam",
          "bodyslam",
          "bodyslam",
          "bodyslam",
          "bodyslam",
          "bodyslam",
          "bodyslam",
          "bodyslam",
          "bodyslam",
          "bodyslam",
          "bodyslam",
          "bodyslam",
          "bodyslam",
          "bodyslam",
          "bodyslam",
          "bodyslam",
          "bodyslam",
          "bodyslam",
          "bodyslam",
          "bodyslam",
          "bodyslam",
          "bodyslam",
          "bodyslam",
          "bodyslam",
          "bodyslam",
          "bodyslam",
          "bodyslam",
          "bodyslam",
          "bodyslam",
          "bodyslam",
          "bodyslam",
          "bodyslam",
          "bodyslam",
          "bodyslam",
          "bodyslam",
          "bodyslam",
          "bodyslam",
          "bodyslam",
          "bodyslam",
          "bodyslam",
          "bodyslam",
          "bodyslam",
          "bodyslam",
          "bodyslam",
          "bodyslam",
          "bodyslam",
          "bodyslam",
          "bodyslam",
          "bodyslam",
          "bodyslam",
          "bodyslam",
          "bodyslam",
          "bodyslam",
          "bodyslam",
          "bodyslam",
          "bodyslam",
          "bodyslam",
          "bodyslam",
          "bodyslam",
          "bodyslam",
          "bodyslam",
          "nont_tanont",
          "nont_tanont",
          "nont_tanont",
          "nont_tanont",
          "nont_tanont",
          "nont_tanont",
          "nont_tanont",
          "nont_tanont",
          "nont_tanont",
          "nont_tanont",
          "nont_tanont",
          "nont_tanont",
          "nont_tanont",
          "nont_tanont",
          "nont_tanont",
          "nont_tanont",
          "nont_tanont",
          "nont_tanont",
          "nont_tanont",
          "nont_tanont",
          "nont_tanont",
          "nont_tanont",
          "nont_tanont",
          "nont_tanont",
          "nont_tanont",
          "nont_tanont",
          "nont_tanont",
          "nont_tanont",
          "nont_tanont",
          "nont_tanont",
          "nont_tanont",
          "nont_tanont",
          "nont_tanont",
          "nont_tanont",
          "nont_tanont",
          "nont_tanont",
          "tilly_birds",
          "tilly_birds",
          "tilly_birds",
          "tilly_birds",
          "tilly_birds",
          "tilly_birds",
          "tilly_birds",
          "tilly_birds",
          "tilly_birds",
          "tilly_birds",
          "tilly_birds",
          "tilly_birds",
          "tilly_birds",
          "tilly_birds",
          "tilly_birds",
          "tilly_birds",
          "tilly_birds",
          "tilly_birds",
          "tilly_birds",
          "tilly_birds",
          "tilly_birds",
          "tilly_birds",
          "tilly_birds",
          "tilly_birds",
          "tilly_birds",
          "tilly_birds",
          "tilly_birds",
          "tilly_birds"
         ],
         "x0": " ",
         "xaxis": "x",
         "y": [
          5,
          2.5517241379310347,
          3.48,
          2.888888888888889,
          2.4285714285714284,
          2.3181818181818183,
          2.2058823529411766,
          2.5185185185185186,
          2.966666666666667,
          2.3823529411764706,
          2.9642857142857144,
          2.280701754385965,
          2.076923076923077,
          2.5365853658536586,
          3.1842105263157894,
          2.5,
          3.0606060606060606,
          2.6842105263157894,
          4.625,
          2.6315789473684212,
          1.934782608695652,
          2.125,
          3,
          1.0571428571428572,
          2.75,
          1.9259259259259258,
          2.3448275862068964,
          2.9285714285714284,
          2.5348837209302326,
          2.795918367346939,
          3.203125,
          1.5128205128205128,
          3.25,
          1.2439024390243902,
          1.7636363636363637,
          2.9545454545454546,
          2.488888888888889,
          2.1323529411764706,
          2.3181818181818183,
          3.327272727272727,
          3.2790697674418605,
          2.6285714285714286,
          2.782608695652174,
          2.5652173913043477,
          2.3333333333333335,
          1.7741935483870968,
          3.2941176470588234,
          3.103448275862069,
          1.8461538461538463,
          2.864864864864865,
          1.9736842105263157,
          2.297872340425532,
          2.129032258064516,
          2.6226415094339623,
          2.156862745098039,
          2.6052631578947367,
          3.196078431372549,
          3.8085106382978724,
          1.6595744680851063,
          3.260869565217391,
          2.4722222222222223,
          2.769230769230769,
          2.918918918918919,
          3.6923076923076925,
          3.3513513513513513,
          1.8125,
          2.0930232558139537,
          2.340909090909091,
          5.054054054054054,
          2.168831168831169,
          2.769230769230769,
          2.4705882352941178,
          3.5517241379310347,
          2.2857142857142856,
          2.297872340425532,
          2.033333333333333,
          4.65,
          2.7567567567567566,
          2.3684210526315788,
          2.230769230769231,
          2,
          2.25,
          2.4166666666666665,
          1.9310344827586208,
          2.4444444444444446,
          1.9428571428571428,
          1.8918918918918919,
          1.894736842105263,
          3.878787878787879,
          1.686046511627907,
          2.6285714285714286,
          1.5526315789473684,
          2.2,
          2.09375,
          1.7428571428571429,
          2.186046511627907,
          3.033333333333333,
          3.3181818181818183,
          1.8695652173913044,
          2.2535211267605635,
          3.903225806451613,
          1.8529411764705883,
          1.6818181818181819,
          2.0277777777777777,
          2.128205128205128,
          1.9666666666666666,
          1.872340425531915,
          1.3191489361702127,
          1.904109589041096,
          0.8961038961038961,
          1.7307692307692308,
          2.732394366197183,
          1.7708333333333333,
          1.0975609756097562,
          2.1470588235294117,
          2.215686274509804,
          1.5571428571428572,
          1.8837209302325582,
          1.6631578947368422,
          2.36734693877551,
          1.9466666666666668,
          1.9387755102040816,
          1.5714285714285714,
          1.9295774647887325,
          1.9411764705882353,
          1.08,
          1.5686274509803921,
          2.4193548387096775,
          2.891304347826087,
          1.8070175438596492
         ],
         "y0": " ",
         "yaxis": "y"
        }
       ],
       "layout": {
        "boxmode": "group",
        "height": 600,
        "legend": {
         "tracegroupgap": 0
        },
        "template": {
         "data": {
          "bar": [
           {
            "error_x": {
             "color": "#2a3f5f"
            },
            "error_y": {
             "color": "#2a3f5f"
            },
            "marker": {
             "line": {
              "color": "#E5ECF6",
              "width": 0.5
             }
            },
            "type": "bar"
           }
          ],
          "barpolar": [
           {
            "marker": {
             "line": {
              "color": "#E5ECF6",
              "width": 0.5
             }
            },
            "type": "barpolar"
           }
          ],
          "carpet": [
           {
            "aaxis": {
             "endlinecolor": "#2a3f5f",
             "gridcolor": "white",
             "linecolor": "white",
             "minorgridcolor": "white",
             "startlinecolor": "#2a3f5f"
            },
            "baxis": {
             "endlinecolor": "#2a3f5f",
             "gridcolor": "white",
             "linecolor": "white",
             "minorgridcolor": "white",
             "startlinecolor": "#2a3f5f"
            },
            "type": "carpet"
           }
          ],
          "choropleth": [
           {
            "colorbar": {
             "outlinewidth": 0,
             "ticks": ""
            },
            "type": "choropleth"
           }
          ],
          "contour": [
           {
            "colorbar": {
             "outlinewidth": 0,
             "ticks": ""
            },
            "colorscale": [
             [
              0,
              "#0d0887"
             ],
             [
              0.1111111111111111,
              "#46039f"
             ],
             [
              0.2222222222222222,
              "#7201a8"
             ],
             [
              0.3333333333333333,
              "#9c179e"
             ],
             [
              0.4444444444444444,
              "#bd3786"
             ],
             [
              0.5555555555555556,
              "#d8576b"
             ],
             [
              0.6666666666666666,
              "#ed7953"
             ],
             [
              0.7777777777777778,
              "#fb9f3a"
             ],
             [
              0.8888888888888888,
              "#fdca26"
             ],
             [
              1,
              "#f0f921"
             ]
            ],
            "type": "contour"
           }
          ],
          "contourcarpet": [
           {
            "colorbar": {
             "outlinewidth": 0,
             "ticks": ""
            },
            "type": "contourcarpet"
           }
          ],
          "heatmap": [
           {
            "colorbar": {
             "outlinewidth": 0,
             "ticks": ""
            },
            "colorscale": [
             [
              0,
              "#0d0887"
             ],
             [
              0.1111111111111111,
              "#46039f"
             ],
             [
              0.2222222222222222,
              "#7201a8"
             ],
             [
              0.3333333333333333,
              "#9c179e"
             ],
             [
              0.4444444444444444,
              "#bd3786"
             ],
             [
              0.5555555555555556,
              "#d8576b"
             ],
             [
              0.6666666666666666,
              "#ed7953"
             ],
             [
              0.7777777777777778,
              "#fb9f3a"
             ],
             [
              0.8888888888888888,
              "#fdca26"
             ],
             [
              1,
              "#f0f921"
             ]
            ],
            "type": "heatmap"
           }
          ],
          "heatmapgl": [
           {
            "colorbar": {
             "outlinewidth": 0,
             "ticks": ""
            },
            "colorscale": [
             [
              0,
              "#0d0887"
             ],
             [
              0.1111111111111111,
              "#46039f"
             ],
             [
              0.2222222222222222,
              "#7201a8"
             ],
             [
              0.3333333333333333,
              "#9c179e"
             ],
             [
              0.4444444444444444,
              "#bd3786"
             ],
             [
              0.5555555555555556,
              "#d8576b"
             ],
             [
              0.6666666666666666,
              "#ed7953"
             ],
             [
              0.7777777777777778,
              "#fb9f3a"
             ],
             [
              0.8888888888888888,
              "#fdca26"
             ],
             [
              1,
              "#f0f921"
             ]
            ],
            "type": "heatmapgl"
           }
          ],
          "histogram": [
           {
            "marker": {
             "colorbar": {
              "outlinewidth": 0,
              "ticks": ""
             }
            },
            "type": "histogram"
           }
          ],
          "histogram2d": [
           {
            "colorbar": {
             "outlinewidth": 0,
             "ticks": ""
            },
            "colorscale": [
             [
              0,
              "#0d0887"
             ],
             [
              0.1111111111111111,
              "#46039f"
             ],
             [
              0.2222222222222222,
              "#7201a8"
             ],
             [
              0.3333333333333333,
              "#9c179e"
             ],
             [
              0.4444444444444444,
              "#bd3786"
             ],
             [
              0.5555555555555556,
              "#d8576b"
             ],
             [
              0.6666666666666666,
              "#ed7953"
             ],
             [
              0.7777777777777778,
              "#fb9f3a"
             ],
             [
              0.8888888888888888,
              "#fdca26"
             ],
             [
              1,
              "#f0f921"
             ]
            ],
            "type": "histogram2d"
           }
          ],
          "histogram2dcontour": [
           {
            "colorbar": {
             "outlinewidth": 0,
             "ticks": ""
            },
            "colorscale": [
             [
              0,
              "#0d0887"
             ],
             [
              0.1111111111111111,
              "#46039f"
             ],
             [
              0.2222222222222222,
              "#7201a8"
             ],
             [
              0.3333333333333333,
              "#9c179e"
             ],
             [
              0.4444444444444444,
              "#bd3786"
             ],
             [
              0.5555555555555556,
              "#d8576b"
             ],
             [
              0.6666666666666666,
              "#ed7953"
             ],
             [
              0.7777777777777778,
              "#fb9f3a"
             ],
             [
              0.8888888888888888,
              "#fdca26"
             ],
             [
              1,
              "#f0f921"
             ]
            ],
            "type": "histogram2dcontour"
           }
          ],
          "mesh3d": [
           {
            "colorbar": {
             "outlinewidth": 0,
             "ticks": ""
            },
            "type": "mesh3d"
           }
          ],
          "parcoords": [
           {
            "line": {
             "colorbar": {
              "outlinewidth": 0,
              "ticks": ""
             }
            },
            "type": "parcoords"
           }
          ],
          "scatter": [
           {
            "marker": {
             "colorbar": {
              "outlinewidth": 0,
              "ticks": ""
             }
            },
            "type": "scatter"
           }
          ],
          "scatter3d": [
           {
            "line": {
             "colorbar": {
              "outlinewidth": 0,
              "ticks": ""
             }
            },
            "marker": {
             "colorbar": {
              "outlinewidth": 0,
              "ticks": ""
             }
            },
            "type": "scatter3d"
           }
          ],
          "scattercarpet": [
           {
            "marker": {
             "colorbar": {
              "outlinewidth": 0,
              "ticks": ""
             }
            },
            "type": "scattercarpet"
           }
          ],
          "scattergeo": [
           {
            "marker": {
             "colorbar": {
              "outlinewidth": 0,
              "ticks": ""
             }
            },
            "type": "scattergeo"
           }
          ],
          "scattergl": [
           {
            "marker": {
             "colorbar": {
              "outlinewidth": 0,
              "ticks": ""
             }
            },
            "type": "scattergl"
           }
          ],
          "scattermapbox": [
           {
            "marker": {
             "colorbar": {
              "outlinewidth": 0,
              "ticks": ""
             }
            },
            "type": "scattermapbox"
           }
          ],
          "scatterpolar": [
           {
            "marker": {
             "colorbar": {
              "outlinewidth": 0,
              "ticks": ""
             }
            },
            "type": "scatterpolar"
           }
          ],
          "scatterpolargl": [
           {
            "marker": {
             "colorbar": {
              "outlinewidth": 0,
              "ticks": ""
             }
            },
            "type": "scatterpolargl"
           }
          ],
          "scatterternary": [
           {
            "marker": {
             "colorbar": {
              "outlinewidth": 0,
              "ticks": ""
             }
            },
            "type": "scatterternary"
           }
          ],
          "surface": [
           {
            "colorbar": {
             "outlinewidth": 0,
             "ticks": ""
            },
            "colorscale": [
             [
              0,
              "#0d0887"
             ],
             [
              0.1111111111111111,
              "#46039f"
             ],
             [
              0.2222222222222222,
              "#7201a8"
             ],
             [
              0.3333333333333333,
              "#9c179e"
             ],
             [
              0.4444444444444444,
              "#bd3786"
             ],
             [
              0.5555555555555556,
              "#d8576b"
             ],
             [
              0.6666666666666666,
              "#ed7953"
             ],
             [
              0.7777777777777778,
              "#fb9f3a"
             ],
             [
              0.8888888888888888,
              "#fdca26"
             ],
             [
              1,
              "#f0f921"
             ]
            ],
            "type": "surface"
           }
          ],
          "table": [
           {
            "cells": {
             "fill": {
              "color": "#EBF0F8"
             },
             "line": {
              "color": "white"
             }
            },
            "header": {
             "fill": {
              "color": "#C8D4E3"
             },
             "line": {
              "color": "white"
             }
            },
            "type": "table"
           }
          ]
         },
         "layout": {
          "annotationdefaults": {
           "arrowcolor": "#2a3f5f",
           "arrowhead": 0,
           "arrowwidth": 1
          },
          "colorscale": {
           "diverging": [
            [
             0,
             "#8e0152"
            ],
            [
             0.1,
             "#c51b7d"
            ],
            [
             0.2,
             "#de77ae"
            ],
            [
             0.3,
             "#f1b6da"
            ],
            [
             0.4,
             "#fde0ef"
            ],
            [
             0.5,
             "#f7f7f7"
            ],
            [
             0.6,
             "#e6f5d0"
            ],
            [
             0.7,
             "#b8e186"
            ],
            [
             0.8,
             "#7fbc41"
            ],
            [
             0.9,
             "#4d9221"
            ],
            [
             1,
             "#276419"
            ]
           ],
           "sequential": [
            [
             0,
             "#0d0887"
            ],
            [
             0.1111111111111111,
             "#46039f"
            ],
            [
             0.2222222222222222,
             "#7201a8"
            ],
            [
             0.3333333333333333,
             "#9c179e"
            ],
            [
             0.4444444444444444,
             "#bd3786"
            ],
            [
             0.5555555555555556,
             "#d8576b"
            ],
            [
             0.6666666666666666,
             "#ed7953"
            ],
            [
             0.7777777777777778,
             "#fb9f3a"
            ],
            [
             0.8888888888888888,
             "#fdca26"
            ],
            [
             1,
             "#f0f921"
            ]
           ],
           "sequentialminus": [
            [
             0,
             "#0d0887"
            ],
            [
             0.1111111111111111,
             "#46039f"
            ],
            [
             0.2222222222222222,
             "#7201a8"
            ],
            [
             0.3333333333333333,
             "#9c179e"
            ],
            [
             0.4444444444444444,
             "#bd3786"
            ],
            [
             0.5555555555555556,
             "#d8576b"
            ],
            [
             0.6666666666666666,
             "#ed7953"
            ],
            [
             0.7777777777777778,
             "#fb9f3a"
            ],
            [
             0.8888888888888888,
             "#fdca26"
            ],
            [
             1,
             "#f0f921"
            ]
           ]
          },
          "colorway": [
           "#636efa",
           "#EF553B",
           "#00cc96",
           "#ab63fa",
           "#FFA15A",
           "#19d3f3",
           "#FF6692",
           "#B6E880",
           "#FF97FF",
           "#FECB52"
          ],
          "font": {
           "color": "#2a3f5f"
          },
          "geo": {
           "bgcolor": "white",
           "lakecolor": "white",
           "landcolor": "#E5ECF6",
           "showlakes": true,
           "showland": true,
           "subunitcolor": "white"
          },
          "hoverlabel": {
           "align": "left"
          },
          "hovermode": "closest",
          "mapbox": {
           "style": "light"
          },
          "paper_bgcolor": "white",
          "plot_bgcolor": "#E5ECF6",
          "polar": {
           "angularaxis": {
            "gridcolor": "white",
            "linecolor": "white",
            "ticks": ""
           },
           "bgcolor": "#E5ECF6",
           "radialaxis": {
            "gridcolor": "white",
            "linecolor": "white",
            "ticks": ""
           }
          },
          "scene": {
           "xaxis": {
            "backgroundcolor": "#E5ECF6",
            "gridcolor": "white",
            "gridwidth": 2,
            "linecolor": "white",
            "showbackground": true,
            "ticks": "",
            "zerolinecolor": "white"
           },
           "yaxis": {
            "backgroundcolor": "#E5ECF6",
            "gridcolor": "white",
            "gridwidth": 2,
            "linecolor": "white",
            "showbackground": true,
            "ticks": "",
            "zerolinecolor": "white"
           },
           "zaxis": {
            "backgroundcolor": "#E5ECF6",
            "gridcolor": "white",
            "gridwidth": 2,
            "linecolor": "white",
            "showbackground": true,
            "ticks": "",
            "zerolinecolor": "white"
           }
          },
          "shapedefaults": {
           "line": {
            "color": "#2a3f5f"
           }
          },
          "ternary": {
           "aaxis": {
            "gridcolor": "white",
            "linecolor": "white",
            "ticks": ""
           },
           "baxis": {
            "gridcolor": "white",
            "linecolor": "white",
            "ticks": ""
           },
           "bgcolor": "#E5ECF6",
           "caxis": {
            "gridcolor": "white",
            "linecolor": "white",
            "ticks": ""
           }
          },
          "title": {
           "x": 0.05
          },
          "xaxis": {
           "automargin": true,
           "gridcolor": "white",
           "linecolor": "white",
           "ticks": "",
           "zerolinecolor": "white",
           "zerolinewidth": 2
          },
          "yaxis": {
           "automargin": true,
           "gridcolor": "white",
           "linecolor": "white",
           "ticks": "",
           "zerolinecolor": "white",
           "zerolinewidth": 2
          }
         }
        },
        "title": {
         "text": "Words per line"
        },
        "xaxis": {
         "anchor": "y",
         "domain": [
          0,
          0.98
         ],
         "title": {
          "text": "artist"
         }
        },
        "yaxis": {
         "anchor": "x",
         "domain": [
          0,
          1
         ],
         "title": {
          "text": "words_per_line"
         }
        }
       }
      }
     },
     "metadata": {},
     "output_type": "display_data"
    }
   ],
   "source": [
    "fig = px.box(song_filter_df, x='artist', y='words_per_line', title='Words per line')\n",
    "fig.show()"
   ]
  },
  {
   "cell_type": "markdown",
   "metadata": {},
   "source": [
    "## TFIDF"
   ]
  },
  {
   "cell_type": "code",
   "execution_count": 102,
   "metadata": {},
   "outputs": [],
   "source": [
    "from sklearn.feature_extraction.text import CountVectorizer"
   ]
  },
  {
   "cell_type": "code",
   "execution_count": 103,
   "metadata": {},
   "outputs": [],
   "source": [
    "# sample_song = [','.join(tkn) for tkn in song_df['words'][0]]\n",
    "cvec = CountVectorizer(analyzer=lambda x:x.split(','))\n",
    "tran_vect = cvec.fit_transform(song_df['words'][0])"
   ]
  },
  {
   "cell_type": "code",
   "execution_count": 84,
   "metadata": {},
   "outputs": [
    {
     "data": {
      "text/plain": [
       "{'ดึกดื่น': 10,\n",
       " 'คืน': 4,\n",
       " 'ใด': 40,\n",
       " 'ฟ้า': 14,\n",
       " 'เดือน': 29,\n",
       " 'เจอะ': 27,\n",
       " 'เจอกัน': 26,\n",
       " 'รู้': 17,\n",
       " 'หาย': 21,\n",
       " 'หมอก': 20,\n",
       " 'ฉาก': 7,\n",
       " 'แผ่น': 38,\n",
       " 'บัง': 12,\n",
       " 'เอาไว้': 37,\n",
       " 'ความห่างไกล': 3,\n",
       " 'มองไม่เห็น': 15,\n",
       " 'ส่องแสง': 19,\n",
       " 'ฉาย': 8,\n",
       " 'ลงมา': 18,\n",
       " 'ห่างหาย': 24,\n",
       " 'ค่ำ': 6,\n",
       " 'คืนนี้': 5,\n",
       " 'เมฆหมอก': 32,\n",
       " 'เต็มดวง': 30,\n",
       " 'ห่าง': 23,\n",
       " 'เหมือนเคย': 35,\n",
       " 'เจอะกัน': 28,\n",
       " 'ไหม': 42,\n",
       " 'ไกลตา': 41,\n",
       " 'ห่วงใย': 22,\n",
       " 'เหมือนเดิม': 36,\n",
       " 'เสมอ': 33,\n",
       " 'เปลี่ยนไป': 31,\n",
       " 'รัก': 16,\n",
       " 'ถึงกัน': 11,\n",
       " 'เจอ': 25,\n",
       " 'คงเดิม': 1,\n",
       " 'กาย': 0,\n",
       " 'ความรัก': 2,\n",
       " 'ใจ': 39,\n",
       " 'เหมือน': 34,\n",
       " 'พระจันทร์': 13,\n",
       " 'ดวง': 9}"
      ]
     },
     "execution_count": 84,
     "metadata": {},
     "output_type": "execute_result"
    }
   ],
   "source": [
    "cvec.vocabulary_"
   ]
  },
  {
   "cell_type": "code",
   "execution_count": 104,
   "metadata": {},
   "outputs": [
    {
     "data": {
      "text/plain": [
       "<75x43 sparse matrix of type '<class 'numpy.int64'>'\n",
       "\twith 75 stored elements in Compressed Sparse Row format>"
      ]
     },
     "execution_count": 104,
     "metadata": {},
     "output_type": "execute_result"
    }
   ],
   "source": [
    "tran_vect"
   ]
  },
  {
   "cell_type": "code",
   "execution_count": 86,
   "metadata": {},
   "outputs": [
    {
     "data": {
      "text/plain": [
       "43"
      ]
     },
     "execution_count": 86,
     "metadata": {},
     "output_type": "execute_result"
    }
   ],
   "source": [
    "len(cvec.vocabulary_)"
   ]
  },
  {
   "cell_type": "code",
   "execution_count": 87,
   "metadata": {},
   "outputs": [],
   "source": [
    "from sklearn.feature_extraction.text import TfidfVectorizer"
   ]
  },
  {
   "cell_type": "code",
   "execution_count": 88,
   "metadata": {},
   "outputs": [],
   "source": [
    "tvec2 = TfidfVectorizer(analyzer=lambda x:x.split(','))\n",
    "t_feat2 = tvec2.fit_transform(song_df['words'][0])"
   ]
  },
  {
   "cell_type": "code",
   "execution_count": 89,
   "metadata": {},
   "outputs": [
    {
     "data": {
      "text/plain": [
       "array([4.63758616, 4.63758616, 4.23212105, 4.63758616, 4.63758616,\n",
       "       3.94443898, 3.94443898, 4.63758616, 4.63758616, 4.63758616,\n",
       "       4.63758616, 4.23212105, 3.94443898, 4.63758616, 3.94443898,\n",
       "       4.63758616, 4.23212105, 3.13350876, 4.63758616, 4.63758616,\n",
       "       4.63758616, 4.23212105, 4.63758616, 4.63758616, 4.63758616,\n",
       "       4.23212105, 4.63758616, 4.23212105, 4.63758616, 3.94443898,\n",
       "       4.23212105, 3.72129543, 4.63758616, 3.94443898, 4.23212105,\n",
       "       4.63758616, 4.63758616, 4.63758616, 4.23212105, 4.23212105,\n",
       "       4.63758616, 4.63758616, 4.63758616])"
      ]
     },
     "execution_count": 89,
     "metadata": {},
     "output_type": "execute_result"
    }
   ],
   "source": [
    "tvec2.idf_"
   ]
  },
  {
   "cell_type": "code",
   "execution_count": 90,
   "metadata": {},
   "outputs": [
    {
     "data": {
      "text/plain": [
       "(75, 43)"
      ]
     },
     "execution_count": 90,
     "metadata": {},
     "output_type": "execute_result"
    }
   ],
   "source": [
    "t_feat2.shape"
   ]
  },
  {
   "cell_type": "code",
   "execution_count": 91,
   "metadata": {},
   "outputs": [
    {
     "data": {
      "text/plain": [
       "array([[0., 0., 0., ..., 0., 0., 0.],\n",
       "       [0., 0., 0., ..., 0., 0., 0.],\n",
       "       [0., 0., 0., ..., 1., 0., 0.],\n",
       "       ...,\n",
       "       [0., 0., 0., ..., 0., 0., 0.],\n",
       "       [0., 0., 0., ..., 0., 0., 0.],\n",
       "       [0., 0., 0., ..., 0., 0., 0.]])"
      ]
     },
     "execution_count": 91,
     "metadata": {},
     "output_type": "execute_result"
    }
   ],
   "source": [
    "t_feat2.toarray()"
   ]
  },
  {
   "cell_type": "code",
   "execution_count": 92,
   "metadata": {},
   "outputs": [
    {
     "data": {
      "text/plain": [
       "matrix([[0., 0., 0., 0., 0.],\n",
       "        [0., 0., 0., 0., 1.],\n",
       "        [0., 0., 0., 0., 0.],\n",
       "        [0., 0., 0., 0., 0.],\n",
       "        [0., 0., 0., 0., 0.],\n",
       "        [0., 0., 0., 0., 0.],\n",
       "        [0., 0., 0., 0., 0.],\n",
       "        [0., 0., 0., 0., 0.],\n",
       "        [0., 0., 0., 0., 0.],\n",
       "        [0., 0., 0., 0., 0.],\n",
       "        [0., 0., 0., 0., 0.],\n",
       "        [0., 0., 0., 0., 0.],\n",
       "        [0., 0., 0., 0., 0.],\n",
       "        [0., 0., 0., 0., 0.],\n",
       "        [0., 0., 0., 0., 0.],\n",
       "        [0., 0., 0., 1., 0.],\n",
       "        [0., 0., 0., 0., 0.],\n",
       "        [0., 0., 0., 0., 0.],\n",
       "        [0., 0., 0., 0., 0.],\n",
       "        [0., 0., 0., 0., 0.],\n",
       "        [0., 0., 0., 0., 0.],\n",
       "        [0., 0., 0., 0., 0.],\n",
       "        [0., 0., 0., 0., 0.],\n",
       "        [0., 0., 0., 0., 0.],\n",
       "        [0., 0., 0., 0., 0.],\n",
       "        [0., 0., 0., 0., 0.],\n",
       "        [0., 0., 0., 0., 0.],\n",
       "        [0., 0., 0., 0., 0.],\n",
       "        [0., 0., 0., 0., 0.],\n",
       "        [0., 0., 0., 0., 0.],\n",
       "        [0., 0., 0., 0., 0.],\n",
       "        [0., 0., 0., 0., 0.],\n",
       "        [0., 0., 0., 0., 0.],\n",
       "        [0., 0., 0., 0., 0.],\n",
       "        [0., 0., 0., 0., 0.],\n",
       "        [0., 0., 0., 0., 0.],\n",
       "        [0., 0., 0., 0., 0.],\n",
       "        [0., 0., 0., 0., 0.],\n",
       "        [0., 0., 0., 0., 0.],\n",
       "        [0., 0., 0., 0., 0.],\n",
       "        [0., 0., 0., 0., 0.],\n",
       "        [0., 0., 0., 0., 0.],\n",
       "        [0., 0., 0., 0., 0.],\n",
       "        [0., 0., 0., 0., 0.],\n",
       "        [0., 0., 0., 0., 0.],\n",
       "        [0., 0., 0., 0., 0.],\n",
       "        [0., 0., 0., 0., 0.],\n",
       "        [0., 0., 0., 0., 0.],\n",
       "        [0., 0., 0., 0., 0.],\n",
       "        [0., 0., 0., 0., 0.],\n",
       "        [0., 0., 0., 0., 0.],\n",
       "        [0., 0., 0., 0., 0.],\n",
       "        [0., 1., 0., 0., 0.],\n",
       "        [0., 0., 0., 0., 0.],\n",
       "        [0., 0., 0., 0., 0.],\n",
       "        [0., 0., 0., 0., 0.],\n",
       "        [0., 0., 0., 0., 0.],\n",
       "        [0., 0., 0., 0., 0.],\n",
       "        [0., 0., 0., 0., 0.],\n",
       "        [0., 0., 0., 0., 0.],\n",
       "        [0., 0., 0., 0., 0.],\n",
       "        [1., 0., 0., 0., 0.],\n",
       "        [0., 0., 0., 0., 0.],\n",
       "        [0., 0., 0., 0., 0.],\n",
       "        [0., 0., 1., 0., 0.],\n",
       "        [0., 0., 0., 0., 0.],\n",
       "        [0., 0., 0., 0., 0.],\n",
       "        [0., 0., 0., 0., 0.],\n",
       "        [0., 0., 0., 0., 0.],\n",
       "        [0., 0., 0., 0., 0.],\n",
       "        [0., 0., 1., 0., 0.],\n",
       "        [0., 0., 0., 0., 0.],\n",
       "        [0., 0., 0., 0., 0.],\n",
       "        [0., 0., 0., 0., 0.],\n",
       "        [0., 0., 0., 0., 0.]])"
      ]
     },
     "execution_count": 92,
     "metadata": {},
     "output_type": "execute_result"
    }
   ],
   "source": [
    "# t_feat2[:,:5].todense()"
   ]
  },
  {
   "cell_type": "code",
   "execution_count": 93,
   "metadata": {},
   "outputs": [
    {
     "data": {
      "text/plain": [
       "(75, 5)"
      ]
     },
     "execution_count": 93,
     "metadata": {},
     "output_type": "execute_result"
    }
   ],
   "source": [
    "t_feat2[:,:5].todense().shape"
   ]
  },
  {
   "cell_type": "code",
   "execution_count": 94,
   "metadata": {},
   "outputs": [],
   "source": [
    "from sklearn.feature_extraction.text import TfidfVectorizer"
   ]
  },
  {
   "cell_type": "code",
   "execution_count": 95,
   "metadata": {},
   "outputs": [],
   "source": [
    "def Tfidf(song):\n",
    "    tvec = TfidfVectorizer()\n",
    "    t_feat = tvec.fit_transform(song)\n",
    "    return t_feat.todense()"
   ]
  },
  {
   "cell_type": "code",
   "execution_count": 96,
   "metadata": {},
   "outputs": [],
   "source": [
    "song_df['tf_idf_vector'] = song_df['words'].map(lambda s: Tfidf(s))\n",
    "song_df['tf_idf_score'] = song_df['tf_idf_vector'].map(lambda vec: np.sum(vec))\n",
    "\n",
    "# join values to selected artists\n",
    "song_filter_df = song_filter_df.join(song_df[['tf_idf_vector', 'tf_idf_score']])"
   ]
  },
  {
   "cell_type": "code",
   "execution_count": 97,
   "metadata": {},
   "outputs": [
    {
     "data": {
      "text/html": [
       "<div>\n",
       "<style scoped>\n",
       "    .dataframe tbody tr th:only-of-type {\n",
       "        vertical-align: middle;\n",
       "    }\n",
       "\n",
       "    .dataframe tbody tr th {\n",
       "        vertical-align: top;\n",
       "    }\n",
       "\n",
       "    .dataframe thead th {\n",
       "        text-align: right;\n",
       "    }\n",
       "</style>\n",
       "<table border=\"1\" class=\"dataframe\">\n",
       "  <thead>\n",
       "    <tr style=\"text-align: right;\">\n",
       "      <th></th>\n",
       "      <th>song_name</th>\n",
       "      <th>href</th>\n",
       "      <th>lyric</th>\n",
       "      <th>artist</th>\n",
       "      <th>lines</th>\n",
       "      <th>words</th>\n",
       "      <th>n_words</th>\n",
       "      <th>unique_words_ratio</th>\n",
       "      <th>words_per_line</th>\n",
       "      <th>tf_idf_vector</th>\n",
       "      <th>tf_idf_score</th>\n",
       "    </tr>\n",
       "  </thead>\n",
       "  <tbody>\n",
       "    <tr>\n",
       "      <th>0</th>\n",
       "      <td>อะ ไนท์ (A Night)</td>\n",
       "      <td>/music/thailyric/2681</td>\n",
       "      <td>ดึกดื่นคืนใด มองฟ้าไม่เห็นจันทร์ ไม่เจอะเจอกัน...</td>\n",
       "      <td>bodyslam</td>\n",
       "      <td>15</td>\n",
       "      <td>[ดึกดื่น, คืน, ใด, ฟ้า, เดือน, เจอะ, เจอกัน, ร...</td>\n",
       "      <td>75</td>\n",
       "      <td>0.573333</td>\n",
       "      <td>5.000000</td>\n",
       "      <td>[[[[[1. 0. 0. 0. 0. 0. 0. 0. 0. 0. 0. 0. 0. 0....</td>\n",
       "      <td>61.603470</td>\n",
       "    </tr>\n",
       "    <tr>\n",
       "      <th>1</th>\n",
       "      <td>ขอบฟ้า</td>\n",
       "      <td>/music/thailyric/2640</td>\n",
       "      <td>ได้แต่เหลียวมองไปสุดฟ้าไกลมันช่างน่าเสียดายที่...</td>\n",
       "      <td>bodyslam</td>\n",
       "      <td>29</td>\n",
       "      <td>[เหลียว, ฟ้า, ช่าง, น่าเสียดาย, ขอบฟ้า, จบ, เส...</td>\n",
       "      <td>74</td>\n",
       "      <td>0.500000</td>\n",
       "      <td>2.551724</td>\n",
       "      <td>[[[[[0.         0.         0.         0.      ...</td>\n",
       "      <td>64.727922</td>\n",
       "    </tr>\n",
       "    <tr>\n",
       "      <th>2</th>\n",
       "      <td>คนที่ถูกรัก</td>\n",
       "      <td>/music/thailyric/2641</td>\n",
       "      <td>ใจ ฉันเคยถูกทิ้งเพียงลำพัง รักใครมาแล้วตั้งกี่...</td>\n",
       "      <td>bodyslam</td>\n",
       "      <td>25</td>\n",
       "      <td>[ใจ, ทิ้ง, เพียงลำพัง, รัก, กี่, ผิดหวัง, กี่,...</td>\n",
       "      <td>87</td>\n",
       "      <td>0.390805</td>\n",
       "      <td>3.480000</td>\n",
       "      <td>[[[[[0. 0. 0. 0. 0. 0. 0. 0. 0. 0. 0. 0. 0. 0....</td>\n",
       "      <td>61.897828</td>\n",
       "    </tr>\n",
       "    <tr>\n",
       "      <th>3</th>\n",
       "      <td>ความเชื่อ</td>\n",
       "      <td>/music/thailyric/2644</td>\n",
       "      <td>มันเกือบจะล้มมันเหนื่อยมันล้าเหมือนแทบขาดใจเดิ...</td>\n",
       "      <td>bodyslam</td>\n",
       "      <td>45</td>\n",
       "      <td>[ล้ม, เหนื่อย, ล้า, เหมือน, แทบ, ขาดใจ, เดิน, ...</td>\n",
       "      <td>130</td>\n",
       "      <td>0.376923</td>\n",
       "      <td>2.888889</td>\n",
       "      <td>[[[[[0. 0. 0. 0. 0. 0. 0. 0. 0. 0. 0. 0. 0. 0....</td>\n",
       "      <td>95.134520</td>\n",
       "    </tr>\n",
       "    <tr>\n",
       "      <th>4</th>\n",
       "      <td>ความรักทำให้คนตาบอด</td>\n",
       "      <td>/music/thailyric/2647</td>\n",
       "      <td>รู้ว่ามันไม่สมควร ที่ยังกวนใจเธอ ฉันขอโทษทีรัก...</td>\n",
       "      <td>bodyslam</td>\n",
       "      <td>21</td>\n",
       "      <td>[รู้, สมควร, ยั่ว, ขอโทษ, รัก, คอย, หวังดี, มี...</td>\n",
       "      <td>51</td>\n",
       "      <td>0.549020</td>\n",
       "      <td>2.428571</td>\n",
       "      <td>[[[[[0. 0. 0. 0. 0. 0. 0. 0. 0. 0. 0. 0. 0. 0....</td>\n",
       "      <td>41.899495</td>\n",
       "    </tr>\n",
       "    <tr>\n",
       "      <th>...</th>\n",
       "      <td>...</td>\n",
       "      <td>...</td>\n",
       "      <td>...</td>\n",
       "      <td>...</td>\n",
       "      <td>...</td>\n",
       "      <td>...</td>\n",
       "      <td>...</td>\n",
       "      <td>...</td>\n",
       "      <td>...</td>\n",
       "      <td>...</td>\n",
       "      <td>...</td>\n",
       "    </tr>\n",
       "    <tr>\n",
       "      <th>125</th>\n",
       "      <td>ให้เธอหายดี (SuperMom)</td>\n",
       "      <td>/music/thailyric/18442</td>\n",
       "      <td>เจ็บที่ตรงไหนบอกฉันได้ไหมให้ฉันช่วยดูแม้ไม่อาจ...</td>\n",
       "      <td>tilly_birds</td>\n",
       "      <td>50</td>\n",
       "      <td>[ปวด, ตรงไหน, ไหม, ดู, รู้, แก้, ไขมัน, ปวด, ข...</td>\n",
       "      <td>54</td>\n",
       "      <td>0.555556</td>\n",
       "      <td>1.080000</td>\n",
       "      <td>[[[[[0. 0. 0. 0. 0. 0. 0. 0. 0. 1. 0. 0. 0. 0....</td>\n",
       "      <td>45.560478</td>\n",
       "    </tr>\n",
       "    <tr>\n",
       "      <th>126</th>\n",
       "      <td>ให้เธอ</td>\n",
       "      <td>/music/thailyric/19409</td>\n",
       "      <td>ฟ้า และท้องทะเลกับลมนั้นมีอยู่แต่ใครจะรู้ จะรู...</td>\n",
       "      <td>tilly_birds</td>\n",
       "      <td>51</td>\n",
       "      <td>[ฟ้า, ท้องทะเล, ลม, รู้, รู้, ใจ, ไว, ั, ตะวัน...</td>\n",
       "      <td>80</td>\n",
       "      <td>0.362500</td>\n",
       "      <td>1.568627</td>\n",
       "      <td>[[[[[0. 0. 0. 0. 0. 0. 0. 0. 0. 0. 0. 0. 0. 0....</td>\n",
       "      <td>61.899495</td>\n",
       "    </tr>\n",
       "    <tr>\n",
       "      <th>127</th>\n",
       "      <td>อภัย (Broken)</td>\n",
       "      <td>/music/thailyric/15735</td>\n",
       "      <td>ทะเลาะเสียงดัง ข้าวของก็พัง อย่างนี้ประจำบางคร...</td>\n",
       "      <td>tilly_birds</td>\n",
       "      <td>31</td>\n",
       "      <td>[ทะเลาะ, ความดัง, สินค้า, พัง, ประจำ, ช่วงเวลา...</td>\n",
       "      <td>75</td>\n",
       "      <td>0.480000</td>\n",
       "      <td>2.419355</td>\n",
       "      <td>[[[[[0. 0. 0. 0. 0. 0. 0. 1. 0. 0. 0. 0. 0. 0....</td>\n",
       "      <td>68.392267</td>\n",
       "    </tr>\n",
       "    <tr>\n",
       "      <th>128</th>\n",
       "      <td>อย่าอยู่เลย</td>\n",
       "      <td>/music/thailyric/19971</td>\n",
       "      <td>เธอทนอยู่กับเขามานาน อยู่กับเขามานานฉันทนดูเธอ...</td>\n",
       "      <td>tilly_birds</td>\n",
       "      <td>46</td>\n",
       "      <td>[ทน, ทน, ดู, ทรมาน, ไหว, ยอมให้, เตือน, กี่, ฟ...</td>\n",
       "      <td>133</td>\n",
       "      <td>0.443609</td>\n",
       "      <td>2.891304</td>\n",
       "      <td>[[[[[0. 0. 0. 0. 0. 0. 0. 0. 0. 0. 0. 0. 0. 0....</td>\n",
       "      <td>107.860336</td>\n",
       "    </tr>\n",
       "    <tr>\n",
       "      <th>129</th>\n",
       "      <td>อยู่ได้ ได้อยู่ (ineednoone)</td>\n",
       "      <td>/music/thailyric/17190</td>\n",
       "      <td>เจอมากี่ครั้งเรื่องรักๆ เดี๋ยวจะเล่าให้ฟังชอบค...</td>\n",
       "      <td>tilly_birds</td>\n",
       "      <td>57</td>\n",
       "      <td>[เจอ, กี่, เรื่อง, รัก, เดี๋ยว, เล่า, ฟัง, ชอบ...</td>\n",
       "      <td>103</td>\n",
       "      <td>0.398058</td>\n",
       "      <td>1.807018</td>\n",
       "      <td>[[[[[0. 0. 0. 0. 0. 0. 0. 0. 0. 0. 0. 0. 0. 0....</td>\n",
       "      <td>90.040867</td>\n",
       "    </tr>\n",
       "  </tbody>\n",
       "</table>\n",
       "<p>130 rows × 11 columns</p>\n",
       "</div>"
      ],
      "text/plain": [
       "                        song_name                    href  \\\n",
       "0               อะ ไนท์ (A Night)   /music/thailyric/2681   \n",
       "1                          ขอบฟ้า   /music/thailyric/2640   \n",
       "2                     คนที่ถูกรัก   /music/thailyric/2641   \n",
       "3                       ความเชื่อ   /music/thailyric/2644   \n",
       "4             ความรักทำให้คนตาบอด   /music/thailyric/2647   \n",
       "..                            ...                     ...   \n",
       "125        ให้เธอหายดี (SuperMom)  /music/thailyric/18442   \n",
       "126                        ให้เธอ  /music/thailyric/19409   \n",
       "127                 อภัย (Broken)  /music/thailyric/15735   \n",
       "128                   อย่าอยู่เลย  /music/thailyric/19971   \n",
       "129  อยู่ได้ ได้อยู่ (ineednoone)  /music/thailyric/17190   \n",
       "\n",
       "                                                 lyric       artist  lines  \\\n",
       "0    ดึกดื่นคืนใด มองฟ้าไม่เห็นจันทร์ ไม่เจอะเจอกัน...     bodyslam     15   \n",
       "1    ได้แต่เหลียวมองไปสุดฟ้าไกลมันช่างน่าเสียดายที่...     bodyslam     29   \n",
       "2    ใจ ฉันเคยถูกทิ้งเพียงลำพัง รักใครมาแล้วตั้งกี่...     bodyslam     25   \n",
       "3    มันเกือบจะล้มมันเหนื่อยมันล้าเหมือนแทบขาดใจเดิ...     bodyslam     45   \n",
       "4    รู้ว่ามันไม่สมควร ที่ยังกวนใจเธอ ฉันขอโทษทีรัก...     bodyslam     21   \n",
       "..                                                 ...          ...    ...   \n",
       "125  เจ็บที่ตรงไหนบอกฉันได้ไหมให้ฉันช่วยดูแม้ไม่อาจ...  tilly_birds     50   \n",
       "126  ฟ้า และท้องทะเลกับลมนั้นมีอยู่แต่ใครจะรู้ จะรู...  tilly_birds     51   \n",
       "127  ทะเลาะเสียงดัง ข้าวของก็พัง อย่างนี้ประจำบางคร...  tilly_birds     31   \n",
       "128  เธอทนอยู่กับเขามานาน อยู่กับเขามานานฉันทนดูเธอ...  tilly_birds     46   \n",
       "129  เจอมากี่ครั้งเรื่องรักๆ เดี๋ยวจะเล่าให้ฟังชอบค...  tilly_birds     57   \n",
       "\n",
       "                                                 words  n_words  \\\n",
       "0    [ดึกดื่น, คืน, ใด, ฟ้า, เดือน, เจอะ, เจอกัน, ร...       75   \n",
       "1    [เหลียว, ฟ้า, ช่าง, น่าเสียดาย, ขอบฟ้า, จบ, เส...       74   \n",
       "2    [ใจ, ทิ้ง, เพียงลำพัง, รัก, กี่, ผิดหวัง, กี่,...       87   \n",
       "3    [ล้ม, เหนื่อย, ล้า, เหมือน, แทบ, ขาดใจ, เดิน, ...      130   \n",
       "4    [รู้, สมควร, ยั่ว, ขอโทษ, รัก, คอย, หวังดี, มี...       51   \n",
       "..                                                 ...      ...   \n",
       "125  [ปวด, ตรงไหน, ไหม, ดู, รู้, แก้, ไขมัน, ปวด, ข...       54   \n",
       "126  [ฟ้า, ท้องทะเล, ลม, รู้, รู้, ใจ, ไว, ั, ตะวัน...       80   \n",
       "127  [ทะเลาะ, ความดัง, สินค้า, พัง, ประจำ, ช่วงเวลา...       75   \n",
       "128  [ทน, ทน, ดู, ทรมาน, ไหว, ยอมให้, เตือน, กี่, ฟ...      133   \n",
       "129  [เจอ, กี่, เรื่อง, รัก, เดี๋ยว, เล่า, ฟัง, ชอบ...      103   \n",
       "\n",
       "     unique_words_ratio  words_per_line  \\\n",
       "0              0.573333        5.000000   \n",
       "1              0.500000        2.551724   \n",
       "2              0.390805        3.480000   \n",
       "3              0.376923        2.888889   \n",
       "4              0.549020        2.428571   \n",
       "..                  ...             ...   \n",
       "125            0.555556        1.080000   \n",
       "126            0.362500        1.568627   \n",
       "127            0.480000        2.419355   \n",
       "128            0.443609        2.891304   \n",
       "129            0.398058        1.807018   \n",
       "\n",
       "                                         tf_idf_vector  tf_idf_score  \n",
       "0    [[[[[1. 0. 0. 0. 0. 0. 0. 0. 0. 0. 0. 0. 0. 0....     61.603470  \n",
       "1    [[[[[0.         0.         0.         0.      ...     64.727922  \n",
       "2    [[[[[0. 0. 0. 0. 0. 0. 0. 0. 0. 0. 0. 0. 0. 0....     61.897828  \n",
       "3    [[[[[0. 0. 0. 0. 0. 0. 0. 0. 0. 0. 0. 0. 0. 0....     95.134520  \n",
       "4    [[[[[0. 0. 0. 0. 0. 0. 0. 0. 0. 0. 0. 0. 0. 0....     41.899495  \n",
       "..                                                 ...           ...  \n",
       "125  [[[[[0. 0. 0. 0. 0. 0. 0. 0. 0. 1. 0. 0. 0. 0....     45.560478  \n",
       "126  [[[[[0. 0. 0. 0. 0. 0. 0. 0. 0. 0. 0. 0. 0. 0....     61.899495  \n",
       "127  [[[[[0. 0. 0. 0. 0. 0. 0. 1. 0. 0. 0. 0. 0. 0....     68.392267  \n",
       "128  [[[[[0. 0. 0. 0. 0. 0. 0. 0. 0. 0. 0. 0. 0. 0....    107.860336  \n",
       "129  [[[[[0. 0. 0. 0. 0. 0. 0. 0. 0. 0. 0. 0. 0. 0....     90.040867  \n",
       "\n",
       "[130 rows x 11 columns]"
      ]
     },
     "execution_count": 97,
     "metadata": {},
     "output_type": "execute_result"
    }
   ],
   "source": [
    "song_filter_df"
   ]
  },
  {
   "cell_type": "code",
   "execution_count": 98,
   "metadata": {},
   "outputs": [
    {
     "data": {
      "text/plain": [
       "0       75\n",
       "1       74\n",
       "2       87\n",
       "3      130\n",
       "4       51\n",
       "      ... \n",
       "125     54\n",
       "126     80\n",
       "127     75\n",
       "128    133\n",
       "129    103\n",
       "Name: n_words, Length: 130, dtype: int64"
      ]
     },
     "execution_count": 98,
     "metadata": {},
     "output_type": "execute_result"
    }
   ],
   "source": [
    "song_df['n_words']"
   ]
  },
  {
   "cell_type": "code",
   "execution_count": 99,
   "metadata": {},
   "outputs": [
    {
     "data": {
      "text/plain": [
       "0       61.603470\n",
       "1       64.727922\n",
       "2       61.897828\n",
       "3       95.134520\n",
       "4       41.899495\n",
       "          ...    \n",
       "125     45.560478\n",
       "126     61.899495\n",
       "127     68.392267\n",
       "128    107.860336\n",
       "129     90.040867\n",
       "Name: tf_idf_score, Length: 130, dtype: float64"
      ]
     },
     "execution_count": 99,
     "metadata": {},
     "output_type": "execute_result"
    }
   ],
   "source": [
    "song_df['tf_idf_score']"
   ]
  },
  {
   "cell_type": "code",
   "execution_count": 100,
   "metadata": {},
   "outputs": [
    {
     "data": {
      "text/html": [
       "<div>\n",
       "<style scoped>\n",
       "    .dataframe tbody tr th:only-of-type {\n",
       "        vertical-align: middle;\n",
       "    }\n",
       "\n",
       "    .dataframe tbody tr th {\n",
       "        vertical-align: top;\n",
       "    }\n",
       "\n",
       "    .dataframe thead th {\n",
       "        text-align: right;\n",
       "    }\n",
       "</style>\n",
       "<table border=\"1\" class=\"dataframe\">\n",
       "  <thead>\n",
       "    <tr style=\"text-align: right;\">\n",
       "      <th></th>\n",
       "      <th>song_name</th>\n",
       "      <th>href</th>\n",
       "      <th>lyric</th>\n",
       "      <th>artist</th>\n",
       "      <th>lines</th>\n",
       "      <th>words</th>\n",
       "      <th>n_words</th>\n",
       "      <th>n_unique_words</th>\n",
       "      <th>unique_words_ratio</th>\n",
       "      <th>words_per_line</th>\n",
       "      <th>tf_idf_vector</th>\n",
       "      <th>tf_idf_score</th>\n",
       "    </tr>\n",
       "  </thead>\n",
       "  <tbody>\n",
       "    <tr>\n",
       "      <th>0</th>\n",
       "      <td>อะ ไนท์ (A Night)</td>\n",
       "      <td>/music/thailyric/2681</td>\n",
       "      <td>ดึกดื่นคืนใด มองฟ้าไม่เห็นจันทร์ ไม่เจอะเจอกัน...</td>\n",
       "      <td>bodyslam</td>\n",
       "      <td>15</td>\n",
       "      <td>[ดึกดื่น, คืน, ใด, ฟ้า, เดือน, เจอะ, เจอกัน, ร...</td>\n",
       "      <td>75</td>\n",
       "      <td>43</td>\n",
       "      <td>0.573333</td>\n",
       "      <td>5.000000</td>\n",
       "      <td>[[[[[1. 0. 0. 0. 0. 0. 0. 0. 0. 0. 0. 0. 0. 0....</td>\n",
       "      <td>61.603470</td>\n",
       "    </tr>\n",
       "    <tr>\n",
       "      <th>1</th>\n",
       "      <td>ขอบฟ้า</td>\n",
       "      <td>/music/thailyric/2640</td>\n",
       "      <td>ได้แต่เหลียวมองไปสุดฟ้าไกลมันช่างน่าเสียดายที่...</td>\n",
       "      <td>bodyslam</td>\n",
       "      <td>29</td>\n",
       "      <td>[เหลียว, ฟ้า, ช่าง, น่าเสียดาย, ขอบฟ้า, จบ, เส...</td>\n",
       "      <td>74</td>\n",
       "      <td>37</td>\n",
       "      <td>0.500000</td>\n",
       "      <td>2.551724</td>\n",
       "      <td>[[[[[0.         0.         0.         0.      ...</td>\n",
       "      <td>64.727922</td>\n",
       "    </tr>\n",
       "    <tr>\n",
       "      <th>2</th>\n",
       "      <td>คนที่ถูกรัก</td>\n",
       "      <td>/music/thailyric/2641</td>\n",
       "      <td>ใจ ฉันเคยถูกทิ้งเพียงลำพัง รักใครมาแล้วตั้งกี่...</td>\n",
       "      <td>bodyslam</td>\n",
       "      <td>25</td>\n",
       "      <td>[ใจ, ทิ้ง, เพียงลำพัง, รัก, กี่, ผิดหวัง, กี่,...</td>\n",
       "      <td>87</td>\n",
       "      <td>34</td>\n",
       "      <td>0.390805</td>\n",
       "      <td>3.480000</td>\n",
       "      <td>[[[[[0. 0. 0. 0. 0. 0. 0. 0. 0. 0. 0. 0. 0. 0....</td>\n",
       "      <td>61.897828</td>\n",
       "    </tr>\n",
       "    <tr>\n",
       "      <th>3</th>\n",
       "      <td>ความเชื่อ</td>\n",
       "      <td>/music/thailyric/2644</td>\n",
       "      <td>มันเกือบจะล้มมันเหนื่อยมันล้าเหมือนแทบขาดใจเดิ...</td>\n",
       "      <td>bodyslam</td>\n",
       "      <td>45</td>\n",
       "      <td>[ล้ม, เหนื่อย, ล้า, เหมือน, แทบ, ขาดใจ, เดิน, ...</td>\n",
       "      <td>130</td>\n",
       "      <td>49</td>\n",
       "      <td>0.376923</td>\n",
       "      <td>2.888889</td>\n",
       "      <td>[[[[[0. 0. 0. 0. 0. 0. 0. 0. 0. 0. 0. 0. 0. 0....</td>\n",
       "      <td>95.134520</td>\n",
       "    </tr>\n",
       "    <tr>\n",
       "      <th>4</th>\n",
       "      <td>ความรักทำให้คนตาบอด</td>\n",
       "      <td>/music/thailyric/2647</td>\n",
       "      <td>รู้ว่ามันไม่สมควร ที่ยังกวนใจเธอ ฉันขอโทษทีรัก...</td>\n",
       "      <td>bodyslam</td>\n",
       "      <td>21</td>\n",
       "      <td>[รู้, สมควร, ยั่ว, ขอโทษ, รัก, คอย, หวังดี, มี...</td>\n",
       "      <td>51</td>\n",
       "      <td>28</td>\n",
       "      <td>0.549020</td>\n",
       "      <td>2.428571</td>\n",
       "      <td>[[[[[0. 0. 0. 0. 0. 0. 0. 0. 0. 0. 0. 0. 0. 0....</td>\n",
       "      <td>41.899495</td>\n",
       "    </tr>\n",
       "    <tr>\n",
       "      <th>...</th>\n",
       "      <td>...</td>\n",
       "      <td>...</td>\n",
       "      <td>...</td>\n",
       "      <td>...</td>\n",
       "      <td>...</td>\n",
       "      <td>...</td>\n",
       "      <td>...</td>\n",
       "      <td>...</td>\n",
       "      <td>...</td>\n",
       "      <td>...</td>\n",
       "      <td>...</td>\n",
       "      <td>...</td>\n",
       "    </tr>\n",
       "    <tr>\n",
       "      <th>125</th>\n",
       "      <td>ให้เธอหายดี (SuperMom)</td>\n",
       "      <td>/music/thailyric/18442</td>\n",
       "      <td>เจ็บที่ตรงไหนบอกฉันได้ไหมให้ฉันช่วยดูแม้ไม่อาจ...</td>\n",
       "      <td>tilly_birds</td>\n",
       "      <td>50</td>\n",
       "      <td>[ปวด, ตรงไหน, ไหม, ดู, รู้, แก้, ไขมัน, ปวด, ข...</td>\n",
       "      <td>54</td>\n",
       "      <td>30</td>\n",
       "      <td>0.555556</td>\n",
       "      <td>1.080000</td>\n",
       "      <td>[[[[[0. 0. 0. 0. 0. 0. 0. 0. 0. 1. 0. 0. 0. 0....</td>\n",
       "      <td>45.560478</td>\n",
       "    </tr>\n",
       "    <tr>\n",
       "      <th>126</th>\n",
       "      <td>ให้เธอ</td>\n",
       "      <td>/music/thailyric/19409</td>\n",
       "      <td>ฟ้า และท้องทะเลกับลมนั้นมีอยู่แต่ใครจะรู้ จะรู...</td>\n",
       "      <td>tilly_birds</td>\n",
       "      <td>51</td>\n",
       "      <td>[ฟ้า, ท้องทะเล, ลม, รู้, รู้, ใจ, ไว, ั, ตะวัน...</td>\n",
       "      <td>80</td>\n",
       "      <td>29</td>\n",
       "      <td>0.362500</td>\n",
       "      <td>1.568627</td>\n",
       "      <td>[[[[[0. 0. 0. 0. 0. 0. 0. 0. 0. 0. 0. 0. 0. 0....</td>\n",
       "      <td>61.899495</td>\n",
       "    </tr>\n",
       "    <tr>\n",
       "      <th>127</th>\n",
       "      <td>อภัย (Broken)</td>\n",
       "      <td>/music/thailyric/15735</td>\n",
       "      <td>ทะเลาะเสียงดัง ข้าวของก็พัง อย่างนี้ประจำบางคร...</td>\n",
       "      <td>tilly_birds</td>\n",
       "      <td>31</td>\n",
       "      <td>[ทะเลาะ, ความดัง, สินค้า, พัง, ประจำ, ช่วงเวลา...</td>\n",
       "      <td>75</td>\n",
       "      <td>36</td>\n",
       "      <td>0.480000</td>\n",
       "      <td>2.419355</td>\n",
       "      <td>[[[[[0. 0. 0. 0. 0. 0. 0. 1. 0. 0. 0. 0. 0. 0....</td>\n",
       "      <td>68.392267</td>\n",
       "    </tr>\n",
       "    <tr>\n",
       "      <th>128</th>\n",
       "      <td>อย่าอยู่เลย</td>\n",
       "      <td>/music/thailyric/19971</td>\n",
       "      <td>เธอทนอยู่กับเขามานาน อยู่กับเขามานานฉันทนดูเธอ...</td>\n",
       "      <td>tilly_birds</td>\n",
       "      <td>46</td>\n",
       "      <td>[ทน, ทน, ดู, ทรมาน, ไหว, ยอมให้, เตือน, กี่, ฟ...</td>\n",
       "      <td>133</td>\n",
       "      <td>59</td>\n",
       "      <td>0.443609</td>\n",
       "      <td>2.891304</td>\n",
       "      <td>[[[[[0. 0. 0. 0. 0. 0. 0. 0. 0. 0. 0. 0. 0. 0....</td>\n",
       "      <td>107.860336</td>\n",
       "    </tr>\n",
       "    <tr>\n",
       "      <th>129</th>\n",
       "      <td>อยู่ได้ ได้อยู่ (ineednoone)</td>\n",
       "      <td>/music/thailyric/17190</td>\n",
       "      <td>เจอมากี่ครั้งเรื่องรักๆ เดี๋ยวจะเล่าให้ฟังชอบค...</td>\n",
       "      <td>tilly_birds</td>\n",
       "      <td>57</td>\n",
       "      <td>[เจอ, กี่, เรื่อง, รัก, เดี๋ยว, เล่า, ฟัง, ชอบ...</td>\n",
       "      <td>103</td>\n",
       "      <td>41</td>\n",
       "      <td>0.398058</td>\n",
       "      <td>1.807018</td>\n",
       "      <td>[[[[[0. 0. 0. 0. 0. 0. 0. 0. 0. 0. 0. 0. 0. 0....</td>\n",
       "      <td>90.040867</td>\n",
       "    </tr>\n",
       "  </tbody>\n",
       "</table>\n",
       "<p>130 rows × 12 columns</p>\n",
       "</div>"
      ],
      "text/plain": [
       "                        song_name                    href  \\\n",
       "0               อะ ไนท์ (A Night)   /music/thailyric/2681   \n",
       "1                          ขอบฟ้า   /music/thailyric/2640   \n",
       "2                     คนที่ถูกรัก   /music/thailyric/2641   \n",
       "3                       ความเชื่อ   /music/thailyric/2644   \n",
       "4             ความรักทำให้คนตาบอด   /music/thailyric/2647   \n",
       "..                            ...                     ...   \n",
       "125        ให้เธอหายดี (SuperMom)  /music/thailyric/18442   \n",
       "126                        ให้เธอ  /music/thailyric/19409   \n",
       "127                 อภัย (Broken)  /music/thailyric/15735   \n",
       "128                   อย่าอยู่เลย  /music/thailyric/19971   \n",
       "129  อยู่ได้ ได้อยู่ (ineednoone)  /music/thailyric/17190   \n",
       "\n",
       "                                                 lyric       artist  lines  \\\n",
       "0    ดึกดื่นคืนใด มองฟ้าไม่เห็นจันทร์ ไม่เจอะเจอกัน...     bodyslam     15   \n",
       "1    ได้แต่เหลียวมองไปสุดฟ้าไกลมันช่างน่าเสียดายที่...     bodyslam     29   \n",
       "2    ใจ ฉันเคยถูกทิ้งเพียงลำพัง รักใครมาแล้วตั้งกี่...     bodyslam     25   \n",
       "3    มันเกือบจะล้มมันเหนื่อยมันล้าเหมือนแทบขาดใจเดิ...     bodyslam     45   \n",
       "4    รู้ว่ามันไม่สมควร ที่ยังกวนใจเธอ ฉันขอโทษทีรัก...     bodyslam     21   \n",
       "..                                                 ...          ...    ...   \n",
       "125  เจ็บที่ตรงไหนบอกฉันได้ไหมให้ฉันช่วยดูแม้ไม่อาจ...  tilly_birds     50   \n",
       "126  ฟ้า และท้องทะเลกับลมนั้นมีอยู่แต่ใครจะรู้ จะรู...  tilly_birds     51   \n",
       "127  ทะเลาะเสียงดัง ข้าวของก็พัง อย่างนี้ประจำบางคร...  tilly_birds     31   \n",
       "128  เธอทนอยู่กับเขามานาน อยู่กับเขามานานฉันทนดูเธอ...  tilly_birds     46   \n",
       "129  เจอมากี่ครั้งเรื่องรักๆ เดี๋ยวจะเล่าให้ฟังชอบค...  tilly_birds     57   \n",
       "\n",
       "                                                 words  n_words  \\\n",
       "0    [ดึกดื่น, คืน, ใด, ฟ้า, เดือน, เจอะ, เจอกัน, ร...       75   \n",
       "1    [เหลียว, ฟ้า, ช่าง, น่าเสียดาย, ขอบฟ้า, จบ, เส...       74   \n",
       "2    [ใจ, ทิ้ง, เพียงลำพัง, รัก, กี่, ผิดหวัง, กี่,...       87   \n",
       "3    [ล้ม, เหนื่อย, ล้า, เหมือน, แทบ, ขาดใจ, เดิน, ...      130   \n",
       "4    [รู้, สมควร, ยั่ว, ขอโทษ, รัก, คอย, หวังดี, มี...       51   \n",
       "..                                                 ...      ...   \n",
       "125  [ปวด, ตรงไหน, ไหม, ดู, รู้, แก้, ไขมัน, ปวด, ข...       54   \n",
       "126  [ฟ้า, ท้องทะเล, ลม, รู้, รู้, ใจ, ไว, ั, ตะวัน...       80   \n",
       "127  [ทะเลาะ, ความดัง, สินค้า, พัง, ประจำ, ช่วงเวลา...       75   \n",
       "128  [ทน, ทน, ดู, ทรมาน, ไหว, ยอมให้, เตือน, กี่, ฟ...      133   \n",
       "129  [เจอ, กี่, เรื่อง, รัก, เดี๋ยว, เล่า, ฟัง, ชอบ...      103   \n",
       "\n",
       "     n_unique_words  unique_words_ratio  words_per_line  \\\n",
       "0                43            0.573333        5.000000   \n",
       "1                37            0.500000        2.551724   \n",
       "2                34            0.390805        3.480000   \n",
       "3                49            0.376923        2.888889   \n",
       "4                28            0.549020        2.428571   \n",
       "..              ...                 ...             ...   \n",
       "125              30            0.555556        1.080000   \n",
       "126              29            0.362500        1.568627   \n",
       "127              36            0.480000        2.419355   \n",
       "128              59            0.443609        2.891304   \n",
       "129              41            0.398058        1.807018   \n",
       "\n",
       "                                         tf_idf_vector  tf_idf_score  \n",
       "0    [[[[[1. 0. 0. 0. 0. 0. 0. 0. 0. 0. 0. 0. 0. 0....     61.603470  \n",
       "1    [[[[[0.         0.         0.         0.      ...     64.727922  \n",
       "2    [[[[[0. 0. 0. 0. 0. 0. 0. 0. 0. 0. 0. 0. 0. 0....     61.897828  \n",
       "3    [[[[[0. 0. 0. 0. 0. 0. 0. 0. 0. 0. 0. 0. 0. 0....     95.134520  \n",
       "4    [[[[[0. 0. 0. 0. 0. 0. 0. 0. 0. 0. 0. 0. 0. 0....     41.899495  \n",
       "..                                                 ...           ...  \n",
       "125  [[[[[0. 0. 0. 0. 0. 0. 0. 0. 0. 1. 0. 0. 0. 0....     45.560478  \n",
       "126  [[[[[0. 0. 0. 0. 0. 0. 0. 0. 0. 0. 0. 0. 0. 0....     61.899495  \n",
       "127  [[[[[0. 0. 0. 0. 0. 0. 0. 1. 0. 0. 0. 0. 0. 0....     68.392267  \n",
       "128  [[[[[0. 0. 0. 0. 0. 0. 0. 0. 0. 0. 0. 0. 0. 0....    107.860336  \n",
       "129  [[[[[0. 0. 0. 0. 0. 0. 0. 0. 0. 0. 0. 0. 0. 0....     90.040867  \n",
       "\n",
       "[130 rows x 12 columns]"
      ]
     },
     "execution_count": 100,
     "metadata": {},
     "output_type": "execute_result"
    }
   ],
   "source": [
    "song_df"
   ]
  },
  {
   "cell_type": "code",
   "execution_count": 106,
   "metadata": {},
   "outputs": [
    {
     "ename": "ValueError",
     "evalue": "blocks[:,0] has incompatible row dimensions. Got blocks[1,0].shape[1] == 38, expected 43.",
     "output_type": "error",
     "traceback": [
      "\u001b[1;31m---------------------------------------------------------------------------\u001b[0m",
      "\u001b[1;31mValueError\u001b[0m                                Traceback (most recent call last)",
      "\u001b[1;32m~\\AppData\\Local\\Temp\\ipykernel_9688\\2525149182.py\u001b[0m in \u001b[0;36m<module>\u001b[1;34m\u001b[0m\n\u001b[1;32m----> 1\u001b[1;33m similarity_matrix = cosine_similarity(vstack(song_df['tf_idf_vector']), \n\u001b[0m\u001b[0;32m      2\u001b[0m                                       vstack(song_df['tf_idf_vector']))\n\u001b[0;32m      3\u001b[0m \u001b[0martist_names\u001b[0m \u001b[1;33m=\u001b[0m \u001b[0msong_df\u001b[0m\u001b[1;33m[\u001b[0m\u001b[1;34m'artist'\u001b[0m\u001b[1;33m]\u001b[0m\u001b[1;33m.\u001b[0m\u001b[0mtolist\u001b[0m\u001b[1;33m(\u001b[0m\u001b[1;33m)\u001b[0m\u001b[1;33m\u001b[0m\u001b[1;33m\u001b[0m\u001b[0m\n\u001b[0;32m      4\u001b[0m fig = go.Figure(data=go.Heatmap(z=np.flipud(similarity_matrix), x=artist_names, y=list(reversed(artist_names)), \n\u001b[0;32m      5\u001b[0m                                 colorscale='balance', zmin=0.5, zmax=1.1))\n",
      "\u001b[1;32m~\\anaconda3\\envs\\torch\\lib\\site-packages\\scipy\\sparse\\construct.py\u001b[0m in \u001b[0;36mvstack\u001b[1;34m(blocks, format, dtype)\u001b[0m\n\u001b[0;32m    499\u001b[0m \u001b[1;33m\u001b[0m\u001b[0m\n\u001b[0;32m    500\u001b[0m     \"\"\"\n\u001b[1;32m--> 501\u001b[1;33m     \u001b[1;32mreturn\u001b[0m \u001b[0mbmat\u001b[0m\u001b[1;33m(\u001b[0m\u001b[1;33m[\u001b[0m\u001b[1;33m[\u001b[0m\u001b[0mb\u001b[0m\u001b[1;33m]\u001b[0m \u001b[1;32mfor\u001b[0m \u001b[0mb\u001b[0m \u001b[1;32min\u001b[0m \u001b[0mblocks\u001b[0m\u001b[1;33m]\u001b[0m\u001b[1;33m,\u001b[0m \u001b[0mformat\u001b[0m\u001b[1;33m=\u001b[0m\u001b[0mformat\u001b[0m\u001b[1;33m,\u001b[0m \u001b[0mdtype\u001b[0m\u001b[1;33m=\u001b[0m\u001b[0mdtype\u001b[0m\u001b[1;33m)\u001b[0m\u001b[1;33m\u001b[0m\u001b[1;33m\u001b[0m\u001b[0m\n\u001b[0m\u001b[0;32m    502\u001b[0m \u001b[1;33m\u001b[0m\u001b[0m\n\u001b[0;32m    503\u001b[0m \u001b[1;33m\u001b[0m\u001b[0m\n",
      "\u001b[1;32m~\\anaconda3\\envs\\torch\\lib\\site-packages\\scipy\\sparse\\construct.py\u001b[0m in \u001b[0;36mbmat\u001b[1;34m(blocks, format, dtype)\u001b[0m\n\u001b[0;32m    596\u001b[0m                                                     \u001b[0mexp\u001b[0m\u001b[1;33m=\u001b[0m\u001b[0mbcol_lengths\u001b[0m\u001b[1;33m[\u001b[0m\u001b[0mj\u001b[0m\u001b[1;33m]\u001b[0m\u001b[1;33m,\u001b[0m\u001b[1;33m\u001b[0m\u001b[1;33m\u001b[0m\u001b[0m\n\u001b[0;32m    597\u001b[0m                                                     got=A.shape[1]))\n\u001b[1;32m--> 598\u001b[1;33m                     \u001b[1;32mraise\u001b[0m \u001b[0mValueError\u001b[0m\u001b[1;33m(\u001b[0m\u001b[0mmsg\u001b[0m\u001b[1;33m)\u001b[0m\u001b[1;33m\u001b[0m\u001b[1;33m\u001b[0m\u001b[0m\n\u001b[0m\u001b[0;32m    599\u001b[0m \u001b[1;33m\u001b[0m\u001b[0m\n\u001b[0;32m    600\u001b[0m     \u001b[0mnnz\u001b[0m \u001b[1;33m=\u001b[0m \u001b[0msum\u001b[0m\u001b[1;33m(\u001b[0m\u001b[0mblock\u001b[0m\u001b[1;33m.\u001b[0m\u001b[0mnnz\u001b[0m \u001b[1;32mfor\u001b[0m \u001b[0mblock\u001b[0m \u001b[1;32min\u001b[0m \u001b[0mblocks\u001b[0m\u001b[1;33m[\u001b[0m\u001b[0mblock_mask\u001b[0m\u001b[1;33m]\u001b[0m\u001b[1;33m)\u001b[0m\u001b[1;33m\u001b[0m\u001b[1;33m\u001b[0m\u001b[0m\n",
      "\u001b[1;31mValueError\u001b[0m: blocks[:,0] has incompatible row dimensions. Got blocks[1,0].shape[1] == 38, expected 43."
     ]
    }
   ],
   "source": [
    "similarity_matrix = cosine_similarity(vstack(song_df['tf_idf_vector']), \n",
    "                                      vstack(song_df['tf_idf_vector']))\n",
    "artist_names = song_df['artist'].tolist()\n",
    "fig = go.Figure(data=go.Heatmap(z=np.flipud(similarity_matrix), x=artist_names, y=list(reversed(artist_names)), \n",
    "                                colorscale='balance', zmin=0.5, zmax=1.1))\n",
    "fig.show()"
   ]
  },
  {
   "cell_type": "code",
   "execution_count": null,
   "metadata": {},
   "outputs": [
    {
     "ename": "NameError",
     "evalue": "name 'docs' is not defined",
     "output_type": "error",
     "traceback": [
      "\u001b[1;31m---------------------------------------------------------------------------\u001b[0m",
      "\u001b[1;31mNameError\u001b[0m                                 Traceback (most recent call last)",
      "\u001b[1;32m~\\AppData\\Local\\Temp\\ipykernel_19676\\2657303384.py\u001b[0m in \u001b[0;36m<module>\u001b[1;34m\u001b[0m\n\u001b[0;32m      1\u001b[0m \u001b[0mtfidf_vectorizer\u001b[0m \u001b[1;33m=\u001b[0m \u001b[0mTfidfVectorizer\u001b[0m\u001b[1;33m(\u001b[0m\u001b[0manalyzer\u001b[0m \u001b[1;33m=\u001b[0m \u001b[1;34m'word'\u001b[0m\u001b[1;33m)\u001b[0m\u001b[1;33m\u001b[0m\u001b[1;33m\u001b[0m\u001b[0m\n\u001b[0;32m      2\u001b[0m \u001b[1;31m#สุ่มช่วงของ 5 เอกสารที่ติดกันมาทดลองใช้งาน\u001b[0m\u001b[1;33m\u001b[0m\u001b[1;33m\u001b[0m\u001b[1;33m\u001b[0m\u001b[0m\n\u001b[1;32m----> 3\u001b[1;33m \u001b[0mtfidf_vector\u001b[0m\u001b[1;33m=\u001b[0m \u001b[0mtfidf_vectorizer\u001b[0m\u001b[1;33m.\u001b[0m\u001b[0mfit_transform\u001b[0m\u001b[1;33m(\u001b[0m\u001b[0mdocs\u001b[0m\u001b[1;33m[\u001b[0m\u001b[1;36m637\u001b[0m\u001b[1;33m:\u001b[0m\u001b[1;36m642\u001b[0m\u001b[1;33m]\u001b[0m\u001b[1;33m)\u001b[0m\u001b[1;33m\u001b[0m\u001b[1;33m\u001b[0m\u001b[0m\n\u001b[0m\u001b[0;32m      4\u001b[0m \u001b[0mtfidf_array\u001b[0m \u001b[1;33m=\u001b[0m \u001b[0mnp\u001b[0m\u001b[1;33m.\u001b[0m\u001b[0marray\u001b[0m\u001b[1;33m(\u001b[0m\u001b[0mtfidf_vector\u001b[0m\u001b[1;33m.\u001b[0m\u001b[0mtodense\u001b[0m\u001b[1;33m(\u001b[0m\u001b[1;33m)\u001b[0m\u001b[1;33m)\u001b[0m\u001b[1;33m\u001b[0m\u001b[1;33m\u001b[0m\u001b[0m\n\u001b[0;32m      5\u001b[0m \u001b[1;33m\u001b[0m\u001b[0m\n",
      "\u001b[1;31mNameError\u001b[0m: name 'docs' is not defined"
     ]
    }
   ],
   "source": [
    "# tfidf_vectorizer = TfidfVectorizer(analyzer = 'word')\n",
    "# #สุ่มช่วงของ 5 เอกสารที่ติดกันมาทดลองใช้งาน\n",
    "# tfidf_vector= tfidf_vectorizer.fit_transform(docs[637:642])\n",
    "# tfidf_array = np.array(tfidf_vector.todense())\n",
    "\n",
    "# #แปลงเป็น DataFrame เพื่อง่ายแก่การอ่าน\n",
    "# df = pd.DataFrame(tfidf_array,columns=tfidf_vectorizer.get_feature_names())\n",
    "# df"
   ]
  },
  {
   "cell_type": "code",
   "execution_count": null,
   "metadata": {},
   "outputs": [
    {
     "ename": "NameError",
     "evalue": "name 'tokens_list_j' is not defined",
     "output_type": "error",
     "traceback": [
      "\u001b[1;31m---------------------------------------------------------------------------\u001b[0m",
      "\u001b[1;31mNameError\u001b[0m                                 Traceback (most recent call last)",
      "\u001b[1;32m~\\AppData\\Local\\Temp\\ipykernel_19676\\1857621939.py\u001b[0m in \u001b[0;36m<module>\u001b[1;34m\u001b[0m\n\u001b[0;32m      1\u001b[0m \u001b[1;32mfrom\u001b[0m \u001b[0msklearn\u001b[0m\u001b[1;33m.\u001b[0m\u001b[0mfeature_extraction\u001b[0m\u001b[1;33m.\u001b[0m\u001b[0mtext\u001b[0m \u001b[1;32mimport\u001b[0m \u001b[0mTfidfVectorizer\u001b[0m\u001b[1;33m\u001b[0m\u001b[1;33m\u001b[0m\u001b[0m\n\u001b[0;32m      2\u001b[0m \u001b[0mtvec\u001b[0m \u001b[1;33m=\u001b[0m \u001b[0mTfidfVectorizer\u001b[0m\u001b[1;33m(\u001b[0m\u001b[0manalyzer\u001b[0m\u001b[1;33m=\u001b[0m\u001b[1;32mlambda\u001b[0m \u001b[0mx\u001b[0m\u001b[1;33m:\u001b[0m\u001b[0mx\u001b[0m\u001b[1;33m.\u001b[0m\u001b[0msplit\u001b[0m\u001b[1;33m(\u001b[0m\u001b[1;34m','\u001b[0m\u001b[1;33m)\u001b[0m\u001b[1;33m,\u001b[0m\u001b[1;33m)\u001b[0m\u001b[1;33m\u001b[0m\u001b[1;33m\u001b[0m\u001b[0m\n\u001b[1;32m----> 3\u001b[1;33m \u001b[0mt_feat\u001b[0m \u001b[1;33m=\u001b[0m \u001b[0mtvec\u001b[0m\u001b[1;33m.\u001b[0m\u001b[0mfit_transform\u001b[0m\u001b[1;33m(\u001b[0m\u001b[0mtokens_list_j\u001b[0m\u001b[1;33m)\u001b[0m\u001b[1;33m\u001b[0m\u001b[1;33m\u001b[0m\u001b[0m\n\u001b[0m",
      "\u001b[1;31mNameError\u001b[0m: name 'tokens_list_j' is not defined"
     ]
    }
   ],
   "source": [
    "# from sklearn.feature_extraction.text import TfidfVectorizer\n",
    "# tvec = TfidfVectorizer(analyzer=lambda x:x.split(','),)\n",
    "# t_feat = tvec.fit_transform(tokens_list_j)"
   ]
  }
 ],
 "metadata": {
  "interpreter": {
   "hash": "f6dbfcbd98b0ac394f24d96bedfb0bb0156c4fd54eb61167ff2e8fedb4cd16de"
  },
  "kernelspec": {
   "display_name": "Python 3.9.7 ('base')",
   "language": "python",
   "name": "python3"
  },
  "language_info": {
   "codemirror_mode": {
    "name": "ipython",
    "version": 3
   },
   "file_extension": ".py",
   "mimetype": "text/x-python",
   "name": "python",
   "nbconvert_exporter": "python",
   "pygments_lexer": "ipython3",
   "version": "3.7.13"
  },
  "orig_nbformat": 4
 },
 "nbformat": 4,
 "nbformat_minor": 2
}
