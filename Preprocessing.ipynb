{
 "cells": [
  {
   "cell_type": "code",
   "execution_count": 262,
   "metadata": {},
   "outputs": [],
   "source": [
    "# import libraries\n",
    "import pandas as pd\n",
    "import plotly.express as px\n",
    "import plotly.graph_objects as go\n",
    "import numpy as np\n",
    "import re\n",
    "import random\n",
    "import nltk\n",
    "from scipy import sparse\n",
    "from scipy.sparse import csr_matrix, vstack\n",
    "from textblob import TextBlob\n",
    "from langdetect import detect_langs\n",
    "import pickle\n",
    "from datetime import datetime\n",
    "import string\n",
    "\n",
    "from sklearn.feature_extraction.text import TfidfTransformer, CountVectorizer\n",
    "from sklearn.metrics.pairwise import cosine_similarity\n",
    "from sklearn.linear_model import LogisticRegression\n",
    "from sklearn.metrics import accuracy_score, confusion_matrix\n",
    "from sklearn.pipeline import Pipeline\n",
    "from sklearn.preprocessing import StandardScaler"
   ]
  },
  {
   "cell_type": "code",
   "execution_count": 263,
   "metadata": {},
   "outputs": [],
   "source": [
    "# import data\n",
    "\n",
    "# import glob\n",
    "# import os\n",
    "\n",
    "# path = r'/thaisongs' # use your path\n",
    "# all_files = glob.glob(os.path.join(path , \"/*.csv\"))\n",
    "\n",
    "all_files = ['./thaisongs/bodyslam.csv', './thaisongs/nont_tanont.csv', './thaisongs/tilly_birds.csv']\n",
    "\n",
    "li = []\n",
    "\n",
    "for filename in all_files:\n",
    "    df = pd.read_csv(filename, index_col=None, header=0)\n",
    "    li.append(df)\n",
    "\n",
    "song_df = pd.concat(li, axis=0, ignore_index=True)"
   ]
  },
  {
   "cell_type": "code",
   "execution_count": 264,
   "metadata": {},
   "outputs": [
    {
     "name": "stdout",
     "output_type": "stream",
     "text": [
      "Number of round brackets: 180\n",
      "Number of square brackets: 0\n",
      "Number of curly brackets: 0\n"
     ]
    }
   ],
   "source": [
    "lyric_in_round_brackets = sum(list(song_df['lyric'].map(lambda s: re.findall(r'\\((.*?)\\)',s))), [])\n",
    "print('Number of round brackets: {}'.format(len(lyric_in_round_brackets)))\n",
    "\n",
    "lyric_in_square_brackets = sum(list(song_df['lyric'].map(lambda s: re.findall(r'\\[(.*?)\\]',s))), [])\n",
    "print('Number of square brackets: {}'.format(len(lyric_in_square_brackets)))\n",
    "\n",
    "lyric_in_curly_brackets = sum(list(song_df['lyric'].map(lambda s: re.findall(r'\\{(.*?)\\}',s))), [])\n",
    "print('Number of curly brackets: {}'.format(len(lyric_in_curly_brackets)))"
   ]
  },
  {
   "cell_type": "code",
   "execution_count": 265,
   "metadata": {},
   "outputs": [
    {
     "name": "stdout",
     "output_type": "stream",
     "text": [
      "Number of round brackets: 0\n"
     ]
    }
   ],
   "source": [
    "# remove round brackets but not text within\n",
    "song_df['lyric'] = song_df['lyric'].map(lambda s: re.sub(r'\\(|\\)', '', s))\n",
    "\n",
    "lyric_in_round_brackets = sum(list(song_df['lyric'].map(lambda s: re.findall(r'\\((.*?)\\)',s))), [])\n",
    "print('Number of round brackets: {}'.format(len(lyric_in_round_brackets)))"
   ]
  },
  {
   "cell_type": "code",
   "execution_count": 266,
   "metadata": {},
   "outputs": [
    {
     "name": "stdout",
     "output_type": "stream",
     "text": [
      "Number of dot: 82\n"
     ]
    }
   ],
   "source": [
    "dot = sum(list(song_df['lyric'].map(lambda s: re.findall('\\.',s))), [])\n",
    "print('Number of dot: {}'.format(len(dot)))"
   ]
  },
  {
   "cell_type": "code",
   "execution_count": 267,
   "metadata": {},
   "outputs": [
    {
     "name": "stdout",
     "output_type": "stream",
     "text": [
      "Number of dot: 0\n"
     ]
    }
   ],
   "source": [
    "# remove dot \n",
    "song_df['lyric'] = song_df['lyric'].map(lambda s: re.sub(r'\\.', '', s))\n",
    "\n",
    "dot = sum(list(song_df['lyric'].map(lambda s: re.findall('\\.',s))), [])\n",
    "print('Number of dot: {}'.format(len(dot)))"
   ]
  },
  {
   "cell_type": "code",
   "execution_count": 268,
   "metadata": {},
   "outputs": [],
   "source": [
    "# count number of lines\n",
    "song_df['lines'] = song_df['lyric'].map(lambda t: len(re.findall(r'\\n', t)))"
   ]
  },
  {
   "cell_type": "code",
   "execution_count": 269,
   "metadata": {},
   "outputs": [],
   "source": [
    "# remove line breaks\n",
    "song_df['lyric'] = song_df['lyric'].map(lambda s: re.sub(r' \\n|\\n', '', s))"
   ]
  },
  {
   "cell_type": "code",
   "execution_count": 270,
   "metadata": {},
   "outputs": [
    {
     "data": {
      "text/html": [
       "<div>\n",
       "<style scoped>\n",
       "    .dataframe tbody tr th:only-of-type {\n",
       "        vertical-align: middle;\n",
       "    }\n",
       "\n",
       "    .dataframe tbody tr th {\n",
       "        vertical-align: top;\n",
       "    }\n",
       "\n",
       "    .dataframe thead th {\n",
       "        text-align: right;\n",
       "    }\n",
       "</style>\n",
       "<table border=\"1\" class=\"dataframe\">\n",
       "  <thead>\n",
       "    <tr style=\"text-align: right;\">\n",
       "      <th></th>\n",
       "      <th>song_name</th>\n",
       "      <th>href</th>\n",
       "      <th>lyric</th>\n",
       "      <th>artist</th>\n",
       "      <th>lines</th>\n",
       "    </tr>\n",
       "  </thead>\n",
       "  <tbody>\n",
       "    <tr>\n",
       "      <th>0</th>\n",
       "      <td>อะ ไนท์ (A Night)</td>\n",
       "      <td>/music/thailyric/2681</td>\n",
       "      <td>ดึกดื่นคืนใด มองฟ้าไม่เห็นจันทร์ ไม่เจอะเจอกัน...</td>\n",
       "      <td>bodyslam</td>\n",
       "      <td>15</td>\n",
       "    </tr>\n",
       "    <tr>\n",
       "      <th>1</th>\n",
       "      <td>ขอบฟ้า</td>\n",
       "      <td>/music/thailyric/2640</td>\n",
       "      <td>ได้แต่เหลียวมองไปสุดฟ้าไกลมันช่างน่าเสียดายที่...</td>\n",
       "      <td>bodyslam</td>\n",
       "      <td>29</td>\n",
       "    </tr>\n",
       "    <tr>\n",
       "      <th>2</th>\n",
       "      <td>คนที่ถูกรัก</td>\n",
       "      <td>/music/thailyric/2641</td>\n",
       "      <td>ใจ ฉันเคยถูกทิ้งเพียงลำพัง รักใครมาแล้วตั้งกี่...</td>\n",
       "      <td>bodyslam</td>\n",
       "      <td>25</td>\n",
       "    </tr>\n",
       "    <tr>\n",
       "      <th>3</th>\n",
       "      <td>ความเชื่อ</td>\n",
       "      <td>/music/thailyric/2644</td>\n",
       "      <td>มันเกือบจะล้มมันเหนื่อยมันล้าเหมือนแทบขาดใจเดิ...</td>\n",
       "      <td>bodyslam</td>\n",
       "      <td>45</td>\n",
       "    </tr>\n",
       "    <tr>\n",
       "      <th>4</th>\n",
       "      <td>ความรักทำให้คนตาบอด</td>\n",
       "      <td>/music/thailyric/2647</td>\n",
       "      <td>รู้ว่ามันไม่สมควร ที่ยังกวนใจเธอ ฉันขอโทษทีรัก...</td>\n",
       "      <td>bodyslam</td>\n",
       "      <td>21</td>\n",
       "    </tr>\n",
       "  </tbody>\n",
       "</table>\n",
       "</div>"
      ],
      "text/plain": [
       "             song_name                   href  \\\n",
       "0    อะ ไนท์ (A Night)  /music/thailyric/2681   \n",
       "1               ขอบฟ้า  /music/thailyric/2640   \n",
       "2          คนที่ถูกรัก  /music/thailyric/2641   \n",
       "3            ความเชื่อ  /music/thailyric/2644   \n",
       "4  ความรักทำให้คนตาบอด  /music/thailyric/2647   \n",
       "\n",
       "                                               lyric    artist  lines  \n",
       "0  ดึกดื่นคืนใด มองฟ้าไม่เห็นจันทร์ ไม่เจอะเจอกัน...  bodyslam     15  \n",
       "1  ได้แต่เหลียวมองไปสุดฟ้าไกลมันช่างน่าเสียดายที่...  bodyslam     29  \n",
       "2  ใจ ฉันเคยถูกทิ้งเพียงลำพัง รักใครมาแล้วตั้งกี่...  bodyslam     25  \n",
       "3  มันเกือบจะล้มมันเหนื่อยมันล้าเหมือนแทบขาดใจเดิ...  bodyslam     45  \n",
       "4  รู้ว่ามันไม่สมควร ที่ยังกวนใจเธอ ฉันขอโทษทีรัก...  bodyslam     21  "
      ]
     },
     "execution_count": 270,
     "metadata": {},
     "output_type": "execute_result"
    }
   ],
   "source": [
    "song_df.head()"
   ]
  },
  {
   "cell_type": "markdown",
   "metadata": {},
   "source": [
    "Tokenise"
   ]
  },
  {
   "cell_type": "code",
   "execution_count": 271,
   "metadata": {},
   "outputs": [],
   "source": [
    "import pythainlp\n",
    "from pythainlp import word_tokenize\n",
    "from pythainlp.corpus.common import thai_stopwords\n",
    "from pythainlp.corpus import wordnet\n",
    "from nltk.stem.porter import PorterStemmer\n",
    "from nltk.corpus import words\n",
    "from stop_words import get_stop_words"
   ]
  },
  {
   "cell_type": "code",
   "execution_count": 272,
   "metadata": {},
   "outputs": [],
   "source": [
    "# from thainlplib import ThaiWordSegmentLabeller"
   ]
  },
  {
   "cell_type": "code",
   "execution_count": 273,
   "metadata": {},
   "outputs": [
    {
     "name": "stderr",
     "output_type": "stream",
     "text": [
      "[nltk_data] Downloading package words to C:\\Users\\FACT-\n",
      "[nltk_data]     PC\\AppData\\Roaming\\nltk_data...\n",
      "[nltk_data]   Package words is already up-to-date!\n"
     ]
    }
   ],
   "source": [
    "import nltk\n",
    "nltk.download('words')\n",
    "th_stop = tuple(thai_stopwords())\n",
    "en_stop = tuple(get_stop_words('en'))\n",
    "p_stemmer = PorterStemmer()"
   ]
  },
  {
   "cell_type": "code",
   "execution_count": 274,
   "metadata": {},
   "outputs": [],
   "source": [
    "def split_word(text):\n",
    "            \n",
    "    \n",
    "    tokens = word_tokenize(text,engine='newmm')\n",
    "    \n",
    "    # Remove stop words ภาษาไทย และภาษาอังกฤษ\n",
    "    tokens = [i for i in tokens if not i in th_stop and not i in en_stop]\n",
    "    \n",
    "    # หารากศัพท์ภาษาไทย และภาษาอังกฤษ\n",
    "    # English\n",
    "    tokens = [p_stemmer.stem(i) for i in tokens]\n",
    "    \n",
    "    # Thai\n",
    "    tokens_temp=[]\n",
    "    for i in tokens:\n",
    "        w_syn = wordnet.synsets(i)\n",
    "        if (len(w_syn)>0) and (len(w_syn[0].lemma_names('tha'))>0):\n",
    "            tokens_temp.append(w_syn[0].lemma_names('tha')[0])\n",
    "        else:\n",
    "            tokens_temp.append(i)\n",
    "    \n",
    "    tokens = tokens_temp\n",
    "    \n",
    "    # ลบตัวเลข\n",
    "    tokens = [i for i in tokens if not i.isnumeric()]\n",
    "    \n",
    "    # ลบช่องว่าง\n",
    "    tokens = [i for i in tokens if not ' ' in i]\n",
    "\n",
    "    return tokens"
   ]
  },
  {
   "cell_type": "code",
   "execution_count": 275,
   "metadata": {},
   "outputs": [],
   "source": [
    "song_df['words'] = song_df['lyric'].map(lambda s: split_word(s))"
   ]
  },
  {
   "cell_type": "code",
   "execution_count": 276,
   "metadata": {},
   "outputs": [
    {
     "data": {
      "text/html": [
       "<div>\n",
       "<style scoped>\n",
       "    .dataframe tbody tr th:only-of-type {\n",
       "        vertical-align: middle;\n",
       "    }\n",
       "\n",
       "    .dataframe tbody tr th {\n",
       "        vertical-align: top;\n",
       "    }\n",
       "\n",
       "    .dataframe thead th {\n",
       "        text-align: right;\n",
       "    }\n",
       "</style>\n",
       "<table border=\"1\" class=\"dataframe\">\n",
       "  <thead>\n",
       "    <tr style=\"text-align: right;\">\n",
       "      <th></th>\n",
       "      <th>lyric</th>\n",
       "      <th>words</th>\n",
       "    </tr>\n",
       "  </thead>\n",
       "  <tbody>\n",
       "    <tr>\n",
       "      <th>125</th>\n",
       "      <td>เจ็บที่ตรงไหนบอกฉันได้ไหมให้ฉันช่วยดูแม้ไม่อาจ...</td>\n",
       "      <td>[ปวด, ตรงไหน, ไหม, ดู, รู้, แก้, ไขมัน, ปวด, ข...</td>\n",
       "    </tr>\n",
       "    <tr>\n",
       "      <th>126</th>\n",
       "      <td>ฟ้า และท้องทะเลกับลมนั้นมีอยู่แต่ใครจะรู้ จะรู...</td>\n",
       "      <td>[ฟ้า, ท้องทะเล, ลม, รู้, รู้, ใจ, ไว, ั, ตะวัน...</td>\n",
       "    </tr>\n",
       "    <tr>\n",
       "      <th>127</th>\n",
       "      <td>ทะเลาะเสียงดัง ข้าวของก็พัง อย่างนี้ประจำบางคร...</td>\n",
       "      <td>[ทะเลาะ, ความดัง, สินค้า, พัง, ประจำ, ช่วงเวลา...</td>\n",
       "    </tr>\n",
       "    <tr>\n",
       "      <th>128</th>\n",
       "      <td>เธอทนอยู่กับเขามานาน อยู่กับเขามานานฉันทนดูเธอ...</td>\n",
       "      <td>[ทน, ทน, ดู, ทรมาน, ไหว, ยอมให้, เตือน, กี่, ฟ...</td>\n",
       "    </tr>\n",
       "    <tr>\n",
       "      <th>129</th>\n",
       "      <td>เจอมากี่ครั้งเรื่องรักๆ เดี๋ยวจะเล่าให้ฟังชอบค...</td>\n",
       "      <td>[เจอ, กี่, เรื่อง, รัก, เดี๋ยว, เล่า, ฟัง, ชอบ...</td>\n",
       "    </tr>\n",
       "  </tbody>\n",
       "</table>\n",
       "</div>"
      ],
      "text/plain": [
       "                                                 lyric  \\\n",
       "125  เจ็บที่ตรงไหนบอกฉันได้ไหมให้ฉันช่วยดูแม้ไม่อาจ...   \n",
       "126  ฟ้า และท้องทะเลกับลมนั้นมีอยู่แต่ใครจะรู้ จะรู...   \n",
       "127  ทะเลาะเสียงดัง ข้าวของก็พัง อย่างนี้ประจำบางคร...   \n",
       "128  เธอทนอยู่กับเขามานาน อยู่กับเขามานานฉันทนดูเธอ...   \n",
       "129  เจอมากี่ครั้งเรื่องรักๆ เดี๋ยวจะเล่าให้ฟังชอบค...   \n",
       "\n",
       "                                                 words  \n",
       "125  [ปวด, ตรงไหน, ไหม, ดู, รู้, แก้, ไขมัน, ปวด, ข...  \n",
       "126  [ฟ้า, ท้องทะเล, ลม, รู้, รู้, ใจ, ไว, ั, ตะวัน...  \n",
       "127  [ทะเลาะ, ความดัง, สินค้า, พัง, ประจำ, ช่วงเวลา...  \n",
       "128  [ทน, ทน, ดู, ทรมาน, ไหว, ยอมให้, เตือน, กี่, ฟ...  \n",
       "129  [เจอ, กี่, เรื่อง, รัก, เดี๋ยว, เล่า, ฟัง, ชอบ...  "
      ]
     },
     "execution_count": 276,
     "metadata": {},
     "output_type": "execute_result"
    }
   ],
   "source": [
    "song_df[['lyric','words']].tail()"
   ]
  },
  {
   "cell_type": "code",
   "execution_count": 277,
   "metadata": {},
   "outputs": [],
   "source": [
    "song_df['n_words'] = song_df['words'].map(len)"
   ]
  },
  {
   "cell_type": "markdown",
   "metadata": {},
   "source": [
    "EDA"
   ]
  },
  {
   "cell_type": "code",
   "execution_count": 278,
   "metadata": {},
   "outputs": [
    {
     "name": "stdout",
     "output_type": "stream",
     "text": [
      "number of songs:  130\n",
      "number of artists:  3\n"
     ]
    }
   ],
   "source": [
    "# number of songs\n",
    "print('number of songs: ', str(len(song_df)))\n",
    "\n",
    "# number of artists\n",
    "print('number of artists: ', str(len(song_df['artist'].unique())))"
   ]
  },
  {
   "cell_type": "code",
   "execution_count": 279,
   "metadata": {},
   "outputs": [
    {
     "data": {
      "application/vnd.plotly.v1+json": {
       "config": {
        "plotlyServerURL": "https://plot.ly"
       },
       "data": [
        {
         "alignmentgroup": "True",
         "bingroup": "x",
         "hoverlabel": {
          "namelength": 0
         },
         "hovertemplate": "Songs=%{x}<br>count=%{y}",
         "legendgroup": "",
         "marker": {
          "color": "#636efa"
         },
         "name": "",
         "offsetgroup": "",
         "orientation": "v",
         "showlegend": false,
         "type": "histogram",
         "x": [
          66,
          36,
          28
         ],
         "xaxis": "x",
         "yaxis": "y"
        }
       ],
       "layout": {
        "barmode": "relative",
        "height": 600,
        "legend": {
         "tracegroupgap": 0
        },
        "template": {
         "data": {
          "bar": [
           {
            "error_x": {
             "color": "#2a3f5f"
            },
            "error_y": {
             "color": "#2a3f5f"
            },
            "marker": {
             "line": {
              "color": "#E5ECF6",
              "width": 0.5
             }
            },
            "type": "bar"
           }
          ],
          "barpolar": [
           {
            "marker": {
             "line": {
              "color": "#E5ECF6",
              "width": 0.5
             }
            },
            "type": "barpolar"
           }
          ],
          "carpet": [
           {
            "aaxis": {
             "endlinecolor": "#2a3f5f",
             "gridcolor": "white",
             "linecolor": "white",
             "minorgridcolor": "white",
             "startlinecolor": "#2a3f5f"
            },
            "baxis": {
             "endlinecolor": "#2a3f5f",
             "gridcolor": "white",
             "linecolor": "white",
             "minorgridcolor": "white",
             "startlinecolor": "#2a3f5f"
            },
            "type": "carpet"
           }
          ],
          "choropleth": [
           {
            "colorbar": {
             "outlinewidth": 0,
             "ticks": ""
            },
            "type": "choropleth"
           }
          ],
          "contour": [
           {
            "colorbar": {
             "outlinewidth": 0,
             "ticks": ""
            },
            "colorscale": [
             [
              0,
              "#0d0887"
             ],
             [
              0.1111111111111111,
              "#46039f"
             ],
             [
              0.2222222222222222,
              "#7201a8"
             ],
             [
              0.3333333333333333,
              "#9c179e"
             ],
             [
              0.4444444444444444,
              "#bd3786"
             ],
             [
              0.5555555555555556,
              "#d8576b"
             ],
             [
              0.6666666666666666,
              "#ed7953"
             ],
             [
              0.7777777777777778,
              "#fb9f3a"
             ],
             [
              0.8888888888888888,
              "#fdca26"
             ],
             [
              1,
              "#f0f921"
             ]
            ],
            "type": "contour"
           }
          ],
          "contourcarpet": [
           {
            "colorbar": {
             "outlinewidth": 0,
             "ticks": ""
            },
            "type": "contourcarpet"
           }
          ],
          "heatmap": [
           {
            "colorbar": {
             "outlinewidth": 0,
             "ticks": ""
            },
            "colorscale": [
             [
              0,
              "#0d0887"
             ],
             [
              0.1111111111111111,
              "#46039f"
             ],
             [
              0.2222222222222222,
              "#7201a8"
             ],
             [
              0.3333333333333333,
              "#9c179e"
             ],
             [
              0.4444444444444444,
              "#bd3786"
             ],
             [
              0.5555555555555556,
              "#d8576b"
             ],
             [
              0.6666666666666666,
              "#ed7953"
             ],
             [
              0.7777777777777778,
              "#fb9f3a"
             ],
             [
              0.8888888888888888,
              "#fdca26"
             ],
             [
              1,
              "#f0f921"
             ]
            ],
            "type": "heatmap"
           }
          ],
          "heatmapgl": [
           {
            "colorbar": {
             "outlinewidth": 0,
             "ticks": ""
            },
            "colorscale": [
             [
              0,
              "#0d0887"
             ],
             [
              0.1111111111111111,
              "#46039f"
             ],
             [
              0.2222222222222222,
              "#7201a8"
             ],
             [
              0.3333333333333333,
              "#9c179e"
             ],
             [
              0.4444444444444444,
              "#bd3786"
             ],
             [
              0.5555555555555556,
              "#d8576b"
             ],
             [
              0.6666666666666666,
              "#ed7953"
             ],
             [
              0.7777777777777778,
              "#fb9f3a"
             ],
             [
              0.8888888888888888,
              "#fdca26"
             ],
             [
              1,
              "#f0f921"
             ]
            ],
            "type": "heatmapgl"
           }
          ],
          "histogram": [
           {
            "marker": {
             "colorbar": {
              "outlinewidth": 0,
              "ticks": ""
             }
            },
            "type": "histogram"
           }
          ],
          "histogram2d": [
           {
            "colorbar": {
             "outlinewidth": 0,
             "ticks": ""
            },
            "colorscale": [
             [
              0,
              "#0d0887"
             ],
             [
              0.1111111111111111,
              "#46039f"
             ],
             [
              0.2222222222222222,
              "#7201a8"
             ],
             [
              0.3333333333333333,
              "#9c179e"
             ],
             [
              0.4444444444444444,
              "#bd3786"
             ],
             [
              0.5555555555555556,
              "#d8576b"
             ],
             [
              0.6666666666666666,
              "#ed7953"
             ],
             [
              0.7777777777777778,
              "#fb9f3a"
             ],
             [
              0.8888888888888888,
              "#fdca26"
             ],
             [
              1,
              "#f0f921"
             ]
            ],
            "type": "histogram2d"
           }
          ],
          "histogram2dcontour": [
           {
            "colorbar": {
             "outlinewidth": 0,
             "ticks": ""
            },
            "colorscale": [
             [
              0,
              "#0d0887"
             ],
             [
              0.1111111111111111,
              "#46039f"
             ],
             [
              0.2222222222222222,
              "#7201a8"
             ],
             [
              0.3333333333333333,
              "#9c179e"
             ],
             [
              0.4444444444444444,
              "#bd3786"
             ],
             [
              0.5555555555555556,
              "#d8576b"
             ],
             [
              0.6666666666666666,
              "#ed7953"
             ],
             [
              0.7777777777777778,
              "#fb9f3a"
             ],
             [
              0.8888888888888888,
              "#fdca26"
             ],
             [
              1,
              "#f0f921"
             ]
            ],
            "type": "histogram2dcontour"
           }
          ],
          "mesh3d": [
           {
            "colorbar": {
             "outlinewidth": 0,
             "ticks": ""
            },
            "type": "mesh3d"
           }
          ],
          "parcoords": [
           {
            "line": {
             "colorbar": {
              "outlinewidth": 0,
              "ticks": ""
             }
            },
            "type": "parcoords"
           }
          ],
          "scatter": [
           {
            "marker": {
             "colorbar": {
              "outlinewidth": 0,
              "ticks": ""
             }
            },
            "type": "scatter"
           }
          ],
          "scatter3d": [
           {
            "line": {
             "colorbar": {
              "outlinewidth": 0,
              "ticks": ""
             }
            },
            "marker": {
             "colorbar": {
              "outlinewidth": 0,
              "ticks": ""
             }
            },
            "type": "scatter3d"
           }
          ],
          "scattercarpet": [
           {
            "marker": {
             "colorbar": {
              "outlinewidth": 0,
              "ticks": ""
             }
            },
            "type": "scattercarpet"
           }
          ],
          "scattergeo": [
           {
            "marker": {
             "colorbar": {
              "outlinewidth": 0,
              "ticks": ""
             }
            },
            "type": "scattergeo"
           }
          ],
          "scattergl": [
           {
            "marker": {
             "colorbar": {
              "outlinewidth": 0,
              "ticks": ""
             }
            },
            "type": "scattergl"
           }
          ],
          "scattermapbox": [
           {
            "marker": {
             "colorbar": {
              "outlinewidth": 0,
              "ticks": ""
             }
            },
            "type": "scattermapbox"
           }
          ],
          "scatterpolar": [
           {
            "marker": {
             "colorbar": {
              "outlinewidth": 0,
              "ticks": ""
             }
            },
            "type": "scatterpolar"
           }
          ],
          "scatterpolargl": [
           {
            "marker": {
             "colorbar": {
              "outlinewidth": 0,
              "ticks": ""
             }
            },
            "type": "scatterpolargl"
           }
          ],
          "scatterternary": [
           {
            "marker": {
             "colorbar": {
              "outlinewidth": 0,
              "ticks": ""
             }
            },
            "type": "scatterternary"
           }
          ],
          "surface": [
           {
            "colorbar": {
             "outlinewidth": 0,
             "ticks": ""
            },
            "colorscale": [
             [
              0,
              "#0d0887"
             ],
             [
              0.1111111111111111,
              "#46039f"
             ],
             [
              0.2222222222222222,
              "#7201a8"
             ],
             [
              0.3333333333333333,
              "#9c179e"
             ],
             [
              0.4444444444444444,
              "#bd3786"
             ],
             [
              0.5555555555555556,
              "#d8576b"
             ],
             [
              0.6666666666666666,
              "#ed7953"
             ],
             [
              0.7777777777777778,
              "#fb9f3a"
             ],
             [
              0.8888888888888888,
              "#fdca26"
             ],
             [
              1,
              "#f0f921"
             ]
            ],
            "type": "surface"
           }
          ],
          "table": [
           {
            "cells": {
             "fill": {
              "color": "#EBF0F8"
             },
             "line": {
              "color": "white"
             }
            },
            "header": {
             "fill": {
              "color": "#C8D4E3"
             },
             "line": {
              "color": "white"
             }
            },
            "type": "table"
           }
          ]
         },
         "layout": {
          "annotationdefaults": {
           "arrowcolor": "#2a3f5f",
           "arrowhead": 0,
           "arrowwidth": 1
          },
          "colorscale": {
           "diverging": [
            [
             0,
             "#8e0152"
            ],
            [
             0.1,
             "#c51b7d"
            ],
            [
             0.2,
             "#de77ae"
            ],
            [
             0.3,
             "#f1b6da"
            ],
            [
             0.4,
             "#fde0ef"
            ],
            [
             0.5,
             "#f7f7f7"
            ],
            [
             0.6,
             "#e6f5d0"
            ],
            [
             0.7,
             "#b8e186"
            ],
            [
             0.8,
             "#7fbc41"
            ],
            [
             0.9,
             "#4d9221"
            ],
            [
             1,
             "#276419"
            ]
           ],
           "sequential": [
            [
             0,
             "#0d0887"
            ],
            [
             0.1111111111111111,
             "#46039f"
            ],
            [
             0.2222222222222222,
             "#7201a8"
            ],
            [
             0.3333333333333333,
             "#9c179e"
            ],
            [
             0.4444444444444444,
             "#bd3786"
            ],
            [
             0.5555555555555556,
             "#d8576b"
            ],
            [
             0.6666666666666666,
             "#ed7953"
            ],
            [
             0.7777777777777778,
             "#fb9f3a"
            ],
            [
             0.8888888888888888,
             "#fdca26"
            ],
            [
             1,
             "#f0f921"
            ]
           ],
           "sequentialminus": [
            [
             0,
             "#0d0887"
            ],
            [
             0.1111111111111111,
             "#46039f"
            ],
            [
             0.2222222222222222,
             "#7201a8"
            ],
            [
             0.3333333333333333,
             "#9c179e"
            ],
            [
             0.4444444444444444,
             "#bd3786"
            ],
            [
             0.5555555555555556,
             "#d8576b"
            ],
            [
             0.6666666666666666,
             "#ed7953"
            ],
            [
             0.7777777777777778,
             "#fb9f3a"
            ],
            [
             0.8888888888888888,
             "#fdca26"
            ],
            [
             1,
             "#f0f921"
            ]
           ]
          },
          "colorway": [
           "#636efa",
           "#EF553B",
           "#00cc96",
           "#ab63fa",
           "#FFA15A",
           "#19d3f3",
           "#FF6692",
           "#B6E880",
           "#FF97FF",
           "#FECB52"
          ],
          "font": {
           "color": "#2a3f5f"
          },
          "geo": {
           "bgcolor": "white",
           "lakecolor": "white",
           "landcolor": "#E5ECF6",
           "showlakes": true,
           "showland": true,
           "subunitcolor": "white"
          },
          "hoverlabel": {
           "align": "left"
          },
          "hovermode": "closest",
          "mapbox": {
           "style": "light"
          },
          "paper_bgcolor": "white",
          "plot_bgcolor": "#E5ECF6",
          "polar": {
           "angularaxis": {
            "gridcolor": "white",
            "linecolor": "white",
            "ticks": ""
           },
           "bgcolor": "#E5ECF6",
           "radialaxis": {
            "gridcolor": "white",
            "linecolor": "white",
            "ticks": ""
           }
          },
          "scene": {
           "xaxis": {
            "backgroundcolor": "#E5ECF6",
            "gridcolor": "white",
            "gridwidth": 2,
            "linecolor": "white",
            "showbackground": true,
            "ticks": "",
            "zerolinecolor": "white"
           },
           "yaxis": {
            "backgroundcolor": "#E5ECF6",
            "gridcolor": "white",
            "gridwidth": 2,
            "linecolor": "white",
            "showbackground": true,
            "ticks": "",
            "zerolinecolor": "white"
           },
           "zaxis": {
            "backgroundcolor": "#E5ECF6",
            "gridcolor": "white",
            "gridwidth": 2,
            "linecolor": "white",
            "showbackground": true,
            "ticks": "",
            "zerolinecolor": "white"
           }
          },
          "shapedefaults": {
           "line": {
            "color": "#2a3f5f"
           }
          },
          "ternary": {
           "aaxis": {
            "gridcolor": "white",
            "linecolor": "white",
            "ticks": ""
           },
           "baxis": {
            "gridcolor": "white",
            "linecolor": "white",
            "ticks": ""
           },
           "bgcolor": "#E5ECF6",
           "caxis": {
            "gridcolor": "white",
            "linecolor": "white",
            "ticks": ""
           }
          },
          "title": {
           "x": 0.05
          },
          "xaxis": {
           "automargin": true,
           "gridcolor": "white",
           "linecolor": "white",
           "ticks": "",
           "zerolinecolor": "white",
           "zerolinewidth": 2
          },
          "yaxis": {
           "automargin": true,
           "gridcolor": "white",
           "linecolor": "white",
           "ticks": "",
           "zerolinecolor": "white",
           "zerolinewidth": 2
          }
         }
        },
        "title": {
         "text": "Songs per artist"
        },
        "xaxis": {
         "anchor": "y",
         "domain": [
          0,
          0.98
         ],
         "title": {
          "text": "Songs"
         }
        },
        "yaxis": {
         "anchor": "x",
         "domain": [
          0,
          1
         ],
         "title": {
          "text": "count"
         }
        }
       }
      }
     },
     "metadata": {},
     "output_type": "display_data"
    }
   ],
   "source": [
    "# distribution songs per artist\n",
    "song_count_df = song_df.groupby('artist')[['song_name']].count()\n",
    "fig = px.histogram(song_count_df, x='song_name', title='Songs per artist', labels={'song_name': 'Songs'})\n",
    "fig.show()"
   ]
  },
  {
   "cell_type": "code",
   "execution_count": 280,
   "metadata": {},
   "outputs": [
    {
     "data": {
      "application/vnd.plotly.v1+json": {
       "config": {
        "plotlyServerURL": "https://plot.ly"
       },
       "data": [
        {
         "alignmentgroup": "True",
         "bingroup": "x",
         "hoverlabel": {
          "namelength": 0
         },
         "hovertemplate": "n_words=%{x}<br>count=%{y}",
         "legendgroup": "",
         "marker": {
          "color": "#636efa"
         },
         "name": "",
         "offsetgroup": "",
         "orientation": "v",
         "showlegend": false,
         "type": "histogram",
         "x": [
          75,
          74,
          87,
          130,
          51,
          51,
          75,
          68,
          89,
          81,
          83,
          130,
          81,
          104,
          121,
          80,
          101,
          102,
          74,
          50,
          89,
          68,
          57,
          37,
          88,
          52,
          68,
          123,
          109,
          137,
          205,
          59,
          117,
          51,
          97,
          130,
          112,
          145,
          102,
          183,
          141,
          92,
          128,
          118,
          56,
          55,
          56,
          90,
          48,
          106,
          75,
          108,
          66,
          139,
          110,
          99,
          163,
          179,
          78,
          150,
          89,
          108,
          108,
          96,
          124,
          58,
          90,
          103,
          187,
          167,
          180,
          84,
          103,
          64,
          108,
          122,
          93,
          102,
          90,
          87,
          94,
          90,
          87,
          112,
          66,
          68,
          70,
          72,
          128,
          145,
          92,
          118,
          110,
          134,
          61,
          94,
          91,
          73,
          129,
          160,
          121,
          63,
          74,
          73,
          83,
          59,
          88,
          62,
          139,
          69,
          90,
          194,
          85,
          45,
          146,
          113,
          109,
          81,
          158,
          116,
          146,
          95,
          88,
          137,
          132,
          54,
          80,
          75,
          133,
          103
         ],
         "xaxis": "x",
         "yaxis": "y"
        }
       ],
       "layout": {
        "barmode": "relative",
        "height": 600,
        "legend": {
         "tracegroupgap": 0
        },
        "template": {
         "data": {
          "bar": [
           {
            "error_x": {
             "color": "#2a3f5f"
            },
            "error_y": {
             "color": "#2a3f5f"
            },
            "marker": {
             "line": {
              "color": "#E5ECF6",
              "width": 0.5
             }
            },
            "type": "bar"
           }
          ],
          "barpolar": [
           {
            "marker": {
             "line": {
              "color": "#E5ECF6",
              "width": 0.5
             }
            },
            "type": "barpolar"
           }
          ],
          "carpet": [
           {
            "aaxis": {
             "endlinecolor": "#2a3f5f",
             "gridcolor": "white",
             "linecolor": "white",
             "minorgridcolor": "white",
             "startlinecolor": "#2a3f5f"
            },
            "baxis": {
             "endlinecolor": "#2a3f5f",
             "gridcolor": "white",
             "linecolor": "white",
             "minorgridcolor": "white",
             "startlinecolor": "#2a3f5f"
            },
            "type": "carpet"
           }
          ],
          "choropleth": [
           {
            "colorbar": {
             "outlinewidth": 0,
             "ticks": ""
            },
            "type": "choropleth"
           }
          ],
          "contour": [
           {
            "colorbar": {
             "outlinewidth": 0,
             "ticks": ""
            },
            "colorscale": [
             [
              0,
              "#0d0887"
             ],
             [
              0.1111111111111111,
              "#46039f"
             ],
             [
              0.2222222222222222,
              "#7201a8"
             ],
             [
              0.3333333333333333,
              "#9c179e"
             ],
             [
              0.4444444444444444,
              "#bd3786"
             ],
             [
              0.5555555555555556,
              "#d8576b"
             ],
             [
              0.6666666666666666,
              "#ed7953"
             ],
             [
              0.7777777777777778,
              "#fb9f3a"
             ],
             [
              0.8888888888888888,
              "#fdca26"
             ],
             [
              1,
              "#f0f921"
             ]
            ],
            "type": "contour"
           }
          ],
          "contourcarpet": [
           {
            "colorbar": {
             "outlinewidth": 0,
             "ticks": ""
            },
            "type": "contourcarpet"
           }
          ],
          "heatmap": [
           {
            "colorbar": {
             "outlinewidth": 0,
             "ticks": ""
            },
            "colorscale": [
             [
              0,
              "#0d0887"
             ],
             [
              0.1111111111111111,
              "#46039f"
             ],
             [
              0.2222222222222222,
              "#7201a8"
             ],
             [
              0.3333333333333333,
              "#9c179e"
             ],
             [
              0.4444444444444444,
              "#bd3786"
             ],
             [
              0.5555555555555556,
              "#d8576b"
             ],
             [
              0.6666666666666666,
              "#ed7953"
             ],
             [
              0.7777777777777778,
              "#fb9f3a"
             ],
             [
              0.8888888888888888,
              "#fdca26"
             ],
             [
              1,
              "#f0f921"
             ]
            ],
            "type": "heatmap"
           }
          ],
          "heatmapgl": [
           {
            "colorbar": {
             "outlinewidth": 0,
             "ticks": ""
            },
            "colorscale": [
             [
              0,
              "#0d0887"
             ],
             [
              0.1111111111111111,
              "#46039f"
             ],
             [
              0.2222222222222222,
              "#7201a8"
             ],
             [
              0.3333333333333333,
              "#9c179e"
             ],
             [
              0.4444444444444444,
              "#bd3786"
             ],
             [
              0.5555555555555556,
              "#d8576b"
             ],
             [
              0.6666666666666666,
              "#ed7953"
             ],
             [
              0.7777777777777778,
              "#fb9f3a"
             ],
             [
              0.8888888888888888,
              "#fdca26"
             ],
             [
              1,
              "#f0f921"
             ]
            ],
            "type": "heatmapgl"
           }
          ],
          "histogram": [
           {
            "marker": {
             "colorbar": {
              "outlinewidth": 0,
              "ticks": ""
             }
            },
            "type": "histogram"
           }
          ],
          "histogram2d": [
           {
            "colorbar": {
             "outlinewidth": 0,
             "ticks": ""
            },
            "colorscale": [
             [
              0,
              "#0d0887"
             ],
             [
              0.1111111111111111,
              "#46039f"
             ],
             [
              0.2222222222222222,
              "#7201a8"
             ],
             [
              0.3333333333333333,
              "#9c179e"
             ],
             [
              0.4444444444444444,
              "#bd3786"
             ],
             [
              0.5555555555555556,
              "#d8576b"
             ],
             [
              0.6666666666666666,
              "#ed7953"
             ],
             [
              0.7777777777777778,
              "#fb9f3a"
             ],
             [
              0.8888888888888888,
              "#fdca26"
             ],
             [
              1,
              "#f0f921"
             ]
            ],
            "type": "histogram2d"
           }
          ],
          "histogram2dcontour": [
           {
            "colorbar": {
             "outlinewidth": 0,
             "ticks": ""
            },
            "colorscale": [
             [
              0,
              "#0d0887"
             ],
             [
              0.1111111111111111,
              "#46039f"
             ],
             [
              0.2222222222222222,
              "#7201a8"
             ],
             [
              0.3333333333333333,
              "#9c179e"
             ],
             [
              0.4444444444444444,
              "#bd3786"
             ],
             [
              0.5555555555555556,
              "#d8576b"
             ],
             [
              0.6666666666666666,
              "#ed7953"
             ],
             [
              0.7777777777777778,
              "#fb9f3a"
             ],
             [
              0.8888888888888888,
              "#fdca26"
             ],
             [
              1,
              "#f0f921"
             ]
            ],
            "type": "histogram2dcontour"
           }
          ],
          "mesh3d": [
           {
            "colorbar": {
             "outlinewidth": 0,
             "ticks": ""
            },
            "type": "mesh3d"
           }
          ],
          "parcoords": [
           {
            "line": {
             "colorbar": {
              "outlinewidth": 0,
              "ticks": ""
             }
            },
            "type": "parcoords"
           }
          ],
          "scatter": [
           {
            "marker": {
             "colorbar": {
              "outlinewidth": 0,
              "ticks": ""
             }
            },
            "type": "scatter"
           }
          ],
          "scatter3d": [
           {
            "line": {
             "colorbar": {
              "outlinewidth": 0,
              "ticks": ""
             }
            },
            "marker": {
             "colorbar": {
              "outlinewidth": 0,
              "ticks": ""
             }
            },
            "type": "scatter3d"
           }
          ],
          "scattercarpet": [
           {
            "marker": {
             "colorbar": {
              "outlinewidth": 0,
              "ticks": ""
             }
            },
            "type": "scattercarpet"
           }
          ],
          "scattergeo": [
           {
            "marker": {
             "colorbar": {
              "outlinewidth": 0,
              "ticks": ""
             }
            },
            "type": "scattergeo"
           }
          ],
          "scattergl": [
           {
            "marker": {
             "colorbar": {
              "outlinewidth": 0,
              "ticks": ""
             }
            },
            "type": "scattergl"
           }
          ],
          "scattermapbox": [
           {
            "marker": {
             "colorbar": {
              "outlinewidth": 0,
              "ticks": ""
             }
            },
            "type": "scattermapbox"
           }
          ],
          "scatterpolar": [
           {
            "marker": {
             "colorbar": {
              "outlinewidth": 0,
              "ticks": ""
             }
            },
            "type": "scatterpolar"
           }
          ],
          "scatterpolargl": [
           {
            "marker": {
             "colorbar": {
              "outlinewidth": 0,
              "ticks": ""
             }
            },
            "type": "scatterpolargl"
           }
          ],
          "scatterternary": [
           {
            "marker": {
             "colorbar": {
              "outlinewidth": 0,
              "ticks": ""
             }
            },
            "type": "scatterternary"
           }
          ],
          "surface": [
           {
            "colorbar": {
             "outlinewidth": 0,
             "ticks": ""
            },
            "colorscale": [
             [
              0,
              "#0d0887"
             ],
             [
              0.1111111111111111,
              "#46039f"
             ],
             [
              0.2222222222222222,
              "#7201a8"
             ],
             [
              0.3333333333333333,
              "#9c179e"
             ],
             [
              0.4444444444444444,
              "#bd3786"
             ],
             [
              0.5555555555555556,
              "#d8576b"
             ],
             [
              0.6666666666666666,
              "#ed7953"
             ],
             [
              0.7777777777777778,
              "#fb9f3a"
             ],
             [
              0.8888888888888888,
              "#fdca26"
             ],
             [
              1,
              "#f0f921"
             ]
            ],
            "type": "surface"
           }
          ],
          "table": [
           {
            "cells": {
             "fill": {
              "color": "#EBF0F8"
             },
             "line": {
              "color": "white"
             }
            },
            "header": {
             "fill": {
              "color": "#C8D4E3"
             },
             "line": {
              "color": "white"
             }
            },
            "type": "table"
           }
          ]
         },
         "layout": {
          "annotationdefaults": {
           "arrowcolor": "#2a3f5f",
           "arrowhead": 0,
           "arrowwidth": 1
          },
          "colorscale": {
           "diverging": [
            [
             0,
             "#8e0152"
            ],
            [
             0.1,
             "#c51b7d"
            ],
            [
             0.2,
             "#de77ae"
            ],
            [
             0.3,
             "#f1b6da"
            ],
            [
             0.4,
             "#fde0ef"
            ],
            [
             0.5,
             "#f7f7f7"
            ],
            [
             0.6,
             "#e6f5d0"
            ],
            [
             0.7,
             "#b8e186"
            ],
            [
             0.8,
             "#7fbc41"
            ],
            [
             0.9,
             "#4d9221"
            ],
            [
             1,
             "#276419"
            ]
           ],
           "sequential": [
            [
             0,
             "#0d0887"
            ],
            [
             0.1111111111111111,
             "#46039f"
            ],
            [
             0.2222222222222222,
             "#7201a8"
            ],
            [
             0.3333333333333333,
             "#9c179e"
            ],
            [
             0.4444444444444444,
             "#bd3786"
            ],
            [
             0.5555555555555556,
             "#d8576b"
            ],
            [
             0.6666666666666666,
             "#ed7953"
            ],
            [
             0.7777777777777778,
             "#fb9f3a"
            ],
            [
             0.8888888888888888,
             "#fdca26"
            ],
            [
             1,
             "#f0f921"
            ]
           ],
           "sequentialminus": [
            [
             0,
             "#0d0887"
            ],
            [
             0.1111111111111111,
             "#46039f"
            ],
            [
             0.2222222222222222,
             "#7201a8"
            ],
            [
             0.3333333333333333,
             "#9c179e"
            ],
            [
             0.4444444444444444,
             "#bd3786"
            ],
            [
             0.5555555555555556,
             "#d8576b"
            ],
            [
             0.6666666666666666,
             "#ed7953"
            ],
            [
             0.7777777777777778,
             "#fb9f3a"
            ],
            [
             0.8888888888888888,
             "#fdca26"
            ],
            [
             1,
             "#f0f921"
            ]
           ]
          },
          "colorway": [
           "#636efa",
           "#EF553B",
           "#00cc96",
           "#ab63fa",
           "#FFA15A",
           "#19d3f3",
           "#FF6692",
           "#B6E880",
           "#FF97FF",
           "#FECB52"
          ],
          "font": {
           "color": "#2a3f5f"
          },
          "geo": {
           "bgcolor": "white",
           "lakecolor": "white",
           "landcolor": "#E5ECF6",
           "showlakes": true,
           "showland": true,
           "subunitcolor": "white"
          },
          "hoverlabel": {
           "align": "left"
          },
          "hovermode": "closest",
          "mapbox": {
           "style": "light"
          },
          "paper_bgcolor": "white",
          "plot_bgcolor": "#E5ECF6",
          "polar": {
           "angularaxis": {
            "gridcolor": "white",
            "linecolor": "white",
            "ticks": ""
           },
           "bgcolor": "#E5ECF6",
           "radialaxis": {
            "gridcolor": "white",
            "linecolor": "white",
            "ticks": ""
           }
          },
          "scene": {
           "xaxis": {
            "backgroundcolor": "#E5ECF6",
            "gridcolor": "white",
            "gridwidth": 2,
            "linecolor": "white",
            "showbackground": true,
            "ticks": "",
            "zerolinecolor": "white"
           },
           "yaxis": {
            "backgroundcolor": "#E5ECF6",
            "gridcolor": "white",
            "gridwidth": 2,
            "linecolor": "white",
            "showbackground": true,
            "ticks": "",
            "zerolinecolor": "white"
           },
           "zaxis": {
            "backgroundcolor": "#E5ECF6",
            "gridcolor": "white",
            "gridwidth": 2,
            "linecolor": "white",
            "showbackground": true,
            "ticks": "",
            "zerolinecolor": "white"
           }
          },
          "shapedefaults": {
           "line": {
            "color": "#2a3f5f"
           }
          },
          "ternary": {
           "aaxis": {
            "gridcolor": "white",
            "linecolor": "white",
            "ticks": ""
           },
           "baxis": {
            "gridcolor": "white",
            "linecolor": "white",
            "ticks": ""
           },
           "bgcolor": "#E5ECF6",
           "caxis": {
            "gridcolor": "white",
            "linecolor": "white",
            "ticks": ""
           }
          },
          "title": {
           "x": 0.05
          },
          "xaxis": {
           "automargin": true,
           "gridcolor": "white",
           "linecolor": "white",
           "ticks": "",
           "zerolinecolor": "white",
           "zerolinewidth": 2
          },
          "yaxis": {
           "automargin": true,
           "gridcolor": "white",
           "linecolor": "white",
           "ticks": "",
           "zerolinecolor": "white",
           "zerolinewidth": 2
          }
         }
        },
        "title": {
         "text": "Words per song"
        },
        "xaxis": {
         "anchor": "y",
         "domain": [
          0,
          0.98
         ],
         "title": {
          "text": "n_words"
         }
        },
        "yaxis": {
         "anchor": "x",
         "domain": [
          0,
          1
         ],
         "title": {
          "text": "count"
         }
        }
       }
      }
     },
     "metadata": {},
     "output_type": "display_data"
    }
   ],
   "source": [
    "# distribution words per song\n",
    "fig = px.histogram(song_df, x='n_words', title='Words per song')\n",
    "fig.show()"
   ]
  },
  {
   "cell_type": "code",
   "execution_count": 281,
   "metadata": {},
   "outputs": [],
   "source": [
    "# # create dataframe with lists of artists\n",
    "# song_df['words_str'] = song_df['words'].map(lambda lst: ' '.join(lst))\n",
    "\n",
    "# # map text to artists\n",
    "# words_to_artist = {}\n",
    "# for tp in song_df[['artist', 'words_str']].itertuples(index=False):\n",
    "#     artist = tp[0]\n",
    "#     words = tp[1]\n",
    "#     if words in words_to_artist:\n",
    "#         words_to_artist[words].append(artist)\n",
    "#     else:\n",
    "#         words_to_artist[words] = [artist]\n",
    "\n",
    "# # insert list of artists to dataframe\n",
    "# song_df['artists'] = song_df['words_str'].map(words_to_artist)\n",
    "# song_df['duplicates'] = song_df['artists'].map(len) - 1\n",
    "\n",
    "# # convert list of artists to set of artists\n",
    "# song_df['artists'] = song_df['artists'].map(set)\n",
    "# song_df['n_artists'] = song_df['artists'].map(len)\n",
    "\n",
    "# # remove duplicate songs\n",
    "# artist_text_df = song_df.drop_duplicates('words_str')"
   ]
  },
  {
   "cell_type": "markdown",
   "metadata": {},
   "source": [
    "Feature engineering"
   ]
  },
  {
   "cell_type": "code",
   "execution_count": 282,
   "metadata": {},
   "outputs": [
    {
     "data": {
      "text/html": [
       "<div>\n",
       "<style scoped>\n",
       "    .dataframe tbody tr th:only-of-type {\n",
       "        vertical-align: middle;\n",
       "    }\n",
       "\n",
       "    .dataframe tbody tr th {\n",
       "        vertical-align: top;\n",
       "    }\n",
       "\n",
       "    .dataframe thead th {\n",
       "        text-align: right;\n",
       "    }\n",
       "</style>\n",
       "<table border=\"1\" class=\"dataframe\">\n",
       "  <thead>\n",
       "    <tr style=\"text-align: right;\">\n",
       "      <th></th>\n",
       "      <th>song_name</th>\n",
       "      <th>href</th>\n",
       "      <th>lyric</th>\n",
       "      <th>artist</th>\n",
       "      <th>lines</th>\n",
       "      <th>words</th>\n",
       "      <th>n_words</th>\n",
       "    </tr>\n",
       "  </thead>\n",
       "  <tbody>\n",
       "    <tr>\n",
       "      <th>0</th>\n",
       "      <td>อะ ไนท์ (A Night)</td>\n",
       "      <td>/music/thailyric/2681</td>\n",
       "      <td>ดึกดื่นคืนใด มองฟ้าไม่เห็นจันทร์ ไม่เจอะเจอกัน...</td>\n",
       "      <td>bodyslam</td>\n",
       "      <td>15</td>\n",
       "      <td>[ดึกดื่น, คืน, ใด, ฟ้า, เดือน, เจอะ, เจอกัน, ร...</td>\n",
       "      <td>75</td>\n",
       "    </tr>\n",
       "    <tr>\n",
       "      <th>1</th>\n",
       "      <td>ขอบฟ้า</td>\n",
       "      <td>/music/thailyric/2640</td>\n",
       "      <td>ได้แต่เหลียวมองไปสุดฟ้าไกลมันช่างน่าเสียดายที่...</td>\n",
       "      <td>bodyslam</td>\n",
       "      <td>29</td>\n",
       "      <td>[เหลียว, ฟ้า, ช่าง, น่าเสียดาย, ขอบฟ้า, จบ, เส...</td>\n",
       "      <td>74</td>\n",
       "    </tr>\n",
       "    <tr>\n",
       "      <th>2</th>\n",
       "      <td>คนที่ถูกรัก</td>\n",
       "      <td>/music/thailyric/2641</td>\n",
       "      <td>ใจ ฉันเคยถูกทิ้งเพียงลำพัง รักใครมาแล้วตั้งกี่...</td>\n",
       "      <td>bodyslam</td>\n",
       "      <td>25</td>\n",
       "      <td>[ใจ, ทิ้ง, เพียงลำพัง, รัก, กี่, ผิดหวัง, กี่,...</td>\n",
       "      <td>87</td>\n",
       "    </tr>\n",
       "    <tr>\n",
       "      <th>3</th>\n",
       "      <td>ความเชื่อ</td>\n",
       "      <td>/music/thailyric/2644</td>\n",
       "      <td>มันเกือบจะล้มมันเหนื่อยมันล้าเหมือนแทบขาดใจเดิ...</td>\n",
       "      <td>bodyslam</td>\n",
       "      <td>45</td>\n",
       "      <td>[ล้ม, เหนื่อย, ล้า, เหมือน, แทบ, ขาดใจ, เดิน, ...</td>\n",
       "      <td>130</td>\n",
       "    </tr>\n",
       "    <tr>\n",
       "      <th>4</th>\n",
       "      <td>ความรักทำให้คนตาบอด</td>\n",
       "      <td>/music/thailyric/2647</td>\n",
       "      <td>รู้ว่ามันไม่สมควร ที่ยังกวนใจเธอ ฉันขอโทษทีรัก...</td>\n",
       "      <td>bodyslam</td>\n",
       "      <td>21</td>\n",
       "      <td>[รู้, สมควร, ยั่ว, ขอโทษ, รัก, คอย, หวังดี, มี...</td>\n",
       "      <td>51</td>\n",
       "    </tr>\n",
       "    <tr>\n",
       "      <th>...</th>\n",
       "      <td>...</td>\n",
       "      <td>...</td>\n",
       "      <td>...</td>\n",
       "      <td>...</td>\n",
       "      <td>...</td>\n",
       "      <td>...</td>\n",
       "      <td>...</td>\n",
       "    </tr>\n",
       "    <tr>\n",
       "      <th>125</th>\n",
       "      <td>ให้เธอหายดี (SuperMom)</td>\n",
       "      <td>/music/thailyric/18442</td>\n",
       "      <td>เจ็บที่ตรงไหนบอกฉันได้ไหมให้ฉันช่วยดูแม้ไม่อาจ...</td>\n",
       "      <td>tilly_birds</td>\n",
       "      <td>50</td>\n",
       "      <td>[ปวด, ตรงไหน, ไหม, ดู, รู้, แก้, ไขมัน, ปวด, ข...</td>\n",
       "      <td>54</td>\n",
       "    </tr>\n",
       "    <tr>\n",
       "      <th>126</th>\n",
       "      <td>ให้เธอ</td>\n",
       "      <td>/music/thailyric/19409</td>\n",
       "      <td>ฟ้า และท้องทะเลกับลมนั้นมีอยู่แต่ใครจะรู้ จะรู...</td>\n",
       "      <td>tilly_birds</td>\n",
       "      <td>51</td>\n",
       "      <td>[ฟ้า, ท้องทะเล, ลม, รู้, รู้, ใจ, ไว, ั, ตะวัน...</td>\n",
       "      <td>80</td>\n",
       "    </tr>\n",
       "    <tr>\n",
       "      <th>127</th>\n",
       "      <td>อภัย (Broken)</td>\n",
       "      <td>/music/thailyric/15735</td>\n",
       "      <td>ทะเลาะเสียงดัง ข้าวของก็พัง อย่างนี้ประจำบางคร...</td>\n",
       "      <td>tilly_birds</td>\n",
       "      <td>31</td>\n",
       "      <td>[ทะเลาะ, ความดัง, สินค้า, พัง, ประจำ, ช่วงเวลา...</td>\n",
       "      <td>75</td>\n",
       "    </tr>\n",
       "    <tr>\n",
       "      <th>128</th>\n",
       "      <td>อย่าอยู่เลย</td>\n",
       "      <td>/music/thailyric/19971</td>\n",
       "      <td>เธอทนอยู่กับเขามานาน อยู่กับเขามานานฉันทนดูเธอ...</td>\n",
       "      <td>tilly_birds</td>\n",
       "      <td>46</td>\n",
       "      <td>[ทน, ทน, ดู, ทรมาน, ไหว, ยอมให้, เตือน, กี่, ฟ...</td>\n",
       "      <td>133</td>\n",
       "    </tr>\n",
       "    <tr>\n",
       "      <th>129</th>\n",
       "      <td>อยู่ได้ ได้อยู่ (ineednoone)</td>\n",
       "      <td>/music/thailyric/17190</td>\n",
       "      <td>เจอมากี่ครั้งเรื่องรักๆ เดี๋ยวจะเล่าให้ฟังชอบค...</td>\n",
       "      <td>tilly_birds</td>\n",
       "      <td>57</td>\n",
       "      <td>[เจอ, กี่, เรื่อง, รัก, เดี๋ยว, เล่า, ฟัง, ชอบ...</td>\n",
       "      <td>103</td>\n",
       "    </tr>\n",
       "  </tbody>\n",
       "</table>\n",
       "<p>130 rows × 7 columns</p>\n",
       "</div>"
      ],
      "text/plain": [
       "                        song_name                    href  \\\n",
       "0               อะ ไนท์ (A Night)   /music/thailyric/2681   \n",
       "1                          ขอบฟ้า   /music/thailyric/2640   \n",
       "2                     คนที่ถูกรัก   /music/thailyric/2641   \n",
       "3                       ความเชื่อ   /music/thailyric/2644   \n",
       "4             ความรักทำให้คนตาบอด   /music/thailyric/2647   \n",
       "..                            ...                     ...   \n",
       "125        ให้เธอหายดี (SuperMom)  /music/thailyric/18442   \n",
       "126                        ให้เธอ  /music/thailyric/19409   \n",
       "127                 อภัย (Broken)  /music/thailyric/15735   \n",
       "128                   อย่าอยู่เลย  /music/thailyric/19971   \n",
       "129  อยู่ได้ ได้อยู่ (ineednoone)  /music/thailyric/17190   \n",
       "\n",
       "                                                 lyric       artist  lines  \\\n",
       "0    ดึกดื่นคืนใด มองฟ้าไม่เห็นจันทร์ ไม่เจอะเจอกัน...     bodyslam     15   \n",
       "1    ได้แต่เหลียวมองไปสุดฟ้าไกลมันช่างน่าเสียดายที่...     bodyslam     29   \n",
       "2    ใจ ฉันเคยถูกทิ้งเพียงลำพัง รักใครมาแล้วตั้งกี่...     bodyslam     25   \n",
       "3    มันเกือบจะล้มมันเหนื่อยมันล้าเหมือนแทบขาดใจเดิ...     bodyslam     45   \n",
       "4    รู้ว่ามันไม่สมควร ที่ยังกวนใจเธอ ฉันขอโทษทีรัก...     bodyslam     21   \n",
       "..                                                 ...          ...    ...   \n",
       "125  เจ็บที่ตรงไหนบอกฉันได้ไหมให้ฉันช่วยดูแม้ไม่อาจ...  tilly_birds     50   \n",
       "126  ฟ้า และท้องทะเลกับลมนั้นมีอยู่แต่ใครจะรู้ จะรู...  tilly_birds     51   \n",
       "127  ทะเลาะเสียงดัง ข้าวของก็พัง อย่างนี้ประจำบางคร...  tilly_birds     31   \n",
       "128  เธอทนอยู่กับเขามานาน อยู่กับเขามานานฉันทนดูเธอ...  tilly_birds     46   \n",
       "129  เจอมากี่ครั้งเรื่องรักๆ เดี๋ยวจะเล่าให้ฟังชอบค...  tilly_birds     57   \n",
       "\n",
       "                                                 words  n_words  \n",
       "0    [ดึกดื่น, คืน, ใด, ฟ้า, เดือน, เจอะ, เจอกัน, ร...       75  \n",
       "1    [เหลียว, ฟ้า, ช่าง, น่าเสียดาย, ขอบฟ้า, จบ, เส...       74  \n",
       "2    [ใจ, ทิ้ง, เพียงลำพัง, รัก, กี่, ผิดหวัง, กี่,...       87  \n",
       "3    [ล้ม, เหนื่อย, ล้า, เหมือน, แทบ, ขาดใจ, เดิน, ...      130  \n",
       "4    [รู้, สมควร, ยั่ว, ขอโทษ, รัก, คอย, หวังดี, มี...       51  \n",
       "..                                                 ...      ...  \n",
       "125  [ปวด, ตรงไหน, ไหม, ดู, รู้, แก้, ไขมัน, ปวด, ข...       54  \n",
       "126  [ฟ้า, ท้องทะเล, ลม, รู้, รู้, ใจ, ไว, ั, ตะวัน...       80  \n",
       "127  [ทะเลาะ, ความดัง, สินค้า, พัง, ประจำ, ช่วงเวลา...       75  \n",
       "128  [ทน, ทน, ดู, ทรมาน, ไหว, ยอมให้, เตือน, กี่, ฟ...      133  \n",
       "129  [เจอ, กี่, เรื่อง, รัก, เดี๋ยว, เล่า, ฟัง, ชอบ...      103  \n",
       "\n",
       "[130 rows x 7 columns]"
      ]
     },
     "execution_count": 282,
     "metadata": {},
     "output_type": "execute_result"
    }
   ],
   "source": [
    "song_df"
   ]
  },
  {
   "cell_type": "markdown",
   "metadata": {},
   "source": [
    "## Feature engineering"
   ]
  },
  {
   "cell_type": "markdown",
   "metadata": {},
   "source": [
    "### Number of words"
   ]
  },
  {
   "cell_type": "code",
   "execution_count": 283,
   "metadata": {},
   "outputs": [
    {
     "name": "stdout",
     "output_type": "stream",
     "text": [
      "Total number of songs: 64\n"
     ]
    },
    {
     "data": {
      "text/html": [
       "<div>\n",
       "<style scoped>\n",
       "    .dataframe tbody tr th:only-of-type {\n",
       "        vertical-align: middle;\n",
       "    }\n",
       "\n",
       "    .dataframe tbody tr th {\n",
       "        vertical-align: top;\n",
       "    }\n",
       "\n",
       "    .dataframe thead th {\n",
       "        text-align: right;\n",
       "    }\n",
       "</style>\n",
       "<table border=\"1\" class=\"dataframe\">\n",
       "  <thead>\n",
       "    <tr style=\"text-align: right;\">\n",
       "      <th></th>\n",
       "      <th>artist</th>\n",
       "      <th>song_name</th>\n",
       "    </tr>\n",
       "  </thead>\n",
       "  <tbody>\n",
       "    <tr>\n",
       "      <th>0</th>\n",
       "      <td>nont_tanont</td>\n",
       "      <td>36</td>\n",
       "    </tr>\n",
       "    <tr>\n",
       "      <th>1</th>\n",
       "      <td>tilly_birds</td>\n",
       "      <td>28</td>\n",
       "    </tr>\n",
       "  </tbody>\n",
       "</table>\n",
       "</div>"
      ],
      "text/plain": [
       "        artist  song_name\n",
       "0  nont_tanont         36\n",
       "1  tilly_birds         28"
      ]
     },
     "execution_count": 283,
     "metadata": {},
     "output_type": "execute_result"
    }
   ],
   "source": [
    "n_artist = 3\n",
    "random.seed(0)\n",
    "\n",
    "artist_select = random.choices(song_df['artist'].unique(), k=n_artist)\n",
    "\n",
    "song_filter_df = song_df.loc[song_df['artist'].isin(artist_select)]\n",
    "print('Total number of songs: {}'.format(len(song_filter_df)))\n",
    "song_filter_df.groupby('artist')[['song_name']].count().reset_index().rename(columns={'song':'songs'})"
   ]
  },
  {
   "cell_type": "code",
   "execution_count": 284,
   "metadata": {},
   "outputs": [
    {
     "data": {
      "application/vnd.plotly.v1+json": {
       "config": {
        "plotlyServerURL": "https://plot.ly"
       },
       "data": [
        {
         "alignmentgroup": "True",
         "hoverlabel": {
          "namelength": 0
         },
         "hovertemplate": "artist=%{x}<br>n_words=%{y}",
         "legendgroup": "",
         "marker": {
          "color": "#636efa"
         },
         "name": "",
         "notched": false,
         "offsetgroup": "",
         "orientation": "v",
         "showlegend": false,
         "type": "box",
         "x": [
          "nont_tanont",
          "nont_tanont",
          "nont_tanont",
          "nont_tanont",
          "nont_tanont",
          "nont_tanont",
          "nont_tanont",
          "nont_tanont",
          "nont_tanont",
          "nont_tanont",
          "nont_tanont",
          "nont_tanont",
          "nont_tanont",
          "nont_tanont",
          "nont_tanont",
          "nont_tanont",
          "nont_tanont",
          "nont_tanont",
          "nont_tanont",
          "nont_tanont",
          "nont_tanont",
          "nont_tanont",
          "nont_tanont",
          "nont_tanont",
          "nont_tanont",
          "nont_tanont",
          "nont_tanont",
          "nont_tanont",
          "nont_tanont",
          "nont_tanont",
          "nont_tanont",
          "nont_tanont",
          "nont_tanont",
          "nont_tanont",
          "nont_tanont",
          "nont_tanont",
          "tilly_birds",
          "tilly_birds",
          "tilly_birds",
          "tilly_birds",
          "tilly_birds",
          "tilly_birds",
          "tilly_birds",
          "tilly_birds",
          "tilly_birds",
          "tilly_birds",
          "tilly_birds",
          "tilly_birds",
          "tilly_birds",
          "tilly_birds",
          "tilly_birds",
          "tilly_birds",
          "tilly_birds",
          "tilly_birds",
          "tilly_birds",
          "tilly_birds",
          "tilly_birds",
          "tilly_birds",
          "tilly_birds",
          "tilly_birds",
          "tilly_birds",
          "tilly_birds",
          "tilly_birds",
          "tilly_birds"
         ],
         "x0": " ",
         "xaxis": "x",
         "y": [
          90,
          103,
          187,
          167,
          180,
          84,
          103,
          64,
          108,
          122,
          93,
          102,
          90,
          87,
          94,
          90,
          87,
          112,
          66,
          68,
          70,
          72,
          128,
          145,
          92,
          118,
          110,
          134,
          61,
          94,
          91,
          73,
          129,
          160,
          121,
          63,
          74,
          73,
          83,
          59,
          88,
          62,
          139,
          69,
          90,
          194,
          85,
          45,
          146,
          113,
          109,
          81,
          158,
          116,
          146,
          95,
          88,
          137,
          132,
          54,
          80,
          75,
          133,
          103
         ],
         "y0": " ",
         "yaxis": "y"
        }
       ],
       "layout": {
        "boxmode": "group",
        "height": 600,
        "legend": {
         "tracegroupgap": 0
        },
        "template": {
         "data": {
          "bar": [
           {
            "error_x": {
             "color": "#2a3f5f"
            },
            "error_y": {
             "color": "#2a3f5f"
            },
            "marker": {
             "line": {
              "color": "#E5ECF6",
              "width": 0.5
             }
            },
            "type": "bar"
           }
          ],
          "barpolar": [
           {
            "marker": {
             "line": {
              "color": "#E5ECF6",
              "width": 0.5
             }
            },
            "type": "barpolar"
           }
          ],
          "carpet": [
           {
            "aaxis": {
             "endlinecolor": "#2a3f5f",
             "gridcolor": "white",
             "linecolor": "white",
             "minorgridcolor": "white",
             "startlinecolor": "#2a3f5f"
            },
            "baxis": {
             "endlinecolor": "#2a3f5f",
             "gridcolor": "white",
             "linecolor": "white",
             "minorgridcolor": "white",
             "startlinecolor": "#2a3f5f"
            },
            "type": "carpet"
           }
          ],
          "choropleth": [
           {
            "colorbar": {
             "outlinewidth": 0,
             "ticks": ""
            },
            "type": "choropleth"
           }
          ],
          "contour": [
           {
            "colorbar": {
             "outlinewidth": 0,
             "ticks": ""
            },
            "colorscale": [
             [
              0,
              "#0d0887"
             ],
             [
              0.1111111111111111,
              "#46039f"
             ],
             [
              0.2222222222222222,
              "#7201a8"
             ],
             [
              0.3333333333333333,
              "#9c179e"
             ],
             [
              0.4444444444444444,
              "#bd3786"
             ],
             [
              0.5555555555555556,
              "#d8576b"
             ],
             [
              0.6666666666666666,
              "#ed7953"
             ],
             [
              0.7777777777777778,
              "#fb9f3a"
             ],
             [
              0.8888888888888888,
              "#fdca26"
             ],
             [
              1,
              "#f0f921"
             ]
            ],
            "type": "contour"
           }
          ],
          "contourcarpet": [
           {
            "colorbar": {
             "outlinewidth": 0,
             "ticks": ""
            },
            "type": "contourcarpet"
           }
          ],
          "heatmap": [
           {
            "colorbar": {
             "outlinewidth": 0,
             "ticks": ""
            },
            "colorscale": [
             [
              0,
              "#0d0887"
             ],
             [
              0.1111111111111111,
              "#46039f"
             ],
             [
              0.2222222222222222,
              "#7201a8"
             ],
             [
              0.3333333333333333,
              "#9c179e"
             ],
             [
              0.4444444444444444,
              "#bd3786"
             ],
             [
              0.5555555555555556,
              "#d8576b"
             ],
             [
              0.6666666666666666,
              "#ed7953"
             ],
             [
              0.7777777777777778,
              "#fb9f3a"
             ],
             [
              0.8888888888888888,
              "#fdca26"
             ],
             [
              1,
              "#f0f921"
             ]
            ],
            "type": "heatmap"
           }
          ],
          "heatmapgl": [
           {
            "colorbar": {
             "outlinewidth": 0,
             "ticks": ""
            },
            "colorscale": [
             [
              0,
              "#0d0887"
             ],
             [
              0.1111111111111111,
              "#46039f"
             ],
             [
              0.2222222222222222,
              "#7201a8"
             ],
             [
              0.3333333333333333,
              "#9c179e"
             ],
             [
              0.4444444444444444,
              "#bd3786"
             ],
             [
              0.5555555555555556,
              "#d8576b"
             ],
             [
              0.6666666666666666,
              "#ed7953"
             ],
             [
              0.7777777777777778,
              "#fb9f3a"
             ],
             [
              0.8888888888888888,
              "#fdca26"
             ],
             [
              1,
              "#f0f921"
             ]
            ],
            "type": "heatmapgl"
           }
          ],
          "histogram": [
           {
            "marker": {
             "colorbar": {
              "outlinewidth": 0,
              "ticks": ""
             }
            },
            "type": "histogram"
           }
          ],
          "histogram2d": [
           {
            "colorbar": {
             "outlinewidth": 0,
             "ticks": ""
            },
            "colorscale": [
             [
              0,
              "#0d0887"
             ],
             [
              0.1111111111111111,
              "#46039f"
             ],
             [
              0.2222222222222222,
              "#7201a8"
             ],
             [
              0.3333333333333333,
              "#9c179e"
             ],
             [
              0.4444444444444444,
              "#bd3786"
             ],
             [
              0.5555555555555556,
              "#d8576b"
             ],
             [
              0.6666666666666666,
              "#ed7953"
             ],
             [
              0.7777777777777778,
              "#fb9f3a"
             ],
             [
              0.8888888888888888,
              "#fdca26"
             ],
             [
              1,
              "#f0f921"
             ]
            ],
            "type": "histogram2d"
           }
          ],
          "histogram2dcontour": [
           {
            "colorbar": {
             "outlinewidth": 0,
             "ticks": ""
            },
            "colorscale": [
             [
              0,
              "#0d0887"
             ],
             [
              0.1111111111111111,
              "#46039f"
             ],
             [
              0.2222222222222222,
              "#7201a8"
             ],
             [
              0.3333333333333333,
              "#9c179e"
             ],
             [
              0.4444444444444444,
              "#bd3786"
             ],
             [
              0.5555555555555556,
              "#d8576b"
             ],
             [
              0.6666666666666666,
              "#ed7953"
             ],
             [
              0.7777777777777778,
              "#fb9f3a"
             ],
             [
              0.8888888888888888,
              "#fdca26"
             ],
             [
              1,
              "#f0f921"
             ]
            ],
            "type": "histogram2dcontour"
           }
          ],
          "mesh3d": [
           {
            "colorbar": {
             "outlinewidth": 0,
             "ticks": ""
            },
            "type": "mesh3d"
           }
          ],
          "parcoords": [
           {
            "line": {
             "colorbar": {
              "outlinewidth": 0,
              "ticks": ""
             }
            },
            "type": "parcoords"
           }
          ],
          "scatter": [
           {
            "marker": {
             "colorbar": {
              "outlinewidth": 0,
              "ticks": ""
             }
            },
            "type": "scatter"
           }
          ],
          "scatter3d": [
           {
            "line": {
             "colorbar": {
              "outlinewidth": 0,
              "ticks": ""
             }
            },
            "marker": {
             "colorbar": {
              "outlinewidth": 0,
              "ticks": ""
             }
            },
            "type": "scatter3d"
           }
          ],
          "scattercarpet": [
           {
            "marker": {
             "colorbar": {
              "outlinewidth": 0,
              "ticks": ""
             }
            },
            "type": "scattercarpet"
           }
          ],
          "scattergeo": [
           {
            "marker": {
             "colorbar": {
              "outlinewidth": 0,
              "ticks": ""
             }
            },
            "type": "scattergeo"
           }
          ],
          "scattergl": [
           {
            "marker": {
             "colorbar": {
              "outlinewidth": 0,
              "ticks": ""
             }
            },
            "type": "scattergl"
           }
          ],
          "scattermapbox": [
           {
            "marker": {
             "colorbar": {
              "outlinewidth": 0,
              "ticks": ""
             }
            },
            "type": "scattermapbox"
           }
          ],
          "scatterpolar": [
           {
            "marker": {
             "colorbar": {
              "outlinewidth": 0,
              "ticks": ""
             }
            },
            "type": "scatterpolar"
           }
          ],
          "scatterpolargl": [
           {
            "marker": {
             "colorbar": {
              "outlinewidth": 0,
              "ticks": ""
             }
            },
            "type": "scatterpolargl"
           }
          ],
          "scatterternary": [
           {
            "marker": {
             "colorbar": {
              "outlinewidth": 0,
              "ticks": ""
             }
            },
            "type": "scatterternary"
           }
          ],
          "surface": [
           {
            "colorbar": {
             "outlinewidth": 0,
             "ticks": ""
            },
            "colorscale": [
             [
              0,
              "#0d0887"
             ],
             [
              0.1111111111111111,
              "#46039f"
             ],
             [
              0.2222222222222222,
              "#7201a8"
             ],
             [
              0.3333333333333333,
              "#9c179e"
             ],
             [
              0.4444444444444444,
              "#bd3786"
             ],
             [
              0.5555555555555556,
              "#d8576b"
             ],
             [
              0.6666666666666666,
              "#ed7953"
             ],
             [
              0.7777777777777778,
              "#fb9f3a"
             ],
             [
              0.8888888888888888,
              "#fdca26"
             ],
             [
              1,
              "#f0f921"
             ]
            ],
            "type": "surface"
           }
          ],
          "table": [
           {
            "cells": {
             "fill": {
              "color": "#EBF0F8"
             },
             "line": {
              "color": "white"
             }
            },
            "header": {
             "fill": {
              "color": "#C8D4E3"
             },
             "line": {
              "color": "white"
             }
            },
            "type": "table"
           }
          ]
         },
         "layout": {
          "annotationdefaults": {
           "arrowcolor": "#2a3f5f",
           "arrowhead": 0,
           "arrowwidth": 1
          },
          "colorscale": {
           "diverging": [
            [
             0,
             "#8e0152"
            ],
            [
             0.1,
             "#c51b7d"
            ],
            [
             0.2,
             "#de77ae"
            ],
            [
             0.3,
             "#f1b6da"
            ],
            [
             0.4,
             "#fde0ef"
            ],
            [
             0.5,
             "#f7f7f7"
            ],
            [
             0.6,
             "#e6f5d0"
            ],
            [
             0.7,
             "#b8e186"
            ],
            [
             0.8,
             "#7fbc41"
            ],
            [
             0.9,
             "#4d9221"
            ],
            [
             1,
             "#276419"
            ]
           ],
           "sequential": [
            [
             0,
             "#0d0887"
            ],
            [
             0.1111111111111111,
             "#46039f"
            ],
            [
             0.2222222222222222,
             "#7201a8"
            ],
            [
             0.3333333333333333,
             "#9c179e"
            ],
            [
             0.4444444444444444,
             "#bd3786"
            ],
            [
             0.5555555555555556,
             "#d8576b"
            ],
            [
             0.6666666666666666,
             "#ed7953"
            ],
            [
             0.7777777777777778,
             "#fb9f3a"
            ],
            [
             0.8888888888888888,
             "#fdca26"
            ],
            [
             1,
             "#f0f921"
            ]
           ],
           "sequentialminus": [
            [
             0,
             "#0d0887"
            ],
            [
             0.1111111111111111,
             "#46039f"
            ],
            [
             0.2222222222222222,
             "#7201a8"
            ],
            [
             0.3333333333333333,
             "#9c179e"
            ],
            [
             0.4444444444444444,
             "#bd3786"
            ],
            [
             0.5555555555555556,
             "#d8576b"
            ],
            [
             0.6666666666666666,
             "#ed7953"
            ],
            [
             0.7777777777777778,
             "#fb9f3a"
            ],
            [
             0.8888888888888888,
             "#fdca26"
            ],
            [
             1,
             "#f0f921"
            ]
           ]
          },
          "colorway": [
           "#636efa",
           "#EF553B",
           "#00cc96",
           "#ab63fa",
           "#FFA15A",
           "#19d3f3",
           "#FF6692",
           "#B6E880",
           "#FF97FF",
           "#FECB52"
          ],
          "font": {
           "color": "#2a3f5f"
          },
          "geo": {
           "bgcolor": "white",
           "lakecolor": "white",
           "landcolor": "#E5ECF6",
           "showlakes": true,
           "showland": true,
           "subunitcolor": "white"
          },
          "hoverlabel": {
           "align": "left"
          },
          "hovermode": "closest",
          "mapbox": {
           "style": "light"
          },
          "paper_bgcolor": "white",
          "plot_bgcolor": "#E5ECF6",
          "polar": {
           "angularaxis": {
            "gridcolor": "white",
            "linecolor": "white",
            "ticks": ""
           },
           "bgcolor": "#E5ECF6",
           "radialaxis": {
            "gridcolor": "white",
            "linecolor": "white",
            "ticks": ""
           }
          },
          "scene": {
           "xaxis": {
            "backgroundcolor": "#E5ECF6",
            "gridcolor": "white",
            "gridwidth": 2,
            "linecolor": "white",
            "showbackground": true,
            "ticks": "",
            "zerolinecolor": "white"
           },
           "yaxis": {
            "backgroundcolor": "#E5ECF6",
            "gridcolor": "white",
            "gridwidth": 2,
            "linecolor": "white",
            "showbackground": true,
            "ticks": "",
            "zerolinecolor": "white"
           },
           "zaxis": {
            "backgroundcolor": "#E5ECF6",
            "gridcolor": "white",
            "gridwidth": 2,
            "linecolor": "white",
            "showbackground": true,
            "ticks": "",
            "zerolinecolor": "white"
           }
          },
          "shapedefaults": {
           "line": {
            "color": "#2a3f5f"
           }
          },
          "ternary": {
           "aaxis": {
            "gridcolor": "white",
            "linecolor": "white",
            "ticks": ""
           },
           "baxis": {
            "gridcolor": "white",
            "linecolor": "white",
            "ticks": ""
           },
           "bgcolor": "#E5ECF6",
           "caxis": {
            "gridcolor": "white",
            "linecolor": "white",
            "ticks": ""
           }
          },
          "title": {
           "x": 0.05
          },
          "xaxis": {
           "automargin": true,
           "gridcolor": "white",
           "linecolor": "white",
           "ticks": "",
           "zerolinecolor": "white",
           "zerolinewidth": 2
          },
          "yaxis": {
           "automargin": true,
           "gridcolor": "white",
           "linecolor": "white",
           "ticks": "",
           "zerolinecolor": "white",
           "zerolinewidth": 2
          }
         }
        },
        "title": {
         "text": "Word count per song by artist"
        },
        "xaxis": {
         "anchor": "y",
         "domain": [
          0,
          0.98
         ],
         "title": {
          "text": "artist"
         }
        },
        "yaxis": {
         "anchor": "x",
         "domain": [
          0,
          1
         ],
         "title": {
          "text": "n_words"
         }
        }
       }
      }
     },
     "metadata": {},
     "output_type": "display_data"
    }
   ],
   "source": [
    "fig = px.box(song_filter_df, x='artist', y='n_words', title='Word count per song by artist')\n",
    "fig.show()"
   ]
  },
  {
   "cell_type": "markdown",
   "metadata": {},
   "source": [
    "### Repeated words"
   ]
  },
  {
   "cell_type": "code",
   "execution_count": 285,
   "metadata": {},
   "outputs": [],
   "source": [
    "# number of unique stems\n",
    "song_df['n_unique_words'] = song_df['words'].map(lambda lst: len(set(lst)))\n",
    "\n",
    "# ratio of unique stems\n",
    "song_df['unique_words_ratio'] = song_df['n_unique_words'] / song_df['n_words']\n",
    "\n",
    "# attach column to selected artists\n",
    "song_filter_df = song_filter_df.join(song_df['unique_words_ratio'])"
   ]
  },
  {
   "cell_type": "code",
   "execution_count": 286,
   "metadata": {},
   "outputs": [
    {
     "data": {
      "application/vnd.plotly.v1+json": {
       "config": {
        "plotlyServerURL": "https://plot.ly"
       },
       "data": [
        {
         "alignmentgroup": "True",
         "hoverlabel": {
          "namelength": 0
         },
         "hovertemplate": "artist=%{x}<br>unique_words_ratio=%{y}",
         "legendgroup": "",
         "marker": {
          "color": "#636efa"
         },
         "name": "",
         "notched": false,
         "offsetgroup": "",
         "orientation": "v",
         "showlegend": false,
         "type": "box",
         "x": [
          "nont_tanont",
          "nont_tanont",
          "nont_tanont",
          "nont_tanont",
          "nont_tanont",
          "nont_tanont",
          "nont_tanont",
          "nont_tanont",
          "nont_tanont",
          "nont_tanont",
          "nont_tanont",
          "nont_tanont",
          "nont_tanont",
          "nont_tanont",
          "nont_tanont",
          "nont_tanont",
          "nont_tanont",
          "nont_tanont",
          "nont_tanont",
          "nont_tanont",
          "nont_tanont",
          "nont_tanont",
          "nont_tanont",
          "nont_tanont",
          "nont_tanont",
          "nont_tanont",
          "nont_tanont",
          "nont_tanont",
          "nont_tanont",
          "nont_tanont",
          "nont_tanont",
          "nont_tanont",
          "nont_tanont",
          "nont_tanont",
          "nont_tanont",
          "nont_tanont",
          "tilly_birds",
          "tilly_birds",
          "tilly_birds",
          "tilly_birds",
          "tilly_birds",
          "tilly_birds",
          "tilly_birds",
          "tilly_birds",
          "tilly_birds",
          "tilly_birds",
          "tilly_birds",
          "tilly_birds",
          "tilly_birds",
          "tilly_birds",
          "tilly_birds",
          "tilly_birds",
          "tilly_birds",
          "tilly_birds",
          "tilly_birds",
          "tilly_birds",
          "tilly_birds",
          "tilly_birds",
          "tilly_birds",
          "tilly_birds",
          "tilly_birds",
          "tilly_birds",
          "tilly_birds",
          "tilly_birds"
         ],
         "x0": " ",
         "xaxis": "x",
         "y": [
          0.5888888888888889,
          0.3786407766990291,
          0.49732620320855614,
          0.3772455089820359,
          0.3277777777777778,
          0.47619047619047616,
          0.3883495145631068,
          0.59375,
          0.37962962962962965,
          0.45901639344262296,
          0.6451612903225806,
          0.4019607843137255,
          0.4444444444444444,
          0.367816091954023,
          0.3723404255319149,
          0.34444444444444444,
          0.3448275862068966,
          0.3482142857142857,
          0.5303030303030303,
          0.4411764705882353,
          0.5285714285714286,
          0.4444444444444444,
          0.5546875,
          0.2827586206896552,
          0.41304347826086957,
          0.3559322033898305,
          0.34545454545454546,
          0.39552238805970147,
          0.3770491803278688,
          0.35106382978723405,
          0.34065934065934067,
          0.5753424657534246,
          0.4418604651162791,
          0.275,
          0.5619834710743802,
          0.5079365079365079,
          0.43243243243243246,
          0.5342465753424658,
          0.5301204819277109,
          0.4067796610169492,
          0.48863636363636365,
          0.5645161290322581,
          0.43884892086330934,
          0.4782608695652174,
          0.32222222222222224,
          0.4072164948453608,
          0.35294117647058826,
          0.6,
          0.3013698630136986,
          0.49557522123893805,
          0.4036697247706422,
          0.5432098765432098,
          0.310126582278481,
          0.3275862068965517,
          0.4520547945205479,
          0.5368421052631579,
          0.32954545454545453,
          0.583941605839416,
          0.2878787878787879,
          0.5555555555555556,
          0.3625,
          0.48,
          0.44360902255639095,
          0.39805825242718446
         ],
         "y0": " ",
         "yaxis": "y"
        }
       ],
       "layout": {
        "boxmode": "group",
        "height": 600,
        "legend": {
         "tracegroupgap": 0
        },
        "template": {
         "data": {
          "bar": [
           {
            "error_x": {
             "color": "#2a3f5f"
            },
            "error_y": {
             "color": "#2a3f5f"
            },
            "marker": {
             "line": {
              "color": "#E5ECF6",
              "width": 0.5
             }
            },
            "type": "bar"
           }
          ],
          "barpolar": [
           {
            "marker": {
             "line": {
              "color": "#E5ECF6",
              "width": 0.5
             }
            },
            "type": "barpolar"
           }
          ],
          "carpet": [
           {
            "aaxis": {
             "endlinecolor": "#2a3f5f",
             "gridcolor": "white",
             "linecolor": "white",
             "minorgridcolor": "white",
             "startlinecolor": "#2a3f5f"
            },
            "baxis": {
             "endlinecolor": "#2a3f5f",
             "gridcolor": "white",
             "linecolor": "white",
             "minorgridcolor": "white",
             "startlinecolor": "#2a3f5f"
            },
            "type": "carpet"
           }
          ],
          "choropleth": [
           {
            "colorbar": {
             "outlinewidth": 0,
             "ticks": ""
            },
            "type": "choropleth"
           }
          ],
          "contour": [
           {
            "colorbar": {
             "outlinewidth": 0,
             "ticks": ""
            },
            "colorscale": [
             [
              0,
              "#0d0887"
             ],
             [
              0.1111111111111111,
              "#46039f"
             ],
             [
              0.2222222222222222,
              "#7201a8"
             ],
             [
              0.3333333333333333,
              "#9c179e"
             ],
             [
              0.4444444444444444,
              "#bd3786"
             ],
             [
              0.5555555555555556,
              "#d8576b"
             ],
             [
              0.6666666666666666,
              "#ed7953"
             ],
             [
              0.7777777777777778,
              "#fb9f3a"
             ],
             [
              0.8888888888888888,
              "#fdca26"
             ],
             [
              1,
              "#f0f921"
             ]
            ],
            "type": "contour"
           }
          ],
          "contourcarpet": [
           {
            "colorbar": {
             "outlinewidth": 0,
             "ticks": ""
            },
            "type": "contourcarpet"
           }
          ],
          "heatmap": [
           {
            "colorbar": {
             "outlinewidth": 0,
             "ticks": ""
            },
            "colorscale": [
             [
              0,
              "#0d0887"
             ],
             [
              0.1111111111111111,
              "#46039f"
             ],
             [
              0.2222222222222222,
              "#7201a8"
             ],
             [
              0.3333333333333333,
              "#9c179e"
             ],
             [
              0.4444444444444444,
              "#bd3786"
             ],
             [
              0.5555555555555556,
              "#d8576b"
             ],
             [
              0.6666666666666666,
              "#ed7953"
             ],
             [
              0.7777777777777778,
              "#fb9f3a"
             ],
             [
              0.8888888888888888,
              "#fdca26"
             ],
             [
              1,
              "#f0f921"
             ]
            ],
            "type": "heatmap"
           }
          ],
          "heatmapgl": [
           {
            "colorbar": {
             "outlinewidth": 0,
             "ticks": ""
            },
            "colorscale": [
             [
              0,
              "#0d0887"
             ],
             [
              0.1111111111111111,
              "#46039f"
             ],
             [
              0.2222222222222222,
              "#7201a8"
             ],
             [
              0.3333333333333333,
              "#9c179e"
             ],
             [
              0.4444444444444444,
              "#bd3786"
             ],
             [
              0.5555555555555556,
              "#d8576b"
             ],
             [
              0.6666666666666666,
              "#ed7953"
             ],
             [
              0.7777777777777778,
              "#fb9f3a"
             ],
             [
              0.8888888888888888,
              "#fdca26"
             ],
             [
              1,
              "#f0f921"
             ]
            ],
            "type": "heatmapgl"
           }
          ],
          "histogram": [
           {
            "marker": {
             "colorbar": {
              "outlinewidth": 0,
              "ticks": ""
             }
            },
            "type": "histogram"
           }
          ],
          "histogram2d": [
           {
            "colorbar": {
             "outlinewidth": 0,
             "ticks": ""
            },
            "colorscale": [
             [
              0,
              "#0d0887"
             ],
             [
              0.1111111111111111,
              "#46039f"
             ],
             [
              0.2222222222222222,
              "#7201a8"
             ],
             [
              0.3333333333333333,
              "#9c179e"
             ],
             [
              0.4444444444444444,
              "#bd3786"
             ],
             [
              0.5555555555555556,
              "#d8576b"
             ],
             [
              0.6666666666666666,
              "#ed7953"
             ],
             [
              0.7777777777777778,
              "#fb9f3a"
             ],
             [
              0.8888888888888888,
              "#fdca26"
             ],
             [
              1,
              "#f0f921"
             ]
            ],
            "type": "histogram2d"
           }
          ],
          "histogram2dcontour": [
           {
            "colorbar": {
             "outlinewidth": 0,
             "ticks": ""
            },
            "colorscale": [
             [
              0,
              "#0d0887"
             ],
             [
              0.1111111111111111,
              "#46039f"
             ],
             [
              0.2222222222222222,
              "#7201a8"
             ],
             [
              0.3333333333333333,
              "#9c179e"
             ],
             [
              0.4444444444444444,
              "#bd3786"
             ],
             [
              0.5555555555555556,
              "#d8576b"
             ],
             [
              0.6666666666666666,
              "#ed7953"
             ],
             [
              0.7777777777777778,
              "#fb9f3a"
             ],
             [
              0.8888888888888888,
              "#fdca26"
             ],
             [
              1,
              "#f0f921"
             ]
            ],
            "type": "histogram2dcontour"
           }
          ],
          "mesh3d": [
           {
            "colorbar": {
             "outlinewidth": 0,
             "ticks": ""
            },
            "type": "mesh3d"
           }
          ],
          "parcoords": [
           {
            "line": {
             "colorbar": {
              "outlinewidth": 0,
              "ticks": ""
             }
            },
            "type": "parcoords"
           }
          ],
          "scatter": [
           {
            "marker": {
             "colorbar": {
              "outlinewidth": 0,
              "ticks": ""
             }
            },
            "type": "scatter"
           }
          ],
          "scatter3d": [
           {
            "line": {
             "colorbar": {
              "outlinewidth": 0,
              "ticks": ""
             }
            },
            "marker": {
             "colorbar": {
              "outlinewidth": 0,
              "ticks": ""
             }
            },
            "type": "scatter3d"
           }
          ],
          "scattercarpet": [
           {
            "marker": {
             "colorbar": {
              "outlinewidth": 0,
              "ticks": ""
             }
            },
            "type": "scattercarpet"
           }
          ],
          "scattergeo": [
           {
            "marker": {
             "colorbar": {
              "outlinewidth": 0,
              "ticks": ""
             }
            },
            "type": "scattergeo"
           }
          ],
          "scattergl": [
           {
            "marker": {
             "colorbar": {
              "outlinewidth": 0,
              "ticks": ""
             }
            },
            "type": "scattergl"
           }
          ],
          "scattermapbox": [
           {
            "marker": {
             "colorbar": {
              "outlinewidth": 0,
              "ticks": ""
             }
            },
            "type": "scattermapbox"
           }
          ],
          "scatterpolar": [
           {
            "marker": {
             "colorbar": {
              "outlinewidth": 0,
              "ticks": ""
             }
            },
            "type": "scatterpolar"
           }
          ],
          "scatterpolargl": [
           {
            "marker": {
             "colorbar": {
              "outlinewidth": 0,
              "ticks": ""
             }
            },
            "type": "scatterpolargl"
           }
          ],
          "scatterternary": [
           {
            "marker": {
             "colorbar": {
              "outlinewidth": 0,
              "ticks": ""
             }
            },
            "type": "scatterternary"
           }
          ],
          "surface": [
           {
            "colorbar": {
             "outlinewidth": 0,
             "ticks": ""
            },
            "colorscale": [
             [
              0,
              "#0d0887"
             ],
             [
              0.1111111111111111,
              "#46039f"
             ],
             [
              0.2222222222222222,
              "#7201a8"
             ],
             [
              0.3333333333333333,
              "#9c179e"
             ],
             [
              0.4444444444444444,
              "#bd3786"
             ],
             [
              0.5555555555555556,
              "#d8576b"
             ],
             [
              0.6666666666666666,
              "#ed7953"
             ],
             [
              0.7777777777777778,
              "#fb9f3a"
             ],
             [
              0.8888888888888888,
              "#fdca26"
             ],
             [
              1,
              "#f0f921"
             ]
            ],
            "type": "surface"
           }
          ],
          "table": [
           {
            "cells": {
             "fill": {
              "color": "#EBF0F8"
             },
             "line": {
              "color": "white"
             }
            },
            "header": {
             "fill": {
              "color": "#C8D4E3"
             },
             "line": {
              "color": "white"
             }
            },
            "type": "table"
           }
          ]
         },
         "layout": {
          "annotationdefaults": {
           "arrowcolor": "#2a3f5f",
           "arrowhead": 0,
           "arrowwidth": 1
          },
          "colorscale": {
           "diverging": [
            [
             0,
             "#8e0152"
            ],
            [
             0.1,
             "#c51b7d"
            ],
            [
             0.2,
             "#de77ae"
            ],
            [
             0.3,
             "#f1b6da"
            ],
            [
             0.4,
             "#fde0ef"
            ],
            [
             0.5,
             "#f7f7f7"
            ],
            [
             0.6,
             "#e6f5d0"
            ],
            [
             0.7,
             "#b8e186"
            ],
            [
             0.8,
             "#7fbc41"
            ],
            [
             0.9,
             "#4d9221"
            ],
            [
             1,
             "#276419"
            ]
           ],
           "sequential": [
            [
             0,
             "#0d0887"
            ],
            [
             0.1111111111111111,
             "#46039f"
            ],
            [
             0.2222222222222222,
             "#7201a8"
            ],
            [
             0.3333333333333333,
             "#9c179e"
            ],
            [
             0.4444444444444444,
             "#bd3786"
            ],
            [
             0.5555555555555556,
             "#d8576b"
            ],
            [
             0.6666666666666666,
             "#ed7953"
            ],
            [
             0.7777777777777778,
             "#fb9f3a"
            ],
            [
             0.8888888888888888,
             "#fdca26"
            ],
            [
             1,
             "#f0f921"
            ]
           ],
           "sequentialminus": [
            [
             0,
             "#0d0887"
            ],
            [
             0.1111111111111111,
             "#46039f"
            ],
            [
             0.2222222222222222,
             "#7201a8"
            ],
            [
             0.3333333333333333,
             "#9c179e"
            ],
            [
             0.4444444444444444,
             "#bd3786"
            ],
            [
             0.5555555555555556,
             "#d8576b"
            ],
            [
             0.6666666666666666,
             "#ed7953"
            ],
            [
             0.7777777777777778,
             "#fb9f3a"
            ],
            [
             0.8888888888888888,
             "#fdca26"
            ],
            [
             1,
             "#f0f921"
            ]
           ]
          },
          "colorway": [
           "#636efa",
           "#EF553B",
           "#00cc96",
           "#ab63fa",
           "#FFA15A",
           "#19d3f3",
           "#FF6692",
           "#B6E880",
           "#FF97FF",
           "#FECB52"
          ],
          "font": {
           "color": "#2a3f5f"
          },
          "geo": {
           "bgcolor": "white",
           "lakecolor": "white",
           "landcolor": "#E5ECF6",
           "showlakes": true,
           "showland": true,
           "subunitcolor": "white"
          },
          "hoverlabel": {
           "align": "left"
          },
          "hovermode": "closest",
          "mapbox": {
           "style": "light"
          },
          "paper_bgcolor": "white",
          "plot_bgcolor": "#E5ECF6",
          "polar": {
           "angularaxis": {
            "gridcolor": "white",
            "linecolor": "white",
            "ticks": ""
           },
           "bgcolor": "#E5ECF6",
           "radialaxis": {
            "gridcolor": "white",
            "linecolor": "white",
            "ticks": ""
           }
          },
          "scene": {
           "xaxis": {
            "backgroundcolor": "#E5ECF6",
            "gridcolor": "white",
            "gridwidth": 2,
            "linecolor": "white",
            "showbackground": true,
            "ticks": "",
            "zerolinecolor": "white"
           },
           "yaxis": {
            "backgroundcolor": "#E5ECF6",
            "gridcolor": "white",
            "gridwidth": 2,
            "linecolor": "white",
            "showbackground": true,
            "ticks": "",
            "zerolinecolor": "white"
           },
           "zaxis": {
            "backgroundcolor": "#E5ECF6",
            "gridcolor": "white",
            "gridwidth": 2,
            "linecolor": "white",
            "showbackground": true,
            "ticks": "",
            "zerolinecolor": "white"
           }
          },
          "shapedefaults": {
           "line": {
            "color": "#2a3f5f"
           }
          },
          "ternary": {
           "aaxis": {
            "gridcolor": "white",
            "linecolor": "white",
            "ticks": ""
           },
           "baxis": {
            "gridcolor": "white",
            "linecolor": "white",
            "ticks": ""
           },
           "bgcolor": "#E5ECF6",
           "caxis": {
            "gridcolor": "white",
            "linecolor": "white",
            "ticks": ""
           }
          },
          "title": {
           "x": 0.05
          },
          "xaxis": {
           "automargin": true,
           "gridcolor": "white",
           "linecolor": "white",
           "ticks": "",
           "zerolinecolor": "white",
           "zerolinewidth": 2
          },
          "yaxis": {
           "automargin": true,
           "gridcolor": "white",
           "linecolor": "white",
           "ticks": "",
           "zerolinecolor": "white",
           "zerolinewidth": 2
          }
         }
        },
        "title": {
         "text": "Ratio of unique words to all words"
        },
        "xaxis": {
         "anchor": "y",
         "domain": [
          0,
          0.98
         ],
         "title": {
          "text": "artist"
         }
        },
        "yaxis": {
         "anchor": "x",
         "domain": [
          0,
          1
         ],
         "title": {
          "text": "unique_words_ratio"
         }
        }
       }
      }
     },
     "metadata": {},
     "output_type": "display_data"
    }
   ],
   "source": [
    "fig = px.box(song_filter_df, x='artist', y='unique_words_ratio', title='Ratio of unique words to all words')\n",
    "fig.show()"
   ]
  },
  {
   "cell_type": "markdown",
   "metadata": {},
   "source": [
    "### Words per line"
   ]
  },
  {
   "cell_type": "code",
   "execution_count": 287,
   "metadata": {},
   "outputs": [],
   "source": [
    "# calculate number of words per line\n",
    "song_df['words_per_line'] = song_df['n_words'] / song_df['lines'].astype(float)\n",
    "\n",
    "song_filter_df = song_filter_df.join(song_df['words_per_line'])"
   ]
  },
  {
   "cell_type": "code",
   "execution_count": 288,
   "metadata": {},
   "outputs": [
    {
     "data": {
      "application/vnd.plotly.v1+json": {
       "config": {
        "plotlyServerURL": "https://plot.ly"
       },
       "data": [
        {
         "alignmentgroup": "True",
         "hoverlabel": {
          "namelength": 0
         },
         "hovertemplate": "artist=%{x}<br>words_per_line=%{y}",
         "legendgroup": "",
         "marker": {
          "color": "#636efa"
         },
         "name": "",
         "notched": false,
         "offsetgroup": "",
         "orientation": "v",
         "showlegend": false,
         "type": "box",
         "x": [
          "nont_tanont",
          "nont_tanont",
          "nont_tanont",
          "nont_tanont",
          "nont_tanont",
          "nont_tanont",
          "nont_tanont",
          "nont_tanont",
          "nont_tanont",
          "nont_tanont",
          "nont_tanont",
          "nont_tanont",
          "nont_tanont",
          "nont_tanont",
          "nont_tanont",
          "nont_tanont",
          "nont_tanont",
          "nont_tanont",
          "nont_tanont",
          "nont_tanont",
          "nont_tanont",
          "nont_tanont",
          "nont_tanont",
          "nont_tanont",
          "nont_tanont",
          "nont_tanont",
          "nont_tanont",
          "nont_tanont",
          "nont_tanont",
          "nont_tanont",
          "nont_tanont",
          "nont_tanont",
          "nont_tanont",
          "nont_tanont",
          "nont_tanont",
          "nont_tanont",
          "tilly_birds",
          "tilly_birds",
          "tilly_birds",
          "tilly_birds",
          "tilly_birds",
          "tilly_birds",
          "tilly_birds",
          "tilly_birds",
          "tilly_birds",
          "tilly_birds",
          "tilly_birds",
          "tilly_birds",
          "tilly_birds",
          "tilly_birds",
          "tilly_birds",
          "tilly_birds",
          "tilly_birds",
          "tilly_birds",
          "tilly_birds",
          "tilly_birds",
          "tilly_birds",
          "tilly_birds",
          "tilly_birds",
          "tilly_birds",
          "tilly_birds",
          "tilly_birds",
          "tilly_birds",
          "tilly_birds"
         ],
         "x0": " ",
         "xaxis": "x",
         "y": [
          2.0930232558139537,
          2.340909090909091,
          5.054054054054054,
          2.168831168831169,
          2.769230769230769,
          2.4705882352941178,
          3.5517241379310347,
          2.2857142857142856,
          2.297872340425532,
          2.033333333333333,
          4.65,
          2.7567567567567566,
          2.3684210526315788,
          2.230769230769231,
          2,
          2.25,
          2.4166666666666665,
          1.9310344827586208,
          2.4444444444444446,
          1.9428571428571428,
          1.8918918918918919,
          1.894736842105263,
          3.878787878787879,
          1.686046511627907,
          2.6285714285714286,
          1.5526315789473684,
          2.2,
          2.09375,
          1.7428571428571429,
          2.186046511627907,
          3.033333333333333,
          3.3181818181818183,
          1.8695652173913044,
          2.2535211267605635,
          3.903225806451613,
          1.8529411764705883,
          1.6818181818181819,
          2.0277777777777777,
          2.128205128205128,
          1.9666666666666666,
          1.872340425531915,
          1.3191489361702127,
          1.904109589041096,
          0.8961038961038961,
          1.7307692307692308,
          2.732394366197183,
          1.7708333333333333,
          1.0975609756097562,
          2.1470588235294117,
          2.215686274509804,
          1.5571428571428572,
          1.8837209302325582,
          1.6631578947368422,
          2.36734693877551,
          1.9466666666666668,
          1.9387755102040816,
          1.5714285714285714,
          1.9295774647887325,
          1.9411764705882353,
          1.08,
          1.5686274509803921,
          2.4193548387096775,
          2.891304347826087,
          1.8070175438596492
         ],
         "y0": " ",
         "yaxis": "y"
        }
       ],
       "layout": {
        "boxmode": "group",
        "height": 600,
        "legend": {
         "tracegroupgap": 0
        },
        "template": {
         "data": {
          "bar": [
           {
            "error_x": {
             "color": "#2a3f5f"
            },
            "error_y": {
             "color": "#2a3f5f"
            },
            "marker": {
             "line": {
              "color": "#E5ECF6",
              "width": 0.5
             }
            },
            "type": "bar"
           }
          ],
          "barpolar": [
           {
            "marker": {
             "line": {
              "color": "#E5ECF6",
              "width": 0.5
             }
            },
            "type": "barpolar"
           }
          ],
          "carpet": [
           {
            "aaxis": {
             "endlinecolor": "#2a3f5f",
             "gridcolor": "white",
             "linecolor": "white",
             "minorgridcolor": "white",
             "startlinecolor": "#2a3f5f"
            },
            "baxis": {
             "endlinecolor": "#2a3f5f",
             "gridcolor": "white",
             "linecolor": "white",
             "minorgridcolor": "white",
             "startlinecolor": "#2a3f5f"
            },
            "type": "carpet"
           }
          ],
          "choropleth": [
           {
            "colorbar": {
             "outlinewidth": 0,
             "ticks": ""
            },
            "type": "choropleth"
           }
          ],
          "contour": [
           {
            "colorbar": {
             "outlinewidth": 0,
             "ticks": ""
            },
            "colorscale": [
             [
              0,
              "#0d0887"
             ],
             [
              0.1111111111111111,
              "#46039f"
             ],
             [
              0.2222222222222222,
              "#7201a8"
             ],
             [
              0.3333333333333333,
              "#9c179e"
             ],
             [
              0.4444444444444444,
              "#bd3786"
             ],
             [
              0.5555555555555556,
              "#d8576b"
             ],
             [
              0.6666666666666666,
              "#ed7953"
             ],
             [
              0.7777777777777778,
              "#fb9f3a"
             ],
             [
              0.8888888888888888,
              "#fdca26"
             ],
             [
              1,
              "#f0f921"
             ]
            ],
            "type": "contour"
           }
          ],
          "contourcarpet": [
           {
            "colorbar": {
             "outlinewidth": 0,
             "ticks": ""
            },
            "type": "contourcarpet"
           }
          ],
          "heatmap": [
           {
            "colorbar": {
             "outlinewidth": 0,
             "ticks": ""
            },
            "colorscale": [
             [
              0,
              "#0d0887"
             ],
             [
              0.1111111111111111,
              "#46039f"
             ],
             [
              0.2222222222222222,
              "#7201a8"
             ],
             [
              0.3333333333333333,
              "#9c179e"
             ],
             [
              0.4444444444444444,
              "#bd3786"
             ],
             [
              0.5555555555555556,
              "#d8576b"
             ],
             [
              0.6666666666666666,
              "#ed7953"
             ],
             [
              0.7777777777777778,
              "#fb9f3a"
             ],
             [
              0.8888888888888888,
              "#fdca26"
             ],
             [
              1,
              "#f0f921"
             ]
            ],
            "type": "heatmap"
           }
          ],
          "heatmapgl": [
           {
            "colorbar": {
             "outlinewidth": 0,
             "ticks": ""
            },
            "colorscale": [
             [
              0,
              "#0d0887"
             ],
             [
              0.1111111111111111,
              "#46039f"
             ],
             [
              0.2222222222222222,
              "#7201a8"
             ],
             [
              0.3333333333333333,
              "#9c179e"
             ],
             [
              0.4444444444444444,
              "#bd3786"
             ],
             [
              0.5555555555555556,
              "#d8576b"
             ],
             [
              0.6666666666666666,
              "#ed7953"
             ],
             [
              0.7777777777777778,
              "#fb9f3a"
             ],
             [
              0.8888888888888888,
              "#fdca26"
             ],
             [
              1,
              "#f0f921"
             ]
            ],
            "type": "heatmapgl"
           }
          ],
          "histogram": [
           {
            "marker": {
             "colorbar": {
              "outlinewidth": 0,
              "ticks": ""
             }
            },
            "type": "histogram"
           }
          ],
          "histogram2d": [
           {
            "colorbar": {
             "outlinewidth": 0,
             "ticks": ""
            },
            "colorscale": [
             [
              0,
              "#0d0887"
             ],
             [
              0.1111111111111111,
              "#46039f"
             ],
             [
              0.2222222222222222,
              "#7201a8"
             ],
             [
              0.3333333333333333,
              "#9c179e"
             ],
             [
              0.4444444444444444,
              "#bd3786"
             ],
             [
              0.5555555555555556,
              "#d8576b"
             ],
             [
              0.6666666666666666,
              "#ed7953"
             ],
             [
              0.7777777777777778,
              "#fb9f3a"
             ],
             [
              0.8888888888888888,
              "#fdca26"
             ],
             [
              1,
              "#f0f921"
             ]
            ],
            "type": "histogram2d"
           }
          ],
          "histogram2dcontour": [
           {
            "colorbar": {
             "outlinewidth": 0,
             "ticks": ""
            },
            "colorscale": [
             [
              0,
              "#0d0887"
             ],
             [
              0.1111111111111111,
              "#46039f"
             ],
             [
              0.2222222222222222,
              "#7201a8"
             ],
             [
              0.3333333333333333,
              "#9c179e"
             ],
             [
              0.4444444444444444,
              "#bd3786"
             ],
             [
              0.5555555555555556,
              "#d8576b"
             ],
             [
              0.6666666666666666,
              "#ed7953"
             ],
             [
              0.7777777777777778,
              "#fb9f3a"
             ],
             [
              0.8888888888888888,
              "#fdca26"
             ],
             [
              1,
              "#f0f921"
             ]
            ],
            "type": "histogram2dcontour"
           }
          ],
          "mesh3d": [
           {
            "colorbar": {
             "outlinewidth": 0,
             "ticks": ""
            },
            "type": "mesh3d"
           }
          ],
          "parcoords": [
           {
            "line": {
             "colorbar": {
              "outlinewidth": 0,
              "ticks": ""
             }
            },
            "type": "parcoords"
           }
          ],
          "scatter": [
           {
            "marker": {
             "colorbar": {
              "outlinewidth": 0,
              "ticks": ""
             }
            },
            "type": "scatter"
           }
          ],
          "scatter3d": [
           {
            "line": {
             "colorbar": {
              "outlinewidth": 0,
              "ticks": ""
             }
            },
            "marker": {
             "colorbar": {
              "outlinewidth": 0,
              "ticks": ""
             }
            },
            "type": "scatter3d"
           }
          ],
          "scattercarpet": [
           {
            "marker": {
             "colorbar": {
              "outlinewidth": 0,
              "ticks": ""
             }
            },
            "type": "scattercarpet"
           }
          ],
          "scattergeo": [
           {
            "marker": {
             "colorbar": {
              "outlinewidth": 0,
              "ticks": ""
             }
            },
            "type": "scattergeo"
           }
          ],
          "scattergl": [
           {
            "marker": {
             "colorbar": {
              "outlinewidth": 0,
              "ticks": ""
             }
            },
            "type": "scattergl"
           }
          ],
          "scattermapbox": [
           {
            "marker": {
             "colorbar": {
              "outlinewidth": 0,
              "ticks": ""
             }
            },
            "type": "scattermapbox"
           }
          ],
          "scatterpolar": [
           {
            "marker": {
             "colorbar": {
              "outlinewidth": 0,
              "ticks": ""
             }
            },
            "type": "scatterpolar"
           }
          ],
          "scatterpolargl": [
           {
            "marker": {
             "colorbar": {
              "outlinewidth": 0,
              "ticks": ""
             }
            },
            "type": "scatterpolargl"
           }
          ],
          "scatterternary": [
           {
            "marker": {
             "colorbar": {
              "outlinewidth": 0,
              "ticks": ""
             }
            },
            "type": "scatterternary"
           }
          ],
          "surface": [
           {
            "colorbar": {
             "outlinewidth": 0,
             "ticks": ""
            },
            "colorscale": [
             [
              0,
              "#0d0887"
             ],
             [
              0.1111111111111111,
              "#46039f"
             ],
             [
              0.2222222222222222,
              "#7201a8"
             ],
             [
              0.3333333333333333,
              "#9c179e"
             ],
             [
              0.4444444444444444,
              "#bd3786"
             ],
             [
              0.5555555555555556,
              "#d8576b"
             ],
             [
              0.6666666666666666,
              "#ed7953"
             ],
             [
              0.7777777777777778,
              "#fb9f3a"
             ],
             [
              0.8888888888888888,
              "#fdca26"
             ],
             [
              1,
              "#f0f921"
             ]
            ],
            "type": "surface"
           }
          ],
          "table": [
           {
            "cells": {
             "fill": {
              "color": "#EBF0F8"
             },
             "line": {
              "color": "white"
             }
            },
            "header": {
             "fill": {
              "color": "#C8D4E3"
             },
             "line": {
              "color": "white"
             }
            },
            "type": "table"
           }
          ]
         },
         "layout": {
          "annotationdefaults": {
           "arrowcolor": "#2a3f5f",
           "arrowhead": 0,
           "arrowwidth": 1
          },
          "colorscale": {
           "diverging": [
            [
             0,
             "#8e0152"
            ],
            [
             0.1,
             "#c51b7d"
            ],
            [
             0.2,
             "#de77ae"
            ],
            [
             0.3,
             "#f1b6da"
            ],
            [
             0.4,
             "#fde0ef"
            ],
            [
             0.5,
             "#f7f7f7"
            ],
            [
             0.6,
             "#e6f5d0"
            ],
            [
             0.7,
             "#b8e186"
            ],
            [
             0.8,
             "#7fbc41"
            ],
            [
             0.9,
             "#4d9221"
            ],
            [
             1,
             "#276419"
            ]
           ],
           "sequential": [
            [
             0,
             "#0d0887"
            ],
            [
             0.1111111111111111,
             "#46039f"
            ],
            [
             0.2222222222222222,
             "#7201a8"
            ],
            [
             0.3333333333333333,
             "#9c179e"
            ],
            [
             0.4444444444444444,
             "#bd3786"
            ],
            [
             0.5555555555555556,
             "#d8576b"
            ],
            [
             0.6666666666666666,
             "#ed7953"
            ],
            [
             0.7777777777777778,
             "#fb9f3a"
            ],
            [
             0.8888888888888888,
             "#fdca26"
            ],
            [
             1,
             "#f0f921"
            ]
           ],
           "sequentialminus": [
            [
             0,
             "#0d0887"
            ],
            [
             0.1111111111111111,
             "#46039f"
            ],
            [
             0.2222222222222222,
             "#7201a8"
            ],
            [
             0.3333333333333333,
             "#9c179e"
            ],
            [
             0.4444444444444444,
             "#bd3786"
            ],
            [
             0.5555555555555556,
             "#d8576b"
            ],
            [
             0.6666666666666666,
             "#ed7953"
            ],
            [
             0.7777777777777778,
             "#fb9f3a"
            ],
            [
             0.8888888888888888,
             "#fdca26"
            ],
            [
             1,
             "#f0f921"
            ]
           ]
          },
          "colorway": [
           "#636efa",
           "#EF553B",
           "#00cc96",
           "#ab63fa",
           "#FFA15A",
           "#19d3f3",
           "#FF6692",
           "#B6E880",
           "#FF97FF",
           "#FECB52"
          ],
          "font": {
           "color": "#2a3f5f"
          },
          "geo": {
           "bgcolor": "white",
           "lakecolor": "white",
           "landcolor": "#E5ECF6",
           "showlakes": true,
           "showland": true,
           "subunitcolor": "white"
          },
          "hoverlabel": {
           "align": "left"
          },
          "hovermode": "closest",
          "mapbox": {
           "style": "light"
          },
          "paper_bgcolor": "white",
          "plot_bgcolor": "#E5ECF6",
          "polar": {
           "angularaxis": {
            "gridcolor": "white",
            "linecolor": "white",
            "ticks": ""
           },
           "bgcolor": "#E5ECF6",
           "radialaxis": {
            "gridcolor": "white",
            "linecolor": "white",
            "ticks": ""
           }
          },
          "scene": {
           "xaxis": {
            "backgroundcolor": "#E5ECF6",
            "gridcolor": "white",
            "gridwidth": 2,
            "linecolor": "white",
            "showbackground": true,
            "ticks": "",
            "zerolinecolor": "white"
           },
           "yaxis": {
            "backgroundcolor": "#E5ECF6",
            "gridcolor": "white",
            "gridwidth": 2,
            "linecolor": "white",
            "showbackground": true,
            "ticks": "",
            "zerolinecolor": "white"
           },
           "zaxis": {
            "backgroundcolor": "#E5ECF6",
            "gridcolor": "white",
            "gridwidth": 2,
            "linecolor": "white",
            "showbackground": true,
            "ticks": "",
            "zerolinecolor": "white"
           }
          },
          "shapedefaults": {
           "line": {
            "color": "#2a3f5f"
           }
          },
          "ternary": {
           "aaxis": {
            "gridcolor": "white",
            "linecolor": "white",
            "ticks": ""
           },
           "baxis": {
            "gridcolor": "white",
            "linecolor": "white",
            "ticks": ""
           },
           "bgcolor": "#E5ECF6",
           "caxis": {
            "gridcolor": "white",
            "linecolor": "white",
            "ticks": ""
           }
          },
          "title": {
           "x": 0.05
          },
          "xaxis": {
           "automargin": true,
           "gridcolor": "white",
           "linecolor": "white",
           "ticks": "",
           "zerolinecolor": "white",
           "zerolinewidth": 2
          },
          "yaxis": {
           "automargin": true,
           "gridcolor": "white",
           "linecolor": "white",
           "ticks": "",
           "zerolinecolor": "white",
           "zerolinewidth": 2
          }
         }
        },
        "title": {
         "text": "Words per line"
        },
        "xaxis": {
         "anchor": "y",
         "domain": [
          0,
          0.98
         ],
         "title": {
          "text": "artist"
         }
        },
        "yaxis": {
         "anchor": "x",
         "domain": [
          0,
          1
         ],
         "title": {
          "text": "words_per_line"
         }
        }
       }
      }
     },
     "metadata": {},
     "output_type": "display_data"
    }
   ],
   "source": [
    "fig = px.box(song_filter_df, x='artist', y='words_per_line', title='Words per line')\n",
    "fig.show()"
   ]
  },
  {
   "cell_type": "markdown",
   "metadata": {},
   "source": [
    "## TFIDF"
   ]
  },
  {
   "cell_type": "code",
   "execution_count": 436,
   "metadata": {},
   "outputs": [],
   "source": [
    "from sklearn.feature_extraction.text import CountVectorizer"
   ]
  },
  {
   "cell_type": "code",
   "execution_count": 437,
   "metadata": {},
   "outputs": [],
   "source": [
    "# sample_song = [','.join(tkn) for tkn in song_df['words'][0]]\n",
    "cvec = CountVectorizer(analyzer=lambda x:x.split(','))\n",
    "tran_vect = cvec.fit_transform(song_df['words'][0])"
   ]
  },
  {
   "cell_type": "code",
   "execution_count": 438,
   "metadata": {},
   "outputs": [
    {
     "data": {
      "text/plain": [
       "{'ดึกดื่น': 10,\n",
       " 'คืน': 4,\n",
       " 'ใด': 40,\n",
       " 'ฟ้า': 14,\n",
       " 'เดือน': 29,\n",
       " 'เจอะ': 27,\n",
       " 'เจอกัน': 26,\n",
       " 'รู้': 17,\n",
       " 'หาย': 21,\n",
       " 'หมอก': 20,\n",
       " 'ฉาก': 7,\n",
       " 'แผ่น': 38,\n",
       " 'บัง': 12,\n",
       " 'เอาไว้': 37,\n",
       " 'ความห่างไกล': 3,\n",
       " 'มองไม่เห็น': 15,\n",
       " 'ส่องแสง': 19,\n",
       " 'ฉาย': 8,\n",
       " 'ลงมา': 18,\n",
       " 'ห่างหาย': 24,\n",
       " 'ค่ำ': 6,\n",
       " 'คืนนี้': 5,\n",
       " 'เมฆหมอก': 32,\n",
       " 'เต็มดวง': 30,\n",
       " 'ห่าง': 23,\n",
       " 'เหมือนเคย': 35,\n",
       " 'เจอะกัน': 28,\n",
       " 'ไหม': 42,\n",
       " 'ไกลตา': 41,\n",
       " 'ห่วงใย': 22,\n",
       " 'เหมือนเดิม': 36,\n",
       " 'เสมอ': 33,\n",
       " 'เปลี่ยนไป': 31,\n",
       " 'รัก': 16,\n",
       " 'ถึงกัน': 11,\n",
       " 'เจอ': 25,\n",
       " 'คงเดิม': 1,\n",
       " 'กาย': 0,\n",
       " 'ความรัก': 2,\n",
       " 'ใจ': 39,\n",
       " 'เหมือน': 34,\n",
       " 'พระจันทร์': 13,\n",
       " 'ดวง': 9}"
      ]
     },
     "execution_count": 438,
     "metadata": {},
     "output_type": "execute_result"
    }
   ],
   "source": [
    "cvec.vocabulary_"
   ]
  },
  {
   "cell_type": "code",
   "execution_count": 358,
   "metadata": {},
   "outputs": [
    {
     "data": {
      "text/plain": [
       "<75x43 sparse matrix of type '<class 'numpy.int64'>'\n",
       "\twith 75 stored elements in Compressed Sparse Row format>"
      ]
     },
     "execution_count": 358,
     "metadata": {},
     "output_type": "execute_result"
    }
   ],
   "source": [
    "tran_vect"
   ]
  },
  {
   "cell_type": "code",
   "execution_count": 359,
   "metadata": {},
   "outputs": [
    {
     "data": {
      "text/plain": [
       "43"
      ]
     },
     "execution_count": 359,
     "metadata": {},
     "output_type": "execute_result"
    }
   ],
   "source": [
    "len(cvec.vocabulary_)"
   ]
  },
  {
   "cell_type": "code",
   "execution_count": 390,
   "metadata": {},
   "outputs": [],
   "source": [
    "tvec2 = TfidfVectorizer(analyzer=lambda x:x.split(','))\n",
    "t_feat2 = tvec2.fit_transform(song_df['words'][0])"
   ]
  },
  {
   "cell_type": "code",
   "execution_count": 409,
   "metadata": {},
   "outputs": [
    {
     "data": {
      "text/plain": [
       "array([4.63758616, 4.63758616, 4.23212105, 4.63758616, 4.63758616,\n",
       "       3.94443898, 3.94443898, 4.63758616, 4.63758616, 4.63758616,\n",
       "       4.63758616, 4.23212105, 3.94443898, 4.63758616, 3.94443898,\n",
       "       4.63758616, 4.23212105, 3.13350876, 4.63758616, 4.63758616,\n",
       "       4.63758616, 4.23212105, 4.63758616, 4.63758616, 4.63758616,\n",
       "       4.23212105, 4.63758616, 4.23212105, 4.63758616, 3.94443898,\n",
       "       4.23212105, 3.72129543, 4.63758616, 3.94443898, 4.23212105,\n",
       "       4.63758616, 4.63758616, 4.63758616, 4.23212105, 4.23212105,\n",
       "       4.63758616, 4.63758616, 4.63758616])"
      ]
     },
     "execution_count": 409,
     "metadata": {},
     "output_type": "execute_result"
    }
   ],
   "source": [
    "tvec2.idf_"
   ]
  },
  {
   "cell_type": "code",
   "execution_count": 415,
   "metadata": {},
   "outputs": [
    {
     "data": {
      "text/plain": [
       "(75, 43)"
      ]
     },
     "execution_count": 415,
     "metadata": {},
     "output_type": "execute_result"
    }
   ],
   "source": [
    "t_feat2.shape"
   ]
  },
  {
   "cell_type": "code",
   "execution_count": 424,
   "metadata": {},
   "outputs": [
    {
     "data": {
      "text/plain": [
       "array([[0., 0., 0., ..., 0., 0., 0.],\n",
       "       [0., 0., 0., ..., 0., 0., 0.],\n",
       "       [0., 0., 0., ..., 1., 0., 0.],\n",
       "       ...,\n",
       "       [0., 0., 0., ..., 0., 0., 0.],\n",
       "       [0., 0., 0., ..., 0., 0., 0.],\n",
       "       [0., 0., 0., ..., 0., 0., 0.]])"
      ]
     },
     "execution_count": 424,
     "metadata": {},
     "output_type": "execute_result"
    }
   ],
   "source": [
    "t_feat2.toarray()"
   ]
  },
  {
   "cell_type": "code",
   "execution_count": 430,
   "metadata": {},
   "outputs": [
    {
     "data": {
      "text/plain": [
       "matrix([[0., 0., 0., 0., 0.],\n",
       "        [0., 0., 0., 0., 1.],\n",
       "        [0., 0., 0., 0., 0.],\n",
       "        [0., 0., 0., 0., 0.],\n",
       "        [0., 0., 0., 0., 0.],\n",
       "        [0., 0., 0., 0., 0.],\n",
       "        [0., 0., 0., 0., 0.],\n",
       "        [0., 0., 0., 0., 0.],\n",
       "        [0., 0., 0., 0., 0.],\n",
       "        [0., 0., 0., 0., 0.],\n",
       "        [0., 0., 0., 0., 0.],\n",
       "        [0., 0., 0., 0., 0.],\n",
       "        [0., 0., 0., 0., 0.],\n",
       "        [0., 0., 0., 0., 0.],\n",
       "        [0., 0., 0., 0., 0.],\n",
       "        [0., 0., 0., 1., 0.],\n",
       "        [0., 0., 0., 0., 0.],\n",
       "        [0., 0., 0., 0., 0.],\n",
       "        [0., 0., 0., 0., 0.],\n",
       "        [0., 0., 0., 0., 0.],\n",
       "        [0., 0., 0., 0., 0.],\n",
       "        [0., 0., 0., 0., 0.],\n",
       "        [0., 0., 0., 0., 0.],\n",
       "        [0., 0., 0., 0., 0.],\n",
       "        [0., 0., 0., 0., 0.],\n",
       "        [0., 0., 0., 0., 0.],\n",
       "        [0., 0., 0., 0., 0.],\n",
       "        [0., 0., 0., 0., 0.],\n",
       "        [0., 0., 0., 0., 0.],\n",
       "        [0., 0., 0., 0., 0.],\n",
       "        [0., 0., 0., 0., 0.],\n",
       "        [0., 0., 0., 0., 0.],\n",
       "        [0., 0., 0., 0., 0.],\n",
       "        [0., 0., 0., 0., 0.],\n",
       "        [0., 0., 0., 0., 0.],\n",
       "        [0., 0., 0., 0., 0.],\n",
       "        [0., 0., 0., 0., 0.],\n",
       "        [0., 0., 0., 0., 0.],\n",
       "        [0., 0., 0., 0., 0.],\n",
       "        [0., 0., 0., 0., 0.],\n",
       "        [0., 0., 0., 0., 0.],\n",
       "        [0., 0., 0., 0., 0.],\n",
       "        [0., 0., 0., 0., 0.],\n",
       "        [0., 0., 0., 0., 0.],\n",
       "        [0., 0., 0., 0., 0.],\n",
       "        [0., 0., 0., 0., 0.],\n",
       "        [0., 0., 0., 0., 0.],\n",
       "        [0., 0., 0., 0., 0.],\n",
       "        [0., 0., 0., 0., 0.],\n",
       "        [0., 0., 0., 0., 0.],\n",
       "        [0., 0., 0., 0., 0.],\n",
       "        [0., 0., 0., 0., 0.],\n",
       "        [0., 1., 0., 0., 0.],\n",
       "        [0., 0., 0., 0., 0.],\n",
       "        [0., 0., 0., 0., 0.],\n",
       "        [0., 0., 0., 0., 0.],\n",
       "        [0., 0., 0., 0., 0.],\n",
       "        [0., 0., 0., 0., 0.],\n",
       "        [0., 0., 0., 0., 0.],\n",
       "        [0., 0., 0., 0., 0.],\n",
       "        [0., 0., 0., 0., 0.],\n",
       "        [1., 0., 0., 0., 0.],\n",
       "        [0., 0., 0., 0., 0.],\n",
       "        [0., 0., 0., 0., 0.],\n",
       "        [0., 0., 1., 0., 0.],\n",
       "        [0., 0., 0., 0., 0.],\n",
       "        [0., 0., 0., 0., 0.],\n",
       "        [0., 0., 0., 0., 0.],\n",
       "        [0., 0., 0., 0., 0.],\n",
       "        [0., 0., 0., 0., 0.],\n",
       "        [0., 0., 1., 0., 0.],\n",
       "        [0., 0., 0., 0., 0.],\n",
       "        [0., 0., 0., 0., 0.],\n",
       "        [0., 0., 0., 0., 0.],\n",
       "        [0., 0., 0., 0., 0.]])"
      ]
     },
     "execution_count": 430,
     "metadata": {},
     "output_type": "execute_result"
    }
   ],
   "source": [
    "t_feat2[:,:5].todense()"
   ]
  },
  {
   "cell_type": "code",
   "execution_count": 427,
   "metadata": {},
   "outputs": [
    {
     "data": {
      "text/plain": [
       "(75, 5)"
      ]
     },
     "execution_count": 427,
     "metadata": {},
     "output_type": "execute_result"
    }
   ],
   "source": [
    "t_feat2[:,:5].todense().shape"
   ]
  },
  {
   "cell_type": "code",
   "execution_count": 401,
   "metadata": {},
   "outputs": [],
   "source": [
    "from sklearn.feature_extraction.text import TfidfVectorizer"
   ]
  },
  {
   "cell_type": "code",
   "execution_count": 432,
   "metadata": {},
   "outputs": [],
   "source": [
    "def Tfidf(song):\n",
    "    tvec = TfidfVectorizer()\n",
    "    t_feat = tvec.fit_transform(song)\n",
    "    return t_feat.todense()"
   ]
  },
  {
   "cell_type": "code",
   "execution_count": 434,
   "metadata": {},
   "outputs": [
    {
     "ename": "ValueError",
     "evalue": "columns overlap but no suffix specified: Index(['tf_idf_vector', 'tf_idf_score'], dtype='object')",
     "output_type": "error",
     "traceback": [
      "\u001b[1;31m---------------------------------------------------------------------------\u001b[0m",
      "\u001b[1;31mValueError\u001b[0m                                Traceback (most recent call last)",
      "\u001b[1;32m~\\AppData\\Local\\Temp\\ipykernel_16264\\3506765747.py\u001b[0m in \u001b[0;36m<module>\u001b[1;34m\u001b[0m\n\u001b[0;32m      3\u001b[0m \u001b[1;33m\u001b[0m\u001b[0m\n\u001b[0;32m      4\u001b[0m \u001b[1;31m# join values to selected artists\u001b[0m\u001b[1;33m\u001b[0m\u001b[1;33m\u001b[0m\u001b[1;33m\u001b[0m\u001b[0m\n\u001b[1;32m----> 5\u001b[1;33m \u001b[0msong_filter_df\u001b[0m \u001b[1;33m=\u001b[0m \u001b[0msong_filter_df\u001b[0m\u001b[1;33m.\u001b[0m\u001b[0mjoin\u001b[0m\u001b[1;33m(\u001b[0m\u001b[0msong_df\u001b[0m\u001b[1;33m[\u001b[0m\u001b[1;33m[\u001b[0m\u001b[1;34m'tf_idf_vector'\u001b[0m\u001b[1;33m,\u001b[0m \u001b[1;34m'tf_idf_score'\u001b[0m\u001b[1;33m]\u001b[0m\u001b[1;33m]\u001b[0m\u001b[1;33m)\u001b[0m\u001b[1;33m\u001b[0m\u001b[1;33m\u001b[0m\u001b[0m\n\u001b[0m",
      "\u001b[1;32m~\\anaconda3\\envs\\torch\\lib\\site-packages\\pandas\\core\\frame.py\u001b[0m in \u001b[0;36mjoin\u001b[1;34m(self, other, on, how, lsuffix, rsuffix, sort)\u001b[0m\n\u001b[0;32m   9098\u001b[0m         \"\"\"\n\u001b[0;32m   9099\u001b[0m         return self._join_compat(\n\u001b[1;32m-> 9100\u001b[1;33m             \u001b[0mother\u001b[0m\u001b[1;33m,\u001b[0m \u001b[0mon\u001b[0m\u001b[1;33m=\u001b[0m\u001b[0mon\u001b[0m\u001b[1;33m,\u001b[0m \u001b[0mhow\u001b[0m\u001b[1;33m=\u001b[0m\u001b[0mhow\u001b[0m\u001b[1;33m,\u001b[0m \u001b[0mlsuffix\u001b[0m\u001b[1;33m=\u001b[0m\u001b[0mlsuffix\u001b[0m\u001b[1;33m,\u001b[0m \u001b[0mrsuffix\u001b[0m\u001b[1;33m=\u001b[0m\u001b[0mrsuffix\u001b[0m\u001b[1;33m,\u001b[0m \u001b[0msort\u001b[0m\u001b[1;33m=\u001b[0m\u001b[0msort\u001b[0m\u001b[1;33m\u001b[0m\u001b[1;33m\u001b[0m\u001b[0m\n\u001b[0m\u001b[0;32m   9101\u001b[0m         )\n\u001b[0;32m   9102\u001b[0m \u001b[1;33m\u001b[0m\u001b[0m\n",
      "\u001b[1;32m~\\anaconda3\\envs\\torch\\lib\\site-packages\\pandas\\core\\frame.py\u001b[0m in \u001b[0;36m_join_compat\u001b[1;34m(self, other, on, how, lsuffix, rsuffix, sort)\u001b[0m\n\u001b[0;32m   9136\u001b[0m                 \u001b[0mright_index\u001b[0m\u001b[1;33m=\u001b[0m\u001b[1;32mTrue\u001b[0m\u001b[1;33m,\u001b[0m\u001b[1;33m\u001b[0m\u001b[1;33m\u001b[0m\u001b[0m\n\u001b[0;32m   9137\u001b[0m                 \u001b[0msuffixes\u001b[0m\u001b[1;33m=\u001b[0m\u001b[1;33m(\u001b[0m\u001b[0mlsuffix\u001b[0m\u001b[1;33m,\u001b[0m \u001b[0mrsuffix\u001b[0m\u001b[1;33m)\u001b[0m\u001b[1;33m,\u001b[0m\u001b[1;33m\u001b[0m\u001b[1;33m\u001b[0m\u001b[0m\n\u001b[1;32m-> 9138\u001b[1;33m                 \u001b[0msort\u001b[0m\u001b[1;33m=\u001b[0m\u001b[0msort\u001b[0m\u001b[1;33m,\u001b[0m\u001b[1;33m\u001b[0m\u001b[1;33m\u001b[0m\u001b[0m\n\u001b[0m\u001b[0;32m   9139\u001b[0m             )\n\u001b[0;32m   9140\u001b[0m         \u001b[1;32melse\u001b[0m\u001b[1;33m:\u001b[0m\u001b[1;33m\u001b[0m\u001b[1;33m\u001b[0m\u001b[0m\n",
      "\u001b[1;32m~\\anaconda3\\envs\\torch\\lib\\site-packages\\pandas\\core\\reshape\\merge.py\u001b[0m in \u001b[0;36mmerge\u001b[1;34m(left, right, how, on, left_on, right_on, left_index, right_index, sort, suffixes, copy, indicator, validate)\u001b[0m\n\u001b[0;32m    119\u001b[0m         \u001b[0mvalidate\u001b[0m\u001b[1;33m=\u001b[0m\u001b[0mvalidate\u001b[0m\u001b[1;33m,\u001b[0m\u001b[1;33m\u001b[0m\u001b[1;33m\u001b[0m\u001b[0m\n\u001b[0;32m    120\u001b[0m     )\n\u001b[1;32m--> 121\u001b[1;33m     \u001b[1;32mreturn\u001b[0m \u001b[0mop\u001b[0m\u001b[1;33m.\u001b[0m\u001b[0mget_result\u001b[0m\u001b[1;33m(\u001b[0m\u001b[1;33m)\u001b[0m\u001b[1;33m\u001b[0m\u001b[1;33m\u001b[0m\u001b[0m\n\u001b[0m\u001b[0;32m    122\u001b[0m \u001b[1;33m\u001b[0m\u001b[0m\n\u001b[0;32m    123\u001b[0m \u001b[1;33m\u001b[0m\u001b[0m\n",
      "\u001b[1;32m~\\anaconda3\\envs\\torch\\lib\\site-packages\\pandas\\core\\reshape\\merge.py\u001b[0m in \u001b[0;36mget_result\u001b[1;34m(self)\u001b[0m\n\u001b[0;32m    716\u001b[0m \u001b[1;33m\u001b[0m\u001b[0m\n\u001b[0;32m    717\u001b[0m         llabels, rlabels = _items_overlap_with_suffix(\n\u001b[1;32m--> 718\u001b[1;33m             \u001b[0mself\u001b[0m\u001b[1;33m.\u001b[0m\u001b[0mleft\u001b[0m\u001b[1;33m.\u001b[0m\u001b[0m_info_axis\u001b[0m\u001b[1;33m,\u001b[0m \u001b[0mself\u001b[0m\u001b[1;33m.\u001b[0m\u001b[0mright\u001b[0m\u001b[1;33m.\u001b[0m\u001b[0m_info_axis\u001b[0m\u001b[1;33m,\u001b[0m \u001b[0mself\u001b[0m\u001b[1;33m.\u001b[0m\u001b[0msuffixes\u001b[0m\u001b[1;33m\u001b[0m\u001b[1;33m\u001b[0m\u001b[0m\n\u001b[0m\u001b[0;32m    719\u001b[0m         )\n\u001b[0;32m    720\u001b[0m \u001b[1;33m\u001b[0m\u001b[0m\n",
      "\u001b[1;32m~\\anaconda3\\envs\\torch\\lib\\site-packages\\pandas\\core\\reshape\\merge.py\u001b[0m in \u001b[0;36m_items_overlap_with_suffix\u001b[1;34m(left, right, suffixes)\u001b[0m\n\u001b[0;32m   2306\u001b[0m \u001b[1;33m\u001b[0m\u001b[0m\n\u001b[0;32m   2307\u001b[0m     \u001b[1;32mif\u001b[0m \u001b[1;32mnot\u001b[0m \u001b[0mlsuffix\u001b[0m \u001b[1;32mand\u001b[0m \u001b[1;32mnot\u001b[0m \u001b[0mrsuffix\u001b[0m\u001b[1;33m:\u001b[0m\u001b[1;33m\u001b[0m\u001b[1;33m\u001b[0m\u001b[0m\n\u001b[1;32m-> 2308\u001b[1;33m         \u001b[1;32mraise\u001b[0m \u001b[0mValueError\u001b[0m\u001b[1;33m(\u001b[0m\u001b[1;34mf\"columns overlap but no suffix specified: {to_rename}\"\u001b[0m\u001b[1;33m)\u001b[0m\u001b[1;33m\u001b[0m\u001b[1;33m\u001b[0m\u001b[0m\n\u001b[0m\u001b[0;32m   2309\u001b[0m \u001b[1;33m\u001b[0m\u001b[0m\n\u001b[0;32m   2310\u001b[0m     \u001b[1;32mdef\u001b[0m \u001b[0mrenamer\u001b[0m\u001b[1;33m(\u001b[0m\u001b[0mx\u001b[0m\u001b[1;33m,\u001b[0m \u001b[0msuffix\u001b[0m\u001b[1;33m)\u001b[0m\u001b[1;33m:\u001b[0m\u001b[1;33m\u001b[0m\u001b[1;33m\u001b[0m\u001b[0m\n",
      "\u001b[1;31mValueError\u001b[0m: columns overlap but no suffix specified: Index(['tf_idf_vector', 'tf_idf_score'], dtype='object')"
     ]
    }
   ],
   "source": [
    "song_df['tf_idf_vector'] = song_df['words'].map(lambda s: Tfidf(s))\n",
    "song_df['tf_idf_score'] = song_df['tf_idf_vector'].map(lambda vec: np.sum(vec))\n",
    "\n",
    "# join values to selected artists\n",
    "song_filter_df = song_filter_df.join(song_df[['tf_idf_vector', 'tf_idf_score']])"
   ]
  },
  {
   "cell_type": "code",
   "execution_count": 442,
   "metadata": {},
   "outputs": [
    {
     "data": {
      "text/html": [
       "<div>\n",
       "<style scoped>\n",
       "    .dataframe tbody tr th:only-of-type {\n",
       "        vertical-align: middle;\n",
       "    }\n",
       "\n",
       "    .dataframe tbody tr th {\n",
       "        vertical-align: top;\n",
       "    }\n",
       "\n",
       "    .dataframe thead th {\n",
       "        text-align: right;\n",
       "    }\n",
       "</style>\n",
       "<table border=\"1\" class=\"dataframe\">\n",
       "  <thead>\n",
       "    <tr style=\"text-align: right;\">\n",
       "      <th></th>\n",
       "      <th>song_name</th>\n",
       "      <th>href</th>\n",
       "      <th>lyric</th>\n",
       "      <th>artist</th>\n",
       "      <th>lines</th>\n",
       "      <th>words</th>\n",
       "      <th>n_words</th>\n",
       "      <th>unique_words_ratio</th>\n",
       "      <th>words_per_line</th>\n",
       "      <th>tf_idf_vector</th>\n",
       "      <th>tf_idf_score</th>\n",
       "    </tr>\n",
       "  </thead>\n",
       "  <tbody>\n",
       "    <tr>\n",
       "      <th>66</th>\n",
       "      <td>สมองสั่งการช้า (Delay)</td>\n",
       "      <td>/music/thailyric/16449</td>\n",
       "      <td>เธอคงอาจยังไม่รู้ว่านานสักแค่ไหนว่ามีหนึ่งคนที...</td>\n",
       "      <td>nont_tanont</td>\n",
       "      <td>43</td>\n",
       "      <td>[รู้, สัก, ไหนว่า, คน, คอย, เฝ้ามอง, ห่วงใย, ค...</td>\n",
       "      <td>90</td>\n",
       "      <td>0.588889</td>\n",
       "      <td>2.093023</td>\n",
       "      <td>[[[[[0. 0. 0. 0. 0. 0. 0. 0. 0. 0. 0. 0. 0. 0....</td>\n",
       "      <td>90.0</td>\n",
       "    </tr>\n",
       "    <tr>\n",
       "      <th>67</th>\n",
       "      <td>ยังไม่เคย</td>\n",
       "      <td>/music/thailyric/9174</td>\n",
       "      <td>ยังไม่เคยๆ ก็เลยอยากลอง นิดนึงๆอาจจะซึ้งเหมือน...</td>\n",
       "      <td>nont_tanont</td>\n",
       "      <td>44</td>\n",
       "      <td>[ลอง, นิดนึง, ซึ้ง, เหมือน, ตอนจบ, ละคร, เจอ, ...</td>\n",
       "      <td>103</td>\n",
       "      <td>0.378641</td>\n",
       "      <td>2.340909</td>\n",
       "      <td>[[[[[0. 0. 0. 0. 0. 0. 0. 0. 0. 0. 0. 0. 0. 0....</td>\n",
       "      <td>103.0</td>\n",
       "    </tr>\n",
       "    <tr>\n",
       "      <th>68</th>\n",
       "      <td>3 ผ่าน</td>\n",
       "      <td>/music/thailyric/11087</td>\n",
       "      <td>ไม่ต้องเป็น Commentator ก็บอกได้ว่าเธอน่ะโดน โ...</td>\n",
       "      <td>nont_tanont</td>\n",
       "      <td>37</td>\n",
       "      <td>[ไม่ต้อง, comment, โดน, โดนใจ, สวย, ไม่ต้อง, a...</td>\n",
       "      <td>187</td>\n",
       "      <td>0.497326</td>\n",
       "      <td>5.054054</td>\n",
       "      <td>[[[[[0. 0. 0. 0. 0. 0. 0. 0. 0. 0. 0. 0. 0. 0....</td>\n",
       "      <td>187.0</td>\n",
       "    </tr>\n",
       "    <tr>\n",
       "      <th>69</th>\n",
       "      <td>Come And Get Me</td>\n",
       "      <td>/music/thailyric/17173</td>\n",
       "      <td>Verseอยู่คนเดียวใช่ไหม Babyต้องการอะไรบ้างไหม ...</td>\n",
       "      <td>nont_tanont</td>\n",
       "      <td>77</td>\n",
       "      <td>[vers, คนเดียว, babi, อยาก, ไหม, babi, รู้, ตร...</td>\n",
       "      <td>167</td>\n",
       "      <td>0.377246</td>\n",
       "      <td>2.168831</td>\n",
       "      <td>[[[[[0. 0. 0. 0. 0. 0. 0. 0. 0. 0. 0. 0. 0. 0....</td>\n",
       "      <td>167.0</td>\n",
       "    </tr>\n",
       "    <tr>\n",
       "      <th>70</th>\n",
       "      <td>Play</td>\n",
       "      <td>/music/thailyric/16223</td>\n",
       "      <td>เมื่อต้องลงเล่นเกมส์ ที่เรียกว่าความรักก็ต้องจ...</td>\n",
       "      <td>nont_tanont</td>\n",
       "      <td>65</td>\n",
       "      <td>[เล่น, เกมส์, ความรัก, เตรียมใจ, หยุดพัก, หน้า...</td>\n",
       "      <td>180</td>\n",
       "      <td>0.327778</td>\n",
       "      <td>2.769231</td>\n",
       "      <td>[[[[[0. 0. 0. 0. 0. 0. 0. 0. 0. 0. 0. 0. 0. 0....</td>\n",
       "      <td>180.0</td>\n",
       "    </tr>\n",
       "    <tr>\n",
       "      <th>...</th>\n",
       "      <td>...</td>\n",
       "      <td>...</td>\n",
       "      <td>...</td>\n",
       "      <td>...</td>\n",
       "      <td>...</td>\n",
       "      <td>...</td>\n",
       "      <td>...</td>\n",
       "      <td>...</td>\n",
       "      <td>...</td>\n",
       "      <td>...</td>\n",
       "      <td>...</td>\n",
       "    </tr>\n",
       "    <tr>\n",
       "      <th>125</th>\n",
       "      <td>ให้เธอหายดี (SuperMom)</td>\n",
       "      <td>/music/thailyric/18442</td>\n",
       "      <td>เจ็บที่ตรงไหนบอกฉันได้ไหมให้ฉันช่วยดูแม้ไม่อาจ...</td>\n",
       "      <td>tilly_birds</td>\n",
       "      <td>50</td>\n",
       "      <td>[ปวด, ตรงไหน, ไหม, ดู, รู้, แก้, ไขมัน, ปวด, ข...</td>\n",
       "      <td>54</td>\n",
       "      <td>0.555556</td>\n",
       "      <td>1.080000</td>\n",
       "      <td>[[[[[0. 0. 0. 0. 0. 0. 0. 0. 0. 0. 0. 0. 1. 0....</td>\n",
       "      <td>54.0</td>\n",
       "    </tr>\n",
       "    <tr>\n",
       "      <th>126</th>\n",
       "      <td>ให้เธอ</td>\n",
       "      <td>/music/thailyric/19409</td>\n",
       "      <td>ฟ้า และท้องทะเลกับลมนั้นมีอยู่แต่ใครจะรู้ จะรู...</td>\n",
       "      <td>tilly_birds</td>\n",
       "      <td>51</td>\n",
       "      <td>[ฟ้า, ท้องทะเล, ลม, รู้, รู้, ใจ, ไว, ั, ตะวัน...</td>\n",
       "      <td>80</td>\n",
       "      <td>0.362500</td>\n",
       "      <td>1.568627</td>\n",
       "      <td>[[[[[0. 0. 0. 0. 0. 0. 0. 0. 0. 0. 1. 0. 0. 0....</td>\n",
       "      <td>80.0</td>\n",
       "    </tr>\n",
       "    <tr>\n",
       "      <th>127</th>\n",
       "      <td>อภัย (Broken)</td>\n",
       "      <td>/music/thailyric/15735</td>\n",
       "      <td>ทะเลาะเสียงดัง ข้าวของก็พัง อย่างนี้ประจำบางคร...</td>\n",
       "      <td>tilly_birds</td>\n",
       "      <td>31</td>\n",
       "      <td>[ทะเลาะ, ความดัง, สินค้า, พัง, ประจำ, ช่วงเวลา...</td>\n",
       "      <td>75</td>\n",
       "      <td>0.480000</td>\n",
       "      <td>2.419355</td>\n",
       "      <td>[[[[[0. 0. 0. 0. 0. 0. 0. 1. 0. 0. 0. 0. 0. 0....</td>\n",
       "      <td>75.0</td>\n",
       "    </tr>\n",
       "    <tr>\n",
       "      <th>128</th>\n",
       "      <td>อย่าอยู่เลย</td>\n",
       "      <td>/music/thailyric/19971</td>\n",
       "      <td>เธอทนอยู่กับเขามานาน อยู่กับเขามานานฉันทนดูเธอ...</td>\n",
       "      <td>tilly_birds</td>\n",
       "      <td>46</td>\n",
       "      <td>[ทน, ทน, ดู, ทรมาน, ไหว, ยอมให้, เตือน, กี่, ฟ...</td>\n",
       "      <td>133</td>\n",
       "      <td>0.443609</td>\n",
       "      <td>2.891304</td>\n",
       "      <td>[[[[[0. 0. 0. 0. 0. 0. 0. 0. 0. 0. 1. 0. 0. 0....</td>\n",
       "      <td>133.0</td>\n",
       "    </tr>\n",
       "    <tr>\n",
       "      <th>129</th>\n",
       "      <td>อยู่ได้ ได้อยู่ (ineednoone)</td>\n",
       "      <td>/music/thailyric/17190</td>\n",
       "      <td>เจอมากี่ครั้งเรื่องรักๆ เดี๋ยวจะเล่าให้ฟังชอบค...</td>\n",
       "      <td>tilly_birds</td>\n",
       "      <td>57</td>\n",
       "      <td>[เจอ, กี่, เรื่อง, รัก, เดี๋ยว, เล่า, ฟัง, ชอบ...</td>\n",
       "      <td>103</td>\n",
       "      <td>0.398058</td>\n",
       "      <td>1.807018</td>\n",
       "      <td>[[[[[0. 0. 0. 0. 0. 0. 0. 0. 0. 0. 0. 0. 0. 0....</td>\n",
       "      <td>103.0</td>\n",
       "    </tr>\n",
       "  </tbody>\n",
       "</table>\n",
       "<p>64 rows × 11 columns</p>\n",
       "</div>"
      ],
      "text/plain": [
       "                        song_name                    href  \\\n",
       "66         สมองสั่งการช้า (Delay)  /music/thailyric/16449   \n",
       "67                      ยังไม่เคย   /music/thailyric/9174   \n",
       "68                         3 ผ่าน  /music/thailyric/11087   \n",
       "69                Come And Get Me  /music/thailyric/17173   \n",
       "70                           Play  /music/thailyric/16223   \n",
       "..                            ...                     ...   \n",
       "125        ให้เธอหายดี (SuperMom)  /music/thailyric/18442   \n",
       "126                        ให้เธอ  /music/thailyric/19409   \n",
       "127                 อภัย (Broken)  /music/thailyric/15735   \n",
       "128                   อย่าอยู่เลย  /music/thailyric/19971   \n",
       "129  อยู่ได้ ได้อยู่ (ineednoone)  /music/thailyric/17190   \n",
       "\n",
       "                                                 lyric       artist  lines  \\\n",
       "66   เธอคงอาจยังไม่รู้ว่านานสักแค่ไหนว่ามีหนึ่งคนที...  nont_tanont     43   \n",
       "67   ยังไม่เคยๆ ก็เลยอยากลอง นิดนึงๆอาจจะซึ้งเหมือน...  nont_tanont     44   \n",
       "68   ไม่ต้องเป็น Commentator ก็บอกได้ว่าเธอน่ะโดน โ...  nont_tanont     37   \n",
       "69   Verseอยู่คนเดียวใช่ไหม Babyต้องการอะไรบ้างไหม ...  nont_tanont     77   \n",
       "70   เมื่อต้องลงเล่นเกมส์ ที่เรียกว่าความรักก็ต้องจ...  nont_tanont     65   \n",
       "..                                                 ...          ...    ...   \n",
       "125  เจ็บที่ตรงไหนบอกฉันได้ไหมให้ฉันช่วยดูแม้ไม่อาจ...  tilly_birds     50   \n",
       "126  ฟ้า และท้องทะเลกับลมนั้นมีอยู่แต่ใครจะรู้ จะรู...  tilly_birds     51   \n",
       "127  ทะเลาะเสียงดัง ข้าวของก็พัง อย่างนี้ประจำบางคร...  tilly_birds     31   \n",
       "128  เธอทนอยู่กับเขามานาน อยู่กับเขามานานฉันทนดูเธอ...  tilly_birds     46   \n",
       "129  เจอมากี่ครั้งเรื่องรักๆ เดี๋ยวจะเล่าให้ฟังชอบค...  tilly_birds     57   \n",
       "\n",
       "                                                 words  n_words  \\\n",
       "66   [รู้, สัก, ไหนว่า, คน, คอย, เฝ้ามอง, ห่วงใย, ค...       90   \n",
       "67   [ลอง, นิดนึง, ซึ้ง, เหมือน, ตอนจบ, ละคร, เจอ, ...      103   \n",
       "68   [ไม่ต้อง, comment, โดน, โดนใจ, สวย, ไม่ต้อง, a...      187   \n",
       "69   [vers, คนเดียว, babi, อยาก, ไหม, babi, รู้, ตร...      167   \n",
       "70   [เล่น, เกมส์, ความรัก, เตรียมใจ, หยุดพัก, หน้า...      180   \n",
       "..                                                 ...      ...   \n",
       "125  [ปวด, ตรงไหน, ไหม, ดู, รู้, แก้, ไขมัน, ปวด, ข...       54   \n",
       "126  [ฟ้า, ท้องทะเล, ลม, รู้, รู้, ใจ, ไว, ั, ตะวัน...       80   \n",
       "127  [ทะเลาะ, ความดัง, สินค้า, พัง, ประจำ, ช่วงเวลา...       75   \n",
       "128  [ทน, ทน, ดู, ทรมาน, ไหว, ยอมให้, เตือน, กี่, ฟ...      133   \n",
       "129  [เจอ, กี่, เรื่อง, รัก, เดี๋ยว, เล่า, ฟัง, ชอบ...      103   \n",
       "\n",
       "     unique_words_ratio  words_per_line  \\\n",
       "66             0.588889        2.093023   \n",
       "67             0.378641        2.340909   \n",
       "68             0.497326        5.054054   \n",
       "69             0.377246        2.168831   \n",
       "70             0.327778        2.769231   \n",
       "..                  ...             ...   \n",
       "125            0.555556        1.080000   \n",
       "126            0.362500        1.568627   \n",
       "127            0.480000        2.419355   \n",
       "128            0.443609        2.891304   \n",
       "129            0.398058        1.807018   \n",
       "\n",
       "                                         tf_idf_vector  tf_idf_score  \n",
       "66   [[[[[0. 0. 0. 0. 0. 0. 0. 0. 0. 0. 0. 0. 0. 0....          90.0  \n",
       "67   [[[[[0. 0. 0. 0. 0. 0. 0. 0. 0. 0. 0. 0. 0. 0....         103.0  \n",
       "68   [[[[[0. 0. 0. 0. 0. 0. 0. 0. 0. 0. 0. 0. 0. 0....         187.0  \n",
       "69   [[[[[0. 0. 0. 0. 0. 0. 0. 0. 0. 0. 0. 0. 0. 0....         167.0  \n",
       "70   [[[[[0. 0. 0. 0. 0. 0. 0. 0. 0. 0. 0. 0. 0. 0....         180.0  \n",
       "..                                                 ...           ...  \n",
       "125  [[[[[0. 0. 0. 0. 0. 0. 0. 0. 0. 0. 0. 0. 1. 0....          54.0  \n",
       "126  [[[[[0. 0. 0. 0. 0. 0. 0. 0. 0. 0. 1. 0. 0. 0....          80.0  \n",
       "127  [[[[[0. 0. 0. 0. 0. 0. 0. 1. 0. 0. 0. 0. 0. 0....          75.0  \n",
       "128  [[[[[0. 0. 0. 0. 0. 0. 0. 0. 0. 0. 1. 0. 0. 0....         133.0  \n",
       "129  [[[[[0. 0. 0. 0. 0. 0. 0. 0. 0. 0. 0. 0. 0. 0....         103.0  \n",
       "\n",
       "[64 rows x 11 columns]"
      ]
     },
     "execution_count": 442,
     "metadata": {},
     "output_type": "execute_result"
    }
   ],
   "source": [
    "song_filter_df"
   ]
  },
  {
   "cell_type": "code",
   "execution_count": 441,
   "metadata": {},
   "outputs": [
    {
     "data": {
      "text/plain": [
       "0       75\n",
       "1       74\n",
       "2       87\n",
       "3      130\n",
       "4       51\n",
       "      ... \n",
       "125     54\n",
       "126     80\n",
       "127     75\n",
       "128    133\n",
       "129    103\n",
       "Name: n_words, Length: 130, dtype: int64"
      ]
     },
     "execution_count": 441,
     "metadata": {},
     "output_type": "execute_result"
    }
   ],
   "source": [
    "song_df['n_words']"
   ]
  },
  {
   "cell_type": "code",
   "execution_count": 440,
   "metadata": {},
   "outputs": [
    {
     "data": {
      "text/plain": [
       "0       61.603470\n",
       "1       64.727922\n",
       "2       61.897828\n",
       "3       95.134520\n",
       "4       41.899495\n",
       "          ...    \n",
       "125     45.560478\n",
       "126     61.899495\n",
       "127     68.392267\n",
       "128    107.860336\n",
       "129     90.040867\n",
       "Name: tf_idf_score, Length: 130, dtype: float64"
      ]
     },
     "execution_count": 440,
     "metadata": {},
     "output_type": "execute_result"
    }
   ],
   "source": [
    "song_df['tf_idf_score']"
   ]
  },
  {
   "cell_type": "code",
   "execution_count": 413,
   "metadata": {},
   "outputs": [
    {
     "data": {
      "text/html": [
       "<div>\n",
       "<style scoped>\n",
       "    .dataframe tbody tr th:only-of-type {\n",
       "        vertical-align: middle;\n",
       "    }\n",
       "\n",
       "    .dataframe tbody tr th {\n",
       "        vertical-align: top;\n",
       "    }\n",
       "\n",
       "    .dataframe thead th {\n",
       "        text-align: right;\n",
       "    }\n",
       "</style>\n",
       "<table border=\"1\" class=\"dataframe\">\n",
       "  <thead>\n",
       "    <tr style=\"text-align: right;\">\n",
       "      <th></th>\n",
       "      <th>song_name</th>\n",
       "      <th>href</th>\n",
       "      <th>lyric</th>\n",
       "      <th>artist</th>\n",
       "      <th>lines</th>\n",
       "      <th>words</th>\n",
       "      <th>n_words</th>\n",
       "      <th>n_unique_words</th>\n",
       "      <th>unique_words_ratio</th>\n",
       "      <th>words_per_line</th>\n",
       "      <th>tf_idf_vector</th>\n",
       "    </tr>\n",
       "  </thead>\n",
       "  <tbody>\n",
       "    <tr>\n",
       "      <th>0</th>\n",
       "      <td>อะ ไนท์ (A Night)</td>\n",
       "      <td>/music/thailyric/2681</td>\n",
       "      <td>ดึกดื่นคืนใด มองฟ้าไม่เห็นจันทร์ ไม่เจอะเจอกัน...</td>\n",
       "      <td>bodyslam</td>\n",
       "      <td>15</td>\n",
       "      <td>[ดึกดื่น, คืน, ใด, ฟ้า, เดือน, เจอะ, เจอกัน, ร...</td>\n",
       "      <td>75</td>\n",
       "      <td>43</td>\n",
       "      <td>0.573333</td>\n",
       "      <td>5.000000</td>\n",
       "      <td>[[[[[0. 0. 0. 0. 0. 0. 0. 0. 0. 0. 1. 0. 0. 0....</td>\n",
       "    </tr>\n",
       "    <tr>\n",
       "      <th>1</th>\n",
       "      <td>ขอบฟ้า</td>\n",
       "      <td>/music/thailyric/2640</td>\n",
       "      <td>ได้แต่เหลียวมองไปสุดฟ้าไกลมันช่างน่าเสียดายที่...</td>\n",
       "      <td>bodyslam</td>\n",
       "      <td>29</td>\n",
       "      <td>[เหลียว, ฟ้า, ช่าง, น่าเสียดาย, ขอบฟ้า, จบ, เส...</td>\n",
       "      <td>74</td>\n",
       "      <td>37</td>\n",
       "      <td>0.500000</td>\n",
       "      <td>2.551724</td>\n",
       "      <td>[[[[[0. 0. 0. 0. 0. 0. 0. 0. 0. 0. 0. 0. 0. 0....</td>\n",
       "    </tr>\n",
       "    <tr>\n",
       "      <th>2</th>\n",
       "      <td>คนที่ถูกรัก</td>\n",
       "      <td>/music/thailyric/2641</td>\n",
       "      <td>ใจ ฉันเคยถูกทิ้งเพียงลำพัง รักใครมาแล้วตั้งกี่...</td>\n",
       "      <td>bodyslam</td>\n",
       "      <td>25</td>\n",
       "      <td>[ใจ, ทิ้ง, เพียงลำพัง, รัก, กี่, ผิดหวัง, กี่,...</td>\n",
       "      <td>87</td>\n",
       "      <td>34</td>\n",
       "      <td>0.390805</td>\n",
       "      <td>3.480000</td>\n",
       "      <td>[[[[[0. 0. 0. 0. 0. 0. 0. 0. 0. 0. 0. 0. 0. 0....</td>\n",
       "    </tr>\n",
       "    <tr>\n",
       "      <th>3</th>\n",
       "      <td>ความเชื่อ</td>\n",
       "      <td>/music/thailyric/2644</td>\n",
       "      <td>มันเกือบจะล้มมันเหนื่อยมันล้าเหมือนแทบขาดใจเดิ...</td>\n",
       "      <td>bodyslam</td>\n",
       "      <td>45</td>\n",
       "      <td>[ล้ม, เหนื่อย, ล้า, เหมือน, แทบ, ขาดใจ, เดิน, ...</td>\n",
       "      <td>130</td>\n",
       "      <td>49</td>\n",
       "      <td>0.376923</td>\n",
       "      <td>2.888889</td>\n",
       "      <td>[[[[[0. 0. 0. 0. 0. 0. 0. 0. 0. 0. 0. 0. 0. 0....</td>\n",
       "    </tr>\n",
       "    <tr>\n",
       "      <th>4</th>\n",
       "      <td>ความรักทำให้คนตาบอด</td>\n",
       "      <td>/music/thailyric/2647</td>\n",
       "      <td>รู้ว่ามันไม่สมควร ที่ยังกวนใจเธอ ฉันขอโทษทีรัก...</td>\n",
       "      <td>bodyslam</td>\n",
       "      <td>21</td>\n",
       "      <td>[รู้, สมควร, ยั่ว, ขอโทษ, รัก, คอย, หวังดี, มี...</td>\n",
       "      <td>51</td>\n",
       "      <td>28</td>\n",
       "      <td>0.549020</td>\n",
       "      <td>2.428571</td>\n",
       "      <td>[[[[[0. 0. 0. 0. 0. 0. 0. 0. 0. 0. 0. 0. 0. 0....</td>\n",
       "    </tr>\n",
       "    <tr>\n",
       "      <th>...</th>\n",
       "      <td>...</td>\n",
       "      <td>...</td>\n",
       "      <td>...</td>\n",
       "      <td>...</td>\n",
       "      <td>...</td>\n",
       "      <td>...</td>\n",
       "      <td>...</td>\n",
       "      <td>...</td>\n",
       "      <td>...</td>\n",
       "      <td>...</td>\n",
       "      <td>...</td>\n",
       "    </tr>\n",
       "    <tr>\n",
       "      <th>125</th>\n",
       "      <td>ให้เธอหายดี (SuperMom)</td>\n",
       "      <td>/music/thailyric/18442</td>\n",
       "      <td>เจ็บที่ตรงไหนบอกฉันได้ไหมให้ฉันช่วยดูแม้ไม่อาจ...</td>\n",
       "      <td>tilly_birds</td>\n",
       "      <td>50</td>\n",
       "      <td>[ปวด, ตรงไหน, ไหม, ดู, รู้, แก้, ไขมัน, ปวด, ข...</td>\n",
       "      <td>54</td>\n",
       "      <td>30</td>\n",
       "      <td>0.555556</td>\n",
       "      <td>1.080000</td>\n",
       "      <td>[[[[[0. 0. 0. 0. 0. 0. 0. 0. 0. 0. 0. 0. 1. 0....</td>\n",
       "    </tr>\n",
       "    <tr>\n",
       "      <th>126</th>\n",
       "      <td>ให้เธอ</td>\n",
       "      <td>/music/thailyric/19409</td>\n",
       "      <td>ฟ้า และท้องทะเลกับลมนั้นมีอยู่แต่ใครจะรู้ จะรู...</td>\n",
       "      <td>tilly_birds</td>\n",
       "      <td>51</td>\n",
       "      <td>[ฟ้า, ท้องทะเล, ลม, รู้, รู้, ใจ, ไว, ั, ตะวัน...</td>\n",
       "      <td>80</td>\n",
       "      <td>29</td>\n",
       "      <td>0.362500</td>\n",
       "      <td>1.568627</td>\n",
       "      <td>[[[[[0. 0. 0. 0. 0. 0. 0. 0. 0. 0. 1. 0. 0. 0....</td>\n",
       "    </tr>\n",
       "    <tr>\n",
       "      <th>127</th>\n",
       "      <td>อภัย (Broken)</td>\n",
       "      <td>/music/thailyric/15735</td>\n",
       "      <td>ทะเลาะเสียงดัง ข้าวของก็พัง อย่างนี้ประจำบางคร...</td>\n",
       "      <td>tilly_birds</td>\n",
       "      <td>31</td>\n",
       "      <td>[ทะเลาะ, ความดัง, สินค้า, พัง, ประจำ, ช่วงเวลา...</td>\n",
       "      <td>75</td>\n",
       "      <td>36</td>\n",
       "      <td>0.480000</td>\n",
       "      <td>2.419355</td>\n",
       "      <td>[[[[[0. 0. 0. 0. 0. 0. 0. 1. 0. 0. 0. 0. 0. 0....</td>\n",
       "    </tr>\n",
       "    <tr>\n",
       "      <th>128</th>\n",
       "      <td>อย่าอยู่เลย</td>\n",
       "      <td>/music/thailyric/19971</td>\n",
       "      <td>เธอทนอยู่กับเขามานาน อยู่กับเขามานานฉันทนดูเธอ...</td>\n",
       "      <td>tilly_birds</td>\n",
       "      <td>46</td>\n",
       "      <td>[ทน, ทน, ดู, ทรมาน, ไหว, ยอมให้, เตือน, กี่, ฟ...</td>\n",
       "      <td>133</td>\n",
       "      <td>59</td>\n",
       "      <td>0.443609</td>\n",
       "      <td>2.891304</td>\n",
       "      <td>[[[[[0. 0. 0. 0. 0. 0. 0. 0. 0. 0. 1. 0. 0. 0....</td>\n",
       "    </tr>\n",
       "    <tr>\n",
       "      <th>129</th>\n",
       "      <td>อยู่ได้ ได้อยู่ (ineednoone)</td>\n",
       "      <td>/music/thailyric/17190</td>\n",
       "      <td>เจอมากี่ครั้งเรื่องรักๆ เดี๋ยวจะเล่าให้ฟังชอบค...</td>\n",
       "      <td>tilly_birds</td>\n",
       "      <td>57</td>\n",
       "      <td>[เจอ, กี่, เรื่อง, รัก, เดี๋ยว, เล่า, ฟัง, ชอบ...</td>\n",
       "      <td>103</td>\n",
       "      <td>41</td>\n",
       "      <td>0.398058</td>\n",
       "      <td>1.807018</td>\n",
       "      <td>[[[[[0. 0. 0. 0. 0. 0. 0. 0. 0. 0. 0. 0. 0. 0....</td>\n",
       "    </tr>\n",
       "  </tbody>\n",
       "</table>\n",
       "<p>130 rows × 11 columns</p>\n",
       "</div>"
      ],
      "text/plain": [
       "                        song_name                    href  \\\n",
       "0               อะ ไนท์ (A Night)   /music/thailyric/2681   \n",
       "1                          ขอบฟ้า   /music/thailyric/2640   \n",
       "2                     คนที่ถูกรัก   /music/thailyric/2641   \n",
       "3                       ความเชื่อ   /music/thailyric/2644   \n",
       "4             ความรักทำให้คนตาบอด   /music/thailyric/2647   \n",
       "..                            ...                     ...   \n",
       "125        ให้เธอหายดี (SuperMom)  /music/thailyric/18442   \n",
       "126                        ให้เธอ  /music/thailyric/19409   \n",
       "127                 อภัย (Broken)  /music/thailyric/15735   \n",
       "128                   อย่าอยู่เลย  /music/thailyric/19971   \n",
       "129  อยู่ได้ ได้อยู่ (ineednoone)  /music/thailyric/17190   \n",
       "\n",
       "                                                 lyric       artist  lines  \\\n",
       "0    ดึกดื่นคืนใด มองฟ้าไม่เห็นจันทร์ ไม่เจอะเจอกัน...     bodyslam     15   \n",
       "1    ได้แต่เหลียวมองไปสุดฟ้าไกลมันช่างน่าเสียดายที่...     bodyslam     29   \n",
       "2    ใจ ฉันเคยถูกทิ้งเพียงลำพัง รักใครมาแล้วตั้งกี่...     bodyslam     25   \n",
       "3    มันเกือบจะล้มมันเหนื่อยมันล้าเหมือนแทบขาดใจเดิ...     bodyslam     45   \n",
       "4    รู้ว่ามันไม่สมควร ที่ยังกวนใจเธอ ฉันขอโทษทีรัก...     bodyslam     21   \n",
       "..                                                 ...          ...    ...   \n",
       "125  เจ็บที่ตรงไหนบอกฉันได้ไหมให้ฉันช่วยดูแม้ไม่อาจ...  tilly_birds     50   \n",
       "126  ฟ้า และท้องทะเลกับลมนั้นมีอยู่แต่ใครจะรู้ จะรู...  tilly_birds     51   \n",
       "127  ทะเลาะเสียงดัง ข้าวของก็พัง อย่างนี้ประจำบางคร...  tilly_birds     31   \n",
       "128  เธอทนอยู่กับเขามานาน อยู่กับเขามานานฉันทนดูเธอ...  tilly_birds     46   \n",
       "129  เจอมากี่ครั้งเรื่องรักๆ เดี๋ยวจะเล่าให้ฟังชอบค...  tilly_birds     57   \n",
       "\n",
       "                                                 words  n_words  \\\n",
       "0    [ดึกดื่น, คืน, ใด, ฟ้า, เดือน, เจอะ, เจอกัน, ร...       75   \n",
       "1    [เหลียว, ฟ้า, ช่าง, น่าเสียดาย, ขอบฟ้า, จบ, เส...       74   \n",
       "2    [ใจ, ทิ้ง, เพียงลำพัง, รัก, กี่, ผิดหวัง, กี่,...       87   \n",
       "3    [ล้ม, เหนื่อย, ล้า, เหมือน, แทบ, ขาดใจ, เดิน, ...      130   \n",
       "4    [รู้, สมควร, ยั่ว, ขอโทษ, รัก, คอย, หวังดี, มี...       51   \n",
       "..                                                 ...      ...   \n",
       "125  [ปวด, ตรงไหน, ไหม, ดู, รู้, แก้, ไขมัน, ปวด, ข...       54   \n",
       "126  [ฟ้า, ท้องทะเล, ลม, รู้, รู้, ใจ, ไว, ั, ตะวัน...       80   \n",
       "127  [ทะเลาะ, ความดัง, สินค้า, พัง, ประจำ, ช่วงเวลา...       75   \n",
       "128  [ทน, ทน, ดู, ทรมาน, ไหว, ยอมให้, เตือน, กี่, ฟ...      133   \n",
       "129  [เจอ, กี่, เรื่อง, รัก, เดี๋ยว, เล่า, ฟัง, ชอบ...      103   \n",
       "\n",
       "     n_unique_words  unique_words_ratio  words_per_line  \\\n",
       "0                43            0.573333        5.000000   \n",
       "1                37            0.500000        2.551724   \n",
       "2                34            0.390805        3.480000   \n",
       "3                49            0.376923        2.888889   \n",
       "4                28            0.549020        2.428571   \n",
       "..              ...                 ...             ...   \n",
       "125              30            0.555556        1.080000   \n",
       "126              29            0.362500        1.568627   \n",
       "127              36            0.480000        2.419355   \n",
       "128              59            0.443609        2.891304   \n",
       "129              41            0.398058        1.807018   \n",
       "\n",
       "                                         tf_idf_vector  \n",
       "0    [[[[[0. 0. 0. 0. 0. 0. 0. 0. 0. 0. 1. 0. 0. 0....  \n",
       "1    [[[[[0. 0. 0. 0. 0. 0. 0. 0. 0. 0. 0. 0. 0. 0....  \n",
       "2    [[[[[0. 0. 0. 0. 0. 0. 0. 0. 0. 0. 0. 0. 0. 0....  \n",
       "3    [[[[[0. 0. 0. 0. 0. 0. 0. 0. 0. 0. 0. 0. 0. 0....  \n",
       "4    [[[[[0. 0. 0. 0. 0. 0. 0. 0. 0. 0. 0. 0. 0. 0....  \n",
       "..                                                 ...  \n",
       "125  [[[[[0. 0. 0. 0. 0. 0. 0. 0. 0. 0. 0. 0. 1. 0....  \n",
       "126  [[[[[0. 0. 0. 0. 0. 0. 0. 0. 0. 0. 1. 0. 0. 0....  \n",
       "127  [[[[[0. 0. 0. 0. 0. 0. 0. 1. 0. 0. 0. 0. 0. 0....  \n",
       "128  [[[[[0. 0. 0. 0. 0. 0. 0. 0. 0. 0. 1. 0. 0. 0....  \n",
       "129  [[[[[0. 0. 0. 0. 0. 0. 0. 0. 0. 0. 0. 0. 0. 0....  \n",
       "\n",
       "[130 rows x 11 columns]"
      ]
     },
     "execution_count": 413,
     "metadata": {},
     "output_type": "execute_result"
    }
   ],
   "source": [
    "song_df"
   ]
  },
  {
   "cell_type": "code",
   "execution_count": 378,
   "metadata": {},
   "outputs": [],
   "source": [
    "t_feat_dense = Tfidf(song_df['words'][0])"
   ]
  },
  {
   "cell_type": "code",
   "execution_count": 379,
   "metadata": {},
   "outputs": [
    {
     "data": {
      "text/plain": [
       "matrix([[0., 0., 0., ..., 0., 0., 0.],\n",
       "        [0., 0., 0., ..., 0., 0., 0.],\n",
       "        [0., 0., 0., ..., 0., 0., 0.],\n",
       "        ...,\n",
       "        [0., 0., 0., ..., 0., 0., 0.],\n",
       "        [0., 0., 0., ..., 0., 0., 0.],\n",
       "        [0., 0., 0., ..., 0., 0., 0.]])"
      ]
     },
     "execution_count": 379,
     "metadata": {},
     "output_type": "execute_result"
    }
   ],
   "source": [
    "t_feat_dense"
   ]
  },
  {
   "cell_type": "code",
   "execution_count": 372,
   "metadata": {},
   "outputs": [
    {
     "data": {
      "text/html": [
       "<div>\n",
       "<style scoped>\n",
       "    .dataframe tbody tr th:only-of-type {\n",
       "        vertical-align: middle;\n",
       "    }\n",
       "\n",
       "    .dataframe tbody tr th {\n",
       "        vertical-align: top;\n",
       "    }\n",
       "\n",
       "    .dataframe thead th {\n",
       "        text-align: right;\n",
       "    }\n",
       "</style>\n",
       "<table border=\"1\" class=\"dataframe\">\n",
       "  <thead>\n",
       "    <tr style=\"text-align: right;\">\n",
       "      <th></th>\n",
       "      <th>กาย</th>\n",
       "      <th>คงเดิม</th>\n",
       "      <th>ความรัก</th>\n",
       "      <th>ความห่างไกล</th>\n",
       "      <th>คืน</th>\n",
       "      <th>คืนนี้</th>\n",
       "      <th>ค่ำ</th>\n",
       "      <th>ฉาก</th>\n",
       "      <th>ฉาย</th>\n",
       "      <th>ดวง</th>\n",
       "      <th>...</th>\n",
       "      <th>เสมอ</th>\n",
       "      <th>เหมือน</th>\n",
       "      <th>เหมือนเคย</th>\n",
       "      <th>เหมือนเดิม</th>\n",
       "      <th>เอาไว้</th>\n",
       "      <th>แผ่น</th>\n",
       "      <th>ใจ</th>\n",
       "      <th>ใด</th>\n",
       "      <th>ไกลตา</th>\n",
       "      <th>ไหม</th>\n",
       "    </tr>\n",
       "  </thead>\n",
       "  <tbody>\n",
       "    <tr>\n",
       "      <th>0</th>\n",
       "      <td>0.0</td>\n",
       "      <td>0.0</td>\n",
       "      <td>0.0</td>\n",
       "      <td>0.0</td>\n",
       "      <td>0.0</td>\n",
       "      <td>0.0</td>\n",
       "      <td>0.0</td>\n",
       "      <td>0.0</td>\n",
       "      <td>0.0</td>\n",
       "      <td>0.0</td>\n",
       "      <td>...</td>\n",
       "      <td>0.0</td>\n",
       "      <td>0.0</td>\n",
       "      <td>0.0</td>\n",
       "      <td>0.0</td>\n",
       "      <td>0.0</td>\n",
       "      <td>0.0</td>\n",
       "      <td>0.0</td>\n",
       "      <td>0.0</td>\n",
       "      <td>0.0</td>\n",
       "      <td>0.0</td>\n",
       "    </tr>\n",
       "    <tr>\n",
       "      <th>1</th>\n",
       "      <td>0.0</td>\n",
       "      <td>0.0</td>\n",
       "      <td>0.0</td>\n",
       "      <td>0.0</td>\n",
       "      <td>1.0</td>\n",
       "      <td>0.0</td>\n",
       "      <td>0.0</td>\n",
       "      <td>0.0</td>\n",
       "      <td>0.0</td>\n",
       "      <td>0.0</td>\n",
       "      <td>...</td>\n",
       "      <td>0.0</td>\n",
       "      <td>0.0</td>\n",
       "      <td>0.0</td>\n",
       "      <td>0.0</td>\n",
       "      <td>0.0</td>\n",
       "      <td>0.0</td>\n",
       "      <td>0.0</td>\n",
       "      <td>0.0</td>\n",
       "      <td>0.0</td>\n",
       "      <td>0.0</td>\n",
       "    </tr>\n",
       "    <tr>\n",
       "      <th>2</th>\n",
       "      <td>0.0</td>\n",
       "      <td>0.0</td>\n",
       "      <td>0.0</td>\n",
       "      <td>0.0</td>\n",
       "      <td>0.0</td>\n",
       "      <td>0.0</td>\n",
       "      <td>0.0</td>\n",
       "      <td>0.0</td>\n",
       "      <td>0.0</td>\n",
       "      <td>0.0</td>\n",
       "      <td>...</td>\n",
       "      <td>0.0</td>\n",
       "      <td>0.0</td>\n",
       "      <td>0.0</td>\n",
       "      <td>0.0</td>\n",
       "      <td>0.0</td>\n",
       "      <td>0.0</td>\n",
       "      <td>0.0</td>\n",
       "      <td>1.0</td>\n",
       "      <td>0.0</td>\n",
       "      <td>0.0</td>\n",
       "    </tr>\n",
       "    <tr>\n",
       "      <th>3</th>\n",
       "      <td>0.0</td>\n",
       "      <td>0.0</td>\n",
       "      <td>0.0</td>\n",
       "      <td>0.0</td>\n",
       "      <td>0.0</td>\n",
       "      <td>0.0</td>\n",
       "      <td>0.0</td>\n",
       "      <td>0.0</td>\n",
       "      <td>0.0</td>\n",
       "      <td>0.0</td>\n",
       "      <td>...</td>\n",
       "      <td>0.0</td>\n",
       "      <td>0.0</td>\n",
       "      <td>0.0</td>\n",
       "      <td>0.0</td>\n",
       "      <td>0.0</td>\n",
       "      <td>0.0</td>\n",
       "      <td>0.0</td>\n",
       "      <td>0.0</td>\n",
       "      <td>0.0</td>\n",
       "      <td>0.0</td>\n",
       "    </tr>\n",
       "    <tr>\n",
       "      <th>4</th>\n",
       "      <td>0.0</td>\n",
       "      <td>0.0</td>\n",
       "      <td>0.0</td>\n",
       "      <td>0.0</td>\n",
       "      <td>0.0</td>\n",
       "      <td>0.0</td>\n",
       "      <td>0.0</td>\n",
       "      <td>0.0</td>\n",
       "      <td>0.0</td>\n",
       "      <td>0.0</td>\n",
       "      <td>...</td>\n",
       "      <td>0.0</td>\n",
       "      <td>0.0</td>\n",
       "      <td>0.0</td>\n",
       "      <td>0.0</td>\n",
       "      <td>0.0</td>\n",
       "      <td>0.0</td>\n",
       "      <td>0.0</td>\n",
       "      <td>0.0</td>\n",
       "      <td>0.0</td>\n",
       "      <td>0.0</td>\n",
       "    </tr>\n",
       "    <tr>\n",
       "      <th>...</th>\n",
       "      <td>...</td>\n",
       "      <td>...</td>\n",
       "      <td>...</td>\n",
       "      <td>...</td>\n",
       "      <td>...</td>\n",
       "      <td>...</td>\n",
       "      <td>...</td>\n",
       "      <td>...</td>\n",
       "      <td>...</td>\n",
       "      <td>...</td>\n",
       "      <td>...</td>\n",
       "      <td>...</td>\n",
       "      <td>...</td>\n",
       "      <td>...</td>\n",
       "      <td>...</td>\n",
       "      <td>...</td>\n",
       "      <td>...</td>\n",
       "      <td>...</td>\n",
       "      <td>...</td>\n",
       "      <td>...</td>\n",
       "      <td>...</td>\n",
       "    </tr>\n",
       "    <tr>\n",
       "      <th>70</th>\n",
       "      <td>0.0</td>\n",
       "      <td>0.0</td>\n",
       "      <td>1.0</td>\n",
       "      <td>0.0</td>\n",
       "      <td>0.0</td>\n",
       "      <td>0.0</td>\n",
       "      <td>0.0</td>\n",
       "      <td>0.0</td>\n",
       "      <td>0.0</td>\n",
       "      <td>0.0</td>\n",
       "      <td>...</td>\n",
       "      <td>0.0</td>\n",
       "      <td>0.0</td>\n",
       "      <td>0.0</td>\n",
       "      <td>0.0</td>\n",
       "      <td>0.0</td>\n",
       "      <td>0.0</td>\n",
       "      <td>0.0</td>\n",
       "      <td>0.0</td>\n",
       "      <td>0.0</td>\n",
       "      <td>0.0</td>\n",
       "    </tr>\n",
       "    <tr>\n",
       "      <th>71</th>\n",
       "      <td>0.0</td>\n",
       "      <td>0.0</td>\n",
       "      <td>0.0</td>\n",
       "      <td>0.0</td>\n",
       "      <td>0.0</td>\n",
       "      <td>0.0</td>\n",
       "      <td>0.0</td>\n",
       "      <td>0.0</td>\n",
       "      <td>0.0</td>\n",
       "      <td>0.0</td>\n",
       "      <td>...</td>\n",
       "      <td>0.0</td>\n",
       "      <td>0.0</td>\n",
       "      <td>0.0</td>\n",
       "      <td>0.0</td>\n",
       "      <td>0.0</td>\n",
       "      <td>0.0</td>\n",
       "      <td>1.0</td>\n",
       "      <td>0.0</td>\n",
       "      <td>0.0</td>\n",
       "      <td>0.0</td>\n",
       "    </tr>\n",
       "    <tr>\n",
       "      <th>72</th>\n",
       "      <td>0.0</td>\n",
       "      <td>0.0</td>\n",
       "      <td>0.0</td>\n",
       "      <td>0.0</td>\n",
       "      <td>0.0</td>\n",
       "      <td>0.0</td>\n",
       "      <td>0.0</td>\n",
       "      <td>0.0</td>\n",
       "      <td>0.0</td>\n",
       "      <td>0.0</td>\n",
       "      <td>...</td>\n",
       "      <td>0.0</td>\n",
       "      <td>1.0</td>\n",
       "      <td>0.0</td>\n",
       "      <td>0.0</td>\n",
       "      <td>0.0</td>\n",
       "      <td>0.0</td>\n",
       "      <td>0.0</td>\n",
       "      <td>0.0</td>\n",
       "      <td>0.0</td>\n",
       "      <td>0.0</td>\n",
       "    </tr>\n",
       "    <tr>\n",
       "      <th>73</th>\n",
       "      <td>0.0</td>\n",
       "      <td>0.0</td>\n",
       "      <td>0.0</td>\n",
       "      <td>0.0</td>\n",
       "      <td>0.0</td>\n",
       "      <td>0.0</td>\n",
       "      <td>0.0</td>\n",
       "      <td>0.0</td>\n",
       "      <td>0.0</td>\n",
       "      <td>0.0</td>\n",
       "      <td>...</td>\n",
       "      <td>0.0</td>\n",
       "      <td>0.0</td>\n",
       "      <td>0.0</td>\n",
       "      <td>0.0</td>\n",
       "      <td>0.0</td>\n",
       "      <td>0.0</td>\n",
       "      <td>0.0</td>\n",
       "      <td>0.0</td>\n",
       "      <td>0.0</td>\n",
       "      <td>0.0</td>\n",
       "    </tr>\n",
       "    <tr>\n",
       "      <th>74</th>\n",
       "      <td>0.0</td>\n",
       "      <td>0.0</td>\n",
       "      <td>0.0</td>\n",
       "      <td>0.0</td>\n",
       "      <td>0.0</td>\n",
       "      <td>0.0</td>\n",
       "      <td>0.0</td>\n",
       "      <td>0.0</td>\n",
       "      <td>0.0</td>\n",
       "      <td>0.0</td>\n",
       "      <td>...</td>\n",
       "      <td>0.0</td>\n",
       "      <td>0.0</td>\n",
       "      <td>0.0</td>\n",
       "      <td>0.0</td>\n",
       "      <td>0.0</td>\n",
       "      <td>0.0</td>\n",
       "      <td>0.0</td>\n",
       "      <td>0.0</td>\n",
       "      <td>0.0</td>\n",
       "      <td>0.0</td>\n",
       "    </tr>\n",
       "  </tbody>\n",
       "</table>\n",
       "<p>75 rows × 43 columns</p>\n",
       "</div>"
      ],
      "text/plain": [
       "    กาย  คงเดิม  ความรัก  ความห่างไกล  คืน  คืนนี้  ค่ำ  ฉาก  ฉาย  ดวง  ...  \\\n",
       "0   0.0     0.0      0.0          0.0  0.0     0.0  0.0  0.0  0.0  0.0  ...   \n",
       "1   0.0     0.0      0.0          0.0  1.0     0.0  0.0  0.0  0.0  0.0  ...   \n",
       "2   0.0     0.0      0.0          0.0  0.0     0.0  0.0  0.0  0.0  0.0  ...   \n",
       "3   0.0     0.0      0.0          0.0  0.0     0.0  0.0  0.0  0.0  0.0  ...   \n",
       "4   0.0     0.0      0.0          0.0  0.0     0.0  0.0  0.0  0.0  0.0  ...   \n",
       "..  ...     ...      ...          ...  ...     ...  ...  ...  ...  ...  ...   \n",
       "70  0.0     0.0      1.0          0.0  0.0     0.0  0.0  0.0  0.0  0.0  ...   \n",
       "71  0.0     0.0      0.0          0.0  0.0     0.0  0.0  0.0  0.0  0.0  ...   \n",
       "72  0.0     0.0      0.0          0.0  0.0     0.0  0.0  0.0  0.0  0.0  ...   \n",
       "73  0.0     0.0      0.0          0.0  0.0     0.0  0.0  0.0  0.0  0.0  ...   \n",
       "74  0.0     0.0      0.0          0.0  0.0     0.0  0.0  0.0  0.0  0.0  ...   \n",
       "\n",
       "    เสมอ  เหมือน  เหมือนเคย  เหมือนเดิม  เอาไว้  แผ่น   ใจ   ใด  ไกลตา  ไหม  \n",
       "0    0.0     0.0        0.0         0.0     0.0   0.0  0.0  0.0    0.0  0.0  \n",
       "1    0.0     0.0        0.0         0.0     0.0   0.0  0.0  0.0    0.0  0.0  \n",
       "2    0.0     0.0        0.0         0.0     0.0   0.0  0.0  1.0    0.0  0.0  \n",
       "3    0.0     0.0        0.0         0.0     0.0   0.0  0.0  0.0    0.0  0.0  \n",
       "4    0.0     0.0        0.0         0.0     0.0   0.0  0.0  0.0    0.0  0.0  \n",
       "..   ...     ...        ...         ...     ...   ...  ...  ...    ...  ...  \n",
       "70   0.0     0.0        0.0         0.0     0.0   0.0  0.0  0.0    0.0  0.0  \n",
       "71   0.0     0.0        0.0         0.0     0.0   0.0  1.0  0.0    0.0  0.0  \n",
       "72   0.0     1.0        0.0         0.0     0.0   0.0  0.0  0.0    0.0  0.0  \n",
       "73   0.0     0.0        0.0         0.0     0.0   0.0  0.0  0.0    0.0  0.0  \n",
       "74   0.0     0.0        0.0         0.0     0.0   0.0  0.0  0.0    0.0  0.0  \n",
       "\n",
       "[75 rows x 43 columns]"
      ]
     },
     "execution_count": 372,
     "metadata": {},
     "output_type": "execute_result"
    }
   ],
   "source": [
    "tfidf_array = np.array(t_feat.todense())\n",
    "\n",
    "#แปลงเป็น DataFrame เพื่อง่ายแก่การอ่าน\n",
    "df = pd.DataFrame(tfidf_array,columns=tvec.get_feature_names())\n",
    "df"
   ]
  },
  {
   "cell_type": "code",
   "execution_count": 364,
   "metadata": {},
   "outputs": [
    {
     "data": {
      "text/plain": [
       "(75, 43)"
      ]
     },
     "execution_count": 364,
     "metadata": {},
     "output_type": "execute_result"
    }
   ],
   "source": [
    "tfidf_array.shape"
   ]
  },
  {
   "cell_type": "code",
   "execution_count": 367,
   "metadata": {},
   "outputs": [
    {
     "name": "stdout",
     "output_type": "stream",
     "text": [
      "43 43\n"
     ]
    }
   ],
   "source": [
    "print(len(tvec.idf_),len(tvec.vocabulary_))"
   ]
  },
  {
   "cell_type": "code",
   "execution_count": 368,
   "metadata": {},
   "outputs": [
    {
     "data": {
      "text/plain": [
       "['ดึกดื่น',\n",
       " 'คืน',\n",
       " 'ใด',\n",
       " 'ฟ้า',\n",
       " 'เดือน',\n",
       " 'เจอะ',\n",
       " 'เจอกัน',\n",
       " 'รู้',\n",
       " 'หาย',\n",
       " 'หมอก',\n",
       " 'ฉาก',\n",
       " 'แผ่น',\n",
       " 'ฟ้า',\n",
       " 'บัง',\n",
       " 'เอาไว้',\n",
       " 'ความห่างไกล',\n",
       " 'มองไม่เห็น',\n",
       " 'รู้',\n",
       " 'ส่องแสง',\n",
       " 'ฉาย',\n",
       " 'ลงมา',\n",
       " 'ห่างหาย',\n",
       " 'ค่ำ',\n",
       " 'คืนนี้',\n",
       " 'เมฆหมอก',\n",
       " 'บัง',\n",
       " 'รู้',\n",
       " 'เดือน',\n",
       " 'เต็มดวง',\n",
       " 'ห่าง',\n",
       " 'เหมือนเคย',\n",
       " 'เจอะกัน',\n",
       " 'รู้',\n",
       " 'ไหม',\n",
       " 'หาย',\n",
       " 'ไกลตา',\n",
       " 'แผ่น',\n",
       " 'ฟ้า',\n",
       " 'บัง',\n",
       " 'ห่วงใย',\n",
       " 'เหมือนเดิม',\n",
       " 'เสมอ',\n",
       " 'รู้',\n",
       " 'เปลี่ยนไป',\n",
       " 'รัก',\n",
       " 'ถึงกัน',\n",
       " 'เสมอ',\n",
       " 'ค่ำ',\n",
       " 'คืนนี้',\n",
       " 'เจอะ',\n",
       " 'เจอ',\n",
       " 'รู้',\n",
       " 'คงเดิม',\n",
       " 'รู้',\n",
       " 'เปลี่ยนไป',\n",
       " 'รัก',\n",
       " 'ถึงกัน',\n",
       " 'เสมอ',\n",
       " 'ค่ำ',\n",
       " 'คืนนี้',\n",
       " 'เจอ',\n",
       " 'กาย',\n",
       " 'รู้',\n",
       " 'เปลี่ยนไป',\n",
       " 'ความรัก',\n",
       " 'ใจ',\n",
       " 'เหมือน',\n",
       " 'พระจันทร์',\n",
       " 'ดวง',\n",
       " 'เต็มดวง',\n",
       " 'ความรัก',\n",
       " 'ใจ',\n",
       " 'เหมือน',\n",
       " 'เดือน',\n",
       " 'เปลี่ยนไป']"
      ]
     },
     "execution_count": 368,
     "metadata": {},
     "output_type": "execute_result"
    }
   ],
   "source": [
    "song_df['words'][0]"
   ]
  },
  {
   "cell_type": "code",
   "execution_count": 301,
   "metadata": {},
   "outputs": [],
   "source": [
    "from sklearn.feature_extraction.text import TfidfVectorizer"
   ]
  },
  {
   "cell_type": "code",
   "execution_count": null,
   "metadata": {},
   "outputs": [],
   "source": [
    "tfidf_vectorizer = TfidfVectorizer(analyzer = 'word')\n",
    "#สุ่มช่วงของ 5 เอกสารที่ติดกันมาทดลองใช้งาน\n",
    "tfidf_vector= tfidf_vectorizer.fit_transform(docs[637:642])\n",
    "tfidf_array = np.array(tfidf_vector.todense())\n",
    "\n",
    "#แปลงเป็น DataFrame เพื่อง่ายแก่การอ่าน\n",
    "df = pd.DataFrame(tfidf_array,columns=tfidf_vectorizer.get_feature_names())\n",
    "df"
   ]
  },
  {
   "cell_type": "code",
   "execution_count": 304,
   "metadata": {},
   "outputs": [],
   "source": [
    "from sklearn.feature_extraction.text import TfidfVectorizer\n",
    "tvec = TfidfVectorizer(analyzer=lambda x:x.split(','),)\n",
    "t_feat = tvec.fit_transform(tokens_list_j)"
   ]
  }
 ],
 "metadata": {
  "interpreter": {
   "hash": "f6dbfcbd98b0ac394f24d96bedfb0bb0156c4fd54eb61167ff2e8fedb4cd16de"
  },
  "kernelspec": {
   "display_name": "Python 3.9.7 ('base')",
   "language": "python",
   "name": "python3"
  },
  "language_info": {
   "codemirror_mode": {
    "name": "ipython",
    "version": 3
   },
   "file_extension": ".py",
   "mimetype": "text/x-python",
   "name": "python",
   "nbconvert_exporter": "python",
   "pygments_lexer": "ipython3",
   "version": "3.7.13"
  },
  "orig_nbformat": 4
 },
 "nbformat": 4,
 "nbformat_minor": 2
}
