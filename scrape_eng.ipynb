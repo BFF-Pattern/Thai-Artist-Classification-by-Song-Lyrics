{
  "cells": [
    {
      "cell_type": "code",
      "execution_count": 1,
      "metadata": {
        "id": "vseAqb8nO6Nb"
      },
      "outputs": [],
      "source": [
        "import requests\n",
        "import pandas as pd\n",
        "import numpy as np\n",
        "from bs4 import BeautifulSoup\n",
        "from bs4.element import Tag\n",
        "from IPython.core.display import HTML\n",
        "from tqdm import tqdm\n",
        "import string"
      ]
    },
    {
      "cell_type": "code",
      "execution_count": 2,
      "metadata": {
        "id": "vSnZRiHqw3hm"
      },
      "outputs": [],
      "source": [
        "baseurl = 'https://www.lyricsfreak.com'"
      ]
    },
    {
      "cell_type": "code",
      "execution_count": 3,
      "metadata": {
        "id": "fCtUD1ZaxGS7"
      },
      "outputs": [],
      "source": [
        "def getLyric(href):\n",
        "  url = f'{baseurl}{href}'\n",
        "  page = requests.get(url)\n",
        "  html = page.text\n",
        "  soup = BeautifulSoup(html, \"lxml\")\n",
        "  text_div = soup.find(attrs={'class': 'lyrictxt js-lyrics js-share-text-content'})\n",
        "  if text_div and text_div.get_text():\n",
        "    return text_div.get_text().strip()\n",
        "  return"
      ]
    },
    {
      "cell_type": "code",
      "execution_count": 4,
      "metadata": {
        "id": "UQE0hJgoV7XL"
      },
      "outputs": [],
      "source": [
        "def getArtistLyrics(href):\n",
        "  url = f'{baseurl}{href}'\n",
        "  page = requests.get(url)\n",
        "  html = page.text\n",
        "  soup = BeautifulSoup(html, \"lxml\")\n",
        "  songs = {'song':[], 'link':[], 'text':[]}\n",
        "  for tag in soup.find_all(attrs={'class': 'lf-link lf-link--primary'}):\n",
        "    song_name = tag.string.split('Lyrics')[0].strip()\n",
        "    song_href = tag['href']\n",
        "    lyric = getLyric(song_href)\n",
        "    songs['song'].append(song_name)\n",
        "    songs['link'].append(song_href)\n",
        "    songs['text'].append(lyric)\n",
        "  return songs"
      ]
    },
    {
      "cell_type": "code",
      "execution_count": 5,
      "metadata": {
        "id": "3kAh9Rz5TJOM"
      },
      "outputs": [],
      "source": [
        "def getSongsByArtistTop(top):\n",
        "  url = f'{baseurl}/{top}_top.html'\n",
        "  page = requests.get(url)\n",
        "  html = page.text\n",
        "  soup = BeautifulSoup(html, \"lxml\")\n",
        "  all_df = pd.DataFrame()\n",
        "  for tag in tqdm(soup.find_all(attrs={'class': 'lf-link lf-link--secondary'})):\n",
        "    artist = tag.string.strip()\n",
        "    href = tag['href']\n",
        "    mapper = getArtistLyrics(href)\n",
        "    current_df = pd.DataFrame(mapper)\n",
        "    current_df['artist'] = artist\n",
        "    current_df = current_df.reindex(columns=['artist', 'song', 'link', 'text'])\n",
        "    all_df = pd.concat([all_df, current_df], ignore_index = True, axis = 0)\n",
        "    all_df.to_csv(f'./engsongs_scrape_by_alphabets/{top}_artists.csv', index=False)\n",
        "  return all_df"
      ]
    },
    {
      "cell_type": "code",
      "execution_count": 6,
      "metadata": {
        "colab": {
          "base_uri": "https://localhost:8080/"
        },
        "id": "DIMqas248dpi",
        "outputId": "6a96f6e7-d993-4323-8f61-085c16219526"
      },
      "outputs": [
        {
          "name": "stderr",
          "output_type": "stream",
          "text": [
            "  0%|          | 0/30 [00:00<?, ?it/s]"
          ]
        }
      ],
      "source": [
        "for top in ['g']:\n",
        "  songs = getSongsByArtistTop(top)\n",
        "  print(songs.head())"
      ]
    },
    {
      "cell_type": "code",
      "execution_count": null,
      "metadata": {
        "id": "ZBlEO_a68zlZ"
      },
      "outputs": [],
      "source": [
        "for x in ['c', 'd', 'e', 'f', 'g']"
      ]
    }
  ],
  "metadata": {
    "colab": {
      "collapsed_sections": [],
      "name": "scrape_eng.ipynb",
      "provenance": []
    },
    "kernelspec": {
      "display_name": "Python 3",
      "name": "python3"
    },
    "language_info": {
      "codemirror_mode": {
        "name": "ipython",
        "version": 3
      },
      "file_extension": ".py",
      "mimetype": "text/x-python",
      "name": "python",
      "nbconvert_exporter": "python",
      "pygments_lexer": "ipython3",
      "version": "3.9.7"
    }
  },
  "nbformat": 4,
  "nbformat_minor": 0
}
