{
  "cells": [
    {
      "cell_type": "code",
      "execution_count": 102,
      "metadata": {
        "id": "Ll6XXsSbEZQM"
      },
      "outputs": [],
      "source": [
        "import requests\n",
        "import pandas as pd\n",
        "import numpy as np\n",
        "from bs4 import BeautifulSoup\n",
        "from bs4.element import Tag\n",
        "from IPython.core.display import HTML\n",
        "from tqdm import tqdm"
      ]
    },
    {
      "cell_type": "code",
      "execution_count": 103,
      "metadata": {
        "id": "u0sl16soMblJ"
      },
      "outputs": [],
      "source": [
        "def getLyrics(url):\n",
        "  page = requests.get(url)\n",
        "  html = page.text\n",
        "  soup = BeautifulSoup(html, \"lxml\")\n",
        "  lyrics = soup.find(attrs={'class': 'has-text-centered-mobile is-size-5-desktop'}).find(attrs={'style':'margin-bottom: 1rem;'})\n",
        "  lyrics = str(lyrics)\n",
        "  a = f'<a href=\"{url}\" style=\"color: inherit; text-decoration: inherit; cursor: inherit;\">'\n",
        "  lyrics = lyrics.replace(a, '')\n",
        "  lyrics = lyrics[34:].replace('<br/>','')\n",
        "  lyrics = lyrics.replace('</a>', '')\n",
        "  lyrics = lyrics.replace('\\t','')\n",
        "  lyrics = lyrics.replace('</div>','')\n",
        "  lyrics = lyrics.replace('\\r','')\n",
        "  return lyrics.strip()"
      ]
    },
    {
      "cell_type": "code",
      "execution_count": 104,
      "metadata": {
        "id": "N6A29dB6QgOs"
      },
      "outputs": [],
      "source": [
        "def getSongNameAndHref(url):\n",
        "  page = requests.get(url)\n",
        "  html = page.text\n",
        "  soup = BeautifulSoup(html, \"lxml\")\n",
        "  song_list = []\n",
        "  href_list = []\n",
        "  for item in soup.find_all(attrs={'class':'uk-link'}):\n",
        "    song_list.append(item['title'].split('เนื้อเพลง ')[1])\n",
        "    href_list.append(item['href'])\n",
        "  mapper = {\n",
        "      'song_name': song_list,\n",
        "      'href': href_list\n",
        "  }\n",
        "  result = pd.DataFrame(data=mapper)\n",
        "  return result"
      ]
    },
    {
      "cell_type": "code",
      "execution_count": 105,
      "metadata": {},
      "outputs": [],
      "source": [
        "ArtistURL_df = pd.read_csv('ArtistURL.csv',names=['artist_name', 'url'], skiprows=1)"
      ]
    },
    {
      "cell_type": "code",
      "execution_count": 106,
      "metadata": {},
      "outputs": [],
      "source": [
        "def scrapeArtistLyrics(artist_name, url):\n",
        "  df = getSongNameAndHref(url)\n",
        "  lyrics_list = []\n",
        "  for href in df['href']:\n",
        "    lyrics_list.append(getLyrics(f'https://www.siamzone.com{href}'))\n",
        "  df['lyric'] = lyrics_list\n",
        "  df['artist'] = artist_name\n",
        "  return df"
      ]
    },
    {
      "cell_type": "code",
      "execution_count": 107,
      "metadata": {},
      "outputs": [],
      "source": [
        "def saveArtistDF(df):\n",
        "    df.to_csv(f\"./thaisongs/{df['artist'][0]}.csv\", index=False)"
      ]
    },
    {
      "cell_type": "code",
      "execution_count": 108,
      "metadata": {
        "id": "6yNq6bH-YxdL"
      },
      "outputs": [
        {
          "name": "stdout",
          "output_type": "stream",
          "text": [
            "0 bodyslam\n",
            "1 da_endorphine\n",
            "2 bowkylion\n",
            "3 tilly_birds\n",
            "4 the_parkinson\n",
            "5 dome_jaruwat\n",
            "6 the_toys\n",
            "7 urboytj\n",
            "8 violette_wautier\n",
            "9 lula\n",
            "10 num_kala\n",
            "11 blackhead\n",
            "12 groove_riders\n",
            "13 gavin_d\n",
            "14 kong_saharat\n",
            "15 gam_wichayanee\n",
            "16 klear\n",
            "17 chilling_Sunday\n",
            "18 zani\n",
            "19 safeplanet\n",
            "20 zom_marie\n",
            "21 d2b\n",
            "22 singto_numchok\n",
            "23 non_tanont\n",
            "24 etc\n",
            "25 bie_sukrit\n",
            "26 getsunova\n",
            "27 three_man_down\n",
            "28 rose_sirinthip\n",
            "29 dan_worrawech\n"
          ]
        }
      ],
      "source": [
        "for index, row in ArtistURL_df.iterrows():\n",
        "    print(index, row['artist_name'])\n",
        "    one_artist_df = scrapeArtistLyrics(row['artist_name'], row['url'])\n",
        "    saveArtistDF(one_artist_df)"
      ]
    },
    {
      "cell_type": "code",
      "execution_count": null,
      "metadata": {},
      "outputs": [],
      "source": []
    }
  ],
  "metadata": {
    "colab": {
      "name": "Untitled0.ipynb",
      "provenance": []
    },
    "kernelspec": {
      "display_name": "Python 3",
      "name": "python3"
    },
    "language_info": {
      "codemirror_mode": {
        "name": "ipython",
        "version": 3
      },
      "file_extension": ".py",
      "mimetype": "text/x-python",
      "name": "python",
      "nbconvert_exporter": "python",
      "pygments_lexer": "ipython3",
      "version": "3.7.13"
    }
  },
  "nbformat": 4,
  "nbformat_minor": 0
}
