{
  "cells": [
    {
      "cell_type": "code",
      "execution_count": 1,
      "metadata": {
        "id": "Ll6XXsSbEZQM"
      },
      "outputs": [],
      "source": [
        "import requests\n",
        "import pandas as pd\n",
        "import numpy as np\n",
        "from bs4 import BeautifulSoup\n",
        "from bs4.element import Tag\n",
        "from IPython.core.display import HTML\n",
        "from tqdm import tqdm"
      ]
    },
    {
      "cell_type": "code",
      "execution_count": 2,
      "metadata": {
        "id": "u0sl16soMblJ"
      },
      "outputs": [],
      "source": [
        "def getLyrics(url):\n",
        "  page = requests.get(url)\n",
        "  html = page.text\n",
        "  soup = BeautifulSoup(html, \"lxml\")\n",
        "  lyrics = soup.find(attrs={'class': 'has-text-centered-mobile is-size-5-desktop'}).find(attrs={'style':'margin-bottom: 1rem;'})\n",
        "  lyrics = str(lyrics)\n",
        "  a = f'<a href=\"{url}\" style=\"color: inherit; text-decoration: inherit; cursor: inherit;\">'\n",
        "  lyrics = lyrics.replace(a, '')\n",
        "  lyrics = lyrics[34:].replace('<br/>','')\n",
        "  lyrics = lyrics.replace('</a>', '')\n",
        "  lyrics = lyrics.replace('\\t','')\n",
        "  lyrics = lyrics.replace('</div>','')\n",
        "  lyrics = lyrics.replace('\\r','')\n",
        "  return lyrics.strip()"
      ]
    },
    {
      "cell_type": "code",
      "execution_count": 3,
      "metadata": {
        "id": "N6A29dB6QgOs"
      },
      "outputs": [],
      "source": [
        "def getSongNameAndHref(url):\n",
        "  page = requests.get(url)\n",
        "  html = page.text\n",
        "  soup = BeautifulSoup(html, \"lxml\")\n",
        "  song_list = []\n",
        "  href_list = []\n",
        "  for item in soup.find_all(attrs={'class':'uk-link'}):\n",
        "    song_list.append(item['title'].split('เนื้อเพลง ')[1])\n",
        "    href_list.append(item['href'])\n",
        "  mapper = {\n",
        "      'song_name': song_list,\n",
        "      'href': href_list\n",
        "  }\n",
        "  result = pd.DataFrame(data=mapper)\n",
        "  return result"
      ]
    },
    {
      "cell_type": "code",
      "execution_count": 4,
      "metadata": {},
      "outputs": [],
      "source": [
        "ArtistURL_df = pd.read_csv('ArtistURL.csv',names=['artist_name', 'url'], skiprows=1)"
      ]
    },
    {
      "cell_type": "code",
      "execution_count": 5,
      "metadata": {},
      "outputs": [],
      "source": [
        "def scrapeArtistLyrics(artist_name, url):\n",
        "  df = getSongNameAndHref(url)\n",
        "  lyrics_list = []\n",
        "  for href in df['href']:\n",
        "    lyrics_list.append(getLyrics(f'https://www.siamzone.com{href}'))\n",
        "  df['lyric'] = lyrics_list\n",
        "  df['artist'] = artist_name\n",
        "  return df"
      ]
    },
    {
      "cell_type": "code",
      "execution_count": 6,
      "metadata": {},
      "outputs": [],
      "source": [
        "def saveArtistDF(df):\n",
        "    df.to_csv(f\"./thaisongs/{df['artist'][0]}.csv\", index=False)"
      ]
    },
    {
      "cell_type": "code",
      "execution_count": 7,
      "metadata": {
        "id": "6yNq6bH-YxdL"
      },
      "outputs": [
        {
          "name": "stdout",
          "output_type": "stream",
          "text": [
            "0 groove_riders\n",
            "1 gavin_d\n",
            "2 kong_saharat\n",
            "3 kratae_rsiam\n",
            "4 gun_napat\n",
            "5 golf_mike\n",
            "6 ging_muanpair\n",
            "7 keng_tachaya\n",
            "8 grand_panwarat\n",
            "9 gam_wichayanee\n",
            "10 getsunova\n",
            "11 carabao\n",
            "12 kidnappers\n",
            "13 creshendo\n",
            "14 katreeya_english\n",
            "15 calories_blah_blah\n",
            "16 klear\n",
            "17 chilling_Sunday\n",
            "18 christina_aguilar\n",
            "19 jaonaay\n",
            "20 jak_chawin\n",
            "21 jack_jarupong\n",
            "22 janey_suwannaket\n",
            "23 james_ruangsak\n",
            "24 jennifer_kim\n",
            "25 jintara_poonlarb\n",
            "26 gene_kasidit\n",
            "27 j_jetrin\n",
            "28 jazz_sputnix_papiyong_kookkook\n",
            "29 joey_boy\n",
            "30 chart_suchart\n",
            "31 chin_chinawut\n",
            "32 zaza\n",
            "33 summer_stop\n",
            "34 sin_singular\n",
            "35 silly_fools\n",
            "36 season_five\n",
            "37 cd_guntee\n",
            "38 serious_bacon\n",
            "39 zani\n",
            "40 safeplanet\n",
            "41 zom_marie\n",
            "42 7_days_crazy\n",
            "43 zak_chumpae\n",
            "44 singto_numchok\n",
            "45 dr_fuu\n",
            "46 da_endorphine\n",
            "47 dunk_phunkorn\n",
            "48 dek_liang_kwai\n",
            "49 dew_arunpong\n",
            "50 the_bottom_blues\n",
            "51 the_parkinson\n",
            "52 the_mousses\n",
            "53 the_richman_toy\n",
            "54 the_rube\n",
            "55 the_toys\n",
            "56 dax_rockrider\n",
            "57 dan_beam\n",
            "58 dan_worrawech\n",
            "59 d2b\n",
            "60 dome_jaruwat\n",
            "61 dome_pakorn_lam\n",
            "62 tree_chainarong\n",
            "63 tong_pukkaramai\n",
            "64 tong_wattana\n",
            "65 takkatan_chollada\n",
            "66 tang_bad_voice\n",
            "67 tai_orathai\n",
            "68 tik_shiro\n",
            "69 two_popetorn\n",
            "70 ten_nararak\n",
            "71 toey_apiwat\n",
            "72 tao_pusin\n",
            "73 tao_sattaphong\n",
            "74 tor_saksit\n",
            "75 tono_phakhin\n",
            "76 three_man_down\n",
            "77 25_hours\n",
            "78 tilly_birds\n",
            "79 lazyloxy\n",
            "80 tom_isara\n",
            "81 touch_na_takuathung\n",
            "82 tata_young\n",
            "83 telex_telex\n",
            "84 tattoo_colour\n",
            "85 tony_phee\n",
            "86 tai_tanawut\n",
            "87 taitosamitH\n",
            "88 thaitanium\n",
            "89 triumphs_kingdom\n",
            "90 tanya_rsiam\n",
            "91 timethai\n",
            "92 nont_tanont\n",
            "93 note_panayanggool\n",
            "94 nop_ponchamni\n",
            "95 natthew\n",
            "96 nat_sakdatorn\n",
            "97 nut_meria\n",
            "98 nantida_kaewbuasai\n",
            "99 namcha_sheranut\n",
            "100 nicole_theriault\n",
            "101 new_jiew\n",
            "102 nuch_wilawan_rsiam\n",
            "103 neko_jump\n",
            "104 nuvo\n",
            "105 name_surapong\n",
            "106 noey_senorita\n",
            "107 nan_vatiya\n",
            "108 no_more_tear\n",
            "109 no_one_elses\n",
            "110 nap_a_lean\n",
            "111 nologo\n",
            "112 nicecnx\n",
            "113 b_ble_300\n",
            "114 blue_shade\n",
            "115 boyd_kosiyabong\n",
            "116 boy_trai_bhumiratna\n",
            "117 boy_pisanu\n",
            "118 boy_peacemaker\n",
            "119 buachompoo_ford\n",
            "120 bao_wee_rsiam\n",
            "121 big_ass\n",
            "122 billkin\n",
            "123 etc\n",
            "124 bie_sukrit\n",
            "125 rose_sirinthip\n",
            "126 bodyslam\n",
            "127 bowkylion\n",
            "128 urboytj\n",
            "129 lula\n",
            "130 num_kala\n",
            "131 blackhead\n"
          ]
        }
      ],
      "source": [
        "for index, row in ArtistURL_df.iterrows():\n",
        "    print(index, row['artist_name'])\n",
        "    one_artist_df = scrapeArtistLyrics(row['artist_name'], row['url'])\n",
        "    saveArtistDF(one_artist_df)"
      ]
    },
    {
      "cell_type": "code",
      "execution_count": null,
      "metadata": {},
      "outputs": [],
      "source": []
    }
  ],
  "metadata": {
    "colab": {
      "name": "Untitled0.ipynb",
      "provenance": []
    },
    "kernelspec": {
      "display_name": "Python 3",
      "name": "python3"
    },
    "language_info": {
      "codemirror_mode": {
        "name": "ipython",
        "version": 3
      },
      "file_extension": ".py",
      "mimetype": "text/x-python",
      "name": "python",
      "nbconvert_exporter": "python",
      "pygments_lexer": "ipython3",
      "version": "3.7.13"
    }
  },
  "nbformat": 4,
  "nbformat_minor": 0
}
