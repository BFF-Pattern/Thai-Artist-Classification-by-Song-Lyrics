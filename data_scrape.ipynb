{
  "cells": [
    {
      "cell_type": "code",
      "execution_count": 22,
      "metadata": {
        "id": "Ll6XXsSbEZQM"
      },
      "outputs": [],
      "source": [
        "import requests\n",
        "import pandas as pd\n",
        "import numpy as np\n",
        "from bs4 import BeautifulSoup\n",
        "from bs4.element import Tag\n",
        "from IPython.core.display import HTML"
      ]
    },
    {
      "cell_type": "code",
      "execution_count": 23,
      "metadata": {
        "id": "eFJCpTHbEivh"
      },
      "outputs": [],
      "source": [
        "url = 'https://www.siamzone.com/music/thailyric/2661'"
      ]
    },
    {
      "cell_type": "code",
      "execution_count": 24,
      "metadata": {
        "id": "Olyq0J-TEzI-"
      },
      "outputs": [],
      "source": [
        "page = requests.get(url)\n",
        "html = page.text"
      ]
    },
    {
      "cell_type": "code",
      "execution_count": 25,
      "metadata": {
        "id": "TgwtOExJE13u"
      },
      "outputs": [],
      "source": [
        "soup = BeautifulSoup(html, \"lxml\")"
      ]
    },
    {
      "cell_type": "code",
      "execution_count": 26,
      "metadata": {
        "id": "u0sl16soMblJ"
      },
      "outputs": [],
      "source": [
        "def getLyrics(url):\n",
        "  page = requests.get(url)\n",
        "  html = page.text\n",
        "  soup = BeautifulSoup(html, \"lxml\")\n",
        "  lyrics = soup.find(attrs={'class': 'has-text-centered-mobile is-size-5-desktop'}).find(attrs={'style':'margin-bottom: 1rem;'})\n",
        "  lyrics = str(lyrics)\n",
        "  a = f'<a href=\"{url}\" style=\"color: inherit; text-decoration: inherit; cursor: inherit;\">'\n",
        "  lyrics = lyrics.replace(a, '')\n",
        "  lyrics = lyrics[34:].replace('<br/>','')\n",
        "  lyrics = lyrics.replace('</a>', '')\n",
        "  lyrics = lyrics.replace('\\t','')\n",
        "  lyrics = lyrics.replace('</div>','')\n",
        "  lyrics = lyrics.replace('\\r','')\n",
        "  return lyrics.strip()"
      ]
    },
    {
      "cell_type": "code",
      "execution_count": 27,
      "metadata": {
        "id": "N6A29dB6QgOs"
      },
      "outputs": [],
      "source": [
        "def getSongNameAndHref(url):\n",
        "  page = requests.get(url)\n",
        "  html = page.text\n",
        "  soup = BeautifulSoup(html, \"lxml\")\n",
        "  song_list = []\n",
        "  href_list = []\n",
        "  for item in soup.find_all(attrs={'class':'uk-link'}):\n",
        "    song_list.append(item['title'].split('เนื้อเพลง ')[1])\n",
        "    href_list.append(item['href'])\n",
        "  mapper = {\n",
        "      'song_name': song_list,\n",
        "      'href': href_list\n",
        "  }\n",
        "  result = pd.DataFrame(data=mapper)\n",
        "  return result"
      ]
    },
    {
      "cell_type": "code",
      "execution_count": 28,
      "metadata": {
        "id": "2cSQFc-iYgHO"
      },
      "outputs": [],
      "source": [
        "artist_list = []"
      ]
    },
    {
      "cell_type": "code",
      "execution_count": 29,
      "metadata": {
        "id": "Uzm7Lq_hSfgN"
      },
      "outputs": [
        {
          "data": {
            "text/html": [
              "<div>\n",
              "<style scoped>\n",
              "    .dataframe tbody tr th:only-of-type {\n",
              "        vertical-align: middle;\n",
              "    }\n",
              "\n",
              "    .dataframe tbody tr th {\n",
              "        vertical-align: top;\n",
              "    }\n",
              "\n",
              "    .dataframe thead th {\n",
              "        text-align: right;\n",
              "    }\n",
              "</style>\n",
              "<table border=\"1\" class=\"dataframe\">\n",
              "  <thead>\n",
              "    <tr style=\"text-align: right;\">\n",
              "      <th></th>\n",
              "      <th>song_name</th>\n",
              "      <th>href</th>\n",
              "      <th>lyric</th>\n",
              "    </tr>\n",
              "  </thead>\n",
              "  <tbody>\n",
              "    <tr>\n",
              "      <th>0</th>\n",
              "      <td>อะ ไนท์ (A Night)</td>\n",
              "      <td>/music/thailyric/2681</td>\n",
              "      <td>ดึกดื่นคืนใด มองฟ้าไม่เห็นจันทร์ ไม่เจอะเจอกัน...</td>\n",
              "    </tr>\n",
              "    <tr>\n",
              "      <th>1</th>\n",
              "      <td>ขอบฟ้า</td>\n",
              "      <td>/music/thailyric/2640</td>\n",
              "      <td>ได้แต่เหลียวมองไปสุดฟ้าไกล\\nมันช่างน่าเสียดายท...</td>\n",
              "    </tr>\n",
              "    <tr>\n",
              "      <th>2</th>\n",
              "      <td>คนที่ถูกรัก</td>\n",
              "      <td>/music/thailyric/2641</td>\n",
              "      <td>ใจ ฉันเคยถูกทิ้งเพียงลำพัง รักใครมาแล้วตั้งกี่...</td>\n",
              "    </tr>\n",
              "    <tr>\n",
              "      <th>3</th>\n",
              "      <td>ความเชื่อ</td>\n",
              "      <td>/music/thailyric/2644</td>\n",
              "      <td>มันเกือบจะล้มมันเหนื่อยมันล้าเหมือนแทบขาดใจ\\nเ...</td>\n",
              "    </tr>\n",
              "    <tr>\n",
              "      <th>4</th>\n",
              "      <td>ความรักทำให้คนตาบอด</td>\n",
              "      <td>/music/thailyric/2647</td>\n",
              "      <td>รู้ว่ามันไม่สมควร ที่ยังกวนใจเธอ ฉันขอโทษที\\nร...</td>\n",
              "    </tr>\n",
              "    <tr>\n",
              "      <th>...</th>\n",
              "      <td>...</td>\n",
              "      <td>...</td>\n",
              "      <td>...</td>\n",
              "    </tr>\n",
              "    <tr>\n",
              "      <th>61</th>\n",
              "      <td>ปลิดปลิว</td>\n",
              "      <td>/music/thailyric/10956</td>\n",
              "      <td>จนวันนี้ยังเจ็บปวดยังต้องเสียน้ำตา\\nยังดูเหมือ...</td>\n",
              "    </tr>\n",
              "    <tr>\n",
              "      <th>62</th>\n",
              "      <td>ไม่เข้าท่า</td>\n",
              "      <td>/music/thailyric/18827</td>\n",
              "      <td>อาจคล้ายดังคนลอยชาย  ดูช่างไร้จุดหมาย\\nโดนเตือ...</td>\n",
              "    </tr>\n",
              "    <tr>\n",
              "      <th>63</th>\n",
              "      <td>เวลาเท่านั้น</td>\n",
              "      <td>/music/thailyric/10657</td>\n",
              "      <td>คล้าย คล้ายดั่งคนสับสนหนทาง\\nเส้นทางเดินวันนี้...</td>\n",
              "    </tr>\n",
              "    <tr>\n",
              "      <th>64</th>\n",
              "      <td>หากเราไม่คิดมอง (Til Everyone Can See)</td>\n",
              "      <td>/music/thailyric/10602</td>\n",
              "      <td>มองออกมาจากทิศนั้น มองเข้าไปจากทิศนี้ ขวางด้วย...</td>\n",
              "    </tr>\n",
              "    <tr>\n",
              "      <th>65</th>\n",
              "      <td>ให้รักพาเราสองคนไปด้วยกัน</td>\n",
              "      <td>/music/thailyric/2679</td>\n",
              "      <td>ยอมทำ ทำทุกทางเพื่อจะได้พบเธอ  สักวัน \\nตามไปไ...</td>\n",
              "    </tr>\n",
              "  </tbody>\n",
              "</table>\n",
              "<p>66 rows × 3 columns</p>\n",
              "</div>"
            ],
            "text/plain": [
              "                                 song_name                    href  \\\n",
              "0                        อะ ไนท์ (A Night)   /music/thailyric/2681   \n",
              "1                                   ขอบฟ้า   /music/thailyric/2640   \n",
              "2                              คนที่ถูกรัก   /music/thailyric/2641   \n",
              "3                                ความเชื่อ   /music/thailyric/2644   \n",
              "4                      ความรักทำให้คนตาบอด   /music/thailyric/2647   \n",
              "..                                     ...                     ...   \n",
              "61                                ปลิดปลิว  /music/thailyric/10956   \n",
              "62                              ไม่เข้าท่า  /music/thailyric/18827   \n",
              "63                            เวลาเท่านั้น  /music/thailyric/10657   \n",
              "64  หากเราไม่คิดมอง (Til Everyone Can See)  /music/thailyric/10602   \n",
              "65               ให้รักพาเราสองคนไปด้วยกัน   /music/thailyric/2679   \n",
              "\n",
              "                                                lyric  \n",
              "0   ดึกดื่นคืนใด มองฟ้าไม่เห็นจันทร์ ไม่เจอะเจอกัน...  \n",
              "1   ได้แต่เหลียวมองไปสุดฟ้าไกล\\nมันช่างน่าเสียดายท...  \n",
              "2   ใจ ฉันเคยถูกทิ้งเพียงลำพัง รักใครมาแล้วตั้งกี่...  \n",
              "3   มันเกือบจะล้มมันเหนื่อยมันล้าเหมือนแทบขาดใจ\\nเ...  \n",
              "4   รู้ว่ามันไม่สมควร ที่ยังกวนใจเธอ ฉันขอโทษที\\nร...  \n",
              "..                                                ...  \n",
              "61  จนวันนี้ยังเจ็บปวดยังต้องเสียน้ำตา\\nยังดูเหมือ...  \n",
              "62  อาจคล้ายดังคนลอยชาย  ดูช่างไร้จุดหมาย\\nโดนเตือ...  \n",
              "63  คล้าย คล้ายดั่งคนสับสนหนทาง\\nเส้นทางเดินวันนี้...  \n",
              "64  มองออกมาจากทิศนั้น มองเข้าไปจากทิศนี้ ขวางด้วย...  \n",
              "65  ยอมทำ ทำทุกทางเพื่อจะได้พบเธอ  สักวัน \\nตามไปไ...  \n",
              "\n",
              "[66 rows x 3 columns]"
            ]
          },
          "execution_count": 29,
          "metadata": {},
          "output_type": "execute_result"
        }
      ],
      "source": [
        "df = getSongNameAndHref('https://www.siamzone.com/music/thailyric/%E0%B9%80%E0%B8%99%E0%B8%B7%E0%B9%89%E0%B8%AD%E0%B9%80%E0%B8%9E%E0%B8%A5%E0%B8%87-%E0%B8%9A%E0%B8%AD%E0%B8%94%E0%B8%B5%E0%B9%89%E0%B8%AA%E0%B9%81%E0%B8%A5%E0%B8%A1')\n",
        "lyrics_list = []\n",
        "for href in df['href']:\n",
        "  lyrics_list.append(getLyrics(f'https://www.siamzone.com{href}'))\n",
        "df['lyric'] = lyrics_list\n",
        "df"
      ]
    },
    {
      "cell_type": "code",
      "execution_count": 30,
      "metadata": {
        "colab": {
          "base_uri": "https://localhost:8080/",
          "height": 424
        },
        "id": "LbNHHBi6YH1_",
        "outputId": "e424e0b0-51d2-4640-8a5f-1ee57c8f4cef"
      },
      "outputs": [
        {
          "data": {
            "text/html": [
              "<div>\n",
              "<style scoped>\n",
              "    .dataframe tbody tr th:only-of-type {\n",
              "        vertical-align: middle;\n",
              "    }\n",
              "\n",
              "    .dataframe tbody tr th {\n",
              "        vertical-align: top;\n",
              "    }\n",
              "\n",
              "    .dataframe thead th {\n",
              "        text-align: right;\n",
              "    }\n",
              "</style>\n",
              "<table border=\"1\" class=\"dataframe\">\n",
              "  <thead>\n",
              "    <tr style=\"text-align: right;\">\n",
              "      <th></th>\n",
              "      <th>song_name</th>\n",
              "      <th>href</th>\n",
              "      <th>lyric</th>\n",
              "      <th>artist</th>\n",
              "    </tr>\n",
              "  </thead>\n",
              "  <tbody>\n",
              "    <tr>\n",
              "      <th>0</th>\n",
              "      <td>อะ ไนท์ (A Night)</td>\n",
              "      <td>/music/thailyric/2681</td>\n",
              "      <td>ดึกดื่นคืนใด มองฟ้าไม่เห็นจันทร์ ไม่เจอะเจอกัน...</td>\n",
              "      <td>bodyslam</td>\n",
              "    </tr>\n",
              "    <tr>\n",
              "      <th>1</th>\n",
              "      <td>ขอบฟ้า</td>\n",
              "      <td>/music/thailyric/2640</td>\n",
              "      <td>ได้แต่เหลียวมองไปสุดฟ้าไกล\\nมันช่างน่าเสียดายท...</td>\n",
              "      <td>bodyslam</td>\n",
              "    </tr>\n",
              "    <tr>\n",
              "      <th>2</th>\n",
              "      <td>คนที่ถูกรัก</td>\n",
              "      <td>/music/thailyric/2641</td>\n",
              "      <td>ใจ ฉันเคยถูกทิ้งเพียงลำพัง รักใครมาแล้วตั้งกี่...</td>\n",
              "      <td>bodyslam</td>\n",
              "    </tr>\n",
              "    <tr>\n",
              "      <th>3</th>\n",
              "      <td>ความเชื่อ</td>\n",
              "      <td>/music/thailyric/2644</td>\n",
              "      <td>มันเกือบจะล้มมันเหนื่อยมันล้าเหมือนแทบขาดใจ\\nเ...</td>\n",
              "      <td>bodyslam</td>\n",
              "    </tr>\n",
              "    <tr>\n",
              "      <th>4</th>\n",
              "      <td>ความรักทำให้คนตาบอด</td>\n",
              "      <td>/music/thailyric/2647</td>\n",
              "      <td>รู้ว่ามันไม่สมควร ที่ยังกวนใจเธอ ฉันขอโทษที\\nร...</td>\n",
              "      <td>bodyslam</td>\n",
              "    </tr>\n",
              "    <tr>\n",
              "      <th>...</th>\n",
              "      <td>...</td>\n",
              "      <td>...</td>\n",
              "      <td>...</td>\n",
              "      <td>...</td>\n",
              "    </tr>\n",
              "    <tr>\n",
              "      <th>61</th>\n",
              "      <td>ปลิดปลิว</td>\n",
              "      <td>/music/thailyric/10956</td>\n",
              "      <td>จนวันนี้ยังเจ็บปวดยังต้องเสียน้ำตา\\nยังดูเหมือ...</td>\n",
              "      <td>bodyslam</td>\n",
              "    </tr>\n",
              "    <tr>\n",
              "      <th>62</th>\n",
              "      <td>ไม่เข้าท่า</td>\n",
              "      <td>/music/thailyric/18827</td>\n",
              "      <td>อาจคล้ายดังคนลอยชาย  ดูช่างไร้จุดหมาย\\nโดนเตือ...</td>\n",
              "      <td>bodyslam</td>\n",
              "    </tr>\n",
              "    <tr>\n",
              "      <th>63</th>\n",
              "      <td>เวลาเท่านั้น</td>\n",
              "      <td>/music/thailyric/10657</td>\n",
              "      <td>คล้าย คล้ายดั่งคนสับสนหนทาง\\nเส้นทางเดินวันนี้...</td>\n",
              "      <td>bodyslam</td>\n",
              "    </tr>\n",
              "    <tr>\n",
              "      <th>64</th>\n",
              "      <td>หากเราไม่คิดมอง (Til Everyone Can See)</td>\n",
              "      <td>/music/thailyric/10602</td>\n",
              "      <td>มองออกมาจากทิศนั้น มองเข้าไปจากทิศนี้ ขวางด้วย...</td>\n",
              "      <td>bodyslam</td>\n",
              "    </tr>\n",
              "    <tr>\n",
              "      <th>65</th>\n",
              "      <td>ให้รักพาเราสองคนไปด้วยกัน</td>\n",
              "      <td>/music/thailyric/2679</td>\n",
              "      <td>ยอมทำ ทำทุกทางเพื่อจะได้พบเธอ  สักวัน \\nตามไปไ...</td>\n",
              "      <td>bodyslam</td>\n",
              "    </tr>\n",
              "  </tbody>\n",
              "</table>\n",
              "<p>66 rows × 4 columns</p>\n",
              "</div>"
            ],
            "text/plain": [
              "                                 song_name                    href  \\\n",
              "0                        อะ ไนท์ (A Night)   /music/thailyric/2681   \n",
              "1                                   ขอบฟ้า   /music/thailyric/2640   \n",
              "2                              คนที่ถูกรัก   /music/thailyric/2641   \n",
              "3                                ความเชื่อ   /music/thailyric/2644   \n",
              "4                      ความรักทำให้คนตาบอด   /music/thailyric/2647   \n",
              "..                                     ...                     ...   \n",
              "61                                ปลิดปลิว  /music/thailyric/10956   \n",
              "62                              ไม่เข้าท่า  /music/thailyric/18827   \n",
              "63                            เวลาเท่านั้น  /music/thailyric/10657   \n",
              "64  หากเราไม่คิดมอง (Til Everyone Can See)  /music/thailyric/10602   \n",
              "65               ให้รักพาเราสองคนไปด้วยกัน   /music/thailyric/2679   \n",
              "\n",
              "                                                lyric    artist  \n",
              "0   ดึกดื่นคืนใด มองฟ้าไม่เห็นจันทร์ ไม่เจอะเจอกัน...  bodyslam  \n",
              "1   ได้แต่เหลียวมองไปสุดฟ้าไกล\\nมันช่างน่าเสียดายท...  bodyslam  \n",
              "2   ใจ ฉันเคยถูกทิ้งเพียงลำพัง รักใครมาแล้วตั้งกี่...  bodyslam  \n",
              "3   มันเกือบจะล้มมันเหนื่อยมันล้าเหมือนแทบขาดใจ\\nเ...  bodyslam  \n",
              "4   รู้ว่ามันไม่สมควร ที่ยังกวนใจเธอ ฉันขอโทษที\\nร...  bodyslam  \n",
              "..                                                ...       ...  \n",
              "61  จนวันนี้ยังเจ็บปวดยังต้องเสียน้ำตา\\nยังดูเหมือ...  bodyslam  \n",
              "62  อาจคล้ายดังคนลอยชาย  ดูช่างไร้จุดหมาย\\nโดนเตือ...  bodyslam  \n",
              "63  คล้าย คล้ายดั่งคนสับสนหนทาง\\nเส้นทางเดินวันนี้...  bodyslam  \n",
              "64  มองออกมาจากทิศนั้น มองเข้าไปจากทิศนี้ ขวางด้วย...  bodyslam  \n",
              "65  ยอมทำ ทำทุกทางเพื่อจะได้พบเธอ  สักวัน \\nตามไปไ...  bodyslam  \n",
              "\n",
              "[66 rows x 4 columns]"
            ]
          },
          "execution_count": 30,
          "metadata": {},
          "output_type": "execute_result"
        }
      ],
      "source": [
        "df['artist'] = 'bodyslam'\n",
        "df"
      ]
    },
    {
      "cell_type": "code",
      "execution_count": 32,
      "metadata": {
        "id": "6yNq6bH-YxdL"
      },
      "outputs": [],
      "source": [
        "df.to_csv('./thaisongs/bodyslam.csv', index=False)"
      ]
    },
    {
      "cell_type": "code",
      "execution_count": null,
      "metadata": {
        "id": "6cZRfPzNZfaX"
      },
      "outputs": [],
      "source": []
    }
  ],
  "metadata": {
    "colab": {
      "name": "Untitled0.ipynb",
      "provenance": []
    },
    "kernelspec": {
      "display_name": "Python 3",
      "name": "python3"
    },
    "language_info": {
      "name": "python",
      "version": "3.7.13"
    }
  },
  "nbformat": 4,
  "nbformat_minor": 0
}
